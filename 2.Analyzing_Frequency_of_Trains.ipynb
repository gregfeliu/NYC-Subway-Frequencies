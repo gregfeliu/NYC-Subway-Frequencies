{
 "cells": [
  {
   "cell_type": "markdown",
   "metadata": {},
   "source": [
    "The goal of this notebook is to **use Google's GTFS data to find out how many trains are operating in the NYC Subway at any given time**. Along the way, we will also how frequency changes throughout the train schedule and examine how frequency interacts with ridership numbers."
   ]
  },
  {
   "cell_type": "markdown",
   "metadata": {},
   "source": [
    "[MTA Developer Tools](https://new.mta.info/developers). The google data for the mta should be all that we need. There's weekday, saturday, and sunday service so only need to worry about those times. Additionally, there's data on the buses, LIRR and Metro North in there, too.\n",
    "- [mta metrics dashboard](https://metrics.mta.info/?subway/customerjourneytimeperformance)\n",
    "\n",
    "[time frequency](https://en.wikipedia.org/wiki/List_of_New_York_City_Subway_services#Train_frequency_charts) breakdown"
   ]
  },
  {
   "cell_type": "markdown",
   "metadata": {},
   "source": [
    "Some notes about the results:\n",
    "- the routes change by day of week (for example the M not running its whole route on the weekends)\n",
    "- some routes include service changes (the 7 and 7 express both count as the 7)\n",
    "- this also includes late nights where the routes can change dramatically (e.g.: the 5 train doesn't leave the BX at night)\n",
    "- two routes don't run on the weekends: the B and W"
   ]
  },
  {
   "cell_type": "markdown",
   "metadata": {},
   "source": [
    "# Imports"
   ]
  },
  {
   "cell_type": "code",
   "execution_count": 1,
   "metadata": {
    "ExecuteTime": {
     "end_time": "2024-03-25T21:16:13.834053Z",
     "start_time": "2024-03-25T21:16:11.022780Z"
    }
   },
   "outputs": [
    {
     "name": "stderr",
     "output_type": "stream",
     "text": [
      "In /Users/gregfeliu/opt/anaconda3/envs/learn-env/lib/python3.6/site-packages/matplotlib/mpl-data/stylelib/_classic_test.mplstyle: \n",
      "The text.latex.preview rcparam was deprecated in Matplotlib 3.3 and will be removed two minor releases later.\n",
      "In /Users/gregfeliu/opt/anaconda3/envs/learn-env/lib/python3.6/site-packages/matplotlib/mpl-data/stylelib/_classic_test.mplstyle: \n",
      "The mathtext.fallback_to_cm rcparam was deprecated in Matplotlib 3.3 and will be removed two minor releases later.\n",
      "In /Users/gregfeliu/opt/anaconda3/envs/learn-env/lib/python3.6/site-packages/matplotlib/mpl-data/stylelib/_classic_test.mplstyle: Support for setting the 'mathtext.fallback_to_cm' rcParam is deprecated since 3.3 and will be removed two minor releases later; use 'mathtext.fallback : 'cm' instead.\n",
      "In /Users/gregfeliu/opt/anaconda3/envs/learn-env/lib/python3.6/site-packages/matplotlib/mpl-data/stylelib/_classic_test.mplstyle: \n",
      "The validate_bool_maybe_none function was deprecated in Matplotlib 3.3 and will be removed two minor releases later.\n",
      "In /Users/gregfeliu/opt/anaconda3/envs/learn-env/lib/python3.6/site-packages/matplotlib/mpl-data/stylelib/_classic_test.mplstyle: \n",
      "The savefig.jpeg_quality rcparam was deprecated in Matplotlib 3.3 and will be removed two minor releases later.\n",
      "In /Users/gregfeliu/opt/anaconda3/envs/learn-env/lib/python3.6/site-packages/matplotlib/mpl-data/stylelib/_classic_test.mplstyle: \n",
      "The keymap.all_axes rcparam was deprecated in Matplotlib 3.3 and will be removed two minor releases later.\n",
      "In /Users/gregfeliu/opt/anaconda3/envs/learn-env/lib/python3.6/site-packages/matplotlib/mpl-data/stylelib/_classic_test.mplstyle: \n",
      "The animation.avconv_path rcparam was deprecated in Matplotlib 3.3 and will be removed two minor releases later.\n",
      "In /Users/gregfeliu/opt/anaconda3/envs/learn-env/lib/python3.6/site-packages/matplotlib/mpl-data/stylelib/_classic_test.mplstyle: \n",
      "The animation.avconv_args rcparam was deprecated in Matplotlib 3.3 and will be removed two minor releases later.\n"
     ]
    }
   ],
   "source": [
    "import pandas as pd\n",
    "import numpy as np\n",
    "import geopandas as gpd\n",
    "import seaborn as sns\n",
    "sns.set_theme(style=\"darkgrid\")\n",
    "import warnings\n",
    "warnings.filterwarnings(action='ignore')\n",
    "import folium\n",
    "import matplotlib.pyplot as plt\n",
    "import imageio\n",
    "from PIL import Image"
   ]
  },
  {
   "cell_type": "markdown",
   "metadata": {},
   "source": [
    "## Functions"
   ]
  },
  {
   "cell_type": "code",
   "execution_count": 2,
   "metadata": {
    "ExecuteTime": {
     "end_time": "2024-03-25T21:16:13.843851Z",
     "start_time": "2024-03-25T21:16:13.837717Z"
    },
    "code_folding": [
     0
    ]
   },
   "outputs": [],
   "source": [
    "def x_minute_subway(station_df:pd.DataFrame, minutes:int):\n",
    "    max_distance_meters = 80 * minutes\n",
    "    meters_to_station_in_x_minutes = []\n",
    "    for item in station_df['tph']:\n",
    "        result = max_distance_meters - ((60 / item) * 80)\n",
    "        if result < 0:\n",
    "            result = 0\n",
    "        meters_to_station_in_x_minutes.append(result)\n",
    "    return meters_to_station_in_x_minutes"
   ]
  },
  {
   "cell_type": "markdown",
   "metadata": {},
   "source": [
    "# Schedule Data"
   ]
  },
  {
   "cell_type": "code",
   "execution_count": 3,
   "metadata": {
    "ExecuteTime": {
     "end_time": "2024-03-25T21:16:14.409295Z",
     "start_time": "2024-03-25T21:16:13.849197Z"
    }
   },
   "outputs": [],
   "source": [
    "# holdays and other days when the data would be different than expected\n",
    "calendar_dates_df = pd.read_csv(\"data/google_transit/calendar_dates.txt\") \n",
    "calendar_df = pd.read_csv(\"data/google_transit/calendar.txt\")\n",
    "routes_df = pd.read_csv(\"data/google_transit/routes.txt\")\n",
    "stop_times_df = pd.read_csv(\"data/google_transit/stop_times.txt\")\n",
    "stops_df = pd.read_csv(\"data/google_transit/stops.txt\")\n",
    "transfers_df = pd.read_csv(\"data/google_transit/transfers.txt\")"
   ]
  },
  {
   "cell_type": "markdown",
   "metadata": {},
   "source": [
    "## Frequency Data \n",
    "(that I made)"
   ]
  },
  {
   "cell_type": "code",
   "execution_count": 4,
   "metadata": {
    "ExecuteTime": {
     "end_time": "2024-03-25T21:16:14.470044Z",
     "start_time": "2024-03-25T21:16:14.411922Z"
    }
   },
   "outputs": [],
   "source": [
    "first_stop_in_trip = pd.read_csv(\"saved_data/first_stop_in_trip.csv\", index_col=0)\n",
    "hourly_route_trip_freq = pd.read_csv(\"saved_data/hourly_route_trip_freq.csv\", index_col=0)\n",
    "frequency_by_stop_interval = pd.read_csv(\"saved_data/frequency_by_stop_interval.csv\", index_col=0)\n",
    "route_frequency_by_day = pd.read_csv(\"saved_data/route_frequency_by_day.csv\", index_col=0)\n",
    "daily_route_trip_freq = pd.read_csv(\"saved_data/daily_route_trip_freq.csv\", index_col=0)\n",
    "trip_interval_route_freq = pd.read_csv(\"saved_data/trip_interval_route_freq.csv\", index_col=0)"
   ]
  },
  {
   "cell_type": "code",
   "execution_count": 5,
   "metadata": {
    "ExecuteTime": {
     "end_time": "2024-03-25T21:16:14.564475Z",
     "start_time": "2024-03-25T21:16:14.472068Z"
    }
   },
   "outputs": [],
   "source": [
    "train_area_df = pd.read_csv(\"saved_data/length_of_each_train.csv\", index_col=0)\n",
    "hourly_station_ridership = pd.read_csv(\"saved_data/hourly_station_ridership.csv\", index_col=0)\n",
    "station_complex_full_info = pd.read_csv(\"saved_data/station_complex_full_info.csv\", index_col=0)"
   ]
  },
  {
   "cell_type": "code",
   "execution_count": 6,
   "metadata": {
    "ExecuteTime": {
     "end_time": "2024-03-25T21:16:14.583108Z",
     "start_time": "2024-03-25T21:16:14.566536Z"
    }
   },
   "outputs": [],
   "source": [
    "# Adding features to the station data \n",
    "# adding the rank of the station in terms of trains per hour on a 1-10 scale\n",
    "station_complex_full_info['TPH_percent_rank'] = station_complex_full_info['tph'].rank(pct=True)\n",
    "station_complex_full_info['Ridership_percent_rank'] = station_complex_full_info['avg_hourly_ridership'].rank(pct=True)\n",
    "station_complex_full_info['Crowdedness_percent_rank'] = station_complex_full_info['hourly_ridership_per_train_direction'].rank(pct=True)\n",
    "station_complex_full_info['distance_in_15'] = x_minute_subway(station_complex_full_info, 15)\n",
    "station_complex_full_info['distance_in_30'] = x_minute_subway(station_complex_full_info, 30)\n",
    "station_complex_full_info = station_complex_full_info.round(2)"
   ]
  },
  {
   "cell_type": "code",
   "execution_count": 7,
   "metadata": {
    "ExecuteTime": {
     "end_time": "2024-03-25T21:16:14.594622Z",
     "start_time": "2024-03-25T21:16:14.584938Z"
    }
   },
   "outputs": [],
   "source": [
    "# sorting the trip interval data by service\n",
    "# sorting train_time_interval by time of day\n",
    "time_of_day_sorting = {'Late Night': 0, 'Rush Hour AM': 1, 'Midday': 2\n",
    "                                     , 'Rush Hour PM': 3, 'Evening': 4, 'Weekend': 5}\n",
    "trip_interval_route_freq = trip_interval_route_freq.sort_values(by= ['route_id', 'train_time_interval']\n",
    "                                    , key=lambda x: x.map(time_of_day_sorting)).reset_index(drop=True)"
   ]
  },
  {
   "cell_type": "markdown",
   "metadata": {},
   "source": [
    "## Removing SIR "
   ]
  },
  {
   "cell_type": "code",
   "execution_count": 8,
   "metadata": {
    "ExecuteTime": {
     "end_time": "2024-03-25T21:16:14.604188Z",
     "start_time": "2024-03-25T21:16:14.599479Z"
    },
    "scrolled": true
   },
   "outputs": [],
   "source": [
    "daily_route_trip_freq = daily_route_trip_freq[daily_route_trip_freq['route_id']!='SI']\n",
    "hourly_route_trip_freq = hourly_route_trip_freq[hourly_route_trip_freq['route_id']!='SI']"
   ]
  },
  {
   "cell_type": "markdown",
   "metadata": {},
   "source": [
    "# Number of Train (sets) Running Per Day "
   ]
  },
  {
   "cell_type": "markdown",
   "metadata": {},
   "source": [
    "## Daily"
   ]
  },
  {
   "cell_type": "code",
   "execution_count": 9,
   "metadata": {
    "ExecuteTime": {
     "end_time": "2024-03-25T21:16:14.620762Z",
     "start_time": "2024-03-25T21:16:14.607157Z"
    },
    "scrolled": true
   },
   "outputs": [
    {
     "data": {
      "text/html": [
       "<div>\n",
       "<style scoped>\n",
       "    .dataframe tbody tr th:only-of-type {\n",
       "        vertical-align: middle;\n",
       "    }\n",
       "\n",
       "    .dataframe tbody tr th {\n",
       "        vertical-align: top;\n",
       "    }\n",
       "\n",
       "    .dataframe thead th {\n",
       "        text-align: right;\n",
       "    }\n",
       "</style>\n",
       "<table border=\"1\" class=\"dataframe\">\n",
       "  <thead>\n",
       "    <tr style=\"text-align: right;\">\n",
       "      <th></th>\n",
       "      <th>route_id</th>\n",
       "      <th>Avg_num_trains_running</th>\n",
       "    </tr>\n",
       "  </thead>\n",
       "  <tbody>\n",
       "    <tr>\n",
       "      <th>12</th>\n",
       "      <td>F</td>\n",
       "      <td>21.4</td>\n",
       "    </tr>\n",
       "    <tr>\n",
       "      <th>1</th>\n",
       "      <td>2</td>\n",
       "      <td>20.4</td>\n",
       "    </tr>\n",
       "    <tr>\n",
       "      <th>7</th>\n",
       "      <td>A</td>\n",
       "      <td>19.7</td>\n",
       "    </tr>\n",
       "    <tr>\n",
       "      <th>5</th>\n",
       "      <td>6</td>\n",
       "      <td>19.5</td>\n",
       "    </tr>\n",
       "    <tr>\n",
       "      <th>20</th>\n",
       "      <td>N</td>\n",
       "      <td>19.1</td>\n",
       "    </tr>\n",
       "  </tbody>\n",
       "</table>\n",
       "</div>"
      ],
      "text/plain": [
       "   route_id  Avg_num_trains_running\n",
       "12        F                    21.4\n",
       "1         2                    20.4\n",
       "7         A                    19.7\n",
       "5         6                    19.5\n",
       "20        N                    19.1"
      ]
     },
     "execution_count": 9,
     "metadata": {},
     "output_type": "execute_result"
    }
   ],
   "source": [
    "# services with the most trains running overall\n",
    "daily_route_trip_freq[['route_id', \"Avg_num_trains_running\"]].sort_values(by='Avg_num_trains_running'\n",
    "                                                                          , ascending=False)[0:5]"
   ]
  },
  {
   "cell_type": "code",
   "execution_count": 10,
   "metadata": {
    "ExecuteTime": {
     "end_time": "2024-03-25T21:16:14.626570Z",
     "start_time": "2024-03-25T21:16:14.622326Z"
    }
   },
   "outputs": [
    {
     "data": {
      "text/plain": [
       "283.4"
      ]
     },
     "execution_count": 10,
     "metadata": {},
     "output_type": "execute_result"
    }
   ],
   "source": [
    "# 288 trains running on average!\n",
    "# this is trains moving at any one moment (Grand Central Shuttle counts as 1/4 of a train)\n",
    "daily_route_trip_freq['Avg_num_trains_running'].sum()"
   ]
  },
  {
   "cell_type": "markdown",
   "metadata": {},
   "source": [
    "## Train Time Interval"
   ]
  },
  {
   "cell_type": "code",
   "execution_count": 11,
   "metadata": {
    "ExecuteTime": {
     "end_time": "2024-03-25T21:16:14.638807Z",
     "start_time": "2024-03-25T21:16:14.628722Z"
    },
    "scrolled": true
   },
   "outputs": [
    {
     "data": {
      "text/html": [
       "<div>\n",
       "<style scoped>\n",
       "    .dataframe tbody tr th:only-of-type {\n",
       "        vertical-align: middle;\n",
       "    }\n",
       "\n",
       "    .dataframe tbody tr th {\n",
       "        vertical-align: top;\n",
       "    }\n",
       "\n",
       "    .dataframe thead th {\n",
       "        text-align: right;\n",
       "    }\n",
       "</style>\n",
       "<table border=\"1\" class=\"dataframe\">\n",
       "  <thead>\n",
       "    <tr style=\"text-align: right;\">\n",
       "      <th></th>\n",
       "      <th>route_id</th>\n",
       "      <th>train_time_interval</th>\n",
       "      <th>Avg_num_trains_running</th>\n",
       "    </tr>\n",
       "  </thead>\n",
       "  <tbody>\n",
       "    <tr>\n",
       "      <th>36</th>\n",
       "      <td>F</td>\n",
       "      <td>Rush Hour AM</td>\n",
       "      <td>34.6</td>\n",
       "    </tr>\n",
       "    <tr>\n",
       "      <th>92</th>\n",
       "      <td>N</td>\n",
       "      <td>Rush Hour PM</td>\n",
       "      <td>32.6</td>\n",
       "    </tr>\n",
       "    <tr>\n",
       "      <th>44</th>\n",
       "      <td>N</td>\n",
       "      <td>Rush Hour AM</td>\n",
       "      <td>32.6</td>\n",
       "    </tr>\n",
       "    <tr>\n",
       "      <th>29</th>\n",
       "      <td>6</td>\n",
       "      <td>Rush Hour AM</td>\n",
       "      <td>32.5</td>\n",
       "    </tr>\n",
       "    <tr>\n",
       "      <th>84</th>\n",
       "      <td>F</td>\n",
       "      <td>Rush Hour PM</td>\n",
       "      <td>32.2</td>\n",
       "    </tr>\n",
       "  </tbody>\n",
       "</table>\n",
       "</div>"
      ],
      "text/plain": [
       "   route_id train_time_interval  Avg_num_trains_running\n",
       "36        F        Rush Hour AM                    34.6\n",
       "92        N        Rush Hour PM                    32.6\n",
       "44        N        Rush Hour AM                    32.6\n",
       "29        6        Rush Hour AM                    32.5\n",
       "84        F        Rush Hour PM                    32.2"
      ]
     },
     "execution_count": 11,
     "metadata": {},
     "output_type": "execute_result"
    }
   ],
   "source": [
    "trip_interval_route_freq[['route_id', 'train_time_interval', 'Avg_num_trains_running']].sort_values(\n",
    "                                                    by='Avg_num_trains_running', ascending=False)[0:5]"
   ]
  },
  {
   "cell_type": "code",
   "execution_count": 12,
   "metadata": {
    "ExecuteTime": {
     "end_time": "2024-03-25T21:16:14.653171Z",
     "start_time": "2024-03-25T21:16:14.641049Z"
    }
   },
   "outputs": [],
   "source": [
    "interval_number_of_trains_dict = {}\n",
    "for value in frequency_by_stop_interval['train_time_interval'].unique():\n",
    "    interval_avg_num_trains = trip_interval_route_freq[trip_interval_route_freq['train_time_interval']==value\n",
    "                                                                                ]['Avg_num_trains_running'].sum()\n",
    "    interval_number_of_trains_dict[value] = round(interval_avg_num_trains, 1)\n",
    "train_time_interval_df = pd.DataFrame.from_dict(interval_number_of_trains_dict, orient='index'\n",
    "                                                , columns=['Avg_number_of_trains_in_interval'])"
   ]
  },
  {
   "cell_type": "code",
   "execution_count": 13,
   "metadata": {
    "ExecuteTime": {
     "end_time": "2024-03-25T21:16:14.661656Z",
     "start_time": "2024-03-25T21:16:14.655115Z"
    }
   },
   "outputs": [
    {
     "data": {
      "text/html": [
       "<div>\n",
       "<style scoped>\n",
       "    .dataframe tbody tr th:only-of-type {\n",
       "        vertical-align: middle;\n",
       "    }\n",
       "\n",
       "    .dataframe tbody tr th {\n",
       "        vertical-align: top;\n",
       "    }\n",
       "\n",
       "    .dataframe thead th {\n",
       "        text-align: right;\n",
       "    }\n",
       "</style>\n",
       "<table border=\"1\" class=\"dataframe\">\n",
       "  <thead>\n",
       "    <tr style=\"text-align: right;\">\n",
       "      <th></th>\n",
       "      <th>Avg_number_of_trains_in_interval</th>\n",
       "    </tr>\n",
       "  </thead>\n",
       "  <tbody>\n",
       "    <tr>\n",
       "      <th>Late Night</th>\n",
       "      <td>125.3</td>\n",
       "    </tr>\n",
       "    <tr>\n",
       "      <th>Weekend</th>\n",
       "      <td>223.3</td>\n",
       "    </tr>\n",
       "    <tr>\n",
       "      <th>Evening</th>\n",
       "      <td>239.5</td>\n",
       "    </tr>\n",
       "    <tr>\n",
       "      <th>Midday</th>\n",
       "      <td>353.2</td>\n",
       "    </tr>\n",
       "    <tr>\n",
       "      <th>Rush Hour PM</th>\n",
       "      <td>419.5</td>\n",
       "    </tr>\n",
       "    <tr>\n",
       "      <th>Rush Hour AM</th>\n",
       "      <td>443.1</td>\n",
       "    </tr>\n",
       "  </tbody>\n",
       "</table>\n",
       "</div>"
      ],
      "text/plain": [
       "              Avg_number_of_trains_in_interval\n",
       "Late Night                               125.3\n",
       "Weekend                                  223.3\n",
       "Evening                                  239.5\n",
       "Midday                                   353.2\n",
       "Rush Hour PM                             419.5\n",
       "Rush Hour AM                             443.1"
      ]
     },
     "execution_count": 13,
     "metadata": {},
     "output_type": "execute_result"
    }
   ],
   "source": [
    "train_time_interval_df.sort_values(by='Avg_number_of_trains_in_interval')"
   ]
  },
  {
   "cell_type": "code",
   "execution_count": 14,
   "metadata": {
    "ExecuteTime": {
     "end_time": "2024-03-25T21:16:14.680621Z",
     "start_time": "2024-03-25T21:16:14.663435Z"
    },
    "scrolled": false
   },
   "outputs": [
    {
     "data": {
      "text/html": [
       "<div>\n",
       "<style scoped>\n",
       "    .dataframe tbody tr th:only-of-type {\n",
       "        vertical-align: middle;\n",
       "    }\n",
       "\n",
       "    .dataframe tbody tr th {\n",
       "        vertical-align: top;\n",
       "    }\n",
       "\n",
       "    .dataframe thead th {\n",
       "        text-align: right;\n",
       "    }\n",
       "</style>\n",
       "<table border=\"1\" class=\"dataframe\">\n",
       "  <thead>\n",
       "    <tr style=\"text-align: right;\">\n",
       "      <th></th>\n",
       "      <th>route_id</th>\n",
       "      <th>train_time_interval</th>\n",
       "      <th>trains_per_hour</th>\n",
       "      <th>headway_seconds</th>\n",
       "      <th>headway_minutes</th>\n",
       "      <th>route_time_seconds</th>\n",
       "      <th>route_time_minutes</th>\n",
       "      <th>Avg_num_trains_running</th>\n",
       "    </tr>\n",
       "  </thead>\n",
       "  <tbody>\n",
       "    <tr>\n",
       "      <th>7</th>\n",
       "      <td>A</td>\n",
       "      <td>Late Night</td>\n",
       "      <td>6</td>\n",
       "      <td>600.0</td>\n",
       "      <td>10.0</td>\n",
       "      <td>4850</td>\n",
       "      <td>80.8</td>\n",
       "      <td>16.2</td>\n",
       "    </tr>\n",
       "    <tr>\n",
       "      <th>121</th>\n",
       "      <td>2</td>\n",
       "      <td>Weekend</td>\n",
       "      <td>6</td>\n",
       "      <td>600.0</td>\n",
       "      <td>10.0</td>\n",
       "      <td>5744</td>\n",
       "      <td>95.7</td>\n",
       "      <td>19.1</td>\n",
       "    </tr>\n",
       "    <tr>\n",
       "      <th>108</th>\n",
       "      <td>F</td>\n",
       "      <td>Evening</td>\n",
       "      <td>9</td>\n",
       "      <td>400.0</td>\n",
       "      <td>6.7</td>\n",
       "      <td>4148</td>\n",
       "      <td>69.1</td>\n",
       "      <td>20.7</td>\n",
       "    </tr>\n",
       "    <tr>\n",
       "      <th>68</th>\n",
       "      <td>N</td>\n",
       "      <td>Midday</td>\n",
       "      <td>13</td>\n",
       "      <td>277.0</td>\n",
       "      <td>4.6</td>\n",
       "      <td>4186</td>\n",
       "      <td>69.8</td>\n",
       "      <td>30.2</td>\n",
       "    </tr>\n",
       "    <tr>\n",
       "      <th>92</th>\n",
       "      <td>N</td>\n",
       "      <td>Rush Hour PM</td>\n",
       "      <td>14</td>\n",
       "      <td>257.0</td>\n",
       "      <td>4.3</td>\n",
       "      <td>4186</td>\n",
       "      <td>69.8</td>\n",
       "      <td>32.6</td>\n",
       "    </tr>\n",
       "    <tr>\n",
       "      <th>36</th>\n",
       "      <td>F</td>\n",
       "      <td>Rush Hour AM</td>\n",
       "      <td>15</td>\n",
       "      <td>240.0</td>\n",
       "      <td>4.0</td>\n",
       "      <td>4148</td>\n",
       "      <td>69.1</td>\n",
       "      <td>34.6</td>\n",
       "    </tr>\n",
       "  </tbody>\n",
       "</table>\n",
       "</div>"
      ],
      "text/plain": [
       "    route_id train_time_interval  trains_per_hour  headway_seconds  \\\n",
       "7          A          Late Night                6            600.0   \n",
       "121        2             Weekend                6            600.0   \n",
       "108        F             Evening                9            400.0   \n",
       "68         N              Midday               13            277.0   \n",
       "92         N        Rush Hour PM               14            257.0   \n",
       "36         F        Rush Hour AM               15            240.0   \n",
       "\n",
       "     headway_minutes  route_time_seconds  route_time_minutes  \\\n",
       "7               10.0                4850                80.8   \n",
       "121             10.0                5744                95.7   \n",
       "108              6.7                4148                69.1   \n",
       "68               4.6                4186                69.8   \n",
       "92               4.3                4186                69.8   \n",
       "36               4.0                4148                69.1   \n",
       "\n",
       "     Avg_num_trains_running  \n",
       "7                      16.2  \n",
       "121                    19.1  \n",
       "108                    20.7  \n",
       "68                     30.2  \n",
       "92                     32.6  \n",
       "36                     34.6  "
      ]
     },
     "execution_count": 14,
     "metadata": {},
     "output_type": "execute_result"
    }
   ],
   "source": [
    "# which routes has the most service per train time interval\n",
    "# are there ties for the frequency??\n",
    "trip_interval_route_freq[trip_interval_route_freq['headway_minutes'] < 1000].sort_values(\n",
    "    by='Avg_num_trains_running').drop_duplicates(subset='train_time_interval', keep='last')"
   ]
  },
  {
   "cell_type": "markdown",
   "metadata": {},
   "source": [
    "### Plotting the Change in Frequency by Train Time Interval"
   ]
  },
  {
   "cell_type": "code",
   "execution_count": 15,
   "metadata": {
    "ExecuteTime": {
     "end_time": "2024-03-25T21:16:14.685139Z",
     "start_time": "2024-03-25T21:16:14.682342Z"
    }
   },
   "outputs": [],
   "source": [
    "trip_interval_route_freq.columns = ['route_id', 'Train Time Interval', 'trains_per_hour'\n",
    "                                   , 'headway_seconds', 'Headway Minutes', 'route_time_seconds'\n",
    "                                   , 'route_time_minutes', 'Avg_num_trains_running']"
   ]
  },
  {
   "cell_type": "code",
   "execution_count": 16,
   "metadata": {
    "ExecuteTime": {
     "end_time": "2024-03-25T21:16:15.065333Z",
     "start_time": "2024-03-25T21:16:14.686802Z"
    }
   },
   "outputs": [
    {
     "data": {
      "image/png": "[encoded data removed]",
      "text/plain": [
       "<Figure size 432x288 with 1 Axes>"
      ]
     },
     "metadata": {
      "needs_background": "light"
     },
     "output_type": "display_data"
    }
   ],
   "source": [
    "interval_headways_by_line = sns.lineplot(data=trip_interval_route_freq, x='Train Time Interval'\n",
    "                                       , y='Headway Minutes')\n",
    "fig = interval_headways_by_line.get_figure()\n",
    "fig.savefig(\"saved_data/interval_headways.png\") "
   ]
  },
  {
   "cell_type": "code",
   "execution_count": null,
   "metadata": {},
   "outputs": [],
   "source": []
  },
  {
   "cell_type": "code",
   "execution_count": null,
   "metadata": {},
   "outputs": [],
   "source": []
  },
  {
   "cell_type": "markdown",
   "metadata": {},
   "source": [
    "## Hourly"
   ]
  },
  {
   "cell_type": "code",
   "execution_count": 17,
   "metadata": {
    "ExecuteTime": {
     "end_time": "2024-03-25T21:16:15.104102Z",
     "start_time": "2024-03-25T21:16:15.068008Z"
    }
   },
   "outputs": [],
   "source": [
    "hourly_route_trip_freq['day_hour'] = [hourly_route_trip_freq['day_of_week'][idx] + \"_\" \\\n",
    "                                        + str(hourly_route_trip_freq['departure_hour'][idx])\n",
    "                                            for idx in range(hourly_route_trip_freq.shape[0])]"
   ]
  },
  {
   "cell_type": "code",
   "execution_count": 18,
   "metadata": {
    "ExecuteTime": {
     "end_time": "2024-03-25T21:16:15.121007Z",
     "start_time": "2024-03-25T21:16:15.106799Z"
    },
    "scrolled": true
   },
   "outputs": [
    {
     "data": {
      "text/html": [
       "<div>\n",
       "<style scoped>\n",
       "    .dataframe tbody tr th:only-of-type {\n",
       "        vertical-align: middle;\n",
       "    }\n",
       "\n",
       "    .dataframe tbody tr th {\n",
       "        vertical-align: top;\n",
       "    }\n",
       "\n",
       "    .dataframe thead th {\n",
       "        text-align: right;\n",
       "    }\n",
       "</style>\n",
       "<table border=\"1\" class=\"dataframe\">\n",
       "  <thead>\n",
       "    <tr style=\"text-align: right;\">\n",
       "      <th></th>\n",
       "      <th>route_id</th>\n",
       "      <th>day_hour</th>\n",
       "      <th>Avg_num_trains_running</th>\n",
       "    </tr>\n",
       "  </thead>\n",
       "  <tbody>\n",
       "    <tr>\n",
       "      <th>845</th>\n",
       "      <td>F</td>\n",
       "      <td>Weekday_7</td>\n",
       "      <td>39.2</td>\n",
       "    </tr>\n",
       "    <tr>\n",
       "      <th>415</th>\n",
       "      <td>6</td>\n",
       "      <td>Weekday_7</td>\n",
       "      <td>38.3</td>\n",
       "    </tr>\n",
       "    <tr>\n",
       "      <th>127</th>\n",
       "      <td>2</td>\n",
       "      <td>Weekday_7</td>\n",
       "      <td>38.3</td>\n",
       "    </tr>\n",
       "    <tr>\n",
       "      <th>568</th>\n",
       "      <td>A</td>\n",
       "      <td>Weekday_16</td>\n",
       "      <td>37.7</td>\n",
       "    </tr>\n",
       "    <tr>\n",
       "      <th>1415</th>\n",
       "      <td>N</td>\n",
       "      <td>Weekday_16</td>\n",
       "      <td>37.2</td>\n",
       "    </tr>\n",
       "  </tbody>\n",
       "</table>\n",
       "</div>"
      ],
      "text/plain": [
       "     route_id    day_hour  Avg_num_trains_running\n",
       "845         F   Weekday_7                    39.2\n",
       "415         6   Weekday_7                    38.3\n",
       "127         2   Weekday_7                    38.3\n",
       "568         A  Weekday_16                    37.7\n",
       "1415        N  Weekday_16                    37.2"
      ]
     },
     "execution_count": 18,
     "metadata": {},
     "output_type": "execute_result"
    }
   ],
   "source": [
    "hourly_route_trip_freq[['route_id', 'day_hour', 'Avg_num_trains_running']].sort_values(\n",
    "                                                    by='Avg_num_trains_running', ascending=False)[0:5]"
   ]
  },
  {
   "cell_type": "code",
   "execution_count": 19,
   "metadata": {
    "ExecuteTime": {
     "end_time": "2024-03-25T21:16:15.211327Z",
     "start_time": "2024-03-25T21:16:15.123224Z"
    }
   },
   "outputs": [],
   "source": [
    "hourly_number_of_trains_dict = {}\n",
    "for value in hourly_route_trip_freq['day_hour'].unique():\n",
    "    hourly_avg_num_trains = hourly_route_trip_freq[hourly_route_trip_freq['day_hour']==value\n",
    "                                                                                ]['Avg_num_trains_running'].sum()\n",
    "    hourly_number_of_trains_dict[value] = round(hourly_avg_num_trains, 1)\n",
    "train_time_hourly_df = pd.DataFrame.from_dict(hourly_number_of_trains_dict, orient='index'\n",
    "                                                , columns=['Avg_number_of_trains_in_hour'])"
   ]
  },
  {
   "cell_type": "markdown",
   "metadata": {},
   "source": [
    "### Most frequent number of trains running"
   ]
  },
  {
   "cell_type": "code",
   "execution_count": 20,
   "metadata": {
    "ExecuteTime": {
     "end_time": "2024-03-25T21:16:15.220845Z",
     "start_time": "2024-03-25T21:16:15.213747Z"
    }
   },
   "outputs": [
    {
     "data": {
      "text/html": [
       "<div>\n",
       "<style scoped>\n",
       "    .dataframe tbody tr th:only-of-type {\n",
       "        vertical-align: middle;\n",
       "    }\n",
       "\n",
       "    .dataframe tbody tr th {\n",
       "        vertical-align: top;\n",
       "    }\n",
       "\n",
       "    .dataframe thead th {\n",
       "        text-align: right;\n",
       "    }\n",
       "</style>\n",
       "<table border=\"1\" class=\"dataframe\">\n",
       "  <thead>\n",
       "    <tr style=\"text-align: right;\">\n",
       "      <th></th>\n",
       "      <th>Avg_number_of_trains_in_hour</th>\n",
       "    </tr>\n",
       "  </thead>\n",
       "  <tbody>\n",
       "    <tr>\n",
       "      <th>Weekday_16</th>\n",
       "      <td>489.7</td>\n",
       "    </tr>\n",
       "  </tbody>\n",
       "</table>\n",
       "</div>"
      ],
      "text/plain": [
       "            Avg_number_of_trains_in_hour\n",
       "Weekday_16                         489.7"
      ]
     },
     "execution_count": 20,
     "metadata": {},
     "output_type": "execute_result"
    }
   ],
   "source": [
    "train_time_hourly_df[train_time_hourly_df['Avg_number_of_trains_in_hour']==\n",
    "                     train_time_hourly_df['Avg_number_of_trains_in_hour'].max()]"
   ]
  },
  {
   "cell_type": "code",
   "execution_count": 21,
   "metadata": {
    "ExecuteTime": {
     "end_time": "2024-03-25T21:16:15.231596Z",
     "start_time": "2024-03-25T21:16:15.223661Z"
    }
   },
   "outputs": [
    {
     "data": {
      "text/html": [
       "<div>\n",
       "<style scoped>\n",
       "    .dataframe tbody tr th:only-of-type {\n",
       "        vertical-align: middle;\n",
       "    }\n",
       "\n",
       "    .dataframe tbody tr th {\n",
       "        vertical-align: top;\n",
       "    }\n",
       "\n",
       "    .dataframe thead th {\n",
       "        text-align: right;\n",
       "    }\n",
       "</style>\n",
       "<table border=\"1\" class=\"dataframe\">\n",
       "  <thead>\n",
       "    <tr style=\"text-align: right;\">\n",
       "      <th></th>\n",
       "      <th>Avg_number_of_trains_in_hour</th>\n",
       "    </tr>\n",
       "  </thead>\n",
       "  <tbody>\n",
       "    <tr>\n",
       "      <th>Weekday_16</th>\n",
       "      <td>489.7</td>\n",
       "    </tr>\n",
       "    <tr>\n",
       "      <th>Weekday_7</th>\n",
       "      <td>476.9</td>\n",
       "    </tr>\n",
       "    <tr>\n",
       "      <th>Weekday_8</th>\n",
       "      <td>467.2</td>\n",
       "    </tr>\n",
       "    <tr>\n",
       "      <th>Weekday_17</th>\n",
       "      <td>426.7</td>\n",
       "    </tr>\n",
       "    <tr>\n",
       "      <th>Weekday_15</th>\n",
       "      <td>409.2</td>\n",
       "    </tr>\n",
       "    <tr>\n",
       "      <th>Weekday_18</th>\n",
       "      <td>408.0</td>\n",
       "    </tr>\n",
       "    <tr>\n",
       "      <th>Weekday_6</th>\n",
       "      <td>403.0</td>\n",
       "    </tr>\n",
       "    <tr>\n",
       "      <th>Weekday_9</th>\n",
       "      <td>389.4</td>\n",
       "    </tr>\n",
       "    <tr>\n",
       "      <th>Weekday_19</th>\n",
       "      <td>389.1</td>\n",
       "    </tr>\n",
       "    <tr>\n",
       "      <th>Weekday_13</th>\n",
       "      <td>369.4</td>\n",
       "    </tr>\n",
       "  </tbody>\n",
       "</table>\n",
       "</div>"
      ],
      "text/plain": [
       "            Avg_number_of_trains_in_hour\n",
       "Weekday_16                         489.7\n",
       "Weekday_7                          476.9\n",
       "Weekday_8                          467.2\n",
       "Weekday_17                         426.7\n",
       "Weekday_15                         409.2\n",
       "Weekday_18                         408.0\n",
       "Weekday_6                          403.0\n",
       "Weekday_9                          389.4\n",
       "Weekday_19                         389.1\n",
       "Weekday_13                         369.4"
      ]
     },
     "execution_count": 21,
     "metadata": {},
     "output_type": "execute_result"
    }
   ],
   "source": [
    "# least frequent hours to use the subway\n",
    "train_time_hourly_df.sort_values(by='Avg_number_of_trains_in_hour', ascending=False)[0:10]"
   ]
  },
  {
   "cell_type": "markdown",
   "metadata": {},
   "source": [
    "### Least frequent number of trains running"
   ]
  },
  {
   "cell_type": "code",
   "execution_count": 22,
   "metadata": {
    "ExecuteTime": {
     "end_time": "2024-03-25T21:16:15.242425Z",
     "start_time": "2024-03-25T21:16:15.234540Z"
    }
   },
   "outputs": [
    {
     "data": {
      "text/html": [
       "<div>\n",
       "<style scoped>\n",
       "    .dataframe tbody tr th:only-of-type {\n",
       "        vertical-align: middle;\n",
       "    }\n",
       "\n",
       "    .dataframe tbody tr th {\n",
       "        vertical-align: top;\n",
       "    }\n",
       "\n",
       "    .dataframe thead th {\n",
       "        text-align: right;\n",
       "    }\n",
       "</style>\n",
       "<table border=\"1\" class=\"dataframe\">\n",
       "  <thead>\n",
       "    <tr style=\"text-align: right;\">\n",
       "      <th></th>\n",
       "      <th>Avg_number_of_trains_in_hour</th>\n",
       "    </tr>\n",
       "  </thead>\n",
       "  <tbody>\n",
       "    <tr>\n",
       "      <th>Saturday_2</th>\n",
       "      <td>119.0</td>\n",
       "    </tr>\n",
       "    <tr>\n",
       "      <th>Saturday_3</th>\n",
       "      <td>119.0</td>\n",
       "    </tr>\n",
       "    <tr>\n",
       "      <th>Sunday_2</th>\n",
       "      <td>119.0</td>\n",
       "    </tr>\n",
       "    <tr>\n",
       "      <th>Weekday_3</th>\n",
       "      <td>119.0</td>\n",
       "    </tr>\n",
       "    <tr>\n",
       "      <th>Weekday_2</th>\n",
       "      <td>119.0</td>\n",
       "    </tr>\n",
       "    <tr>\n",
       "      <th>Sunday_3</th>\n",
       "      <td>119.0</td>\n",
       "    </tr>\n",
       "    <tr>\n",
       "      <th>Sunday_4</th>\n",
       "      <td>119.0</td>\n",
       "    </tr>\n",
       "    <tr>\n",
       "      <th>Weekday_0</th>\n",
       "      <td>119.6</td>\n",
       "    </tr>\n",
       "    <tr>\n",
       "      <th>Weekday_1</th>\n",
       "      <td>120.3</td>\n",
       "    </tr>\n",
       "    <tr>\n",
       "      <th>Saturday_1</th>\n",
       "      <td>120.3</td>\n",
       "    </tr>\n",
       "  </tbody>\n",
       "</table>\n",
       "</div>"
      ],
      "text/plain": [
       "            Avg_number_of_trains_in_hour\n",
       "Saturday_2                         119.0\n",
       "Saturday_3                         119.0\n",
       "Sunday_2                           119.0\n",
       "Weekday_3                          119.0\n",
       "Weekday_2                          119.0\n",
       "Sunday_3                           119.0\n",
       "Sunday_4                           119.0\n",
       "Weekday_0                          119.6\n",
       "Weekday_1                          120.3\n",
       "Saturday_1                         120.3"
      ]
     },
     "execution_count": 22,
     "metadata": {},
     "output_type": "execute_result"
    }
   ],
   "source": [
    "# least frequent hours to use the subway\n",
    "train_time_hourly_df.sort_values(by='Avg_number_of_trains_in_hour')[0:10]"
   ]
  },
  {
   "cell_type": "code",
   "execution_count": 23,
   "metadata": {
    "ExecuteTime": {
     "end_time": "2024-03-25T21:16:15.257401Z",
     "start_time": "2024-03-25T21:16:15.250314Z"
    },
    "scrolled": true
   },
   "outputs": [
    {
     "data": {
      "text/html": [
       "<div>\n",
       "<style scoped>\n",
       "    .dataframe tbody tr th:only-of-type {\n",
       "        vertical-align: middle;\n",
       "    }\n",
       "\n",
       "    .dataframe tbody tr th {\n",
       "        vertical-align: top;\n",
       "    }\n",
       "\n",
       "    .dataframe thead th {\n",
       "        text-align: right;\n",
       "    }\n",
       "</style>\n",
       "<table border=\"1\" class=\"dataframe\">\n",
       "  <thead>\n",
       "    <tr style=\"text-align: right;\">\n",
       "      <th></th>\n",
       "      <th>Avg_number_of_trains_in_hour</th>\n",
       "    </tr>\n",
       "  </thead>\n",
       "  <tbody>\n",
       "    <tr>\n",
       "      <th>Saturday_2</th>\n",
       "      <td>119.0</td>\n",
       "    </tr>\n",
       "    <tr>\n",
       "      <th>Saturday_3</th>\n",
       "      <td>119.0</td>\n",
       "    </tr>\n",
       "    <tr>\n",
       "      <th>Sunday_2</th>\n",
       "      <td>119.0</td>\n",
       "    </tr>\n",
       "    <tr>\n",
       "      <th>Sunday_3</th>\n",
       "      <td>119.0</td>\n",
       "    </tr>\n",
       "    <tr>\n",
       "      <th>Sunday_4</th>\n",
       "      <td>119.0</td>\n",
       "    </tr>\n",
       "    <tr>\n",
       "      <th>Weekday_2</th>\n",
       "      <td>119.0</td>\n",
       "    </tr>\n",
       "    <tr>\n",
       "      <th>Weekday_3</th>\n",
       "      <td>119.0</td>\n",
       "    </tr>\n",
       "  </tbody>\n",
       "</table>\n",
       "</div>"
      ],
      "text/plain": [
       "            Avg_number_of_trains_in_hour\n",
       "Saturday_2                         119.0\n",
       "Saturday_3                         119.0\n",
       "Sunday_2                           119.0\n",
       "Sunday_3                           119.0\n",
       "Sunday_4                           119.0\n",
       "Weekday_2                          119.0\n",
       "Weekday_3                          119.0"
      ]
     },
     "execution_count": 23,
     "metadata": {},
     "output_type": "execute_result"
    }
   ],
   "source": [
    "train_time_hourly_df[train_time_hourly_df['Avg_number_of_trains_in_hour']==\n",
    "                     train_time_hourly_df['Avg_number_of_trains_in_hour'].min()]"
   ]
  },
  {
   "cell_type": "markdown",
   "metadata": {},
   "source": [
    "### Plotting number of trains runnings by Hour "
   ]
  },
  {
   "cell_type": "code",
   "execution_count": 24,
   "metadata": {
    "ExecuteTime": {
     "end_time": "2024-03-25T21:16:15.267456Z",
     "start_time": "2024-03-25T21:16:15.262662Z"
    }
   },
   "outputs": [],
   "source": [
    "train_time_hourly_df_day = [x.split(\"_\")[0] for x in train_time_hourly_df.index.values]\n",
    "train_time_hourly_df_hour = [x.split(\"_\")[1] for x in train_time_hourly_df.index.values]\n",
    "train_time_hourly_df.columns = ['Avg Number of Trains in an Hour']\n",
    "train_time_hourly_df['Day'] = train_time_hourly_df_day\n",
    "train_time_hourly_df['Hour'] = train_time_hourly_df_hour"
   ]
  },
  {
   "cell_type": "code",
   "execution_count": 25,
   "metadata": {
    "ExecuteTime": {
     "end_time": "2024-03-25T21:16:15.757807Z",
     "start_time": "2024-03-25T21:16:15.269273Z"
    }
   },
   "outputs": [
    {
     "data": {
      "image/png": "[encoded data removed]",
      "text/plain": [
       "<Figure size 432x288 with 1 Axes>"
      ]
     },
     "metadata": {
      "needs_background": "light"
     },
     "output_type": "display_data"
    }
   ],
   "source": [
    "hourly_number_of_trains_by_day = sns.lineplot(data=train_time_hourly_df, x='Hour'\n",
    "                                       , y='Avg Number of Trains in an Hour', hue='Day')\n",
    "fig = hourly_number_of_trains_by_day.get_figure()\n",
    "fig.savefig(\"saved_data/hourly_number_of_trains_by_day.png\") "
   ]
  },
  {
   "cell_type": "markdown",
   "metadata": {},
   "source": [
    "# Data Visualizations"
   ]
  },
  {
   "cell_type": "code",
   "execution_count": 26,
   "metadata": {
    "ExecuteTime": {
     "end_time": "2024-03-25T21:16:15.763995Z",
     "start_time": "2024-03-25T21:16:15.759846Z"
    }
   },
   "outputs": [],
   "source": [
    "sorted_routes = route_frequency_by_day[route_frequency_by_day\n",
    "                                 ['day_of_week']=='Weekday'].sort_values(by='trains_per_hour')['route_id'].values\n"
   ]
  },
  {
   "cell_type": "markdown",
   "metadata": {},
   "source": [
    "## Daily Average Frequency"
   ]
  },
  {
   "cell_type": "code",
   "execution_count": 27,
   "metadata": {
    "ExecuteTime": {
     "end_time": "2024-03-25T21:16:16.306123Z",
     "start_time": "2024-03-25T21:16:15.766150Z"
    },
    "scrolled": false
   },
   "outputs": [
    {
     "data": {
      "image/png": "[encoded data removed]",
      "text/plain": [
       "<Figure size 432x288 with 1 Axes>"
      ]
     },
     "metadata": {
      "needs_background": "light"
     },
     "output_type": "display_data"
    }
   ],
   "source": [
    "# with error bar \n",
    "ax = sns.barplot(data = route_frequency_by_day, x = 'route_id', y='headway_minutes'\n",
    "                 , order=sorted_routes)\n",
    "#     ax.title(interval)\n",
    "ax.grid(axis='y')\n",
    "plt.show()"
   ]
  },
  {
   "cell_type": "code",
   "execution_count": 28,
   "metadata": {
    "ExecuteTime": {
     "end_time": "2024-03-25T21:16:16.837468Z",
     "start_time": "2024-03-25T21:16:16.307970Z"
    }
   },
   "outputs": [
    {
     "data": {
      "image/png": "[encoded data removed]",
      "text/plain": [
       "<Figure size 432x288 with 1 Axes>"
      ]
     },
     "metadata": {
      "needs_background": "light"
     },
     "output_type": "display_data"
    }
   ],
   "source": [
    "# separated by day \n",
    "ax = sns.barplot(data = route_frequency_by_day, x = 'route_id', y='headway_minutes'\n",
    "                 , hue='day_of_week', order=sorted_routes)\n",
    "#     ax.title(interval)\n",
    "ax.grid(axis='y')\n",
    "plt.show()"
   ]
  },
  {
   "cell_type": "markdown",
   "metadata": {},
   "source": [
    "## Frequency by Interval"
   ]
  },
  {
   "cell_type": "code",
   "execution_count": 29,
   "metadata": {
    "ExecuteTime": {
     "end_time": "2024-03-25T21:16:16.842574Z",
     "start_time": "2024-03-25T21:16:16.839407Z"
    }
   },
   "outputs": [
    {
     "data": {
      "text/plain": [
       "{'Late Night': 0,\n",
       " 'Rush Hour AM': 1,\n",
       " 'Midday': 2,\n",
       " 'Rush Hour PM': 3,\n",
       " 'Evening': 4,\n",
       " 'Weekend': 5}"
      ]
     },
     "execution_count": 29,
     "metadata": {},
     "output_type": "execute_result"
    }
   ],
   "source": [
    "time_of_day_sorting"
   ]
  },
  {
   "cell_type": "code",
   "execution_count": 30,
   "metadata": {
    "ExecuteTime": {
     "end_time": "2024-03-25T21:16:16.852838Z",
     "start_time": "2024-03-25T21:16:16.844107Z"
    }
   },
   "outputs": [
    {
     "data": {
      "text/html": [
       "<div>\n",
       "<style scoped>\n",
       "    .dataframe tbody tr th:only-of-type {\n",
       "        vertical-align: middle;\n",
       "    }\n",
       "\n",
       "    .dataframe tbody tr th {\n",
       "        vertical-align: top;\n",
       "    }\n",
       "\n",
       "    .dataframe thead th {\n",
       "        text-align: right;\n",
       "    }\n",
       "</style>\n",
       "<table border=\"1\" class=\"dataframe\">\n",
       "  <thead>\n",
       "    <tr style=\"text-align: right;\">\n",
       "      <th></th>\n",
       "      <th>parent_stop_id</th>\n",
       "      <th>train_time_interval</th>\n",
       "      <th>trains_per_hour</th>\n",
       "    </tr>\n",
       "  </thead>\n",
       "  <tbody>\n",
       "    <tr>\n",
       "      <th>0</th>\n",
       "      <td>101</td>\n",
       "      <td>Evening</td>\n",
       "      <td>20</td>\n",
       "    </tr>\n",
       "    <tr>\n",
       "      <th>1</th>\n",
       "      <td>101</td>\n",
       "      <td>Late Night</td>\n",
       "      <td>7</td>\n",
       "    </tr>\n",
       "    <tr>\n",
       "      <th>2</th>\n",
       "      <td>101</td>\n",
       "      <td>Midday</td>\n",
       "      <td>22</td>\n",
       "    </tr>\n",
       "    <tr>\n",
       "      <th>3</th>\n",
       "      <td>101</td>\n",
       "      <td>Rush Hour AM</td>\n",
       "      <td>16</td>\n",
       "    </tr>\n",
       "    <tr>\n",
       "      <th>4</th>\n",
       "      <td>101</td>\n",
       "      <td>Rush Hour PM</td>\n",
       "      <td>25</td>\n",
       "    </tr>\n",
       "    <tr>\n",
       "      <th>...</th>\n",
       "      <td>...</td>\n",
       "      <td>...</td>\n",
       "      <td>...</td>\n",
       "    </tr>\n",
       "    <tr>\n",
       "      <th>2970</th>\n",
       "      <td>S31</td>\n",
       "      <td>Late Night</td>\n",
       "      <td>4</td>\n",
       "    </tr>\n",
       "    <tr>\n",
       "      <th>2971</th>\n",
       "      <td>S31</td>\n",
       "      <td>Midday</td>\n",
       "      <td>4</td>\n",
       "    </tr>\n",
       "    <tr>\n",
       "      <th>2972</th>\n",
       "      <td>S31</td>\n",
       "      <td>Rush Hour AM</td>\n",
       "      <td>11</td>\n",
       "    </tr>\n",
       "    <tr>\n",
       "      <th>2973</th>\n",
       "      <td>S31</td>\n",
       "      <td>Rush Hour PM</td>\n",
       "      <td>10</td>\n",
       "    </tr>\n",
       "    <tr>\n",
       "      <th>2974</th>\n",
       "      <td>S31</td>\n",
       "      <td>Weekend</td>\n",
       "      <td>4</td>\n",
       "    </tr>\n",
       "  </tbody>\n",
       "</table>\n",
       "<p>2975 rows × 3 columns</p>\n",
       "</div>"
      ],
      "text/plain": [
       "     parent_stop_id train_time_interval  trains_per_hour\n",
       "0               101             Evening               20\n",
       "1               101          Late Night                7\n",
       "2               101              Midday               22\n",
       "3               101        Rush Hour AM               16\n",
       "4               101        Rush Hour PM               25\n",
       "...             ...                 ...              ...\n",
       "2970            S31          Late Night                4\n",
       "2971            S31              Midday                4\n",
       "2972            S31        Rush Hour AM               11\n",
       "2973            S31        Rush Hour PM               10\n",
       "2974            S31             Weekend                4\n",
       "\n",
       "[2975 rows x 3 columns]"
      ]
     },
     "execution_count": 30,
     "metadata": {},
     "output_type": "execute_result"
    }
   ],
   "source": [
    "frequency_by_stop_interval"
   ]
  },
  {
   "cell_type": "code",
   "execution_count": 34,
   "metadata": {
    "ExecuteTime": {
     "end_time": "2024-03-25T21:16:47.482873Z",
     "start_time": "2024-03-25T21:16:45.685482Z"
    },
    "scrolled": true
   },
   "outputs": [
    {
     "name": "stdout",
     "output_type": "stream",
     "text": [
      "Late Night\n"
     ]
    },
    {
     "data": {
      "image/png": "[encoded data removed]",
      "text/plain": [
       "<Figure size 432x288 with 1 Axes>"
      ]
     },
     "metadata": {
      "needs_background": "light"
     },
     "output_type": "display_data"
    },
    {
     "name": "stdout",
     "output_type": "stream",
     "text": [
      "Rush Hour AM\n"
     ]
    },
    {
     "data": {
      "image/png": "[encoded data removed]",
      "text/plain": [
       "<Figure size 432x288 with 1 Axes>"
      ]
     },
     "metadata": {
      "needs_background": "light"
     },
     "output_type": "display_data"
    },
    {
     "name": "stdout",
     "output_type": "stream",
     "text": [
      "Midday\n"
     ]
    },
    {
     "data": {
      "image/png": "[encoded data removed]",
      "text/plain": [
       "<Figure size 432x288 with 1 Axes>"
      ]
     },
     "metadata": {
      "needs_background": "light"
     },
     "output_type": "display_data"
    },
    {
     "name": "stdout",
     "output_type": "stream",
     "text": [
      "Rush Hour PM\n"
     ]
    },
    {
     "data": {
      "image/png": "[encoded data removed]",
      "text/plain": [
       "<Figure size 432x288 with 1 Axes>"
      ]
     },
     "metadata": {
      "needs_background": "light"
     },
     "output_type": "display_data"
    },
    {
     "name": "stdout",
     "output_type": "stream",
     "text": [
      "Evening\n"
     ]
    },
    {
     "data": {
      "image/png": "[encoded data removed]",
      "text/plain": [
       "<Figure size 432x288 with 1 Axes>"
      ]
     },
     "metadata": {
      "needs_background": "light"
     },
     "output_type": "display_data"
    },
    {
     "name": "stdout",
     "output_type": "stream",
     "text": [
      "Weekend\n"
     ]
    },
    {
     "data": {
      "image/png": "[encoded data removed]",
      "text/plain": [
       "<Figure size 432x288 with 1 Axes>"
      ]
     },
     "metadata": {
      "needs_background": "light"
     },
     "output_type": "display_data"
    }
   ],
   "source": [
    "for interval in time_of_day_sorting.keys():\n",
    "    print(interval)\n",
    "    ax = sns.barplot(data=trip_interval_route_freq[trip_interval_route_freq\n",
    "                                    ['Train Time Interval']==interval]\n",
    "                                 , x = 'route_id', y='Headway Minutes', order=sorted_routes)\n",
    "#     ax.title(interval)\n",
    "    ax.grid(axis='y')\n",
    "    ax.set_ylim(ymin=0, ymax=30)\n",
    "    plt.show()"
   ]
  },
  {
   "cell_type": "markdown",
   "metadata": {},
   "source": [
    "### Best and Worst Performers by Time of Day"
   ]
  },
  {
   "cell_type": "code",
   "execution_count": 36,
   "metadata": {
    "ExecuteTime": {
     "end_time": "2024-03-25T21:17:02.600201Z",
     "start_time": "2024-03-25T21:17:02.584336Z"
    },
    "scrolled": true
   },
   "outputs": [
    {
     "data": {
      "text/html": [
       "<div>\n",
       "<style scoped>\n",
       "    .dataframe tbody tr th:only-of-type {\n",
       "        vertical-align: middle;\n",
       "    }\n",
       "\n",
       "    .dataframe tbody tr th {\n",
       "        vertical-align: top;\n",
       "    }\n",
       "\n",
       "    .dataframe thead th {\n",
       "        text-align: right;\n",
       "    }\n",
       "</style>\n",
       "<table border=\"1\" class=\"dataframe\">\n",
       "  <thead>\n",
       "    <tr style=\"text-align: right;\">\n",
       "      <th></th>\n",
       "      <th>route_id</th>\n",
       "      <th>Train Time Interval</th>\n",
       "      <th>trains_per_hour</th>\n",
       "      <th>headway_seconds</th>\n",
       "      <th>Headway Minutes</th>\n",
       "      <th>route_time_seconds</th>\n",
       "      <th>route_time_minutes</th>\n",
       "      <th>Avg_num_trains_running</th>\n",
       "    </tr>\n",
       "  </thead>\n",
       "  <tbody>\n",
       "    <tr>\n",
       "      <th>88</th>\n",
       "      <td>H</td>\n",
       "      <td>Rush Hour PM</td>\n",
       "      <td>4</td>\n",
       "      <td>900.0</td>\n",
       "      <td>15.0</td>\n",
       "      <td>602</td>\n",
       "      <td>10.0</td>\n",
       "      <td>1.3</td>\n",
       "    </tr>\n",
       "    <tr>\n",
       "      <th>40</th>\n",
       "      <td>H</td>\n",
       "      <td>Rush Hour AM</td>\n",
       "      <td>3</td>\n",
       "      <td>1200.0</td>\n",
       "      <td>20.0</td>\n",
       "      <td>602</td>\n",
       "      <td>10.0</td>\n",
       "      <td>1.0</td>\n",
       "    </tr>\n",
       "    <tr>\n",
       "      <th>71</th>\n",
       "      <td>SI</td>\n",
       "      <td>Midday</td>\n",
       "      <td>2</td>\n",
       "      <td>1800.0</td>\n",
       "      <td>30.0</td>\n",
       "      <td>2418</td>\n",
       "      <td>40.3</td>\n",
       "      <td>2.7</td>\n",
       "    </tr>\n",
       "    <tr>\n",
       "      <th>104</th>\n",
       "      <td>B</td>\n",
       "      <td>Evening</td>\n",
       "      <td>2</td>\n",
       "      <td>1800.0</td>\n",
       "      <td>30.0</td>\n",
       "      <td>4303</td>\n",
       "      <td>71.7</td>\n",
       "      <td>4.8</td>\n",
       "    </tr>\n",
       "    <tr>\n",
       "      <th>23</th>\n",
       "      <td>SI</td>\n",
       "      <td>Late Night</td>\n",
       "      <td>2</td>\n",
       "      <td>1800.0</td>\n",
       "      <td>30.0</td>\n",
       "      <td>2418</td>\n",
       "      <td>40.3</td>\n",
       "      <td>2.7</td>\n",
       "    </tr>\n",
       "    <tr>\n",
       "      <th>142</th>\n",
       "      <td>SI</td>\n",
       "      <td>Weekend</td>\n",
       "      <td>2</td>\n",
       "      <td>1800.0</td>\n",
       "      <td>30.0</td>\n",
       "      <td>2418</td>\n",
       "      <td>40.3</td>\n",
       "      <td>2.7</td>\n",
       "    </tr>\n",
       "  </tbody>\n",
       "</table>\n",
       "</div>"
      ],
      "text/plain": [
       "    route_id Train Time Interval  trains_per_hour  headway_seconds  \\\n",
       "88         H        Rush Hour PM                4            900.0   \n",
       "40         H        Rush Hour AM                3           1200.0   \n",
       "71        SI              Midday                2           1800.0   \n",
       "104        B             Evening                2           1800.0   \n",
       "23        SI          Late Night                2           1800.0   \n",
       "142       SI             Weekend                2           1800.0   \n",
       "\n",
       "     Headway Minutes  route_time_seconds  route_time_minutes  \\\n",
       "88              15.0                 602                10.0   \n",
       "40              20.0                 602                10.0   \n",
       "71              30.0                2418                40.3   \n",
       "104             30.0                4303                71.7   \n",
       "23              30.0                2418                40.3   \n",
       "142             30.0                2418                40.3   \n",
       "\n",
       "     Avg_num_trains_running  \n",
       "88                      1.3  \n",
       "40                      1.0  \n",
       "71                      2.7  \n",
       "104                     4.8  \n",
       "23                      2.7  \n",
       "142                     2.7  "
      ]
     },
     "execution_count": 36,
     "metadata": {},
     "output_type": "execute_result"
    }
   ],
   "source": [
    "# lowest  -- removing inf values first\n",
    "# it's a tie for worst so let's just make it SIR lol \n",
    "trip_interval_route_freq[trip_interval_route_freq['Headway Minutes'] < 1000].sort_values(\n",
    "    by='Headway Minutes').drop_duplicates(subset='Train Time Interval', keep='last')"
   ]
  },
  {
   "cell_type": "code",
   "execution_count": 37,
   "metadata": {
    "ExecuteTime": {
     "end_time": "2024-03-25T21:17:15.216151Z",
     "start_time": "2024-03-25T21:17:15.198011Z"
    }
   },
   "outputs": [
    {
     "data": {
      "text/html": [
       "<div>\n",
       "<style scoped>\n",
       "    .dataframe tbody tr th:only-of-type {\n",
       "        vertical-align: middle;\n",
       "    }\n",
       "\n",
       "    .dataframe tbody tr th {\n",
       "        vertical-align: top;\n",
       "    }\n",
       "\n",
       "    .dataframe thead th {\n",
       "        text-align: right;\n",
       "    }\n",
       "</style>\n",
       "<table border=\"1\" class=\"dataframe\">\n",
       "  <thead>\n",
       "    <tr style=\"text-align: right;\">\n",
       "      <th></th>\n",
       "      <th>route_id</th>\n",
       "      <th>Train Time Interval</th>\n",
       "      <th>trains_per_hour</th>\n",
       "      <th>headway_seconds</th>\n",
       "      <th>Headway Minutes</th>\n",
       "      <th>route_time_seconds</th>\n",
       "      <th>route_time_minutes</th>\n",
       "      <th>Avg_num_trains_running</th>\n",
       "    </tr>\n",
       "  </thead>\n",
       "  <tbody>\n",
       "    <tr>\n",
       "      <th>7</th>\n",
       "      <td>A</td>\n",
       "      <td>Late Night</td>\n",
       "      <td>6</td>\n",
       "      <td>600.0</td>\n",
       "      <td>10.0</td>\n",
       "      <td>4850</td>\n",
       "      <td>80.8</td>\n",
       "      <td>16.2</td>\n",
       "    </tr>\n",
       "    <tr>\n",
       "      <th>137</th>\n",
       "      <td>L</td>\n",
       "      <td>Weekend</td>\n",
       "      <td>12</td>\n",
       "      <td>300.0</td>\n",
       "      <td>5.0</td>\n",
       "      <td>2235</td>\n",
       "      <td>37.2</td>\n",
       "      <td>14.9</td>\n",
       "    </tr>\n",
       "    <tr>\n",
       "      <th>102</th>\n",
       "      <td>7</td>\n",
       "      <td>Evening</td>\n",
       "      <td>12</td>\n",
       "      <td>300.0</td>\n",
       "      <td>5.0</td>\n",
       "      <td>2245</td>\n",
       "      <td>37.4</td>\n",
       "      <td>15.0</td>\n",
       "    </tr>\n",
       "    <tr>\n",
       "      <th>53</th>\n",
       "      <td>6</td>\n",
       "      <td>Midday</td>\n",
       "      <td>15</td>\n",
       "      <td>240.0</td>\n",
       "      <td>4.0</td>\n",
       "      <td>3445</td>\n",
       "      <td>57.4</td>\n",
       "      <td>28.7</td>\n",
       "    </tr>\n",
       "    <tr>\n",
       "      <th>78</th>\n",
       "      <td>7</td>\n",
       "      <td>Rush Hour PM</td>\n",
       "      <td>20</td>\n",
       "      <td>180.0</td>\n",
       "      <td>3.0</td>\n",
       "      <td>2245</td>\n",
       "      <td>37.4</td>\n",
       "      <td>24.9</td>\n",
       "    </tr>\n",
       "    <tr>\n",
       "      <th>30</th>\n",
       "      <td>7</td>\n",
       "      <td>Rush Hour AM</td>\n",
       "      <td>24</td>\n",
       "      <td>150.0</td>\n",
       "      <td>2.5</td>\n",
       "      <td>2245</td>\n",
       "      <td>37.4</td>\n",
       "      <td>29.9</td>\n",
       "    </tr>\n",
       "  </tbody>\n",
       "</table>\n",
       "</div>"
      ],
      "text/plain": [
       "    route_id Train Time Interval  trains_per_hour  headway_seconds  \\\n",
       "7          A          Late Night                6            600.0   \n",
       "137        L             Weekend               12            300.0   \n",
       "102        7             Evening               12            300.0   \n",
       "53         6              Midday               15            240.0   \n",
       "78         7        Rush Hour PM               20            180.0   \n",
       "30         7        Rush Hour AM               24            150.0   \n",
       "\n",
       "     Headway Minutes  route_time_seconds  route_time_minutes  \\\n",
       "7               10.0                4850                80.8   \n",
       "137              5.0                2235                37.2   \n",
       "102              5.0                2245                37.4   \n",
       "53               4.0                3445                57.4   \n",
       "78               3.0                2245                37.4   \n",
       "30               2.5                2245                37.4   \n",
       "\n",
       "     Avg_num_trains_running  \n",
       "7                      16.2  \n",
       "137                    14.9  \n",
       "102                    15.0  \n",
       "53                     28.7  \n",
       "78                     24.9  \n",
       "30                     29.9  "
      ]
     },
     "execution_count": 37,
     "metadata": {},
     "output_type": "execute_result"
    }
   ],
   "source": [
    "trip_interval_route_freq[trip_interval_route_freq['Headway Minutes'] < 1000].sort_values(\n",
    "    by='Headway Minutes', ascending=False).drop_duplicates(subset='Train Time Interval', keep='last')"
   ]
  },
  {
   "cell_type": "markdown",
   "metadata": {},
   "source": [
    "### Ratios between train_time_intervals for each route"
   ]
  },
  {
   "cell_type": "code",
   "execution_count": 38,
   "metadata": {
    "ExecuteTime": {
     "end_time": "2024-03-25T21:17:16.350709Z",
     "start_time": "2024-03-25T21:17:16.346955Z"
    }
   },
   "outputs": [],
   "source": [
    "# maybe start with best to worst?"
   ]
  },
  {
   "cell_type": "markdown",
   "metadata": {},
   "source": [
    "## Visualizing Hourly Frequency within a Service"
   ]
  },
  {
   "cell_type": "code",
   "execution_count": 39,
   "metadata": {
    "ExecuteTime": {
     "end_time": "2024-03-25T21:17:17.173675Z",
     "start_time": "2024-03-25T21:17:17.170676Z"
    }
   },
   "outputs": [],
   "source": [
    "# plot the headway minutes for a single line\n",
    "l_train_hourly_df = hourly_route_trip_freq[hourly_route_trip_freq['route_id']=='L']"
   ]
  },
  {
   "cell_type": "code",
   "execution_count": 41,
   "metadata": {
    "ExecuteTime": {
     "end_time": "2024-03-25T21:17:34.818806Z",
     "start_time": "2024-03-25T21:17:34.813432Z"
    }
   },
   "outputs": [],
   "source": [
    "l_train_hourly_df_trimmed = l_train_hourly_df[['day_of_week', 'departure_hour', 'headway_seconds'\n",
    "                                               , 'headway_minutes', 'Avg_num_trains_running', 'day_hour']]"
   ]
  },
  {
   "cell_type": "code",
   "execution_count": 42,
   "metadata": {
    "ExecuteTime": {
     "end_time": "2024-03-25T21:17:35.821855Z",
     "start_time": "2024-03-25T21:17:35.813515Z"
    }
   },
   "outputs": [
    {
     "name": "stdout",
     "output_type": "stream",
     "text": [
      "<class 'pandas.core.frame.DataFrame'>\n",
      "Int64Index: 72 entries, 1207 to 1278\n",
      "Data columns (total 6 columns):\n",
      " #   Column                  Non-Null Count  Dtype  \n",
      "---  ------                  --------------  -----  \n",
      " 0   day_of_week             72 non-null     object \n",
      " 1   departure_hour          72 non-null     int64  \n",
      " 2   headway_seconds         72 non-null     float64\n",
      " 3   headway_minutes         72 non-null     float64\n",
      " 4   Avg_num_trains_running  72 non-null     float64\n",
      " 5   day_hour                72 non-null     object \n",
      "dtypes: float64(3), int64(1), object(2)\n",
      "memory usage: 3.9+ KB\n"
     ]
    }
   ],
   "source": [
    "l_train_hourly_df_trimmed.info()"
   ]
  },
  {
   "cell_type": "code",
   "execution_count": 43,
   "metadata": {
    "ExecuteTime": {
     "end_time": "2024-03-25T21:17:36.979546Z",
     "start_time": "2024-03-25T21:17:36.729554Z"
    }
   },
   "outputs": [
    {
     "data": {
      "text/plain": [
       "<AxesSubplot:xlabel='departure_hour', ylabel='headway_minutes'>"
      ]
     },
     "execution_count": 43,
     "metadata": {},
     "output_type": "execute_result"
    },
    {
     "data": {
      "image/png": "[encoded data removed]",
      "text/plain": [
       "<Figure size 432x288 with 1 Axes>"
      ]
     },
     "metadata": {
      "needs_background": "light"
     },
     "output_type": "display_data"
    }
   ],
   "source": [
    "sns.lineplot(data=l_train_hourly_df_trimmed, x='departure_hour', y='headway_minutes', hue='day_of_week')"
   ]
  },
  {
   "cell_type": "markdown",
   "metadata": {},
   "source": [
    "# How many route variations are there?\n",
    "i.e.: how many different start stations and final stations are there on the schedule? e.g.: the 5 starting at E180 and ending at Eastchester/Dyre Ave is 1"
   ]
  },
  {
   "cell_type": "code",
   "execution_count": 44,
   "metadata": {
    "ExecuteTime": {
     "end_time": "2024-03-25T21:18:20.923414Z",
     "start_time": "2024-03-25T21:18:17.834852Z"
    }
   },
   "outputs": [],
   "source": [
    "# find the unique trip ids first and last stop_ids\n",
    "# then find the unique combinations of those two stop_ids\n",
    "min_stop_ids_idx = stop_times_df.groupby('trip_id')['stop_sequence'].idxmin()\n",
    "max_stop_ids_idx = stop_times_df.groupby('trip_id')['stop_sequence'].idxmax()\n",
    "min_stop_rows = stop_times_df.loc[min_stop_ids_idx].drop(columns=['arrival_time', 'departure_time'])\n",
    "max_stop_rows = stop_times_df.loc[max_stop_ids_idx].drop(columns=['arrival_time', 'departure_time'])"
   ]
  },
  {
   "cell_type": "code",
   "execution_count": 45,
   "metadata": {
    "ExecuteTime": {
     "end_time": "2024-03-25T21:18:22.309826Z",
     "start_time": "2024-03-25T21:18:21.868216Z"
    }
   },
   "outputs": [],
   "source": [
    "trips_w_stops = pd.merge(min_stop_rows, max_stop_rows, on='trip_id')\n",
    "trips_w_stops['start_stop'] = [str(trips_w_stops['stop_id_x'].iloc[idx]) + \"_\" + \n",
    "                               str(trips_w_stops['stop_id_y'].iloc[idx])\n",
    "                               for idx in range(len(trips_w_stops))]\n",
    "trips_w_stops['route_id'] = [x.split(\"_\")[-1].split('.')[0] \n",
    "                                        for x in trips_w_stops['trip_id']]"
   ]
  },
  {
   "cell_type": "code",
   "execution_count": 46,
   "metadata": {
    "ExecuteTime": {
     "end_time": "2024-03-25T21:18:23.293207Z",
     "start_time": "2024-03-25T21:18:23.286941Z"
    }
   },
   "outputs": [],
   "source": [
    "all_start_and_stops_w_freq = trips_w_stops.start_stop.value_counts()"
   ]
  },
  {
   "cell_type": "code",
   "execution_count": 47,
   "metadata": {
    "ExecuteTime": {
     "end_time": "2024-03-25T21:18:24.291850Z",
     "start_time": "2024-03-25T21:18:24.284545Z"
    }
   },
   "outputs": [
    {
     "data": {
      "text/plain": [
       "count    145.000000\n",
       "mean     140.448276\n",
       "std      186.497168\n",
       "min        1.000000\n",
       "25%        4.000000\n",
       "50%       42.000000\n",
       "75%      241.000000\n",
       "max      735.000000\n",
       "Name: start_stop, dtype: float64"
      ]
     },
     "execution_count": 47,
     "metadata": {},
     "output_type": "execute_result"
    }
   ],
   "source": [
    "# 44 are run less than 5 times in a week \n",
    "# the average route is done 140 times in a week \n",
    "len(all_start_and_stops_w_freq[all_start_and_stops_w_freq.values < 5])\n",
    "all_start_and_stops_w_freq.describe()"
   ]
  },
  {
   "cell_type": "code",
   "execution_count": 48,
   "metadata": {
    "ExecuteTime": {
     "end_time": "2024-03-25T21:18:25.298233Z",
     "start_time": "2024-03-25T21:18:25.272090Z"
    }
   },
   "outputs": [],
   "source": [
    "trips_w_a_unique_start_stop = trips_w_stops.groupby('start_stop')['route_id'].max()"
   ]
  },
  {
   "cell_type": "code",
   "execution_count": 49,
   "metadata": {
    "ExecuteTime": {
     "end_time": "2024-03-25T21:18:26.304922Z",
     "start_time": "2024-03-25T21:18:26.299796Z"
    }
   },
   "outputs": [
    {
     "data": {
      "text/plain": [
       "5    22\n",
       "A    17\n",
       "4    10\n",
       "F     9\n",
       "R     9\n",
       "Name: route_id, dtype: int64"
      ]
     },
     "execution_count": 49,
     "metadata": {},
     "output_type": "execute_result"
    }
   ],
   "source": [
    "# which services have the most variations? (note, I'm counting permutations, not combinations)\n",
    "# i don't understand why some services have an odd number of services\n",
    "unique_service_patterns_by_service = trips_w_a_unique_start_stop.value_counts()\n",
    "unique_service_patterns_by_service.head(5)"
   ]
  },
  {
   "cell_type": "code",
   "execution_count": 50,
   "metadata": {
    "ExecuteTime": {
     "end_time": "2024-03-25T21:18:27.307850Z",
     "start_time": "2024-03-25T21:18:27.303963Z"
    },
    "scrolled": true
   },
   "outputs": [
    {
     "data": {
      "text/plain": [
       "start_stop\n",
       "L01S_L17S    L\n",
       "L01S_L29S    L\n",
       "L17N_L01N    L\n",
       "L28N_L01N    L\n",
       "L29N_L01N    L\n",
       "Name: route_id, dtype: object"
      ]
     },
     "execution_count": 50,
     "metadata": {},
     "output_type": "execute_result"
    }
   ],
   "source": [
    "# looking at particular services \n",
    "trips_w_a_unique_start_stop[trips_w_a_unique_start_stop.values=='L']"
   ]
  },
  {
   "cell_type": "markdown",
   "metadata": {},
   "source": [
    "# Max and Min Capacity of All Trains at One Time"
   ]
  },
  {
   "cell_type": "markdown",
   "metadata": {},
   "source": [
    "## Max Capacity\n",
    "How many people could the trains in the subway hold at any one moment?"
   ]
  },
  {
   "cell_type": "code",
   "execution_count": 51,
   "metadata": {
    "ExecuteTime": {
     "end_time": "2024-03-25T21:18:35.009935Z",
     "start_time": "2024-03-25T21:18:34.994798Z"
    }
   },
   "outputs": [],
   "source": [
    "# 4 pm on weekdays has the most trains\n",
    "max_hourly_number_of_trains_lines = hourly_route_trip_freq[hourly_route_trip_freq['day_hour']\n",
    "                                                       =='Weekday_16'][['route_id', 'Avg_num_trains_running']]\n",
    "lines_and_capacity_at_peak = pd.merge(max_hourly_number_of_trains_lines, train_area_df[['route_id', 'capacity']])\n",
    "lines_and_capacity_at_peak['total_capacity'] = lines_and_capacity_at_peak['Avg_num_trains_running'] * \\\n",
    "                                                lines_and_capacity_at_peak['capacity']"
   ]
  },
  {
   "cell_type": "code",
   "execution_count": 56,
   "metadata": {
    "ExecuteTime": {
     "end_time": "2024-03-25T21:18:51.677531Z",
     "start_time": "2024-03-25T21:18:51.671838Z"
    }
   },
   "outputs": [
    {
     "data": {
      "text/plain": [
       "912360.0"
      ]
     },
     "execution_count": 56,
     "metadata": {},
     "output_type": "execute_result"
    }
   ],
   "source": [
    "# 912 K people can be in subway cars at any one time during peak service\n",
    "lines_and_capacity_at_peak['total_capacity'].sum()"
   ]
  },
  {
   "cell_type": "markdown",
   "metadata": {},
   "source": [
    "## Min Capacity\n",
    "How many people could the trains in the subway hold at any one moment during minimum capacity?"
   ]
  },
  {
   "cell_type": "code",
   "execution_count": 53,
   "metadata": {
    "ExecuteTime": {
     "end_time": "2024-03-25T21:18:37.211715Z",
     "start_time": "2024-03-25T21:18:37.200916Z"
    },
    "code_folding": [
     1
    ]
   },
   "outputs": [],
   "source": [
    "# Saturday at 2 am has the least number of trains running\n",
    "min_hourly_number_of_trains_lines = hourly_route_trip_freq[hourly_route_trip_freq['day_hour']\n",
    "                                                       =='Saturday_2'][['route_id', 'Avg_num_trains_running']]\n",
    "lines_and_capacity_at_peak_min = pd.merge(min_hourly_number_of_trains_lines, train_area_df[['route_id', 'capacity']])\n",
    "lines_and_capacity_at_peak_min['total_capacity'] = lines_and_capacity_at_peak_min['Avg_num_trains_running'] * \\\n",
    "                                                    lines_and_capacity_at_peak_min['capacity']"
   ]
  },
  {
   "cell_type": "code",
   "execution_count": 54,
   "metadata": {
    "ExecuteTime": {
     "end_time": "2024-03-25T21:18:38.303589Z",
     "start_time": "2024-03-25T21:18:38.300157Z"
    }
   },
   "outputs": [
    {
     "data": {
      "text/plain": [
       "219510.0"
      ]
     },
     "execution_count": 54,
     "metadata": {},
     "output_type": "execute_result"
    }
   ],
   "source": [
    "# 220K people can fit in the NYC subway at a minimum \n",
    "lines_and_capacity_at_peak_min['total_capacity'].sum()"
   ]
  },
  {
   "cell_type": "markdown",
   "metadata": {},
   "source": [
    "# Stations "
   ]
  },
  {
   "cell_type": "markdown",
   "metadata": {},
   "source": [
    "## Most Frequency at each type of Station"
   ]
  },
  {
   "cell_type": "code",
   "execution_count": 57,
   "metadata": {
    "ExecuteTime": {
     "end_time": "2024-03-25T21:18:55.937300Z",
     "start_time": "2024-03-25T21:18:55.923813Z"
    }
   },
   "outputs": [
    {
     "name": "stdout",
     "output_type": "stream",
     "text": [
      "<class 'pandas.core.frame.DataFrame'>\n",
      "Int64Index: 475 entries, 0 to 474\n",
      "Data columns (total 25 columns):\n",
      " #   Column                                Non-Null Count  Dtype  \n",
      "---  ------                                --------------  -----  \n",
      " 0   Complex ID                            475 non-null    int64  \n",
      " 1   tph                                   475 non-null    float64\n",
      " 2   hourly_trainset_area                  475 non-null    float64\n",
      " 3   GTFS Stop ID                          475 non-null    object \n",
      " 4   Station ID                            475 non-null    int64  \n",
      " 5   Division                              475 non-null    object \n",
      " 6   Line                                  475 non-null    object \n",
      " 7   Stop Name                             475 non-null    object \n",
      " 8   Borough                               475 non-null    object \n",
      " 9   Daytime Routes                        475 non-null    object \n",
      " 10  Structure                             475 non-null    object \n",
      " 11  GTFS Latitude                         475 non-null    float64\n",
      " 12  GTFS Longitude                        475 non-null    float64\n",
      " 13  North Direction Label                 475 non-null    object \n",
      " 14  South Direction Label                 475 non-null    object \n",
      " 15  stations_in_complex_count             475 non-null    int64  \n",
      " 16  station_complex_id                    475 non-null    float64\n",
      " 17  avg_daily_ridership                   475 non-null    float64\n",
      " 18  avg_hourly_ridership                  475 non-null    float64\n",
      " 19  hourly_ridership_per_train_direction  475 non-null    float64\n",
      " 20  TPH_percent_rank                      475 non-null    float64\n",
      " 21  Ridership_percent_rank                475 non-null    float64\n",
      " 22  Crowdedness_percent_rank              475 non-null    float64\n",
      " 23  distance_in_15                        475 non-null    float64\n",
      " 24  distance_in_30                        475 non-null    float64\n",
      "dtypes: float64(13), int64(3), object(9)\n",
      "memory usage: 96.5+ KB\n"
     ]
    }
   ],
   "source": [
    "station_complex_full_info.info()"
   ]
  },
  {
   "cell_type": "code",
   "execution_count": 59,
   "metadata": {
    "ExecuteTime": {
     "end_time": "2024-03-25T21:19:05.070439Z",
     "start_time": "2024-03-25T21:19:05.064030Z"
    }
   },
   "outputs": [],
   "source": [
    "# these include the mixed types of stations as 1 (e.g.: 4 av-9st counts the F, G, and R together)\n",
    "tph_by_structure_type_indices = station_complex_full_info.groupby('Structure')['tph'].idxmax()"
   ]
  },
  {
   "cell_type": "code",
   "execution_count": 61,
   "metadata": {
    "ExecuteTime": {
     "end_time": "2024-03-25T21:19:28.789520Z",
     "start_time": "2024-03-25T21:19:28.783504Z"
    }
   },
   "outputs": [],
   "source": [
    "tph_by_structure_type = station_complex_full_info.loc[tph_by_structure_type_indices]\\\n",
    "                    [['tph', 'Stop Name', 'Borough', 'Structure', 'avg_daily_ridership'\n",
    "                      , 'avg_hourly_ridership', 'Crowdedness_percent_rank']].sort_values(by='tph')"
   ]
  },
  {
   "cell_type": "code",
   "execution_count": 62,
   "metadata": {
    "ExecuteTime": {
     "end_time": "2024-03-25T21:19:30.020498Z",
     "start_time": "2024-03-25T21:19:30.008565Z"
    },
    "scrolled": true
   },
   "outputs": [
    {
     "data": {
      "text/html": [
       "<div>\n",
       "<style scoped>\n",
       "    .dataframe tbody tr th:only-of-type {\n",
       "        vertical-align: middle;\n",
       "    }\n",
       "\n",
       "    .dataframe tbody tr th {\n",
       "        vertical-align: top;\n",
       "    }\n",
       "\n",
       "    .dataframe thead th {\n",
       "        text-align: right;\n",
       "    }\n",
       "</style>\n",
       "<table border=\"1\" class=\"dataframe\">\n",
       "  <thead>\n",
       "    <tr style=\"text-align: right;\">\n",
       "      <th></th>\n",
       "      <th>tph</th>\n",
       "      <th>Stop Name</th>\n",
       "      <th>Borough</th>\n",
       "      <th>Structure</th>\n",
       "      <th>avg_daily_ridership</th>\n",
       "      <th>avg_hourly_ridership</th>\n",
       "      <th>Crowdedness_percent_rank</th>\n",
       "    </tr>\n",
       "  </thead>\n",
       "  <tbody>\n",
       "    <tr>\n",
       "      <th>109</th>\n",
       "      <td>10.98</td>\n",
       "      <td>East 105 St</td>\n",
       "      <td>Bk</td>\n",
       "      <td>At Grade</td>\n",
       "      <td>2130.2</td>\n",
       "      <td>88.8</td>\n",
       "      <td>0.05</td>\n",
       "    </tr>\n",
       "    <tr>\n",
       "      <th>44</th>\n",
       "      <td>24.48</td>\n",
       "      <td>Coney Island-Stillwell Av</td>\n",
       "      <td>Bk</td>\n",
       "      <td>Viaduct</td>\n",
       "      <td>8530.0</td>\n",
       "      <td>355.4</td>\n",
       "      <td>0.23</td>\n",
       "    </tr>\n",
       "    <tr>\n",
       "      <th>459</th>\n",
       "      <td>29.71</td>\n",
       "      <td>Botanic Garden</td>\n",
       "      <td>Bk</td>\n",
       "      <td>Open Cut</td>\n",
       "      <td>11227.0</td>\n",
       "      <td>467.8</td>\n",
       "      <td>0.26</td>\n",
       "    </tr>\n",
       "    <tr>\n",
       "      <th>409</th>\n",
       "      <td>36.05</td>\n",
       "      <td>Court Sq</td>\n",
       "      <td>Q</td>\n",
       "      <td>Elevated</td>\n",
       "      <td>18262.4</td>\n",
       "      <td>760.9</td>\n",
       "      <td>0.40</td>\n",
       "    </tr>\n",
       "    <tr>\n",
       "      <th>419</th>\n",
       "      <td>88.59</td>\n",
       "      <td>Times Sq-42 St</td>\n",
       "      <td>M</td>\n",
       "      <td>Subway</td>\n",
       "      <td>132701.2</td>\n",
       "      <td>5529.2</td>\n",
       "      <td>0.94</td>\n",
       "    </tr>\n",
       "  </tbody>\n",
       "</table>\n",
       "</div>"
      ],
      "text/plain": [
       "       tph                  Stop Name Borough Structure  avg_daily_ridership  \\\n",
       "109  10.98                East 105 St      Bk  At Grade               2130.2   \n",
       "44   24.48  Coney Island-Stillwell Av      Bk   Viaduct               8530.0   \n",
       "459  29.71             Botanic Garden      Bk  Open Cut              11227.0   \n",
       "409  36.05                   Court Sq       Q  Elevated              18262.4   \n",
       "419  88.59             Times Sq-42 St       M    Subway             132701.2   \n",
       "\n",
       "     avg_hourly_ridership  Crowdedness_percent_rank  \n",
       "109                  88.8                      0.05  \n",
       "44                  355.4                      0.23  \n",
       "459                 467.8                      0.26  \n",
       "409                 760.9                      0.40  \n",
       "419                5529.2                      0.94  "
      ]
     },
     "execution_count": 62,
     "metadata": {},
     "output_type": "execute_result"
    }
   ],
   "source": [
    "# most service by structure\n",
    "tph_by_structure_type"
   ]
  },
  {
   "cell_type": "markdown",
   "metadata": {},
   "source": [
    "## Highest Amount of Riders by Station Type"
   ]
  },
  {
   "cell_type": "code",
   "execution_count": 64,
   "metadata": {
    "ExecuteTime": {
     "end_time": "2024-03-25T21:20:07.262180Z",
     "start_time": "2024-03-25T21:20:07.256259Z"
    }
   },
   "outputs": [],
   "source": [
    "ridership_by_structure_type_indices = station_complex_full_info.groupby('Structure')\\\n",
    "                                        ['avg_daily_ridership'].idxmax()"
   ]
  },
  {
   "cell_type": "code",
   "execution_count": 65,
   "metadata": {
    "ExecuteTime": {
     "end_time": "2024-03-25T21:20:16.735166Z",
     "start_time": "2024-03-25T21:20:16.728714Z"
    }
   },
   "outputs": [],
   "source": [
    "ridership_by_structure_type = station_complex_full_info.loc[ridership_by_structure_type_indices]\\\n",
    "                    [['tph', 'Stop Name', 'Borough', 'Structure', 'avg_daily_ridership'\n",
    "                      , 'avg_hourly_ridership', 'Crowdedness_percent_rank']].sort_values(by='avg_daily_ridership')"
   ]
  },
  {
   "cell_type": "code",
   "execution_count": 66,
   "metadata": {
    "ExecuteTime": {
     "end_time": "2024-03-25T21:20:18.025374Z",
     "start_time": "2024-03-25T21:20:18.015044Z"
    }
   },
   "outputs": [
    {
     "data": {
      "text/html": [
       "<div>\n",
       "<style scoped>\n",
       "    .dataframe tbody tr th:only-of-type {\n",
       "        vertical-align: middle;\n",
       "    }\n",
       "\n",
       "    .dataframe tbody tr th {\n",
       "        vertical-align: top;\n",
       "    }\n",
       "\n",
       "    .dataframe thead th {\n",
       "        text-align: right;\n",
       "    }\n",
       "</style>\n",
       "<table border=\"1\" class=\"dataframe\">\n",
       "  <thead>\n",
       "    <tr style=\"text-align: right;\">\n",
       "      <th></th>\n",
       "      <th>tph</th>\n",
       "      <th>Stop Name</th>\n",
       "      <th>Borough</th>\n",
       "      <th>Structure</th>\n",
       "      <th>avg_daily_ridership</th>\n",
       "      <th>avg_hourly_ridership</th>\n",
       "      <th>Crowdedness_percent_rank</th>\n",
       "    </tr>\n",
       "  </thead>\n",
       "  <tbody>\n",
       "    <tr>\n",
       "      <th>369</th>\n",
       "      <td>5.96</td>\n",
       "      <td>Eastchester-Dyre Av</td>\n",
       "      <td>Bx</td>\n",
       "      <td>At Grade</td>\n",
       "      <td>2827.6</td>\n",
       "      <td>117.8</td>\n",
       "      <td>0.37</td>\n",
       "    </tr>\n",
       "    <tr>\n",
       "      <th>413</th>\n",
       "      <td>23.71</td>\n",
       "      <td>4 Av-9 St</td>\n",
       "      <td>Bk</td>\n",
       "      <td>Viaduct</td>\n",
       "      <td>9307.4</td>\n",
       "      <td>387.8</td>\n",
       "      <td>0.28</td>\n",
       "    </tr>\n",
       "    <tr>\n",
       "      <th>37</th>\n",
       "      <td>10.65</td>\n",
       "      <td>Kings Hwy</td>\n",
       "      <td>Bk</td>\n",
       "      <td>Open Cut</td>\n",
       "      <td>14559.2</td>\n",
       "      <td>606.6</td>\n",
       "      <td>0.90</td>\n",
       "    </tr>\n",
       "    <tr>\n",
       "      <th>433</th>\n",
       "      <td>35.05</td>\n",
       "      <td>74 St-Broadway</td>\n",
       "      <td>Q</td>\n",
       "      <td>Elevated</td>\n",
       "      <td>45850.4</td>\n",
       "      <td>1910.4</td>\n",
       "      <td>0.89</td>\n",
       "    </tr>\n",
       "    <tr>\n",
       "      <th>419</th>\n",
       "      <td>88.59</td>\n",
       "      <td>Times Sq-42 St</td>\n",
       "      <td>M</td>\n",
       "      <td>Subway</td>\n",
       "      <td>132701.2</td>\n",
       "      <td>5529.2</td>\n",
       "      <td>0.94</td>\n",
       "    </tr>\n",
       "  </tbody>\n",
       "</table>\n",
       "</div>"
      ],
      "text/plain": [
       "       tph            Stop Name Borough Structure  avg_daily_ridership  \\\n",
       "369   5.96  Eastchester-Dyre Av      Bx  At Grade               2827.6   \n",
       "413  23.71            4 Av-9 St      Bk   Viaduct               9307.4   \n",
       "37   10.65            Kings Hwy      Bk  Open Cut              14559.2   \n",
       "433  35.05       74 St-Broadway       Q  Elevated              45850.4   \n",
       "419  88.59       Times Sq-42 St       M    Subway             132701.2   \n",
       "\n",
       "     avg_hourly_ridership  Crowdedness_percent_rank  \n",
       "369                 117.8                      0.37  \n",
       "413                 387.8                      0.28  \n",
       "37                  606.6                      0.90  \n",
       "433                1910.4                      0.89  \n",
       "419                5529.2                      0.94  "
      ]
     },
     "execution_count": 66,
     "metadata": {},
     "output_type": "execute_result"
    }
   ],
   "source": [
    "# most riders by structure\n",
    "ridership_by_structure_type"
   ]
  },
  {
   "cell_type": "markdown",
   "metadata": {},
   "source": [
    "## Ridership per Station Complex"
   ]
  },
  {
   "cell_type": "code",
   "execution_count": 67,
   "metadata": {
    "ExecuteTime": {
     "end_time": "2024-03-25T21:21:30.846984Z",
     "start_time": "2024-03-25T21:21:30.816069Z"
    }
   },
   "outputs": [
    {
     "data": {
      "text/html": [
       "<div>\n",
       "<style scoped>\n",
       "    .dataframe tbody tr th:only-of-type {\n",
       "        vertical-align: middle;\n",
       "    }\n",
       "\n",
       "    .dataframe tbody tr th {\n",
       "        vertical-align: top;\n",
       "    }\n",
       "\n",
       "    .dataframe thead th {\n",
       "        text-align: right;\n",
       "    }\n",
       "</style>\n",
       "<table border=\"1\" class=\"dataframe\">\n",
       "  <thead>\n",
       "    <tr style=\"text-align: right;\">\n",
       "      <th></th>\n",
       "      <th>Complex ID</th>\n",
       "      <th>tph</th>\n",
       "      <th>hourly_trainset_area</th>\n",
       "      <th>GTFS Stop ID</th>\n",
       "      <th>Station ID</th>\n",
       "      <th>Division</th>\n",
       "      <th>Line</th>\n",
       "      <th>Stop Name</th>\n",
       "      <th>Borough</th>\n",
       "      <th>Daytime Routes</th>\n",
       "      <th>...</th>\n",
       "      <th>stations_in_complex_count</th>\n",
       "      <th>station_complex_id</th>\n",
       "      <th>avg_daily_ridership</th>\n",
       "      <th>avg_hourly_ridership</th>\n",
       "      <th>hourly_ridership_per_train_direction</th>\n",
       "      <th>TPH_percent_rank</th>\n",
       "      <th>Ridership_percent_rank</th>\n",
       "      <th>Crowdedness_percent_rank</th>\n",
       "      <th>distance_in_15</th>\n",
       "      <th>distance_in_30</th>\n",
       "    </tr>\n",
       "  </thead>\n",
       "  <tbody>\n",
       "    <tr>\n",
       "      <th>374</th>\n",
       "      <td>447</td>\n",
       "      <td>12.23</td>\n",
       "      <td>5629.70</td>\n",
       "      <td>701</td>\n",
       "      <td>447</td>\n",
       "      <td>IRT</td>\n",
       "      <td>Flushing</td>\n",
       "      <td>Flushing-Main St</td>\n",
       "      <td>Q</td>\n",
       "      <td>7</td>\n",
       "      <td>...</td>\n",
       "      <td>1</td>\n",
       "      <td>447.0</td>\n",
       "      <td>44896.8</td>\n",
       "      <td>1870.7</td>\n",
       "      <td>76.5</td>\n",
       "      <td>0.70</td>\n",
       "      <td>0.95</td>\n",
       "      <td>1.00</td>\n",
       "      <td>807.52</td>\n",
       "      <td>2007.52</td>\n",
       "    </tr>\n",
       "    <tr>\n",
       "      <th>394</th>\n",
       "      <td>477</td>\n",
       "      <td>6.83</td>\n",
       "      <td>3897.73</td>\n",
       "      <td>Q03</td>\n",
       "      <td>477</td>\n",
       "      <td>IND</td>\n",
       "      <td>Second Av</td>\n",
       "      <td>72 St</td>\n",
       "      <td>M</td>\n",
       "      <td>Q</td>\n",
       "      <td>...</td>\n",
       "      <td>1</td>\n",
       "      <td>477.0</td>\n",
       "      <td>22113.0</td>\n",
       "      <td>921.4</td>\n",
       "      <td>67.5</td>\n",
       "      <td>0.24</td>\n",
       "      <td>0.87</td>\n",
       "      <td>1.00</td>\n",
       "      <td>497.22</td>\n",
       "      <td>1697.22</td>\n",
       "    </tr>\n",
       "    <tr>\n",
       "      <th>131</th>\n",
       "      <td>164</td>\n",
       "      <td>20.04</td>\n",
       "      <td>11431.77</td>\n",
       "      <td>A28</td>\n",
       "      <td>164</td>\n",
       "      <td>IND</td>\n",
       "      <td>8th Av - Fulton St</td>\n",
       "      <td>34 St-Penn Station</td>\n",
       "      <td>M</td>\n",
       "      <td>A C E</td>\n",
       "      <td>...</td>\n",
       "      <td>1</td>\n",
       "      <td>164.0</td>\n",
       "      <td>56291.4</td>\n",
       "      <td>2345.5</td>\n",
       "      <td>58.5</td>\n",
       "      <td>0.81</td>\n",
       "      <td>0.96</td>\n",
       "      <td>1.00</td>\n",
       "      <td>960.48</td>\n",
       "      <td>2160.48</td>\n",
       "    </tr>\n",
       "    <tr>\n",
       "      <th>393</th>\n",
       "      <td>476</td>\n",
       "      <td>6.83</td>\n",
       "      <td>3897.73</td>\n",
       "      <td>Q04</td>\n",
       "      <td>476</td>\n",
       "      <td>IND</td>\n",
       "      <td>Second Av</td>\n",
       "      <td>86 St</td>\n",
       "      <td>M</td>\n",
       "      <td>Q</td>\n",
       "      <td>...</td>\n",
       "      <td>1</td>\n",
       "      <td>476.0</td>\n",
       "      <td>16591.2</td>\n",
       "      <td>691.3</td>\n",
       "      <td>50.6</td>\n",
       "      <td>0.24</td>\n",
       "      <td>0.81</td>\n",
       "      <td>0.99</td>\n",
       "      <td>497.22</td>\n",
       "      <td>1697.22</td>\n",
       "    </tr>\n",
       "    <tr>\n",
       "      <th>264</th>\n",
       "      <td>318</td>\n",
       "      <td>21.75</td>\n",
       "      <td>9102.38</td>\n",
       "      <td>128</td>\n",
       "      <td>318</td>\n",
       "      <td>IRT</td>\n",
       "      <td>Broadway - 7Av</td>\n",
       "      <td>34 St-Penn Station</td>\n",
       "      <td>M</td>\n",
       "      <td>1 2 3</td>\n",
       "      <td>...</td>\n",
       "      <td>1</td>\n",
       "      <td>318.0</td>\n",
       "      <td>50535.6</td>\n",
       "      <td>2105.6</td>\n",
       "      <td>48.4</td>\n",
       "      <td>0.84</td>\n",
       "      <td>0.96</td>\n",
       "      <td>0.99</td>\n",
       "      <td>979.31</td>\n",
       "      <td>2179.31</td>\n",
       "    </tr>\n",
       "    <tr>\n",
       "      <th>418</th>\n",
       "      <td>610</td>\n",
       "      <td>48.92</td>\n",
       "      <td>19259.72</td>\n",
       "      <td>901</td>\n",
       "      <td>469</td>\n",
       "      <td>IRT</td>\n",
       "      <td>Lexington - Shuttle</td>\n",
       "      <td>Grand Central-42 St</td>\n",
       "      <td>M</td>\n",
       "      <td>S</td>\n",
       "      <td>...</td>\n",
       "      <td>3</td>\n",
       "      <td>610.0</td>\n",
       "      <td>108313.2</td>\n",
       "      <td>4513.0</td>\n",
       "      <td>46.1</td>\n",
       "      <td>0.97</td>\n",
       "      <td>0.99</td>\n",
       "      <td>0.99</td>\n",
       "      <td>1101.88</td>\n",
       "      <td>2301.88</td>\n",
       "    </tr>\n",
       "    <tr>\n",
       "      <th>416</th>\n",
       "      <td>610</td>\n",
       "      <td>48.92</td>\n",
       "      <td>19259.72</td>\n",
       "      <td>631</td>\n",
       "      <td>402</td>\n",
       "      <td>IRT</td>\n",
       "      <td>Lexington Av</td>\n",
       "      <td>Grand Central-42 St</td>\n",
       "      <td>M</td>\n",
       "      <td>4 5 6</td>\n",
       "      <td>...</td>\n",
       "      <td>3</td>\n",
       "      <td>610.0</td>\n",
       "      <td>108313.2</td>\n",
       "      <td>4513.0</td>\n",
       "      <td>46.1</td>\n",
       "      <td>0.97</td>\n",
       "      <td>0.99</td>\n",
       "      <td>0.99</td>\n",
       "      <td>1101.88</td>\n",
       "      <td>2301.88</td>\n",
       "    </tr>\n",
       "    <tr>\n",
       "      <th>417</th>\n",
       "      <td>610</td>\n",
       "      <td>48.92</td>\n",
       "      <td>19259.72</td>\n",
       "      <td>723</td>\n",
       "      <td>465</td>\n",
       "      <td>IRT</td>\n",
       "      <td>Flushing</td>\n",
       "      <td>Grand Central-42 St</td>\n",
       "      <td>M</td>\n",
       "      <td>7</td>\n",
       "      <td>...</td>\n",
       "      <td>3</td>\n",
       "      <td>610.0</td>\n",
       "      <td>108313.2</td>\n",
       "      <td>4513.0</td>\n",
       "      <td>46.1</td>\n",
       "      <td>0.97</td>\n",
       "      <td>0.99</td>\n",
       "      <td>0.99</td>\n",
       "      <td>1101.88</td>\n",
       "      <td>2301.88</td>\n",
       "    </tr>\n",
       "    <tr>\n",
       "      <th>95</th>\n",
       "      <td>120</td>\n",
       "      <td>11.38</td>\n",
       "      <td>5190.64</td>\n",
       "      <td>L08</td>\n",
       "      <td>120</td>\n",
       "      <td>BMT</td>\n",
       "      <td>Canarsie</td>\n",
       "      <td>Bedford Av</td>\n",
       "      <td>Bk</td>\n",
       "      <td>L</td>\n",
       "      <td>...</td>\n",
       "      <td>1</td>\n",
       "      <td>120.0</td>\n",
       "      <td>23684.6</td>\n",
       "      <td>986.9</td>\n",
       "      <td>43.4</td>\n",
       "      <td>0.64</td>\n",
       "      <td>0.88</td>\n",
       "      <td>0.98</td>\n",
       "      <td>778.21</td>\n",
       "      <td>1978.21</td>\n",
       "    </tr>\n",
       "    <tr>\n",
       "      <th>377</th>\n",
       "      <td>450</td>\n",
       "      <td>11.15</td>\n",
       "      <td>5130.98</td>\n",
       "      <td>706</td>\n",
       "      <td>450</td>\n",
       "      <td>IRT</td>\n",
       "      <td>Flushing</td>\n",
       "      <td>103 St-Corona Plaza</td>\n",
       "      <td>Q</td>\n",
       "      <td>7</td>\n",
       "      <td>...</td>\n",
       "      <td>1</td>\n",
       "      <td>450.0</td>\n",
       "      <td>21788.0</td>\n",
       "      <td>907.8</td>\n",
       "      <td>40.7</td>\n",
       "      <td>0.61</td>\n",
       "      <td>0.87</td>\n",
       "      <td>0.98</td>\n",
       "      <td>769.51</td>\n",
       "      <td>1969.51</td>\n",
       "    </tr>\n",
       "  </tbody>\n",
       "</table>\n",
       "<p>10 rows × 25 columns</p>\n",
       "</div>"
      ],
      "text/plain": [
       "     Complex ID    tph  hourly_trainset_area GTFS Stop ID  Station ID  \\\n",
       "374         447  12.23               5629.70          701         447   \n",
       "394         477   6.83               3897.73          Q03         477   \n",
       "131         164  20.04              11431.77          A28         164   \n",
       "393         476   6.83               3897.73          Q04         476   \n",
       "264         318  21.75               9102.38          128         318   \n",
       "418         610  48.92              19259.72          901         469   \n",
       "416         610  48.92              19259.72          631         402   \n",
       "417         610  48.92              19259.72          723         465   \n",
       "95          120  11.38               5190.64          L08         120   \n",
       "377         450  11.15               5130.98          706         450   \n",
       "\n",
       "    Division                 Line            Stop Name Borough Daytime Routes  \\\n",
       "374      IRT             Flushing     Flushing-Main St       Q              7   \n",
       "394      IND            Second Av                72 St       M              Q   \n",
       "131      IND   8th Av - Fulton St   34 St-Penn Station       M          A C E   \n",
       "393      IND            Second Av                86 St       M              Q   \n",
       "264      IRT       Broadway - 7Av   34 St-Penn Station       M          1 2 3   \n",
       "418      IRT  Lexington - Shuttle  Grand Central-42 St       M              S   \n",
       "416      IRT         Lexington Av  Grand Central-42 St       M          4 5 6   \n",
       "417      IRT             Flushing  Grand Central-42 St       M              7   \n",
       "95       BMT             Canarsie           Bedford Av      Bk              L   \n",
       "377      IRT             Flushing  103 St-Corona Plaza       Q              7   \n",
       "\n",
       "     ... stations_in_complex_count  station_complex_id  avg_daily_ridership  \\\n",
       "374  ...                         1               447.0              44896.8   \n",
       "394  ...                         1               477.0              22113.0   \n",
       "131  ...                         1               164.0              56291.4   \n",
       "393  ...                         1               476.0              16591.2   \n",
       "264  ...                         1               318.0              50535.6   \n",
       "418  ...                         3               610.0             108313.2   \n",
       "416  ...                         3               610.0             108313.2   \n",
       "417  ...                         3               610.0             108313.2   \n",
       "95   ...                         1               120.0              23684.6   \n",
       "377  ...                         1               450.0              21788.0   \n",
       "\n",
       "    avg_hourly_ridership hourly_ridership_per_train_direction  \\\n",
       "374               1870.7                                 76.5   \n",
       "394                921.4                                 67.5   \n",
       "131               2345.5                                 58.5   \n",
       "393                691.3                                 50.6   \n",
       "264               2105.6                                 48.4   \n",
       "418               4513.0                                 46.1   \n",
       "416               4513.0                                 46.1   \n",
       "417               4513.0                                 46.1   \n",
       "95                 986.9                                 43.4   \n",
       "377                907.8                                 40.7   \n",
       "\n",
       "     TPH_percent_rank  Ridership_percent_rank  Crowdedness_percent_rank  \\\n",
       "374              0.70                    0.95                      1.00   \n",
       "394              0.24                    0.87                      1.00   \n",
       "131              0.81                    0.96                      1.00   \n",
       "393              0.24                    0.81                      0.99   \n",
       "264              0.84                    0.96                      0.99   \n",
       "418              0.97                    0.99                      0.99   \n",
       "416              0.97                    0.99                      0.99   \n",
       "417              0.97                    0.99                      0.99   \n",
       "95               0.64                    0.88                      0.98   \n",
       "377              0.61                    0.87                      0.98   \n",
       "\n",
       "     distance_in_15  distance_in_30  \n",
       "374          807.52         2007.52  \n",
       "394          497.22         1697.22  \n",
       "131          960.48         2160.48  \n",
       "393          497.22         1697.22  \n",
       "264          979.31         2179.31  \n",
       "418         1101.88         2301.88  \n",
       "416         1101.88         2301.88  \n",
       "417         1101.88         2301.88  \n",
       "95           778.21         1978.21  \n",
       "377          769.51         1969.51  \n",
       "\n",
       "[10 rows x 25 columns]"
      ]
     },
     "execution_count": 67,
     "metadata": {},
     "output_type": "execute_result"
    }
   ],
   "source": [
    "# I think I'm not fully accounting for service changes (since I'm including late night)\n",
    "# station_complex_full_info.sort_values(by='hourly_ridership_per_train_direction')[0:10]\n",
    "station_complex_full_info.sort_values(by='hourly_ridership_per_train_direction', ascending=False)[0:10]"
   ]
  },
  {
   "cell_type": "code",
   "execution_count": 68,
   "metadata": {
    "ExecuteTime": {
     "end_time": "2024-03-25T21:21:32.095865Z",
     "start_time": "2024-03-25T21:21:32.070467Z"
    }
   },
   "outputs": [
    {
     "data": {
      "text/html": [
       "<div>\n",
       "<style scoped>\n",
       "    .dataframe tbody tr th:only-of-type {\n",
       "        vertical-align: middle;\n",
       "    }\n",
       "\n",
       "    .dataframe tbody tr th {\n",
       "        vertical-align: top;\n",
       "    }\n",
       "\n",
       "    .dataframe thead th {\n",
       "        text-align: right;\n",
       "    }\n",
       "</style>\n",
       "<table border=\"1\" class=\"dataframe\">\n",
       "  <thead>\n",
       "    <tr style=\"text-align: right;\">\n",
       "      <th></th>\n",
       "      <th>Complex ID</th>\n",
       "      <th>tph</th>\n",
       "      <th>hourly_trainset_area</th>\n",
       "      <th>GTFS Stop ID</th>\n",
       "      <th>Station ID</th>\n",
       "      <th>Division</th>\n",
       "      <th>Line</th>\n",
       "      <th>Stop Name</th>\n",
       "      <th>Borough</th>\n",
       "      <th>Daytime Routes</th>\n",
       "      <th>...</th>\n",
       "      <th>stations_in_complex_count</th>\n",
       "      <th>station_complex_id</th>\n",
       "      <th>avg_daily_ridership</th>\n",
       "      <th>avg_hourly_ridership</th>\n",
       "      <th>hourly_ridership_per_train_direction</th>\n",
       "      <th>TPH_percent_rank</th>\n",
       "      <th>Ridership_percent_rank</th>\n",
       "      <th>Crowdedness_percent_rank</th>\n",
       "      <th>distance_in_15</th>\n",
       "      <th>distance_in_30</th>\n",
       "    </tr>\n",
       "  </thead>\n",
       "  <tbody>\n",
       "    <tr>\n",
       "      <th>160</th>\n",
       "      <td>199</td>\n",
       "      <td>7.44</td>\n",
       "      <td>3244.15</td>\n",
       "      <td>H04</td>\n",
       "      <td>199</td>\n",
       "      <td>IND</td>\n",
       "      <td>Rockaway</td>\n",
       "      <td>Broad Channel</td>\n",
       "      <td>Q</td>\n",
       "      <td>A S</td>\n",
       "      <td>...</td>\n",
       "      <td>1</td>\n",
       "      <td>199.0</td>\n",
       "      <td>220.4</td>\n",
       "      <td>9.2</td>\n",
       "      <td>0.6</td>\n",
       "      <td>0.33</td>\n",
       "      <td>0.00</td>\n",
       "      <td>0.00</td>\n",
       "      <td>554.84</td>\n",
       "      <td>1754.84</td>\n",
       "    </tr>\n",
       "    <tr>\n",
       "      <th>163</th>\n",
       "      <td>202</td>\n",
       "      <td>3.71</td>\n",
       "      <td>1117.03</td>\n",
       "      <td>H14</td>\n",
       "      <td>202</td>\n",
       "      <td>IND</td>\n",
       "      <td>Rockaway</td>\n",
       "      <td>Beach 105 St</td>\n",
       "      <td>Q</td>\n",
       "      <td>A S</td>\n",
       "      <td>...</td>\n",
       "      <td>1</td>\n",
       "      <td>202.0</td>\n",
       "      <td>160.8</td>\n",
       "      <td>6.7</td>\n",
       "      <td>0.9</td>\n",
       "      <td>0.01</td>\n",
       "      <td>0.00</td>\n",
       "      <td>0.00</td>\n",
       "      <td>0.00</td>\n",
       "      <td>1106.20</td>\n",
       "    </tr>\n",
       "    <tr>\n",
       "      <th>162</th>\n",
       "      <td>201</td>\n",
       "      <td>3.71</td>\n",
       "      <td>1117.03</td>\n",
       "      <td>H13</td>\n",
       "      <td>201</td>\n",
       "      <td>IND</td>\n",
       "      <td>Rockaway</td>\n",
       "      <td>Beach 98 St</td>\n",
       "      <td>Q</td>\n",
       "      <td>A S</td>\n",
       "      <td>...</td>\n",
       "      <td>1</td>\n",
       "      <td>201.0</td>\n",
       "      <td>281.4</td>\n",
       "      <td>11.7</td>\n",
       "      <td>1.6</td>\n",
       "      <td>0.01</td>\n",
       "      <td>0.01</td>\n",
       "      <td>0.01</td>\n",
       "      <td>0.00</td>\n",
       "      <td>1106.20</td>\n",
       "    </tr>\n",
       "    <tr>\n",
       "      <th>161</th>\n",
       "      <td>200</td>\n",
       "      <td>3.71</td>\n",
       "      <td>1117.03</td>\n",
       "      <td>H12</td>\n",
       "      <td>200</td>\n",
       "      <td>IND</td>\n",
       "      <td>Rockaway</td>\n",
       "      <td>Beach 90 St</td>\n",
       "      <td>Q</td>\n",
       "      <td>A S</td>\n",
       "      <td>...</td>\n",
       "      <td>1</td>\n",
       "      <td>200.0</td>\n",
       "      <td>410.4</td>\n",
       "      <td>17.1</td>\n",
       "      <td>2.3</td>\n",
       "      <td>0.01</td>\n",
       "      <td>0.01</td>\n",
       "      <td>0.01</td>\n",
       "      <td>0.00</td>\n",
       "      <td>1106.20</td>\n",
       "    </tr>\n",
       "    <tr>\n",
       "      <th>313</th>\n",
       "      <td>374</td>\n",
       "      <td>8.98</td>\n",
       "      <td>3757.78</td>\n",
       "      <td>616</td>\n",
       "      <td>374</td>\n",
       "      <td>IRT</td>\n",
       "      <td>Pelham</td>\n",
       "      <td>E 143 St-St Mary's St</td>\n",
       "      <td>Bx</td>\n",
       "      <td>6</td>\n",
       "      <td>...</td>\n",
       "      <td>1</td>\n",
       "      <td>374.0</td>\n",
       "      <td>974.2</td>\n",
       "      <td>40.6</td>\n",
       "      <td>2.3</td>\n",
       "      <td>0.40</td>\n",
       "      <td>0.02</td>\n",
       "      <td>0.01</td>\n",
       "      <td>665.48</td>\n",
       "      <td>1865.48</td>\n",
       "    </tr>\n",
       "    <tr>\n",
       "      <th>43</th>\n",
       "      <td>57</td>\n",
       "      <td>13.06</td>\n",
       "      <td>7450.85</td>\n",
       "      <td>D42</td>\n",
       "      <td>57</td>\n",
       "      <td>BMT</td>\n",
       "      <td>Broadway - Brighton</td>\n",
       "      <td>W 8 St-NY Aquarium</td>\n",
       "      <td>Bk</td>\n",
       "      <td>F Q</td>\n",
       "      <td>...</td>\n",
       "      <td>1</td>\n",
       "      <td>57.0</td>\n",
       "      <td>1477.4</td>\n",
       "      <td>61.6</td>\n",
       "      <td>2.4</td>\n",
       "      <td>0.71</td>\n",
       "      <td>0.06</td>\n",
       "      <td>0.01</td>\n",
       "      <td>832.47</td>\n",
       "      <td>2032.47</td>\n",
       "    </tr>\n",
       "    <tr>\n",
       "      <th>105</th>\n",
       "      <td>133</td>\n",
       "      <td>10.98</td>\n",
       "      <td>5010.01</td>\n",
       "      <td>L24</td>\n",
       "      <td>133</td>\n",
       "      <td>BMT</td>\n",
       "      <td>Canarsie</td>\n",
       "      <td>Atlantic Av</td>\n",
       "      <td>Bk</td>\n",
       "      <td>L</td>\n",
       "      <td>...</td>\n",
       "      <td>1</td>\n",
       "      <td>133.0</td>\n",
       "      <td>1381.6</td>\n",
       "      <td>57.6</td>\n",
       "      <td>2.6</td>\n",
       "      <td>0.58</td>\n",
       "      <td>0.05</td>\n",
       "      <td>0.02</td>\n",
       "      <td>762.84</td>\n",
       "      <td>1962.84</td>\n",
       "    </tr>\n",
       "    <tr>\n",
       "      <th>201</th>\n",
       "      <td>247</td>\n",
       "      <td>8.08</td>\n",
       "      <td>4610.73</td>\n",
       "      <td>F32</td>\n",
       "      <td>247</td>\n",
       "      <td>IND</td>\n",
       "      <td>6th Av - Culver</td>\n",
       "      <td>Bay Pkwy</td>\n",
       "      <td>Bk</td>\n",
       "      <td>F</td>\n",
       "      <td>...</td>\n",
       "      <td>1</td>\n",
       "      <td>247.0</td>\n",
       "      <td>994.4</td>\n",
       "      <td>41.4</td>\n",
       "      <td>2.6</td>\n",
       "      <td>0.36</td>\n",
       "      <td>0.03</td>\n",
       "      <td>0.02</td>\n",
       "      <td>605.94</td>\n",
       "      <td>1805.94</td>\n",
       "    </tr>\n",
       "    <tr>\n",
       "      <th>164</th>\n",
       "      <td>203</td>\n",
       "      <td>3.71</td>\n",
       "      <td>1117.03</td>\n",
       "      <td>H15</td>\n",
       "      <td>203</td>\n",
       "      <td>IND</td>\n",
       "      <td>Rockaway</td>\n",
       "      <td>Rockaway Park-Beach 116 St</td>\n",
       "      <td>Q</td>\n",
       "      <td>A S</td>\n",
       "      <td>...</td>\n",
       "      <td>1</td>\n",
       "      <td>203.0</td>\n",
       "      <td>496.6</td>\n",
       "      <td>20.7</td>\n",
       "      <td>2.8</td>\n",
       "      <td>0.01</td>\n",
       "      <td>0.01</td>\n",
       "      <td>0.02</td>\n",
       "      <td>0.00</td>\n",
       "      <td>1106.20</td>\n",
       "    </tr>\n",
       "    <tr>\n",
       "      <th>106</th>\n",
       "      <td>134</td>\n",
       "      <td>10.98</td>\n",
       "      <td>5010.01</td>\n",
       "      <td>L25</td>\n",
       "      <td>134</td>\n",
       "      <td>BMT</td>\n",
       "      <td>Canarsie</td>\n",
       "      <td>Sutter Av</td>\n",
       "      <td>Bk</td>\n",
       "      <td>L</td>\n",
       "      <td>...</td>\n",
       "      <td>1</td>\n",
       "      <td>134.0</td>\n",
       "      <td>1528.0</td>\n",
       "      <td>63.7</td>\n",
       "      <td>2.9</td>\n",
       "      <td>0.58</td>\n",
       "      <td>0.07</td>\n",
       "      <td>0.02</td>\n",
       "      <td>762.84</td>\n",
       "      <td>1962.84</td>\n",
       "    </tr>\n",
       "  </tbody>\n",
       "</table>\n",
       "<p>10 rows × 25 columns</p>\n",
       "</div>"
      ],
      "text/plain": [
       "     Complex ID    tph  hourly_trainset_area GTFS Stop ID  Station ID  \\\n",
       "160         199   7.44               3244.15          H04         199   \n",
       "163         202   3.71               1117.03          H14         202   \n",
       "162         201   3.71               1117.03          H13         201   \n",
       "161         200   3.71               1117.03          H12         200   \n",
       "313         374   8.98               3757.78          616         374   \n",
       "43           57  13.06               7450.85          D42          57   \n",
       "105         133  10.98               5010.01          L24         133   \n",
       "201         247   8.08               4610.73          F32         247   \n",
       "164         203   3.71               1117.03          H15         203   \n",
       "106         134  10.98               5010.01          L25         134   \n",
       "\n",
       "    Division                 Line                   Stop Name Borough  \\\n",
       "160      IND             Rockaway               Broad Channel       Q   \n",
       "163      IND             Rockaway                Beach 105 St       Q   \n",
       "162      IND             Rockaway                 Beach 98 St       Q   \n",
       "161      IND             Rockaway                 Beach 90 St       Q   \n",
       "313      IRT               Pelham       E 143 St-St Mary's St      Bx   \n",
       "43       BMT  Broadway - Brighton          W 8 St-NY Aquarium      Bk   \n",
       "105      BMT             Canarsie                 Atlantic Av      Bk   \n",
       "201      IND      6th Av - Culver                    Bay Pkwy      Bk   \n",
       "164      IND             Rockaway  Rockaway Park-Beach 116 St       Q   \n",
       "106      BMT             Canarsie                   Sutter Av      Bk   \n",
       "\n",
       "    Daytime Routes  ... stations_in_complex_count  station_complex_id  \\\n",
       "160            A S  ...                         1               199.0   \n",
       "163            A S  ...                         1               202.0   \n",
       "162            A S  ...                         1               201.0   \n",
       "161            A S  ...                         1               200.0   \n",
       "313              6  ...                         1               374.0   \n",
       "43             F Q  ...                         1                57.0   \n",
       "105              L  ...                         1               133.0   \n",
       "201              F  ...                         1               247.0   \n",
       "164            A S  ...                         1               203.0   \n",
       "106              L  ...                         1               134.0   \n",
       "\n",
       "     avg_daily_ridership avg_hourly_ridership  \\\n",
       "160                220.4                  9.2   \n",
       "163                160.8                  6.7   \n",
       "162                281.4                 11.7   \n",
       "161                410.4                 17.1   \n",
       "313                974.2                 40.6   \n",
       "43                1477.4                 61.6   \n",
       "105               1381.6                 57.6   \n",
       "201                994.4                 41.4   \n",
       "164                496.6                 20.7   \n",
       "106               1528.0                 63.7   \n",
       "\n",
       "    hourly_ridership_per_train_direction  TPH_percent_rank  \\\n",
       "160                                  0.6              0.33   \n",
       "163                                  0.9              0.01   \n",
       "162                                  1.6              0.01   \n",
       "161                                  2.3              0.01   \n",
       "313                                  2.3              0.40   \n",
       "43                                   2.4              0.71   \n",
       "105                                  2.6              0.58   \n",
       "201                                  2.6              0.36   \n",
       "164                                  2.8              0.01   \n",
       "106                                  2.9              0.58   \n",
       "\n",
       "     Ridership_percent_rank  Crowdedness_percent_rank  distance_in_15  \\\n",
       "160                    0.00                      0.00          554.84   \n",
       "163                    0.00                      0.00            0.00   \n",
       "162                    0.01                      0.01            0.00   \n",
       "161                    0.01                      0.01            0.00   \n",
       "313                    0.02                      0.01          665.48   \n",
       "43                     0.06                      0.01          832.47   \n",
       "105                    0.05                      0.02          762.84   \n",
       "201                    0.03                      0.02          605.94   \n",
       "164                    0.01                      0.02            0.00   \n",
       "106                    0.07                      0.02          762.84   \n",
       "\n",
       "     distance_in_30  \n",
       "160         1754.84  \n",
       "163         1106.20  \n",
       "162         1106.20  \n",
       "161         1106.20  \n",
       "313         1865.48  \n",
       "43          2032.47  \n",
       "105         1962.84  \n",
       "201         1805.94  \n",
       "164         1106.20  \n",
       "106         1962.84  \n",
       "\n",
       "[10 rows x 25 columns]"
      ]
     },
     "execution_count": 68,
     "metadata": {},
     "output_type": "execute_result"
    }
   ],
   "source": [
    "station_complex_full_info.sort_values(by='hourly_ridership_per_train_direction')[0:10]"
   ]
  },
  {
   "cell_type": "code",
   "execution_count": 70,
   "metadata": {
    "ExecuteTime": {
     "end_time": "2024-03-25T21:21:34.462040Z",
     "start_time": "2024-03-25T21:21:34.429036Z"
    },
    "scrolled": true
   },
   "outputs": [
    {
     "data": {
      "text/html": [
       "<div>\n",
       "<style scoped>\n",
       "    .dataframe tbody tr th:only-of-type {\n",
       "        vertical-align: middle;\n",
       "    }\n",
       "\n",
       "    .dataframe tbody tr th {\n",
       "        vertical-align: top;\n",
       "    }\n",
       "\n",
       "    .dataframe thead th {\n",
       "        text-align: right;\n",
       "    }\n",
       "</style>\n",
       "<table border=\"1\" class=\"dataframe\">\n",
       "  <thead>\n",
       "    <tr style=\"text-align: right;\">\n",
       "      <th></th>\n",
       "      <th>Complex ID</th>\n",
       "      <th>tph</th>\n",
       "      <th>hourly_trainset_area</th>\n",
       "      <th>GTFS Stop ID</th>\n",
       "      <th>Station ID</th>\n",
       "      <th>Division</th>\n",
       "      <th>Line</th>\n",
       "      <th>Stop Name</th>\n",
       "      <th>Borough</th>\n",
       "      <th>Daytime Routes</th>\n",
       "      <th>...</th>\n",
       "      <th>stations_in_complex_count</th>\n",
       "      <th>station_complex_id</th>\n",
       "      <th>avg_daily_ridership</th>\n",
       "      <th>avg_hourly_ridership</th>\n",
       "      <th>hourly_ridership_per_train_direction</th>\n",
       "      <th>TPH_percent_rank</th>\n",
       "      <th>Ridership_percent_rank</th>\n",
       "      <th>Crowdedness_percent_rank</th>\n",
       "      <th>distance_in_15</th>\n",
       "      <th>distance_in_30</th>\n",
       "    </tr>\n",
       "  </thead>\n",
       "  <tbody>\n",
       "    <tr>\n",
       "      <th>105</th>\n",
       "      <td>133</td>\n",
       "      <td>10.98</td>\n",
       "      <td>5010.01</td>\n",
       "      <td>L24</td>\n",
       "      <td>133</td>\n",
       "      <td>BMT</td>\n",
       "      <td>Canarsie</td>\n",
       "      <td>Atlantic Av</td>\n",
       "      <td>Bk</td>\n",
       "      <td>L</td>\n",
       "      <td>...</td>\n",
       "      <td>1</td>\n",
       "      <td>133.0</td>\n",
       "      <td>1381.6</td>\n",
       "      <td>57.6</td>\n",
       "      <td>2.6</td>\n",
       "      <td>0.58</td>\n",
       "      <td>0.05</td>\n",
       "      <td>0.02</td>\n",
       "      <td>762.84</td>\n",
       "      <td>1962.84</td>\n",
       "    </tr>\n",
       "    <tr>\n",
       "      <th>106</th>\n",
       "      <td>134</td>\n",
       "      <td>10.98</td>\n",
       "      <td>5010.01</td>\n",
       "      <td>L25</td>\n",
       "      <td>134</td>\n",
       "      <td>BMT</td>\n",
       "      <td>Canarsie</td>\n",
       "      <td>Sutter Av</td>\n",
       "      <td>Bk</td>\n",
       "      <td>L</td>\n",
       "      <td>...</td>\n",
       "      <td>1</td>\n",
       "      <td>134.0</td>\n",
       "      <td>1528.0</td>\n",
       "      <td>63.7</td>\n",
       "      <td>2.9</td>\n",
       "      <td>0.58</td>\n",
       "      <td>0.07</td>\n",
       "      <td>0.02</td>\n",
       "      <td>762.84</td>\n",
       "      <td>1962.84</td>\n",
       "    </tr>\n",
       "    <tr>\n",
       "      <th>104</th>\n",
       "      <td>131</td>\n",
       "      <td>10.98</td>\n",
       "      <td>5010.01</td>\n",
       "      <td>L21</td>\n",
       "      <td>131</td>\n",
       "      <td>BMT</td>\n",
       "      <td>Canarsie</td>\n",
       "      <td>Bushwick Av-Aberdeen St</td>\n",
       "      <td>Bk</td>\n",
       "      <td>L</td>\n",
       "      <td>...</td>\n",
       "      <td>1</td>\n",
       "      <td>131.0</td>\n",
       "      <td>1829.0</td>\n",
       "      <td>76.2</td>\n",
       "      <td>3.5</td>\n",
       "      <td>0.58</td>\n",
       "      <td>0.10</td>\n",
       "      <td>0.03</td>\n",
       "      <td>762.84</td>\n",
       "      <td>1962.84</td>\n",
       "    </tr>\n",
       "    <tr>\n",
       "      <th>110</th>\n",
       "      <td>138</td>\n",
       "      <td>10.52</td>\n",
       "      <td>4800.87</td>\n",
       "      <td>L29</td>\n",
       "      <td>138</td>\n",
       "      <td>BMT</td>\n",
       "      <td>Canarsie</td>\n",
       "      <td>Canarsie-Rockaway Pkwy</td>\n",
       "      <td>Bk</td>\n",
       "      <td>L</td>\n",
       "      <td>...</td>\n",
       "      <td>1</td>\n",
       "      <td>138.0</td>\n",
       "      <td>1946.8</td>\n",
       "      <td>81.1</td>\n",
       "      <td>3.9</td>\n",
       "      <td>0.54</td>\n",
       "      <td>0.13</td>\n",
       "      <td>0.05</td>\n",
       "      <td>743.73</td>\n",
       "      <td>1943.73</td>\n",
       "    </tr>\n",
       "    <tr>\n",
       "      <th>109</th>\n",
       "      <td>137</td>\n",
       "      <td>10.98</td>\n",
       "      <td>5010.01</td>\n",
       "      <td>L28</td>\n",
       "      <td>137</td>\n",
       "      <td>BMT</td>\n",
       "      <td>Canarsie</td>\n",
       "      <td>East 105 St</td>\n",
       "      <td>Bk</td>\n",
       "      <td>L</td>\n",
       "      <td>...</td>\n",
       "      <td>1</td>\n",
       "      <td>137.0</td>\n",
       "      <td>2130.2</td>\n",
       "      <td>88.8</td>\n",
       "      <td>4.0</td>\n",
       "      <td>0.58</td>\n",
       "      <td>0.15</td>\n",
       "      <td>0.05</td>\n",
       "      <td>762.84</td>\n",
       "      <td>1962.84</td>\n",
       "    </tr>\n",
       "    <tr>\n",
       "      <th>107</th>\n",
       "      <td>135</td>\n",
       "      <td>10.98</td>\n",
       "      <td>5010.01</td>\n",
       "      <td>L26</td>\n",
       "      <td>135</td>\n",
       "      <td>BMT</td>\n",
       "      <td>Canarsie</td>\n",
       "      <td>Livonia Av</td>\n",
       "      <td>Bk</td>\n",
       "      <td>L</td>\n",
       "      <td>...</td>\n",
       "      <td>1</td>\n",
       "      <td>135.0</td>\n",
       "      <td>2097.0</td>\n",
       "      <td>87.4</td>\n",
       "      <td>4.0</td>\n",
       "      <td>0.58</td>\n",
       "      <td>0.14</td>\n",
       "      <td>0.05</td>\n",
       "      <td>762.84</td>\n",
       "      <td>1962.84</td>\n",
       "    </tr>\n",
       "    <tr>\n",
       "      <th>445</th>\n",
       "      <td>621</td>\n",
       "      <td>28.50</td>\n",
       "      <td>14340.80</td>\n",
       "      <td>L22</td>\n",
       "      <td>132</td>\n",
       "      <td>BMT</td>\n",
       "      <td>Canarsie</td>\n",
       "      <td>Broadway Junction</td>\n",
       "      <td>Bk</td>\n",
       "      <td>L</td>\n",
       "      <td>...</td>\n",
       "      <td>3</td>\n",
       "      <td>621.0</td>\n",
       "      <td>5604.6</td>\n",
       "      <td>233.5</td>\n",
       "      <td>4.1</td>\n",
       "      <td>0.88</td>\n",
       "      <td>0.52</td>\n",
       "      <td>0.06</td>\n",
       "      <td>1031.58</td>\n",
       "      <td>2231.58</td>\n",
       "    </tr>\n",
       "    <tr>\n",
       "      <th>108</th>\n",
       "      <td>136</td>\n",
       "      <td>10.98</td>\n",
       "      <td>5010.01</td>\n",
       "      <td>L27</td>\n",
       "      <td>136</td>\n",
       "      <td>BMT</td>\n",
       "      <td>Canarsie</td>\n",
       "      <td>New Lots Av</td>\n",
       "      <td>Bk</td>\n",
       "      <td>L</td>\n",
       "      <td>...</td>\n",
       "      <td>1</td>\n",
       "      <td>136.0</td>\n",
       "      <td>2481.0</td>\n",
       "      <td>103.4</td>\n",
       "      <td>4.7</td>\n",
       "      <td>0.58</td>\n",
       "      <td>0.18</td>\n",
       "      <td>0.08</td>\n",
       "      <td>762.84</td>\n",
       "      <td>1962.84</td>\n",
       "    </tr>\n",
       "    <tr>\n",
       "      <th>103</th>\n",
       "      <td>130</td>\n",
       "      <td>10.98</td>\n",
       "      <td>5010.01</td>\n",
       "      <td>L20</td>\n",
       "      <td>130</td>\n",
       "      <td>BMT</td>\n",
       "      <td>Canarsie</td>\n",
       "      <td>Wilson Av</td>\n",
       "      <td>Bk</td>\n",
       "      <td>L</td>\n",
       "      <td>...</td>\n",
       "      <td>1</td>\n",
       "      <td>130.0</td>\n",
       "      <td>3183.2</td>\n",
       "      <td>132.6</td>\n",
       "      <td>6.0</td>\n",
       "      <td>0.58</td>\n",
       "      <td>0.26</td>\n",
       "      <td>0.15</td>\n",
       "      <td>762.84</td>\n",
       "      <td>1962.84</td>\n",
       "    </tr>\n",
       "    <tr>\n",
       "      <th>102</th>\n",
       "      <td>129</td>\n",
       "      <td>10.98</td>\n",
       "      <td>5010.01</td>\n",
       "      <td>L19</td>\n",
       "      <td>129</td>\n",
       "      <td>BMT</td>\n",
       "      <td>Canarsie</td>\n",
       "      <td>Halsey St</td>\n",
       "      <td>Q</td>\n",
       "      <td>L</td>\n",
       "      <td>...</td>\n",
       "      <td>1</td>\n",
       "      <td>129.0</td>\n",
       "      <td>4849.8</td>\n",
       "      <td>202.1</td>\n",
       "      <td>9.2</td>\n",
       "      <td>0.58</td>\n",
       "      <td>0.45</td>\n",
       "      <td>0.33</td>\n",
       "      <td>762.84</td>\n",
       "      <td>1962.84</td>\n",
       "    </tr>\n",
       "    <tr>\n",
       "      <th>97</th>\n",
       "      <td>123</td>\n",
       "      <td>11.38</td>\n",
       "      <td>5190.64</td>\n",
       "      <td>L12</td>\n",
       "      <td>123</td>\n",
       "      <td>BMT</td>\n",
       "      <td>Canarsie</td>\n",
       "      <td>Grand St</td>\n",
       "      <td>Bk</td>\n",
       "      <td>L</td>\n",
       "      <td>...</td>\n",
       "      <td>1</td>\n",
       "      <td>123.0</td>\n",
       "      <td>5122.2</td>\n",
       "      <td>213.4</td>\n",
       "      <td>9.4</td>\n",
       "      <td>0.64</td>\n",
       "      <td>0.47</td>\n",
       "      <td>0.34</td>\n",
       "      <td>778.21</td>\n",
       "      <td>1978.21</td>\n",
       "    </tr>\n",
       "    <tr>\n",
       "      <th>93</th>\n",
       "      <td>118</td>\n",
       "      <td>11.38</td>\n",
       "      <td>5190.64</td>\n",
       "      <td>L05</td>\n",
       "      <td>118</td>\n",
       "      <td>BMT</td>\n",
       "      <td>Canarsie</td>\n",
       "      <td>3 Av</td>\n",
       "      <td>M</td>\n",
       "      <td>L</td>\n",
       "      <td>...</td>\n",
       "      <td>1</td>\n",
       "      <td>118.0</td>\n",
       "      <td>5163.4</td>\n",
       "      <td>215.1</td>\n",
       "      <td>9.5</td>\n",
       "      <td>0.64</td>\n",
       "      <td>0.48</td>\n",
       "      <td>0.35</td>\n",
       "      <td>778.21</td>\n",
       "      <td>1978.21</td>\n",
       "    </tr>\n",
       "    <tr>\n",
       "      <th>98</th>\n",
       "      <td>124</td>\n",
       "      <td>11.38</td>\n",
       "      <td>5190.64</td>\n",
       "      <td>L13</td>\n",
       "      <td>124</td>\n",
       "      <td>BMT</td>\n",
       "      <td>Canarsie</td>\n",
       "      <td>Montrose Av</td>\n",
       "      <td>Bk</td>\n",
       "      <td>L</td>\n",
       "      <td>...</td>\n",
       "      <td>1</td>\n",
       "      <td>124.0</td>\n",
       "      <td>5283.4</td>\n",
       "      <td>220.1</td>\n",
       "      <td>9.7</td>\n",
       "      <td>0.64</td>\n",
       "      <td>0.49</td>\n",
       "      <td>0.36</td>\n",
       "      <td>778.21</td>\n",
       "      <td>1978.21</td>\n",
       "    </tr>\n",
       "    <tr>\n",
       "      <th>99</th>\n",
       "      <td>125</td>\n",
       "      <td>11.38</td>\n",
       "      <td>5190.64</td>\n",
       "      <td>L14</td>\n",
       "      <td>125</td>\n",
       "      <td>BMT</td>\n",
       "      <td>Canarsie</td>\n",
       "      <td>Morgan Av</td>\n",
       "      <td>Bk</td>\n",
       "      <td>L</td>\n",
       "      <td>...</td>\n",
       "      <td>1</td>\n",
       "      <td>125.0</td>\n",
       "      <td>5499.0</td>\n",
       "      <td>229.1</td>\n",
       "      <td>10.1</td>\n",
       "      <td>0.64</td>\n",
       "      <td>0.51</td>\n",
       "      <td>0.38</td>\n",
       "      <td>778.21</td>\n",
       "      <td>1978.21</td>\n",
       "    </tr>\n",
       "    <tr>\n",
       "      <th>100</th>\n",
       "      <td>126</td>\n",
       "      <td>11.38</td>\n",
       "      <td>5190.64</td>\n",
       "      <td>L15</td>\n",
       "      <td>126</td>\n",
       "      <td>BMT</td>\n",
       "      <td>Canarsie</td>\n",
       "      <td>Jefferson St</td>\n",
       "      <td>Bk</td>\n",
       "      <td>L</td>\n",
       "      <td>...</td>\n",
       "      <td>1</td>\n",
       "      <td>126.0</td>\n",
       "      <td>6029.8</td>\n",
       "      <td>251.2</td>\n",
       "      <td>11.0</td>\n",
       "      <td>0.64</td>\n",
       "      <td>0.54</td>\n",
       "      <td>0.42</td>\n",
       "      <td>778.21</td>\n",
       "      <td>1978.21</td>\n",
       "    </tr>\n",
       "    <tr>\n",
       "      <th>96</th>\n",
       "      <td>122</td>\n",
       "      <td>11.38</td>\n",
       "      <td>5190.64</td>\n",
       "      <td>L11</td>\n",
       "      <td>122</td>\n",
       "      <td>BMT</td>\n",
       "      <td>Canarsie</td>\n",
       "      <td>Graham Av</td>\n",
       "      <td>Bk</td>\n",
       "      <td>L</td>\n",
       "      <td>...</td>\n",
       "      <td>1</td>\n",
       "      <td>122.0</td>\n",
       "      <td>7129.8</td>\n",
       "      <td>297.1</td>\n",
       "      <td>13.1</td>\n",
       "      <td>0.64</td>\n",
       "      <td>0.59</td>\n",
       "      <td>0.52</td>\n",
       "      <td>778.21</td>\n",
       "      <td>1978.21</td>\n",
       "    </tr>\n",
       "    <tr>\n",
       "      <th>467</th>\n",
       "      <td>629</td>\n",
       "      <td>17.59</td>\n",
       "      <td>7403.91</td>\n",
       "      <td>L10</td>\n",
       "      <td>121</td>\n",
       "      <td>BMT</td>\n",
       "      <td>Canarsie</td>\n",
       "      <td>Lorimer St</td>\n",
       "      <td>Bk</td>\n",
       "      <td>L</td>\n",
       "      <td>...</td>\n",
       "      <td>2</td>\n",
       "      <td>629.0</td>\n",
       "      <td>11251.2</td>\n",
       "      <td>468.8</td>\n",
       "      <td>13.3</td>\n",
       "      <td>0.80</td>\n",
       "      <td>0.72</td>\n",
       "      <td>0.53</td>\n",
       "      <td>927.12</td>\n",
       "      <td>2127.12</td>\n",
       "    </tr>\n",
       "    <tr>\n",
       "      <th>395</th>\n",
       "      <td>601</td>\n",
       "      <td>45.17</td>\n",
       "      <td>20714.77</td>\n",
       "      <td>L02</td>\n",
       "      <td>116</td>\n",
       "      <td>BMT</td>\n",
       "      <td>Canarsie</td>\n",
       "      <td>6 Av</td>\n",
       "      <td>M</td>\n",
       "      <td>L</td>\n",
       "      <td>...</td>\n",
       "      <td>3</td>\n",
       "      <td>601.0</td>\n",
       "      <td>30055.0</td>\n",
       "      <td>1252.3</td>\n",
       "      <td>13.9</td>\n",
       "      <td>0.97</td>\n",
       "      <td>0.90</td>\n",
       "      <td>0.56</td>\n",
       "      <td>1093.73</td>\n",
       "      <td>2293.73</td>\n",
       "    </tr>\n",
       "    <tr>\n",
       "      <th>101</th>\n",
       "      <td>127</td>\n",
       "      <td>11.38</td>\n",
       "      <td>5190.64</td>\n",
       "      <td>L16</td>\n",
       "      <td>127</td>\n",
       "      <td>BMT</td>\n",
       "      <td>Canarsie</td>\n",
       "      <td>DeKalb Av</td>\n",
       "      <td>Bk</td>\n",
       "      <td>L</td>\n",
       "      <td>...</td>\n",
       "      <td>1</td>\n",
       "      <td>127.0</td>\n",
       "      <td>9030.4</td>\n",
       "      <td>376.3</td>\n",
       "      <td>16.5</td>\n",
       "      <td>0.64</td>\n",
       "      <td>0.66</td>\n",
       "      <td>0.68</td>\n",
       "      <td>778.21</td>\n",
       "      <td>1978.21</td>\n",
       "    </tr>\n",
       "    <tr>\n",
       "      <th>470</th>\n",
       "      <td>630</td>\n",
       "      <td>16.73</td>\n",
       "      <td>7633.85</td>\n",
       "      <td>L17</td>\n",
       "      <td>128</td>\n",
       "      <td>BMT</td>\n",
       "      <td>Canarsie</td>\n",
       "      <td>Myrtle-Wyckoff Avs</td>\n",
       "      <td>Bk</td>\n",
       "      <td>L</td>\n",
       "      <td>...</td>\n",
       "      <td>2</td>\n",
       "      <td>630.0</td>\n",
       "      <td>15695.0</td>\n",
       "      <td>654.0</td>\n",
       "      <td>19.5</td>\n",
       "      <td>0.79</td>\n",
       "      <td>0.79</td>\n",
       "      <td>0.76</td>\n",
       "      <td>913.09</td>\n",
       "      <td>2113.09</td>\n",
       "    </tr>\n",
       "    <tr>\n",
       "      <th>437</th>\n",
       "      <td>618</td>\n",
       "      <td>31.42</td>\n",
       "      <td>16622.41</td>\n",
       "      <td>L01</td>\n",
       "      <td>115</td>\n",
       "      <td>BMT</td>\n",
       "      <td>Canarsie</td>\n",
       "      <td>8 Av</td>\n",
       "      <td>M</td>\n",
       "      <td>L</td>\n",
       "      <td>...</td>\n",
       "      <td>2</td>\n",
       "      <td>618.0</td>\n",
       "      <td>32720.4</td>\n",
       "      <td>1363.4</td>\n",
       "      <td>21.7</td>\n",
       "      <td>0.90</td>\n",
       "      <td>0.92</td>\n",
       "      <td>0.82</td>\n",
       "      <td>1047.23</td>\n",
       "      <td>2247.23</td>\n",
       "    </tr>\n",
       "    <tr>\n",
       "      <th>399</th>\n",
       "      <td>602</td>\n",
       "      <td>58.22</td>\n",
       "      <td>28113.20</td>\n",
       "      <td>L03</td>\n",
       "      <td>117</td>\n",
       "      <td>BMT</td>\n",
       "      <td>Canarsie</td>\n",
       "      <td>14 St-Union Sq</td>\n",
       "      <td>M</td>\n",
       "      <td>L</td>\n",
       "      <td>...</td>\n",
       "      <td>3</td>\n",
       "      <td>602.0</td>\n",
       "      <td>69268.4</td>\n",
       "      <td>2886.2</td>\n",
       "      <td>24.8</td>\n",
       "      <td>0.99</td>\n",
       "      <td>0.98</td>\n",
       "      <td>0.86</td>\n",
       "      <td>1117.55</td>\n",
       "      <td>2317.55</td>\n",
       "    </tr>\n",
       "    <tr>\n",
       "      <th>94</th>\n",
       "      <td>119</td>\n",
       "      <td>11.38</td>\n",
       "      <td>5190.64</td>\n",
       "      <td>L06</td>\n",
       "      <td>119</td>\n",
       "      <td>BMT</td>\n",
       "      <td>Canarsie</td>\n",
       "      <td>1 Av</td>\n",
       "      <td>M</td>\n",
       "      <td>L</td>\n",
       "      <td>...</td>\n",
       "      <td>1</td>\n",
       "      <td>119.0</td>\n",
       "      <td>18067.2</td>\n",
       "      <td>752.8</td>\n",
       "      <td>33.1</td>\n",
       "      <td>0.64</td>\n",
       "      <td>0.83</td>\n",
       "      <td>0.95</td>\n",
       "      <td>778.21</td>\n",
       "      <td>1978.21</td>\n",
       "    </tr>\n",
       "    <tr>\n",
       "      <th>95</th>\n",
       "      <td>120</td>\n",
       "      <td>11.38</td>\n",
       "      <td>5190.64</td>\n",
       "      <td>L08</td>\n",
       "      <td>120</td>\n",
       "      <td>BMT</td>\n",
       "      <td>Canarsie</td>\n",
       "      <td>Bedford Av</td>\n",
       "      <td>Bk</td>\n",
       "      <td>L</td>\n",
       "      <td>...</td>\n",
       "      <td>1</td>\n",
       "      <td>120.0</td>\n",
       "      <td>23684.6</td>\n",
       "      <td>986.9</td>\n",
       "      <td>43.4</td>\n",
       "      <td>0.64</td>\n",
       "      <td>0.88</td>\n",
       "      <td>0.98</td>\n",
       "      <td>778.21</td>\n",
       "      <td>1978.21</td>\n",
       "    </tr>\n",
       "  </tbody>\n",
       "</table>\n",
       "<p>24 rows × 25 columns</p>\n",
       "</div>"
      ],
      "text/plain": [
       "     Complex ID    tph  hourly_trainset_area GTFS Stop ID  Station ID  \\\n",
       "105         133  10.98               5010.01          L24         133   \n",
       "106         134  10.98               5010.01          L25         134   \n",
       "104         131  10.98               5010.01          L21         131   \n",
       "110         138  10.52               4800.87          L29         138   \n",
       "109         137  10.98               5010.01          L28         137   \n",
       "107         135  10.98               5010.01          L26         135   \n",
       "445         621  28.50              14340.80          L22         132   \n",
       "108         136  10.98               5010.01          L27         136   \n",
       "103         130  10.98               5010.01          L20         130   \n",
       "102         129  10.98               5010.01          L19         129   \n",
       "97          123  11.38               5190.64          L12         123   \n",
       "93          118  11.38               5190.64          L05         118   \n",
       "98          124  11.38               5190.64          L13         124   \n",
       "99          125  11.38               5190.64          L14         125   \n",
       "100         126  11.38               5190.64          L15         126   \n",
       "96          122  11.38               5190.64          L11         122   \n",
       "467         629  17.59               7403.91          L10         121   \n",
       "395         601  45.17              20714.77          L02         116   \n",
       "101         127  11.38               5190.64          L16         127   \n",
       "470         630  16.73               7633.85          L17         128   \n",
       "437         618  31.42              16622.41          L01         115   \n",
       "399         602  58.22              28113.20          L03         117   \n",
       "94          119  11.38               5190.64          L06         119   \n",
       "95          120  11.38               5190.64          L08         120   \n",
       "\n",
       "    Division      Line                Stop Name Borough Daytime Routes  ...  \\\n",
       "105      BMT  Canarsie              Atlantic Av      Bk              L  ...   \n",
       "106      BMT  Canarsie                Sutter Av      Bk              L  ...   \n",
       "104      BMT  Canarsie  Bushwick Av-Aberdeen St      Bk              L  ...   \n",
       "110      BMT  Canarsie   Canarsie-Rockaway Pkwy      Bk              L  ...   \n",
       "109      BMT  Canarsie              East 105 St      Bk              L  ...   \n",
       "107      BMT  Canarsie               Livonia Av      Bk              L  ...   \n",
       "445      BMT  Canarsie        Broadway Junction      Bk              L  ...   \n",
       "108      BMT  Canarsie              New Lots Av      Bk              L  ...   \n",
       "103      BMT  Canarsie                Wilson Av      Bk              L  ...   \n",
       "102      BMT  Canarsie                Halsey St       Q              L  ...   \n",
       "97       BMT  Canarsie                 Grand St      Bk              L  ...   \n",
       "93       BMT  Canarsie                     3 Av       M              L  ...   \n",
       "98       BMT  Canarsie              Montrose Av      Bk              L  ...   \n",
       "99       BMT  Canarsie                Morgan Av      Bk              L  ...   \n",
       "100      BMT  Canarsie             Jefferson St      Bk              L  ...   \n",
       "96       BMT  Canarsie                Graham Av      Bk              L  ...   \n",
       "467      BMT  Canarsie               Lorimer St      Bk              L  ...   \n",
       "395      BMT  Canarsie                     6 Av       M              L  ...   \n",
       "101      BMT  Canarsie                DeKalb Av      Bk              L  ...   \n",
       "470      BMT  Canarsie       Myrtle-Wyckoff Avs      Bk              L  ...   \n",
       "437      BMT  Canarsie                     8 Av       M              L  ...   \n",
       "399      BMT  Canarsie           14 St-Union Sq       M              L  ...   \n",
       "94       BMT  Canarsie                     1 Av       M              L  ...   \n",
       "95       BMT  Canarsie               Bedford Av      Bk              L  ...   \n",
       "\n",
       "    stations_in_complex_count  station_complex_id  avg_daily_ridership  \\\n",
       "105                         1               133.0               1381.6   \n",
       "106                         1               134.0               1528.0   \n",
       "104                         1               131.0               1829.0   \n",
       "110                         1               138.0               1946.8   \n",
       "109                         1               137.0               2130.2   \n",
       "107                         1               135.0               2097.0   \n",
       "445                         3               621.0               5604.6   \n",
       "108                         1               136.0               2481.0   \n",
       "103                         1               130.0               3183.2   \n",
       "102                         1               129.0               4849.8   \n",
       "97                          1               123.0               5122.2   \n",
       "93                          1               118.0               5163.4   \n",
       "98                          1               124.0               5283.4   \n",
       "99                          1               125.0               5499.0   \n",
       "100                         1               126.0               6029.8   \n",
       "96                          1               122.0               7129.8   \n",
       "467                         2               629.0              11251.2   \n",
       "395                         3               601.0              30055.0   \n",
       "101                         1               127.0               9030.4   \n",
       "470                         2               630.0              15695.0   \n",
       "437                         2               618.0              32720.4   \n",
       "399                         3               602.0              69268.4   \n",
       "94                          1               119.0              18067.2   \n",
       "95                          1               120.0              23684.6   \n",
       "\n",
       "    avg_hourly_ridership hourly_ridership_per_train_direction  \\\n",
       "105                 57.6                                  2.6   \n",
       "106                 63.7                                  2.9   \n",
       "104                 76.2                                  3.5   \n",
       "110                 81.1                                  3.9   \n",
       "109                 88.8                                  4.0   \n",
       "107                 87.4                                  4.0   \n",
       "445                233.5                                  4.1   \n",
       "108                103.4                                  4.7   \n",
       "103                132.6                                  6.0   \n",
       "102                202.1                                  9.2   \n",
       "97                 213.4                                  9.4   \n",
       "93                 215.1                                  9.5   \n",
       "98                 220.1                                  9.7   \n",
       "99                 229.1                                 10.1   \n",
       "100                251.2                                 11.0   \n",
       "96                 297.1                                 13.1   \n",
       "467                468.8                                 13.3   \n",
       "395               1252.3                                 13.9   \n",
       "101                376.3                                 16.5   \n",
       "470                654.0                                 19.5   \n",
       "437               1363.4                                 21.7   \n",
       "399               2886.2                                 24.8   \n",
       "94                 752.8                                 33.1   \n",
       "95                 986.9                                 43.4   \n",
       "\n",
       "     TPH_percent_rank  Ridership_percent_rank  Crowdedness_percent_rank  \\\n",
       "105              0.58                    0.05                      0.02   \n",
       "106              0.58                    0.07                      0.02   \n",
       "104              0.58                    0.10                      0.03   \n",
       "110              0.54                    0.13                      0.05   \n",
       "109              0.58                    0.15                      0.05   \n",
       "107              0.58                    0.14                      0.05   \n",
       "445              0.88                    0.52                      0.06   \n",
       "108              0.58                    0.18                      0.08   \n",
       "103              0.58                    0.26                      0.15   \n",
       "102              0.58                    0.45                      0.33   \n",
       "97               0.64                    0.47                      0.34   \n",
       "93               0.64                    0.48                      0.35   \n",
       "98               0.64                    0.49                      0.36   \n",
       "99               0.64                    0.51                      0.38   \n",
       "100              0.64                    0.54                      0.42   \n",
       "96               0.64                    0.59                      0.52   \n",
       "467              0.80                    0.72                      0.53   \n",
       "395              0.97                    0.90                      0.56   \n",
       "101              0.64                    0.66                      0.68   \n",
       "470              0.79                    0.79                      0.76   \n",
       "437              0.90                    0.92                      0.82   \n",
       "399              0.99                    0.98                      0.86   \n",
       "94               0.64                    0.83                      0.95   \n",
       "95               0.64                    0.88                      0.98   \n",
       "\n",
       "     distance_in_15  distance_in_30  \n",
       "105          762.84         1962.84  \n",
       "106          762.84         1962.84  \n",
       "104          762.84         1962.84  \n",
       "110          743.73         1943.73  \n",
       "109          762.84         1962.84  \n",
       "107          762.84         1962.84  \n",
       "445         1031.58         2231.58  \n",
       "108          762.84         1962.84  \n",
       "103          762.84         1962.84  \n",
       "102          762.84         1962.84  \n",
       "97           778.21         1978.21  \n",
       "93           778.21         1978.21  \n",
       "98           778.21         1978.21  \n",
       "99           778.21         1978.21  \n",
       "100          778.21         1978.21  \n",
       "96           778.21         1978.21  \n",
       "467          927.12         2127.12  \n",
       "395         1093.73         2293.73  \n",
       "101          778.21         1978.21  \n",
       "470          913.09         2113.09  \n",
       "437         1047.23         2247.23  \n",
       "399         1117.55         2317.55  \n",
       "94           778.21         1978.21  \n",
       "95           778.21         1978.21  \n",
       "\n",
       "[24 rows x 25 columns]"
      ]
     },
     "execution_count": 70,
     "metadata": {},
     "output_type": "execute_result"
    }
   ],
   "source": [
    "station_complex_full_info.sort_values(by='hourly_ridership_per_train_direction')[\n",
    "    station_complex_full_info['Daytime Routes'].str.contains('L')]"
   ]
  },
  {
   "cell_type": "markdown",
   "metadata": {},
   "source": [
    "# Saving Transformed Data"
   ]
  },
  {
   "cell_type": "code",
   "execution_count": 71,
   "metadata": {
    "ExecuteTime": {
     "end_time": "2024-03-25T21:21:43.001391Z",
     "start_time": "2024-03-25T21:21:42.980442Z"
    }
   },
   "outputs": [],
   "source": [
    "station_complex_full_info.to_csv(\"station_complex_full_info_w_radii.csv\")"
   ]
  },
  {
   "cell_type": "code",
   "execution_count": null,
   "metadata": {},
   "outputs": [],
   "source": []
  },
  {
   "cell_type": "code",
   "execution_count": null,
   "metadata": {},
   "outputs": [],
   "source": []
  }
 ],
 "metadata": {
  "kernelspec": {
   "display_name": "Python 3",
   "language": "python",
   "name": "python3"
  },
  "language_info": {
   "codemirror_mode": {
    "name": "ipython",
    "version": 3
   },
   "file_extension": ".py",
   "mimetype": "text/x-python",
   "name": "python",
   "nbconvert_exporter": "python",
   "pygments_lexer": "ipython3",
   "version": "3.6.9"
  },
  "toc": {
   "base_numbering": 1,
   "nav_menu": {},
   "number_sections": true,
   "sideBar": true,
   "skip_h1_title": false,
   "title_cell": "Table of Contents",
   "title_sidebar": "Contents",
   "toc_cell": false,
   "toc_position": {
    "height": "calc(100% - 180px)",
    "left": "10px",
    "top": "150px",
    "width": "349.510864px"
   },
   "toc_section_display": true,
   "toc_window_display": true
  },
  "varInspector": {
   "cols": {
    "lenName": 16,
    "lenType": 16,
    "lenVar": 40
   },
   "kernels_config": {
    "python": {
     "delete_cmd_postfix": "",
     "delete_cmd_prefix": "del ",
     "library": "var_list.py",
     "varRefreshCmd": "print(var_dic_list())"
    },
    "r": {
     "delete_cmd_postfix": ") ",
     "delete_cmd_prefix": "rm(",
     "library": "var_list.r",
     "varRefreshCmd": "cat(var_dic_list()) "
    }
   },
   "position": {
    "height": "916.603271px",
    "left": "1661.391357px",
    "right": "20px",
    "top": "121.000008px",
    "width": "350px"
   },
   "types_to_exclude": [
    "module",
    "function",
    "builtin_function_or_method",
    "instance",
    "_Feature"
   ],
   "window_display": false
  }
 },
 "nbformat": 4,
 "nbformat_minor": 2
}
