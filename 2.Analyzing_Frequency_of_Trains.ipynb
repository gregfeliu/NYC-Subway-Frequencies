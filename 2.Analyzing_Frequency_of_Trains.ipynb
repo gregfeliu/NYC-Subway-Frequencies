{
 "cells": [
  {
   "cell_type": "markdown",
   "metadata": {},
   "source": [
    "The goal of this notebook is to **use Google's GTFS data to find out how many trains are operating in the NYC Subway at any given time**. Along the way, we will also how frequency changes throughout the train schedule and examine how frequency interacts with ridership numbers."
   ]
  },
  {
   "cell_type": "markdown",
   "metadata": {},
   "source": [
    "[MTA Developer Tools](https://new.mta.info/developers). The google data for the mta should be all that we need. There's weekday, saturday, and sunday service so only need to worry about those times. Additionally, there's data on the buses, LIRR and Metro North in there, too.\n",
    "- [mta metrics dashboard](https://metrics.mta.info/?subway/customerjourneytimeperformance)\n",
    "\n",
    "[time frequency](https://en.wikipedia.org/wiki/List_of_New_York_City_Subway_services#Train_frequency_charts) breakdown"
   ]
  },
  {
   "cell_type": "markdown",
   "metadata": {},
   "source": [
    "Some notes about the results:\n",
    "- the routes change by day of week (for example the M not running its whole route on the weekends)\n",
    "- some routes include service changes (the 7 and 7 express both count as the 7)\n",
    "- this also includes late nights where the routes can change dramatically (e.g.: the 5 train doesn't leave the BX at night)\n",
    "- two routes don't run on the weekends: the B and W"
   ]
  },
  {
   "cell_type": "markdown",
   "metadata": {},
   "source": [
    "# Imports"
   ]
  },
  {
   "cell_type": "code",
   "execution_count": 89,
   "metadata": {
    "ExecuteTime": {
     "end_time": "2024-03-22T21:50:02.081874Z",
     "start_time": "2024-03-22T21:50:02.076046Z"
    }
   },
   "outputs": [],
   "source": [
    "import pandas as pd\n",
    "import numpy as np\n",
    "import geopandas as gpd\n",
    "import seaborn as sns\n",
    "sns.set_theme(style=\"darkgrid\")\n",
    "import warnings\n",
    "warnings.filterwarnings(action='ignore')\n",
    "import folium\n",
    "import matplotlib.pyplot as plt\n",
    "import imageio\n",
    "from PIL import Image"
   ]
  },
  {
   "cell_type": "markdown",
   "metadata": {},
   "source": [
    "## Functions"
   ]
  },
  {
   "cell_type": "code",
   "execution_count": 90,
   "metadata": {
    "ExecuteTime": {
     "end_time": "2024-03-22T21:50:02.089038Z",
     "start_time": "2024-03-22T21:50:02.085035Z"
    },
    "code_folding": [
     0
    ]
   },
   "outputs": [],
   "source": [
    "def x_minute_subway(station_df:pd.DataFrame, minutes:int):\n",
    "    max_distance_meters = 80 * minutes\n",
    "    meters_to_station_in_x_minutes = []\n",
    "    for item in station_df['tph']:\n",
    "        result = max_distance_meters - ((60 / item) * 80)\n",
    "        if result < 0:\n",
    "            result = 0\n",
    "        meters_to_station_in_x_minutes.append(result)\n",
    "    return meters_to_station_in_x_minutes"
   ]
  },
  {
   "cell_type": "markdown",
   "metadata": {},
   "source": [
    "# Schedule Data"
   ]
  },
  {
   "cell_type": "code",
   "execution_count": 91,
   "metadata": {
    "ExecuteTime": {
     "end_time": "2024-03-22T21:50:02.625356Z",
     "start_time": "2024-03-22T21:50:02.091561Z"
    }
   },
   "outputs": [],
   "source": [
    "# holdays and other days when the data would be different than expected\n",
    "calendar_dates_df = pd.read_csv(\"data/google_transit/calendar_dates.txt\") \n",
    "calendar_df = pd.read_csv(\"data/google_transit/calendar.txt\")\n",
    "routes_df = pd.read_csv(\"data/google_transit/routes.txt\")\n",
    "stop_times_df = pd.read_csv(\"data/google_transit/stop_times.txt\")\n",
    "stops_df = pd.read_csv(\"data/google_transit/stops.txt\")\n",
    "transfers_df = pd.read_csv(\"data/google_transit/transfers.txt\")"
   ]
  },
  {
   "cell_type": "markdown",
   "metadata": {},
   "source": [
    "## Frequency Data \n",
    "(that I made)"
   ]
  },
  {
   "cell_type": "code",
   "execution_count": 92,
   "metadata": {
    "ExecuteTime": {
     "end_time": "2024-03-22T21:50:02.691406Z",
     "start_time": "2024-03-22T21:50:02.628289Z"
    }
   },
   "outputs": [],
   "source": [
    "first_stop_in_trip = pd.read_csv(\"saved_data/first_stop_in_trip.csv\", index_col=0)\n",
    "hourly_route_trip_freq = pd.read_csv(\"saved_data/hourly_route_trip_freq.csv\", index_col=0)\n",
    "frequency_by_stop_interval = pd.read_csv(\"saved_data/frequency_by_stop_interval.csv\", index_col=0)\n",
    "route_frequency_by_day = pd.read_csv(\"saved_data/route_frequency_by_day.csv\", index_col=0)\n",
    "daily_route_trip_freq = pd.read_csv(\"saved_data/daily_route_trip_freq.csv\", index_col=0)\n",
    "trip_interval_route_freq = pd.read_csv(\"saved_data/trip_interval_route_freq.csv\", index_col=0)"
   ]
  },
  {
   "cell_type": "code",
   "execution_count": 93,
   "metadata": {
    "ExecuteTime": {
     "end_time": "2024-03-22T21:50:02.790381Z",
     "start_time": "2024-03-22T21:50:02.693538Z"
    }
   },
   "outputs": [],
   "source": [
    "train_area_df = pd.read_csv(\"saved_data/length_of_each_train.csv\", index_col=0)\n",
    "hourly_station_ridership = pd.read_csv(\"saved_data/hourly_station_ridership.csv\", index_col=0)\n",
    "station_complex_full_info = pd.read_csv(\"saved_data/station_complex_full_info.csv\", index_col=0)"
   ]
  },
  {
   "cell_type": "code",
   "execution_count": 94,
   "metadata": {
    "ExecuteTime": {
     "end_time": "2024-03-22T21:50:02.810386Z",
     "start_time": "2024-03-22T21:50:02.793010Z"
    }
   },
   "outputs": [],
   "source": [
    "# Adding features to the station data \n",
    "# adding the rank of the station in terms of trains per hour on a 1-10 scale\n",
    "station_complex_full_info['TPH_percent_rank'] = station_complex_full_info['tph'].rank(pct=True)\n",
    "station_complex_full_info['Ridership_percent_rank'] = station_complex_full_info['avg_hourly_ridership'].rank(pct=True)\n",
    "station_complex_full_info['Crowdedness_percent_rank'] = station_complex_full_info['hourly_ridership_per_train_direction'].rank(pct=True)\n",
    "station_complex_full_info['distance_in_15'] = x_minute_subway(station_complex_full_info, 15)\n",
    "station_complex_full_info['distance_in_30'] = x_minute_subway(station_complex_full_info, 30)\n",
    "station_complex_full_info = station_complex_full_info.round(2)"
   ]
  },
  {
   "cell_type": "code",
   "execution_count": 95,
   "metadata": {
    "ExecuteTime": {
     "end_time": "2024-03-22T21:50:02.821088Z",
     "start_time": "2024-03-22T21:50:02.812517Z"
    }
   },
   "outputs": [],
   "source": [
    "# sorting the trip interval data by service\n",
    "# sorting train_time_interval by time of day\n",
    "time_of_day_sorting = {'Late Night': 0, 'Rush Hour AM': 1, 'Midday': 2\n",
    "                                     , 'Rush Hour PM': 3, 'Evening': 4, 'Weekend': 5}\n",
    "trip_interval_route_freq = trip_interval_route_freq.sort_values(by= ['route_id', 'train_time_interval']\n",
    "                                    , key=lambda x: x.map(time_of_day_sorting)).reset_index(drop=True)"
   ]
  },
  {
   "cell_type": "markdown",
   "metadata": {},
   "source": [
    "## Removing SIR "
   ]
  },
  {
   "cell_type": "code",
   "execution_count": 96,
   "metadata": {
    "ExecuteTime": {
     "end_time": "2024-03-22T21:50:02.829865Z",
     "start_time": "2024-03-22T21:50:02.824691Z"
    },
    "scrolled": true
   },
   "outputs": [],
   "source": [
    "daily_route_trip_freq = daily_route_trip_freq[daily_route_trip_freq['route_id']!='SI']\n",
    "hourly_route_trip_freq = hourly_route_trip_freq[hourly_route_trip_freq['route_id']!='SI']"
   ]
  },
  {
   "cell_type": "markdown",
   "metadata": {},
   "source": [
    "# Number of Train (sets) Running Per Day "
   ]
  },
  {
   "cell_type": "markdown",
   "metadata": {},
   "source": [
    "## Daily"
   ]
  },
  {
   "cell_type": "code",
   "execution_count": 97,
   "metadata": {
    "ExecuteTime": {
     "end_time": "2024-03-22T21:50:02.844914Z",
     "start_time": "2024-03-22T21:50:02.833276Z"
    },
    "scrolled": true
   },
   "outputs": [
    {
     "data": {
      "text/html": [
       "<div>\n",
       "<style scoped>\n",
       "    .dataframe tbody tr th:only-of-type {\n",
       "        vertical-align: middle;\n",
       "    }\n",
       "\n",
       "    .dataframe tbody tr th {\n",
       "        vertical-align: top;\n",
       "    }\n",
       "\n",
       "    .dataframe thead th {\n",
       "        text-align: right;\n",
       "    }\n",
       "</style>\n",
       "<table border=\"1\" class=\"dataframe\">\n",
       "  <thead>\n",
       "    <tr style=\"text-align: right;\">\n",
       "      <th></th>\n",
       "      <th>route_id</th>\n",
       "      <th>Avg_num_trains_running</th>\n",
       "    </tr>\n",
       "  </thead>\n",
       "  <tbody>\n",
       "    <tr>\n",
       "      <th>12</th>\n",
       "      <td>F</td>\n",
       "      <td>21.4</td>\n",
       "    </tr>\n",
       "    <tr>\n",
       "      <th>1</th>\n",
       "      <td>2</td>\n",
       "      <td>20.4</td>\n",
       "    </tr>\n",
       "    <tr>\n",
       "      <th>7</th>\n",
       "      <td>A</td>\n",
       "      <td>19.7</td>\n",
       "    </tr>\n",
       "    <tr>\n",
       "      <th>5</th>\n",
       "      <td>6</td>\n",
       "      <td>19.5</td>\n",
       "    </tr>\n",
       "    <tr>\n",
       "      <th>20</th>\n",
       "      <td>N</td>\n",
       "      <td>19.1</td>\n",
       "    </tr>\n",
       "  </tbody>\n",
       "</table>\n",
       "</div>"
      ],
      "text/plain": [
       "   route_id  Avg_num_trains_running\n",
       "12        F                    21.4\n",
       "1         2                    20.4\n",
       "7         A                    19.7\n",
       "5         6                    19.5\n",
       "20        N                    19.1"
      ]
     },
     "execution_count": 97,
     "metadata": {},
     "output_type": "execute_result"
    }
   ],
   "source": [
    "# services with the most trains running overall\n",
    "daily_route_trip_freq[['route_id', \"Avg_num_trains_running\"]].sort_values(by='Avg_num_trains_running'\n",
    "                                                                          , ascending=False)[0:5]"
   ]
  },
  {
   "cell_type": "code",
   "execution_count": 98,
   "metadata": {
    "ExecuteTime": {
     "end_time": "2024-03-22T21:50:02.852597Z",
     "start_time": "2024-03-22T21:50:02.847252Z"
    }
   },
   "outputs": [
    {
     "data": {
      "text/plain": [
       "283.4"
      ]
     },
     "execution_count": 98,
     "metadata": {},
     "output_type": "execute_result"
    }
   ],
   "source": [
    "# 288 trains running on average!\n",
    "# this is trains moving at any one moment (Grand Central Shuttle counts as 1/4 of a train)\n",
    "daily_route_trip_freq['Avg_num_trains_running'].sum()"
   ]
  },
  {
   "cell_type": "markdown",
   "metadata": {},
   "source": [
    "## Train Time Interval"
   ]
  },
  {
   "cell_type": "code",
   "execution_count": 99,
   "metadata": {
    "ExecuteTime": {
     "end_time": "2024-03-22T21:50:02.870280Z",
     "start_time": "2024-03-22T21:50:02.855077Z"
    },
    "scrolled": true
   },
   "outputs": [
    {
     "data": {
      "text/html": [
       "<div>\n",
       "<style scoped>\n",
       "    .dataframe tbody tr th:only-of-type {\n",
       "        vertical-align: middle;\n",
       "    }\n",
       "\n",
       "    .dataframe tbody tr th {\n",
       "        vertical-align: top;\n",
       "    }\n",
       "\n",
       "    .dataframe thead th {\n",
       "        text-align: right;\n",
       "    }\n",
       "</style>\n",
       "<table border=\"1\" class=\"dataframe\">\n",
       "  <thead>\n",
       "    <tr style=\"text-align: right;\">\n",
       "      <th></th>\n",
       "      <th>route_id</th>\n",
       "      <th>train_time_interval</th>\n",
       "      <th>Avg_num_trains_running</th>\n",
       "    </tr>\n",
       "  </thead>\n",
       "  <tbody>\n",
       "    <tr>\n",
       "      <th>36</th>\n",
       "      <td>F</td>\n",
       "      <td>Rush Hour AM</td>\n",
       "      <td>34.6</td>\n",
       "    </tr>\n",
       "    <tr>\n",
       "      <th>92</th>\n",
       "      <td>N</td>\n",
       "      <td>Rush Hour PM</td>\n",
       "      <td>32.6</td>\n",
       "    </tr>\n",
       "    <tr>\n",
       "      <th>44</th>\n",
       "      <td>N</td>\n",
       "      <td>Rush Hour AM</td>\n",
       "      <td>32.6</td>\n",
       "    </tr>\n",
       "    <tr>\n",
       "      <th>29</th>\n",
       "      <td>6</td>\n",
       "      <td>Rush Hour AM</td>\n",
       "      <td>32.5</td>\n",
       "    </tr>\n",
       "    <tr>\n",
       "      <th>84</th>\n",
       "      <td>F</td>\n",
       "      <td>Rush Hour PM</td>\n",
       "      <td>32.2</td>\n",
       "    </tr>\n",
       "  </tbody>\n",
       "</table>\n",
       "</div>"
      ],
      "text/plain": [
       "   route_id train_time_interval  Avg_num_trains_running\n",
       "36        F        Rush Hour AM                    34.6\n",
       "92        N        Rush Hour PM                    32.6\n",
       "44        N        Rush Hour AM                    32.6\n",
       "29        6        Rush Hour AM                    32.5\n",
       "84        F        Rush Hour PM                    32.2"
      ]
     },
     "execution_count": 99,
     "metadata": {},
     "output_type": "execute_result"
    }
   ],
   "source": [
    "trip_interval_route_freq[['route_id', 'train_time_interval', 'Avg_num_trains_running']].sort_values(\n",
    "                                                    by='Avg_num_trains_running', ascending=False)[0:5]"
   ]
  },
  {
   "cell_type": "code",
   "execution_count": 100,
   "metadata": {
    "ExecuteTime": {
     "end_time": "2024-03-22T21:50:02.882133Z",
     "start_time": "2024-03-22T21:50:02.871823Z"
    }
   },
   "outputs": [],
   "source": [
    "interval_number_of_trains_dict = {}\n",
    "for value in frequency_by_stop_interval['train_time_interval'].unique():\n",
    "    interval_avg_num_trains = trip_interval_route_freq[trip_interval_route_freq['train_time_interval']==value\n",
    "                                                                                ]['Avg_num_trains_running'].sum()\n",
    "    interval_number_of_trains_dict[value] = round(interval_avg_num_trains, 1)\n",
    "train_time_interval_df = pd.DataFrame.from_dict(interval_number_of_trains_dict, orient='index'\n",
    "                                                , columns=['Avg_number_of_trains_in_interval'])"
   ]
  },
  {
   "cell_type": "code",
   "execution_count": 101,
   "metadata": {
    "ExecuteTime": {
     "end_time": "2024-03-22T21:50:02.893128Z",
     "start_time": "2024-03-22T21:50:02.884697Z"
    }
   },
   "outputs": [
    {
     "data": {
      "text/html": [
       "<div>\n",
       "<style scoped>\n",
       "    .dataframe tbody tr th:only-of-type {\n",
       "        vertical-align: middle;\n",
       "    }\n",
       "\n",
       "    .dataframe tbody tr th {\n",
       "        vertical-align: top;\n",
       "    }\n",
       "\n",
       "    .dataframe thead th {\n",
       "        text-align: right;\n",
       "    }\n",
       "</style>\n",
       "<table border=\"1\" class=\"dataframe\">\n",
       "  <thead>\n",
       "    <tr style=\"text-align: right;\">\n",
       "      <th></th>\n",
       "      <th>Avg_number_of_trains_in_interval</th>\n",
       "    </tr>\n",
       "  </thead>\n",
       "  <tbody>\n",
       "    <tr>\n",
       "      <th>Late Night</th>\n",
       "      <td>125.3</td>\n",
       "    </tr>\n",
       "    <tr>\n",
       "      <th>Weekend</th>\n",
       "      <td>223.3</td>\n",
       "    </tr>\n",
       "    <tr>\n",
       "      <th>Evening</th>\n",
       "      <td>239.5</td>\n",
       "    </tr>\n",
       "    <tr>\n",
       "      <th>Midday</th>\n",
       "      <td>353.2</td>\n",
       "    </tr>\n",
       "    <tr>\n",
       "      <th>Rush Hour PM</th>\n",
       "      <td>419.5</td>\n",
       "    </tr>\n",
       "    <tr>\n",
       "      <th>Rush Hour AM</th>\n",
       "      <td>443.1</td>\n",
       "    </tr>\n",
       "  </tbody>\n",
       "</table>\n",
       "</div>"
      ],
      "text/plain": [
       "              Avg_number_of_trains_in_interval\n",
       "Late Night                               125.3\n",
       "Weekend                                  223.3\n",
       "Evening                                  239.5\n",
       "Midday                                   353.2\n",
       "Rush Hour PM                             419.5\n",
       "Rush Hour AM                             443.1"
      ]
     },
     "execution_count": 101,
     "metadata": {},
     "output_type": "execute_result"
    }
   ],
   "source": [
    "train_time_interval_df.sort_values(by='Avg_number_of_trains_in_interval')"
   ]
  },
  {
   "cell_type": "code",
   "execution_count": 102,
   "metadata": {
    "ExecuteTime": {
     "end_time": "2024-03-22T21:50:02.908808Z",
     "start_time": "2024-03-22T21:50:02.894669Z"
    },
    "scrolled": false
   },
   "outputs": [
    {
     "data": {
      "text/html": [
       "<div>\n",
       "<style scoped>\n",
       "    .dataframe tbody tr th:only-of-type {\n",
       "        vertical-align: middle;\n",
       "    }\n",
       "\n",
       "    .dataframe tbody tr th {\n",
       "        vertical-align: top;\n",
       "    }\n",
       "\n",
       "    .dataframe thead th {\n",
       "        text-align: right;\n",
       "    }\n",
       "</style>\n",
       "<table border=\"1\" class=\"dataframe\">\n",
       "  <thead>\n",
       "    <tr style=\"text-align: right;\">\n",
       "      <th></th>\n",
       "      <th>route_id</th>\n",
       "      <th>train_time_interval</th>\n",
       "      <th>trains_per_hour</th>\n",
       "      <th>headway_seconds</th>\n",
       "      <th>headway_minutes</th>\n",
       "      <th>route_time_seconds</th>\n",
       "      <th>route_time_minutes</th>\n",
       "      <th>Avg_num_trains_running</th>\n",
       "    </tr>\n",
       "  </thead>\n",
       "  <tbody>\n",
       "    <tr>\n",
       "      <th>7</th>\n",
       "      <td>A</td>\n",
       "      <td>Late Night</td>\n",
       "      <td>6</td>\n",
       "      <td>600.0</td>\n",
       "      <td>10.0</td>\n",
       "      <td>4850</td>\n",
       "      <td>80.8</td>\n",
       "      <td>16.2</td>\n",
       "    </tr>\n",
       "    <tr>\n",
       "      <th>121</th>\n",
       "      <td>2</td>\n",
       "      <td>Weekend</td>\n",
       "      <td>6</td>\n",
       "      <td>600.0</td>\n",
       "      <td>10.0</td>\n",
       "      <td>5744</td>\n",
       "      <td>95.7</td>\n",
       "      <td>19.1</td>\n",
       "    </tr>\n",
       "    <tr>\n",
       "      <th>108</th>\n",
       "      <td>F</td>\n",
       "      <td>Evening</td>\n",
       "      <td>9</td>\n",
       "      <td>400.0</td>\n",
       "      <td>6.7</td>\n",
       "      <td>4148</td>\n",
       "      <td>69.1</td>\n",
       "      <td>20.7</td>\n",
       "    </tr>\n",
       "    <tr>\n",
       "      <th>68</th>\n",
       "      <td>N</td>\n",
       "      <td>Midday</td>\n",
       "      <td>13</td>\n",
       "      <td>277.0</td>\n",
       "      <td>4.6</td>\n",
       "      <td>4186</td>\n",
       "      <td>69.8</td>\n",
       "      <td>30.2</td>\n",
       "    </tr>\n",
       "    <tr>\n",
       "      <th>92</th>\n",
       "      <td>N</td>\n",
       "      <td>Rush Hour PM</td>\n",
       "      <td>14</td>\n",
       "      <td>257.0</td>\n",
       "      <td>4.3</td>\n",
       "      <td>4186</td>\n",
       "      <td>69.8</td>\n",
       "      <td>32.6</td>\n",
       "    </tr>\n",
       "    <tr>\n",
       "      <th>36</th>\n",
       "      <td>F</td>\n",
       "      <td>Rush Hour AM</td>\n",
       "      <td>15</td>\n",
       "      <td>240.0</td>\n",
       "      <td>4.0</td>\n",
       "      <td>4148</td>\n",
       "      <td>69.1</td>\n",
       "      <td>34.6</td>\n",
       "    </tr>\n",
       "  </tbody>\n",
       "</table>\n",
       "</div>"
      ],
      "text/plain": [
       "    route_id train_time_interval  trains_per_hour  headway_seconds  \\\n",
       "7          A          Late Night                6            600.0   \n",
       "121        2             Weekend                6            600.0   \n",
       "108        F             Evening                9            400.0   \n",
       "68         N              Midday               13            277.0   \n",
       "92         N        Rush Hour PM               14            257.0   \n",
       "36         F        Rush Hour AM               15            240.0   \n",
       "\n",
       "     headway_minutes  route_time_seconds  route_time_minutes  \\\n",
       "7               10.0                4850                80.8   \n",
       "121             10.0                5744                95.7   \n",
       "108              6.7                4148                69.1   \n",
       "68               4.6                4186                69.8   \n",
       "92               4.3                4186                69.8   \n",
       "36               4.0                4148                69.1   \n",
       "\n",
       "     Avg_num_trains_running  \n",
       "7                      16.2  \n",
       "121                    19.1  \n",
       "108                    20.7  \n",
       "68                     30.2  \n",
       "92                     32.6  \n",
       "36                     34.6  "
      ]
     },
     "execution_count": 102,
     "metadata": {},
     "output_type": "execute_result"
    }
   ],
   "source": [
    "# which routes has the most service per train time interval\n",
    "# are there ties for the frequency??\n",
    "trip_interval_route_freq[trip_interval_route_freq['headway_minutes'] < 1000].sort_values(\n",
    "    by='Avg_num_trains_running').drop_duplicates(subset='train_time_interval', keep='last')"
   ]
  },
  {
   "cell_type": "markdown",
   "metadata": {},
   "source": [
    "### Plotting the Change in Frequency by Train Time Interval"
   ]
  },
  {
   "cell_type": "code",
   "execution_count": 135,
   "metadata": {
    "ExecuteTime": {
     "end_time": "2024-03-22T22:20:08.009684Z",
     "start_time": "2024-03-22T22:20:08.006914Z"
    }
   },
   "outputs": [],
   "source": [
    "trip_interval_route_freq.columns = ['route_id', 'Train Time Interval', 'trains_per_hour'\n",
    "                                   , 'headway_seconds', 'Headway Minutes', 'route_time_seconds'\n",
    "                                   , 'route_time_minutes', 'Avg_num_trains_running']"
   ]
  },
  {
   "cell_type": "code",
   "execution_count": 146,
   "metadata": {
    "ExecuteTime": {
     "end_time": "2024-03-22T22:23:28.861314Z",
     "start_time": "2024-03-22T22:23:28.547521Z"
    }
   },
   "outputs": [
    {
     "data": {
      "image/png": "[encoded data removed]",
      "text/plain": [
       "<Figure size 432x288 with 1 Axes>"
      ]
     },
     "metadata": {},
     "output_type": "display_data"
    }
   ],
   "source": [
    "interval_headways_by_line = sns.lineplot(data=trip_interval_route_freq, x='Train Time Interval'\n",
    "                                       , y='Headway Minutes')\n",
    "fig = interval_headways_by_line.get_figure()\n",
    "fig.savefig(\"saved_data/interval_headways.png\") "
   ]
  },
  {
   "cell_type": "code",
   "execution_count": null,
   "metadata": {},
   "outputs": [],
   "source": []
  },
  {
   "cell_type": "code",
   "execution_count": null,
   "metadata": {},
   "outputs": [],
   "source": []
  },
  {
   "cell_type": "markdown",
   "metadata": {},
   "source": [
    "## Hourly"
   ]
  },
  {
   "cell_type": "code",
   "execution_count": 103,
   "metadata": {
    "ExecuteTime": {
     "end_time": "2024-03-22T21:50:02.938118Z",
     "start_time": "2024-03-22T21:50:02.910782Z"
    }
   },
   "outputs": [],
   "source": [
    "hourly_route_trip_freq['day_hour'] = [hourly_route_trip_freq['day_of_week'][idx] + \"_\" \\\n",
    "                                        + str(hourly_route_trip_freq['departure_hour'][idx])\n",
    "                                            for idx in range(hourly_route_trip_freq.shape[0])]"
   ]
  },
  {
   "cell_type": "code",
   "execution_count": 104,
   "metadata": {
    "ExecuteTime": {
     "end_time": "2024-03-22T21:50:02.951995Z",
     "start_time": "2024-03-22T21:50:02.940491Z"
    },
    "scrolled": true
   },
   "outputs": [
    {
     "data": {
      "text/html": [
       "<div>\n",
       "<style scoped>\n",
       "    .dataframe tbody tr th:only-of-type {\n",
       "        vertical-align: middle;\n",
       "    }\n",
       "\n",
       "    .dataframe tbody tr th {\n",
       "        vertical-align: top;\n",
       "    }\n",
       "\n",
       "    .dataframe thead th {\n",
       "        text-align: right;\n",
       "    }\n",
       "</style>\n",
       "<table border=\"1\" class=\"dataframe\">\n",
       "  <thead>\n",
       "    <tr style=\"text-align: right;\">\n",
       "      <th></th>\n",
       "      <th>route_id</th>\n",
       "      <th>day_hour</th>\n",
       "      <th>Avg_num_trains_running</th>\n",
       "    </tr>\n",
       "  </thead>\n",
       "  <tbody>\n",
       "    <tr>\n",
       "      <th>845</th>\n",
       "      <td>F</td>\n",
       "      <td>Weekday_7</td>\n",
       "      <td>39.2</td>\n",
       "    </tr>\n",
       "    <tr>\n",
       "      <th>415</th>\n",
       "      <td>6</td>\n",
       "      <td>Weekday_7</td>\n",
       "      <td>38.3</td>\n",
       "    </tr>\n",
       "    <tr>\n",
       "      <th>127</th>\n",
       "      <td>2</td>\n",
       "      <td>Weekday_7</td>\n",
       "      <td>38.3</td>\n",
       "    </tr>\n",
       "    <tr>\n",
       "      <th>568</th>\n",
       "      <td>A</td>\n",
       "      <td>Weekday_16</td>\n",
       "      <td>37.7</td>\n",
       "    </tr>\n",
       "    <tr>\n",
       "      <th>1415</th>\n",
       "      <td>N</td>\n",
       "      <td>Weekday_16</td>\n",
       "      <td>37.2</td>\n",
       "    </tr>\n",
       "  </tbody>\n",
       "</table>\n",
       "</div>"
      ],
      "text/plain": [
       "     route_id    day_hour  Avg_num_trains_running\n",
       "845         F   Weekday_7                    39.2\n",
       "415         6   Weekday_7                    38.3\n",
       "127         2   Weekday_7                    38.3\n",
       "568         A  Weekday_16                    37.7\n",
       "1415        N  Weekday_16                    37.2"
      ]
     },
     "execution_count": 104,
     "metadata": {},
     "output_type": "execute_result"
    }
   ],
   "source": [
    "hourly_route_trip_freq[['route_id', 'day_hour', 'Avg_num_trains_running']].sort_values(\n",
    "                                                    by='Avg_num_trains_running', ascending=False)[0:5]"
   ]
  },
  {
   "cell_type": "code",
   "execution_count": 105,
   "metadata": {
    "ExecuteTime": {
     "end_time": "2024-03-22T21:50:03.031067Z",
     "start_time": "2024-03-22T21:50:02.953690Z"
    }
   },
   "outputs": [],
   "source": [
    "hourly_number_of_trains_dict = {}\n",
    "for value in hourly_route_trip_freq['day_hour'].unique():\n",
    "    hourly_avg_num_trains = hourly_route_trip_freq[hourly_route_trip_freq['day_hour']==value\n",
    "                                                                                ]['Avg_num_trains_running'].sum()\n",
    "    hourly_number_of_trains_dict[value] = round(hourly_avg_num_trains, 1)\n",
    "train_time_hourly_df = pd.DataFrame.from_dict(hourly_number_of_trains_dict, orient='index'\n",
    "                                                , columns=['Avg_number_of_trains_in_hour'])"
   ]
  },
  {
   "cell_type": "markdown",
   "metadata": {},
   "source": [
    "### Most frequent number of trains running"
   ]
  },
  {
   "cell_type": "code",
   "execution_count": 106,
   "metadata": {
    "ExecuteTime": {
     "end_time": "2024-03-22T21:50:03.043536Z",
     "start_time": "2024-03-22T21:50:03.033189Z"
    }
   },
   "outputs": [
    {
     "data": {
      "text/html": [
       "<div>\n",
       "<style scoped>\n",
       "    .dataframe tbody tr th:only-of-type {\n",
       "        vertical-align: middle;\n",
       "    }\n",
       "\n",
       "    .dataframe tbody tr th {\n",
       "        vertical-align: top;\n",
       "    }\n",
       "\n",
       "    .dataframe thead th {\n",
       "        text-align: right;\n",
       "    }\n",
       "</style>\n",
       "<table border=\"1\" class=\"dataframe\">\n",
       "  <thead>\n",
       "    <tr style=\"text-align: right;\">\n",
       "      <th></th>\n",
       "      <th>Avg_number_of_trains_in_hour</th>\n",
       "    </tr>\n",
       "  </thead>\n",
       "  <tbody>\n",
       "    <tr>\n",
       "      <th>Weekday_16</th>\n",
       "      <td>489.7</td>\n",
       "    </tr>\n",
       "  </tbody>\n",
       "</table>\n",
       "</div>"
      ],
      "text/plain": [
       "            Avg_number_of_trains_in_hour\n",
       "Weekday_16                         489.7"
      ]
     },
     "execution_count": 106,
     "metadata": {},
     "output_type": "execute_result"
    }
   ],
   "source": [
    "train_time_hourly_df[train_time_hourly_df['Avg_number_of_trains_in_hour']==\n",
    "                     train_time_hourly_df['Avg_number_of_trains_in_hour'].max()]"
   ]
  },
  {
   "cell_type": "code",
   "execution_count": 107,
   "metadata": {
    "ExecuteTime": {
     "end_time": "2024-03-22T21:50:03.054480Z",
     "start_time": "2024-03-22T21:50:03.045259Z"
    }
   },
   "outputs": [
    {
     "data": {
      "text/html": [
       "<div>\n",
       "<style scoped>\n",
       "    .dataframe tbody tr th:only-of-type {\n",
       "        vertical-align: middle;\n",
       "    }\n",
       "\n",
       "    .dataframe tbody tr th {\n",
       "        vertical-align: top;\n",
       "    }\n",
       "\n",
       "    .dataframe thead th {\n",
       "        text-align: right;\n",
       "    }\n",
       "</style>\n",
       "<table border=\"1\" class=\"dataframe\">\n",
       "  <thead>\n",
       "    <tr style=\"text-align: right;\">\n",
       "      <th></th>\n",
       "      <th>Avg_number_of_trains_in_hour</th>\n",
       "    </tr>\n",
       "  </thead>\n",
       "  <tbody>\n",
       "    <tr>\n",
       "      <th>Weekday_16</th>\n",
       "      <td>489.7</td>\n",
       "    </tr>\n",
       "    <tr>\n",
       "      <th>Weekday_7</th>\n",
       "      <td>476.9</td>\n",
       "    </tr>\n",
       "    <tr>\n",
       "      <th>Weekday_8</th>\n",
       "      <td>467.2</td>\n",
       "    </tr>\n",
       "    <tr>\n",
       "      <th>Weekday_17</th>\n",
       "      <td>426.7</td>\n",
       "    </tr>\n",
       "    <tr>\n",
       "      <th>Weekday_15</th>\n",
       "      <td>409.2</td>\n",
       "    </tr>\n",
       "    <tr>\n",
       "      <th>Weekday_18</th>\n",
       "      <td>408.0</td>\n",
       "    </tr>\n",
       "    <tr>\n",
       "      <th>Weekday_6</th>\n",
       "      <td>403.0</td>\n",
       "    </tr>\n",
       "    <tr>\n",
       "      <th>Weekday_9</th>\n",
       "      <td>389.4</td>\n",
       "    </tr>\n",
       "    <tr>\n",
       "      <th>Weekday_19</th>\n",
       "      <td>389.1</td>\n",
       "    </tr>\n",
       "    <tr>\n",
       "      <th>Weekday_13</th>\n",
       "      <td>369.4</td>\n",
       "    </tr>\n",
       "  </tbody>\n",
       "</table>\n",
       "</div>"
      ],
      "text/plain": [
       "            Avg_number_of_trains_in_hour\n",
       "Weekday_16                         489.7\n",
       "Weekday_7                          476.9\n",
       "Weekday_8                          467.2\n",
       "Weekday_17                         426.7\n",
       "Weekday_15                         409.2\n",
       "Weekday_18                         408.0\n",
       "Weekday_6                          403.0\n",
       "Weekday_9                          389.4\n",
       "Weekday_19                         389.1\n",
       "Weekday_13                         369.4"
      ]
     },
     "execution_count": 107,
     "metadata": {},
     "output_type": "execute_result"
    }
   ],
   "source": [
    "# least frequent hours to use the subway\n",
    "train_time_hourly_df.sort_values(by='Avg_number_of_trains_in_hour', ascending=False)[0:10]"
   ]
  },
  {
   "cell_type": "markdown",
   "metadata": {},
   "source": [
    "### Least frequent number of trains running"
   ]
  },
  {
   "cell_type": "code",
   "execution_count": 108,
   "metadata": {
    "ExecuteTime": {
     "end_time": "2024-03-22T21:50:03.065916Z",
     "start_time": "2024-03-22T21:50:03.056218Z"
    }
   },
   "outputs": [
    {
     "data": {
      "text/html": [
       "<div>\n",
       "<style scoped>\n",
       "    .dataframe tbody tr th:only-of-type {\n",
       "        vertical-align: middle;\n",
       "    }\n",
       "\n",
       "    .dataframe tbody tr th {\n",
       "        vertical-align: top;\n",
       "    }\n",
       "\n",
       "    .dataframe thead th {\n",
       "        text-align: right;\n",
       "    }\n",
       "</style>\n",
       "<table border=\"1\" class=\"dataframe\">\n",
       "  <thead>\n",
       "    <tr style=\"text-align: right;\">\n",
       "      <th></th>\n",
       "      <th>Avg_number_of_trains_in_hour</th>\n",
       "    </tr>\n",
       "  </thead>\n",
       "  <tbody>\n",
       "    <tr>\n",
       "      <th>Saturday_2</th>\n",
       "      <td>119.0</td>\n",
       "    </tr>\n",
       "    <tr>\n",
       "      <th>Saturday_3</th>\n",
       "      <td>119.0</td>\n",
       "    </tr>\n",
       "    <tr>\n",
       "      <th>Sunday_2</th>\n",
       "      <td>119.0</td>\n",
       "    </tr>\n",
       "    <tr>\n",
       "      <th>Weekday_3</th>\n",
       "      <td>119.0</td>\n",
       "    </tr>\n",
       "    <tr>\n",
       "      <th>Weekday_2</th>\n",
       "      <td>119.0</td>\n",
       "    </tr>\n",
       "    <tr>\n",
       "      <th>Sunday_3</th>\n",
       "      <td>119.0</td>\n",
       "    </tr>\n",
       "    <tr>\n",
       "      <th>Sunday_4</th>\n",
       "      <td>119.0</td>\n",
       "    </tr>\n",
       "    <tr>\n",
       "      <th>Weekday_0</th>\n",
       "      <td>119.6</td>\n",
       "    </tr>\n",
       "    <tr>\n",
       "      <th>Weekday_1</th>\n",
       "      <td>120.3</td>\n",
       "    </tr>\n",
       "    <tr>\n",
       "      <th>Saturday_1</th>\n",
       "      <td>120.3</td>\n",
       "    </tr>\n",
       "  </tbody>\n",
       "</table>\n",
       "</div>"
      ],
      "text/plain": [
       "            Avg_number_of_trains_in_hour\n",
       "Saturday_2                         119.0\n",
       "Saturday_3                         119.0\n",
       "Sunday_2                           119.0\n",
       "Weekday_3                          119.0\n",
       "Weekday_2                          119.0\n",
       "Sunday_3                           119.0\n",
       "Sunday_4                           119.0\n",
       "Weekday_0                          119.6\n",
       "Weekday_1                          120.3\n",
       "Saturday_1                         120.3"
      ]
     },
     "execution_count": 108,
     "metadata": {},
     "output_type": "execute_result"
    }
   ],
   "source": [
    "# least frequent hours to use the subway\n",
    "train_time_hourly_df.sort_values(by='Avg_number_of_trains_in_hour')[0:10]"
   ]
  },
  {
   "cell_type": "code",
   "execution_count": 109,
   "metadata": {
    "ExecuteTime": {
     "end_time": "2024-03-22T21:50:03.074218Z",
     "start_time": "2024-03-22T21:50:03.067803Z"
    },
    "scrolled": true
   },
   "outputs": [
    {
     "data": {
      "text/html": [
       "<div>\n",
       "<style scoped>\n",
       "    .dataframe tbody tr th:only-of-type {\n",
       "        vertical-align: middle;\n",
       "    }\n",
       "\n",
       "    .dataframe tbody tr th {\n",
       "        vertical-align: top;\n",
       "    }\n",
       "\n",
       "    .dataframe thead th {\n",
       "        text-align: right;\n",
       "    }\n",
       "</style>\n",
       "<table border=\"1\" class=\"dataframe\">\n",
       "  <thead>\n",
       "    <tr style=\"text-align: right;\">\n",
       "      <th></th>\n",
       "      <th>Avg_number_of_trains_in_hour</th>\n",
       "    </tr>\n",
       "  </thead>\n",
       "  <tbody>\n",
       "    <tr>\n",
       "      <th>Saturday_2</th>\n",
       "      <td>119.0</td>\n",
       "    </tr>\n",
       "    <tr>\n",
       "      <th>Saturday_3</th>\n",
       "      <td>119.0</td>\n",
       "    </tr>\n",
       "    <tr>\n",
       "      <th>Sunday_2</th>\n",
       "      <td>119.0</td>\n",
       "    </tr>\n",
       "    <tr>\n",
       "      <th>Sunday_3</th>\n",
       "      <td>119.0</td>\n",
       "    </tr>\n",
       "    <tr>\n",
       "      <th>Sunday_4</th>\n",
       "      <td>119.0</td>\n",
       "    </tr>\n",
       "    <tr>\n",
       "      <th>Weekday_2</th>\n",
       "      <td>119.0</td>\n",
       "    </tr>\n",
       "    <tr>\n",
       "      <th>Weekday_3</th>\n",
       "      <td>119.0</td>\n",
       "    </tr>\n",
       "  </tbody>\n",
       "</table>\n",
       "</div>"
      ],
      "text/plain": [
       "            Avg_number_of_trains_in_hour\n",
       "Saturday_2                         119.0\n",
       "Saturday_3                         119.0\n",
       "Sunday_2                           119.0\n",
       "Sunday_3                           119.0\n",
       "Sunday_4                           119.0\n",
       "Weekday_2                          119.0\n",
       "Weekday_3                          119.0"
      ]
     },
     "execution_count": 109,
     "metadata": {},
     "output_type": "execute_result"
    }
   ],
   "source": [
    "train_time_hourly_df[train_time_hourly_df['Avg_number_of_trains_in_hour']==\n",
    "                     train_time_hourly_df['Avg_number_of_trains_in_hour'].min()]"
   ]
  },
  {
   "cell_type": "markdown",
   "metadata": {},
   "source": [
    "### Plotting number of trains runnings by Hour "
   ]
  },
  {
   "cell_type": "code",
   "execution_count": 110,
   "metadata": {
    "ExecuteTime": {
     "end_time": "2024-03-22T21:50:03.083558Z",
     "start_time": "2024-03-22T21:50:03.077672Z"
    }
   },
   "outputs": [],
   "source": [
    "train_time_hourly_df_day = [x.split(\"_\")[0] for x in train_time_hourly_df.index.values]\n",
    "train_time_hourly_df_hour = [x.split(\"_\")[1] for x in train_time_hourly_df.index.values]\n",
    "train_time_hourly_df.columns = ['Avg Number of Trains in an Hour']\n",
    "train_time_hourly_df['Day'] = train_time_hourly_df_day\n",
    "train_time_hourly_df['Hour'] = train_time_hourly_df_hour"
   ]
  },
  {
   "cell_type": "code",
   "execution_count": 126,
   "metadata": {
    "ExecuteTime": {
     "end_time": "2024-03-22T22:09:29.797383Z",
     "start_time": "2024-03-22T22:09:29.393625Z"
    }
   },
   "outputs": [
    {
     "data": {
      "image/png": "[encoded data removed]",
      "text/plain": [
       "<Figure size 432x288 with 1 Axes>"
      ]
     },
     "metadata": {},
     "output_type": "display_data"
    }
   ],
   "source": [
    "hourly_number_of_trains_by_day = sns.lineplot(data=train_time_hourly_df, x='Hour'\n",
    "                                       , y='Avg Number of Trains in an Hour', hue='Day')\n",
    "fig = hourly_number_of_trains_by_day.get_figure()\n",
    "fig.savefig(\"saved_data/hourly_number_of_trains_by_day.png\") "
   ]
  },
  {
   "cell_type": "code",
   "execution_count": 123,
   "metadata": {
    "ExecuteTime": {
     "end_time": "2024-03-22T22:08:54.701760Z",
     "start_time": "2024-03-22T22:08:54.696523Z"
    }
   },
   "outputs": [
    {
     "data": {
      "text/plain": [
       "<AxesSubplot:xlabel='route_id', ylabel='headway_minutes'>"
      ]
     },
     "execution_count": 123,
     "metadata": {},
     "output_type": "execute_result"
    }
   ],
   "source": [
    "ax"
   ]
  },
  {
   "cell_type": "code",
   "execution_count": 118,
   "metadata": {
    "ExecuteTime": {
     "end_time": "2024-03-22T21:53:36.460541Z",
     "start_time": "2024-03-22T21:53:36.447114Z"
    }
   },
   "outputs": [
    {
     "data": {
      "text/html": [
       "<div>\n",
       "<style scoped>\n",
       "    .dataframe tbody tr th:only-of-type {\n",
       "        vertical-align: middle;\n",
       "    }\n",
       "\n",
       "    .dataframe tbody tr th {\n",
       "        vertical-align: top;\n",
       "    }\n",
       "\n",
       "    .dataframe thead th {\n",
       "        text-align: right;\n",
       "    }\n",
       "</style>\n",
       "<table border=\"1\" class=\"dataframe\">\n",
       "  <thead>\n",
       "    <tr style=\"text-align: right;\">\n",
       "      <th></th>\n",
       "      <th>Avg Number of Trains in an Hour</th>\n",
       "    </tr>\n",
       "  </thead>\n",
       "  <tbody>\n",
       "    <tr>\n",
       "      <th>count</th>\n",
       "      <td>72.0</td>\n",
       "    </tr>\n",
       "    <tr>\n",
       "      <th>mean</th>\n",
       "      <td>246.0</td>\n",
       "    </tr>\n",
       "    <tr>\n",
       "      <th>std</th>\n",
       "      <td>98.0</td>\n",
       "    </tr>\n",
       "    <tr>\n",
       "      <th>min</th>\n",
       "      <td>119.0</td>\n",
       "    </tr>\n",
       "    <tr>\n",
       "      <th>25%</th>\n",
       "      <td>171.0</td>\n",
       "    </tr>\n",
       "    <tr>\n",
       "      <th>50%</th>\n",
       "      <td>248.0</td>\n",
       "    </tr>\n",
       "    <tr>\n",
       "      <th>75%</th>\n",
       "      <td>277.0</td>\n",
       "    </tr>\n",
       "    <tr>\n",
       "      <th>max</th>\n",
       "      <td>490.0</td>\n",
       "    </tr>\n",
       "  </tbody>\n",
       "</table>\n",
       "</div>"
      ],
      "text/plain": [
       "       Avg Number of Trains in an Hour\n",
       "count                             72.0\n",
       "mean                             246.0\n",
       "std                               98.0\n",
       "min                              119.0\n",
       "25%                              171.0\n",
       "50%                              248.0\n",
       "75%                              277.0\n",
       "max                              490.0"
      ]
     },
     "execution_count": 118,
     "metadata": {},
     "output_type": "execute_result"
    }
   ],
   "source": [
    "round(train_time_hourly_df.describe())"
   ]
  },
  {
   "cell_type": "markdown",
   "metadata": {},
   "source": [
    "# Data Visualizations"
   ]
  },
  {
   "cell_type": "code",
   "execution_count": 27,
   "metadata": {
    "ExecuteTime": {
     "end_time": "2024-03-22T21:44:05.689454Z",
     "start_time": "2024-03-22T21:44:05.684287Z"
    }
   },
   "outputs": [],
   "source": [
    "sorted_routes = route_frequency_by_day[route_frequency_by_day\n",
    "                                 ['day_of_week']=='Weekday'].sort_values(by='trains_per_hour')['route_id'].values\n"
   ]
  },
  {
   "cell_type": "markdown",
   "metadata": {},
   "source": [
    "## Daily Average Frequency"
   ]
  },
  {
   "cell_type": "code",
   "execution_count": 28,
   "metadata": {
    "ExecuteTime": {
     "end_time": "2024-03-22T21:44:07.683237Z",
     "start_time": "2024-03-22T21:44:07.064115Z"
    },
    "scrolled": false
   },
   "outputs": [
    {
     "data": {
      "image/png": "[encoded data removed]",
      "text/plain": [
       "<Figure size 432x288 with 1 Axes>"
      ]
     },
     "metadata": {
      "needs_background": "light"
     },
     "output_type": "display_data"
    }
   ],
   "source": [
    "# with error bar \n",
    "ax = sns.barplot(data = route_frequency_by_day, x = 'route_id', y='headway_minutes'\n",
    "                 , order=sorted_routes)\n",
    "#     ax.title(interval)\n",
    "ax.grid(axis='y')\n",
    "plt.show()"
   ]
  },
  {
   "cell_type": "code",
   "execution_count": 29,
   "metadata": {
    "ExecuteTime": {
     "end_time": "2024-03-22T21:44:08.773845Z",
     "start_time": "2024-03-22T21:44:08.178696Z"
    }
   },
   "outputs": [
    {
     "data": {
      "image/png": "[encoded data removed]",
      "text/plain": [
       "<Figure size 432x288 with 1 Axes>"
      ]
     },
     "metadata": {
      "needs_background": "light"
     },
     "output_type": "display_data"
    }
   ],
   "source": [
    "# separated by day \n",
    "ax = sns.barplot(data = route_frequency_by_day, x = 'route_id', y='headway_minutes'\n",
    "                 , hue='day_of_week', order=sorted_routes)\n",
    "#     ax.title(interval)\n",
    "ax.grid(axis='y')\n",
    "plt.show()"
   ]
  },
  {
   "cell_type": "markdown",
   "metadata": {},
   "source": [
    "## Frequency by Interval"
   ]
  },
  {
   "cell_type": "code",
   "execution_count": 30,
   "metadata": {
    "ExecuteTime": {
     "end_time": "2024-03-22T21:44:09.322940Z",
     "start_time": "2024-03-22T21:44:09.318720Z"
    }
   },
   "outputs": [
    {
     "data": {
      "text/plain": [
       "{'Late Night': 0,\n",
       " 'Rush Hour AM': 1,\n",
       " 'Midday': 2,\n",
       " 'Rush Hour PM': 3,\n",
       " 'Evening': 4,\n",
       " 'Weekend': 5}"
      ]
     },
     "execution_count": 30,
     "metadata": {},
     "output_type": "execute_result"
    }
   ],
   "source": [
    "time_of_day_sorting"
   ]
  },
  {
   "cell_type": "code",
   "execution_count": 31,
   "metadata": {
    "ExecuteTime": {
     "end_time": "2024-03-22T21:44:09.804987Z",
     "start_time": "2024-03-22T21:44:09.795118Z"
    }
   },
   "outputs": [
    {
     "data": {
      "text/html": [
       "<div>\n",
       "<style scoped>\n",
       "    .dataframe tbody tr th:only-of-type {\n",
       "        vertical-align: middle;\n",
       "    }\n",
       "\n",
       "    .dataframe tbody tr th {\n",
       "        vertical-align: top;\n",
       "    }\n",
       "\n",
       "    .dataframe thead th {\n",
       "        text-align: right;\n",
       "    }\n",
       "</style>\n",
       "<table border=\"1\" class=\"dataframe\">\n",
       "  <thead>\n",
       "    <tr style=\"text-align: right;\">\n",
       "      <th></th>\n",
       "      <th>parent_stop_id</th>\n",
       "      <th>train_time_interval</th>\n",
       "      <th>trains_per_hour</th>\n",
       "    </tr>\n",
       "  </thead>\n",
       "  <tbody>\n",
       "    <tr>\n",
       "      <th>0</th>\n",
       "      <td>101</td>\n",
       "      <td>Evening</td>\n",
       "      <td>20</td>\n",
       "    </tr>\n",
       "    <tr>\n",
       "      <th>1</th>\n",
       "      <td>101</td>\n",
       "      <td>Late Night</td>\n",
       "      <td>7</td>\n",
       "    </tr>\n",
       "    <tr>\n",
       "      <th>2</th>\n",
       "      <td>101</td>\n",
       "      <td>Midday</td>\n",
       "      <td>22</td>\n",
       "    </tr>\n",
       "    <tr>\n",
       "      <th>3</th>\n",
       "      <td>101</td>\n",
       "      <td>Rush Hour AM</td>\n",
       "      <td>16</td>\n",
       "    </tr>\n",
       "    <tr>\n",
       "      <th>4</th>\n",
       "      <td>101</td>\n",
       "      <td>Rush Hour PM</td>\n",
       "      <td>25</td>\n",
       "    </tr>\n",
       "    <tr>\n",
       "      <th>...</th>\n",
       "      <td>...</td>\n",
       "      <td>...</td>\n",
       "      <td>...</td>\n",
       "    </tr>\n",
       "    <tr>\n",
       "      <th>2970</th>\n",
       "      <td>S31</td>\n",
       "      <td>Late Night</td>\n",
       "      <td>4</td>\n",
       "    </tr>\n",
       "    <tr>\n",
       "      <th>2971</th>\n",
       "      <td>S31</td>\n",
       "      <td>Midday</td>\n",
       "      <td>4</td>\n",
       "    </tr>\n",
       "    <tr>\n",
       "      <th>2972</th>\n",
       "      <td>S31</td>\n",
       "      <td>Rush Hour AM</td>\n",
       "      <td>11</td>\n",
       "    </tr>\n",
       "    <tr>\n",
       "      <th>2973</th>\n",
       "      <td>S31</td>\n",
       "      <td>Rush Hour PM</td>\n",
       "      <td>10</td>\n",
       "    </tr>\n",
       "    <tr>\n",
       "      <th>2974</th>\n",
       "      <td>S31</td>\n",
       "      <td>Weekend</td>\n",
       "      <td>4</td>\n",
       "    </tr>\n",
       "  </tbody>\n",
       "</table>\n",
       "<p>2975 rows × 3 columns</p>\n",
       "</div>"
      ],
      "text/plain": [
       "     parent_stop_id train_time_interval  trains_per_hour\n",
       "0               101             Evening               20\n",
       "1               101          Late Night                7\n",
       "2               101              Midday               22\n",
       "3               101        Rush Hour AM               16\n",
       "4               101        Rush Hour PM               25\n",
       "...             ...                 ...              ...\n",
       "2970            S31          Late Night                4\n",
       "2971            S31              Midday                4\n",
       "2972            S31        Rush Hour AM               11\n",
       "2973            S31        Rush Hour PM               10\n",
       "2974            S31             Weekend                4\n",
       "\n",
       "[2975 rows x 3 columns]"
      ]
     },
     "execution_count": 31,
     "metadata": {},
     "output_type": "execute_result"
    }
   ],
   "source": [
    "frequency_by_stop_interval"
   ]
  },
  {
   "cell_type": "code",
   "execution_count": 32,
   "metadata": {
    "ExecuteTime": {
     "end_time": "2024-03-22T21:44:12.096991Z",
     "start_time": "2024-03-22T21:44:10.308930Z"
    },
    "scrolled": true
   },
   "outputs": [
    {
     "name": "stdout",
     "output_type": "stream",
     "text": [
      "Late Night\n"
     ]
    },
    {
     "data": {
      "image/png": "[encoded data removed]",
      "text/plain": [
       "<Figure size 432x288 with 1 Axes>"
      ]
     },
     "metadata": {
      "needs_background": "light"
     },
     "output_type": "display_data"
    },
    {
     "name": "stdout",
     "output_type": "stream",
     "text": [
      "Rush Hour AM\n"
     ]
    },
    {
     "data": {
      "image/png": "[encoded data removed]",
      "text/plain": [
       "<Figure size 432x288 with 1 Axes>"
      ]
     },
     "metadata": {
      "needs_background": "light"
     },
     "output_type": "display_data"
    },
    {
     "name": "stdout",
     "output_type": "stream",
     "text": [
      "Midday\n"
     ]
    },
    {
     "data": {
      "image/png": "[encoded data removed]",
      "text/plain": [
       "<Figure size 432x288 with 1 Axes>"
      ]
     },
     "metadata": {
      "needs_background": "light"
     },
     "output_type": "display_data"
    },
    {
     "name": "stdout",
     "output_type": "stream",
     "text": [
      "Rush Hour PM\n"
     ]
    },
    {
     "data": {
      "image/png": "[encoded data removed]",
      "text/plain": [
       "<Figure size 432x288 with 1 Axes>"
      ]
     },
     "metadata": {
      "needs_background": "light"
     },
     "output_type": "display_data"
    },
    {
     "name": "stdout",
     "output_type": "stream",
     "text": [
      "Evening\n"
     ]
    },
    {
     "data": {
      "image/png": "[encoded data removed]",
      "text/plain": [
       "<Figure size 432x288 with 1 Axes>"
      ]
     },
     "metadata": {
      "needs_background": "light"
     },
     "output_type": "display_data"
    },
    {
     "name": "stdout",
     "output_type": "stream",
     "text": [
      "Weekend\n"
     ]
    },
    {
     "data": {
      "image/png": "[encoded data removed]",
      "text/plain": [
       "<Figure size 432x288 with 1 Axes>"
      ]
     },
     "metadata": {
      "needs_background": "light"
     },
     "output_type": "display_data"
    }
   ],
   "source": [
    "for interval in time_of_day_sorting.keys():\n",
    "    print(interval)\n",
    "    ax = sns.barplot(data=trip_interval_route_freq[trip_interval_route_freq\n",
    "                                    ['train_time_interval']==interval]\n",
    "                                 , x = 'route_id', y='headway_minutes', order=sorted_routes)\n",
    "#     ax.title(interval)\n",
    "    ax.grid(axis='y')\n",
    "    ax.set_ylim(ymin=0, ymax=30)\n",
    "    plt.show()"
   ]
  },
  {
   "cell_type": "markdown",
   "metadata": {},
   "source": [
    "### Best and Worst Performers by Time of Day"
   ]
  },
  {
   "cell_type": "code",
   "execution_count": 33,
   "metadata": {
    "ExecuteTime": {
     "end_time": "2024-03-22T21:44:12.601471Z",
     "start_time": "2024-03-22T21:44:12.588093Z"
    },
    "scrolled": true
   },
   "outputs": [
    {
     "data": {
      "text/html": [
       "<div>\n",
       "<style scoped>\n",
       "    .dataframe tbody tr th:only-of-type {\n",
       "        vertical-align: middle;\n",
       "    }\n",
       "\n",
       "    .dataframe tbody tr th {\n",
       "        vertical-align: top;\n",
       "    }\n",
       "\n",
       "    .dataframe thead th {\n",
       "        text-align: right;\n",
       "    }\n",
       "</style>\n",
       "<table border=\"1\" class=\"dataframe\">\n",
       "  <thead>\n",
       "    <tr style=\"text-align: right;\">\n",
       "      <th></th>\n",
       "      <th>route_id</th>\n",
       "      <th>train_time_interval</th>\n",
       "      <th>trains_per_hour</th>\n",
       "      <th>headway_seconds</th>\n",
       "      <th>headway_minutes</th>\n",
       "      <th>route_time_seconds</th>\n",
       "      <th>route_time_minutes</th>\n",
       "      <th>Avg_num_trains_running</th>\n",
       "    </tr>\n",
       "  </thead>\n",
       "  <tbody>\n",
       "    <tr>\n",
       "      <th>88</th>\n",
       "      <td>H</td>\n",
       "      <td>Rush Hour PM</td>\n",
       "      <td>4</td>\n",
       "      <td>900.0</td>\n",
       "      <td>15.0</td>\n",
       "      <td>602</td>\n",
       "      <td>10.0</td>\n",
       "      <td>1.3</td>\n",
       "    </tr>\n",
       "    <tr>\n",
       "      <th>40</th>\n",
       "      <td>H</td>\n",
       "      <td>Rush Hour AM</td>\n",
       "      <td>3</td>\n",
       "      <td>1200.0</td>\n",
       "      <td>20.0</td>\n",
       "      <td>602</td>\n",
       "      <td>10.0</td>\n",
       "      <td>1.0</td>\n",
       "    </tr>\n",
       "    <tr>\n",
       "      <th>71</th>\n",
       "      <td>SI</td>\n",
       "      <td>Midday</td>\n",
       "      <td>2</td>\n",
       "      <td>1800.0</td>\n",
       "      <td>30.0</td>\n",
       "      <td>2418</td>\n",
       "      <td>40.3</td>\n",
       "      <td>2.7</td>\n",
       "    </tr>\n",
       "    <tr>\n",
       "      <th>104</th>\n",
       "      <td>B</td>\n",
       "      <td>Evening</td>\n",
       "      <td>2</td>\n",
       "      <td>1800.0</td>\n",
       "      <td>30.0</td>\n",
       "      <td>4303</td>\n",
       "      <td>71.7</td>\n",
       "      <td>4.8</td>\n",
       "    </tr>\n",
       "    <tr>\n",
       "      <th>23</th>\n",
       "      <td>SI</td>\n",
       "      <td>Late Night</td>\n",
       "      <td>2</td>\n",
       "      <td>1800.0</td>\n",
       "      <td>30.0</td>\n",
       "      <td>2418</td>\n",
       "      <td>40.3</td>\n",
       "      <td>2.7</td>\n",
       "    </tr>\n",
       "    <tr>\n",
       "      <th>142</th>\n",
       "      <td>SI</td>\n",
       "      <td>Weekend</td>\n",
       "      <td>2</td>\n",
       "      <td>1800.0</td>\n",
       "      <td>30.0</td>\n",
       "      <td>2418</td>\n",
       "      <td>40.3</td>\n",
       "      <td>2.7</td>\n",
       "    </tr>\n",
       "  </tbody>\n",
       "</table>\n",
       "</div>"
      ],
      "text/plain": [
       "    route_id train_time_interval  trains_per_hour  headway_seconds  \\\n",
       "88         H        Rush Hour PM                4            900.0   \n",
       "40         H        Rush Hour AM                3           1200.0   \n",
       "71        SI              Midday                2           1800.0   \n",
       "104        B             Evening                2           1800.0   \n",
       "23        SI          Late Night                2           1800.0   \n",
       "142       SI             Weekend                2           1800.0   \n",
       "\n",
       "     headway_minutes  route_time_seconds  route_time_minutes  \\\n",
       "88              15.0                 602                10.0   \n",
       "40              20.0                 602                10.0   \n",
       "71              30.0                2418                40.3   \n",
       "104             30.0                4303                71.7   \n",
       "23              30.0                2418                40.3   \n",
       "142             30.0                2418                40.3   \n",
       "\n",
       "     Avg_num_trains_running  \n",
       "88                      1.3  \n",
       "40                      1.0  \n",
       "71                      2.7  \n",
       "104                     4.8  \n",
       "23                      2.7  \n",
       "142                     2.7  "
      ]
     },
     "execution_count": 33,
     "metadata": {},
     "output_type": "execute_result"
    }
   ],
   "source": [
    "# lowest  -- removing inf values first\n",
    "# it's a tie for worst so let's just make it SIR lol \n",
    "trip_interval_route_freq[trip_interval_route_freq['headway_minutes'] < 1000].sort_values(\n",
    "    by='headway_minutes').drop_duplicates(subset='train_time_interval', keep='last')"
   ]
  },
  {
   "cell_type": "code",
   "execution_count": 34,
   "metadata": {
    "ExecuteTime": {
     "end_time": "2024-03-22T21:44:13.121820Z",
     "start_time": "2024-03-22T21:44:13.108741Z"
    }
   },
   "outputs": [
    {
     "data": {
      "text/html": [
       "<div>\n",
       "<style scoped>\n",
       "    .dataframe tbody tr th:only-of-type {\n",
       "        vertical-align: middle;\n",
       "    }\n",
       "\n",
       "    .dataframe tbody tr th {\n",
       "        vertical-align: top;\n",
       "    }\n",
       "\n",
       "    .dataframe thead th {\n",
       "        text-align: right;\n",
       "    }\n",
       "</style>\n",
       "<table border=\"1\" class=\"dataframe\">\n",
       "  <thead>\n",
       "    <tr style=\"text-align: right;\">\n",
       "      <th></th>\n",
       "      <th>route_id</th>\n",
       "      <th>train_time_interval</th>\n",
       "      <th>trains_per_hour</th>\n",
       "      <th>headway_seconds</th>\n",
       "      <th>headway_minutes</th>\n",
       "      <th>route_time_seconds</th>\n",
       "      <th>route_time_minutes</th>\n",
       "      <th>Avg_num_trains_running</th>\n",
       "    </tr>\n",
       "  </thead>\n",
       "  <tbody>\n",
       "    <tr>\n",
       "      <th>7</th>\n",
       "      <td>A</td>\n",
       "      <td>Late Night</td>\n",
       "      <td>6</td>\n",
       "      <td>600.0</td>\n",
       "      <td>10.0</td>\n",
       "      <td>4850</td>\n",
       "      <td>80.8</td>\n",
       "      <td>16.2</td>\n",
       "    </tr>\n",
       "    <tr>\n",
       "      <th>137</th>\n",
       "      <td>L</td>\n",
       "      <td>Weekend</td>\n",
       "      <td>12</td>\n",
       "      <td>300.0</td>\n",
       "      <td>5.0</td>\n",
       "      <td>2235</td>\n",
       "      <td>37.2</td>\n",
       "      <td>14.9</td>\n",
       "    </tr>\n",
       "    <tr>\n",
       "      <th>102</th>\n",
       "      <td>7</td>\n",
       "      <td>Evening</td>\n",
       "      <td>12</td>\n",
       "      <td>300.0</td>\n",
       "      <td>5.0</td>\n",
       "      <td>2245</td>\n",
       "      <td>37.4</td>\n",
       "      <td>15.0</td>\n",
       "    </tr>\n",
       "    <tr>\n",
       "      <th>53</th>\n",
       "      <td>6</td>\n",
       "      <td>Midday</td>\n",
       "      <td>15</td>\n",
       "      <td>240.0</td>\n",
       "      <td>4.0</td>\n",
       "      <td>3445</td>\n",
       "      <td>57.4</td>\n",
       "      <td>28.7</td>\n",
       "    </tr>\n",
       "    <tr>\n",
       "      <th>78</th>\n",
       "      <td>7</td>\n",
       "      <td>Rush Hour PM</td>\n",
       "      <td>20</td>\n",
       "      <td>180.0</td>\n",
       "      <td>3.0</td>\n",
       "      <td>2245</td>\n",
       "      <td>37.4</td>\n",
       "      <td>24.9</td>\n",
       "    </tr>\n",
       "    <tr>\n",
       "      <th>30</th>\n",
       "      <td>7</td>\n",
       "      <td>Rush Hour AM</td>\n",
       "      <td>24</td>\n",
       "      <td>150.0</td>\n",
       "      <td>2.5</td>\n",
       "      <td>2245</td>\n",
       "      <td>37.4</td>\n",
       "      <td>29.9</td>\n",
       "    </tr>\n",
       "  </tbody>\n",
       "</table>\n",
       "</div>"
      ],
      "text/plain": [
       "    route_id train_time_interval  trains_per_hour  headway_seconds  \\\n",
       "7          A          Late Night                6            600.0   \n",
       "137        L             Weekend               12            300.0   \n",
       "102        7             Evening               12            300.0   \n",
       "53         6              Midday               15            240.0   \n",
       "78         7        Rush Hour PM               20            180.0   \n",
       "30         7        Rush Hour AM               24            150.0   \n",
       "\n",
       "     headway_minutes  route_time_seconds  route_time_minutes  \\\n",
       "7               10.0                4850                80.8   \n",
       "137              5.0                2235                37.2   \n",
       "102              5.0                2245                37.4   \n",
       "53               4.0                3445                57.4   \n",
       "78               3.0                2245                37.4   \n",
       "30               2.5                2245                37.4   \n",
       "\n",
       "     Avg_num_trains_running  \n",
       "7                      16.2  \n",
       "137                    14.9  \n",
       "102                    15.0  \n",
       "53                     28.7  \n",
       "78                     24.9  \n",
       "30                     29.9  "
      ]
     },
     "execution_count": 34,
     "metadata": {},
     "output_type": "execute_result"
    }
   ],
   "source": [
    "trip_interval_route_freq[trip_interval_route_freq['headway_minutes'] < 1000].sort_values(\n",
    "    by='headway_minutes', ascending=False).drop_duplicates(subset='train_time_interval', keep='last')"
   ]
  },
  {
   "cell_type": "markdown",
   "metadata": {},
   "source": [
    "### Ratios between train_time_intervals for each route"
   ]
  },
  {
   "cell_type": "code",
   "execution_count": 35,
   "metadata": {
    "ExecuteTime": {
     "end_time": "2024-03-22T21:44:13.621009Z",
     "start_time": "2024-03-22T21:44:13.618877Z"
    }
   },
   "outputs": [],
   "source": [
    "# maybe start with best to worst?"
   ]
  },
  {
   "cell_type": "markdown",
   "metadata": {},
   "source": [
    "## Visualizing Hourly Frequency within a Service"
   ]
  },
  {
   "cell_type": "code",
   "execution_count": 36,
   "metadata": {
    "ExecuteTime": {
     "end_time": "2024-03-22T21:44:14.100349Z",
     "start_time": "2024-03-22T21:44:14.097370Z"
    }
   },
   "outputs": [],
   "source": [
    "# plot the headway minutes for a single line\n",
    "l_train_hourly_df = hourly_route_trip_freq[hourly_route_trip_freq['route_id']=='L']"
   ]
  },
  {
   "cell_type": "code",
   "execution_count": 37,
   "metadata": {
    "ExecuteTime": {
     "end_time": "2024-03-22T21:44:14.616500Z",
     "start_time": "2024-03-22T21:44:14.613225Z"
    }
   },
   "outputs": [],
   "source": [
    "l_train_hourly_df_trimmed = l_train_hourly_df[['day_of_week', 'departure_hour', 'headway_seconds'\n",
    "                                               , 'headway_minutes', 'Avg_num_trains_running', 'day_hour']]"
   ]
  },
  {
   "cell_type": "code",
   "execution_count": 38,
   "metadata": {
    "ExecuteTime": {
     "end_time": "2024-03-22T21:44:15.175291Z",
     "start_time": "2024-03-22T21:44:15.162348Z"
    }
   },
   "outputs": [
    {
     "name": "stdout",
     "output_type": "stream",
     "text": [
      "<class 'pandas.core.frame.DataFrame'>\n",
      "Int64Index: 72 entries, 1207 to 1278\n",
      "Data columns (total 6 columns):\n",
      " #   Column                  Non-Null Count  Dtype  \n",
      "---  ------                  --------------  -----  \n",
      " 0   day_of_week             72 non-null     object \n",
      " 1   departure_hour          72 non-null     int64  \n",
      " 2   headway_seconds         72 non-null     float64\n",
      " 3   headway_minutes         72 non-null     float64\n",
      " 4   Avg_num_trains_running  72 non-null     float64\n",
      " 5   day_hour                72 non-null     object \n",
      "dtypes: float64(3), int64(1), object(2)\n",
      "memory usage: 3.9+ KB\n"
     ]
    }
   ],
   "source": [
    "l_train_hourly_df_trimmed.info()"
   ]
  },
  {
   "cell_type": "code",
   "execution_count": 39,
   "metadata": {
    "ExecuteTime": {
     "end_time": "2024-03-22T21:44:15.987821Z",
     "start_time": "2024-03-22T21:44:15.726306Z"
    }
   },
   "outputs": [
    {
     "data": {
      "text/plain": [
       "<AxesSubplot:xlabel='departure_hour', ylabel='headway_minutes'>"
      ]
     },
     "execution_count": 39,
     "metadata": {},
     "output_type": "execute_result"
    },
    {
     "data": {
      "image/png": "[encoded data removed]",
      "text/plain": [
       "<Figure size 432x288 with 1 Axes>"
      ]
     },
     "metadata": {
      "needs_background": "light"
     },
     "output_type": "display_data"
    }
   ],
   "source": [
    "sns.lineplot(data=l_train_hourly_df_trimmed, x='departure_hour', y='headway_minutes', hue='day_of_week')"
   ]
  },
  {
   "cell_type": "code",
   "execution_count": null,
   "metadata": {},
   "outputs": [],
   "source": []
  },
  {
   "cell_type": "code",
   "execution_count": null,
   "metadata": {},
   "outputs": [],
   "source": []
  },
  {
   "cell_type": "markdown",
   "metadata": {},
   "source": [
    "# How many route variations are there?\n",
    "i.e.: how many different start stations and final stations are there on the schedule? e.g.: the 5 starting at E180 and ending at Eastchester/Dyre Ave is 1"
   ]
  },
  {
   "cell_type": "code",
   "execution_count": 40,
   "metadata": {
    "ExecuteTime": {
     "end_time": "2024-03-22T21:44:19.813939Z",
     "start_time": "2024-03-22T21:44:16.560941Z"
    }
   },
   "outputs": [],
   "source": [
    "# find the unique trip ids first and last stop_ids\n",
    "# then find the unique combinations of those two stop_ids\n",
    "min_stop_ids_idx = stop_times_df.groupby('trip_id')['stop_sequence'].idxmin()\n",
    "max_stop_ids_idx = stop_times_df.groupby('trip_id')['stop_sequence'].idxmax()\n",
    "min_stop_rows = stop_times_df.loc[min_stop_ids_idx].drop(columns=['arrival_time', 'departure_time'])\n",
    "max_stop_rows = stop_times_df.loc[max_stop_ids_idx].drop(columns=['arrival_time', 'departure_time'])"
   ]
  },
  {
   "cell_type": "code",
   "execution_count": 41,
   "metadata": {
    "ExecuteTime": {
     "end_time": "2024-03-22T21:44:20.852310Z",
     "start_time": "2024-03-22T21:44:20.417861Z"
    }
   },
   "outputs": [],
   "source": [
    "trips_w_stops = pd.merge(min_stop_rows, max_stop_rows, on='trip_id')\n",
    "trips_w_stops['start_stop'] = [str(trips_w_stops['stop_id_x'].iloc[idx]) + \"_\" + \n",
    "                               str(trips_w_stops['stop_id_y'].iloc[idx])\n",
    "                               for idx in range(len(trips_w_stops))]\n",
    "trips_w_stops['route_id'] = [x.split(\"_\")[-1].split('.')[0] \n",
    "                                        for x in trips_w_stops['trip_id']]"
   ]
  },
  {
   "cell_type": "code",
   "execution_count": 42,
   "metadata": {
    "ExecuteTime": {
     "end_time": "2024-03-22T21:44:21.478778Z",
     "start_time": "2024-03-22T21:44:21.471930Z"
    }
   },
   "outputs": [],
   "source": [
    "all_start_and_stops_w_freq = trips_w_stops.start_stop.value_counts()"
   ]
  },
  {
   "cell_type": "code",
   "execution_count": 43,
   "metadata": {
    "ExecuteTime": {
     "end_time": "2024-03-22T21:44:22.142948Z",
     "start_time": "2024-03-22T21:44:22.132855Z"
    }
   },
   "outputs": [
    {
     "data": {
      "text/plain": [
       "count    145.000000\n",
       "mean     140.448276\n",
       "std      186.497168\n",
       "min        1.000000\n",
       "25%        4.000000\n",
       "50%       42.000000\n",
       "75%      241.000000\n",
       "max      735.000000\n",
       "Name: start_stop, dtype: float64"
      ]
     },
     "execution_count": 43,
     "metadata": {},
     "output_type": "execute_result"
    }
   ],
   "source": [
    "# 44 are run less than 5 times in a week \n",
    "# the average route is done 140 times in a week \n",
    "len(all_start_and_stops_w_freq[all_start_and_stops_w_freq.values < 5])\n",
    "all_start_and_stops_w_freq.describe()"
   ]
  },
  {
   "cell_type": "code",
   "execution_count": 44,
   "metadata": {
    "ExecuteTime": {
     "end_time": "2024-03-22T21:44:22.885645Z",
     "start_time": "2024-03-22T21:44:22.859373Z"
    }
   },
   "outputs": [],
   "source": [
    "trips_w_a_unique_start_stop = trips_w_stops.groupby('start_stop')['route_id'].max()"
   ]
  },
  {
   "cell_type": "code",
   "execution_count": 45,
   "metadata": {
    "ExecuteTime": {
     "end_time": "2024-03-22T21:44:23.529819Z",
     "start_time": "2024-03-22T21:44:23.524351Z"
    }
   },
   "outputs": [
    {
     "data": {
      "text/plain": [
       "5    22\n",
       "A    17\n",
       "4    10\n",
       "F     9\n",
       "R     9\n",
       "Name: route_id, dtype: int64"
      ]
     },
     "execution_count": 45,
     "metadata": {},
     "output_type": "execute_result"
    }
   ],
   "source": [
    "# which services have the most variations? (note, I'm counting permutations, not combinations)\n",
    "# i don't understand why some services have an odd number of services\n",
    "unique_service_patterns_by_service = trips_w_a_unique_start_stop.value_counts()\n",
    "unique_service_patterns_by_service.head(5)"
   ]
  },
  {
   "cell_type": "code",
   "execution_count": 46,
   "metadata": {
    "ExecuteTime": {
     "end_time": "2024-03-22T21:44:24.198475Z",
     "start_time": "2024-03-22T21:44:24.193284Z"
    },
    "scrolled": true
   },
   "outputs": [
    {
     "data": {
      "text/plain": [
       "start_stop\n",
       "L01S_L17S    L\n",
       "L01S_L29S    L\n",
       "L17N_L01N    L\n",
       "L28N_L01N    L\n",
       "L29N_L01N    L\n",
       "Name: route_id, dtype: object"
      ]
     },
     "execution_count": 46,
     "metadata": {},
     "output_type": "execute_result"
    }
   ],
   "source": [
    "# looking at particular services \n",
    "trips_w_a_unique_start_stop[trips_w_a_unique_start_stop.values=='L']"
   ]
  },
  {
   "cell_type": "markdown",
   "metadata": {},
   "source": [
    "# Max and Min Capacity of All Trains at One Time"
   ]
  },
  {
   "cell_type": "markdown",
   "metadata": {},
   "source": [
    "## Max Capacity\n",
    "How many people could the trains in the subway hold at any one moment?"
   ]
  },
  {
   "cell_type": "code",
   "execution_count": 47,
   "metadata": {
    "ExecuteTime": {
     "end_time": "2024-03-22T21:44:24.871348Z",
     "start_time": "2024-03-22T21:44:24.859678Z"
    }
   },
   "outputs": [],
   "source": [
    "# 4 pm on weekdays has the most trains\n",
    "max_hourly_number_of_trains_lines = hourly_route_trip_freq[hourly_route_trip_freq['day_hour']\n",
    "                                                       =='Weekday_16'][['route_id', 'Avg_num_trains_running']]\n",
    "lines_and_capacity_at_peak = pd.merge(max_hourly_number_of_trains_lines, train_area_df[['route_id', 'capacity']])\n",
    "lines_and_capacity_at_peak['total_capacity'] = lines_and_capacity_at_peak['Avg_num_trains_running'] * \\\n",
    "                                                lines_and_capacity_at_peak['capacity']"
   ]
  },
  {
   "cell_type": "code",
   "execution_count": 48,
   "metadata": {
    "ExecuteTime": {
     "end_time": "2024-03-22T21:44:25.526424Z",
     "start_time": "2024-03-22T21:44:25.523086Z"
    }
   },
   "outputs": [
    {
     "data": {
      "text/plain": [
       "932652.0"
      ]
     },
     "execution_count": 48,
     "metadata": {},
     "output_type": "execute_result"
    }
   ],
   "source": [
    "# 932 K people can be in subway cars at any one time during peak service\n",
    "lines_and_capacity_at_peak['total_capacity'].sum()"
   ]
  },
  {
   "cell_type": "markdown",
   "metadata": {},
   "source": [
    "## Min Capacity\n",
    "How many people could the trains in the subway hold at any one moment during minimum capacity?"
   ]
  },
  {
   "cell_type": "code",
   "execution_count": 49,
   "metadata": {
    "ExecuteTime": {
     "end_time": "2024-03-22T21:44:26.194698Z",
     "start_time": "2024-03-22T21:44:26.184410Z"
    }
   },
   "outputs": [],
   "source": [
    "# Saturday at 2 am has the least number of trains running\n",
    "min_hourly_number_of_trains_lines = hourly_route_trip_freq[hourly_route_trip_freq['day_hour']\n",
    "                                                       =='Saturday_2'][['route_id', 'Avg_num_trains_running']]\n",
    "lines_and_capacity_at_peak_min = pd.merge(min_hourly_number_of_trains_lines, train_area_df[['route_id', 'capacity']])\n",
    "lines_and_capacity_at_peak_min['total_capacity'] = lines_and_capacity_at_peak_min['Avg_num_trains_running'] * \\\n",
    "                                                    lines_and_capacity_at_peak_min['capacity']"
   ]
  },
  {
   "cell_type": "code",
   "execution_count": 50,
   "metadata": {
    "ExecuteTime": {
     "end_time": "2024-03-22T21:44:26.858213Z",
     "start_time": "2024-03-22T21:44:26.854632Z"
    }
   },
   "outputs": [
    {
     "data": {
      "text/plain": [
       "228516.0"
      ]
     },
     "execution_count": 50,
     "metadata": {},
     "output_type": "execute_result"
    }
   ],
   "source": [
    "# 228K people can fit in the NYC subway at a minimum \n",
    "lines_and_capacity_at_peak_min['total_capacity'].sum()"
   ]
  },
  {
   "cell_type": "markdown",
   "metadata": {},
   "source": [
    "# Stations "
   ]
  },
  {
   "cell_type": "code",
   "execution_count": 51,
   "metadata": {
    "ExecuteTime": {
     "end_time": "2024-03-22T21:44:27.567446Z",
     "start_time": "2024-03-22T21:44:27.537444Z"
    },
    "scrolled": true
   },
   "outputs": [
    {
     "data": {
      "text/html": [
       "<div>\n",
       "<style scoped>\n",
       "    .dataframe tbody tr th:only-of-type {\n",
       "        vertical-align: middle;\n",
       "    }\n",
       "\n",
       "    .dataframe tbody tr th {\n",
       "        vertical-align: top;\n",
       "    }\n",
       "\n",
       "    .dataframe thead th {\n",
       "        text-align: right;\n",
       "    }\n",
       "</style>\n",
       "<table border=\"1\" class=\"dataframe\">\n",
       "  <thead>\n",
       "    <tr style=\"text-align: right;\">\n",
       "      <th></th>\n",
       "      <th>Complex_ID</th>\n",
       "      <th>tph</th>\n",
       "      <th>hourly_trainset_area</th>\n",
       "      <th>Number Of Stations In Complex</th>\n",
       "      <th>Stop Name</th>\n",
       "      <th>Display Name</th>\n",
       "      <th>Constituent Station Names</th>\n",
       "      <th>Station IDs</th>\n",
       "      <th>GTFS Stop IDs</th>\n",
       "      <th>Borough</th>\n",
       "      <th>...</th>\n",
       "      <th>GTFS_Stop_IDs_Listed</th>\n",
       "      <th>station_complex_id</th>\n",
       "      <th>avg_daily_ridership</th>\n",
       "      <th>avg_hourly_ridership</th>\n",
       "      <th>hourly_ridership_per_train_direction</th>\n",
       "      <th>TPH_percent_rank</th>\n",
       "      <th>Ridership_percent_rank</th>\n",
       "      <th>Crowdedness_percent_rank</th>\n",
       "      <th>distance_in_15</th>\n",
       "      <th>distance_in_30</th>\n",
       "    </tr>\n",
       "  </thead>\n",
       "  <tbody>\n",
       "    <tr>\n",
       "      <th>0</th>\n",
       "      <td>1</td>\n",
       "      <td>9.58</td>\n",
       "      <td>5466.33</td>\n",
       "      <td>1</td>\n",
       "      <td>Astoria-Ditmars Blvd</td>\n",
       "      <td>Astoria-Ditmars Blvd (N W)</td>\n",
       "      <td>Astoria-Ditmars Blvd</td>\n",
       "      <td>1</td>\n",
       "      <td>R01</td>\n",
       "      <td>Q</td>\n",
       "      <td>...</td>\n",
       "      <td>R01</td>\n",
       "      <td>1.0</td>\n",
       "      <td>11265.2</td>\n",
       "      <td>469.4</td>\n",
       "      <td>24.5</td>\n",
       "      <td>0.50</td>\n",
       "      <td>0.79</td>\n",
       "      <td>0.88</td>\n",
       "      <td>698.96</td>\n",
       "      <td>1898.96</td>\n",
       "    </tr>\n",
       "    <tr>\n",
       "      <th>1</th>\n",
       "      <td>2</td>\n",
       "      <td>9.58</td>\n",
       "      <td>5466.33</td>\n",
       "      <td>1</td>\n",
       "      <td>Astoria Blvd</td>\n",
       "      <td>Astoria Blvd (N W)</td>\n",
       "      <td>Astoria Blvd</td>\n",
       "      <td>2</td>\n",
       "      <td>R03</td>\n",
       "      <td>Q</td>\n",
       "      <td>...</td>\n",
       "      <td>R03</td>\n",
       "      <td>2.0</td>\n",
       "      <td>8007.8</td>\n",
       "      <td>333.7</td>\n",
       "      <td>17.4</td>\n",
       "      <td>0.50</td>\n",
       "      <td>0.69</td>\n",
       "      <td>0.73</td>\n",
       "      <td>698.96</td>\n",
       "      <td>1898.96</td>\n",
       "    </tr>\n",
       "    <tr>\n",
       "      <th>2</th>\n",
       "      <td>3</td>\n",
       "      <td>9.58</td>\n",
       "      <td>5466.33</td>\n",
       "      <td>1</td>\n",
       "      <td>30 Av</td>\n",
       "      <td>30 Av (N W)</td>\n",
       "      <td>30 Av</td>\n",
       "      <td>3</td>\n",
       "      <td>R04</td>\n",
       "      <td>Q</td>\n",
       "      <td>...</td>\n",
       "      <td>R04</td>\n",
       "      <td>3.0</td>\n",
       "      <td>10173.4</td>\n",
       "      <td>423.9</td>\n",
       "      <td>22.1</td>\n",
       "      <td>0.50</td>\n",
       "      <td>0.77</td>\n",
       "      <td>0.84</td>\n",
       "      <td>698.96</td>\n",
       "      <td>1898.96</td>\n",
       "    </tr>\n",
       "    <tr>\n",
       "      <th>3</th>\n",
       "      <td>4</td>\n",
       "      <td>9.58</td>\n",
       "      <td>5466.33</td>\n",
       "      <td>1</td>\n",
       "      <td>Broadway</td>\n",
       "      <td>Broadway (N W)</td>\n",
       "      <td>Broadway</td>\n",
       "      <td>4</td>\n",
       "      <td>R05</td>\n",
       "      <td>Q</td>\n",
       "      <td>...</td>\n",
       "      <td>R05</td>\n",
       "      <td>4.0</td>\n",
       "      <td>9240.6</td>\n",
       "      <td>385.0</td>\n",
       "      <td>20.1</td>\n",
       "      <td>0.50</td>\n",
       "      <td>0.74</td>\n",
       "      <td>0.81</td>\n",
       "      <td>698.96</td>\n",
       "      <td>1898.96</td>\n",
       "    </tr>\n",
       "    <tr>\n",
       "      <th>4</th>\n",
       "      <td>5</td>\n",
       "      <td>9.58</td>\n",
       "      <td>5466.33</td>\n",
       "      <td>1</td>\n",
       "      <td>36 Av</td>\n",
       "      <td>36 Av (N W)</td>\n",
       "      <td>36 Av</td>\n",
       "      <td>5</td>\n",
       "      <td>R06</td>\n",
       "      <td>Q</td>\n",
       "      <td>...</td>\n",
       "      <td>R06</td>\n",
       "      <td>5.0</td>\n",
       "      <td>5168.6</td>\n",
       "      <td>215.4</td>\n",
       "      <td>11.2</td>\n",
       "      <td>0.50</td>\n",
       "      <td>0.54</td>\n",
       "      <td>0.45</td>\n",
       "      <td>698.96</td>\n",
       "      <td>1898.96</td>\n",
       "    </tr>\n",
       "    <tr>\n",
       "      <th>...</th>\n",
       "      <td>...</td>\n",
       "      <td>...</td>\n",
       "      <td>...</td>\n",
       "      <td>...</td>\n",
       "      <td>...</td>\n",
       "      <td>...</td>\n",
       "      <td>...</td>\n",
       "      <td>...</td>\n",
       "      <td>...</td>\n",
       "      <td>...</td>\n",
       "      <td>...</td>\n",
       "      <td>...</td>\n",
       "      <td>...</td>\n",
       "      <td>...</td>\n",
       "      <td>...</td>\n",
       "      <td>...</td>\n",
       "      <td>...</td>\n",
       "      <td>...</td>\n",
       "      <td>...</td>\n",
       "      <td>...</td>\n",
       "      <td>...</td>\n",
       "    </tr>\n",
       "    <tr>\n",
       "      <th>419</th>\n",
       "      <td>628</td>\n",
       "      <td>43.04</td>\n",
       "      <td>20008.89</td>\n",
       "      <td>4</td>\n",
       "      <td>Fulton St</td>\n",
       "      <td>Fulton St (2 3 4 5 A C J Z)</td>\n",
       "      <td>Fulton St</td>\n",
       "      <td>106; 172; 332; 412</td>\n",
       "      <td>229; 418; A38; M22</td>\n",
       "      <td>M</td>\n",
       "      <td>...</td>\n",
       "      <td>229</td>\n",
       "      <td>628.0</td>\n",
       "      <td>59819.0</td>\n",
       "      <td>2492.5</td>\n",
       "      <td>29.0</td>\n",
       "      <td>0.99</td>\n",
       "      <td>0.99</td>\n",
       "      <td>0.93</td>\n",
       "      <td>1088.48</td>\n",
       "      <td>2288.48</td>\n",
       "    </tr>\n",
       "    <tr>\n",
       "      <th>420</th>\n",
       "      <td>629</td>\n",
       "      <td>17.59</td>\n",
       "      <td>7403.91</td>\n",
       "      <td>2</td>\n",
       "      <td>Metropolitan Av/Lorimer St</td>\n",
       "      <td>Metropolitan Av/Lorimer St (G L)</td>\n",
       "      <td>Lorimer St; Metropolitan Av</td>\n",
       "      <td>121; 285</td>\n",
       "      <td>G29; L10</td>\n",
       "      <td>Bk</td>\n",
       "      <td>...</td>\n",
       "      <td>G29</td>\n",
       "      <td>629.0</td>\n",
       "      <td>11251.2</td>\n",
       "      <td>468.8</td>\n",
       "      <td>13.3</td>\n",
       "      <td>0.88</td>\n",
       "      <td>0.79</td>\n",
       "      <td>0.56</td>\n",
       "      <td>927.12</td>\n",
       "      <td>2127.12</td>\n",
       "    </tr>\n",
       "    <tr>\n",
       "      <th>421</th>\n",
       "      <td>630</td>\n",
       "      <td>16.73</td>\n",
       "      <td>7633.85</td>\n",
       "      <td>2</td>\n",
       "      <td>Myrtle-Wyckoff Avs</td>\n",
       "      <td>Myrtle-Wyckoff Avs (M L)</td>\n",
       "      <td>Myrtle-Wyckoff Avs</td>\n",
       "      <td>112; 128</td>\n",
       "      <td>L17; M08</td>\n",
       "      <td>Bk</td>\n",
       "      <td>...</td>\n",
       "      <td>L17</td>\n",
       "      <td>630.0</td>\n",
       "      <td>15695.0</td>\n",
       "      <td>654.0</td>\n",
       "      <td>19.5</td>\n",
       "      <td>0.88</td>\n",
       "      <td>0.86</td>\n",
       "      <td>0.79</td>\n",
       "      <td>913.09</td>\n",
       "      <td>2113.09</td>\n",
       "    </tr>\n",
       "    <tr>\n",
       "      <th>422</th>\n",
       "      <td>635</td>\n",
       "      <td>20.72</td>\n",
       "      <td>10361.88</td>\n",
       "      <td>2</td>\n",
       "      <td>Whitehall St-South Ferry</td>\n",
       "      <td>Whitehall St-South Ferry (1 R W)</td>\n",
       "      <td>South Ferry; Whitehall St-South Ferry</td>\n",
       "      <td>23; 330</td>\n",
       "      <td>142; R27</td>\n",
       "      <td>M</td>\n",
       "      <td>...</td>\n",
       "      <td>142</td>\n",
       "      <td>635.0</td>\n",
       "      <td>18045.2</td>\n",
       "      <td>751.9</td>\n",
       "      <td>18.1</td>\n",
       "      <td>0.91</td>\n",
       "      <td>0.89</td>\n",
       "      <td>0.75</td>\n",
       "      <td>968.34</td>\n",
       "      <td>2168.34</td>\n",
       "    </tr>\n",
       "    <tr>\n",
       "      <th>423</th>\n",
       "      <td>636</td>\n",
       "      <td>27.14</td>\n",
       "      <td>15483.98</td>\n",
       "      <td>2</td>\n",
       "      <td>Jay St-MetroTech</td>\n",
       "      <td>Jay St-MetroTech (A C F R)</td>\n",
       "      <td>Jay St-MetroTech</td>\n",
       "      <td>25; 174</td>\n",
       "      <td>A41; R29</td>\n",
       "      <td>Bk</td>\n",
       "      <td>...</td>\n",
       "      <td>A41</td>\n",
       "      <td>636.0</td>\n",
       "      <td>30168.0</td>\n",
       "      <td>1257.0</td>\n",
       "      <td>23.2</td>\n",
       "      <td>0.95</td>\n",
       "      <td>0.95</td>\n",
       "      <td>0.87</td>\n",
       "      <td>1023.14</td>\n",
       "      <td>2223.14</td>\n",
       "    </tr>\n",
       "  </tbody>\n",
       "</table>\n",
       "<p>424 rows × 24 columns</p>\n",
       "</div>"
      ],
      "text/plain": [
       "     Complex_ID    tph  hourly_trainset_area  Number Of Stations In Complex  \\\n",
       "0             1   9.58               5466.33                              1   \n",
       "1             2   9.58               5466.33                              1   \n",
       "2             3   9.58               5466.33                              1   \n",
       "3             4   9.58               5466.33                              1   \n",
       "4             5   9.58               5466.33                              1   \n",
       "..          ...    ...                   ...                            ...   \n",
       "419         628  43.04              20008.89                              4   \n",
       "420         629  17.59               7403.91                              2   \n",
       "421         630  16.73               7633.85                              2   \n",
       "422         635  20.72              10361.88                              2   \n",
       "423         636  27.14              15483.98                              2   \n",
       "\n",
       "                      Stop Name                      Display Name  \\\n",
       "0          Astoria-Ditmars Blvd        Astoria-Ditmars Blvd (N W)   \n",
       "1                  Astoria Blvd                Astoria Blvd (N W)   \n",
       "2                         30 Av                       30 Av (N W)   \n",
       "3                      Broadway                    Broadway (N W)   \n",
       "4                         36 Av                       36 Av (N W)   \n",
       "..                          ...                               ...   \n",
       "419                   Fulton St       Fulton St (2 3 4 5 A C J Z)   \n",
       "420  Metropolitan Av/Lorimer St  Metropolitan Av/Lorimer St (G L)   \n",
       "421          Myrtle-Wyckoff Avs          Myrtle-Wyckoff Avs (M L)   \n",
       "422    Whitehall St-South Ferry  Whitehall St-South Ferry (1 R W)   \n",
       "423            Jay St-MetroTech        Jay St-MetroTech (A C F R)   \n",
       "\n",
       "                 Constituent Station Names         Station IDs  \\\n",
       "0                     Astoria-Ditmars Blvd                   1   \n",
       "1                             Astoria Blvd                   2   \n",
       "2                                    30 Av                   3   \n",
       "3                                 Broadway                   4   \n",
       "4                                    36 Av                   5   \n",
       "..                                     ...                 ...   \n",
       "419                              Fulton St  106; 172; 332; 412   \n",
       "420            Lorimer St; Metropolitan Av            121; 285   \n",
       "421                     Myrtle-Wyckoff Avs            112; 128   \n",
       "422  South Ferry; Whitehall St-South Ferry             23; 330   \n",
       "423                       Jay St-MetroTech             25; 174   \n",
       "\n",
       "          GTFS Stop IDs Borough  ... GTFS_Stop_IDs_Listed station_complex_id  \\\n",
       "0                   R01       Q  ...                  R01                1.0   \n",
       "1                   R03       Q  ...                  R03                2.0   \n",
       "2                   R04       Q  ...                  R04                3.0   \n",
       "3                   R05       Q  ...                  R05                4.0   \n",
       "4                   R06       Q  ...                  R06                5.0   \n",
       "..                  ...     ...  ...                  ...                ...   \n",
       "419  229; 418; A38; M22       M  ...                  229              628.0   \n",
       "420            G29; L10      Bk  ...                  G29              629.0   \n",
       "421            L17; M08      Bk  ...                  L17              630.0   \n",
       "422            142; R27       M  ...                  142              635.0   \n",
       "423            A41; R29      Bk  ...                  A41              636.0   \n",
       "\n",
       "     avg_daily_ridership  avg_hourly_ridership  \\\n",
       "0                11265.2                 469.4   \n",
       "1                 8007.8                 333.7   \n",
       "2                10173.4                 423.9   \n",
       "3                 9240.6                 385.0   \n",
       "4                 5168.6                 215.4   \n",
       "..                   ...                   ...   \n",
       "419              59819.0                2492.5   \n",
       "420              11251.2                 468.8   \n",
       "421              15695.0                 654.0   \n",
       "422              18045.2                 751.9   \n",
       "423              30168.0                1257.0   \n",
       "\n",
       "    hourly_ridership_per_train_direction  TPH_percent_rank  \\\n",
       "0                                   24.5              0.50   \n",
       "1                                   17.4              0.50   \n",
       "2                                   22.1              0.50   \n",
       "3                                   20.1              0.50   \n",
       "4                                   11.2              0.50   \n",
       "..                                   ...               ...   \n",
       "419                                 29.0              0.99   \n",
       "420                                 13.3              0.88   \n",
       "421                                 19.5              0.88   \n",
       "422                                 18.1              0.91   \n",
       "423                                 23.2              0.95   \n",
       "\n",
       "     Ridership_percent_rank  Crowdedness_percent_rank  distance_in_15  \\\n",
       "0                      0.79                      0.88          698.96   \n",
       "1                      0.69                      0.73          698.96   \n",
       "2                      0.77                      0.84          698.96   \n",
       "3                      0.74                      0.81          698.96   \n",
       "4                      0.54                      0.45          698.96   \n",
       "..                      ...                       ...             ...   \n",
       "419                    0.99                      0.93         1088.48   \n",
       "420                    0.79                      0.56          927.12   \n",
       "421                    0.86                      0.79          913.09   \n",
       "422                    0.89                      0.75          968.34   \n",
       "423                    0.95                      0.87         1023.14   \n",
       "\n",
       "     distance_in_30  \n",
       "0           1898.96  \n",
       "1           1898.96  \n",
       "2           1898.96  \n",
       "3           1898.96  \n",
       "4           1898.96  \n",
       "..              ...  \n",
       "419         2288.48  \n",
       "420         2127.12  \n",
       "421         2113.09  \n",
       "422         2168.34  \n",
       "423         2223.14  \n",
       "\n",
       "[424 rows x 24 columns]"
      ]
     },
     "execution_count": 51,
     "metadata": {},
     "output_type": "execute_result"
    }
   ],
   "source": [
    "station_complex_full_info"
   ]
  },
  {
   "cell_type": "markdown",
   "metadata": {},
   "source": [
    "## Most Frequency at each type of Station"
   ]
  },
  {
   "cell_type": "code",
   "execution_count": 52,
   "metadata": {
    "ExecuteTime": {
     "end_time": "2024-03-22T21:44:28.287989Z",
     "start_time": "2024-03-22T21:44:28.277467Z"
    }
   },
   "outputs": [
    {
     "name": "stdout",
     "output_type": "stream",
     "text": [
      "<class 'pandas.core.frame.DataFrame'>\n",
      "Int64Index: 424 entries, 0 to 423\n",
      "Data columns (total 24 columns):\n",
      " #   Column                                Non-Null Count  Dtype  \n",
      "---  ------                                --------------  -----  \n",
      " 0   Complex_ID                            424 non-null    int64  \n",
      " 1   tph                                   424 non-null    float64\n",
      " 2   hourly_trainset_area                  424 non-null    float64\n",
      " 3   Number Of Stations In Complex         424 non-null    int64  \n",
      " 4   Stop Name                             424 non-null    object \n",
      " 5   Display Name                          424 non-null    object \n",
      " 6   Constituent Station Names             424 non-null    object \n",
      " 7   Station IDs                           424 non-null    object \n",
      " 8   GTFS Stop IDs                         424 non-null    object \n",
      " 9   Borough                               424 non-null    object \n",
      " 10  Daytime Routes                        424 non-null    object \n",
      " 11  Structure Type                        424 non-null    object \n",
      " 12  Latitude                              424 non-null    float64\n",
      " 13  Longitude                             424 non-null    float64\n",
      " 14  GTFS_Stop_IDs_Listed                  424 non-null    object \n",
      " 15  station_complex_id                    424 non-null    float64\n",
      " 16  avg_daily_ridership                   424 non-null    float64\n",
      " 17  avg_hourly_ridership                  424 non-null    float64\n",
      " 18  hourly_ridership_per_train_direction  424 non-null    float64\n",
      " 19  TPH_percent_rank                      424 non-null    float64\n",
      " 20  Ridership_percent_rank                424 non-null    float64\n",
      " 21  Crowdedness_percent_rank              424 non-null    float64\n",
      " 22  distance_in_15                        424 non-null    float64\n",
      " 23  distance_in_30                        424 non-null    float64\n",
      "dtypes: float64(13), int64(2), object(9)\n",
      "memory usage: 82.8+ KB\n"
     ]
    }
   ],
   "source": [
    "station_complex_full_info.info()"
   ]
  },
  {
   "cell_type": "code",
   "execution_count": 53,
   "metadata": {
    "ExecuteTime": {
     "end_time": "2024-03-22T21:44:29.048913Z",
     "start_time": "2024-03-22T21:44:29.043508Z"
    }
   },
   "outputs": [],
   "source": [
    "# these include the mixed types of stations as 1 (e.g.: 4 av-9st counts the F, G, and R together)\n",
    "tph_by_structure_type_indices = station_complex_full_info.groupby('Structure Type')['tph'].idxmax()"
   ]
  },
  {
   "cell_type": "code",
   "execution_count": 54,
   "metadata": {
    "ExecuteTime": {
     "end_time": "2024-03-22T21:44:29.740145Z",
     "start_time": "2024-03-22T21:44:29.735545Z"
    }
   },
   "outputs": [],
   "source": [
    "tph_by_structure_type = station_complex_full_info.loc[tph_by_structure_type_indices]\\\n",
    "                    [['tph', 'Display Name', 'Borough', 'Structure Type', 'avg_daily_ridership'\n",
    "                      , 'avg_hourly_ridership', 'Crowdedness_percent_rank']].sort_values(by='tph')"
   ]
  },
  {
   "cell_type": "code",
   "execution_count": 55,
   "metadata": {
    "ExecuteTime": {
     "end_time": "2024-03-22T21:44:30.457751Z",
     "start_time": "2024-03-22T21:44:30.445765Z"
    },
    "scrolled": true
   },
   "outputs": [
    {
     "data": {
      "text/html": [
       "<div>\n",
       "<style scoped>\n",
       "    .dataframe tbody tr th:only-of-type {\n",
       "        vertical-align: middle;\n",
       "    }\n",
       "\n",
       "    .dataframe tbody tr th {\n",
       "        vertical-align: top;\n",
       "    }\n",
       "\n",
       "    .dataframe thead th {\n",
       "        text-align: right;\n",
       "    }\n",
       "</style>\n",
       "<table border=\"1\" class=\"dataframe\">\n",
       "  <thead>\n",
       "    <tr style=\"text-align: right;\">\n",
       "      <th></th>\n",
       "      <th>tph</th>\n",
       "      <th>Display Name</th>\n",
       "      <th>Borough</th>\n",
       "      <th>Structure Type</th>\n",
       "      <th>avg_daily_ridership</th>\n",
       "      <th>avg_hourly_ridership</th>\n",
       "      <th>Crowdedness_percent_rank</th>\n",
       "    </tr>\n",
       "  </thead>\n",
       "  <tbody>\n",
       "    <tr>\n",
       "      <th>109</th>\n",
       "      <td>10.98</td>\n",
       "      <td>East 105 St (L)</td>\n",
       "      <td>Bk</td>\n",
       "      <td>At Grade</td>\n",
       "      <td>2130.2</td>\n",
       "      <td>88.8</td>\n",
       "      <td>0.06</td>\n",
       "    </tr>\n",
       "    <tr>\n",
       "      <th>406</th>\n",
       "      <td>11.71</td>\n",
       "      <td>62 St/New Utrecht Av (D N)</td>\n",
       "      <td>Bk</td>\n",
       "      <td>Elevated; Open Cut</td>\n",
       "      <td>3878.6</td>\n",
       "      <td>161.6</td>\n",
       "      <td>0.23</td>\n",
       "    </tr>\n",
       "    <tr>\n",
       "      <th>28</th>\n",
       "      <td>15.56</td>\n",
       "      <td>Prospect Park (B Q S)</td>\n",
       "      <td>Bk</td>\n",
       "      <td>Open Cut</td>\n",
       "      <td>6778.2</td>\n",
       "      <td>282.4</td>\n",
       "      <td>0.35</td>\n",
       "    </tr>\n",
       "    <tr>\n",
       "      <th>385</th>\n",
       "      <td>22.96</td>\n",
       "      <td>Queensboro Plaza (7 N W)</td>\n",
       "      <td>Q</td>\n",
       "      <td>Elevated</td>\n",
       "      <td>11470.8</td>\n",
       "      <td>478.0</td>\n",
       "      <td>0.42</td>\n",
       "    </tr>\n",
       "    <tr>\n",
       "      <th>399</th>\n",
       "      <td>23.71</td>\n",
       "      <td>4 Av-9 St (F G R)</td>\n",
       "      <td>Bk</td>\n",
       "      <td>Subway; Viaduct</td>\n",
       "      <td>9307.4</td>\n",
       "      <td>387.8</td>\n",
       "      <td>0.30</td>\n",
       "    </tr>\n",
       "    <tr>\n",
       "      <th>44</th>\n",
       "      <td>24.48</td>\n",
       "      <td>Coney Island-Stillwell Av (D F N Q)</td>\n",
       "      <td>Bk</td>\n",
       "      <td>Viaduct</td>\n",
       "      <td>8530.0</td>\n",
       "      <td>355.4</td>\n",
       "      <td>0.25</td>\n",
       "    </tr>\n",
       "    <tr>\n",
       "      <th>417</th>\n",
       "      <td>29.71</td>\n",
       "      <td>Franklin Av-Medgar Evers College/Botanic Garde...</td>\n",
       "      <td>Bk</td>\n",
       "      <td>Open Cut; Subway</td>\n",
       "      <td>11227.0</td>\n",
       "      <td>467.8</td>\n",
       "      <td>0.28</td>\n",
       "    </tr>\n",
       "    <tr>\n",
       "      <th>397</th>\n",
       "      <td>36.05</td>\n",
       "      <td>Court Sq-23 St (7 E M G)</td>\n",
       "      <td>Q</td>\n",
       "      <td>Elevated; Subway</td>\n",
       "      <td>18262.4</td>\n",
       "      <td>760.9</td>\n",
       "      <td>0.43</td>\n",
       "    </tr>\n",
       "    <tr>\n",
       "      <th>402</th>\n",
       "      <td>88.59</td>\n",
       "      <td>Times Sq-42 St/Port Authority Bus Terminal (1 ...</td>\n",
       "      <td>M</td>\n",
       "      <td>Subway</td>\n",
       "      <td>132701.2</td>\n",
       "      <td>5529.2</td>\n",
       "      <td>0.95</td>\n",
       "    </tr>\n",
       "  </tbody>\n",
       "</table>\n",
       "</div>"
      ],
      "text/plain": [
       "       tph                                       Display Name Borough  \\\n",
       "109  10.98                                    East 105 St (L)      Bk   \n",
       "406  11.71                         62 St/New Utrecht Av (D N)      Bk   \n",
       "28   15.56                              Prospect Park (B Q S)      Bk   \n",
       "385  22.96                           Queensboro Plaza (7 N W)       Q   \n",
       "399  23.71                                  4 Av-9 St (F G R)      Bk   \n",
       "44   24.48                Coney Island-Stillwell Av (D F N Q)      Bk   \n",
       "417  29.71  Franklin Av-Medgar Evers College/Botanic Garde...      Bk   \n",
       "397  36.05                           Court Sq-23 St (7 E M G)       Q   \n",
       "402  88.59  Times Sq-42 St/Port Authority Bus Terminal (1 ...       M   \n",
       "\n",
       "         Structure Type  avg_daily_ridership  avg_hourly_ridership  \\\n",
       "109            At Grade               2130.2                  88.8   \n",
       "406  Elevated; Open Cut               3878.6                 161.6   \n",
       "28             Open Cut               6778.2                 282.4   \n",
       "385            Elevated              11470.8                 478.0   \n",
       "399     Subway; Viaduct               9307.4                 387.8   \n",
       "44              Viaduct               8530.0                 355.4   \n",
       "417    Open Cut; Subway              11227.0                 467.8   \n",
       "397    Elevated; Subway              18262.4                 760.9   \n",
       "402              Subway             132701.2                5529.2   \n",
       "\n",
       "     Crowdedness_percent_rank  \n",
       "109                      0.06  \n",
       "406                      0.23  \n",
       "28                       0.35  \n",
       "385                      0.42  \n",
       "399                      0.30  \n",
       "44                       0.25  \n",
       "417                      0.28  \n",
       "397                      0.43  \n",
       "402                      0.95  "
      ]
     },
     "execution_count": 55,
     "metadata": {},
     "output_type": "execute_result"
    }
   ],
   "source": [
    "tph_by_structure_type"
   ]
  },
  {
   "cell_type": "markdown",
   "metadata": {},
   "source": [
    "## Highest Amount of Riders by Station Type"
   ]
  },
  {
   "cell_type": "code",
   "execution_count": 56,
   "metadata": {
    "ExecuteTime": {
     "end_time": "2024-03-22T21:44:31.158157Z",
     "start_time": "2024-03-22T21:44:31.153227Z"
    }
   },
   "outputs": [],
   "source": [
    "ridership_by_structure_type_indices = station_complex_full_info.groupby('Structure Type')\\\n",
    "                                        ['avg_daily_ridership'].idxmax()"
   ]
  },
  {
   "cell_type": "code",
   "execution_count": 57,
   "metadata": {
    "ExecuteTime": {
     "end_time": "2024-03-22T21:44:31.886888Z",
     "start_time": "2024-03-22T21:44:31.879186Z"
    }
   },
   "outputs": [],
   "source": [
    "ridership_by_structure_type = station_complex_full_info.loc[ridership_by_structure_type_indices]\\\n",
    "                    [['tph', 'Display Name', 'Borough', 'Structure Type', 'avg_daily_ridership'\n",
    "                      , 'avg_hourly_ridership', 'Crowdedness_percent_rank']].sort_values(by='avg_daily_ridership')"
   ]
  },
  {
   "cell_type": "code",
   "execution_count": 58,
   "metadata": {
    "ExecuteTime": {
     "end_time": "2024-03-22T21:44:32.631697Z",
     "start_time": "2024-03-22T21:44:32.620529Z"
    }
   },
   "outputs": [
    {
     "data": {
      "text/html": [
       "<div>\n",
       "<style scoped>\n",
       "    .dataframe tbody tr th:only-of-type {\n",
       "        vertical-align: middle;\n",
       "    }\n",
       "\n",
       "    .dataframe tbody tr th {\n",
       "        vertical-align: top;\n",
       "    }\n",
       "\n",
       "    .dataframe thead th {\n",
       "        text-align: right;\n",
       "    }\n",
       "</style>\n",
       "<table border=\"1\" class=\"dataframe\">\n",
       "  <thead>\n",
       "    <tr style=\"text-align: right;\">\n",
       "      <th></th>\n",
       "      <th>tph</th>\n",
       "      <th>Display Name</th>\n",
       "      <th>Borough</th>\n",
       "      <th>Structure Type</th>\n",
       "      <th>avg_daily_ridership</th>\n",
       "      <th>avg_hourly_ridership</th>\n",
       "      <th>Crowdedness_percent_rank</th>\n",
       "    </tr>\n",
       "  </thead>\n",
       "  <tbody>\n",
       "    <tr>\n",
       "      <th>367</th>\n",
       "      <td>5.96</td>\n",
       "      <td>Eastchester-Dyre Av (5)</td>\n",
       "      <td>Bx</td>\n",
       "      <td>At Grade</td>\n",
       "      <td>2827.6</td>\n",
       "      <td>117.8</td>\n",
       "      <td>0.40</td>\n",
       "    </tr>\n",
       "    <tr>\n",
       "      <th>406</th>\n",
       "      <td>11.71</td>\n",
       "      <td>62 St/New Utrecht Av (D N)</td>\n",
       "      <td>Bk</td>\n",
       "      <td>Elevated; Open Cut</td>\n",
       "      <td>3878.6</td>\n",
       "      <td>161.6</td>\n",
       "      <td>0.23</td>\n",
       "    </tr>\n",
       "    <tr>\n",
       "      <th>44</th>\n",
       "      <td>24.48</td>\n",
       "      <td>Coney Island-Stillwell Av (D F N Q)</td>\n",
       "      <td>Bk</td>\n",
       "      <td>Viaduct</td>\n",
       "      <td>8530.0</td>\n",
       "      <td>355.4</td>\n",
       "      <td>0.25</td>\n",
       "    </tr>\n",
       "    <tr>\n",
       "      <th>399</th>\n",
       "      <td>23.71</td>\n",
       "      <td>4 Av-9 St (F G R)</td>\n",
       "      <td>Bk</td>\n",
       "      <td>Subway; Viaduct</td>\n",
       "      <td>9307.4</td>\n",
       "      <td>387.8</td>\n",
       "      <td>0.30</td>\n",
       "    </tr>\n",
       "    <tr>\n",
       "      <th>417</th>\n",
       "      <td>29.71</td>\n",
       "      <td>Franklin Av-Medgar Evers College/Botanic Garde...</td>\n",
       "      <td>Bk</td>\n",
       "      <td>Open Cut; Subway</td>\n",
       "      <td>11227.0</td>\n",
       "      <td>467.8</td>\n",
       "      <td>0.28</td>\n",
       "    </tr>\n",
       "    <tr>\n",
       "      <th>37</th>\n",
       "      <td>10.65</td>\n",
       "      <td>Kings Hwy (B Q)</td>\n",
       "      <td>Bk</td>\n",
       "      <td>Open Cut</td>\n",
       "      <td>14559.2</td>\n",
       "      <td>606.6</td>\n",
       "      <td>0.92</td>\n",
       "    </tr>\n",
       "    <tr>\n",
       "      <th>375</th>\n",
       "      <td>11.15</td>\n",
       "      <td>103 St-Corona Plaza (7)</td>\n",
       "      <td>Q</td>\n",
       "      <td>Elevated</td>\n",
       "      <td>21788.0</td>\n",
       "      <td>907.8</td>\n",
       "      <td>0.98</td>\n",
       "    </tr>\n",
       "    <tr>\n",
       "      <th>407</th>\n",
       "      <td>35.05</td>\n",
       "      <td>Jackson Hts-Roosevelt Av/74 St-Broadway (7 E F...</td>\n",
       "      <td>Q</td>\n",
       "      <td>Elevated; Subway</td>\n",
       "      <td>45850.4</td>\n",
       "      <td>1910.4</td>\n",
       "      <td>0.91</td>\n",
       "    </tr>\n",
       "    <tr>\n",
       "      <th>402</th>\n",
       "      <td>88.59</td>\n",
       "      <td>Times Sq-42 St/Port Authority Bus Terminal (1 ...</td>\n",
       "      <td>M</td>\n",
       "      <td>Subway</td>\n",
       "      <td>132701.2</td>\n",
       "      <td>5529.2</td>\n",
       "      <td>0.95</td>\n",
       "    </tr>\n",
       "  </tbody>\n",
       "</table>\n",
       "</div>"
      ],
      "text/plain": [
       "       tph                                       Display Name Borough  \\\n",
       "367   5.96                            Eastchester-Dyre Av (5)      Bx   \n",
       "406  11.71                         62 St/New Utrecht Av (D N)      Bk   \n",
       "44   24.48                Coney Island-Stillwell Av (D F N Q)      Bk   \n",
       "399  23.71                                  4 Av-9 St (F G R)      Bk   \n",
       "417  29.71  Franklin Av-Medgar Evers College/Botanic Garde...      Bk   \n",
       "37   10.65                                    Kings Hwy (B Q)      Bk   \n",
       "375  11.15                            103 St-Corona Plaza (7)       Q   \n",
       "407  35.05  Jackson Hts-Roosevelt Av/74 St-Broadway (7 E F...       Q   \n",
       "402  88.59  Times Sq-42 St/Port Authority Bus Terminal (1 ...       M   \n",
       "\n",
       "         Structure Type  avg_daily_ridership  avg_hourly_ridership  \\\n",
       "367            At Grade               2827.6                 117.8   \n",
       "406  Elevated; Open Cut               3878.6                 161.6   \n",
       "44              Viaduct               8530.0                 355.4   \n",
       "399     Subway; Viaduct               9307.4                 387.8   \n",
       "417    Open Cut; Subway              11227.0                 467.8   \n",
       "37             Open Cut              14559.2                 606.6   \n",
       "375            Elevated              21788.0                 907.8   \n",
       "407    Elevated; Subway              45850.4                1910.4   \n",
       "402              Subway             132701.2                5529.2   \n",
       "\n",
       "     Crowdedness_percent_rank  \n",
       "367                      0.40  \n",
       "406                      0.23  \n",
       "44                       0.25  \n",
       "399                      0.30  \n",
       "417                      0.28  \n",
       "37                       0.92  \n",
       "375                      0.98  \n",
       "407                      0.91  \n",
       "402                      0.95  "
      ]
     },
     "execution_count": 58,
     "metadata": {},
     "output_type": "execute_result"
    }
   ],
   "source": [
    "ridership_by_structure_type"
   ]
  },
  {
   "cell_type": "markdown",
   "metadata": {},
   "source": [
    "## Ridership per Station Complex"
   ]
  },
  {
   "cell_type": "code",
   "execution_count": 59,
   "metadata": {
    "ExecuteTime": {
     "end_time": "2024-03-22T21:44:33.365228Z",
     "start_time": "2024-03-22T21:44:33.341176Z"
    }
   },
   "outputs": [
    {
     "data": {
      "text/html": [
       "<div>\n",
       "<style scoped>\n",
       "    .dataframe tbody tr th:only-of-type {\n",
       "        vertical-align: middle;\n",
       "    }\n",
       "\n",
       "    .dataframe tbody tr th {\n",
       "        vertical-align: top;\n",
       "    }\n",
       "\n",
       "    .dataframe thead th {\n",
       "        text-align: right;\n",
       "    }\n",
       "</style>\n",
       "<table border=\"1\" class=\"dataframe\">\n",
       "  <thead>\n",
       "    <tr style=\"text-align: right;\">\n",
       "      <th></th>\n",
       "      <th>Complex_ID</th>\n",
       "      <th>tph</th>\n",
       "      <th>hourly_trainset_area</th>\n",
       "      <th>Number Of Stations In Complex</th>\n",
       "      <th>Stop Name</th>\n",
       "      <th>Display Name</th>\n",
       "      <th>Constituent Station Names</th>\n",
       "      <th>Station IDs</th>\n",
       "      <th>GTFS Stop IDs</th>\n",
       "      <th>Borough</th>\n",
       "      <th>...</th>\n",
       "      <th>GTFS_Stop_IDs_Listed</th>\n",
       "      <th>station_complex_id</th>\n",
       "      <th>avg_daily_ridership</th>\n",
       "      <th>avg_hourly_ridership</th>\n",
       "      <th>hourly_ridership_per_train_direction</th>\n",
       "      <th>TPH_percent_rank</th>\n",
       "      <th>Ridership_percent_rank</th>\n",
       "      <th>Crowdedness_percent_rank</th>\n",
       "      <th>distance_in_15</th>\n",
       "      <th>distance_in_30</th>\n",
       "    </tr>\n",
       "  </thead>\n",
       "  <tbody>\n",
       "    <tr>\n",
       "      <th>372</th>\n",
       "      <td>447</td>\n",
       "      <td>12.23</td>\n",
       "      <td>5629.70</td>\n",
       "      <td>1</td>\n",
       "      <td>Flushing-Main St</td>\n",
       "      <td>Flushing-Main St (7)</td>\n",
       "      <td>Flushing-Main St</td>\n",
       "      <td>447</td>\n",
       "      <td>701</td>\n",
       "      <td>Q</td>\n",
       "      <td>...</td>\n",
       "      <td>701</td>\n",
       "      <td>447.0</td>\n",
       "      <td>44896.8</td>\n",
       "      <td>1870.7</td>\n",
       "      <td>76.5</td>\n",
       "      <td>0.77</td>\n",
       "      <td>0.98</td>\n",
       "      <td>1.00</td>\n",
       "      <td>807.52</td>\n",
       "      <td>2007.52</td>\n",
       "    </tr>\n",
       "    <tr>\n",
       "      <th>391</th>\n",
       "      <td>477</td>\n",
       "      <td>6.83</td>\n",
       "      <td>3897.73</td>\n",
       "      <td>1</td>\n",
       "      <td>72 St</td>\n",
       "      <td>72 St (Q)</td>\n",
       "      <td>72 St</td>\n",
       "      <td>477</td>\n",
       "      <td>Q03</td>\n",
       "      <td>M</td>\n",
       "      <td>...</td>\n",
       "      <td>Q03</td>\n",
       "      <td>477.0</td>\n",
       "      <td>22113.0</td>\n",
       "      <td>921.4</td>\n",
       "      <td>67.5</td>\n",
       "      <td>0.27</td>\n",
       "      <td>0.93</td>\n",
       "      <td>1.00</td>\n",
       "      <td>497.22</td>\n",
       "      <td>1697.22</td>\n",
       "    </tr>\n",
       "    <tr>\n",
       "      <th>130</th>\n",
       "      <td>164</td>\n",
       "      <td>20.04</td>\n",
       "      <td>11431.77</td>\n",
       "      <td>1</td>\n",
       "      <td>34 St-Penn Station</td>\n",
       "      <td>34 St-Penn Station (A C E)</td>\n",
       "      <td>34 St-Penn Station</td>\n",
       "      <td>164</td>\n",
       "      <td>A28</td>\n",
       "      <td>M</td>\n",
       "      <td>...</td>\n",
       "      <td>A28</td>\n",
       "      <td>164.0</td>\n",
       "      <td>56291.4</td>\n",
       "      <td>2345.5</td>\n",
       "      <td>58.5</td>\n",
       "      <td>0.90</td>\n",
       "      <td>0.99</td>\n",
       "      <td>1.00</td>\n",
       "      <td>960.48</td>\n",
       "      <td>2160.48</td>\n",
       "    </tr>\n",
       "    <tr>\n",
       "      <th>390</th>\n",
       "      <td>476</td>\n",
       "      <td>6.83</td>\n",
       "      <td>3897.73</td>\n",
       "      <td>1</td>\n",
       "      <td>86 St</td>\n",
       "      <td>86 St (Q)</td>\n",
       "      <td>86 St</td>\n",
       "      <td>476</td>\n",
       "      <td>Q04</td>\n",
       "      <td>M</td>\n",
       "      <td>...</td>\n",
       "      <td>Q04</td>\n",
       "      <td>476.0</td>\n",
       "      <td>16591.2</td>\n",
       "      <td>691.3</td>\n",
       "      <td>50.6</td>\n",
       "      <td>0.27</td>\n",
       "      <td>0.88</td>\n",
       "      <td>0.99</td>\n",
       "      <td>497.22</td>\n",
       "      <td>1697.22</td>\n",
       "    </tr>\n",
       "    <tr>\n",
       "      <th>262</th>\n",
       "      <td>318</td>\n",
       "      <td>21.75</td>\n",
       "      <td>9102.38</td>\n",
       "      <td>1</td>\n",
       "      <td>34 St-Penn Station</td>\n",
       "      <td>34 St-Penn Station (1 2 3)</td>\n",
       "      <td>34 St-Penn Station</td>\n",
       "      <td>318</td>\n",
       "      <td>128</td>\n",
       "      <td>M</td>\n",
       "      <td>...</td>\n",
       "      <td>128</td>\n",
       "      <td>318.0</td>\n",
       "      <td>50535.6</td>\n",
       "      <td>2105.6</td>\n",
       "      <td>48.4</td>\n",
       "      <td>0.92</td>\n",
       "      <td>0.98</td>\n",
       "      <td>0.99</td>\n",
       "      <td>979.31</td>\n",
       "      <td>2179.31</td>\n",
       "    </tr>\n",
       "    <tr>\n",
       "      <th>401</th>\n",
       "      <td>610</td>\n",
       "      <td>48.92</td>\n",
       "      <td>19259.72</td>\n",
       "      <td>3</td>\n",
       "      <td>Grand Central-42 St</td>\n",
       "      <td>Grand Central-42 St (4 5 6 7 S)</td>\n",
       "      <td>Grand Central-42 St</td>\n",
       "      <td>402; 465; 469</td>\n",
       "      <td>631; 723; 901</td>\n",
       "      <td>M</td>\n",
       "      <td>...</td>\n",
       "      <td>631</td>\n",
       "      <td>610.0</td>\n",
       "      <td>108313.2</td>\n",
       "      <td>4513.0</td>\n",
       "      <td>46.1</td>\n",
       "      <td>0.99</td>\n",
       "      <td>1.00</td>\n",
       "      <td>0.99</td>\n",
       "      <td>1101.88</td>\n",
       "      <td>2301.88</td>\n",
       "    </tr>\n",
       "    <tr>\n",
       "      <th>95</th>\n",
       "      <td>120</td>\n",
       "      <td>11.38</td>\n",
       "      <td>5190.64</td>\n",
       "      <td>1</td>\n",
       "      <td>Bedford Av</td>\n",
       "      <td>Bedford Av (L)</td>\n",
       "      <td>Bedford Av</td>\n",
       "      <td>120</td>\n",
       "      <td>L08</td>\n",
       "      <td>Bk</td>\n",
       "      <td>...</td>\n",
       "      <td>L08</td>\n",
       "      <td>120.0</td>\n",
       "      <td>23684.6</td>\n",
       "      <td>986.9</td>\n",
       "      <td>43.4</td>\n",
       "      <td>0.71</td>\n",
       "      <td>0.94</td>\n",
       "      <td>0.99</td>\n",
       "      <td>778.21</td>\n",
       "      <td>1978.21</td>\n",
       "    </tr>\n",
       "    <tr>\n",
       "      <th>375</th>\n",
       "      <td>450</td>\n",
       "      <td>11.15</td>\n",
       "      <td>5130.98</td>\n",
       "      <td>1</td>\n",
       "      <td>103 St-Corona Plaza</td>\n",
       "      <td>103 St-Corona Plaza (7)</td>\n",
       "      <td>103 St-Corona Plaza</td>\n",
       "      <td>450</td>\n",
       "      <td>706</td>\n",
       "      <td>Q</td>\n",
       "      <td>...</td>\n",
       "      <td>706</td>\n",
       "      <td>450.0</td>\n",
       "      <td>21788.0</td>\n",
       "      <td>907.8</td>\n",
       "      <td>40.7</td>\n",
       "      <td>0.68</td>\n",
       "      <td>0.93</td>\n",
       "      <td>0.98</td>\n",
       "      <td>769.51</td>\n",
       "      <td>1969.51</td>\n",
       "    </tr>\n",
       "    <tr>\n",
       "      <th>334</th>\n",
       "      <td>399</td>\n",
       "      <td>12.06</td>\n",
       "      <td>5048.16</td>\n",
       "      <td>1</td>\n",
       "      <td>68 St-Hunter College</td>\n",
       "      <td>68 St-Hunter College (6)</td>\n",
       "      <td>68 St-Hunter College</td>\n",
       "      <td>399</td>\n",
       "      <td>628</td>\n",
       "      <td>M</td>\n",
       "      <td>...</td>\n",
       "      <td>628</td>\n",
       "      <td>399.0</td>\n",
       "      <td>23511.2</td>\n",
       "      <td>979.6</td>\n",
       "      <td>40.6</td>\n",
       "      <td>0.75</td>\n",
       "      <td>0.94</td>\n",
       "      <td>0.98</td>\n",
       "      <td>801.99</td>\n",
       "      <td>2001.99</td>\n",
       "    </tr>\n",
       "    <tr>\n",
       "      <th>389</th>\n",
       "      <td>475</td>\n",
       "      <td>6.83</td>\n",
       "      <td>3897.73</td>\n",
       "      <td>1</td>\n",
       "      <td>96 St</td>\n",
       "      <td>96 St (Q)</td>\n",
       "      <td>96 St</td>\n",
       "      <td>475</td>\n",
       "      <td>Q05</td>\n",
       "      <td>M</td>\n",
       "      <td>...</td>\n",
       "      <td>Q05</td>\n",
       "      <td>475.0</td>\n",
       "      <td>12472.6</td>\n",
       "      <td>519.7</td>\n",
       "      <td>38.0</td>\n",
       "      <td>0.27</td>\n",
       "      <td>0.80</td>\n",
       "      <td>0.98</td>\n",
       "      <td>497.22</td>\n",
       "      <td>1697.22</td>\n",
       "    </tr>\n",
       "  </tbody>\n",
       "</table>\n",
       "<p>10 rows × 24 columns</p>\n",
       "</div>"
      ],
      "text/plain": [
       "     Complex_ID    tph  hourly_trainset_area  Number Of Stations In Complex  \\\n",
       "372         447  12.23               5629.70                              1   \n",
       "391         477   6.83               3897.73                              1   \n",
       "130         164  20.04              11431.77                              1   \n",
       "390         476   6.83               3897.73                              1   \n",
       "262         318  21.75               9102.38                              1   \n",
       "401         610  48.92              19259.72                              3   \n",
       "95          120  11.38               5190.64                              1   \n",
       "375         450  11.15               5130.98                              1   \n",
       "334         399  12.06               5048.16                              1   \n",
       "389         475   6.83               3897.73                              1   \n",
       "\n",
       "                Stop Name                     Display Name  \\\n",
       "372      Flushing-Main St             Flushing-Main St (7)   \n",
       "391                 72 St                        72 St (Q)   \n",
       "130    34 St-Penn Station       34 St-Penn Station (A C E)   \n",
       "390                 86 St                        86 St (Q)   \n",
       "262    34 St-Penn Station       34 St-Penn Station (1 2 3)   \n",
       "401   Grand Central-42 St  Grand Central-42 St (4 5 6 7 S)   \n",
       "95             Bedford Av                   Bedford Av (L)   \n",
       "375   103 St-Corona Plaza          103 St-Corona Plaza (7)   \n",
       "334  68 St-Hunter College         68 St-Hunter College (6)   \n",
       "389                 96 St                        96 St (Q)   \n",
       "\n",
       "    Constituent Station Names    Station IDs  GTFS Stop IDs Borough  ...  \\\n",
       "372          Flushing-Main St            447            701       Q  ...   \n",
       "391                     72 St            477            Q03       M  ...   \n",
       "130        34 St-Penn Station            164            A28       M  ...   \n",
       "390                     86 St            476            Q04       M  ...   \n",
       "262        34 St-Penn Station            318            128       M  ...   \n",
       "401       Grand Central-42 St  402; 465; 469  631; 723; 901       M  ...   \n",
       "95                 Bedford Av            120            L08      Bk  ...   \n",
       "375       103 St-Corona Plaza            450            706       Q  ...   \n",
       "334      68 St-Hunter College            399            628       M  ...   \n",
       "389                     96 St            475            Q05       M  ...   \n",
       "\n",
       "    GTFS_Stop_IDs_Listed station_complex_id  avg_daily_ridership  \\\n",
       "372                  701              447.0              44896.8   \n",
       "391                  Q03              477.0              22113.0   \n",
       "130                  A28              164.0              56291.4   \n",
       "390                  Q04              476.0              16591.2   \n",
       "262                  128              318.0              50535.6   \n",
       "401                  631              610.0             108313.2   \n",
       "95                   L08              120.0              23684.6   \n",
       "375                  706              450.0              21788.0   \n",
       "334                  628              399.0              23511.2   \n",
       "389                  Q05              475.0              12472.6   \n",
       "\n",
       "     avg_hourly_ridership hourly_ridership_per_train_direction  \\\n",
       "372                1870.7                                 76.5   \n",
       "391                 921.4                                 67.5   \n",
       "130                2345.5                                 58.5   \n",
       "390                 691.3                                 50.6   \n",
       "262                2105.6                                 48.4   \n",
       "401                4513.0                                 46.1   \n",
       "95                  986.9                                 43.4   \n",
       "375                 907.8                                 40.7   \n",
       "334                 979.6                                 40.6   \n",
       "389                 519.7                                 38.0   \n",
       "\n",
       "     TPH_percent_rank  Ridership_percent_rank  Crowdedness_percent_rank  \\\n",
       "372              0.77                    0.98                      1.00   \n",
       "391              0.27                    0.93                      1.00   \n",
       "130              0.90                    0.99                      1.00   \n",
       "390              0.27                    0.88                      0.99   \n",
       "262              0.92                    0.98                      0.99   \n",
       "401              0.99                    1.00                      0.99   \n",
       "95               0.71                    0.94                      0.99   \n",
       "375              0.68                    0.93                      0.98   \n",
       "334              0.75                    0.94                      0.98   \n",
       "389              0.27                    0.80                      0.98   \n",
       "\n",
       "     distance_in_15  distance_in_30  \n",
       "372          807.52         2007.52  \n",
       "391          497.22         1697.22  \n",
       "130          960.48         2160.48  \n",
       "390          497.22         1697.22  \n",
       "262          979.31         2179.31  \n",
       "401         1101.88         2301.88  \n",
       "95           778.21         1978.21  \n",
       "375          769.51         1969.51  \n",
       "334          801.99         2001.99  \n",
       "389          497.22         1697.22  \n",
       "\n",
       "[10 rows x 24 columns]"
      ]
     },
     "execution_count": 59,
     "metadata": {},
     "output_type": "execute_result"
    }
   ],
   "source": [
    "# I think I'm not fully accounting for service changes (since I'm including late night)\n",
    "# station_complex_full_info.sort_values(by='hourly_ridership_per_train_direction')[0:10]\n",
    "station_complex_full_info.sort_values(by='hourly_ridership_per_train_direction', ascending=False)[0:10]"
   ]
  },
  {
   "cell_type": "code",
   "execution_count": 60,
   "metadata": {
    "ExecuteTime": {
     "end_time": "2024-03-22T21:44:34.106423Z",
     "start_time": "2024-03-22T21:44:34.082552Z"
    }
   },
   "outputs": [
    {
     "data": {
      "text/html": [
       "<div>\n",
       "<style scoped>\n",
       "    .dataframe tbody tr th:only-of-type {\n",
       "        vertical-align: middle;\n",
       "    }\n",
       "\n",
       "    .dataframe tbody tr th {\n",
       "        vertical-align: top;\n",
       "    }\n",
       "\n",
       "    .dataframe thead th {\n",
       "        text-align: right;\n",
       "    }\n",
       "</style>\n",
       "<table border=\"1\" class=\"dataframe\">\n",
       "  <thead>\n",
       "    <tr style=\"text-align: right;\">\n",
       "      <th></th>\n",
       "      <th>Complex_ID</th>\n",
       "      <th>tph</th>\n",
       "      <th>hourly_trainset_area</th>\n",
       "      <th>Number Of Stations In Complex</th>\n",
       "      <th>Stop Name</th>\n",
       "      <th>Display Name</th>\n",
       "      <th>Constituent Station Names</th>\n",
       "      <th>Station IDs</th>\n",
       "      <th>GTFS Stop IDs</th>\n",
       "      <th>Borough</th>\n",
       "      <th>...</th>\n",
       "      <th>GTFS_Stop_IDs_Listed</th>\n",
       "      <th>station_complex_id</th>\n",
       "      <th>avg_daily_ridership</th>\n",
       "      <th>avg_hourly_ridership</th>\n",
       "      <th>hourly_ridership_per_train_direction</th>\n",
       "      <th>TPH_percent_rank</th>\n",
       "      <th>Ridership_percent_rank</th>\n",
       "      <th>Crowdedness_percent_rank</th>\n",
       "      <th>distance_in_15</th>\n",
       "      <th>distance_in_30</th>\n",
       "    </tr>\n",
       "  </thead>\n",
       "  <tbody>\n",
       "    <tr>\n",
       "      <th>158</th>\n",
       "      <td>199</td>\n",
       "      <td>7.44</td>\n",
       "      <td>3244.15</td>\n",
       "      <td>1</td>\n",
       "      <td>Broad Channel</td>\n",
       "      <td>Broad Channel (A S)</td>\n",
       "      <td>Broad Channel</td>\n",
       "      <td>199</td>\n",
       "      <td>H04</td>\n",
       "      <td>Q</td>\n",
       "      <td>...</td>\n",
       "      <td>H04</td>\n",
       "      <td>199.0</td>\n",
       "      <td>220.4</td>\n",
       "      <td>9.2</td>\n",
       "      <td>0.6</td>\n",
       "      <td>0.38</td>\n",
       "      <td>0.00</td>\n",
       "      <td>0.00</td>\n",
       "      <td>554.84</td>\n",
       "      <td>1754.84</td>\n",
       "    </tr>\n",
       "    <tr>\n",
       "      <th>161</th>\n",
       "      <td>202</td>\n",
       "      <td>3.71</td>\n",
       "      <td>1117.03</td>\n",
       "      <td>1</td>\n",
       "      <td>Beach 105 St</td>\n",
       "      <td>Beach 105 St (A S)</td>\n",
       "      <td>Beach 105 St</td>\n",
       "      <td>202</td>\n",
       "      <td>H14</td>\n",
       "      <td>Q</td>\n",
       "      <td>...</td>\n",
       "      <td>H14</td>\n",
       "      <td>202.0</td>\n",
       "      <td>160.8</td>\n",
       "      <td>6.7</td>\n",
       "      <td>0.9</td>\n",
       "      <td>0.01</td>\n",
       "      <td>0.00</td>\n",
       "      <td>0.00</td>\n",
       "      <td>0.00</td>\n",
       "      <td>1106.20</td>\n",
       "    </tr>\n",
       "    <tr>\n",
       "      <th>160</th>\n",
       "      <td>201</td>\n",
       "      <td>3.71</td>\n",
       "      <td>1117.03</td>\n",
       "      <td>1</td>\n",
       "      <td>Beach 98 St</td>\n",
       "      <td>Beach 98 St (A S)</td>\n",
       "      <td>Beach 98 St</td>\n",
       "      <td>201</td>\n",
       "      <td>H13</td>\n",
       "      <td>Q</td>\n",
       "      <td>...</td>\n",
       "      <td>H13</td>\n",
       "      <td>201.0</td>\n",
       "      <td>281.4</td>\n",
       "      <td>11.7</td>\n",
       "      <td>1.6</td>\n",
       "      <td>0.01</td>\n",
       "      <td>0.01</td>\n",
       "      <td>0.01</td>\n",
       "      <td>0.00</td>\n",
       "      <td>1106.20</td>\n",
       "    </tr>\n",
       "    <tr>\n",
       "      <th>311</th>\n",
       "      <td>374</td>\n",
       "      <td>8.98</td>\n",
       "      <td>3757.78</td>\n",
       "      <td>1</td>\n",
       "      <td>E 143 St-St Mary's St</td>\n",
       "      <td>E 143 St-St Mary's St (6)</td>\n",
       "      <td>E 143 St-St Mary's St</td>\n",
       "      <td>374</td>\n",
       "      <td>616</td>\n",
       "      <td>Bx</td>\n",
       "      <td>...</td>\n",
       "      <td>616</td>\n",
       "      <td>374.0</td>\n",
       "      <td>974.2</td>\n",
       "      <td>40.6</td>\n",
       "      <td>2.3</td>\n",
       "      <td>0.44</td>\n",
       "      <td>0.03</td>\n",
       "      <td>0.01</td>\n",
       "      <td>665.48</td>\n",
       "      <td>1865.48</td>\n",
       "    </tr>\n",
       "    <tr>\n",
       "      <th>159</th>\n",
       "      <td>200</td>\n",
       "      <td>3.71</td>\n",
       "      <td>1117.03</td>\n",
       "      <td>1</td>\n",
       "      <td>Beach 90 St</td>\n",
       "      <td>Beach 90 St (A S)</td>\n",
       "      <td>Beach 90 St</td>\n",
       "      <td>200</td>\n",
       "      <td>H12</td>\n",
       "      <td>Q</td>\n",
       "      <td>...</td>\n",
       "      <td>H12</td>\n",
       "      <td>200.0</td>\n",
       "      <td>410.4</td>\n",
       "      <td>17.1</td>\n",
       "      <td>2.3</td>\n",
       "      <td>0.01</td>\n",
       "      <td>0.01</td>\n",
       "      <td>0.01</td>\n",
       "      <td>0.00</td>\n",
       "      <td>1106.20</td>\n",
       "    </tr>\n",
       "    <tr>\n",
       "      <th>43</th>\n",
       "      <td>57</td>\n",
       "      <td>13.06</td>\n",
       "      <td>7450.85</td>\n",
       "      <td>1</td>\n",
       "      <td>W 8 St-NY Aquarium</td>\n",
       "      <td>W 8 St-NY Aquarium (F Q)</td>\n",
       "      <td>W 8 St-NY Aquarium</td>\n",
       "      <td>57</td>\n",
       "      <td>D42</td>\n",
       "      <td>Bk</td>\n",
       "      <td>...</td>\n",
       "      <td>D42</td>\n",
       "      <td>57.0</td>\n",
       "      <td>1477.4</td>\n",
       "      <td>61.6</td>\n",
       "      <td>2.4</td>\n",
       "      <td>0.79</td>\n",
       "      <td>0.07</td>\n",
       "      <td>0.01</td>\n",
       "      <td>832.47</td>\n",
       "      <td>2032.47</td>\n",
       "    </tr>\n",
       "    <tr>\n",
       "      <th>199</th>\n",
       "      <td>247</td>\n",
       "      <td>8.08</td>\n",
       "      <td>4610.73</td>\n",
       "      <td>1</td>\n",
       "      <td>Bay Pkwy</td>\n",
       "      <td>Bay Pkwy (F)</td>\n",
       "      <td>Bay Pkwy</td>\n",
       "      <td>247</td>\n",
       "      <td>F32</td>\n",
       "      <td>Bk</td>\n",
       "      <td>...</td>\n",
       "      <td>F32</td>\n",
       "      <td>247.0</td>\n",
       "      <td>994.4</td>\n",
       "      <td>41.4</td>\n",
       "      <td>2.6</td>\n",
       "      <td>0.40</td>\n",
       "      <td>0.03</td>\n",
       "      <td>0.02</td>\n",
       "      <td>605.94</td>\n",
       "      <td>1805.94</td>\n",
       "    </tr>\n",
       "    <tr>\n",
       "      <th>105</th>\n",
       "      <td>133</td>\n",
       "      <td>10.98</td>\n",
       "      <td>5010.01</td>\n",
       "      <td>1</td>\n",
       "      <td>Atlantic Av</td>\n",
       "      <td>Atlantic Av (L)</td>\n",
       "      <td>Atlantic Av</td>\n",
       "      <td>133</td>\n",
       "      <td>L24</td>\n",
       "      <td>Bk</td>\n",
       "      <td>...</td>\n",
       "      <td>L24</td>\n",
       "      <td>133.0</td>\n",
       "      <td>1381.6</td>\n",
       "      <td>57.6</td>\n",
       "      <td>2.6</td>\n",
       "      <td>0.65</td>\n",
       "      <td>0.06</td>\n",
       "      <td>0.02</td>\n",
       "      <td>762.84</td>\n",
       "      <td>1962.84</td>\n",
       "    </tr>\n",
       "    <tr>\n",
       "      <th>162</th>\n",
       "      <td>203</td>\n",
       "      <td>3.71</td>\n",
       "      <td>1117.03</td>\n",
       "      <td>1</td>\n",
       "      <td>Rockaway Park-Beach 116 St</td>\n",
       "      <td>Rockaway Park-Beach 116 St (A S)</td>\n",
       "      <td>Rockaway Park-Beach 116 St</td>\n",
       "      <td>203</td>\n",
       "      <td>H15</td>\n",
       "      <td>Q</td>\n",
       "      <td>...</td>\n",
       "      <td>H15</td>\n",
       "      <td>203.0</td>\n",
       "      <td>496.6</td>\n",
       "      <td>20.7</td>\n",
       "      <td>2.8</td>\n",
       "      <td>0.01</td>\n",
       "      <td>0.01</td>\n",
       "      <td>0.02</td>\n",
       "      <td>0.00</td>\n",
       "      <td>1106.20</td>\n",
       "    </tr>\n",
       "    <tr>\n",
       "      <th>106</th>\n",
       "      <td>134</td>\n",
       "      <td>10.98</td>\n",
       "      <td>5010.01</td>\n",
       "      <td>1</td>\n",
       "      <td>Sutter Av</td>\n",
       "      <td>Sutter Av (L)</td>\n",
       "      <td>Sutter Av</td>\n",
       "      <td>134</td>\n",
       "      <td>L25</td>\n",
       "      <td>Bk</td>\n",
       "      <td>...</td>\n",
       "      <td>L25</td>\n",
       "      <td>134.0</td>\n",
       "      <td>1528.0</td>\n",
       "      <td>63.7</td>\n",
       "      <td>2.9</td>\n",
       "      <td>0.65</td>\n",
       "      <td>0.08</td>\n",
       "      <td>0.03</td>\n",
       "      <td>762.84</td>\n",
       "      <td>1962.84</td>\n",
       "    </tr>\n",
       "  </tbody>\n",
       "</table>\n",
       "<p>10 rows × 24 columns</p>\n",
       "</div>"
      ],
      "text/plain": [
       "     Complex_ID    tph  hourly_trainset_area  Number Of Stations In Complex  \\\n",
       "158         199   7.44               3244.15                              1   \n",
       "161         202   3.71               1117.03                              1   \n",
       "160         201   3.71               1117.03                              1   \n",
       "311         374   8.98               3757.78                              1   \n",
       "159         200   3.71               1117.03                              1   \n",
       "43           57  13.06               7450.85                              1   \n",
       "199         247   8.08               4610.73                              1   \n",
       "105         133  10.98               5010.01                              1   \n",
       "162         203   3.71               1117.03                              1   \n",
       "106         134  10.98               5010.01                              1   \n",
       "\n",
       "                      Stop Name                      Display Name  \\\n",
       "158               Broad Channel               Broad Channel (A S)   \n",
       "161                Beach 105 St                Beach 105 St (A S)   \n",
       "160                 Beach 98 St                 Beach 98 St (A S)   \n",
       "311       E 143 St-St Mary's St         E 143 St-St Mary's St (6)   \n",
       "159                 Beach 90 St                 Beach 90 St (A S)   \n",
       "43           W 8 St-NY Aquarium          W 8 St-NY Aquarium (F Q)   \n",
       "199                    Bay Pkwy                      Bay Pkwy (F)   \n",
       "105                 Atlantic Av                   Atlantic Av (L)   \n",
       "162  Rockaway Park-Beach 116 St  Rockaway Park-Beach 116 St (A S)   \n",
       "106                   Sutter Av                     Sutter Av (L)   \n",
       "\n",
       "      Constituent Station Names Station IDs GTFS Stop IDs Borough  ...  \\\n",
       "158               Broad Channel         199           H04       Q  ...   \n",
       "161                Beach 105 St         202           H14       Q  ...   \n",
       "160                 Beach 98 St         201           H13       Q  ...   \n",
       "311       E 143 St-St Mary's St         374           616      Bx  ...   \n",
       "159                 Beach 90 St         200           H12       Q  ...   \n",
       "43           W 8 St-NY Aquarium          57           D42      Bk  ...   \n",
       "199                    Bay Pkwy         247           F32      Bk  ...   \n",
       "105                 Atlantic Av         133           L24      Bk  ...   \n",
       "162  Rockaway Park-Beach 116 St         203           H15       Q  ...   \n",
       "106                   Sutter Av         134           L25      Bk  ...   \n",
       "\n",
       "    GTFS_Stop_IDs_Listed station_complex_id  avg_daily_ridership  \\\n",
       "158                  H04              199.0                220.4   \n",
       "161                  H14              202.0                160.8   \n",
       "160                  H13              201.0                281.4   \n",
       "311                  616              374.0                974.2   \n",
       "159                  H12              200.0                410.4   \n",
       "43                   D42               57.0               1477.4   \n",
       "199                  F32              247.0                994.4   \n",
       "105                  L24              133.0               1381.6   \n",
       "162                  H15              203.0                496.6   \n",
       "106                  L25              134.0               1528.0   \n",
       "\n",
       "     avg_hourly_ridership hourly_ridership_per_train_direction  \\\n",
       "158                   9.2                                  0.6   \n",
       "161                   6.7                                  0.9   \n",
       "160                  11.7                                  1.6   \n",
       "311                  40.6                                  2.3   \n",
       "159                  17.1                                  2.3   \n",
       "43                   61.6                                  2.4   \n",
       "199                  41.4                                  2.6   \n",
       "105                  57.6                                  2.6   \n",
       "162                  20.7                                  2.8   \n",
       "106                  63.7                                  2.9   \n",
       "\n",
       "     TPH_percent_rank  Ridership_percent_rank  Crowdedness_percent_rank  \\\n",
       "158              0.38                    0.00                      0.00   \n",
       "161              0.01                    0.00                      0.00   \n",
       "160              0.01                    0.01                      0.01   \n",
       "311              0.44                    0.03                      0.01   \n",
       "159              0.01                    0.01                      0.01   \n",
       "43               0.79                    0.07                      0.01   \n",
       "199              0.40                    0.03                      0.02   \n",
       "105              0.65                    0.06                      0.02   \n",
       "162              0.01                    0.01                      0.02   \n",
       "106              0.65                    0.08                      0.03   \n",
       "\n",
       "     distance_in_15  distance_in_30  \n",
       "158          554.84         1754.84  \n",
       "161            0.00         1106.20  \n",
       "160            0.00         1106.20  \n",
       "311          665.48         1865.48  \n",
       "159            0.00         1106.20  \n",
       "43           832.47         2032.47  \n",
       "199          605.94         1805.94  \n",
       "105          762.84         1962.84  \n",
       "162            0.00         1106.20  \n",
       "106          762.84         1962.84  \n",
       "\n",
       "[10 rows x 24 columns]"
      ]
     },
     "execution_count": 60,
     "metadata": {},
     "output_type": "execute_result"
    }
   ],
   "source": [
    "station_complex_full_info.sort_values(by='hourly_ridership_per_train_direction')[0:10]"
   ]
  },
  {
   "cell_type": "code",
   "execution_count": 61,
   "metadata": {
    "ExecuteTime": {
     "end_time": "2024-03-22T21:44:34.858864Z",
     "start_time": "2024-03-22T21:44:34.855369Z"
    }
   },
   "outputs": [
    {
     "data": {
      "text/plain": [
       "Index(['Complex_ID', 'tph', 'hourly_trainset_area',\n",
       "       'Number Of Stations In Complex', 'Stop Name', 'Display Name',\n",
       "       'Constituent Station Names', 'Station IDs', 'GTFS Stop IDs', 'Borough',\n",
       "       'Daytime Routes', 'Structure Type', 'Latitude', 'Longitude',\n",
       "       'GTFS_Stop_IDs_Listed', 'station_complex_id', 'avg_daily_ridership',\n",
       "       'avg_hourly_ridership', 'hourly_ridership_per_train_direction',\n",
       "       'TPH_percent_rank', 'Ridership_percent_rank',\n",
       "       'Crowdedness_percent_rank', 'distance_in_15', 'distance_in_30'],\n",
       "      dtype='object')"
      ]
     },
     "execution_count": 61,
     "metadata": {},
     "output_type": "execute_result"
    }
   ],
   "source": [
    "station_complex_full_info.columns"
   ]
  },
  {
   "cell_type": "code",
   "execution_count": 62,
   "metadata": {
    "ExecuteTime": {
     "end_time": "2024-03-22T21:44:35.607088Z",
     "start_time": "2024-03-22T21:44:35.573071Z"
    },
    "scrolled": true
   },
   "outputs": [
    {
     "data": {
      "text/html": [
       "<div>\n",
       "<style scoped>\n",
       "    .dataframe tbody tr th:only-of-type {\n",
       "        vertical-align: middle;\n",
       "    }\n",
       "\n",
       "    .dataframe tbody tr th {\n",
       "        vertical-align: top;\n",
       "    }\n",
       "\n",
       "    .dataframe thead th {\n",
       "        text-align: right;\n",
       "    }\n",
       "</style>\n",
       "<table border=\"1\" class=\"dataframe\">\n",
       "  <thead>\n",
       "    <tr style=\"text-align: right;\">\n",
       "      <th></th>\n",
       "      <th>Complex_ID</th>\n",
       "      <th>tph</th>\n",
       "      <th>hourly_trainset_area</th>\n",
       "      <th>Number Of Stations In Complex</th>\n",
       "      <th>Stop Name</th>\n",
       "      <th>Display Name</th>\n",
       "      <th>Constituent Station Names</th>\n",
       "      <th>Station IDs</th>\n",
       "      <th>GTFS Stop IDs</th>\n",
       "      <th>Borough</th>\n",
       "      <th>...</th>\n",
       "      <th>GTFS_Stop_IDs_Listed</th>\n",
       "      <th>station_complex_id</th>\n",
       "      <th>avg_daily_ridership</th>\n",
       "      <th>avg_hourly_ridership</th>\n",
       "      <th>hourly_ridership_per_train_direction</th>\n",
       "      <th>TPH_percent_rank</th>\n",
       "      <th>Ridership_percent_rank</th>\n",
       "      <th>Crowdedness_percent_rank</th>\n",
       "      <th>distance_in_15</th>\n",
       "      <th>distance_in_30</th>\n",
       "    </tr>\n",
       "  </thead>\n",
       "  <tbody>\n",
       "    <tr>\n",
       "      <th>105</th>\n",
       "      <td>133</td>\n",
       "      <td>10.98</td>\n",
       "      <td>5010.01</td>\n",
       "      <td>1</td>\n",
       "      <td>Atlantic Av</td>\n",
       "      <td>Atlantic Av (L)</td>\n",
       "      <td>Atlantic Av</td>\n",
       "      <td>133</td>\n",
       "      <td>L24</td>\n",
       "      <td>Bk</td>\n",
       "      <td>...</td>\n",
       "      <td>L24</td>\n",
       "      <td>133.0</td>\n",
       "      <td>1381.6</td>\n",
       "      <td>57.6</td>\n",
       "      <td>2.6</td>\n",
       "      <td>0.65</td>\n",
       "      <td>0.06</td>\n",
       "      <td>0.02</td>\n",
       "      <td>762.84</td>\n",
       "      <td>1962.84</td>\n",
       "    </tr>\n",
       "    <tr>\n",
       "      <th>106</th>\n",
       "      <td>134</td>\n",
       "      <td>10.98</td>\n",
       "      <td>5010.01</td>\n",
       "      <td>1</td>\n",
       "      <td>Sutter Av</td>\n",
       "      <td>Sutter Av (L)</td>\n",
       "      <td>Sutter Av</td>\n",
       "      <td>134</td>\n",
       "      <td>L25</td>\n",
       "      <td>Bk</td>\n",
       "      <td>...</td>\n",
       "      <td>L25</td>\n",
       "      <td>134.0</td>\n",
       "      <td>1528.0</td>\n",
       "      <td>63.7</td>\n",
       "      <td>2.9</td>\n",
       "      <td>0.65</td>\n",
       "      <td>0.08</td>\n",
       "      <td>0.03</td>\n",
       "      <td>762.84</td>\n",
       "      <td>1962.84</td>\n",
       "    </tr>\n",
       "    <tr>\n",
       "      <th>104</th>\n",
       "      <td>131</td>\n",
       "      <td>10.98</td>\n",
       "      <td>5010.01</td>\n",
       "      <td>1</td>\n",
       "      <td>Bushwick Av-Aberdeen St</td>\n",
       "      <td>Bushwick Av-Aberdeen St (L)</td>\n",
       "      <td>Bushwick Av-Aberdeen St</td>\n",
       "      <td>131</td>\n",
       "      <td>L21</td>\n",
       "      <td>Bk</td>\n",
       "      <td>...</td>\n",
       "      <td>L21</td>\n",
       "      <td>131.0</td>\n",
       "      <td>1829.0</td>\n",
       "      <td>76.2</td>\n",
       "      <td>3.5</td>\n",
       "      <td>0.65</td>\n",
       "      <td>0.11</td>\n",
       "      <td>0.04</td>\n",
       "      <td>762.84</td>\n",
       "      <td>1962.84</td>\n",
       "    </tr>\n",
       "    <tr>\n",
       "      <th>110</th>\n",
       "      <td>138</td>\n",
       "      <td>10.52</td>\n",
       "      <td>4800.87</td>\n",
       "      <td>1</td>\n",
       "      <td>Canarsie-Rockaway Pkwy</td>\n",
       "      <td>Canarsie-Rockaway Pkwy (L)</td>\n",
       "      <td>Canarsie-Rockaway Pkwy</td>\n",
       "      <td>138</td>\n",
       "      <td>L29</td>\n",
       "      <td>Bk</td>\n",
       "      <td>...</td>\n",
       "      <td>L29</td>\n",
       "      <td>138.0</td>\n",
       "      <td>1946.8</td>\n",
       "      <td>81.1</td>\n",
       "      <td>3.9</td>\n",
       "      <td>0.60</td>\n",
       "      <td>0.14</td>\n",
       "      <td>0.05</td>\n",
       "      <td>743.73</td>\n",
       "      <td>1943.73</td>\n",
       "    </tr>\n",
       "    <tr>\n",
       "      <th>107</th>\n",
       "      <td>135</td>\n",
       "      <td>10.98</td>\n",
       "      <td>5010.01</td>\n",
       "      <td>1</td>\n",
       "      <td>Livonia Av</td>\n",
       "      <td>Livonia Av (L)</td>\n",
       "      <td>Livonia Av</td>\n",
       "      <td>135</td>\n",
       "      <td>L26</td>\n",
       "      <td>Bk</td>\n",
       "      <td>...</td>\n",
       "      <td>L26</td>\n",
       "      <td>135.0</td>\n",
       "      <td>2097.0</td>\n",
       "      <td>87.4</td>\n",
       "      <td>4.0</td>\n",
       "      <td>0.65</td>\n",
       "      <td>0.16</td>\n",
       "      <td>0.06</td>\n",
       "      <td>762.84</td>\n",
       "      <td>1962.84</td>\n",
       "    </tr>\n",
       "    <tr>\n",
       "      <th>109</th>\n",
       "      <td>137</td>\n",
       "      <td>10.98</td>\n",
       "      <td>5010.01</td>\n",
       "      <td>1</td>\n",
       "      <td>East 105 St</td>\n",
       "      <td>East 105 St (L)</td>\n",
       "      <td>East 105 St</td>\n",
       "      <td>137</td>\n",
       "      <td>L28</td>\n",
       "      <td>Bk</td>\n",
       "      <td>...</td>\n",
       "      <td>L28</td>\n",
       "      <td>137.0</td>\n",
       "      <td>2130.2</td>\n",
       "      <td>88.8</td>\n",
       "      <td>4.0</td>\n",
       "      <td>0.65</td>\n",
       "      <td>0.17</td>\n",
       "      <td>0.06</td>\n",
       "      <td>762.84</td>\n",
       "      <td>1962.84</td>\n",
       "    </tr>\n",
       "    <tr>\n",
       "      <th>412</th>\n",
       "      <td>621</td>\n",
       "      <td>28.50</td>\n",
       "      <td>14340.80</td>\n",
       "      <td>3</td>\n",
       "      <td>Broadway Junction</td>\n",
       "      <td>Broadway Junction (A C J Z L)</td>\n",
       "      <td>Broadway Junction</td>\n",
       "      <td>92; 132; 184</td>\n",
       "      <td>A51; J27; L22</td>\n",
       "      <td>Bk</td>\n",
       "      <td>...</td>\n",
       "      <td>A51</td>\n",
       "      <td>621.0</td>\n",
       "      <td>5604.6</td>\n",
       "      <td>233.5</td>\n",
       "      <td>4.1</td>\n",
       "      <td>0.95</td>\n",
       "      <td>0.57</td>\n",
       "      <td>0.06</td>\n",
       "      <td>1031.58</td>\n",
       "      <td>2231.58</td>\n",
       "    </tr>\n",
       "    <tr>\n",
       "      <th>108</th>\n",
       "      <td>136</td>\n",
       "      <td>10.98</td>\n",
       "      <td>5010.01</td>\n",
       "      <td>1</td>\n",
       "      <td>New Lots Av</td>\n",
       "      <td>New Lots Av (L)</td>\n",
       "      <td>New Lots Av</td>\n",
       "      <td>136</td>\n",
       "      <td>L27</td>\n",
       "      <td>Bk</td>\n",
       "      <td>...</td>\n",
       "      <td>L27</td>\n",
       "      <td>136.0</td>\n",
       "      <td>2481.0</td>\n",
       "      <td>103.4</td>\n",
       "      <td>4.7</td>\n",
       "      <td>0.65</td>\n",
       "      <td>0.20</td>\n",
       "      <td>0.08</td>\n",
       "      <td>762.84</td>\n",
       "      <td>1962.84</td>\n",
       "    </tr>\n",
       "    <tr>\n",
       "      <th>103</th>\n",
       "      <td>130</td>\n",
       "      <td>10.98</td>\n",
       "      <td>5010.01</td>\n",
       "      <td>1</td>\n",
       "      <td>Wilson Av</td>\n",
       "      <td>Wilson Av (L)</td>\n",
       "      <td>Wilson Av</td>\n",
       "      <td>130</td>\n",
       "      <td>L20</td>\n",
       "      <td>Bk</td>\n",
       "      <td>...</td>\n",
       "      <td>L20</td>\n",
       "      <td>130.0</td>\n",
       "      <td>3183.2</td>\n",
       "      <td>132.6</td>\n",
       "      <td>6.0</td>\n",
       "      <td>0.65</td>\n",
       "      <td>0.29</td>\n",
       "      <td>0.16</td>\n",
       "      <td>762.84</td>\n",
       "      <td>1962.84</td>\n",
       "    </tr>\n",
       "    <tr>\n",
       "      <th>102</th>\n",
       "      <td>129</td>\n",
       "      <td>10.98</td>\n",
       "      <td>5010.01</td>\n",
       "      <td>1</td>\n",
       "      <td>Halsey St</td>\n",
       "      <td>Halsey St (L)</td>\n",
       "      <td>Halsey St</td>\n",
       "      <td>129</td>\n",
       "      <td>L19</td>\n",
       "      <td>Q</td>\n",
       "      <td>...</td>\n",
       "      <td>L19</td>\n",
       "      <td>129.0</td>\n",
       "      <td>4849.8</td>\n",
       "      <td>202.1</td>\n",
       "      <td>9.2</td>\n",
       "      <td>0.65</td>\n",
       "      <td>0.50</td>\n",
       "      <td>0.35</td>\n",
       "      <td>762.84</td>\n",
       "      <td>1962.84</td>\n",
       "    </tr>\n",
       "    <tr>\n",
       "      <th>97</th>\n",
       "      <td>123</td>\n",
       "      <td>11.38</td>\n",
       "      <td>5190.64</td>\n",
       "      <td>1</td>\n",
       "      <td>Grand St</td>\n",
       "      <td>Grand St (L)</td>\n",
       "      <td>Grand St</td>\n",
       "      <td>123</td>\n",
       "      <td>L12</td>\n",
       "      <td>Bk</td>\n",
       "      <td>...</td>\n",
       "      <td>L12</td>\n",
       "      <td>123.0</td>\n",
       "      <td>5122.2</td>\n",
       "      <td>213.4</td>\n",
       "      <td>9.4</td>\n",
       "      <td>0.71</td>\n",
       "      <td>0.53</td>\n",
       "      <td>0.36</td>\n",
       "      <td>778.21</td>\n",
       "      <td>1978.21</td>\n",
       "    </tr>\n",
       "    <tr>\n",
       "      <th>93</th>\n",
       "      <td>118</td>\n",
       "      <td>11.38</td>\n",
       "      <td>5190.64</td>\n",
       "      <td>1</td>\n",
       "      <td>3 Av</td>\n",
       "      <td>3 Av (L)</td>\n",
       "      <td>3 Av</td>\n",
       "      <td>118</td>\n",
       "      <td>L05</td>\n",
       "      <td>M</td>\n",
       "      <td>...</td>\n",
       "      <td>L05</td>\n",
       "      <td>118.0</td>\n",
       "      <td>5163.4</td>\n",
       "      <td>215.1</td>\n",
       "      <td>9.5</td>\n",
       "      <td>0.71</td>\n",
       "      <td>0.53</td>\n",
       "      <td>0.37</td>\n",
       "      <td>778.21</td>\n",
       "      <td>1978.21</td>\n",
       "    </tr>\n",
       "    <tr>\n",
       "      <th>98</th>\n",
       "      <td>124</td>\n",
       "      <td>11.38</td>\n",
       "      <td>5190.64</td>\n",
       "      <td>1</td>\n",
       "      <td>Montrose Av</td>\n",
       "      <td>Montrose Av (L)</td>\n",
       "      <td>Montrose Av</td>\n",
       "      <td>124</td>\n",
       "      <td>L13</td>\n",
       "      <td>Bk</td>\n",
       "      <td>...</td>\n",
       "      <td>L13</td>\n",
       "      <td>124.0</td>\n",
       "      <td>5283.4</td>\n",
       "      <td>220.1</td>\n",
       "      <td>9.7</td>\n",
       "      <td>0.71</td>\n",
       "      <td>0.54</td>\n",
       "      <td>0.39</td>\n",
       "      <td>778.21</td>\n",
       "      <td>1978.21</td>\n",
       "    </tr>\n",
       "    <tr>\n",
       "      <th>99</th>\n",
       "      <td>125</td>\n",
       "      <td>11.38</td>\n",
       "      <td>5190.64</td>\n",
       "      <td>1</td>\n",
       "      <td>Morgan Av</td>\n",
       "      <td>Morgan Av (L)</td>\n",
       "      <td>Morgan Av</td>\n",
       "      <td>125</td>\n",
       "      <td>L14</td>\n",
       "      <td>Bk</td>\n",
       "      <td>...</td>\n",
       "      <td>L14</td>\n",
       "      <td>125.0</td>\n",
       "      <td>5499.0</td>\n",
       "      <td>229.1</td>\n",
       "      <td>10.1</td>\n",
       "      <td>0.71</td>\n",
       "      <td>0.56</td>\n",
       "      <td>0.41</td>\n",
       "      <td>778.21</td>\n",
       "      <td>1978.21</td>\n",
       "    </tr>\n",
       "    <tr>\n",
       "      <th>100</th>\n",
       "      <td>126</td>\n",
       "      <td>11.38</td>\n",
       "      <td>5190.64</td>\n",
       "      <td>1</td>\n",
       "      <td>Jefferson St</td>\n",
       "      <td>Jefferson St (L)</td>\n",
       "      <td>Jefferson St</td>\n",
       "      <td>126</td>\n",
       "      <td>L15</td>\n",
       "      <td>Bk</td>\n",
       "      <td>...</td>\n",
       "      <td>L15</td>\n",
       "      <td>126.0</td>\n",
       "      <td>6029.8</td>\n",
       "      <td>251.2</td>\n",
       "      <td>11.0</td>\n",
       "      <td>0.71</td>\n",
       "      <td>0.60</td>\n",
       "      <td>0.45</td>\n",
       "      <td>778.21</td>\n",
       "      <td>1978.21</td>\n",
       "    </tr>\n",
       "    <tr>\n",
       "      <th>96</th>\n",
       "      <td>122</td>\n",
       "      <td>11.38</td>\n",
       "      <td>5190.64</td>\n",
       "      <td>1</td>\n",
       "      <td>Graham Av</td>\n",
       "      <td>Graham Av (L)</td>\n",
       "      <td>Graham Av</td>\n",
       "      <td>122</td>\n",
       "      <td>L11</td>\n",
       "      <td>Bk</td>\n",
       "      <td>...</td>\n",
       "      <td>L11</td>\n",
       "      <td>122.0</td>\n",
       "      <td>7129.8</td>\n",
       "      <td>297.1</td>\n",
       "      <td>13.1</td>\n",
       "      <td>0.71</td>\n",
       "      <td>0.65</td>\n",
       "      <td>0.55</td>\n",
       "      <td>778.21</td>\n",
       "      <td>1978.21</td>\n",
       "    </tr>\n",
       "    <tr>\n",
       "      <th>420</th>\n",
       "      <td>629</td>\n",
       "      <td>17.59</td>\n",
       "      <td>7403.91</td>\n",
       "      <td>2</td>\n",
       "      <td>Metropolitan Av/Lorimer St</td>\n",
       "      <td>Metropolitan Av/Lorimer St (G L)</td>\n",
       "      <td>Lorimer St; Metropolitan Av</td>\n",
       "      <td>121; 285</td>\n",
       "      <td>G29; L10</td>\n",
       "      <td>Bk</td>\n",
       "      <td>...</td>\n",
       "      <td>G29</td>\n",
       "      <td>629.0</td>\n",
       "      <td>11251.2</td>\n",
       "      <td>468.8</td>\n",
       "      <td>13.3</td>\n",
       "      <td>0.88</td>\n",
       "      <td>0.79</td>\n",
       "      <td>0.56</td>\n",
       "      <td>927.12</td>\n",
       "      <td>2127.12</td>\n",
       "    </tr>\n",
       "    <tr>\n",
       "      <th>392</th>\n",
       "      <td>601</td>\n",
       "      <td>45.17</td>\n",
       "      <td>20714.77</td>\n",
       "      <td>3</td>\n",
       "      <td>14 St/6 Av</td>\n",
       "      <td>14 St/6 Av (1 2 3 L F M)</td>\n",
       "      <td>14 St; 6 Av</td>\n",
       "      <td>116; 229; 322</td>\n",
       "      <td>132; D19; L02</td>\n",
       "      <td>M</td>\n",
       "      <td>...</td>\n",
       "      <td>132</td>\n",
       "      <td>601.0</td>\n",
       "      <td>30055.0</td>\n",
       "      <td>1252.3</td>\n",
       "      <td>13.9</td>\n",
       "      <td>0.99</td>\n",
       "      <td>0.95</td>\n",
       "      <td>0.60</td>\n",
       "      <td>1093.73</td>\n",
       "      <td>2293.73</td>\n",
       "    </tr>\n",
       "    <tr>\n",
       "      <th>101</th>\n",
       "      <td>127</td>\n",
       "      <td>11.38</td>\n",
       "      <td>5190.64</td>\n",
       "      <td>1</td>\n",
       "      <td>DeKalb Av</td>\n",
       "      <td>DeKalb Av (L)</td>\n",
       "      <td>DeKalb Av</td>\n",
       "      <td>127</td>\n",
       "      <td>L16</td>\n",
       "      <td>Bk</td>\n",
       "      <td>...</td>\n",
       "      <td>L16</td>\n",
       "      <td>127.0</td>\n",
       "      <td>9030.4</td>\n",
       "      <td>376.3</td>\n",
       "      <td>16.5</td>\n",
       "      <td>0.71</td>\n",
       "      <td>0.73</td>\n",
       "      <td>0.71</td>\n",
       "      <td>778.21</td>\n",
       "      <td>1978.21</td>\n",
       "    </tr>\n",
       "    <tr>\n",
       "      <th>421</th>\n",
       "      <td>630</td>\n",
       "      <td>16.73</td>\n",
       "      <td>7633.85</td>\n",
       "      <td>2</td>\n",
       "      <td>Myrtle-Wyckoff Avs</td>\n",
       "      <td>Myrtle-Wyckoff Avs (M L)</td>\n",
       "      <td>Myrtle-Wyckoff Avs</td>\n",
       "      <td>112; 128</td>\n",
       "      <td>L17; M08</td>\n",
       "      <td>Bk</td>\n",
       "      <td>...</td>\n",
       "      <td>L17</td>\n",
       "      <td>630.0</td>\n",
       "      <td>15695.0</td>\n",
       "      <td>654.0</td>\n",
       "      <td>19.5</td>\n",
       "      <td>0.88</td>\n",
       "      <td>0.86</td>\n",
       "      <td>0.79</td>\n",
       "      <td>913.09</td>\n",
       "      <td>2113.09</td>\n",
       "    </tr>\n",
       "    <tr>\n",
       "      <th>409</th>\n",
       "      <td>618</td>\n",
       "      <td>31.42</td>\n",
       "      <td>16622.41</td>\n",
       "      <td>2</td>\n",
       "      <td>14 St/8 Av</td>\n",
       "      <td>14 St/8 Av (A C E L)</td>\n",
       "      <td>14 St; 8 Av</td>\n",
       "      <td>115; 166</td>\n",
       "      <td>A31; L01</td>\n",
       "      <td>M</td>\n",
       "      <td>...</td>\n",
       "      <td>A31</td>\n",
       "      <td>618.0</td>\n",
       "      <td>32720.4</td>\n",
       "      <td>1363.4</td>\n",
       "      <td>21.7</td>\n",
       "      <td>0.96</td>\n",
       "      <td>0.96</td>\n",
       "      <td>0.84</td>\n",
       "      <td>1047.23</td>\n",
       "      <td>2247.23</td>\n",
       "    </tr>\n",
       "    <tr>\n",
       "      <th>393</th>\n",
       "      <td>602</td>\n",
       "      <td>58.22</td>\n",
       "      <td>28113.20</td>\n",
       "      <td>3</td>\n",
       "      <td>14 St-Union Sq</td>\n",
       "      <td>14 St-Union Sq (4 5 6 L N Q R W)</td>\n",
       "      <td>14 St-Union Sq</td>\n",
       "      <td>15; 117; 406</td>\n",
       "      <td>635; L03; R20</td>\n",
       "      <td>M</td>\n",
       "      <td>...</td>\n",
       "      <td>635</td>\n",
       "      <td>602.0</td>\n",
       "      <td>69268.4</td>\n",
       "      <td>2886.2</td>\n",
       "      <td>24.8</td>\n",
       "      <td>1.00</td>\n",
       "      <td>0.99</td>\n",
       "      <td>0.88</td>\n",
       "      <td>1117.55</td>\n",
       "      <td>2317.55</td>\n",
       "    </tr>\n",
       "    <tr>\n",
       "      <th>94</th>\n",
       "      <td>119</td>\n",
       "      <td>11.38</td>\n",
       "      <td>5190.64</td>\n",
       "      <td>1</td>\n",
       "      <td>1 Av</td>\n",
       "      <td>1 Av (L)</td>\n",
       "      <td>1 Av</td>\n",
       "      <td>119</td>\n",
       "      <td>L06</td>\n",
       "      <td>M</td>\n",
       "      <td>...</td>\n",
       "      <td>L06</td>\n",
       "      <td>119.0</td>\n",
       "      <td>18067.2</td>\n",
       "      <td>752.8</td>\n",
       "      <td>33.1</td>\n",
       "      <td>0.71</td>\n",
       "      <td>0.90</td>\n",
       "      <td>0.95</td>\n",
       "      <td>778.21</td>\n",
       "      <td>1978.21</td>\n",
       "    </tr>\n",
       "    <tr>\n",
       "      <th>95</th>\n",
       "      <td>120</td>\n",
       "      <td>11.38</td>\n",
       "      <td>5190.64</td>\n",
       "      <td>1</td>\n",
       "      <td>Bedford Av</td>\n",
       "      <td>Bedford Av (L)</td>\n",
       "      <td>Bedford Av</td>\n",
       "      <td>120</td>\n",
       "      <td>L08</td>\n",
       "      <td>Bk</td>\n",
       "      <td>...</td>\n",
       "      <td>L08</td>\n",
       "      <td>120.0</td>\n",
       "      <td>23684.6</td>\n",
       "      <td>986.9</td>\n",
       "      <td>43.4</td>\n",
       "      <td>0.71</td>\n",
       "      <td>0.94</td>\n",
       "      <td>0.99</td>\n",
       "      <td>778.21</td>\n",
       "      <td>1978.21</td>\n",
       "    </tr>\n",
       "  </tbody>\n",
       "</table>\n",
       "<p>24 rows × 24 columns</p>\n",
       "</div>"
      ],
      "text/plain": [
       "     Complex_ID    tph  hourly_trainset_area  Number Of Stations In Complex  \\\n",
       "105         133  10.98               5010.01                              1   \n",
       "106         134  10.98               5010.01                              1   \n",
       "104         131  10.98               5010.01                              1   \n",
       "110         138  10.52               4800.87                              1   \n",
       "107         135  10.98               5010.01                              1   \n",
       "109         137  10.98               5010.01                              1   \n",
       "412         621  28.50              14340.80                              3   \n",
       "108         136  10.98               5010.01                              1   \n",
       "103         130  10.98               5010.01                              1   \n",
       "102         129  10.98               5010.01                              1   \n",
       "97          123  11.38               5190.64                              1   \n",
       "93          118  11.38               5190.64                              1   \n",
       "98          124  11.38               5190.64                              1   \n",
       "99          125  11.38               5190.64                              1   \n",
       "100         126  11.38               5190.64                              1   \n",
       "96          122  11.38               5190.64                              1   \n",
       "420         629  17.59               7403.91                              2   \n",
       "392         601  45.17              20714.77                              3   \n",
       "101         127  11.38               5190.64                              1   \n",
       "421         630  16.73               7633.85                              2   \n",
       "409         618  31.42              16622.41                              2   \n",
       "393         602  58.22              28113.20                              3   \n",
       "94          119  11.38               5190.64                              1   \n",
       "95          120  11.38               5190.64                              1   \n",
       "\n",
       "                      Stop Name                      Display Name  \\\n",
       "105                 Atlantic Av                   Atlantic Av (L)   \n",
       "106                   Sutter Av                     Sutter Av (L)   \n",
       "104     Bushwick Av-Aberdeen St       Bushwick Av-Aberdeen St (L)   \n",
       "110      Canarsie-Rockaway Pkwy        Canarsie-Rockaway Pkwy (L)   \n",
       "107                  Livonia Av                    Livonia Av (L)   \n",
       "109                 East 105 St                   East 105 St (L)   \n",
       "412           Broadway Junction     Broadway Junction (A C J Z L)   \n",
       "108                 New Lots Av                   New Lots Av (L)   \n",
       "103                   Wilson Av                     Wilson Av (L)   \n",
       "102                   Halsey St                     Halsey St (L)   \n",
       "97                     Grand St                      Grand St (L)   \n",
       "93                         3 Av                          3 Av (L)   \n",
       "98                  Montrose Av                   Montrose Av (L)   \n",
       "99                    Morgan Av                     Morgan Av (L)   \n",
       "100                Jefferson St                  Jefferson St (L)   \n",
       "96                    Graham Av                     Graham Av (L)   \n",
       "420  Metropolitan Av/Lorimer St  Metropolitan Av/Lorimer St (G L)   \n",
       "392                  14 St/6 Av          14 St/6 Av (1 2 3 L F M)   \n",
       "101                   DeKalb Av                     DeKalb Av (L)   \n",
       "421          Myrtle-Wyckoff Avs          Myrtle-Wyckoff Avs (M L)   \n",
       "409                  14 St/8 Av              14 St/8 Av (A C E L)   \n",
       "393              14 St-Union Sq  14 St-Union Sq (4 5 6 L N Q R W)   \n",
       "94                         1 Av                          1 Av (L)   \n",
       "95                   Bedford Av                    Bedford Av (L)   \n",
       "\n",
       "       Constituent Station Names    Station IDs  GTFS Stop IDs Borough  ...  \\\n",
       "105                  Atlantic Av            133            L24      Bk  ...   \n",
       "106                    Sutter Av            134            L25      Bk  ...   \n",
       "104      Bushwick Av-Aberdeen St            131            L21      Bk  ...   \n",
       "110       Canarsie-Rockaway Pkwy            138            L29      Bk  ...   \n",
       "107                   Livonia Av            135            L26      Bk  ...   \n",
       "109                  East 105 St            137            L28      Bk  ...   \n",
       "412            Broadway Junction   92; 132; 184  A51; J27; L22      Bk  ...   \n",
       "108                  New Lots Av            136            L27      Bk  ...   \n",
       "103                    Wilson Av            130            L20      Bk  ...   \n",
       "102                    Halsey St            129            L19       Q  ...   \n",
       "97                      Grand St            123            L12      Bk  ...   \n",
       "93                          3 Av            118            L05       M  ...   \n",
       "98                   Montrose Av            124            L13      Bk  ...   \n",
       "99                     Morgan Av            125            L14      Bk  ...   \n",
       "100                 Jefferson St            126            L15      Bk  ...   \n",
       "96                     Graham Av            122            L11      Bk  ...   \n",
       "420  Lorimer St; Metropolitan Av       121; 285       G29; L10      Bk  ...   \n",
       "392                  14 St; 6 Av  116; 229; 322  132; D19; L02       M  ...   \n",
       "101                    DeKalb Av            127            L16      Bk  ...   \n",
       "421           Myrtle-Wyckoff Avs       112; 128       L17; M08      Bk  ...   \n",
       "409                  14 St; 8 Av       115; 166       A31; L01       M  ...   \n",
       "393               14 St-Union Sq   15; 117; 406  635; L03; R20       M  ...   \n",
       "94                          1 Av            119            L06       M  ...   \n",
       "95                    Bedford Av            120            L08      Bk  ...   \n",
       "\n",
       "    GTFS_Stop_IDs_Listed station_complex_id  avg_daily_ridership  \\\n",
       "105                  L24              133.0               1381.6   \n",
       "106                  L25              134.0               1528.0   \n",
       "104                  L21              131.0               1829.0   \n",
       "110                  L29              138.0               1946.8   \n",
       "107                  L26              135.0               2097.0   \n",
       "109                  L28              137.0               2130.2   \n",
       "412                  A51              621.0               5604.6   \n",
       "108                  L27              136.0               2481.0   \n",
       "103                  L20              130.0               3183.2   \n",
       "102                  L19              129.0               4849.8   \n",
       "97                   L12              123.0               5122.2   \n",
       "93                   L05              118.0               5163.4   \n",
       "98                   L13              124.0               5283.4   \n",
       "99                   L14              125.0               5499.0   \n",
       "100                  L15              126.0               6029.8   \n",
       "96                   L11              122.0               7129.8   \n",
       "420                  G29              629.0              11251.2   \n",
       "392                  132              601.0              30055.0   \n",
       "101                  L16              127.0               9030.4   \n",
       "421                  L17              630.0              15695.0   \n",
       "409                  A31              618.0              32720.4   \n",
       "393                  635              602.0              69268.4   \n",
       "94                   L06              119.0              18067.2   \n",
       "95                   L08              120.0              23684.6   \n",
       "\n",
       "     avg_hourly_ridership hourly_ridership_per_train_direction  \\\n",
       "105                  57.6                                  2.6   \n",
       "106                  63.7                                  2.9   \n",
       "104                  76.2                                  3.5   \n",
       "110                  81.1                                  3.9   \n",
       "107                  87.4                                  4.0   \n",
       "109                  88.8                                  4.0   \n",
       "412                 233.5                                  4.1   \n",
       "108                 103.4                                  4.7   \n",
       "103                 132.6                                  6.0   \n",
       "102                 202.1                                  9.2   \n",
       "97                  213.4                                  9.4   \n",
       "93                  215.1                                  9.5   \n",
       "98                  220.1                                  9.7   \n",
       "99                  229.1                                 10.1   \n",
       "100                 251.2                                 11.0   \n",
       "96                  297.1                                 13.1   \n",
       "420                 468.8                                 13.3   \n",
       "392                1252.3                                 13.9   \n",
       "101                 376.3                                 16.5   \n",
       "421                 654.0                                 19.5   \n",
       "409                1363.4                                 21.7   \n",
       "393                2886.2                                 24.8   \n",
       "94                  752.8                                 33.1   \n",
       "95                  986.9                                 43.4   \n",
       "\n",
       "     TPH_percent_rank  Ridership_percent_rank  Crowdedness_percent_rank  \\\n",
       "105              0.65                    0.06                      0.02   \n",
       "106              0.65                    0.08                      0.03   \n",
       "104              0.65                    0.11                      0.04   \n",
       "110              0.60                    0.14                      0.05   \n",
       "107              0.65                    0.16                      0.06   \n",
       "109              0.65                    0.17                      0.06   \n",
       "412              0.95                    0.57                      0.06   \n",
       "108              0.65                    0.20                      0.08   \n",
       "103              0.65                    0.29                      0.16   \n",
       "102              0.65                    0.50                      0.35   \n",
       "97               0.71                    0.53                      0.36   \n",
       "93               0.71                    0.53                      0.37   \n",
       "98               0.71                    0.54                      0.39   \n",
       "99               0.71                    0.56                      0.41   \n",
       "100              0.71                    0.60                      0.45   \n",
       "96               0.71                    0.65                      0.55   \n",
       "420              0.88                    0.79                      0.56   \n",
       "392              0.99                    0.95                      0.60   \n",
       "101              0.71                    0.73                      0.71   \n",
       "421              0.88                    0.86                      0.79   \n",
       "409              0.96                    0.96                      0.84   \n",
       "393              1.00                    0.99                      0.88   \n",
       "94               0.71                    0.90                      0.95   \n",
       "95               0.71                    0.94                      0.99   \n",
       "\n",
       "     distance_in_15  distance_in_30  \n",
       "105          762.84         1962.84  \n",
       "106          762.84         1962.84  \n",
       "104          762.84         1962.84  \n",
       "110          743.73         1943.73  \n",
       "107          762.84         1962.84  \n",
       "109          762.84         1962.84  \n",
       "412         1031.58         2231.58  \n",
       "108          762.84         1962.84  \n",
       "103          762.84         1962.84  \n",
       "102          762.84         1962.84  \n",
       "97           778.21         1978.21  \n",
       "93           778.21         1978.21  \n",
       "98           778.21         1978.21  \n",
       "99           778.21         1978.21  \n",
       "100          778.21         1978.21  \n",
       "96           778.21         1978.21  \n",
       "420          927.12         2127.12  \n",
       "392         1093.73         2293.73  \n",
       "101          778.21         1978.21  \n",
       "421          913.09         2113.09  \n",
       "409         1047.23         2247.23  \n",
       "393         1117.55         2317.55  \n",
       "94           778.21         1978.21  \n",
       "95           778.21         1978.21  \n",
       "\n",
       "[24 rows x 24 columns]"
      ]
     },
     "execution_count": 62,
     "metadata": {},
     "output_type": "execute_result"
    }
   ],
   "source": [
    "station_complex_full_info.sort_values(by='hourly_ridership_per_train_direction')[\n",
    "    station_complex_full_info['Daytime Routes'].str.contains('L')]"
   ]
  },
  {
   "cell_type": "markdown",
   "metadata": {},
   "source": [
    "# Saving Transformed Data"
   ]
  },
  {
   "cell_type": "code",
   "execution_count": 63,
   "metadata": {
    "ExecuteTime": {
     "end_time": "2024-03-22T21:44:36.363698Z",
     "start_time": "2024-03-22T21:44:36.345566Z"
    }
   },
   "outputs": [],
   "source": [
    "station_complex_full_info.to_csv(\"station_complex_full_info_w_radii.csv\")"
   ]
  },
  {
   "cell_type": "code",
   "execution_count": null,
   "metadata": {},
   "outputs": [],
   "source": []
  },
  {
   "cell_type": "code",
   "execution_count": null,
   "metadata": {},
   "outputs": [],
   "source": []
  }
 ],
 "metadata": {
  "kernelspec": {
   "display_name": "Python [conda env:learn-env] *",
   "language": "python",
   "name": "conda-env-learn-env-py"
  },
  "language_info": {
   "codemirror_mode": {
    "name": "ipython",
    "version": 3
   },
   "file_extension": ".py",
   "mimetype": "text/x-python",
   "name": "python",
   "nbconvert_exporter": "python",
   "pygments_lexer": "ipython3",
   "version": "3.6.9"
  },
  "toc": {
   "base_numbering": 1,
   "nav_menu": {},
   "number_sections": true,
   "sideBar": true,
   "skip_h1_title": false,
   "title_cell": "Table of Contents",
   "title_sidebar": "Contents",
   "toc_cell": false,
   "toc_position": {
    "height": "calc(100% - 180px)",
    "left": "10px",
    "top": "150px",
    "width": "349.510864px"
   },
   "toc_section_display": true,
   "toc_window_display": true
  },
  "varInspector": {
   "cols": {
    "lenName": 16,
    "lenType": 16,
    "lenVar": 40
   },
   "kernels_config": {
    "python": {
     "delete_cmd_postfix": "",
     "delete_cmd_prefix": "del ",
     "library": "var_list.py",
     "varRefreshCmd": "print(var_dic_list())"
    },
    "r": {
     "delete_cmd_postfix": ") ",
     "delete_cmd_prefix": "rm(",
     "library": "var_list.r",
     "varRefreshCmd": "cat(var_dic_list()) "
    }
   },
   "position": {
    "height": "916.603271px",
    "left": "1661.391357px",
    "right": "20px",
    "top": "121.000008px",
    "width": "350px"
   },
   "types_to_exclude": [
    "module",
    "function",
    "builtin_function_or_method",
    "instance",
    "_Feature"
   ],
   "window_display": false
  }
 },
 "nbformat": 4,
 "nbformat_minor": 2
}
