{
 "cells": [
  {
   "cell_type": "markdown",
   "metadata": {},
   "source": [
    "*Extra analysis of the subway service ridership scripts*. In particular, applying different factors to get a better estimate of 2025 ridership. "
   ]
  },
  {
   "cell_type": "markdown",
   "metadata": {},
   "source": [
    "# Imports/Installation"
   ]
  },
  {
   "cell_type": "code",
   "execution_count": 17,
   "metadata": {},
   "outputs": [],
   "source": [
    "import gtfs_kit as gk\n",
    "import pandas as pd \n",
    "import folium\n",
    "from geodatasets import get_path\n",
    "import shapely\n",
    "import geopandas as gpd\n",
    "import seaborn as sns\n",
    "import matplotlib.pyplot as plt\n",
    "import matplotlib as mpl\n",
    "from matplotlib.cm import tab20\n",
    "import matplotlib.cm as cm\n",
    "import matplotlib.colors as mcolors\n",
    "mpl.rcParams['figure.dpi'] = 150"
   ]
  },
  {
   "cell_type": "code",
   "execution_count": 4,
   "metadata": {},
   "outputs": [],
   "source": [
    "orig_stations_df = pd.read_csv(\"../data/MTA_Subway_Stations_20240325.csv\")\n",
    "orig_stations_df = orig_stations_df[orig_stations_df['Borough']!='SI'] \n",
    "orig_stations_df = orig_stations_df.drop(columns=['Division', 'ADA', 'ADA Northbound', 'ADA Southbound', 'ADA Notes'\n",
    "                                                , 'North Direction Label', 'South Direction Label'])"
   ]
  },
  {
   "cell_type": "code",
   "execution_count": 7,
   "metadata": {},
   "outputs": [],
   "source": [
    "yearly_ridership = pd.read_csv(\"../saved_data/routes_yearly_ridership.csv\", index_col=0)"
   ]
  },
  {
   "cell_type": "markdown",
   "metadata": {},
   "source": [
    "# Adjusting Yearly Ridership DataFrame"
   ]
  },
  {
   "cell_type": "code",
   "execution_count": null,
   "metadata": {},
   "outputs": [],
   "source": [
    "# 2024 ridership (Q1 and Q2)\n",
    "# https://data.ny.gov/Transportation/MTA-Subway-Hourly-Ridership-2020-2024/wujg-7c2s/explore/query/SELECT%20%60transit_mode%60%2C%20sum%28%60ridership%60%29%20AS%20%60sum_ridership%60%0AWHERE%0A%20%20%60transit_timestamp%60%0A%20%20%20%20BETWEEN%20%222024-01-01T00%3A00%3A00%22%20%3A%3A%20floating_timestamp%0A%20%20%20%20AND%20%222024-07-01T00%3A00%3A00%22%20%3A%3A%20floating_timestamp%0AGROUP%20BY%20%60transit_mode%60/page/aggregate\n",
    "total_ridership_24 = 589117753\n",
    "# 2025 ridership (Q1 and Q2)\n",
    "# https://data.ny.gov/Transportation/MTA-Subway-Hourly-Ridership-Beginning-2025/5wq4-mkjj/explore/query/SELECT%20%60transit_mode%60%2C%20sum%28%60ridership%60%29%20AS%20%60sum_ridership%60%0AWHERE%0A%20%20%60transit_timestamp%60%0A%20%20%20%20BETWEEN%20%222025-01-01T00%3A00%3A00%22%20%3A%3A%20floating_timestamp%0A%20%20%20%20AND%20%222025-07-01T00%3A00%3A00%22%20%3A%3A%20floating_timestamp%0AGROUP%20BY%20%60transit_mode%60/page/aggregate\n",
    "total_ridership_25 = 638233041\n",
    "# 8% increase\n",
    "yearly_change_ratio = total_ridership_25 / total_ridership_24\n",
    "yearly_ridership['Adjusted_unlinked_2025'] = yearly_ridership['yearly_ridership_including_transfers_MM'] * yearly_change_ratio"
   ]
  },
  {
   "cell_type": "code",
   "execution_count": 14,
   "metadata": {},
   "outputs": [
    {
     "data": {
      "text/html": [
       "<div>\n",
       "<style scoped>\n",
       "    .dataframe tbody tr th:only-of-type {\n",
       "        vertical-align: middle;\n",
       "    }\n",
       "\n",
       "    .dataframe tbody tr th {\n",
       "        vertical-align: top;\n",
       "    }\n",
       "\n",
       "    .dataframe thead th {\n",
       "        text-align: right;\n",
       "    }\n",
       "</style>\n",
       "<table border=\"1\" class=\"dataframe\">\n",
       "  <thead>\n",
       "    <tr style=\"text-align: right;\">\n",
       "      <th></th>\n",
       "      <th>route_id</th>\n",
       "      <th>yearly_ridership_MM</th>\n",
       "      <th>yearly_ridership_including_transfers_MM</th>\n",
       "      <th>Adjusted_unlinked_2025</th>\n",
       "    </tr>\n",
       "  </thead>\n",
       "  <tbody>\n",
       "    <tr>\n",
       "      <th>0</th>\n",
       "      <td>1</td>\n",
       "      <td>102.22</td>\n",
       "      <td>172.92</td>\n",
       "      <td>187.336499</td>\n",
       "    </tr>\n",
       "    <tr>\n",
       "      <th>1</th>\n",
       "      <td>7</td>\n",
       "      <td>98.34</td>\n",
       "      <td>166.36</td>\n",
       "      <td>180.229586</td>\n",
       "    </tr>\n",
       "    <tr>\n",
       "      <th>2</th>\n",
       "      <td>6</td>\n",
       "      <td>98.32</td>\n",
       "      <td>166.33</td>\n",
       "      <td>180.197085</td>\n",
       "    </tr>\n",
       "    <tr>\n",
       "      <th>3</th>\n",
       "      <td>F</td>\n",
       "      <td>89.26</td>\n",
       "      <td>150.99</td>\n",
       "      <td>163.578175</td>\n",
       "    </tr>\n",
       "    <tr>\n",
       "      <th>4</th>\n",
       "      <td>R</td>\n",
       "      <td>77.10</td>\n",
       "      <td>130.44</td>\n",
       "      <td>141.314903</td>\n",
       "    </tr>\n",
       "    <tr>\n",
       "      <th>5</th>\n",
       "      <td>N</td>\n",
       "      <td>71.87</td>\n",
       "      <td>121.58</td>\n",
       "      <td>131.716236</td>\n",
       "    </tr>\n",
       "    <tr>\n",
       "      <th>6</th>\n",
       "      <td>A</td>\n",
       "      <td>70.09</td>\n",
       "      <td>118.57</td>\n",
       "      <td>128.455290</td>\n",
       "    </tr>\n",
       "    <tr>\n",
       "      <th>7</th>\n",
       "      <td>E</td>\n",
       "      <td>67.40</td>\n",
       "      <td>114.03</td>\n",
       "      <td>123.536786</td>\n",
       "    </tr>\n",
       "    <tr>\n",
       "      <th>8</th>\n",
       "      <td>Q</td>\n",
       "      <td>61.60</td>\n",
       "      <td>104.21</td>\n",
       "      <td>112.898083</td>\n",
       "    </tr>\n",
       "    <tr>\n",
       "      <th>9</th>\n",
       "      <td>2</td>\n",
       "      <td>58.00</td>\n",
       "      <td>98.11</td>\n",
       "      <td>106.289521</td>\n",
       "    </tr>\n",
       "    <tr>\n",
       "      <th>10</th>\n",
       "      <td>L</td>\n",
       "      <td>54.84</td>\n",
       "      <td>92.77</td>\n",
       "      <td>100.504320</td>\n",
       "    </tr>\n",
       "    <tr>\n",
       "      <th>11</th>\n",
       "      <td>4</td>\n",
       "      <td>51.73</td>\n",
       "      <td>87.52</td>\n",
       "      <td>94.816623</td>\n",
       "    </tr>\n",
       "    <tr>\n",
       "      <th>12</th>\n",
       "      <td>C</td>\n",
       "      <td>51.04</td>\n",
       "      <td>86.35</td>\n",
       "      <td>93.549079</td>\n",
       "    </tr>\n",
       "    <tr>\n",
       "      <th>13</th>\n",
       "      <td>D</td>\n",
       "      <td>49.79</td>\n",
       "      <td>84.23</td>\n",
       "      <td>91.252332</td>\n",
       "    </tr>\n",
       "    <tr>\n",
       "      <th>14</th>\n",
       "      <td>3</td>\n",
       "      <td>42.08</td>\n",
       "      <td>71.18</td>\n",
       "      <td>77.114342</td>\n",
       "    </tr>\n",
       "    <tr>\n",
       "      <th>15</th>\n",
       "      <td>5</td>\n",
       "      <td>38.03</td>\n",
       "      <td>64.34</td>\n",
       "      <td>69.704085</td>\n",
       "    </tr>\n",
       "    <tr>\n",
       "      <th>16</th>\n",
       "      <td>M</td>\n",
       "      <td>36.50</td>\n",
       "      <td>61.74</td>\n",
       "      <td>66.887320</td>\n",
       "    </tr>\n",
       "    <tr>\n",
       "      <th>17</th>\n",
       "      <td>B</td>\n",
       "      <td>33.50</td>\n",
       "      <td>56.67</td>\n",
       "      <td>61.394630</td>\n",
       "    </tr>\n",
       "    <tr>\n",
       "      <th>18</th>\n",
       "      <td>J</td>\n",
       "      <td>31.75</td>\n",
       "      <td>53.72</td>\n",
       "      <td>58.198686</td>\n",
       "    </tr>\n",
       "    <tr>\n",
       "      <th>19</th>\n",
       "      <td>G</td>\n",
       "      <td>19.85</td>\n",
       "      <td>33.58</td>\n",
       "      <td>36.379595</td>\n",
       "    </tr>\n",
       "    <tr>\n",
       "      <th>20</th>\n",
       "      <td>GS</td>\n",
       "      <td>4.40</td>\n",
       "      <td>7.45</td>\n",
       "      <td>8.071113</td>\n",
       "    </tr>\n",
       "    <tr>\n",
       "      <th>21</th>\n",
       "      <td>FS</td>\n",
       "      <td>0.85</td>\n",
       "      <td>1.43</td>\n",
       "      <td>1.549220</td>\n",
       "    </tr>\n",
       "    <tr>\n",
       "      <th>22</th>\n",
       "      <td>H</td>\n",
       "      <td>0.58</td>\n",
       "      <td>0.99</td>\n",
       "      <td>1.072537</td>\n",
       "    </tr>\n",
       "  </tbody>\n",
       "</table>\n",
       "</div>"
      ],
      "text/plain": [
       "   route_id  yearly_ridership_MM  yearly_ridership_including_transfers_MM  \\\n",
       "0         1               102.22                                   172.92   \n",
       "1         7                98.34                                   166.36   \n",
       "2         6                98.32                                   166.33   \n",
       "3         F                89.26                                   150.99   \n",
       "4         R                77.10                                   130.44   \n",
       "5         N                71.87                                   121.58   \n",
       "6         A                70.09                                   118.57   \n",
       "7         E                67.40                                   114.03   \n",
       "8         Q                61.60                                   104.21   \n",
       "9         2                58.00                                    98.11   \n",
       "10        L                54.84                                    92.77   \n",
       "11        4                51.73                                    87.52   \n",
       "12        C                51.04                                    86.35   \n",
       "13        D                49.79                                    84.23   \n",
       "14        3                42.08                                    71.18   \n",
       "15        5                38.03                                    64.34   \n",
       "16        M                36.50                                    61.74   \n",
       "17        B                33.50                                    56.67   \n",
       "18        J                31.75                                    53.72   \n",
       "19        G                19.85                                    33.58   \n",
       "20       GS                 4.40                                     7.45   \n",
       "21       FS                 0.85                                     1.43   \n",
       "22        H                 0.58                                     0.99   \n",
       "\n",
       "    Adjusted_unlinked_2025  \n",
       "0               187.336499  \n",
       "1               180.229586  \n",
       "2               180.197085  \n",
       "3               163.578175  \n",
       "4               141.314903  \n",
       "5               131.716236  \n",
       "6               128.455290  \n",
       "7               123.536786  \n",
       "8               112.898083  \n",
       "9               106.289521  \n",
       "10              100.504320  \n",
       "11               94.816623  \n",
       "12               93.549079  \n",
       "13               91.252332  \n",
       "14               77.114342  \n",
       "15               69.704085  \n",
       "16               66.887320  \n",
       "17               61.394630  \n",
       "18               58.198686  \n",
       "19               36.379595  \n",
       "20                8.071113  \n",
       "21                1.549220  \n",
       "22                1.072537  "
      ]
     },
     "execution_count": 14,
     "metadata": {},
     "output_type": "execute_result"
    }
   ],
   "source": [
    "yearly_ridership"
   ]
  },
  {
   "cell_type": "markdown",
   "metadata": {},
   "source": [
    "## Plots of Service Ridership"
   ]
  },
  {
   "cell_type": "code",
   "execution_count": null,
   "metadata": {},
   "outputs": [
    {
     "data": {
      "text/plain": [
       "<Axes: >"
      ]
     },
     "execution_count": 15,
     "metadata": {},
     "output_type": "execute_result"
    },
    {
     "data": {
      "image/png": "[encoded data removed]",
      "text/plain": [
       "<Figure size 960x720 with 1 Axes>"
      ]
     },
     "metadata": {},
     "output_type": "display_data"
    }
   ],
   "source": [
    "# speed, especially at late nights, depends on how \"local\" the services are\n",
    "yearly_ridership['Adjusted_unlinked_2025'].plot()"
   ]
  },
  {
   "cell_type": "code",
   "execution_count": 18,
   "metadata": {},
   "outputs": [
    {
     "data": {
      "text/plain": [
       "<Axes: xlabel='route_id', ylabel='Adjusted_unlinked_2025'>"
      ]
     },
     "execution_count": 18,
     "metadata": {},
     "output_type": "execute_result"
    },
    {
     "data": {
      "image/png": "[encoded data removed]",
      "text/plain": [
       "<Figure size 960x720 with 1 Axes>"
      ]
     },
     "metadata": {},
     "output_type": "display_data"
    }
   ],
   "source": [
    "sns.barplot(yearly_ridership, x='route_id', y='Adjusted_unlinked_2025')"
   ]
  },
  {
   "cell_type": "code",
   "execution_count": null,
   "metadata": {},
   "outputs": [],
   "source": []
  }
 ],
 "metadata": {
  "kernelspec": {
   "display_name": "nyc_subway_env",
   "language": "python",
   "name": "python3"
  },
  "language_info": {
   "codemirror_mode": {
    "name": "ipython",
    "version": 3
   },
   "file_extension": ".py",
   "mimetype": "text/x-python",
   "name": "python",
   "nbconvert_exporter": "python",
   "pygments_lexer": "ipython3",
   "version": "3.12.4"
  }
 },
 "nbformat": 4,
 "nbformat_minor": 2
}
