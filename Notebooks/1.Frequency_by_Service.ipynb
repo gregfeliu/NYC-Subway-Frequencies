{
 "cells": [
  {
   "cell_type": "markdown",
   "metadata": {},
   "source": [
    "The goal of this notebook is to **use Google's GTFS data to find out how many trains are operating in the NYC Subway at any given time**. Along the way, we will also how frequency changes throughout the train schedule and examine how frequency interacts with ridership numbers."
   ]
  },
  {
   "cell_type": "markdown",
   "metadata": {},
   "source": [
    "[MTA Developer Tools](https://new.mta.info/developers). The google data for the mta should be all that we need. There's weekday, saturday, and sunday service so only need to worry about those times. Additionally, there's data on the buses, LIRR and Metro North in there, too.\n",
    "- [mta metrics dashboard](https://metrics.mta.info/?subway/customerjourneytimeperformance)\n",
    "\n",
    "[time frequency](https://en.wikipedia.org/wiki/List_of_New_York_City_Subway_services#Train_frequency_charts) breakdown"
   ]
  },
  {
   "cell_type": "markdown",
   "metadata": {},
   "source": [
    "Some notes about the results:\n",
    "- the routes change by day of week (for example the M not running its whole route on the weekends)\n",
    "- some routes include service changes (the 7 and 7 express both count as the 7)\n",
    "- this also includes late nights where the routes can change dramatically (e.g.: the 5 train doesn't leave the BX at night)\n",
    "- two routes don't run on the weekends: the B and W"
   ]
  },
  {
   "cell_type": "markdown",
   "metadata": {},
   "source": [
    "# Imports"
   ]
  },
  {
   "cell_type": "code",
   "execution_count": 93,
   "metadata": {
    "ExecuteTime": {
     "end_time": "2024-04-07T17:26:37.150470Z",
     "start_time": "2024-04-07T17:26:37.140809Z"
    }
   },
   "outputs": [],
   "source": [
    "import pandas as pd\n",
    "import numpy as np\n",
    "import geopandas as gpd\n",
    "import seaborn as sns\n",
    "sns.set_theme(style=\"darkgrid\")\n",
    "import warnings\n",
    "warnings.filterwarnings(action='ignore')\n",
    "import calendar\n",
    "import folium\n",
    "import matplotlib.pyplot as plt\n",
    "import imageio\n",
    "from PIL import Image\n",
    "from functions import *"
   ]
  },
  {
   "cell_type": "markdown",
   "metadata": {},
   "source": [
    "## Functions"
   ]
  },
  {
   "cell_type": "markdown",
   "metadata": {},
   "source": [
    "# Schedule Data"
   ]
  },
  {
   "cell_type": "code",
   "execution_count": 94,
   "metadata": {
    "ExecuteTime": {
     "end_time": "2024-04-07T17:26:37.748535Z",
     "start_time": "2024-04-07T17:26:37.160605Z"
    }
   },
   "outputs": [],
   "source": [
    "routes_df = pd.read_csv(\"data/google_transit/routes.txt\")\n",
    "stop_times_df = pd.read_csv(\"data/google_transit/stop_times.txt\")\n",
    "stops_df = pd.read_csv(\"data/google_transit/stops.txt\")"
   ]
  },
  {
   "cell_type": "markdown",
   "metadata": {},
   "source": [
    "## Frequency Data \n",
    "(that I made)"
   ]
  },
  {
   "cell_type": "code",
   "execution_count": 154,
   "metadata": {},
   "outputs": [],
   "source": [
    "first_stop_in_trip = pd.read_csv(\"saved_data/first_stop_in_trip.csv\", index_col=0)\n",
    "average_trip_time_per_service = pd.read_csv(\"saved_data/average_trip_time_per_service.csv\", index_col=0)\n",
    "hourly_route_trip_freq = pd.read_csv(\"saved_data/hourly_route_trip_freq.csv\", index_col=0)\n",
    "trip_interval_route_freq = pd.read_csv(\"saved_data/trip_interval_route_freq.csv\", index_col=0)\n",
    "hourly_station_ridership = pd.read_csv(\"saved_data/hourly_station_ridership.csv\", index_col=0)\n",
    "route_frequency_by_day = pd.read_csv(\"saved_data/route_frequency_by_day.csv\", index_col=0)\n",
    "station_info_w_frequency = pd.read_csv(\"saved_data/station_info_w_frequency.csv\", index_col=0)\n",
    "stations_df = pd.read_csv(\"saved_data/stations_df.csv\", index_col=0)"
   ]
  },
  {
   "cell_type": "code",
   "execution_count": 155,
   "metadata": {
    "ExecuteTime": {
     "end_time": "2024-04-07T17:26:38.024939Z",
     "start_time": "2024-04-07T17:26:38.016939Z"
    }
   },
   "outputs": [],
   "source": [
    "# sorting the trip interval data by service\n",
    "# sorting train_time_interval by time of day\n",
    "time_of_day_sorting = {'Late Night': 0, 'Rush Hour AM': 1, 'Midday': 2\n",
    "                                     , 'Rush Hour PM': 3, 'Evening': 4, 'Weekend': 5}\n",
    "trip_interval_route_freq = trip_interval_route_freq.sort_values(by= ['route_id', 'train_time_interval']\n",
    "                                    , key=lambda x: x.map(time_of_day_sorting)).reset_index(drop=True)"
   ]
  },
  {
   "cell_type": "markdown",
   "metadata": {},
   "source": [
    "## Removing SIR "
   ]
  },
  {
   "cell_type": "code",
   "execution_count": 156,
   "metadata": {
    "ExecuteTime": {
     "end_time": "2024-04-07T17:26:38.038676Z",
     "start_time": "2024-04-07T17:26:38.030820Z"
    },
    "scrolled": true
   },
   "outputs": [],
   "source": [
    "hourly_route_trip_freq = hourly_route_trip_freq[hourly_route_trip_freq['route_id']!='SI']\n",
    "trip_interval_route_freq = trip_interval_route_freq[trip_interval_route_freq['route_id']!='SI']\n",
    "route_frequency_by_day = route_frequency_by_day[route_frequency_by_day['route_id']!='SI']"
   ]
  },
  {
   "cell_type": "markdown",
   "metadata": {},
   "source": [
    "## Adjustments to Data"
   ]
  },
  {
   "cell_type": "code",
   "execution_count": 108,
   "metadata": {},
   "outputs": [],
   "source": [
    "daily_route_trip_freq = hourly_route_trip_freq.groupby(['route_id', 'day_of_week']).sum() / 24\n",
    "daily_route_trip_freq = daily_route_trip_freq.drop(columns=['departure_hour']).reset_index()\n",
    "# day_number_to_name_dict = {'0': 'Weekday', '5': 'Saturday', '6': 'Sunday'}\n",
    "# daily_route_trip_freq['day_of_week'] = [day_number_to_name_dict[str(x)] for x in daily_route_trip_freq['day_of_week']]\n",
    "daily_route_trip_freq = daily_route_trip_freq.round(1)"
   ]
  },
  {
   "cell_type": "code",
   "execution_count": 114,
   "metadata": {},
   "outputs": [],
   "source": [
    "route_frequency_weekday = route_frequency_by_day[route_frequency_by_day.day_of_week=='Weekday']\n",
    "route_frequency_weekday['trains_per_hour'] = route_frequency_weekday['trains_per_hour'] * 5\n",
    "route_frequency_weekend = route_frequency_by_day[route_frequency_by_day.day_of_week!='Weekday']\n",
    "# creating overall trains per hour \n",
    "route_frequency_overall = route_frequency_weekend.append(route_frequency_weekday)\n",
    "daily_route_frequency = pd.DataFrame(round(route_frequency_overall.groupby('route_id')['trains_per_hour'].sum() / 7, 1))\n",
    "daily_route_frequency = daily_route_frequency.merge(average_trip_time_per_service[['route_id', 'route_time_minutes']], on='route_id')\n",
    "daily_route_frequency['avg_num_of_trains_running'] =  round((daily_route_frequency['route_time_minutes'] / 60) * \\\n",
    "                                                        daily_route_frequency['trains_per_hour'] * 2, 1)"
   ]
  },
  {
   "cell_type": "markdown",
   "metadata": {},
   "source": [
    "# Number of Train (sets) Running "
   ]
  },
  {
   "cell_type": "markdown",
   "metadata": {},
   "source": [
    "## Daily"
   ]
  },
  {
   "cell_type": "code",
   "execution_count": 110,
   "metadata": {
    "ExecuteTime": {
     "end_time": "2024-04-07T17:26:38.052676Z",
     "start_time": "2024-04-07T17:26:38.040958Z"
    },
    "scrolled": true
   },
   "outputs": [
    {
     "data": {
      "text/html": [
       "<div>\n",
       "<style scoped>\n",
       "    .dataframe tbody tr th:only-of-type {\n",
       "        vertical-align: middle;\n",
       "    }\n",
       "\n",
       "    .dataframe tbody tr th {\n",
       "        vertical-align: top;\n",
       "    }\n",
       "\n",
       "    .dataframe thead th {\n",
       "        text-align: right;\n",
       "    }\n",
       "</style>\n",
       "<table border=\"1\" class=\"dataframe\">\n",
       "  <thead>\n",
       "    <tr style=\"text-align: right;\">\n",
       "      <th></th>\n",
       "      <th>route_id</th>\n",
       "      <th>day_of_week</th>\n",
       "      <th>Avg_num_trains_running</th>\n",
       "    </tr>\n",
       "  </thead>\n",
       "  <tbody>\n",
       "    <tr>\n",
       "      <th>36</th>\n",
       "      <td>F</td>\n",
       "      <td>Weekday</td>\n",
       "      <td>24.2</td>\n",
       "    </tr>\n",
       "    <tr>\n",
       "      <th>60</th>\n",
       "      <td>N</td>\n",
       "      <td>Weekday</td>\n",
       "      <td>22.9</td>\n",
       "    </tr>\n",
       "    <tr>\n",
       "      <th>17</th>\n",
       "      <td>6</td>\n",
       "      <td>Weekday</td>\n",
       "      <td>22.0</td>\n",
       "    </tr>\n",
       "    <tr>\n",
       "      <th>5</th>\n",
       "      <td>2</td>\n",
       "      <td>Weekday</td>\n",
       "      <td>21.5</td>\n",
       "    </tr>\n",
       "    <tr>\n",
       "      <th>23</th>\n",
       "      <td>A</td>\n",
       "      <td>Weekday</td>\n",
       "      <td>21.2</td>\n",
       "    </tr>\n",
       "  </tbody>\n",
       "</table>\n",
       "</div>"
      ],
      "text/plain": [
       "   route_id day_of_week  Avg_num_trains_running\n",
       "36        F     Weekday                    24.2\n",
       "60        N     Weekday                    22.9\n",
       "17        6     Weekday                    22.0\n",
       "5         2     Weekday                    21.5\n",
       "23        A     Weekday                    21.2"
      ]
     },
     "execution_count": 110,
     "metadata": {},
     "output_type": "execute_result"
    }
   ],
   "source": [
    "# services with the most trains running overall\n",
    "daily_route_trip_freq[['route_id', 'day_of_week', \"Avg_num_trains_running\"]].sort_values(by='Avg_num_trains_running'\n",
    "                                                                          , ascending=False)[0:5]"
   ]
  },
  {
   "cell_type": "code",
   "execution_count": 115,
   "metadata": {
    "ExecuteTime": {
     "end_time": "2024-04-07T17:26:38.059173Z",
     "start_time": "2024-04-07T17:26:38.054619Z"
    }
   },
   "outputs": [
    {
     "data": {
      "text/plain": [
       "284.5"
      ]
     },
     "execution_count": 115,
     "metadata": {},
     "output_type": "execute_result"
    }
   ],
   "source": [
    "# 326 trains running on average!\n",
    "# this is trains moving at any one moment (Grand Central Shuttle counts as 1/4 of a train)\n",
    "round(daily_route_frequency['avg_num_of_trains_running'].sum(), 1)"
   ]
  },
  {
   "cell_type": "markdown",
   "metadata": {},
   "source": [
    "## Train Time Interval"
   ]
  },
  {
   "cell_type": "code",
   "execution_count": 157,
   "metadata": {
    "ExecuteTime": {
     "end_time": "2024-04-07T17:26:38.073297Z",
     "start_time": "2024-04-07T17:26:38.062190Z"
    },
    "scrolled": true
   },
   "outputs": [
    {
     "data": {
      "text/html": [
       "<div>\n",
       "<style scoped>\n",
       "    .dataframe tbody tr th:only-of-type {\n",
       "        vertical-align: middle;\n",
       "    }\n",
       "\n",
       "    .dataframe tbody tr th {\n",
       "        vertical-align: top;\n",
       "    }\n",
       "\n",
       "    .dataframe thead th {\n",
       "        text-align: right;\n",
       "    }\n",
       "</style>\n",
       "<table border=\"1\" class=\"dataframe\">\n",
       "  <thead>\n",
       "    <tr style=\"text-align: right;\">\n",
       "      <th></th>\n",
       "      <th>route_id</th>\n",
       "      <th>train_time_interval</th>\n",
       "      <th>Avg_num_trains_running</th>\n",
       "    </tr>\n",
       "  </thead>\n",
       "  <tbody>\n",
       "    <tr>\n",
       "      <th>36</th>\n",
       "      <td>F</td>\n",
       "      <td>Rush Hour AM</td>\n",
       "      <td>34.6</td>\n",
       "    </tr>\n",
       "    <tr>\n",
       "      <th>44</th>\n",
       "      <td>N</td>\n",
       "      <td>Rush Hour AM</td>\n",
       "      <td>32.6</td>\n",
       "    </tr>\n",
       "    <tr>\n",
       "      <th>92</th>\n",
       "      <td>N</td>\n",
       "      <td>Rush Hour PM</td>\n",
       "      <td>32.6</td>\n",
       "    </tr>\n",
       "    <tr>\n",
       "      <th>29</th>\n",
       "      <td>6</td>\n",
       "      <td>Rush Hour AM</td>\n",
       "      <td>32.5</td>\n",
       "    </tr>\n",
       "    <tr>\n",
       "      <th>84</th>\n",
       "      <td>F</td>\n",
       "      <td>Rush Hour PM</td>\n",
       "      <td>32.2</td>\n",
       "    </tr>\n",
       "  </tbody>\n",
       "</table>\n",
       "</div>"
      ],
      "text/plain": [
       "   route_id train_time_interval  Avg_num_trains_running\n",
       "36        F        Rush Hour AM                    34.6\n",
       "44        N        Rush Hour AM                    32.6\n",
       "92        N        Rush Hour PM                    32.6\n",
       "29        6        Rush Hour AM                    32.5\n",
       "84        F        Rush Hour PM                    32.2"
      ]
     },
     "execution_count": 157,
     "metadata": {},
     "output_type": "execute_result"
    }
   ],
   "source": [
    "trip_interval_route_freq[['route_id', 'train_time_interval', 'Avg_num_trains_running']].sort_values(\n",
    "                                                    by='Avg_num_trains_running', ascending=False)[0:5]"
   ]
  },
  {
   "cell_type": "code",
   "execution_count": 158,
   "metadata": {},
   "outputs": [
    {
     "data": {
      "text/html": [
       "<div>\n",
       "<style scoped>\n",
       "    .dataframe tbody tr th:only-of-type {\n",
       "        vertical-align: middle;\n",
       "    }\n",
       "\n",
       "    .dataframe tbody tr th {\n",
       "        vertical-align: top;\n",
       "    }\n",
       "\n",
       "    .dataframe thead th {\n",
       "        text-align: right;\n",
       "    }\n",
       "</style>\n",
       "<table border=\"1\" class=\"dataframe\">\n",
       "  <thead>\n",
       "    <tr style=\"text-align: right;\">\n",
       "      <th></th>\n",
       "      <th>route_id</th>\n",
       "      <th>train_time_interval</th>\n",
       "      <th>trains_per_hour</th>\n",
       "      <th>headway_seconds</th>\n",
       "      <th>headway_minutes</th>\n",
       "      <th>route_time_seconds</th>\n",
       "      <th>route_time_minutes</th>\n",
       "      <th>Avg_num_trains_running</th>\n",
       "    </tr>\n",
       "  </thead>\n",
       "  <tbody>\n",
       "    <tr>\n",
       "      <th>0</th>\n",
       "      <td>1</td>\n",
       "      <td>Late Night</td>\n",
       "      <td>3</td>\n",
       "      <td>1200.0</td>\n",
       "      <td>20.0</td>\n",
       "      <td>3408</td>\n",
       "      <td>56.8</td>\n",
       "      <td>5.7</td>\n",
       "    </tr>\n",
       "    <tr>\n",
       "      <th>1</th>\n",
       "      <td>2</td>\n",
       "      <td>Late Night</td>\n",
       "      <td>3</td>\n",
       "      <td>1200.0</td>\n",
       "      <td>20.0</td>\n",
       "      <td>5744</td>\n",
       "      <td>95.7</td>\n",
       "      <td>9.6</td>\n",
       "    </tr>\n",
       "    <tr>\n",
       "      <th>2</th>\n",
       "      <td>3</td>\n",
       "      <td>Late Night</td>\n",
       "      <td>3</td>\n",
       "      <td>1200.0</td>\n",
       "      <td>20.0</td>\n",
       "      <td>3461</td>\n",
       "      <td>57.7</td>\n",
       "      <td>5.8</td>\n",
       "    </tr>\n",
       "    <tr>\n",
       "      <th>3</th>\n",
       "      <td>4</td>\n",
       "      <td>Late Night</td>\n",
       "      <td>3</td>\n",
       "      <td>1200.0</td>\n",
       "      <td>20.0</td>\n",
       "      <td>4141</td>\n",
       "      <td>69.0</td>\n",
       "      <td>6.9</td>\n",
       "    </tr>\n",
       "    <tr>\n",
       "      <th>4</th>\n",
       "      <td>5</td>\n",
       "      <td>Late Night</td>\n",
       "      <td>3</td>\n",
       "      <td>1200.0</td>\n",
       "      <td>20.0</td>\n",
       "      <td>3317</td>\n",
       "      <td>55.3</td>\n",
       "      <td>5.5</td>\n",
       "    </tr>\n",
       "    <tr>\n",
       "      <th>...</th>\n",
       "      <td>...</td>\n",
       "      <td>...</td>\n",
       "      <td>...</td>\n",
       "      <td>...</td>\n",
       "      <td>...</td>\n",
       "      <td>...</td>\n",
       "      <td>...</td>\n",
       "      <td>...</td>\n",
       "    </tr>\n",
       "    <tr>\n",
       "      <th>137</th>\n",
       "      <td>L</td>\n",
       "      <td>Weekend</td>\n",
       "      <td>12</td>\n",
       "      <td>300.0</td>\n",
       "      <td>5.0</td>\n",
       "      <td>2235</td>\n",
       "      <td>37.2</td>\n",
       "      <td>14.9</td>\n",
       "    </tr>\n",
       "    <tr>\n",
       "      <th>138</th>\n",
       "      <td>M</td>\n",
       "      <td>Weekend</td>\n",
       "      <td>6</td>\n",
       "      <td>600.0</td>\n",
       "      <td>10.0</td>\n",
       "      <td>1701</td>\n",
       "      <td>28.4</td>\n",
       "      <td>5.7</td>\n",
       "    </tr>\n",
       "    <tr>\n",
       "      <th>139</th>\n",
       "      <td>N</td>\n",
       "      <td>Weekend</td>\n",
       "      <td>4</td>\n",
       "      <td>900.0</td>\n",
       "      <td>15.0</td>\n",
       "      <td>4186</td>\n",
       "      <td>69.8</td>\n",
       "      <td>9.3</td>\n",
       "    </tr>\n",
       "    <tr>\n",
       "      <th>140</th>\n",
       "      <td>Q</td>\n",
       "      <td>Weekend</td>\n",
       "      <td>6</td>\n",
       "      <td>600.0</td>\n",
       "      <td>10.0</td>\n",
       "      <td>3847</td>\n",
       "      <td>64.1</td>\n",
       "      <td>12.8</td>\n",
       "    </tr>\n",
       "    <tr>\n",
       "      <th>141</th>\n",
       "      <td>R</td>\n",
       "      <td>Weekend</td>\n",
       "      <td>4</td>\n",
       "      <td>900.0</td>\n",
       "      <td>15.0</td>\n",
       "      <td>4727</td>\n",
       "      <td>78.8</td>\n",
       "      <td>10.5</td>\n",
       "    </tr>\n",
       "  </tbody>\n",
       "</table>\n",
       "<p>137 rows × 8 columns</p>\n",
       "</div>"
      ],
      "text/plain": [
       "    route_id train_time_interval  trains_per_hour  headway_seconds  \\\n",
       "0          1          Late Night                3           1200.0   \n",
       "1          2          Late Night                3           1200.0   \n",
       "2          3          Late Night                3           1200.0   \n",
       "3          4          Late Night                3           1200.0   \n",
       "4          5          Late Night                3           1200.0   \n",
       "..       ...                 ...              ...              ...   \n",
       "137        L             Weekend               12            300.0   \n",
       "138        M             Weekend                6            600.0   \n",
       "139        N             Weekend                4            900.0   \n",
       "140        Q             Weekend                6            600.0   \n",
       "141        R             Weekend                4            900.0   \n",
       "\n",
       "     headway_minutes  route_time_seconds  route_time_minutes  \\\n",
       "0               20.0                3408                56.8   \n",
       "1               20.0                5744                95.7   \n",
       "2               20.0                3461                57.7   \n",
       "3               20.0                4141                69.0   \n",
       "4               20.0                3317                55.3   \n",
       "..               ...                 ...                 ...   \n",
       "137              5.0                2235                37.2   \n",
       "138             10.0                1701                28.4   \n",
       "139             15.0                4186                69.8   \n",
       "140             10.0                3847                64.1   \n",
       "141             15.0                4727                78.8   \n",
       "\n",
       "     Avg_num_trains_running  \n",
       "0                       5.7  \n",
       "1                       9.6  \n",
       "2                       5.8  \n",
       "3                       6.9  \n",
       "4                       5.5  \n",
       "..                      ...  \n",
       "137                    14.9  \n",
       "138                     5.7  \n",
       "139                     9.3  \n",
       "140                    12.8  \n",
       "141                    10.5  \n",
       "\n",
       "[137 rows x 8 columns]"
      ]
     },
     "execution_count": 158,
     "metadata": {},
     "output_type": "execute_result"
    }
   ],
   "source": [
    "trip_interval_route_freq"
   ]
  },
  {
   "cell_type": "code",
   "execution_count": 159,
   "metadata": {
    "ExecuteTime": {
     "end_time": "2024-04-07T17:26:38.089041Z",
     "start_time": "2024-04-07T17:26:38.075511Z"
    }
   },
   "outputs": [],
   "source": [
    "# looking at train time interval overall\n",
    "interval_number_of_trains_dict = {}\n",
    "for value in trip_interval_route_freq['train_time_interval'].unique():\n",
    "    interval_avg_num_trains = trip_interval_route_freq[trip_interval_route_freq['train_time_interval']==value\n",
    "                                                                                ]['Avg_num_trains_running'].sum()\n",
    "    interval_number_of_trains_dict[value] = round(interval_avg_num_trains, 1)\n",
    "train_time_interval_df = pd.DataFrame.from_dict(interval_number_of_trains_dict, orient='index'\n",
    "                                                , columns=['Avg_number_of_trains_in_interval'])"
   ]
  },
  {
   "cell_type": "code",
   "execution_count": 160,
   "metadata": {
    "ExecuteTime": {
     "end_time": "2024-04-07T17:26:38.101445Z",
     "start_time": "2024-04-07T17:26:38.091955Z"
    }
   },
   "outputs": [
    {
     "data": {
      "text/html": [
       "<div>\n",
       "<style scoped>\n",
       "    .dataframe tbody tr th:only-of-type {\n",
       "        vertical-align: middle;\n",
       "    }\n",
       "\n",
       "    .dataframe tbody tr th {\n",
       "        vertical-align: top;\n",
       "    }\n",
       "\n",
       "    .dataframe thead th {\n",
       "        text-align: right;\n",
       "    }\n",
       "</style>\n",
       "<table border=\"1\" class=\"dataframe\">\n",
       "  <thead>\n",
       "    <tr style=\"text-align: right;\">\n",
       "      <th></th>\n",
       "      <th>Avg_number_of_trains_in_interval</th>\n",
       "    </tr>\n",
       "  </thead>\n",
       "  <tbody>\n",
       "    <tr>\n",
       "      <th>Late Night</th>\n",
       "      <td>123.0</td>\n",
       "    </tr>\n",
       "    <tr>\n",
       "      <th>Weekend</th>\n",
       "      <td>221.0</td>\n",
       "    </tr>\n",
       "    <tr>\n",
       "      <th>Evening</th>\n",
       "      <td>237.0</td>\n",
       "    </tr>\n",
       "    <tr>\n",
       "      <th>Midday</th>\n",
       "      <td>350.0</td>\n",
       "    </tr>\n",
       "    <tr>\n",
       "      <th>Rush Hour PM</th>\n",
       "      <td>411.0</td>\n",
       "    </tr>\n",
       "    <tr>\n",
       "      <th>Rush Hour AM</th>\n",
       "      <td>436.0</td>\n",
       "    </tr>\n",
       "  </tbody>\n",
       "</table>\n",
       "</div>"
      ],
      "text/plain": [
       "              Avg_number_of_trains_in_interval\n",
       "Late Night                               123.0\n",
       "Weekend                                  221.0\n",
       "Evening                                  237.0\n",
       "Midday                                   350.0\n",
       "Rush Hour PM                             411.0\n",
       "Rush Hour AM                             436.0"
      ]
     },
     "execution_count": 160,
     "metadata": {},
     "output_type": "execute_result"
    }
   ],
   "source": [
    "train_time_interval_df.sort_values(by='Avg_number_of_trains_in_interval').round()"
   ]
  },
  {
   "cell_type": "code",
   "execution_count": 161,
   "metadata": {
    "ExecuteTime": {
     "end_time": "2024-04-07T17:26:38.101445Z",
     "start_time": "2024-04-07T17:26:38.091955Z"
    }
   },
   "outputs": [
    {
     "data": {
      "text/html": [
       "<div>\n",
       "<style scoped>\n",
       "    .dataframe tbody tr th:only-of-type {\n",
       "        vertical-align: middle;\n",
       "    }\n",
       "\n",
       "    .dataframe tbody tr th {\n",
       "        vertical-align: top;\n",
       "    }\n",
       "\n",
       "    .dataframe thead th {\n",
       "        text-align: right;\n",
       "    }\n",
       "</style>\n",
       "<table border=\"1\" class=\"dataframe\">\n",
       "  <thead>\n",
       "    <tr style=\"text-align: right;\">\n",
       "      <th></th>\n",
       "      <th>route_id</th>\n",
       "      <th>train_time_interval</th>\n",
       "      <th>trains_per_hour</th>\n",
       "      <th>headway_seconds</th>\n",
       "      <th>headway_minutes</th>\n",
       "      <th>route_time_seconds</th>\n",
       "      <th>route_time_minutes</th>\n",
       "      <th>Avg_num_trains_running</th>\n",
       "    </tr>\n",
       "  </thead>\n",
       "  <tbody>\n",
       "    <tr>\n",
       "      <th>7</th>\n",
       "      <td>A</td>\n",
       "      <td>Late Night</td>\n",
       "      <td>6</td>\n",
       "      <td>600.0</td>\n",
       "      <td>10.0</td>\n",
       "      <td>4850</td>\n",
       "      <td>80.8</td>\n",
       "      <td>16.2</td>\n",
       "    </tr>\n",
       "    <tr>\n",
       "      <th>121</th>\n",
       "      <td>2</td>\n",
       "      <td>Weekend</td>\n",
       "      <td>6</td>\n",
       "      <td>600.0</td>\n",
       "      <td>10.0</td>\n",
       "      <td>5744</td>\n",
       "      <td>95.7</td>\n",
       "      <td>19.1</td>\n",
       "    </tr>\n",
       "    <tr>\n",
       "      <th>108</th>\n",
       "      <td>F</td>\n",
       "      <td>Evening</td>\n",
       "      <td>9</td>\n",
       "      <td>400.0</td>\n",
       "      <td>6.7</td>\n",
       "      <td>4148</td>\n",
       "      <td>69.1</td>\n",
       "      <td>20.7</td>\n",
       "    </tr>\n",
       "    <tr>\n",
       "      <th>68</th>\n",
       "      <td>N</td>\n",
       "      <td>Midday</td>\n",
       "      <td>13</td>\n",
       "      <td>277.0</td>\n",
       "      <td>4.6</td>\n",
       "      <td>4186</td>\n",
       "      <td>69.8</td>\n",
       "      <td>30.2</td>\n",
       "    </tr>\n",
       "    <tr>\n",
       "      <th>92</th>\n",
       "      <td>N</td>\n",
       "      <td>Rush Hour PM</td>\n",
       "      <td>14</td>\n",
       "      <td>257.0</td>\n",
       "      <td>4.3</td>\n",
       "      <td>4186</td>\n",
       "      <td>69.8</td>\n",
       "      <td>32.6</td>\n",
       "    </tr>\n",
       "    <tr>\n",
       "      <th>36</th>\n",
       "      <td>F</td>\n",
       "      <td>Rush Hour AM</td>\n",
       "      <td>15</td>\n",
       "      <td>240.0</td>\n",
       "      <td>4.0</td>\n",
       "      <td>4148</td>\n",
       "      <td>69.1</td>\n",
       "      <td>34.6</td>\n",
       "    </tr>\n",
       "  </tbody>\n",
       "</table>\n",
       "</div>"
      ],
      "text/plain": [
       "    route_id train_time_interval  trains_per_hour  headway_seconds  \\\n",
       "7          A          Late Night                6            600.0   \n",
       "121        2             Weekend                6            600.0   \n",
       "108        F             Evening                9            400.0   \n",
       "68         N              Midday               13            277.0   \n",
       "92         N        Rush Hour PM               14            257.0   \n",
       "36         F        Rush Hour AM               15            240.0   \n",
       "\n",
       "     headway_minutes  route_time_seconds  route_time_minutes  \\\n",
       "7               10.0                4850                80.8   \n",
       "121             10.0                5744                95.7   \n",
       "108              6.7                4148                69.1   \n",
       "68               4.6                4186                69.8   \n",
       "92               4.3                4186                69.8   \n",
       "36               4.0                4148                69.1   \n",
       "\n",
       "     Avg_num_trains_running  \n",
       "7                      16.2  \n",
       "121                    19.1  \n",
       "108                    20.7  \n",
       "68                     30.2  \n",
       "92                     32.6  \n",
       "36                     34.6  "
      ]
     },
     "execution_count": 161,
     "metadata": {},
     "output_type": "execute_result"
    }
   ],
   "source": [
    "# which routes has the most service per train time interval\n",
    "# are there ties for the frequency??\n",
    "trip_interval_route_freq[trip_interval_route_freq['headway_minutes'] < 1000].sort_values(\n",
    "        by='Avg_num_trains_running').drop_duplicates(subset='train_time_interval', keep='last')"
   ]
  },
  {
   "cell_type": "markdown",
   "metadata": {},
   "source": [
    "### Plotting the Change in Frequency by Train Time Interval"
   ]
  },
  {
   "cell_type": "code",
   "execution_count": 162,
   "metadata": {
    "ExecuteTime": {
     "end_time": "2024-04-07T17:26:38.116088Z",
     "start_time": "2024-04-07T17:26:38.112611Z"
    }
   },
   "outputs": [
    {
     "data": {
      "image/png": "[encoded data removed]",
      "text/plain": [
       "<Figure size 432x288 with 1 Axes>"
      ]
     },
     "metadata": {},
     "output_type": "display_data"
    }
   ],
   "source": [
    "trip_interval_route_freq.columns = ['route_id', 'Train Time Interval', 'trains_per_hour'\n",
    "                                   , 'headway_seconds', 'Headway Minutes', 'route_time_seconds'\n",
    "                                   , 'route_time_minutes', 'Avg_num_trains_running']\n",
    "# full \n",
    "interval_headways_by_line = sns.lineplot(data=trip_interval_route_freq, x='Train Time Interval'\n",
    "                                       , y='Headway Minutes', ci=100)\n",
    "interval_headways_by_line.set_title('Average Train Time Interval Headways in NYC Subway')\n",
    "fig = interval_headways_by_line.get_figure()\n",
    "# fig.savefig(\"saved_data/interval_headways.png\") "
   ]
  },
  {
   "cell_type": "markdown",
   "metadata": {},
   "source": [
    "## Hourly"
   ]
  },
  {
   "cell_type": "code",
   "execution_count": null,
   "metadata": {
    "ExecuteTime": {
     "end_time": "2024-04-07T17:26:38.446961Z",
     "start_time": "2024-04-07T17:26:38.422866Z"
    }
   },
   "outputs": [],
   "source": [
    "hourly_route_trip_freq['day_hour'] = [hourly_route_trip_freq['day_of_week'][idx] + \"_\" \\\n",
    "                                        + str(hourly_route_trip_freq['departure_hour'][idx])\n",
    "                                            for idx in range(hourly_route_trip_freq.shape[0])]\n",
    "hourly_route_trip_freq[['route_id', 'day_hour', 'Avg_num_trains_running']].sort_values(\n",
    "                                                    by='Avg_num_trains_running', ascending=False)[0:5]"
   ]
  },
  {
   "cell_type": "code",
   "execution_count": 136,
   "metadata": {
    "ExecuteTime": {
     "end_time": "2024-04-07T17:26:38.532267Z",
     "start_time": "2024-04-07T17:26:38.468816Z"
    }
   },
   "outputs": [],
   "source": [
    "hourly_number_of_trains_dict = {}\n",
    "for value in hourly_route_trip_freq['day_hour'].unique():\n",
    "    hourly_avg_num_trains = hourly_route_trip_freq[hourly_route_trip_freq['day_hour']==value\n",
    "                                                                                ]['Avg_num_trains_running'].sum()\n",
    "    hourly_number_of_trains_dict[value] = round(hourly_avg_num_trains, 1)\n",
    "train_time_hourly_df = pd.DataFrame.from_dict(hourly_number_of_trains_dict, orient='index'\n",
    "                                                , columns=['Avg_number_of_trains_in_hour'])"
   ]
  },
  {
   "cell_type": "markdown",
   "metadata": {},
   "source": [
    "### Most frequent number of trains running"
   ]
  },
  {
   "cell_type": "code",
   "execution_count": 138,
   "metadata": {
    "ExecuteTime": {
     "end_time": "2024-04-07T17:26:38.548785Z",
     "start_time": "2024-04-07T17:26:38.542598Z"
    }
   },
   "outputs": [
    {
     "data": {
      "text/html": [
       "<div>\n",
       "<style scoped>\n",
       "    .dataframe tbody tr th:only-of-type {\n",
       "        vertical-align: middle;\n",
       "    }\n",
       "\n",
       "    .dataframe tbody tr th {\n",
       "        vertical-align: top;\n",
       "    }\n",
       "\n",
       "    .dataframe thead th {\n",
       "        text-align: right;\n",
       "    }\n",
       "</style>\n",
       "<table border=\"1\" class=\"dataframe\">\n",
       "  <thead>\n",
       "    <tr style=\"text-align: right;\">\n",
       "      <th></th>\n",
       "      <th>Avg_number_of_trains_in_hour</th>\n",
       "    </tr>\n",
       "  </thead>\n",
       "  <tbody>\n",
       "    <tr>\n",
       "      <th>Weekday_16</th>\n",
       "      <td>497.8</td>\n",
       "    </tr>\n",
       "    <tr>\n",
       "      <th>Weekday_7</th>\n",
       "      <td>487.6</td>\n",
       "    </tr>\n",
       "    <tr>\n",
       "      <th>Weekday_8</th>\n",
       "      <td>473.9</td>\n",
       "    </tr>\n",
       "    <tr>\n",
       "      <th>Weekday_17</th>\n",
       "      <td>434.8</td>\n",
       "    </tr>\n",
       "    <tr>\n",
       "      <th>Weekday_18</th>\n",
       "      <td>418.7</td>\n",
       "    </tr>\n",
       "    <tr>\n",
       "      <th>Weekday_15</th>\n",
       "      <td>413.2</td>\n",
       "    </tr>\n",
       "    <tr>\n",
       "      <th>Weekday_6</th>\n",
       "      <td>405.7</td>\n",
       "    </tr>\n",
       "    <tr>\n",
       "      <th>Weekday_19</th>\n",
       "      <td>399.8</td>\n",
       "    </tr>\n",
       "    <tr>\n",
       "      <th>Weekday_9</th>\n",
       "      <td>392.1</td>\n",
       "    </tr>\n",
       "    <tr>\n",
       "      <th>Weekday_13</th>\n",
       "      <td>372.1</td>\n",
       "    </tr>\n",
       "  </tbody>\n",
       "</table>\n",
       "</div>"
      ],
      "text/plain": [
       "            Avg_number_of_trains_in_hour\n",
       "Weekday_16                         497.8\n",
       "Weekday_7                          487.6\n",
       "Weekday_8                          473.9\n",
       "Weekday_17                         434.8\n",
       "Weekday_18                         418.7\n",
       "Weekday_15                         413.2\n",
       "Weekday_6                          405.7\n",
       "Weekday_19                         399.8\n",
       "Weekday_9                          392.1\n",
       "Weekday_13                         372.1"
      ]
     },
     "execution_count": 138,
     "metadata": {},
     "output_type": "execute_result"
    }
   ],
   "source": [
    "# most frequent hours to use the subway\n",
    "train_time_hourly_df.sort_values(by='Avg_number_of_trains_in_hour', ascending=False)[0:10]"
   ]
  },
  {
   "cell_type": "markdown",
   "metadata": {},
   "source": [
    "### Least frequent number of trains running"
   ]
  },
  {
   "cell_type": "code",
   "execution_count": 139,
   "metadata": {
    "ExecuteTime": {
     "end_time": "2024-04-07T17:26:38.557416Z",
     "start_time": "2024-04-07T17:26:38.550434Z"
    }
   },
   "outputs": [
    {
     "data": {
      "text/html": [
       "<div>\n",
       "<style scoped>\n",
       "    .dataframe tbody tr th:only-of-type {\n",
       "        vertical-align: middle;\n",
       "    }\n",
       "\n",
       "    .dataframe tbody tr th {\n",
       "        vertical-align: top;\n",
       "    }\n",
       "\n",
       "    .dataframe thead th {\n",
       "        text-align: right;\n",
       "    }\n",
       "</style>\n",
       "<table border=\"1\" class=\"dataframe\">\n",
       "  <thead>\n",
       "    <tr style=\"text-align: right;\">\n",
       "      <th></th>\n",
       "      <th>Avg_number_of_trains_in_hour</th>\n",
       "    </tr>\n",
       "  </thead>\n",
       "  <tbody>\n",
       "    <tr>\n",
       "      <th>Saturday_2</th>\n",
       "      <td>121.7</td>\n",
       "    </tr>\n",
       "    <tr>\n",
       "      <th>Saturday_3</th>\n",
       "      <td>121.7</td>\n",
       "    </tr>\n",
       "    <tr>\n",
       "      <th>Sunday_2</th>\n",
       "      <td>121.7</td>\n",
       "    </tr>\n",
       "    <tr>\n",
       "      <th>Weekday_3</th>\n",
       "      <td>121.7</td>\n",
       "    </tr>\n",
       "    <tr>\n",
       "      <th>Weekday_2</th>\n",
       "      <td>121.7</td>\n",
       "    </tr>\n",
       "    <tr>\n",
       "      <th>Sunday_3</th>\n",
       "      <td>121.7</td>\n",
       "    </tr>\n",
       "    <tr>\n",
       "      <th>Sunday_4</th>\n",
       "      <td>121.7</td>\n",
       "    </tr>\n",
       "    <tr>\n",
       "      <th>Weekday_0</th>\n",
       "      <td>122.3</td>\n",
       "    </tr>\n",
       "    <tr>\n",
       "      <th>Weekday_1</th>\n",
       "      <td>123.0</td>\n",
       "    </tr>\n",
       "    <tr>\n",
       "      <th>Saturday_1</th>\n",
       "      <td>123.0</td>\n",
       "    </tr>\n",
       "  </tbody>\n",
       "</table>\n",
       "</div>"
      ],
      "text/plain": [
       "            Avg_number_of_trains_in_hour\n",
       "Saturday_2                         121.7\n",
       "Saturday_3                         121.7\n",
       "Sunday_2                           121.7\n",
       "Weekday_3                          121.7\n",
       "Weekday_2                          121.7\n",
       "Sunday_3                           121.7\n",
       "Sunday_4                           121.7\n",
       "Weekday_0                          122.3\n",
       "Weekday_1                          123.0\n",
       "Saturday_1                         123.0"
      ]
     },
     "execution_count": 139,
     "metadata": {},
     "output_type": "execute_result"
    }
   ],
   "source": [
    "# least frequent hours to use the subway\n",
    "train_time_hourly_df.sort_values(by='Avg_number_of_trains_in_hour')[0:10]"
   ]
  },
  {
   "cell_type": "markdown",
   "metadata": {},
   "source": [
    "### Plotting number of trains runnings by Hour "
   ]
  },
  {
   "cell_type": "code",
   "execution_count": 141,
   "metadata": {
    "ExecuteTime": {
     "end_time": "2024-04-07T17:26:38.572432Z",
     "start_time": "2024-04-07T17:26:38.567921Z"
    }
   },
   "outputs": [],
   "source": [
    "train_time_hourly_df_day = [x.split(\"_\")[0] for x in train_time_hourly_df.index.values]\n",
    "train_time_hourly_df_hour = [x.split(\"_\")[1] for x in train_time_hourly_df.index.values]\n",
    "train_time_hourly_df.columns = ['Avg Number of Trains in an Hour']\n",
    "train_time_hourly_df['Day'] = train_time_hourly_df_day\n",
    "train_time_hourly_df['Hour'] = train_time_hourly_df_hour"
   ]
  },
  {
   "cell_type": "code",
   "execution_count": 144,
   "metadata": {
    "ExecuteTime": {
     "end_time": "2024-04-07T17:26:39.215512Z",
     "start_time": "2024-04-07T17:26:38.574075Z"
    },
    "scrolled": true
   },
   "outputs": [
    {
     "data": {
      "image/png": "[encoded data removed]",
      "text/plain": [
       "<Figure size 432x288 with 1 Axes>"
      ]
     },
     "metadata": {},
     "output_type": "display_data"
    }
   ],
   "source": [
    "hourly_number_of_trains_by_day = sns.lineplot(data=train_time_hourly_df, x='Hour'\n",
    "                                       , y='Avg Number of Trains in an Hour', hue='Day')\n",
    "hourly_number_of_trains_by_day.set_title('Number of Trains Running by Day and Hour')\n",
    "fig = hourly_number_of_trains_by_day.get_figure()\n",
    "# fig.savefig(\"saved_data/hourly_number_of_trains_by_day.png\") "
   ]
  },
  {
   "cell_type": "markdown",
   "metadata": {},
   "source": [
    "# Data Visualizations"
   ]
  },
  {
   "cell_type": "code",
   "execution_count": 163,
   "metadata": {
    "ExecuteTime": {
     "end_time": "2024-04-07T17:26:39.625484Z",
     "start_time": "2024-04-07T17:26:39.621670Z"
    }
   },
   "outputs": [],
   "source": [
    "sorted_routes = route_frequency_by_day[route_frequency_by_day\n",
    "                                 ['day_of_week']=='Weekday'].sort_values(by='trains_per_hour')['route_id'].values\n"
   ]
  },
  {
   "cell_type": "markdown",
   "metadata": {},
   "source": [
    "## Daily Average Frequency"
   ]
  },
  {
   "cell_type": "code",
   "execution_count": 164,
   "metadata": {
    "ExecuteTime": {
     "end_time": "2024-04-07T17:26:40.224445Z",
     "start_time": "2024-04-07T17:26:39.627770Z"
    },
    "scrolled": false
   },
   "outputs": [
    {
     "data": {
      "image/png": "[encoded data removed]",
      "text/plain": [
       "<Figure size 432x288 with 1 Axes>"
      ]
     },
     "metadata": {},
     "output_type": "display_data"
    }
   ],
   "source": [
    "# with error bar \n",
    "ax = sns.barplot(data = route_frequency_by_day, x = 'route_id', y='headway_minutes'\n",
    "                 , order=sorted_routes)\n",
    "#     ax.title(interval)\n",
    "ax.grid(axis='y')\n",
    "plt.show()"
   ]
  },
  {
   "cell_type": "code",
   "execution_count": 165,
   "metadata": {
    "ExecuteTime": {
     "end_time": "2024-04-07T17:26:40.753840Z",
     "start_time": "2024-04-07T17:26:40.226308Z"
    }
   },
   "outputs": [
    {
     "data": {
      "image/png": "[encoded data removed]",
      "text/plain": [
       "<Figure size 432x288 with 1 Axes>"
      ]
     },
     "metadata": {},
     "output_type": "display_data"
    }
   ],
   "source": [
    "# separated by day \n",
    "ax = sns.barplot(data = route_frequency_by_day, x = 'route_id', y='headway_minutes'\n",
    "                 , hue='day_of_week', order=sorted_routes)\n",
    "#     ax.title(interval)\n",
    "ax.grid(axis='y')\n",
    "plt.show()"
   ]
  },
  {
   "cell_type": "markdown",
   "metadata": {},
   "source": [
    "## Frequency by Interval"
   ]
  },
  {
   "cell_type": "code",
   "execution_count": 166,
   "metadata": {
    "ExecuteTime": {
     "end_time": "2024-04-07T17:26:42.439977Z",
     "start_time": "2024-04-07T17:26:40.761574Z"
    },
    "scrolled": true
   },
   "outputs": [
    {
     "name": "stdout",
     "output_type": "stream",
     "text": [
      "Late Night\n"
     ]
    },
    {
     "data": {
      "image/png": "[encoded data removed]",
      "text/plain": [
       "<Figure size 432x288 with 1 Axes>"
      ]
     },
     "metadata": {},
     "output_type": "display_data"
    },
    {
     "name": "stdout",
     "output_type": "stream",
     "text": [
      "Rush Hour AM\n"
     ]
    },
    {
     "data": {
      "image/png": "[encoded data removed]",
      "text/plain": [
       "<Figure size 432x288 with 1 Axes>"
      ]
     },
     "metadata": {},
     "output_type": "display_data"
    },
    {
     "name": "stdout",
     "output_type": "stream",
     "text": [
      "Midday\n"
     ]
    },
    {
     "data": {
      "image/png": "[encoded data removed]",
      "text/plain": [
       "<Figure size 432x288 with 1 Axes>"
      ]
     },
     "metadata": {},
     "output_type": "display_data"
    },
    {
     "name": "stdout",
     "output_type": "stream",
     "text": [
      "Rush Hour PM\n"
     ]
    },
    {
     "data": {
      "image/png": "[encoded data removed]",
      "text/plain": [
       "<Figure size 432x288 with 1 Axes>"
      ]
     },
     "metadata": {},
     "output_type": "display_data"
    },
    {
     "name": "stdout",
     "output_type": "stream",
     "text": [
      "Evening\n"
     ]
    },
    {
     "data": {
      "image/png": "[encoded data removed]",
      "text/plain": [
       "<Figure size 432x288 with 1 Axes>"
      ]
     },
     "metadata": {},
     "output_type": "display_data"
    },
    {
     "name": "stdout",
     "output_type": "stream",
     "text": [
      "Weekend\n"
     ]
    },
    {
     "data": {
      "image/png": "[encoded data removed]",
      "text/plain": [
       "<Figure size 432x288 with 1 Axes>"
      ]
     },
     "metadata": {},
     "output_type": "display_data"
    }
   ],
   "source": [
    "for interval in time_of_day_sorting.keys():\n",
    "    print(interval)\n",
    "    ax = sns.barplot(data=trip_interval_route_freq[trip_interval_route_freq\n",
    "                                    ['Train Time Interval']==interval]\n",
    "                                 , x = 'route_id', y='Headway Minutes', order=sorted_routes)\n",
    "#     ax.title(interval)\n",
    "    ax.grid(axis='y')\n",
    "    ax.set_ylim(ymin=0, ymax=30)\n",
    "    plt.show()"
   ]
  },
  {
   "cell_type": "markdown",
   "metadata": {},
   "source": [
    "### Best and Worst Performers by Time of Day"
   ]
  },
  {
   "cell_type": "code",
   "execution_count": 202,
   "metadata": {
    "ExecuteTime": {
     "end_time": "2024-04-07T17:26:42.454642Z",
     "start_time": "2024-04-07T17:26:42.441852Z"
    },
    "scrolled": true
   },
   "outputs": [
    {
     "data": {
      "text/html": [
       "<div>\n",
       "<style scoped>\n",
       "    .dataframe tbody tr th:only-of-type {\n",
       "        vertical-align: middle;\n",
       "    }\n",
       "\n",
       "    .dataframe tbody tr th {\n",
       "        vertical-align: top;\n",
       "    }\n",
       "\n",
       "    .dataframe thead th {\n",
       "        text-align: right;\n",
       "    }\n",
       "</style>\n",
       "<table border=\"1\" class=\"dataframe\">\n",
       "  <thead>\n",
       "    <tr style=\"text-align: right;\">\n",
       "      <th></th>\n",
       "      <th>route_id</th>\n",
       "      <th>Train Time Interval</th>\n",
       "      <th>trains_per_hour</th>\n",
       "      <th>headway_seconds</th>\n",
       "      <th>Headway Minutes</th>\n",
       "      <th>route_time_seconds</th>\n",
       "      <th>route_time_minutes</th>\n",
       "      <th>Avg_num_trains_running</th>\n",
       "    </tr>\n",
       "  </thead>\n",
       "  <tbody>\n",
       "    <tr>\n",
       "      <th>85</th>\n",
       "      <td>H</td>\n",
       "      <td>Rush Hour PM</td>\n",
       "      <td>4</td>\n",
       "      <td>900.0</td>\n",
       "      <td>15.0</td>\n",
       "      <td>602</td>\n",
       "      <td>10.0</td>\n",
       "      <td>1.3</td>\n",
       "    </tr>\n",
       "    <tr>\n",
       "      <th>62</th>\n",
       "      <td>H</td>\n",
       "      <td>Midday</td>\n",
       "      <td>4</td>\n",
       "      <td>900.0</td>\n",
       "      <td>15.0</td>\n",
       "      <td>602</td>\n",
       "      <td>10.0</td>\n",
       "      <td>1.3</td>\n",
       "    </tr>\n",
       "    <tr>\n",
       "      <th>130</th>\n",
       "      <td>H</td>\n",
       "      <td>Weekend</td>\n",
       "      <td>3</td>\n",
       "      <td>1200.0</td>\n",
       "      <td>20.0</td>\n",
       "      <td>602</td>\n",
       "      <td>10.0</td>\n",
       "      <td>1.0</td>\n",
       "    </tr>\n",
       "    <tr>\n",
       "      <th>39</th>\n",
       "      <td>H</td>\n",
       "      <td>Rush Hour AM</td>\n",
       "      <td>3</td>\n",
       "      <td>1200.0</td>\n",
       "      <td>20.0</td>\n",
       "      <td>602</td>\n",
       "      <td>10.0</td>\n",
       "      <td>1.0</td>\n",
       "    </tr>\n",
       "    <tr>\n",
       "      <th>0</th>\n",
       "      <td>1</td>\n",
       "      <td>Late Night</td>\n",
       "      <td>3</td>\n",
       "      <td>1200.0</td>\n",
       "      <td>20.0</td>\n",
       "      <td>3408</td>\n",
       "      <td>56.8</td>\n",
       "      <td>5.7</td>\n",
       "    </tr>\n",
       "    <tr>\n",
       "      <th>100</th>\n",
       "      <td>B</td>\n",
       "      <td>Evening</td>\n",
       "      <td>2</td>\n",
       "      <td>1800.0</td>\n",
       "      <td>30.0</td>\n",
       "      <td>4303</td>\n",
       "      <td>71.7</td>\n",
       "      <td>4.8</td>\n",
       "    </tr>\n",
       "  </tbody>\n",
       "</table>\n",
       "</div>"
      ],
      "text/plain": [
       "    route_id Train Time Interval  trains_per_hour  headway_seconds  \\\n",
       "85         H        Rush Hour PM                4            900.0   \n",
       "62         H              Midday                4            900.0   \n",
       "130        H             Weekend                3           1200.0   \n",
       "39         H        Rush Hour AM                3           1200.0   \n",
       "0          1          Late Night                3           1200.0   \n",
       "100        B             Evening                2           1800.0   \n",
       "\n",
       "     Headway Minutes  route_time_seconds  route_time_minutes  \\\n",
       "85              15.0                 602                10.0   \n",
       "62              15.0                 602                10.0   \n",
       "130             20.0                 602                10.0   \n",
       "39              20.0                 602                10.0   \n",
       "0               20.0                3408                56.8   \n",
       "100             30.0                4303                71.7   \n",
       "\n",
       "     Avg_num_trains_running  \n",
       "85                      1.3  \n",
       "62                      1.3  \n",
       "130                     1.0  \n",
       "39                      1.0  \n",
       "0                       5.7  \n",
       "100                     4.8  "
      ]
     },
     "execution_count": 202,
     "metadata": {},
     "output_type": "execute_result"
    }
   ],
   "source": [
    "# lowest  -- removing inf values first\n",
    "# it's a tie for worst so let's just make it SIR lol \n",
    "trip_interval_route_freq[trip_interval_route_freq['Headway Minutes'] < 1000].sort_values(\n",
    "    by='Headway Minutes').drop_duplicates(subset='Train Time Interval', keep='last')"
   ]
  },
  {
   "cell_type": "code",
   "execution_count": 203,
   "metadata": {
    "ExecuteTime": {
     "end_time": "2024-04-07T17:26:42.469507Z",
     "start_time": "2024-04-07T17:26:42.456371Z"
    }
   },
   "outputs": [
    {
     "data": {
      "text/html": [
       "<div>\n",
       "<style scoped>\n",
       "    .dataframe tbody tr th:only-of-type {\n",
       "        vertical-align: middle;\n",
       "    }\n",
       "\n",
       "    .dataframe tbody tr th {\n",
       "        vertical-align: top;\n",
       "    }\n",
       "\n",
       "    .dataframe thead th {\n",
       "        text-align: right;\n",
       "    }\n",
       "</style>\n",
       "<table border=\"1\" class=\"dataframe\">\n",
       "  <thead>\n",
       "    <tr style=\"text-align: right;\">\n",
       "      <th></th>\n",
       "      <th>route_id</th>\n",
       "      <th>Train Time Interval</th>\n",
       "      <th>trains_per_hour</th>\n",
       "      <th>headway_seconds</th>\n",
       "      <th>Headway Minutes</th>\n",
       "      <th>route_time_seconds</th>\n",
       "      <th>route_time_minutes</th>\n",
       "      <th>Avg_num_trains_running</th>\n",
       "    </tr>\n",
       "  </thead>\n",
       "  <tbody>\n",
       "    <tr>\n",
       "      <th>7</th>\n",
       "      <td>A</td>\n",
       "      <td>Late Night</td>\n",
       "      <td>6</td>\n",
       "      <td>600.0</td>\n",
       "      <td>10.0</td>\n",
       "      <td>4850</td>\n",
       "      <td>80.8</td>\n",
       "      <td>16.2</td>\n",
       "    </tr>\n",
       "    <tr>\n",
       "      <th>132</th>\n",
       "      <td>L</td>\n",
       "      <td>Weekend</td>\n",
       "      <td>12</td>\n",
       "      <td>300.0</td>\n",
       "      <td>5.0</td>\n",
       "      <td>2235</td>\n",
       "      <td>37.2</td>\n",
       "      <td>14.9</td>\n",
       "    </tr>\n",
       "    <tr>\n",
       "      <th>110</th>\n",
       "      <td>L</td>\n",
       "      <td>Evening</td>\n",
       "      <td>12</td>\n",
       "      <td>300.0</td>\n",
       "      <td>5.0</td>\n",
       "      <td>2235</td>\n",
       "      <td>37.2</td>\n",
       "      <td>14.9</td>\n",
       "    </tr>\n",
       "    <tr>\n",
       "      <th>51</th>\n",
       "      <td>6</td>\n",
       "      <td>Midday</td>\n",
       "      <td>15</td>\n",
       "      <td>240.0</td>\n",
       "      <td>4.0</td>\n",
       "      <td>3445</td>\n",
       "      <td>57.4</td>\n",
       "      <td>28.7</td>\n",
       "    </tr>\n",
       "    <tr>\n",
       "      <th>75</th>\n",
       "      <td>7</td>\n",
       "      <td>Rush Hour PM</td>\n",
       "      <td>20</td>\n",
       "      <td>180.0</td>\n",
       "      <td>3.0</td>\n",
       "      <td>2245</td>\n",
       "      <td>37.4</td>\n",
       "      <td>24.9</td>\n",
       "    </tr>\n",
       "    <tr>\n",
       "      <th>29</th>\n",
       "      <td>7</td>\n",
       "      <td>Rush Hour AM</td>\n",
       "      <td>24</td>\n",
       "      <td>150.0</td>\n",
       "      <td>2.5</td>\n",
       "      <td>2245</td>\n",
       "      <td>37.4</td>\n",
       "      <td>29.9</td>\n",
       "    </tr>\n",
       "  </tbody>\n",
       "</table>\n",
       "</div>"
      ],
      "text/plain": [
       "    route_id Train Time Interval  trains_per_hour  headway_seconds  \\\n",
       "7          A          Late Night                6            600.0   \n",
       "132        L             Weekend               12            300.0   \n",
       "110        L             Evening               12            300.0   \n",
       "51         6              Midday               15            240.0   \n",
       "75         7        Rush Hour PM               20            180.0   \n",
       "29         7        Rush Hour AM               24            150.0   \n",
       "\n",
       "     Headway Minutes  route_time_seconds  route_time_minutes  \\\n",
       "7               10.0                4850                80.8   \n",
       "132              5.0                2235                37.2   \n",
       "110              5.0                2235                37.2   \n",
       "51               4.0                3445                57.4   \n",
       "75               3.0                2245                37.4   \n",
       "29               2.5                2245                37.4   \n",
       "\n",
       "     Avg_num_trains_running  \n",
       "7                      16.2  \n",
       "132                    14.9  \n",
       "110                    14.9  \n",
       "51                     28.7  \n",
       "75                     24.9  \n",
       "29                     29.9  "
      ]
     },
     "execution_count": 203,
     "metadata": {},
     "output_type": "execute_result"
    }
   ],
   "source": [
    "trip_interval_route_freq[trip_interval_route_freq['Headway Minutes'] < 1000].sort_values(\n",
    "    by='Headway Minutes', ascending=False).drop_duplicates(subset='Train Time Interval', keep='last')"
   ]
  },
  {
   "cell_type": "markdown",
   "metadata": {},
   "source": [
    "## Visualizing Hourly Frequency within a Service"
   ]
  },
  {
   "cell_type": "code",
   "execution_count": 205,
   "metadata": {
    "ExecuteTime": {
     "end_time": "2024-04-07T17:26:42.477858Z",
     "start_time": "2024-04-07T17:26:42.474440Z"
    }
   },
   "outputs": [],
   "source": [
    "# plot the headway minutes for a single line\n",
    "l_train_hourly_df = hourly_route_trip_freq[hourly_route_trip_freq['route_id']=='L']"
   ]
  },
  {
   "cell_type": "code",
   "execution_count": 206,
   "metadata": {
    "ExecuteTime": {
     "end_time": "2024-04-07T17:26:42.483977Z",
     "start_time": "2024-04-07T17:26:42.479957Z"
    }
   },
   "outputs": [],
   "source": [
    "l_train_hourly_df_trimmed = l_train_hourly_df[['day_of_week', 'departure_hour', 'headway_seconds'\n",
    "                                               , 'headway_minutes', 'Avg_num_trains_running', 'day_hour']]"
   ]
  },
  {
   "cell_type": "code",
   "execution_count": 207,
   "metadata": {
    "ExecuteTime": {
     "end_time": "2024-04-07T17:26:42.493373Z",
     "start_time": "2024-04-07T17:26:42.485647Z"
    }
   },
   "outputs": [
    {
     "name": "stdout",
     "output_type": "stream",
     "text": [
      "<class 'pandas.core.frame.DataFrame'>\n",
      "Int64Index: 72 entries, 1207 to 1278\n",
      "Data columns (total 6 columns):\n",
      " #   Column                  Non-Null Count  Dtype  \n",
      "---  ------                  --------------  -----  \n",
      " 0   day_of_week             72 non-null     object \n",
      " 1   departure_hour          72 non-null     int64  \n",
      " 2   headway_seconds         72 non-null     float64\n",
      " 3   headway_minutes         72 non-null     float64\n",
      " 4   Avg_num_trains_running  72 non-null     float64\n",
      " 5   day_hour                72 non-null     object \n",
      "dtypes: float64(3), int64(1), object(2)\n",
      "memory usage: 3.9+ KB\n"
     ]
    }
   ],
   "source": [
    "l_train_hourly_df_trimmed.info()"
   ]
  },
  {
   "cell_type": "code",
   "execution_count": 208,
   "metadata": {
    "ExecuteTime": {
     "end_time": "2024-04-07T17:26:42.744515Z",
     "start_time": "2024-04-07T17:26:42.495231Z"
    }
   },
   "outputs": [
    {
     "data": {
      "text/plain": [
       "<AxesSubplot:xlabel='departure_hour', ylabel='headway_minutes'>"
      ]
     },
     "execution_count": 208,
     "metadata": {},
     "output_type": "execute_result"
    },
    {
     "data": {
      "image/png": "[encoded data removed]",
      "text/plain": [
       "<Figure size 432x288 with 1 Axes>"
      ]
     },
     "metadata": {},
     "output_type": "display_data"
    }
   ],
   "source": [
    "sns.lineplot(data=l_train_hourly_df_trimmed, x='departure_hour', y='headway_minutes', hue='day_of_week')"
   ]
  },
  {
   "cell_type": "markdown",
   "metadata": {},
   "source": [
    "## Comparing All Services\n",
    "at rush hour"
   ]
  },
  {
   "cell_type": "code",
   "execution_count": 167,
   "metadata": {
    "ExecuteTime": {
     "end_time": "2024-04-07T17:26:42.752451Z",
     "start_time": "2024-04-07T17:26:42.746205Z"
    }
   },
   "outputs": [],
   "source": [
    "all_rush_hour_trains = trip_interval_route_freq[\n",
    "                            trip_interval_route_freq['Train Time Interval'].str.contains(\"Rush\")]\n",
    "rush_hour_trains_avg = all_rush_hour_trains.groupby('route_id').sum() / 2"
   ]
  },
  {
   "cell_type": "code",
   "execution_count": 168,
   "metadata": {
    "ExecuteTime": {
     "end_time": "2024-04-07T17:26:42.758185Z",
     "start_time": "2024-04-07T17:26:42.754225Z"
    }
   },
   "outputs": [],
   "source": [
    "rush_hour_trains_avg = rush_hour_trains_avg.sort_values(by='Headway Minutes', ascending=False).reset_index()"
   ]
  },
  {
   "cell_type": "code",
   "execution_count": 169,
   "metadata": {
    "ExecuteTime": {
     "end_time": "2024-04-07T17:26:43.457709Z",
     "start_time": "2024-04-07T17:26:43.120798Z"
    }
   },
   "outputs": [
    {
     "data": {
      "image/png": "[encoded data removed]",
      "text/plain": [
       "<Figure size 432x288 with 1 Axes>"
      ]
     },
     "metadata": {},
     "output_type": "display_data"
    }
   ],
   "source": [
    "# sns.set(style=\"line\")\n",
    "ax = sns.barplot(data=rush_hour_trains_avg, x='route_id', y='Headway Minutes', palette='deep')\n",
    "ax.set_title('Rush Hour Headways by NYC Subway Service')\n",
    "ax.set_ylabel('Headways (Minutes)')\n",
    "ax.set_xlabel('Service')\n",
    "ax.grid(b=True, axis='y')\n",
    "fig = ax.get_figure()\n",
    "# fig.savefig(\"saved_data/service_comparison_rush_hour.png\") "
   ]
  },
  {
   "cell_type": "markdown",
   "metadata": {},
   "source": [
    "# TPH and Train Time Interval Ratios\n",
    "Do the services all have the same service ratios between each train time interval?"
   ]
  },
  {
   "cell_type": "code",
   "execution_count": 213,
   "metadata": {
    "ExecuteTime": {
     "end_time": "2024-04-07T17:26:43.509177Z",
     "start_time": "2024-04-07T17:26:43.459353Z"
    }
   },
   "outputs": [],
   "source": [
    "# Finding the percentage of service for each route_id/service divided by time interval service \n",
    "service_ratio_list = [None for x in range(len(trip_interval_route_freq))]\n",
    "for service in trip_interval_route_freq.route_id.unique():\n",
    "    # get the number of trains running for each service - train time interval\n",
    "    # divide by total and insert these new numbers at the specified index for service_ratio_list\n",
    "    filtered_df_to_service = trip_interval_route_freq[trip_interval_route_freq['route_id']==service]['Avg_num_trains_running'] \n",
    "    single_service_ratio_df = pd.DataFrame(round(filtered_df_to_service/filtered_df_to_service.sum(), 2)*100)\n",
    "    for idx in single_service_ratio_df.index:\n",
    "        service_ratio_list[idx] = single_service_ratio_df.loc[idx].values[0]\n",
    "# alt. names: train_time_interval_ratio, percentage \n",
    "trip_interval_route_freq['single_service_ratio'] = service_ratio_list"
   ]
  },
  {
   "cell_type": "code",
   "execution_count": 214,
   "metadata": {
    "ExecuteTime": {
     "end_time": "2024-04-07T17:26:43.522644Z",
     "start_time": "2024-04-07T17:26:43.511844Z"
    }
   },
   "outputs": [],
   "source": [
    "# compare each route_id + train time interval to average train time interval ratio\n",
    "all_routes_service_ratio = round(trip_interval_route_freq.groupby('Train Time Interval')\n",
    "            ['Avg_num_trains_running'].sum()/ trip_interval_route_freq['Avg_num_trains_running'].sum(), 2)*100\n",
    "\n",
    "trip_interval_route_freq['mean_service_ratio'] = trip_interval_route_freq['Train Time Interval'].copy().replace(\n",
    "                                                    all_routes_service_ratio)\n",
    "\n",
    "trip_interval_route_freq['single_service_ratio_diff'] = trip_interval_route_freq['single_service_ratio'] - \\\n",
    "                                                        trip_interval_route_freq['mean_service_ratio']"
   ]
  },
  {
   "cell_type": "code",
   "execution_count": 216,
   "metadata": {
    "ExecuteTime": {
     "end_time": "2024-04-07T17:26:52.786953Z",
     "start_time": "2024-04-07T17:26:52.773939Z"
    }
   },
   "outputs": [
    {
     "data": {
      "text/html": [
       "<div>\n",
       "<style scoped>\n",
       "    .dataframe tbody tr th:only-of-type {\n",
       "        vertical-align: middle;\n",
       "    }\n",
       "\n",
       "    .dataframe tbody tr th {\n",
       "        vertical-align: top;\n",
       "    }\n",
       "\n",
       "    .dataframe thead th {\n",
       "        text-align: right;\n",
       "    }\n",
       "</style>\n",
       "<table border=\"1\" class=\"dataframe\">\n",
       "  <thead>\n",
       "    <tr style=\"text-align: right;\">\n",
       "      <th></th>\n",
       "      <th>route_id</th>\n",
       "      <th>Train Time Interval</th>\n",
       "      <th>single_service_ratio</th>\n",
       "      <th>mean_service_ratio</th>\n",
       "      <th>single_service_ratio_diff</th>\n",
       "    </tr>\n",
       "  </thead>\n",
       "  <tbody>\n",
       "    <tr>\n",
       "      <th>0</th>\n",
       "      <td>1</td>\n",
       "      <td>Late Night</td>\n",
       "      <td>5.0</td>\n",
       "      <td>7.0</td>\n",
       "      <td>-2.0</td>\n",
       "    </tr>\n",
       "    <tr>\n",
       "      <th>1</th>\n",
       "      <td>2</td>\n",
       "      <td>Late Night</td>\n",
       "      <td>8.0</td>\n",
       "      <td>7.0</td>\n",
       "      <td>1.0</td>\n",
       "    </tr>\n",
       "    <tr>\n",
       "      <th>2</th>\n",
       "      <td>3</td>\n",
       "      <td>Late Night</td>\n",
       "      <td>9.0</td>\n",
       "      <td>7.0</td>\n",
       "      <td>2.0</td>\n",
       "    </tr>\n",
       "    <tr>\n",
       "      <th>3</th>\n",
       "      <td>4</td>\n",
       "      <td>Late Night</td>\n",
       "      <td>7.0</td>\n",
       "      <td>7.0</td>\n",
       "      <td>0.0</td>\n",
       "    </tr>\n",
       "    <tr>\n",
       "      <th>4</th>\n",
       "      <td>5</td>\n",
       "      <td>Late Night</td>\n",
       "      <td>8.0</td>\n",
       "      <td>7.0</td>\n",
       "      <td>1.0</td>\n",
       "    </tr>\n",
       "    <tr>\n",
       "      <th>5</th>\n",
       "      <td>6</td>\n",
       "      <td>Late Night</td>\n",
       "      <td>5.0</td>\n",
       "      <td>7.0</td>\n",
       "      <td>-2.0</td>\n",
       "    </tr>\n",
       "  </tbody>\n",
       "</table>\n",
       "</div>"
      ],
      "text/plain": [
       "  route_id Train Time Interval  single_service_ratio  mean_service_ratio  \\\n",
       "0        1          Late Night                   5.0                 7.0   \n",
       "1        2          Late Night                   8.0                 7.0   \n",
       "2        3          Late Night                   9.0                 7.0   \n",
       "3        4          Late Night                   7.0                 7.0   \n",
       "4        5          Late Night                   8.0                 7.0   \n",
       "5        6          Late Night                   5.0                 7.0   \n",
       "\n",
       "   single_service_ratio_diff  \n",
       "0                       -2.0  \n",
       "1                        1.0  \n",
       "2                        2.0  \n",
       "3                        0.0  \n",
       "4                        1.0  \n",
       "5                       -2.0  "
      ]
     },
     "execution_count": 216,
     "metadata": {},
     "output_type": "execute_result"
    }
   ],
   "source": [
    "# all services\n",
    "trip_interval_route_freq[['route_id', 'Train Time Interval','single_service_ratio', 'mean_service_ratio'\n",
    "                         , 'single_service_ratio_diff']][0:6]"
   ]
  },
  {
   "cell_type": "code",
   "execution_count": 217,
   "metadata": {
    "ExecuteTime": {
     "end_time": "2024-04-07T17:26:54.759906Z",
     "start_time": "2024-04-07T17:26:53.946050Z"
    }
   },
   "outputs": [
    {
     "data": {
      "image/png": "[encoded data removed]",
      "text/plain": [
       "<Figure size 432x288 with 1 Axes>"
      ]
     },
     "metadata": {},
     "output_type": "display_data"
    },
    {
     "data": {
      "text/plain": [
       "<Figure size 2160x864 with 0 Axes>"
      ]
     },
     "metadata": {},
     "output_type": "display_data"
    }
   ],
   "source": [
    "sns.barplot(data=trip_interval_route_freq, x='route_id', y='single_service_ratio_diff'\n",
    "            , hue='Train Time Interval')\n",
    "plt.legend(bbox_to_anchor=(1.05, 1), loc='upper left')\n",
    "plt.figure(figsize=(30,12))\n",
    "plt.show()"
   ]
  },
  {
   "cell_type": "code",
   "execution_count": 218,
   "metadata": {
    "ExecuteTime": {
     "end_time": "2024-04-07T17:26:55.159609Z",
     "start_time": "2024-04-07T17:26:55.150364Z"
    }
   },
   "outputs": [
    {
     "data": {
      "text/html": [
       "<div>\n",
       "<style scoped>\n",
       "    .dataframe tbody tr th:only-of-type {\n",
       "        vertical-align: middle;\n",
       "    }\n",
       "\n",
       "    .dataframe tbody tr th {\n",
       "        vertical-align: top;\n",
       "    }\n",
       "\n",
       "    .dataframe thead th {\n",
       "        text-align: right;\n",
       "    }\n",
       "</style>\n",
       "<table border=\"1\" class=\"dataframe\">\n",
       "  <thead>\n",
       "    <tr style=\"text-align: right;\">\n",
       "      <th></th>\n",
       "      <th>route_id</th>\n",
       "      <th>Train Time Interval</th>\n",
       "      <th>single_service_ratio</th>\n",
       "    </tr>\n",
       "  </thead>\n",
       "  <tbody>\n",
       "    <tr>\n",
       "      <th>0</th>\n",
       "      <td>1</td>\n",
       "      <td>Late Night</td>\n",
       "      <td>5.0</td>\n",
       "    </tr>\n",
       "    <tr>\n",
       "      <th>23</th>\n",
       "      <td>1</td>\n",
       "      <td>Rush Hour AM</td>\n",
       "      <td>25.0</td>\n",
       "    </tr>\n",
       "    <tr>\n",
       "      <th>46</th>\n",
       "      <td>1</td>\n",
       "      <td>Midday</td>\n",
       "      <td>18.0</td>\n",
       "    </tr>\n",
       "    <tr>\n",
       "      <th>69</th>\n",
       "      <td>1</td>\n",
       "      <td>Rush Hour PM</td>\n",
       "      <td>25.0</td>\n",
       "    </tr>\n",
       "    <tr>\n",
       "      <th>92</th>\n",
       "      <td>1</td>\n",
       "      <td>Evening</td>\n",
       "      <td>14.0</td>\n",
       "    </tr>\n",
       "    <tr>\n",
       "      <th>115</th>\n",
       "      <td>1</td>\n",
       "      <td>Weekend</td>\n",
       "      <td>14.0</td>\n",
       "    </tr>\n",
       "  </tbody>\n",
       "</table>\n",
       "</div>"
      ],
      "text/plain": [
       "    route_id Train Time Interval  single_service_ratio\n",
       "0          1          Late Night                   5.0\n",
       "23         1        Rush Hour AM                  25.0\n",
       "46         1              Midday                  18.0\n",
       "69         1        Rush Hour PM                  25.0\n",
       "92         1             Evening                  14.0\n",
       "115        1             Weekend                  14.0"
      ]
     },
     "execution_count": 218,
     "metadata": {},
     "output_type": "execute_result"
    }
   ],
   "source": [
    "# examining one train's service ratio\n",
    "trip_interval_route_freq[trip_interval_route_freq['route_id']=='1'][['route_id', 'Train Time Interval', 'single_service_ratio']]"
   ]
  }
 ],
 "metadata": {
  "kernelspec": {
   "display_name": "Python 3",
   "language": "python",
   "name": "python3"
  },
  "language_info": {
   "codemirror_mode": {
    "name": "ipython",
    "version": 3
   },
   "file_extension": ".py",
   "mimetype": "text/x-python",
   "name": "python",
   "nbconvert_exporter": "python",
   "pygments_lexer": "ipython3",
   "version": "3.6.9"
  },
  "toc": {
   "base_numbering": 1,
   "nav_menu": {},
   "number_sections": true,
   "sideBar": true,
   "skip_h1_title": false,
   "title_cell": "Table of Contents",
   "title_sidebar": "Contents",
   "toc_cell": false,
   "toc_position": {
    "height": "calc(100% - 180px)",
    "left": "10px",
    "top": "150px",
    "width": "224.252716px"
   },
   "toc_section_display": true,
   "toc_window_display": true
  },
  "varInspector": {
   "cols": {
    "lenName": 16,
    "lenType": 16,
    "lenVar": 40
   },
   "kernels_config": {
    "python": {
     "delete_cmd_postfix": "",
     "delete_cmd_prefix": "del ",
     "library": "var_list.py",
     "varRefreshCmd": "print(var_dic_list())"
    },
    "r": {
     "delete_cmd_postfix": ") ",
     "delete_cmd_prefix": "rm(",
     "library": "var_list.r",
     "varRefreshCmd": "cat(var_dic_list()) "
    }
   },
   "position": {
    "height": "916.603271px",
    "left": "1661.391357px",
    "right": "20px",
    "top": "121.000008px",
    "width": "350px"
   },
   "types_to_exclude": [
    "module",
    "function",
    "builtin_function_or_method",
    "instance",
    "_Feature"
   ],
   "window_display": false
  }
 },
 "nbformat": 4,
 "nbformat_minor": 2
}
