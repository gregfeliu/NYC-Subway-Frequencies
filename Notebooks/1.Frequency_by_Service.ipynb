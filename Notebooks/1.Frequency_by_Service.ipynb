{
 "cells": [
  {
   "cell_type": "markdown",
   "metadata": {},
   "source": [
    "The goal of this notebook is to **use Google's GTFS data to find out how many trains are operating in the NYC Subway at any given time**. Along the way, we will also how frequency changes throughout the train schedule and examine how frequency interacts with ridership numbers."
   ]
  },
  {
   "cell_type": "markdown",
   "metadata": {},
   "source": [
    "[MTA Developer Tools](https://new.mta.info/developers). The google data for the mta should be all that we need. There's weekday, saturday, and sunday service so only need to worry about those times. Additionally, there's data on the buses, LIRR and Metro North in there, too.\n",
    "- [mta metrics dashboard](https://metrics.mta.info/?subway/customerjourneytimeperformance)\n",
    "\n",
    "[time frequency](https://en.wikipedia.org/wiki/List_of_New_York_City_Subway_services#Train_frequency_charts) breakdown"
   ]
  },
  {
   "cell_type": "markdown",
   "metadata": {},
   "source": [
    "Some notes about the results:\n",
    "- the routes change by day of week (for example the M not running its whole route on the weekends)\n",
    "- some routes include service changes (the 7 and 7 express both count as the 7)\n",
    "- this also includes late nights where the routes can change dramatically (e.g.: the 5 train doesn't leave the BX at night)\n",
    "- two routes don't run on the weekends: the B and W"
   ]
  },
  {
   "cell_type": "markdown",
   "metadata": {},
   "source": [
    "# Imports"
   ]
  },
  {
   "cell_type": "code",
   "execution_count": 171,
   "metadata": {
    "ExecuteTime": {
     "end_time": "2024-04-07T17:26:37.150470Z",
     "start_time": "2024-04-07T17:26:37.140809Z"
    }
   },
   "outputs": [],
   "source": [
    "import pandas as pd\n",
    "import numpy as np\n",
    "import geopandas as gpd\n",
    "import seaborn as sns\n",
    "sns.set_theme(style=\"darkgrid\")\n",
    "import warnings\n",
    "warnings.filterwarnings(action='ignore')\n",
    "import matplotlib.pyplot as plt\n",
    "import sys\n",
    "import os"
   ]
  },
  {
   "cell_type": "code",
   "execution_count": 172,
   "metadata": {},
   "outputs": [],
   "source": [
    "# getting functions from the parent directory\n",
    "library_path = os.path.abspath(os.path.join(os.getcwd(), os.pardir))\n",
    "if library_path not in sys.path:\n",
    "    sys.path.append(library_path)\n",
    "from functions import *"
   ]
  },
  {
   "cell_type": "markdown",
   "metadata": {},
   "source": [
    "# Schedule Data"
   ]
  },
  {
   "cell_type": "code",
   "execution_count": 173,
   "metadata": {
    "ExecuteTime": {
     "end_time": "2024-04-07T17:26:37.748535Z",
     "start_time": "2024-04-07T17:26:37.160605Z"
    }
   },
   "outputs": [],
   "source": [
    "routes_df = pd.read_csv(\"../data/google_transit/routes.txt\")\n",
    "stop_times_df = pd.read_csv(\"../data/google_transit/stop_times.txt\")\n",
    "stops_df = pd.read_csv(\"../data/google_transit/stops.txt\")"
   ]
  },
  {
   "cell_type": "markdown",
   "metadata": {},
   "source": [
    "## Frequency Data \n",
    "(that I made)"
   ]
  },
  {
   "cell_type": "code",
   "execution_count": 174,
   "metadata": {},
   "outputs": [],
   "source": [
    "first_stop_in_trip = pd.read_csv(\"../saved_data/first_stop_in_trip.csv\", index_col=0)\n",
    "average_trip_time_per_service = pd.read_csv(\"../saved_data/average_trip_time_per_service.csv\", index_col=0)\n",
    "hourly_route_trip_freq = pd.read_csv(\"../saved_data/hourly_route_trip_freq.csv\", index_col=0)\n",
    "trip_interval_route_freq = pd.read_csv(\"../saved_data/trip_interval_route_freq.csv\", index_col=0)\n",
    "hourly_station_ridership = pd.read_csv(\"../saved_data/hourly_station_ridership.csv\", index_col=0)\n",
    "route_frequency_by_day = pd.read_csv(\"../saved_data/route_frequency_by_day.csv\", index_col=0)\n",
    "station_info_w_frequency = pd.read_csv(\"../saved_data/station_info_w_frequency.csv\", index_col=0)\n",
    "stations_df = pd.read_csv(\"../saved_data/stations_df.csv\", index_col=0)"
   ]
  },
  {
   "cell_type": "code",
   "execution_count": 175,
   "metadata": {
    "ExecuteTime": {
     "end_time": "2024-04-07T17:26:38.024939Z",
     "start_time": "2024-04-07T17:26:38.016939Z"
    }
   },
   "outputs": [],
   "source": [
    "# sorting the trip interval data by service\n",
    "# sorting train_time_interval by time of day\n",
    "time_of_day_sorting = {'Late Night': 0, 'Rush Hour AM': 1, 'Midday': 2\n",
    "                                     , 'Rush Hour PM': 3, 'Evening': 4, 'Weekend': 5}\n",
    "trip_interval_route_freq = trip_interval_route_freq.sort_values(by= ['route_id', 'train_time_interval']\n",
    "                                    , key=lambda x: x.map(time_of_day_sorting)).reset_index(drop=True)"
   ]
  },
  {
   "cell_type": "markdown",
   "metadata": {},
   "source": [
    "## Removing SIR "
   ]
  },
  {
   "cell_type": "code",
   "execution_count": 176,
   "metadata": {
    "ExecuteTime": {
     "end_time": "2024-04-07T17:26:38.038676Z",
     "start_time": "2024-04-07T17:26:38.030820Z"
    },
    "scrolled": true
   },
   "outputs": [],
   "source": [
    "hourly_route_trip_freq = hourly_route_trip_freq[hourly_route_trip_freq['route_id']!='SI']\n",
    "trip_interval_route_freq = trip_interval_route_freq[trip_interval_route_freq['route_id']!='SI']\n",
    "route_frequency_by_day = route_frequency_by_day[route_frequency_by_day['route_id']!='SI']"
   ]
  },
  {
   "cell_type": "markdown",
   "metadata": {},
   "source": [
    "## Adjustments to Data"
   ]
  },
  {
   "cell_type": "code",
   "execution_count": 177,
   "metadata": {},
   "outputs": [],
   "source": [
    "daily_route_trip_freq = hourly_route_trip_freq.groupby(['route_id', 'day_of_week']).sum() / 24\n",
    "daily_route_trip_freq = daily_route_trip_freq.drop(columns=['departure_hour']).reset_index()\n",
    "# day_number_to_name_dict = {'0': 'Weekday', '5': 'Saturday', '6': 'Sunday'}\n",
    "# daily_route_trip_freq['day_of_week'] = [day_number_to_name_dict[str(x)] for x in daily_route_trip_freq['day_of_week']]\n",
    "daily_route_trip_freq = daily_route_trip_freq.round(1)"
   ]
  },
  {
   "cell_type": "code",
   "execution_count": 178,
   "metadata": {},
   "outputs": [],
   "source": [
    "route_frequency_weekday = route_frequency_by_day[route_frequency_by_day.day_of_week=='Weekday']\n",
    "route_frequency_weekday['trains_per_hour'] = route_frequency_weekday['trains_per_hour'] * 5\n",
    "route_frequency_weekend = route_frequency_by_day[route_frequency_by_day.day_of_week!='Weekday']\n",
    "# creating overall trains per hour \n",
    "route_frequency_overall = pd.concat([route_frequency_weekend, route_frequency_weekday])\n",
    "daily_route_frequency = pd.DataFrame(round(route_frequency_overall.groupby('route_id')['trains_per_hour'].sum() / 7, 1))\n",
    "daily_route_frequency = daily_route_frequency.merge(average_trip_time_per_service[['route_id', 'route_time_minutes']], on='route_id')\n",
    "daily_route_frequency['avg_num_of_trains_running'] =  round((daily_route_frequency['route_time_minutes'] / 60) * \\\n",
    "                                                        daily_route_frequency['trains_per_hour'] * 2, 1)"
   ]
  },
  {
   "cell_type": "markdown",
   "metadata": {},
   "source": [
    "# Number of Train (sets) Running "
   ]
  },
  {
   "cell_type": "markdown",
   "metadata": {},
   "source": [
    "## Daily"
   ]
  },
  {
   "cell_type": "code",
   "execution_count": 179,
   "metadata": {
    "ExecuteTime": {
     "end_time": "2024-04-07T17:26:38.052676Z",
     "start_time": "2024-04-07T17:26:38.040958Z"
    },
    "scrolled": true
   },
   "outputs": [
    {
     "data": {
      "text/html": [
       "<div>\n",
       "<style scoped>\n",
       "    .dataframe tbody tr th:only-of-type {\n",
       "        vertical-align: middle;\n",
       "    }\n",
       "\n",
       "    .dataframe tbody tr th {\n",
       "        vertical-align: top;\n",
       "    }\n",
       "\n",
       "    .dataframe thead th {\n",
       "        text-align: right;\n",
       "    }\n",
       "</style>\n",
       "<table border=\"1\" class=\"dataframe\">\n",
       "  <thead>\n",
       "    <tr style=\"text-align: right;\">\n",
       "      <th></th>\n",
       "      <th>route_id</th>\n",
       "      <th>day_of_week</th>\n",
       "      <th>Avg_num_trains_running</th>\n",
       "    </tr>\n",
       "  </thead>\n",
       "  <tbody>\n",
       "    <tr>\n",
       "      <th>36</th>\n",
       "      <td>F</td>\n",
       "      <td>Weekday</td>\n",
       "      <td>26</td>\n",
       "    </tr>\n",
       "    <tr>\n",
       "      <th>60</th>\n",
       "      <td>N</td>\n",
       "      <td>Weekday</td>\n",
       "      <td>23</td>\n",
       "    </tr>\n",
       "    <tr>\n",
       "      <th>17</th>\n",
       "      <td>6</td>\n",
       "      <td>Weekday</td>\n",
       "      <td>22</td>\n",
       "    </tr>\n",
       "    <tr>\n",
       "      <th>5</th>\n",
       "      <td>2</td>\n",
       "      <td>Weekday</td>\n",
       "      <td>22</td>\n",
       "    </tr>\n",
       "    <tr>\n",
       "      <th>23</th>\n",
       "      <td>A</td>\n",
       "      <td>Weekday</td>\n",
       "      <td>21</td>\n",
       "    </tr>\n",
       "  </tbody>\n",
       "</table>\n",
       "</div>"
      ],
      "text/plain": [
       "   route_id day_of_week  Avg_num_trains_running\n",
       "36        F     Weekday                      26\n",
       "60        N     Weekday                      23\n",
       "17        6     Weekday                      22\n",
       "5         2     Weekday                      22\n",
       "23        A     Weekday                      21"
      ]
     },
     "execution_count": 179,
     "metadata": {},
     "output_type": "execute_result"
    }
   ],
   "source": [
    "# services with the most trains running overall\n",
    "daily_route_trip_freq[['route_id', 'day_of_week', \"Avg_num_trains_running\"]].sort_values(by='Avg_num_trains_running'\n",
    "                                                                          , ascending=False)[0:5]"
   ]
  },
  {
   "cell_type": "code",
   "execution_count": 180,
   "metadata": {
    "ExecuteTime": {
     "end_time": "2024-04-07T17:26:38.059173Z",
     "start_time": "2024-04-07T17:26:38.054619Z"
    }
   },
   "outputs": [
    {
     "data": {
      "text/plain": [
       "np.float64(294.1)"
      ]
     },
     "execution_count": 180,
     "metadata": {},
     "output_type": "execute_result"
    }
   ],
   "source": [
    "# 294 trains running on average!\n",
    "# this is trains moving at any one moment (Grand Central Shuttle counts as 1/4 of a train)\n",
    "round(daily_route_frequency['avg_num_of_trains_running'].sum(), 1)"
   ]
  },
  {
   "cell_type": "markdown",
   "metadata": {},
   "source": [
    "## Train Time Interval"
   ]
  },
  {
   "cell_type": "code",
   "execution_count": 181,
   "metadata": {
    "ExecuteTime": {
     "end_time": "2024-04-07T17:26:38.073297Z",
     "start_time": "2024-04-07T17:26:38.062190Z"
    },
    "scrolled": true
   },
   "outputs": [
    {
     "data": {
      "text/html": [
       "<div>\n",
       "<style scoped>\n",
       "    .dataframe tbody tr th:only-of-type {\n",
       "        vertical-align: middle;\n",
       "    }\n",
       "\n",
       "    .dataframe tbody tr th {\n",
       "        vertical-align: top;\n",
       "    }\n",
       "\n",
       "    .dataframe thead th {\n",
       "        text-align: right;\n",
       "    }\n",
       "</style>\n",
       "<table border=\"1\" class=\"dataframe\">\n",
       "  <thead>\n",
       "    <tr style=\"text-align: right;\">\n",
       "      <th></th>\n",
       "      <th>route_id</th>\n",
       "      <th>train_time_interval</th>\n",
       "      <th>Avg_num_trains_running</th>\n",
       "    </tr>\n",
       "  </thead>\n",
       "  <tbody>\n",
       "    <tr>\n",
       "      <th>36</th>\n",
       "      <td>F</td>\n",
       "      <td>Rush Hour AM</td>\n",
       "      <td>42</td>\n",
       "    </tr>\n",
       "    <tr>\n",
       "      <th>84</th>\n",
       "      <td>F</td>\n",
       "      <td>Rush Hour PM</td>\n",
       "      <td>38</td>\n",
       "    </tr>\n",
       "    <tr>\n",
       "      <th>29</th>\n",
       "      <td>6</td>\n",
       "      <td>Rush Hour AM</td>\n",
       "      <td>33</td>\n",
       "    </tr>\n",
       "    <tr>\n",
       "      <th>44</th>\n",
       "      <td>N</td>\n",
       "      <td>Rush Hour AM</td>\n",
       "      <td>33</td>\n",
       "    </tr>\n",
       "    <tr>\n",
       "      <th>92</th>\n",
       "      <td>N</td>\n",
       "      <td>Rush Hour PM</td>\n",
       "      <td>33</td>\n",
       "    </tr>\n",
       "  </tbody>\n",
       "</table>\n",
       "</div>"
      ],
      "text/plain": [
       "   route_id train_time_interval  Avg_num_trains_running\n",
       "36        F        Rush Hour AM                      42\n",
       "84        F        Rush Hour PM                      38\n",
       "29        6        Rush Hour AM                      33\n",
       "44        N        Rush Hour AM                      33\n",
       "92        N        Rush Hour PM                      33"
      ]
     },
     "execution_count": 181,
     "metadata": {},
     "output_type": "execute_result"
    }
   ],
   "source": [
    "trip_interval_route_freq[['route_id', 'train_time_interval', 'Avg_num_trains_running']].sort_values(\n",
    "                                                    by='Avg_num_trains_running', ascending=False)[0:5]"
   ]
  },
  {
   "cell_type": "code",
   "execution_count": 182,
   "metadata": {},
   "outputs": [
    {
     "data": {
      "text/html": [
       "<div>\n",
       "<style scoped>\n",
       "    .dataframe tbody tr th:only-of-type {\n",
       "        vertical-align: middle;\n",
       "    }\n",
       "\n",
       "    .dataframe tbody tr th {\n",
       "        vertical-align: top;\n",
       "    }\n",
       "\n",
       "    .dataframe thead th {\n",
       "        text-align: right;\n",
       "    }\n",
       "</style>\n",
       "<table border=\"1\" class=\"dataframe\">\n",
       "  <thead>\n",
       "    <tr style=\"text-align: right;\">\n",
       "      <th></th>\n",
       "      <th>route_id</th>\n",
       "      <th>train_time_interval</th>\n",
       "      <th>trains_per_hour</th>\n",
       "      <th>headway_seconds</th>\n",
       "      <th>headway_minutes</th>\n",
       "      <th>route_time_seconds</th>\n",
       "      <th>route_time_minutes</th>\n",
       "      <th>Avg_num_trains_running</th>\n",
       "    </tr>\n",
       "  </thead>\n",
       "  <tbody>\n",
       "    <tr>\n",
       "      <th>0</th>\n",
       "      <td>1</td>\n",
       "      <td>Late Night</td>\n",
       "      <td>4</td>\n",
       "      <td>989</td>\n",
       "      <td>16</td>\n",
       "      <td>3408</td>\n",
       "      <td>57</td>\n",
       "      <td>7</td>\n",
       "    </tr>\n",
       "    <tr>\n",
       "      <th>1</th>\n",
       "      <td>2</td>\n",
       "      <td>Late Night</td>\n",
       "      <td>4</td>\n",
       "      <td>989</td>\n",
       "      <td>16</td>\n",
       "      <td>5744</td>\n",
       "      <td>96</td>\n",
       "      <td>12</td>\n",
       "    </tr>\n",
       "    <tr>\n",
       "      <th>2</th>\n",
       "      <td>3</td>\n",
       "      <td>Late Night</td>\n",
       "      <td>4</td>\n",
       "      <td>1,032</td>\n",
       "      <td>17</td>\n",
       "      <td>3486</td>\n",
       "      <td>58</td>\n",
       "      <td>7</td>\n",
       "    </tr>\n",
       "    <tr>\n",
       "      <th>3</th>\n",
       "      <td>4</td>\n",
       "      <td>Late Night</td>\n",
       "      <td>4</td>\n",
       "      <td>924</td>\n",
       "      <td>15</td>\n",
       "      <td>4141</td>\n",
       "      <td>69</td>\n",
       "      <td>9</td>\n",
       "    </tr>\n",
       "    <tr>\n",
       "      <th>4</th>\n",
       "      <td>5</td>\n",
       "      <td>Late Night</td>\n",
       "      <td>4</td>\n",
       "      <td>989</td>\n",
       "      <td>16</td>\n",
       "      <td>3292</td>\n",
       "      <td>55</td>\n",
       "      <td>7</td>\n",
       "    </tr>\n",
       "    <tr>\n",
       "      <th>...</th>\n",
       "      <td>...</td>\n",
       "      <td>...</td>\n",
       "      <td>...</td>\n",
       "      <td>...</td>\n",
       "      <td>...</td>\n",
       "      <td>...</td>\n",
       "      <td>...</td>\n",
       "      <td>...</td>\n",
       "    </tr>\n",
       "    <tr>\n",
       "      <th>137</th>\n",
       "      <td>L</td>\n",
       "      <td>Weekend</td>\n",
       "      <td>12</td>\n",
       "      <td>297</td>\n",
       "      <td>5</td>\n",
       "      <td>2235</td>\n",
       "      <td>37</td>\n",
       "      <td>15</td>\n",
       "    </tr>\n",
       "    <tr>\n",
       "      <th>138</th>\n",
       "      <td>M</td>\n",
       "      <td>Weekend</td>\n",
       "      <td>6</td>\n",
       "      <td>597</td>\n",
       "      <td>10</td>\n",
       "      <td>2247</td>\n",
       "      <td>38</td>\n",
       "      <td>8</td>\n",
       "    </tr>\n",
       "    <tr>\n",
       "      <th>139</th>\n",
       "      <td>N</td>\n",
       "      <td>Weekend</td>\n",
       "      <td>5</td>\n",
       "      <td>724</td>\n",
       "      <td>12</td>\n",
       "      <td>4186</td>\n",
       "      <td>70</td>\n",
       "      <td>12</td>\n",
       "    </tr>\n",
       "    <tr>\n",
       "      <th>140</th>\n",
       "      <td>Q</td>\n",
       "      <td>Weekend</td>\n",
       "      <td>7</td>\n",
       "      <td>545</td>\n",
       "      <td>9</td>\n",
       "      <td>3848</td>\n",
       "      <td>64</td>\n",
       "      <td>14</td>\n",
       "    </tr>\n",
       "    <tr>\n",
       "      <th>141</th>\n",
       "      <td>R</td>\n",
       "      <td>Weekend</td>\n",
       "      <td>5</td>\n",
       "      <td>750</td>\n",
       "      <td>12</td>\n",
       "      <td>4732</td>\n",
       "      <td>79</td>\n",
       "      <td>13</td>\n",
       "    </tr>\n",
       "  </tbody>\n",
       "</table>\n",
       "<p>137 rows × 8 columns</p>\n",
       "</div>"
      ],
      "text/plain": [
       "    route_id train_time_interval  trains_per_hour  headway_seconds  \\\n",
       "0          1          Late Night                4              989   \n",
       "1          2          Late Night                4              989   \n",
       "2          3          Late Night                4            1,032   \n",
       "3          4          Late Night                4              924   \n",
       "4          5          Late Night                4              989   \n",
       "..       ...                 ...              ...              ...   \n",
       "137        L             Weekend               12              297   \n",
       "138        M             Weekend                6              597   \n",
       "139        N             Weekend                5              724   \n",
       "140        Q             Weekend                7              545   \n",
       "141        R             Weekend                5              750   \n",
       "\n",
       "     headway_minutes  route_time_seconds  route_time_minutes  \\\n",
       "0                 16                3408                  57   \n",
       "1                 16                5744                  96   \n",
       "2                 17                3486                  58   \n",
       "3                 15                4141                  69   \n",
       "4                 16                3292                  55   \n",
       "..               ...                 ...                 ...   \n",
       "137                5                2235                  37   \n",
       "138               10                2247                  38   \n",
       "139               12                4186                  70   \n",
       "140                9                3848                  64   \n",
       "141               12                4732                  79   \n",
       "\n",
       "     Avg_num_trains_running  \n",
       "0                         7  \n",
       "1                        12  \n",
       "2                         7  \n",
       "3                         9  \n",
       "4                         7  \n",
       "..                      ...  \n",
       "137                      15  \n",
       "138                       8  \n",
       "139                      12  \n",
       "140                      14  \n",
       "141                      13  \n",
       "\n",
       "[137 rows x 8 columns]"
      ]
     },
     "execution_count": 182,
     "metadata": {},
     "output_type": "execute_result"
    }
   ],
   "source": [
    "trip_interval_route_freq"
   ]
  },
  {
   "cell_type": "code",
   "execution_count": 183,
   "metadata": {
    "ExecuteTime": {
     "end_time": "2024-04-07T17:26:38.089041Z",
     "start_time": "2024-04-07T17:26:38.075511Z"
    }
   },
   "outputs": [],
   "source": [
    "# looking at train time interval overall\n",
    "interval_number_of_trains_dict = {}\n",
    "for value in trip_interval_route_freq['train_time_interval'].unique():\n",
    "    interval_avg_num_trains = trip_interval_route_freq[trip_interval_route_freq['train_time_interval']==value\n",
    "                                                                                ]['Avg_num_trains_running'].sum()\n",
    "    interval_number_of_trains_dict[value] = round(interval_avg_num_trains, 1)\n",
    "train_time_interval_df = pd.DataFrame.from_dict(interval_number_of_trains_dict, orient='index'\n",
    "                                                , columns=['Avg_number_of_trains_in_interval'])"
   ]
  },
  {
   "cell_type": "code",
   "execution_count": 184,
   "metadata": {
    "ExecuteTime": {
     "end_time": "2024-04-07T17:26:38.101445Z",
     "start_time": "2024-04-07T17:26:38.091955Z"
    }
   },
   "outputs": [
    {
     "data": {
      "text/html": [
       "<div>\n",
       "<style scoped>\n",
       "    .dataframe tbody tr th:only-of-type {\n",
       "        vertical-align: middle;\n",
       "    }\n",
       "\n",
       "    .dataframe tbody tr th {\n",
       "        vertical-align: top;\n",
       "    }\n",
       "\n",
       "    .dataframe thead th {\n",
       "        text-align: right;\n",
       "    }\n",
       "</style>\n",
       "<table border=\"1\" class=\"dataframe\">\n",
       "  <thead>\n",
       "    <tr style=\"text-align: right;\">\n",
       "      <th></th>\n",
       "      <th>Avg_number_of_trains_in_interval</th>\n",
       "    </tr>\n",
       "  </thead>\n",
       "  <tbody>\n",
       "    <tr>\n",
       "      <th>Late Night</th>\n",
       "      <td>147</td>\n",
       "    </tr>\n",
       "    <tr>\n",
       "      <th>Weekend</th>\n",
       "      <td>249</td>\n",
       "    </tr>\n",
       "    <tr>\n",
       "      <th>Evening</th>\n",
       "      <td>256</td>\n",
       "    </tr>\n",
       "    <tr>\n",
       "      <th>Midday</th>\n",
       "      <td>384</td>\n",
       "    </tr>\n",
       "    <tr>\n",
       "      <th>Rush Hour PM</th>\n",
       "      <td>441</td>\n",
       "    </tr>\n",
       "    <tr>\n",
       "      <th>Rush Hour AM</th>\n",
       "      <td>465</td>\n",
       "    </tr>\n",
       "  </tbody>\n",
       "</table>\n",
       "</div>"
      ],
      "text/plain": [
       "              Avg_number_of_trains_in_interval\n",
       "Late Night                                 147\n",
       "Weekend                                    249\n",
       "Evening                                    256\n",
       "Midday                                     384\n",
       "Rush Hour PM                               441\n",
       "Rush Hour AM                               465"
      ]
     },
     "execution_count": 184,
     "metadata": {},
     "output_type": "execute_result"
    }
   ],
   "source": [
    "train_time_interval_df.sort_values(by='Avg_number_of_trains_in_interval').round()"
   ]
  },
  {
   "cell_type": "code",
   "execution_count": 185,
   "metadata": {
    "ExecuteTime": {
     "end_time": "2024-04-07T17:26:38.101445Z",
     "start_time": "2024-04-07T17:26:38.091955Z"
    }
   },
   "outputs": [
    {
     "data": {
      "text/html": [
       "<div>\n",
       "<style scoped>\n",
       "    .dataframe tbody tr th:only-of-type {\n",
       "        vertical-align: middle;\n",
       "    }\n",
       "\n",
       "    .dataframe tbody tr th {\n",
       "        vertical-align: top;\n",
       "    }\n",
       "\n",
       "    .dataframe thead th {\n",
       "        text-align: right;\n",
       "    }\n",
       "</style>\n",
       "<table border=\"1\" class=\"dataframe\">\n",
       "  <thead>\n",
       "    <tr style=\"text-align: right;\">\n",
       "      <th></th>\n",
       "      <th>route_id</th>\n",
       "      <th>train_time_interval</th>\n",
       "      <th>trains_per_hour</th>\n",
       "      <th>headway_seconds</th>\n",
       "      <th>headway_minutes</th>\n",
       "      <th>route_time_seconds</th>\n",
       "      <th>route_time_minutes</th>\n",
       "      <th>Avg_num_trains_running</th>\n",
       "    </tr>\n",
       "  </thead>\n",
       "  <tbody>\n",
       "    <tr>\n",
       "      <th>7</th>\n",
       "      <td>A</td>\n",
       "      <td>Late Night</td>\n",
       "      <td>6</td>\n",
       "      <td>600</td>\n",
       "      <td>10</td>\n",
       "      <td>4850</td>\n",
       "      <td>81</td>\n",
       "      <td>16</td>\n",
       "    </tr>\n",
       "    <tr>\n",
       "      <th>121</th>\n",
       "      <td>2</td>\n",
       "      <td>Weekend</td>\n",
       "      <td>6</td>\n",
       "      <td>578</td>\n",
       "      <td>10</td>\n",
       "      <td>5744</td>\n",
       "      <td>96</td>\n",
       "      <td>20</td>\n",
       "    </tr>\n",
       "    <tr>\n",
       "      <th>108</th>\n",
       "      <td>F</td>\n",
       "      <td>Evening</td>\n",
       "      <td>6</td>\n",
       "      <td>554</td>\n",
       "      <td>9</td>\n",
       "      <td>5841</td>\n",
       "      <td>97</td>\n",
       "      <td>21</td>\n",
       "    </tr>\n",
       "    <tr>\n",
       "      <th>68</th>\n",
       "      <td>N</td>\n",
       "      <td>Midday</td>\n",
       "      <td>13</td>\n",
       "      <td>270</td>\n",
       "      <td>4</td>\n",
       "      <td>4186</td>\n",
       "      <td>70</td>\n",
       "      <td>31</td>\n",
       "    </tr>\n",
       "    <tr>\n",
       "      <th>84</th>\n",
       "      <td>F</td>\n",
       "      <td>Rush Hour PM</td>\n",
       "      <td>12</td>\n",
       "      <td>312</td>\n",
       "      <td>5</td>\n",
       "      <td>5841</td>\n",
       "      <td>97</td>\n",
       "      <td>38</td>\n",
       "    </tr>\n",
       "    <tr>\n",
       "      <th>36</th>\n",
       "      <td>F</td>\n",
       "      <td>Rush Hour AM</td>\n",
       "      <td>13</td>\n",
       "      <td>277</td>\n",
       "      <td>5</td>\n",
       "      <td>5841</td>\n",
       "      <td>97</td>\n",
       "      <td>42</td>\n",
       "    </tr>\n",
       "  </tbody>\n",
       "</table>\n",
       "</div>"
      ],
      "text/plain": [
       "    route_id train_time_interval  trains_per_hour  headway_seconds  \\\n",
       "7          A          Late Night                6              600   \n",
       "121        2             Weekend                6              578   \n",
       "108        F             Evening                6              554   \n",
       "68         N              Midday               13              270   \n",
       "84         F        Rush Hour PM               12              312   \n",
       "36         F        Rush Hour AM               13              277   \n",
       "\n",
       "     headway_minutes  route_time_seconds  route_time_minutes  \\\n",
       "7                 10                4850                  81   \n",
       "121               10                5744                  96   \n",
       "108                9                5841                  97   \n",
       "68                 4                4186                  70   \n",
       "84                 5                5841                  97   \n",
       "36                 5                5841                  97   \n",
       "\n",
       "     Avg_num_trains_running  \n",
       "7                        16  \n",
       "121                      20  \n",
       "108                      21  \n",
       "68                       31  \n",
       "84                       38  \n",
       "36                       42  "
      ]
     },
     "execution_count": 185,
     "metadata": {},
     "output_type": "execute_result"
    }
   ],
   "source": [
    "# which routes has the most service per train time interval\n",
    "# are there ties for the frequency??\n",
    "trip_interval_route_freq[trip_interval_route_freq['headway_minutes'] < 1000].sort_values(\n",
    "        by='Avg_num_trains_running').drop_duplicates(subset='train_time_interval', keep='last')"
   ]
  },
  {
   "cell_type": "markdown",
   "metadata": {},
   "source": [
    "### Plotting the Change in Frequency by Train Time Interval"
   ]
  },
  {
   "cell_type": "code",
   "execution_count": 186,
   "metadata": {},
   "outputs": [
    {
     "data": {
      "text/html": [
       "<div>\n",
       "<style scoped>\n",
       "    .dataframe tbody tr th:only-of-type {\n",
       "        vertical-align: middle;\n",
       "    }\n",
       "\n",
       "    .dataframe tbody tr th {\n",
       "        vertical-align: top;\n",
       "    }\n",
       "\n",
       "    .dataframe thead th {\n",
       "        text-align: right;\n",
       "    }\n",
       "</style>\n",
       "<table border=\"1\" class=\"dataframe\">\n",
       "  <thead>\n",
       "    <tr style=\"text-align: right;\">\n",
       "      <th></th>\n",
       "      <th>route_id</th>\n",
       "      <th>train_time_interval</th>\n",
       "      <th>trains_per_hour</th>\n",
       "      <th>headway_seconds</th>\n",
       "      <th>headway_minutes</th>\n",
       "      <th>route_time_seconds</th>\n",
       "      <th>route_time_minutes</th>\n",
       "      <th>Avg_num_trains_running</th>\n",
       "    </tr>\n",
       "  </thead>\n",
       "  <tbody>\n",
       "    <tr>\n",
       "      <th>0</th>\n",
       "      <td>1</td>\n",
       "      <td>Late Night</td>\n",
       "      <td>4</td>\n",
       "      <td>989</td>\n",
       "      <td>16</td>\n",
       "      <td>3408</td>\n",
       "      <td>57</td>\n",
       "      <td>7</td>\n",
       "    </tr>\n",
       "    <tr>\n",
       "      <th>1</th>\n",
       "      <td>2</td>\n",
       "      <td>Late Night</td>\n",
       "      <td>4</td>\n",
       "      <td>989</td>\n",
       "      <td>16</td>\n",
       "      <td>5744</td>\n",
       "      <td>96</td>\n",
       "      <td>12</td>\n",
       "    </tr>\n",
       "    <tr>\n",
       "      <th>2</th>\n",
       "      <td>3</td>\n",
       "      <td>Late Night</td>\n",
       "      <td>4</td>\n",
       "      <td>1,032</td>\n",
       "      <td>17</td>\n",
       "      <td>3486</td>\n",
       "      <td>58</td>\n",
       "      <td>7</td>\n",
       "    </tr>\n",
       "    <tr>\n",
       "      <th>3</th>\n",
       "      <td>4</td>\n",
       "      <td>Late Night</td>\n",
       "      <td>4</td>\n",
       "      <td>924</td>\n",
       "      <td>15</td>\n",
       "      <td>4141</td>\n",
       "      <td>69</td>\n",
       "      <td>9</td>\n",
       "    </tr>\n",
       "    <tr>\n",
       "      <th>4</th>\n",
       "      <td>5</td>\n",
       "      <td>Late Night</td>\n",
       "      <td>4</td>\n",
       "      <td>989</td>\n",
       "      <td>16</td>\n",
       "      <td>3292</td>\n",
       "      <td>55</td>\n",
       "      <td>7</td>\n",
       "    </tr>\n",
       "    <tr>\n",
       "      <th>...</th>\n",
       "      <td>...</td>\n",
       "      <td>...</td>\n",
       "      <td>...</td>\n",
       "      <td>...</td>\n",
       "      <td>...</td>\n",
       "      <td>...</td>\n",
       "      <td>...</td>\n",
       "      <td>...</td>\n",
       "    </tr>\n",
       "    <tr>\n",
       "      <th>137</th>\n",
       "      <td>L</td>\n",
       "      <td>Weekend</td>\n",
       "      <td>12</td>\n",
       "      <td>297</td>\n",
       "      <td>5</td>\n",
       "      <td>2235</td>\n",
       "      <td>37</td>\n",
       "      <td>15</td>\n",
       "    </tr>\n",
       "    <tr>\n",
       "      <th>138</th>\n",
       "      <td>M</td>\n",
       "      <td>Weekend</td>\n",
       "      <td>6</td>\n",
       "      <td>597</td>\n",
       "      <td>10</td>\n",
       "      <td>2247</td>\n",
       "      <td>38</td>\n",
       "      <td>8</td>\n",
       "    </tr>\n",
       "    <tr>\n",
       "      <th>139</th>\n",
       "      <td>N</td>\n",
       "      <td>Weekend</td>\n",
       "      <td>5</td>\n",
       "      <td>724</td>\n",
       "      <td>12</td>\n",
       "      <td>4186</td>\n",
       "      <td>70</td>\n",
       "      <td>12</td>\n",
       "    </tr>\n",
       "    <tr>\n",
       "      <th>140</th>\n",
       "      <td>Q</td>\n",
       "      <td>Weekend</td>\n",
       "      <td>7</td>\n",
       "      <td>545</td>\n",
       "      <td>9</td>\n",
       "      <td>3848</td>\n",
       "      <td>64</td>\n",
       "      <td>14</td>\n",
       "    </tr>\n",
       "    <tr>\n",
       "      <th>141</th>\n",
       "      <td>R</td>\n",
       "      <td>Weekend</td>\n",
       "      <td>5</td>\n",
       "      <td>750</td>\n",
       "      <td>12</td>\n",
       "      <td>4732</td>\n",
       "      <td>79</td>\n",
       "      <td>13</td>\n",
       "    </tr>\n",
       "  </tbody>\n",
       "</table>\n",
       "<p>137 rows × 8 columns</p>\n",
       "</div>"
      ],
      "text/plain": [
       "    route_id train_time_interval  trains_per_hour  headway_seconds  \\\n",
       "0          1          Late Night                4              989   \n",
       "1          2          Late Night                4              989   \n",
       "2          3          Late Night                4            1,032   \n",
       "3          4          Late Night                4              924   \n",
       "4          5          Late Night                4              989   \n",
       "..       ...                 ...              ...              ...   \n",
       "137        L             Weekend               12              297   \n",
       "138        M             Weekend                6              597   \n",
       "139        N             Weekend                5              724   \n",
       "140        Q             Weekend                7              545   \n",
       "141        R             Weekend                5              750   \n",
       "\n",
       "     headway_minutes  route_time_seconds  route_time_minutes  \\\n",
       "0                 16                3408                  57   \n",
       "1                 16                5744                  96   \n",
       "2                 17                3486                  58   \n",
       "3                 15                4141                  69   \n",
       "4                 16                3292                  55   \n",
       "..               ...                 ...                 ...   \n",
       "137                5                2235                  37   \n",
       "138               10                2247                  38   \n",
       "139               12                4186                  70   \n",
       "140                9                3848                  64   \n",
       "141               12                4732                  79   \n",
       "\n",
       "     Avg_num_trains_running  \n",
       "0                         7  \n",
       "1                        12  \n",
       "2                         7  \n",
       "3                         9  \n",
       "4                         7  \n",
       "..                      ...  \n",
       "137                      15  \n",
       "138                       8  \n",
       "139                      12  \n",
       "140                      14  \n",
       "141                      13  \n",
       "\n",
       "[137 rows x 8 columns]"
      ]
     },
     "execution_count": 186,
     "metadata": {},
     "output_type": "execute_result"
    }
   ],
   "source": [
    "trip_interval_route_freq"
   ]
  },
  {
   "cell_type": "code",
   "execution_count": 187,
   "metadata": {},
   "outputs": [],
   "source": [
    "# removing edge cases \n",
    "# essentially the late night B, C, and GS have trains which have services barely crossing into this interval\n",
    "trip_interval_route_freq = trip_interval_route_freq[trip_interval_route_freq['headway_minutes']<31]\n",
    "# removing the G from any service comparisons\n",
    "# the route length shifts variabley so the frequency calculations are incorrect\n",
    "trip_interval_route_freq = trip_interval_route_freq[trip_interval_route_freq['route_id']!='G']"
   ]
  },
  {
   "cell_type": "code",
   "execution_count": 188,
   "metadata": {},
   "outputs": [
    {
     "data": {
      "text/html": [
       "<div>\n",
       "<style scoped>\n",
       "    .dataframe tbody tr th:only-of-type {\n",
       "        vertical-align: middle;\n",
       "    }\n",
       "\n",
       "    .dataframe tbody tr th {\n",
       "        vertical-align: top;\n",
       "    }\n",
       "\n",
       "    .dataframe thead th {\n",
       "        text-align: right;\n",
       "    }\n",
       "</style>\n",
       "<table border=\"1\" class=\"dataframe\">\n",
       "  <thead>\n",
       "    <tr style=\"text-align: right;\">\n",
       "      <th></th>\n",
       "      <th>route_id</th>\n",
       "      <th>train_time_interval</th>\n",
       "      <th>trains_per_hour</th>\n",
       "      <th>headway_seconds</th>\n",
       "      <th>headway_minutes</th>\n",
       "      <th>route_time_seconds</th>\n",
       "      <th>route_time_minutes</th>\n",
       "      <th>Avg_num_trains_running</th>\n",
       "    </tr>\n",
       "  </thead>\n",
       "  <tbody>\n",
       "    <tr>\n",
       "      <th>0</th>\n",
       "      <td>1</td>\n",
       "      <td>Late Night</td>\n",
       "      <td>4</td>\n",
       "      <td>989</td>\n",
       "      <td>16</td>\n",
       "      <td>3408</td>\n",
       "      <td>57</td>\n",
       "      <td>7</td>\n",
       "    </tr>\n",
       "    <tr>\n",
       "      <th>1</th>\n",
       "      <td>2</td>\n",
       "      <td>Late Night</td>\n",
       "      <td>4</td>\n",
       "      <td>989</td>\n",
       "      <td>16</td>\n",
       "      <td>5744</td>\n",
       "      <td>96</td>\n",
       "      <td>12</td>\n",
       "    </tr>\n",
       "    <tr>\n",
       "      <th>2</th>\n",
       "      <td>3</td>\n",
       "      <td>Late Night</td>\n",
       "      <td>4</td>\n",
       "      <td>1,032</td>\n",
       "      <td>17</td>\n",
       "      <td>3486</td>\n",
       "      <td>58</td>\n",
       "      <td>7</td>\n",
       "    </tr>\n",
       "    <tr>\n",
       "      <th>3</th>\n",
       "      <td>4</td>\n",
       "      <td>Late Night</td>\n",
       "      <td>4</td>\n",
       "      <td>924</td>\n",
       "      <td>15</td>\n",
       "      <td>4141</td>\n",
       "      <td>69</td>\n",
       "      <td>9</td>\n",
       "    </tr>\n",
       "    <tr>\n",
       "      <th>4</th>\n",
       "      <td>5</td>\n",
       "      <td>Late Night</td>\n",
       "      <td>4</td>\n",
       "      <td>989</td>\n",
       "      <td>16</td>\n",
       "      <td>3292</td>\n",
       "      <td>55</td>\n",
       "      <td>7</td>\n",
       "    </tr>\n",
       "    <tr>\n",
       "      <th>...</th>\n",
       "      <td>...</td>\n",
       "      <td>...</td>\n",
       "      <td>...</td>\n",
       "      <td>...</td>\n",
       "      <td>...</td>\n",
       "      <td>...</td>\n",
       "      <td>...</td>\n",
       "      <td>...</td>\n",
       "    </tr>\n",
       "    <tr>\n",
       "      <th>137</th>\n",
       "      <td>L</td>\n",
       "      <td>Weekend</td>\n",
       "      <td>12</td>\n",
       "      <td>297</td>\n",
       "      <td>5</td>\n",
       "      <td>2235</td>\n",
       "      <td>37</td>\n",
       "      <td>15</td>\n",
       "    </tr>\n",
       "    <tr>\n",
       "      <th>138</th>\n",
       "      <td>M</td>\n",
       "      <td>Weekend</td>\n",
       "      <td>6</td>\n",
       "      <td>597</td>\n",
       "      <td>10</td>\n",
       "      <td>2247</td>\n",
       "      <td>38</td>\n",
       "      <td>8</td>\n",
       "    </tr>\n",
       "    <tr>\n",
       "      <th>139</th>\n",
       "      <td>N</td>\n",
       "      <td>Weekend</td>\n",
       "      <td>5</td>\n",
       "      <td>724</td>\n",
       "      <td>12</td>\n",
       "      <td>4186</td>\n",
       "      <td>70</td>\n",
       "      <td>12</td>\n",
       "    </tr>\n",
       "    <tr>\n",
       "      <th>140</th>\n",
       "      <td>Q</td>\n",
       "      <td>Weekend</td>\n",
       "      <td>7</td>\n",
       "      <td>545</td>\n",
       "      <td>9</td>\n",
       "      <td>3848</td>\n",
       "      <td>64</td>\n",
       "      <td>14</td>\n",
       "    </tr>\n",
       "    <tr>\n",
       "      <th>141</th>\n",
       "      <td>R</td>\n",
       "      <td>Weekend</td>\n",
       "      <td>5</td>\n",
       "      <td>750</td>\n",
       "      <td>12</td>\n",
       "      <td>4732</td>\n",
       "      <td>79</td>\n",
       "      <td>13</td>\n",
       "    </tr>\n",
       "  </tbody>\n",
       "</table>\n",
       "<p>128 rows × 8 columns</p>\n",
       "</div>"
      ],
      "text/plain": [
       "    route_id train_time_interval  trains_per_hour  headway_seconds  \\\n",
       "0          1          Late Night                4              989   \n",
       "1          2          Late Night                4              989   \n",
       "2          3          Late Night                4            1,032   \n",
       "3          4          Late Night                4              924   \n",
       "4          5          Late Night                4              989   \n",
       "..       ...                 ...              ...              ...   \n",
       "137        L             Weekend               12              297   \n",
       "138        M             Weekend                6              597   \n",
       "139        N             Weekend                5              724   \n",
       "140        Q             Weekend                7              545   \n",
       "141        R             Weekend                5              750   \n",
       "\n",
       "     headway_minutes  route_time_seconds  route_time_minutes  \\\n",
       "0                 16                3408                  57   \n",
       "1                 16                5744                  96   \n",
       "2                 17                3486                  58   \n",
       "3                 15                4141                  69   \n",
       "4                 16                3292                  55   \n",
       "..               ...                 ...                 ...   \n",
       "137                5                2235                  37   \n",
       "138               10                2247                  38   \n",
       "139               12                4186                  70   \n",
       "140                9                3848                  64   \n",
       "141               12                4732                  79   \n",
       "\n",
       "     Avg_num_trains_running  \n",
       "0                         7  \n",
       "1                        12  \n",
       "2                         7  \n",
       "3                         9  \n",
       "4                         7  \n",
       "..                      ...  \n",
       "137                      15  \n",
       "138                       8  \n",
       "139                      12  \n",
       "140                      14  \n",
       "141                      13  \n",
       "\n",
       "[128 rows x 8 columns]"
      ]
     },
     "execution_count": 188,
     "metadata": {},
     "output_type": "execute_result"
    }
   ],
   "source": [
    "trip_interval_route_freq"
   ]
  },
  {
   "cell_type": "code",
   "execution_count": 210,
   "metadata": {
    "ExecuteTime": {
     "end_time": "2024-04-07T17:26:38.116088Z",
     "start_time": "2024-04-07T17:26:38.112611Z"
    }
   },
   "outputs": [
    {
     "data": {
      "image/png": "[encoded data removed]",
      "text/plain": [
       "<Figure size 640x480 with 1 Axes>"
      ]
     },
     "metadata": {},
     "output_type": "display_data"
    }
   ],
   "source": [
    "trip_interval_route_freq.columns = ['route_id', 'Train Time Interval', 'trains_per_hour'\n",
    "                                   , 'headway_seconds', 'Headway Minutes', 'route_time_seconds'\n",
    "                                   , 'route_time_minutes', 'Avg_num_trains_running']\n",
    "# full \n",
    "interval_headways_by_line = sns.lineplot(data=trip_interval_route_freq, x='Train Time Interval'\n",
    "                                       , y='Headway Minutes', ci=90)\n",
    "interval_headways_by_line.set_title('Average Train Time Interval Headways in NYC Subway')\n",
    "fig = interval_headways_by_line.get_figure()\n",
    "# fig.savefig(\"../saved_data/interval_headways.png\") "
   ]
  },
  {
   "cell_type": "markdown",
   "metadata": {},
   "source": [
    "## Hourly"
   ]
  },
  {
   "cell_type": "code",
   "execution_count": 190,
   "metadata": {
    "ExecuteTime": {
     "end_time": "2024-04-07T17:26:38.446961Z",
     "start_time": "2024-04-07T17:26:38.422866Z"
    }
   },
   "outputs": [
    {
     "data": {
      "text/html": [
       "<div>\n",
       "<style scoped>\n",
       "    .dataframe tbody tr th:only-of-type {\n",
       "        vertical-align: middle;\n",
       "    }\n",
       "\n",
       "    .dataframe tbody tr th {\n",
       "        vertical-align: top;\n",
       "    }\n",
       "\n",
       "    .dataframe thead th {\n",
       "        text-align: right;\n",
       "    }\n",
       "</style>\n",
       "<table border=\"1\" class=\"dataframe\">\n",
       "  <thead>\n",
       "    <tr style=\"text-align: right;\">\n",
       "      <th></th>\n",
       "      <th>route_id</th>\n",
       "      <th>day_hour</th>\n",
       "      <th>Avg_num_trains_running</th>\n",
       "    </tr>\n",
       "  </thead>\n",
       "  <tbody>\n",
       "    <tr>\n",
       "      <th>845</th>\n",
       "      <td>F</td>\n",
       "      <td>Weekday_7</td>\n",
       "      <td>49</td>\n",
       "    </tr>\n",
       "    <tr>\n",
       "      <th>846</th>\n",
       "      <td>F</td>\n",
       "      <td>Weekday_8</td>\n",
       "      <td>42</td>\n",
       "    </tr>\n",
       "    <tr>\n",
       "      <th>855</th>\n",
       "      <td>F</td>\n",
       "      <td>Weekday_17</td>\n",
       "      <td>39</td>\n",
       "    </tr>\n",
       "    <tr>\n",
       "      <th>856</th>\n",
       "      <td>F</td>\n",
       "      <td>Weekday_18</td>\n",
       "      <td>39</td>\n",
       "    </tr>\n",
       "    <tr>\n",
       "      <th>854</th>\n",
       "      <td>F</td>\n",
       "      <td>Weekday_16</td>\n",
       "      <td>39</td>\n",
       "    </tr>\n",
       "  </tbody>\n",
       "</table>\n",
       "</div>"
      ],
      "text/plain": [
       "    route_id    day_hour  Avg_num_trains_running\n",
       "845        F   Weekday_7                      49\n",
       "846        F   Weekday_8                      42\n",
       "855        F  Weekday_17                      39\n",
       "856        F  Weekday_18                      39\n",
       "854        F  Weekday_16                      39"
      ]
     },
     "execution_count": 190,
     "metadata": {},
     "output_type": "execute_result"
    }
   ],
   "source": [
    "hourly_route_trip_freq['day_hour'] = [hourly_route_trip_freq['day_of_week'][idx] + \"_\" \\\n",
    "                                        + str(hourly_route_trip_freq['departure_hour'][idx])\n",
    "                                            for idx in range(hourly_route_trip_freq.shape[0])]\n",
    "hourly_route_trip_freq[['route_id', 'day_hour', 'Avg_num_trains_running']].sort_values(\n",
    "                                                    by='Avg_num_trains_running', ascending=False)[0:5]"
   ]
  },
  {
   "cell_type": "code",
   "execution_count": 191,
   "metadata": {
    "ExecuteTime": {
     "end_time": "2024-04-07T17:26:38.532267Z",
     "start_time": "2024-04-07T17:26:38.468816Z"
    }
   },
   "outputs": [],
   "source": [
    "hourly_number_of_trains_dict = {}\n",
    "for value in hourly_route_trip_freq['day_hour'].unique():\n",
    "    hourly_avg_num_trains = hourly_route_trip_freq[hourly_route_trip_freq['day_hour']==value\n",
    "                                                                                ]['Avg_num_trains_running'].sum()\n",
    "    hourly_number_of_trains_dict[value] = round(hourly_avg_num_trains, 1)\n",
    "train_time_hourly_df = pd.DataFrame.from_dict(hourly_number_of_trains_dict, orient='index'\n",
    "                                                , columns=['Avg_number_of_trains_in_hour'])"
   ]
  },
  {
   "cell_type": "markdown",
   "metadata": {},
   "source": [
    "### Most frequent number of trains running"
   ]
  },
  {
   "cell_type": "code",
   "execution_count": 192,
   "metadata": {
    "ExecuteTime": {
     "end_time": "2024-04-07T17:26:38.548785Z",
     "start_time": "2024-04-07T17:26:38.542598Z"
    }
   },
   "outputs": [
    {
     "data": {
      "text/html": [
       "<div>\n",
       "<style scoped>\n",
       "    .dataframe tbody tr th:only-of-type {\n",
       "        vertical-align: middle;\n",
       "    }\n",
       "\n",
       "    .dataframe tbody tr th {\n",
       "        vertical-align: top;\n",
       "    }\n",
       "\n",
       "    .dataframe thead th {\n",
       "        text-align: right;\n",
       "    }\n",
       "</style>\n",
       "<table border=\"1\" class=\"dataframe\">\n",
       "  <thead>\n",
       "    <tr style=\"text-align: right;\">\n",
       "      <th></th>\n",
       "      <th>Avg_number_of_trains_in_hour</th>\n",
       "    </tr>\n",
       "  </thead>\n",
       "  <tbody>\n",
       "    <tr>\n",
       "      <th>Weekday_16</th>\n",
       "      <td>503</td>\n",
       "    </tr>\n",
       "    <tr>\n",
       "      <th>Weekday_7</th>\n",
       "      <td>493</td>\n",
       "    </tr>\n",
       "    <tr>\n",
       "      <th>Weekday_8</th>\n",
       "      <td>484</td>\n",
       "    </tr>\n",
       "    <tr>\n",
       "      <th>Weekday_17</th>\n",
       "      <td>444</td>\n",
       "    </tr>\n",
       "    <tr>\n",
       "      <th>Weekday_15</th>\n",
       "      <td>420</td>\n",
       "    </tr>\n",
       "    <tr>\n",
       "      <th>Weekday_9</th>\n",
       "      <td>420</td>\n",
       "    </tr>\n",
       "    <tr>\n",
       "      <th>Weekday_18</th>\n",
       "      <td>419</td>\n",
       "    </tr>\n",
       "    <tr>\n",
       "      <th>Weekday_6</th>\n",
       "      <td>407</td>\n",
       "    </tr>\n",
       "    <tr>\n",
       "      <th>Weekday_19</th>\n",
       "      <td>400</td>\n",
       "    </tr>\n",
       "    <tr>\n",
       "      <th>Weekday_13</th>\n",
       "      <td>395</td>\n",
       "    </tr>\n",
       "  </tbody>\n",
       "</table>\n",
       "</div>"
      ],
      "text/plain": [
       "            Avg_number_of_trains_in_hour\n",
       "Weekday_16                           503\n",
       "Weekday_7                            493\n",
       "Weekday_8                            484\n",
       "Weekday_17                           444\n",
       "Weekday_15                           420\n",
       "Weekday_9                            420\n",
       "Weekday_18                           419\n",
       "Weekday_6                            407\n",
       "Weekday_19                           400\n",
       "Weekday_13                           395"
      ]
     },
     "execution_count": 192,
     "metadata": {},
     "output_type": "execute_result"
    }
   ],
   "source": [
    "# most frequent hours to use the subway\n",
    "train_time_hourly_df.sort_values(by='Avg_number_of_trains_in_hour', ascending=False)[0:10]"
   ]
  },
  {
   "cell_type": "markdown",
   "metadata": {},
   "source": [
    "### Least frequent number of trains running"
   ]
  },
  {
   "cell_type": "code",
   "execution_count": 193,
   "metadata": {
    "ExecuteTime": {
     "end_time": "2024-04-07T17:26:38.557416Z",
     "start_time": "2024-04-07T17:26:38.550434Z"
    }
   },
   "outputs": [
    {
     "data": {
      "text/html": [
       "<div>\n",
       "<style scoped>\n",
       "    .dataframe tbody tr th:only-of-type {\n",
       "        vertical-align: middle;\n",
       "    }\n",
       "\n",
       "    .dataframe tbody tr th {\n",
       "        vertical-align: top;\n",
       "    }\n",
       "\n",
       "    .dataframe thead th {\n",
       "        text-align: right;\n",
       "    }\n",
       "</style>\n",
       "<table border=\"1\" class=\"dataframe\">\n",
       "  <thead>\n",
       "    <tr style=\"text-align: right;\">\n",
       "      <th></th>\n",
       "      <th>Avg_number_of_trains_in_hour</th>\n",
       "    </tr>\n",
       "  </thead>\n",
       "  <tbody>\n",
       "    <tr>\n",
       "      <th>Saturday_3</th>\n",
       "      <td>125</td>\n",
       "    </tr>\n",
       "    <tr>\n",
       "      <th>Saturday_2</th>\n",
       "      <td>125</td>\n",
       "    </tr>\n",
       "    <tr>\n",
       "      <th>Sunday_4</th>\n",
       "      <td>125</td>\n",
       "    </tr>\n",
       "    <tr>\n",
       "      <th>Sunday_2</th>\n",
       "      <td>125</td>\n",
       "    </tr>\n",
       "    <tr>\n",
       "      <th>Sunday_3</th>\n",
       "      <td>125</td>\n",
       "    </tr>\n",
       "    <tr>\n",
       "      <th>Weekday_2</th>\n",
       "      <td>125</td>\n",
       "    </tr>\n",
       "    <tr>\n",
       "      <th>Weekday_3</th>\n",
       "      <td>125</td>\n",
       "    </tr>\n",
       "    <tr>\n",
       "      <th>Saturday_1</th>\n",
       "      <td>126</td>\n",
       "    </tr>\n",
       "    <tr>\n",
       "      <th>Saturday_4</th>\n",
       "      <td>126</td>\n",
       "    </tr>\n",
       "    <tr>\n",
       "      <th>Weekday_1</th>\n",
       "      <td>126</td>\n",
       "    </tr>\n",
       "  </tbody>\n",
       "</table>\n",
       "</div>"
      ],
      "text/plain": [
       "            Avg_number_of_trains_in_hour\n",
       "Saturday_3                           125\n",
       "Saturday_2                           125\n",
       "Sunday_4                             125\n",
       "Sunday_2                             125\n",
       "Sunday_3                             125\n",
       "Weekday_2                            125\n",
       "Weekday_3                            125\n",
       "Saturday_1                           126\n",
       "Saturday_4                           126\n",
       "Weekday_1                            126"
      ]
     },
     "execution_count": 193,
     "metadata": {},
     "output_type": "execute_result"
    }
   ],
   "source": [
    "# least frequent hours to use the subway\n",
    "train_time_hourly_df.sort_values(by='Avg_number_of_trains_in_hour')[0:10]"
   ]
  },
  {
   "cell_type": "markdown",
   "metadata": {},
   "source": [
    "### Plotting number of trains runnings by Hour "
   ]
  },
  {
   "cell_type": "code",
   "execution_count": 194,
   "metadata": {
    "ExecuteTime": {
     "end_time": "2024-04-07T17:26:38.572432Z",
     "start_time": "2024-04-07T17:26:38.567921Z"
    }
   },
   "outputs": [],
   "source": [
    "train_time_hourly_df_day = [x.split(\"_\")[0] for x in train_time_hourly_df.index.values]\n",
    "train_time_hourly_df_hour = [x.split(\"_\")[1] for x in train_time_hourly_df.index.values]\n",
    "train_time_hourly_df.columns = ['Avg Number of Trains in an Hour']\n",
    "train_time_hourly_df['Day'] = train_time_hourly_df_day\n",
    "train_time_hourly_df['Hour'] = train_time_hourly_df_hour"
   ]
  },
  {
   "cell_type": "code",
   "execution_count": 195,
   "metadata": {
    "ExecuteTime": {
     "end_time": "2024-04-07T17:26:39.215512Z",
     "start_time": "2024-04-07T17:26:38.574075Z"
    },
    "scrolled": true
   },
   "outputs": [
    {
     "data": {
      "image/png": "[encoded data removed]",
      "text/plain": [
       "<Figure size 640x480 with 1 Axes>"
      ]
     },
     "metadata": {},
     "output_type": "display_data"
    }
   ],
   "source": [
    "hourly_number_of_trains_by_day = sns.lineplot(data=train_time_hourly_df, x='Hour'\n",
    "                                       , y='Avg Number of Trains in an Hour', hue='Day')\n",
    "hourly_number_of_trains_by_day.set_title('Number of Trains Running by Day and Hour')\n",
    "fig = hourly_number_of_trains_by_day.get_figure()\n",
    "# fig.savefig(\"../saved_data/hourly_number_of_trains_by_day.png\") "
   ]
  },
  {
   "cell_type": "markdown",
   "metadata": {},
   "source": [
    "# Data Visualizations"
   ]
  },
  {
   "cell_type": "code",
   "execution_count": 211,
   "metadata": {
    "ExecuteTime": {
     "end_time": "2024-04-07T17:26:39.625484Z",
     "start_time": "2024-04-07T17:26:39.621670Z"
    }
   },
   "outputs": [],
   "source": [
    "# removing the G from any service comparisons\n",
    "# the route length shifts variabley so the frequency calculations are incorrect\n",
    "route_frequency_by_day = route_frequency_by_day[route_frequency_by_day['route_id']!='G']\n",
    "sorted_routes = route_frequency_by_day[route_frequency_by_day\n",
    "                                 ['day_of_week']=='Weekday'].sort_values(by='trains_per_hour')['route_id'].values\n"
   ]
  },
  {
   "cell_type": "markdown",
   "metadata": {},
   "source": [
    "## Daily Average Frequency"
   ]
  },
  {
   "cell_type": "code",
   "execution_count": 212,
   "metadata": {
    "ExecuteTime": {
     "end_time": "2024-04-07T17:26:40.224445Z",
     "start_time": "2024-04-07T17:26:39.627770Z"
    },
    "scrolled": false
   },
   "outputs": [
    {
     "data": {
      "image/png": "[encoded data removed]",
      "text/plain": [
       "<Figure size 640x480 with 1 Axes>"
      ]
     },
     "metadata": {},
     "output_type": "display_data"
    }
   ],
   "source": [
    "# with error bar \n",
    "ax = sns.barplot(data = route_frequency_by_day, x = 'route_id', y='headway_minutes'\n",
    "                 , order=sorted_routes)\n",
    "#     ax.title(interval)\n",
    "ax.grid(axis='y')\n",
    "plt.show()"
   ]
  },
  {
   "cell_type": "code",
   "execution_count": 213,
   "metadata": {
    "ExecuteTime": {
     "end_time": "2024-04-07T17:26:40.753840Z",
     "start_time": "2024-04-07T17:26:40.226308Z"
    }
   },
   "outputs": [
    {
     "data": {
      "image/png": "[encoded data removed]",
      "text/plain": [
       "<Figure size 640x480 with 1 Axes>"
      ]
     },
     "metadata": {},
     "output_type": "display_data"
    }
   ],
   "source": [
    "# separated by day \n",
    "ax = sns.barplot(data = route_frequency_by_day, x = 'route_id', y='headway_minutes'\n",
    "                 , hue='day_of_week', order=sorted_routes)\n",
    "#     ax.title(interval)\n",
    "ax.grid(axis='y')\n",
    "plt.show()"
   ]
  },
  {
   "cell_type": "markdown",
   "metadata": {},
   "source": [
    "## Frequency by Interval"
   ]
  },
  {
   "cell_type": "code",
   "execution_count": 214,
   "metadata": {
    "ExecuteTime": {
     "end_time": "2024-04-07T17:26:42.439977Z",
     "start_time": "2024-04-07T17:26:40.761574Z"
    },
    "scrolled": true
   },
   "outputs": [
    {
     "name": "stdout",
     "output_type": "stream",
     "text": [
      "Late Night\n"
     ]
    },
    {
     "data": {
      "image/png": "[encoded data removed]",
      "text/plain": [
       "<Figure size 640x480 with 1 Axes>"
      ]
     },
     "metadata": {},
     "output_type": "display_data"
    },
    {
     "name": "stdout",
     "output_type": "stream",
     "text": [
      "Rush Hour AM\n"
     ]
    },
    {
     "data": {
      "image/png": "[encoded data removed]",
      "text/plain": [
       "<Figure size 640x480 with 1 Axes>"
      ]
     },
     "metadata": {},
     "output_type": "display_data"
    },
    {
     "name": "stdout",
     "output_type": "stream",
     "text": [
      "Midday\n"
     ]
    },
    {
     "data": {
      "image/png": "[encoded data removed]",
      "text/plain": [
       "<Figure size 640x480 with 1 Axes>"
      ]
     },
     "metadata": {},
     "output_type": "display_data"
    },
    {
     "name": "stdout",
     "output_type": "stream",
     "text": [
      "Rush Hour PM\n"
     ]
    },
    {
     "data": {
      "image/png": "[encoded data removed]",
      "text/plain": [
       "<Figure size 640x480 with 1 Axes>"
      ]
     },
     "metadata": {},
     "output_type": "display_data"
    },
    {
     "name": "stdout",
     "output_type": "stream",
     "text": [
      "Evening\n"
     ]
    },
    {
     "data": {
      "image/png": "[encoded data removed]",
      "text/plain": [
       "<Figure size 640x480 with 1 Axes>"
      ]
     },
     "metadata": {},
     "output_type": "display_data"
    },
    {
     "name": "stdout",
     "output_type": "stream",
     "text": [
      "Weekend\n"
     ]
    },
    {
     "data": {
      "image/png": "[encoded data removed]",
      "text/plain": [
       "<Figure size 640x480 with 1 Axes>"
      ]
     },
     "metadata": {},
     "output_type": "display_data"
    }
   ],
   "source": [
    "for interval in time_of_day_sorting.keys():\n",
    "    print(interval)\n",
    "    ax = sns.barplot(data=trip_interval_route_freq[trip_interval_route_freq\n",
    "                                    ['Train Time Interval']==interval]\n",
    "                                 , x = 'route_id', y='Headway Minutes', order=sorted_routes)\n",
    "#     ax.title(interval)\n",
    "    ax.grid(axis='y')\n",
    "    ax.set_ylim(ymin=0, ymax=30)\n",
    "    plt.show()"
   ]
  },
  {
   "cell_type": "markdown",
   "metadata": {},
   "source": [
    "### Best and Worst Performers by Time of Day"
   ]
  },
  {
   "cell_type": "code",
   "execution_count": 215,
   "metadata": {
    "ExecuteTime": {
     "end_time": "2024-04-07T17:26:42.454642Z",
     "start_time": "2024-04-07T17:26:42.441852Z"
    },
    "scrolled": true
   },
   "outputs": [
    {
     "data": {
      "text/html": [
       "<div>\n",
       "<style scoped>\n",
       "    .dataframe tbody tr th:only-of-type {\n",
       "        vertical-align: middle;\n",
       "    }\n",
       "\n",
       "    .dataframe tbody tr th {\n",
       "        vertical-align: top;\n",
       "    }\n",
       "\n",
       "    .dataframe thead th {\n",
       "        text-align: right;\n",
       "    }\n",
       "</style>\n",
       "<table border=\"1\" class=\"dataframe\">\n",
       "  <thead>\n",
       "    <tr style=\"text-align: right;\">\n",
       "      <th></th>\n",
       "      <th>route_id</th>\n",
       "      <th>Train Time Interval</th>\n",
       "      <th>trains_per_hour</th>\n",
       "      <th>headway_seconds</th>\n",
       "      <th>Headway Minutes</th>\n",
       "      <th>route_time_seconds</th>\n",
       "      <th>route_time_minutes</th>\n",
       "      <th>Avg_num_trains_running</th>\n",
       "    </tr>\n",
       "  </thead>\n",
       "  <tbody>\n",
       "    <tr>\n",
       "      <th>64</th>\n",
       "      <td>H</td>\n",
       "      <td>Midday</td>\n",
       "      <td>4</td>\n",
       "      <td>900</td>\n",
       "      <td>15</td>\n",
       "      <td>602</td>\n",
       "      <td>10</td>\n",
       "      <td>1</td>\n",
       "    </tr>\n",
       "    <tr>\n",
       "      <th>88</th>\n",
       "      <td>H</td>\n",
       "      <td>Rush Hour PM</td>\n",
       "      <td>4</td>\n",
       "      <td>900</td>\n",
       "      <td>15</td>\n",
       "      <td>602</td>\n",
       "      <td>10</td>\n",
       "      <td>1</td>\n",
       "    </tr>\n",
       "    <tr>\n",
       "      <th>135</th>\n",
       "      <td>H</td>\n",
       "      <td>Weekend</td>\n",
       "      <td>3</td>\n",
       "      <td>1,096</td>\n",
       "      <td>18</td>\n",
       "      <td>602</td>\n",
       "      <td>10</td>\n",
       "      <td>1</td>\n",
       "    </tr>\n",
       "    <tr>\n",
       "      <th>13</th>\n",
       "      <td>FS</td>\n",
       "      <td>Late Night</td>\n",
       "      <td>3</td>\n",
       "      <td>1,170</td>\n",
       "      <td>20</td>\n",
       "      <td>405</td>\n",
       "      <td>7</td>\n",
       "      <td>1</td>\n",
       "    </tr>\n",
       "    <tr>\n",
       "      <th>40</th>\n",
       "      <td>H</td>\n",
       "      <td>Rush Hour AM</td>\n",
       "      <td>3</td>\n",
       "      <td>1,200</td>\n",
       "      <td>20</td>\n",
       "      <td>602</td>\n",
       "      <td>10</td>\n",
       "      <td>1</td>\n",
       "    </tr>\n",
       "    <tr>\n",
       "      <th>104</th>\n",
       "      <td>B</td>\n",
       "      <td>Evening</td>\n",
       "      <td>2</td>\n",
       "      <td>1,800</td>\n",
       "      <td>30</td>\n",
       "      <td>4578</td>\n",
       "      <td>76</td>\n",
       "      <td>5</td>\n",
       "    </tr>\n",
       "  </tbody>\n",
       "</table>\n",
       "</div>"
      ],
      "text/plain": [
       "    route_id Train Time Interval  trains_per_hour  headway_seconds  \\\n",
       "64         H              Midday                4              900   \n",
       "88         H        Rush Hour PM                4              900   \n",
       "135        H             Weekend                3            1,096   \n",
       "13        FS          Late Night                3            1,170   \n",
       "40         H        Rush Hour AM                3            1,200   \n",
       "104        B             Evening                2            1,800   \n",
       "\n",
       "     Headway Minutes  route_time_seconds  route_time_minutes  \\\n",
       "64                15                 602                  10   \n",
       "88                15                 602                  10   \n",
       "135               18                 602                  10   \n",
       "13                20                 405                   7   \n",
       "40                20                 602                  10   \n",
       "104               30                4578                  76   \n",
       "\n",
       "     Avg_num_trains_running  \n",
       "64                        1  \n",
       "88                        1  \n",
       "135                       1  \n",
       "13                        1  \n",
       "40                        1  \n",
       "104                       5  "
      ]
     },
     "execution_count": 215,
     "metadata": {},
     "output_type": "execute_result"
    }
   ],
   "source": [
    "# lowest  -- removing inf values first\n",
    "# it's a tie for worst so let's just make it SIR lol \n",
    "trip_interval_route_freq[trip_interval_route_freq['Headway Minutes'] < 1000].sort_values(\n",
    "    by='Headway Minutes').drop_duplicates(subset='Train Time Interval', keep='last')"
   ]
  },
  {
   "cell_type": "code",
   "execution_count": 216,
   "metadata": {
    "ExecuteTime": {
     "end_time": "2024-04-07T17:26:42.469507Z",
     "start_time": "2024-04-07T17:26:42.456371Z"
    }
   },
   "outputs": [
    {
     "data": {
      "text/html": [
       "<div>\n",
       "<style scoped>\n",
       "    .dataframe tbody tr th:only-of-type {\n",
       "        vertical-align: middle;\n",
       "    }\n",
       "\n",
       "    .dataframe tbody tr th {\n",
       "        vertical-align: top;\n",
       "    }\n",
       "\n",
       "    .dataframe thead th {\n",
       "        text-align: right;\n",
       "    }\n",
       "</style>\n",
       "<table border=\"1\" class=\"dataframe\">\n",
       "  <thead>\n",
       "    <tr style=\"text-align: right;\">\n",
       "      <th></th>\n",
       "      <th>route_id</th>\n",
       "      <th>Train Time Interval</th>\n",
       "      <th>trains_per_hour</th>\n",
       "      <th>headway_seconds</th>\n",
       "      <th>Headway Minutes</th>\n",
       "      <th>route_time_seconds</th>\n",
       "      <th>route_time_minutes</th>\n",
       "      <th>Avg_num_trains_running</th>\n",
       "    </tr>\n",
       "  </thead>\n",
       "  <tbody>\n",
       "    <tr>\n",
       "      <th>7</th>\n",
       "      <td>A</td>\n",
       "      <td>Late Night</td>\n",
       "      <td>6</td>\n",
       "      <td>600</td>\n",
       "      <td>10</td>\n",
       "      <td>4850</td>\n",
       "      <td>81</td>\n",
       "      <td>16</td>\n",
       "    </tr>\n",
       "    <tr>\n",
       "      <th>137</th>\n",
       "      <td>L</td>\n",
       "      <td>Weekend</td>\n",
       "      <td>12</td>\n",
       "      <td>297</td>\n",
       "      <td>5</td>\n",
       "      <td>2235</td>\n",
       "      <td>37</td>\n",
       "      <td>15</td>\n",
       "    </tr>\n",
       "    <tr>\n",
       "      <th>111</th>\n",
       "      <td>GS</td>\n",
       "      <td>Evening</td>\n",
       "      <td>12</td>\n",
       "      <td>288</td>\n",
       "      <td>5</td>\n",
       "      <td>90</td>\n",
       "      <td>2</td>\n",
       "      <td>1</td>\n",
       "    </tr>\n",
       "    <tr>\n",
       "      <th>53</th>\n",
       "      <td>6</td>\n",
       "      <td>Midday</td>\n",
       "      <td>15</td>\n",
       "      <td>235</td>\n",
       "      <td>4</td>\n",
       "      <td>3445</td>\n",
       "      <td>57</td>\n",
       "      <td>29</td>\n",
       "    </tr>\n",
       "    <tr>\n",
       "      <th>78</th>\n",
       "      <td>7</td>\n",
       "      <td>Rush Hour PM</td>\n",
       "      <td>20</td>\n",
       "      <td>180</td>\n",
       "      <td>3</td>\n",
       "      <td>2245</td>\n",
       "      <td>37</td>\n",
       "      <td>25</td>\n",
       "    </tr>\n",
       "    <tr>\n",
       "      <th>30</th>\n",
       "      <td>7</td>\n",
       "      <td>Rush Hour AM</td>\n",
       "      <td>24</td>\n",
       "      <td>150</td>\n",
       "      <td>2</td>\n",
       "      <td>2245</td>\n",
       "      <td>37</td>\n",
       "      <td>30</td>\n",
       "    </tr>\n",
       "  </tbody>\n",
       "</table>\n",
       "</div>"
      ],
      "text/plain": [
       "    route_id Train Time Interval  trains_per_hour  headway_seconds  \\\n",
       "7          A          Late Night                6              600   \n",
       "137        L             Weekend               12              297   \n",
       "111       GS             Evening               12              288   \n",
       "53         6              Midday               15              235   \n",
       "78         7        Rush Hour PM               20              180   \n",
       "30         7        Rush Hour AM               24              150   \n",
       "\n",
       "     Headway Minutes  route_time_seconds  route_time_minutes  \\\n",
       "7                 10                4850                  81   \n",
       "137                5                2235                  37   \n",
       "111                5                  90                   2   \n",
       "53                 4                3445                  57   \n",
       "78                 3                2245                  37   \n",
       "30                 2                2245                  37   \n",
       "\n",
       "     Avg_num_trains_running  \n",
       "7                        16  \n",
       "137                      15  \n",
       "111                       1  \n",
       "53                       29  \n",
       "78                       25  \n",
       "30                       30  "
      ]
     },
     "execution_count": 216,
     "metadata": {},
     "output_type": "execute_result"
    }
   ],
   "source": [
    "trip_interval_route_freq[trip_interval_route_freq['Headway Minutes'] < 1000].sort_values(\n",
    "    by='Headway Minutes', ascending=False).drop_duplicates(subset='Train Time Interval', keep='last')"
   ]
  },
  {
   "cell_type": "markdown",
   "metadata": {},
   "source": [
    "## Visualizing Hourly Frequency within a Service"
   ]
  },
  {
   "cell_type": "code",
   "execution_count": 217,
   "metadata": {
    "ExecuteTime": {
     "end_time": "2024-04-07T17:26:42.477858Z",
     "start_time": "2024-04-07T17:26:42.474440Z"
    }
   },
   "outputs": [],
   "source": [
    "# plot the headway minutes for a single line\n",
    "l_train_hourly_df = hourly_route_trip_freq[hourly_route_trip_freq['route_id']=='L']\n",
    "l_train_hourly_df_trimmed = l_train_hourly_df[['day_of_week', 'departure_hour', 'headway_seconds'\n",
    "                                               , 'headway_minutes', 'Avg_num_trains_running', 'day_hour']]"
   ]
  },
  {
   "cell_type": "code",
   "execution_count": 218,
   "metadata": {
    "ExecuteTime": {
     "end_time": "2024-04-07T17:26:42.493373Z",
     "start_time": "2024-04-07T17:26:42.485647Z"
    }
   },
   "outputs": [
    {
     "name": "stdout",
     "output_type": "stream",
     "text": [
      "<class 'pandas.core.frame.DataFrame'>\n",
      "Index: 72 entries, 1207 to 1278\n",
      "Data columns (total 6 columns):\n",
      " #   Column                  Non-Null Count  Dtype  \n",
      "---  ------                  --------------  -----  \n",
      " 0   day_of_week             72 non-null     object \n",
      " 1   departure_hour          72 non-null     int64  \n",
      " 2   headway_seconds         72 non-null     float64\n",
      " 3   headway_minutes         72 non-null     float64\n",
      " 4   Avg_num_trains_running  72 non-null     float64\n",
      " 5   day_hour                72 non-null     object \n",
      "dtypes: float64(3), int64(1), object(2)\n",
      "memory usage: 3.9+ KB\n"
     ]
    }
   ],
   "source": [
    "l_train_hourly_df_trimmed.info()"
   ]
  },
  {
   "cell_type": "code",
   "execution_count": 219,
   "metadata": {
    "ExecuteTime": {
     "end_time": "2024-04-07T17:26:42.744515Z",
     "start_time": "2024-04-07T17:26:42.495231Z"
    }
   },
   "outputs": [
    {
     "data": {
      "text/plain": [
       "<Axes: xlabel='departure_hour', ylabel='headway_minutes'>"
      ]
     },
     "execution_count": 219,
     "metadata": {},
     "output_type": "execute_result"
    },
    {
     "data": {
      "image/png": "[encoded data removed]",
      "text/plain": [
       "<Figure size 640x480 with 1 Axes>"
      ]
     },
     "metadata": {},
     "output_type": "display_data"
    }
   ],
   "source": [
    "sns.lineplot(data=l_train_hourly_df_trimmed, x='departure_hour', y='headway_minutes', hue='day_of_week')"
   ]
  },
  {
   "cell_type": "markdown",
   "metadata": {},
   "source": [
    "## Comparing All Services\n",
    "at rush hour"
   ]
  },
  {
   "cell_type": "code",
   "execution_count": 220,
   "metadata": {},
   "outputs": [],
   "source": [
    "all_rush_hour_trains = trip_interval_route_freq[\n",
    "                            trip_interval_route_freq['Train Time Interval'].str.contains(\"Rush\")]"
   ]
  },
  {
   "cell_type": "code",
   "execution_count": 221,
   "metadata": {},
   "outputs": [
    {
     "name": "stdout",
     "output_type": "stream",
     "text": [
      "<class 'pandas.core.frame.DataFrame'>\n",
      "Index: 44 entries, 24 to 94\n",
      "Data columns (total 8 columns):\n",
      " #   Column                  Non-Null Count  Dtype  \n",
      "---  ------                  --------------  -----  \n",
      " 0   route_id                44 non-null     object \n",
      " 1   Train Time Interval     44 non-null     object \n",
      " 2   trains_per_hour         44 non-null     float64\n",
      " 3   headway_seconds         44 non-null     float64\n",
      " 4   Headway Minutes         44 non-null     float64\n",
      " 5   route_time_seconds      44 non-null     int64  \n",
      " 6   route_time_minutes      44 non-null     float64\n",
      " 7   Avg_num_trains_running  44 non-null     float64\n",
      "dtypes: float64(5), int64(1), object(2)\n",
      "memory usage: 3.1+ KB\n"
     ]
    }
   ],
   "source": [
    "all_rush_hour_trains.info()"
   ]
  },
  {
   "cell_type": "code",
   "execution_count": 222,
   "metadata": {
    "ExecuteTime": {
     "end_time": "2024-04-07T17:26:42.752451Z",
     "start_time": "2024-04-07T17:26:42.746205Z"
    }
   },
   "outputs": [],
   "source": [
    "all_rush_hour_trains = trip_interval_route_freq[\n",
    "                            trip_interval_route_freq['Train Time Interval'].str.contains(\"Rush\")]\n",
    "rush_hour_trains_avg = all_rush_hour_trains.groupby('route_id')['Headway Minutes'].sum() / 2"
   ]
  },
  {
   "cell_type": "code",
   "execution_count": 223,
   "metadata": {
    "ExecuteTime": {
     "end_time": "2024-04-07T17:26:42.758185Z",
     "start_time": "2024-04-07T17:26:42.754225Z"
    }
   },
   "outputs": [],
   "source": [
    "rush_hour_trains_avg = rush_hour_trains_avg.sort_values(ascending=False).reset_index()"
   ]
  },
  {
   "cell_type": "code",
   "execution_count": 225,
   "metadata": {
    "ExecuteTime": {
     "end_time": "2024-04-07T17:26:43.457709Z",
     "start_time": "2024-04-07T17:26:43.120798Z"
    }
   },
   "outputs": [
    {
     "ename": "ValueError",
     "evalue": "keyword grid_b is not recognized; valid keywords are ['size', 'width', 'color', 'tickdir', 'pad', 'labelsize', 'labelcolor', 'labelfontfamily', 'zorder', 'gridOn', 'tick1On', 'tick2On', 'label1On', 'label2On', 'length', 'direction', 'left', 'bottom', 'right', 'top', 'labelleft', 'labelbottom', 'labelright', 'labeltop', 'labelrotation', 'grid_agg_filter', 'grid_alpha', 'grid_animated', 'grid_antialiased', 'grid_clip_box', 'grid_clip_on', 'grid_clip_path', 'grid_color', 'grid_dash_capstyle', 'grid_dash_joinstyle', 'grid_dashes', 'grid_data', 'grid_drawstyle', 'grid_figure', 'grid_fillstyle', 'grid_gapcolor', 'grid_gid', 'grid_in_layout', 'grid_label', 'grid_linestyle', 'grid_linewidth', 'grid_marker', 'grid_markeredgecolor', 'grid_markeredgewidth', 'grid_markerfacecolor', 'grid_markerfacecoloralt', 'grid_markersize', 'grid_markevery', 'grid_mouseover', 'grid_path_effects', 'grid_picker', 'grid_pickradius', 'grid_rasterized', 'grid_sketch_params', 'grid_snap', 'grid_solid_capstyle', 'grid_solid_joinstyle', 'grid_transform', 'grid_url', 'grid_visible', 'grid_xdata', 'grid_ydata', 'grid_zorder', 'grid_aa', 'grid_c', 'grid_ds', 'grid_ls', 'grid_lw', 'grid_mec', 'grid_mew', 'grid_mfc', 'grid_mfcalt', 'grid_ms']",
     "output_type": "error",
     "traceback": [
      "\u001b[0;31m---------------------------------------------------------------------------\u001b[0m",
      "\u001b[0;31mValueError\u001b[0m                                Traceback (most recent call last)",
      "Cell \u001b[0;32mIn[225], line 6\u001b[0m\n\u001b[1;32m      4\u001b[0m ax\u001b[38;5;241m.\u001b[39mset_ylabel(\u001b[38;5;124m'\u001b[39m\u001b[38;5;124mHeadways (Minutes)\u001b[39m\u001b[38;5;124m'\u001b[39m)\n\u001b[1;32m      5\u001b[0m ax\u001b[38;5;241m.\u001b[39mset_xlabel(\u001b[38;5;124m'\u001b[39m\u001b[38;5;124mService\u001b[39m\u001b[38;5;124m'\u001b[39m)\n\u001b[0;32m----> 6\u001b[0m ax\u001b[38;5;241m.\u001b[39mgrid(b\u001b[38;5;241m=\u001b[39m\u001b[38;5;28;01mTrue\u001b[39;00m, axis\u001b[38;5;241m=\u001b[39m\u001b[38;5;124m'\u001b[39m\u001b[38;5;124my\u001b[39m\u001b[38;5;124m'\u001b[39m)\n\u001b[1;32m      7\u001b[0m fig \u001b[38;5;241m=\u001b[39m ax\u001b[38;5;241m.\u001b[39mget_figure()\n\u001b[1;32m      8\u001b[0m fig\u001b[38;5;241m.\u001b[39msavefig(\u001b[38;5;124m\"\u001b[39m\u001b[38;5;124m../saved_data/service_comparison_rush_hour.png\u001b[39m\u001b[38;5;124m\"\u001b[39m)\n",
      "File \u001b[0;32m~/opt/anaconda3/envs/nyc_subway_env/lib/python3.12/site-packages/matplotlib/axes/_base.py:3276\u001b[0m, in \u001b[0;36m_AxesBase.grid\u001b[0;34m(self, visible, which, axis, **kwargs)\u001b[0m\n\u001b[1;32m   3274\u001b[0m     \u001b[38;5;28mself\u001b[39m\u001b[38;5;241m.\u001b[39mxaxis\u001b[38;5;241m.\u001b[39mgrid(visible, which\u001b[38;5;241m=\u001b[39mwhich, \u001b[38;5;241m*\u001b[39m\u001b[38;5;241m*\u001b[39mkwargs)\n\u001b[1;32m   3275\u001b[0m \u001b[38;5;28;01mif\u001b[39;00m axis \u001b[38;5;129;01min\u001b[39;00m [\u001b[38;5;124m'\u001b[39m\u001b[38;5;124my\u001b[39m\u001b[38;5;124m'\u001b[39m, \u001b[38;5;124m'\u001b[39m\u001b[38;5;124mboth\u001b[39m\u001b[38;5;124m'\u001b[39m]:\n\u001b[0;32m-> 3276\u001b[0m     \u001b[38;5;28mself\u001b[39m\u001b[38;5;241m.\u001b[39myaxis\u001b[38;5;241m.\u001b[39mgrid(visible, which\u001b[38;5;241m=\u001b[39mwhich, \u001b[38;5;241m*\u001b[39m\u001b[38;5;241m*\u001b[39mkwargs)\n",
      "File \u001b[0;32m~/opt/anaconda3/envs/nyc_subway_env/lib/python3.12/site-packages/matplotlib/axis.py:1732\u001b[0m, in \u001b[0;36mAxis.grid\u001b[0;34m(self, visible, which, **kwargs)\u001b[0m\n\u001b[1;32m   1729\u001b[0m \u001b[38;5;28;01mif\u001b[39;00m which \u001b[38;5;129;01min\u001b[39;00m [\u001b[38;5;124m'\u001b[39m\u001b[38;5;124mmajor\u001b[39m\u001b[38;5;124m'\u001b[39m, \u001b[38;5;124m'\u001b[39m\u001b[38;5;124mboth\u001b[39m\u001b[38;5;124m'\u001b[39m]:\n\u001b[1;32m   1730\u001b[0m     gridkw[\u001b[38;5;124m'\u001b[39m\u001b[38;5;124mgridOn\u001b[39m\u001b[38;5;124m'\u001b[39m] \u001b[38;5;241m=\u001b[39m (\u001b[38;5;129;01mnot\u001b[39;00m \u001b[38;5;28mself\u001b[39m\u001b[38;5;241m.\u001b[39m_major_tick_kw[\u001b[38;5;124m'\u001b[39m\u001b[38;5;124mgridOn\u001b[39m\u001b[38;5;124m'\u001b[39m]\n\u001b[1;32m   1731\u001b[0m                         \u001b[38;5;28;01mif\u001b[39;00m visible \u001b[38;5;129;01mis\u001b[39;00m \u001b[38;5;28;01mNone\u001b[39;00m \u001b[38;5;28;01melse\u001b[39;00m visible)\n\u001b[0;32m-> 1732\u001b[0m     \u001b[38;5;28mself\u001b[39m\u001b[38;5;241m.\u001b[39mset_tick_params(which\u001b[38;5;241m=\u001b[39m\u001b[38;5;124m'\u001b[39m\u001b[38;5;124mmajor\u001b[39m\u001b[38;5;124m'\u001b[39m, \u001b[38;5;241m*\u001b[39m\u001b[38;5;241m*\u001b[39mgridkw)\n\u001b[1;32m   1733\u001b[0m \u001b[38;5;28mself\u001b[39m\u001b[38;5;241m.\u001b[39mstale \u001b[38;5;241m=\u001b[39m \u001b[38;5;28;01mTrue\u001b[39;00m\n",
      "File \u001b[0;32m~/opt/anaconda3/envs/nyc_subway_env/lib/python3.12/site-packages/matplotlib/axis.py:983\u001b[0m, in \u001b[0;36mAxis.set_tick_params\u001b[0;34m(self, which, reset, **kwargs)\u001b[0m\n\u001b[1;32m    970\u001b[0m \u001b[38;5;250m\u001b[39m\u001b[38;5;124;03m\"\"\"\u001b[39;00m\n\u001b[1;32m    971\u001b[0m \u001b[38;5;124;03mSet appearance parameters for ticks, ticklabels, and gridlines.\u001b[39;00m\n\u001b[1;32m    972\u001b[0m \n\u001b[0;32m   (...)\u001b[0m\n\u001b[1;32m    980\u001b[0m \u001b[38;5;124;03m    gridlines.\u001b[39;00m\n\u001b[1;32m    981\u001b[0m \u001b[38;5;124;03m\"\"\"\u001b[39;00m\n\u001b[1;32m    982\u001b[0m _api\u001b[38;5;241m.\u001b[39mcheck_in_list([\u001b[38;5;124m'\u001b[39m\u001b[38;5;124mmajor\u001b[39m\u001b[38;5;124m'\u001b[39m, \u001b[38;5;124m'\u001b[39m\u001b[38;5;124mminor\u001b[39m\u001b[38;5;124m'\u001b[39m, \u001b[38;5;124m'\u001b[39m\u001b[38;5;124mboth\u001b[39m\u001b[38;5;124m'\u001b[39m], which\u001b[38;5;241m=\u001b[39mwhich)\n\u001b[0;32m--> 983\u001b[0m kwtrans \u001b[38;5;241m=\u001b[39m \u001b[38;5;28mself\u001b[39m\u001b[38;5;241m.\u001b[39m_translate_tick_params(kwargs)\n\u001b[1;32m    985\u001b[0m \u001b[38;5;66;03m# the kwargs are stored in self._major/minor_tick_kw so that any\u001b[39;00m\n\u001b[1;32m    986\u001b[0m \u001b[38;5;66;03m# future new ticks will automatically get them\u001b[39;00m\n\u001b[1;32m    987\u001b[0m \u001b[38;5;28;01mif\u001b[39;00m reset:\n",
      "File \u001b[0;32m~/opt/anaconda3/envs/nyc_subway_env/lib/python3.12/site-packages/matplotlib/axis.py:1127\u001b[0m, in \u001b[0;36mAxis._translate_tick_params\u001b[0;34m(kw, reverse)\u001b[0m\n\u001b[1;32m   1125\u001b[0m \u001b[38;5;28;01mfor\u001b[39;00m key \u001b[38;5;129;01min\u001b[39;00m kw_:\n\u001b[1;32m   1126\u001b[0m     \u001b[38;5;28;01mif\u001b[39;00m key \u001b[38;5;129;01mnot\u001b[39;00m \u001b[38;5;129;01min\u001b[39;00m allowed_keys:\n\u001b[0;32m-> 1127\u001b[0m         \u001b[38;5;28;01mraise\u001b[39;00m \u001b[38;5;167;01mValueError\u001b[39;00m(\n\u001b[1;32m   1128\u001b[0m             \u001b[38;5;124m\"\u001b[39m\u001b[38;5;124mkeyword \u001b[39m\u001b[38;5;132;01m%s\u001b[39;00m\u001b[38;5;124m is not recognized; valid keywords are \u001b[39m\u001b[38;5;132;01m%s\u001b[39;00m\u001b[38;5;124m\"\u001b[39m\n\u001b[1;32m   1129\u001b[0m             \u001b[38;5;241m%\u001b[39m (key, allowed_keys))\n\u001b[1;32m   1130\u001b[0m kwtrans\u001b[38;5;241m.\u001b[39mupdate(kw_)\n\u001b[1;32m   1131\u001b[0m \u001b[38;5;28;01mreturn\u001b[39;00m kwtrans\n",
      "\u001b[0;31mValueError\u001b[0m: keyword grid_b is not recognized; valid keywords are ['size', 'width', 'color', 'tickdir', 'pad', 'labelsize', 'labelcolor', 'labelfontfamily', 'zorder', 'gridOn', 'tick1On', 'tick2On', 'label1On', 'label2On', 'length', 'direction', 'left', 'bottom', 'right', 'top', 'labelleft', 'labelbottom', 'labelright', 'labeltop', 'labelrotation', 'grid_agg_filter', 'grid_alpha', 'grid_animated', 'grid_antialiased', 'grid_clip_box', 'grid_clip_on', 'grid_clip_path', 'grid_color', 'grid_dash_capstyle', 'grid_dash_joinstyle', 'grid_dashes', 'grid_data', 'grid_drawstyle', 'grid_figure', 'grid_fillstyle', 'grid_gapcolor', 'grid_gid', 'grid_in_layout', 'grid_label', 'grid_linestyle', 'grid_linewidth', 'grid_marker', 'grid_markeredgecolor', 'grid_markeredgewidth', 'grid_markerfacecolor', 'grid_markerfacecoloralt', 'grid_markersize', 'grid_markevery', 'grid_mouseover', 'grid_path_effects', 'grid_picker', 'grid_pickradius', 'grid_rasterized', 'grid_sketch_params', 'grid_snap', 'grid_solid_capstyle', 'grid_solid_joinstyle', 'grid_transform', 'grid_url', 'grid_visible', 'grid_xdata', 'grid_ydata', 'grid_zorder', 'grid_aa', 'grid_c', 'grid_ds', 'grid_ls', 'grid_lw', 'grid_mec', 'grid_mew', 'grid_mfc', 'grid_mfcalt', 'grid_ms']"
     ]
    },
    {
     "data": {
      "image/png": "[encoded data removed]",
      "text/plain": [
       "<Figure size 640x480 with 1 Axes>"
      ]
     },
     "metadata": {},
     "output_type": "display_data"
    }
   ],
   "source": [
    "# sns.set(style=\"line\")\n",
    "ax = sns.barplot(data=rush_hour_trains_avg, x='route_id', y='Headway Minutes', palette='deep')\n",
    "ax.set_title('Rush Hour Headways by NYC Subway Service')\n",
    "ax.set_ylabel('Headways (Minutes)')\n",
    "ax.set_xlabel('Service')\n",
    "ax.grid(b=True, axis='y')\n",
    "fig = ax.get_figure()\n",
    "fig.savefig(\"../saved_data/service_comparison_rush_hour.png\") "
   ]
  },
  {
   "cell_type": "markdown",
   "metadata": {},
   "source": [
    "# TPH and Train Time Interval Ratios\n",
    "Do the services all have the same service ratios between each train time interval?"
   ]
  },
  {
   "cell_type": "code",
   "execution_count": 226,
   "metadata": {
    "ExecuteTime": {
     "end_time": "2024-04-07T17:26:43.509177Z",
     "start_time": "2024-04-07T17:26:43.459353Z"
    }
   },
   "outputs": [
    {
     "ename": "IndexError",
     "evalue": "list assignment index out of range",
     "output_type": "error",
     "traceback": [
      "\u001b[0;31m---------------------------------------------------------------------------\u001b[0m",
      "\u001b[0;31mIndexError\u001b[0m                                Traceback (most recent call last)",
      "Cell \u001b[0;32mIn[226], line 9\u001b[0m\n\u001b[1;32m      7\u001b[0m     single_service_ratio_df \u001b[38;5;241m=\u001b[39m pd\u001b[38;5;241m.\u001b[39mDataFrame(\u001b[38;5;28mround\u001b[39m(filtered_df_to_service\u001b[38;5;241m/\u001b[39mfiltered_df_to_service\u001b[38;5;241m.\u001b[39msum(), \u001b[38;5;241m2\u001b[39m)\u001b[38;5;241m*\u001b[39m\u001b[38;5;241m100\u001b[39m)\n\u001b[1;32m      8\u001b[0m     \u001b[38;5;28;01mfor\u001b[39;00m idx \u001b[38;5;129;01min\u001b[39;00m single_service_ratio_df\u001b[38;5;241m.\u001b[39mindex:\n\u001b[0;32m----> 9\u001b[0m         service_ratio_list[idx] \u001b[38;5;241m=\u001b[39m single_service_ratio_df\u001b[38;5;241m.\u001b[39mloc[idx]\u001b[38;5;241m.\u001b[39mvalues[\u001b[38;5;241m0\u001b[39m]\n\u001b[1;32m     10\u001b[0m \u001b[38;5;66;03m# alt. names: train_time_interval_ratio, percentage \u001b[39;00m\n\u001b[1;32m     11\u001b[0m trip_interval_route_freq[\u001b[38;5;124m'\u001b[39m\u001b[38;5;124msingle_service_ratio\u001b[39m\u001b[38;5;124m'\u001b[39m] \u001b[38;5;241m=\u001b[39m service_ratio_list\n",
      "\u001b[0;31mIndexError\u001b[0m: list assignment index out of range"
     ]
    }
   ],
   "source": [
    "# Finding the percentage of service for each route_id/service divided by time interval service \n",
    "service_ratio_list = [None for x in range(len(trip_interval_route_freq))]\n",
    "for service in trip_interval_route_freq.route_id.unique():\n",
    "    # get the number of trains running for each service - train time interval\n",
    "    # divide by total and insert these new numbers at the specified index for service_ratio_list\n",
    "    filtered_df_to_service = trip_interval_route_freq[trip_interval_route_freq['route_id']==service]['Avg_num_trains_running'] \n",
    "    single_service_ratio_df = pd.DataFrame(round(filtered_df_to_service/filtered_df_to_service.sum(), 2)*100)\n",
    "    for idx in single_service_ratio_df.index:\n",
    "        service_ratio_list[idx] = single_service_ratio_df.loc[idx].values[0]\n",
    "# alt. names: train_time_interval_ratio, percentage \n",
    "trip_interval_route_freq['single_service_ratio'] = service_ratio_list"
   ]
  },
  {
   "cell_type": "code",
   "execution_count": null,
   "metadata": {
    "ExecuteTime": {
     "end_time": "2024-04-07T17:26:43.522644Z",
     "start_time": "2024-04-07T17:26:43.511844Z"
    }
   },
   "outputs": [],
   "source": [
    "# compare each route_id + train time interval to average train time interval ratio\n",
    "all_routes_service_ratio = round(trip_interval_route_freq.groupby('Train Time Interval')\n",
    "            ['Avg_num_trains_running'].sum()/ trip_interval_route_freq['Avg_num_trains_running'].sum(), 2)*100\n",
    "\n",
    "trip_interval_route_freq['mean_service_ratio'] = trip_interval_route_freq['Train Time Interval'].copy().replace(\n",
    "                                                    all_routes_service_ratio)\n",
    "\n",
    "trip_interval_route_freq['single_service_ratio_diff'] = trip_interval_route_freq['single_service_ratio'] - \\\n",
    "                                                        trip_interval_route_freq['mean_service_ratio']"
   ]
  },
  {
   "cell_type": "code",
   "execution_count": 232,
   "metadata": {
    "ExecuteTime": {
     "end_time": "2024-04-07T17:26:52.786953Z",
     "start_time": "2024-04-07T17:26:52.773939Z"
    }
   },
   "outputs": [
    {
     "ename": "KeyError",
     "evalue": "\"['single_service_ratio', 'mean_service_ratio', 'single_service_ratio_diff'] not in index\"",
     "output_type": "error",
     "traceback": [
      "\u001b[0;31m---------------------------------------------------------------------------\u001b[0m",
      "\u001b[0;31mKeyError\u001b[0m                                  Traceback (most recent call last)",
      "Cell \u001b[0;32mIn[232], line 2\u001b[0m\n\u001b[1;32m      1\u001b[0m \u001b[38;5;66;03m# all services\u001b[39;00m\n\u001b[0;32m----> 2\u001b[0m trip_interval_route_freq[[\u001b[38;5;124m'\u001b[39m\u001b[38;5;124mroute_id\u001b[39m\u001b[38;5;124m'\u001b[39m, \u001b[38;5;124m'\u001b[39m\u001b[38;5;124mTrain Time Interval\u001b[39m\u001b[38;5;124m'\u001b[39m,\u001b[38;5;124m'\u001b[39m\u001b[38;5;124msingle_service_ratio\u001b[39m\u001b[38;5;124m'\u001b[39m, \u001b[38;5;124m'\u001b[39m\u001b[38;5;124mmean_service_ratio\u001b[39m\u001b[38;5;124m'\u001b[39m\n\u001b[1;32m      3\u001b[0m                          , \u001b[38;5;124m'\u001b[39m\u001b[38;5;124msingle_service_ratio_diff\u001b[39m\u001b[38;5;124m'\u001b[39m]][\u001b[38;5;241m0\u001b[39m:\u001b[38;5;241m6\u001b[39m]\n",
      "File \u001b[0;32m~/opt/anaconda3/envs/nyc_subway_env/lib/python3.12/site-packages/pandas/core/frame.py:4108\u001b[0m, in \u001b[0;36mDataFrame.__getitem__\u001b[0;34m(self, key)\u001b[0m\n\u001b[1;32m   4106\u001b[0m     \u001b[38;5;28;01mif\u001b[39;00m is_iterator(key):\n\u001b[1;32m   4107\u001b[0m         key \u001b[38;5;241m=\u001b[39m \u001b[38;5;28mlist\u001b[39m(key)\n\u001b[0;32m-> 4108\u001b[0m     indexer \u001b[38;5;241m=\u001b[39m \u001b[38;5;28mself\u001b[39m\u001b[38;5;241m.\u001b[39mcolumns\u001b[38;5;241m.\u001b[39m_get_indexer_strict(key, \u001b[38;5;124m\"\u001b[39m\u001b[38;5;124mcolumns\u001b[39m\u001b[38;5;124m\"\u001b[39m)[\u001b[38;5;241m1\u001b[39m]\n\u001b[1;32m   4110\u001b[0m \u001b[38;5;66;03m# take() does not accept boolean indexers\u001b[39;00m\n\u001b[1;32m   4111\u001b[0m \u001b[38;5;28;01mif\u001b[39;00m \u001b[38;5;28mgetattr\u001b[39m(indexer, \u001b[38;5;124m\"\u001b[39m\u001b[38;5;124mdtype\u001b[39m\u001b[38;5;124m\"\u001b[39m, \u001b[38;5;28;01mNone\u001b[39;00m) \u001b[38;5;241m==\u001b[39m \u001b[38;5;28mbool\u001b[39m:\n",
      "File \u001b[0;32m~/opt/anaconda3/envs/nyc_subway_env/lib/python3.12/site-packages/pandas/core/indexes/base.py:6200\u001b[0m, in \u001b[0;36mIndex._get_indexer_strict\u001b[0;34m(self, key, axis_name)\u001b[0m\n\u001b[1;32m   6197\u001b[0m \u001b[38;5;28;01melse\u001b[39;00m:\n\u001b[1;32m   6198\u001b[0m     keyarr, indexer, new_indexer \u001b[38;5;241m=\u001b[39m \u001b[38;5;28mself\u001b[39m\u001b[38;5;241m.\u001b[39m_reindex_non_unique(keyarr)\n\u001b[0;32m-> 6200\u001b[0m \u001b[38;5;28mself\u001b[39m\u001b[38;5;241m.\u001b[39m_raise_if_missing(keyarr, indexer, axis_name)\n\u001b[1;32m   6202\u001b[0m keyarr \u001b[38;5;241m=\u001b[39m \u001b[38;5;28mself\u001b[39m\u001b[38;5;241m.\u001b[39mtake(indexer)\n\u001b[1;32m   6203\u001b[0m \u001b[38;5;28;01mif\u001b[39;00m \u001b[38;5;28misinstance\u001b[39m(key, Index):\n\u001b[1;32m   6204\u001b[0m     \u001b[38;5;66;03m# GH 42790 - Preserve name from an Index\u001b[39;00m\n",
      "File \u001b[0;32m~/opt/anaconda3/envs/nyc_subway_env/lib/python3.12/site-packages/pandas/core/indexes/base.py:6252\u001b[0m, in \u001b[0;36mIndex._raise_if_missing\u001b[0;34m(self, key, indexer, axis_name)\u001b[0m\n\u001b[1;32m   6249\u001b[0m     \u001b[38;5;28;01mraise\u001b[39;00m \u001b[38;5;167;01mKeyError\u001b[39;00m(\u001b[38;5;124mf\u001b[39m\u001b[38;5;124m\"\u001b[39m\u001b[38;5;124mNone of [\u001b[39m\u001b[38;5;132;01m{\u001b[39;00mkey\u001b[38;5;132;01m}\u001b[39;00m\u001b[38;5;124m] are in the [\u001b[39m\u001b[38;5;132;01m{\u001b[39;00maxis_name\u001b[38;5;132;01m}\u001b[39;00m\u001b[38;5;124m]\u001b[39m\u001b[38;5;124m\"\u001b[39m)\n\u001b[1;32m   6251\u001b[0m not_found \u001b[38;5;241m=\u001b[39m \u001b[38;5;28mlist\u001b[39m(ensure_index(key)[missing_mask\u001b[38;5;241m.\u001b[39mnonzero()[\u001b[38;5;241m0\u001b[39m]]\u001b[38;5;241m.\u001b[39munique())\n\u001b[0;32m-> 6252\u001b[0m \u001b[38;5;28;01mraise\u001b[39;00m \u001b[38;5;167;01mKeyError\u001b[39;00m(\u001b[38;5;124mf\u001b[39m\u001b[38;5;124m\"\u001b[39m\u001b[38;5;132;01m{\u001b[39;00mnot_found\u001b[38;5;132;01m}\u001b[39;00m\u001b[38;5;124m not in index\u001b[39m\u001b[38;5;124m\"\u001b[39m)\n",
      "\u001b[0;31mKeyError\u001b[0m: \"['single_service_ratio', 'mean_service_ratio', 'single_service_ratio_diff'] not in index\""
     ]
    }
   ],
   "source": [
    "# all services\n",
    "trip_interval_route_freq[['route_id', 'Train Time Interval','single_service_ratio', 'mean_service_ratio'\n",
    "                         , 'single_service_ratio_diff']][0:6]"
   ]
  },
  {
   "cell_type": "code",
   "execution_count": null,
   "metadata": {
    "ExecuteTime": {
     "end_time": "2024-04-07T17:26:54.759906Z",
     "start_time": "2024-04-07T17:26:53.946050Z"
    }
   },
   "outputs": [
    {
     "data": {
      "image/png": "[encoded data removed]",
      "text/plain": [
       "<Figure size 432x288 with 1 Axes>"
      ]
     },
     "metadata": {},
     "output_type": "display_data"
    },
    {
     "data": {
      "text/plain": [
       "<Figure size 2160x864 with 0 Axes>"
      ]
     },
     "metadata": {},
     "output_type": "display_data"
    }
   ],
   "source": [
    "sns.barplot(data=trip_interval_route_freq, x='route_id', y='single_service_ratio_diff'\n",
    "            , hue='Train Time Interval')\n",
    "plt.legend(bbox_to_anchor=(1.05, 1), loc='upper left')\n",
    "plt.figure(figsize=(30,12))\n",
    "plt.show()"
   ]
  },
  {
   "cell_type": "code",
   "execution_count": 233,
   "metadata": {
    "ExecuteTime": {
     "end_time": "2024-04-07T17:26:55.159609Z",
     "start_time": "2024-04-07T17:26:55.150364Z"
    }
   },
   "outputs": [
    {
     "ename": "KeyError",
     "evalue": "\"['single_service_ratio'] not in index\"",
     "output_type": "error",
     "traceback": [
      "\u001b[0;31m---------------------------------------------------------------------------\u001b[0m",
      "\u001b[0;31mKeyError\u001b[0m                                  Traceback (most recent call last)",
      "Cell \u001b[0;32mIn[233], line 2\u001b[0m\n\u001b[1;32m      1\u001b[0m \u001b[38;5;66;03m# examining one train's service ratio\u001b[39;00m\n\u001b[0;32m----> 2\u001b[0m trip_interval_route_freq[trip_interval_route_freq[\u001b[38;5;124m'\u001b[39m\u001b[38;5;124mroute_id\u001b[39m\u001b[38;5;124m'\u001b[39m]\u001b[38;5;241m==\u001b[39m\u001b[38;5;124m'\u001b[39m\u001b[38;5;124m1\u001b[39m\u001b[38;5;124m'\u001b[39m][[\u001b[38;5;124m'\u001b[39m\u001b[38;5;124mroute_id\u001b[39m\u001b[38;5;124m'\u001b[39m, \u001b[38;5;124m'\u001b[39m\u001b[38;5;124mTrain Time Interval\u001b[39m\u001b[38;5;124m'\u001b[39m, \u001b[38;5;124m'\u001b[39m\u001b[38;5;124msingle_service_ratio\u001b[39m\u001b[38;5;124m'\u001b[39m]]\n",
      "File \u001b[0;32m~/opt/anaconda3/envs/nyc_subway_env/lib/python3.12/site-packages/pandas/core/frame.py:4108\u001b[0m, in \u001b[0;36mDataFrame.__getitem__\u001b[0;34m(self, key)\u001b[0m\n\u001b[1;32m   4106\u001b[0m     \u001b[38;5;28;01mif\u001b[39;00m is_iterator(key):\n\u001b[1;32m   4107\u001b[0m         key \u001b[38;5;241m=\u001b[39m \u001b[38;5;28mlist\u001b[39m(key)\n\u001b[0;32m-> 4108\u001b[0m     indexer \u001b[38;5;241m=\u001b[39m \u001b[38;5;28mself\u001b[39m\u001b[38;5;241m.\u001b[39mcolumns\u001b[38;5;241m.\u001b[39m_get_indexer_strict(key, \u001b[38;5;124m\"\u001b[39m\u001b[38;5;124mcolumns\u001b[39m\u001b[38;5;124m\"\u001b[39m)[\u001b[38;5;241m1\u001b[39m]\n\u001b[1;32m   4110\u001b[0m \u001b[38;5;66;03m# take() does not accept boolean indexers\u001b[39;00m\n\u001b[1;32m   4111\u001b[0m \u001b[38;5;28;01mif\u001b[39;00m \u001b[38;5;28mgetattr\u001b[39m(indexer, \u001b[38;5;124m\"\u001b[39m\u001b[38;5;124mdtype\u001b[39m\u001b[38;5;124m\"\u001b[39m, \u001b[38;5;28;01mNone\u001b[39;00m) \u001b[38;5;241m==\u001b[39m \u001b[38;5;28mbool\u001b[39m:\n",
      "File \u001b[0;32m~/opt/anaconda3/envs/nyc_subway_env/lib/python3.12/site-packages/pandas/core/indexes/base.py:6200\u001b[0m, in \u001b[0;36mIndex._get_indexer_strict\u001b[0;34m(self, key, axis_name)\u001b[0m\n\u001b[1;32m   6197\u001b[0m \u001b[38;5;28;01melse\u001b[39;00m:\n\u001b[1;32m   6198\u001b[0m     keyarr, indexer, new_indexer \u001b[38;5;241m=\u001b[39m \u001b[38;5;28mself\u001b[39m\u001b[38;5;241m.\u001b[39m_reindex_non_unique(keyarr)\n\u001b[0;32m-> 6200\u001b[0m \u001b[38;5;28mself\u001b[39m\u001b[38;5;241m.\u001b[39m_raise_if_missing(keyarr, indexer, axis_name)\n\u001b[1;32m   6202\u001b[0m keyarr \u001b[38;5;241m=\u001b[39m \u001b[38;5;28mself\u001b[39m\u001b[38;5;241m.\u001b[39mtake(indexer)\n\u001b[1;32m   6203\u001b[0m \u001b[38;5;28;01mif\u001b[39;00m \u001b[38;5;28misinstance\u001b[39m(key, Index):\n\u001b[1;32m   6204\u001b[0m     \u001b[38;5;66;03m# GH 42790 - Preserve name from an Index\u001b[39;00m\n",
      "File \u001b[0;32m~/opt/anaconda3/envs/nyc_subway_env/lib/python3.12/site-packages/pandas/core/indexes/base.py:6252\u001b[0m, in \u001b[0;36mIndex._raise_if_missing\u001b[0;34m(self, key, indexer, axis_name)\u001b[0m\n\u001b[1;32m   6249\u001b[0m     \u001b[38;5;28;01mraise\u001b[39;00m \u001b[38;5;167;01mKeyError\u001b[39;00m(\u001b[38;5;124mf\u001b[39m\u001b[38;5;124m\"\u001b[39m\u001b[38;5;124mNone of [\u001b[39m\u001b[38;5;132;01m{\u001b[39;00mkey\u001b[38;5;132;01m}\u001b[39;00m\u001b[38;5;124m] are in the [\u001b[39m\u001b[38;5;132;01m{\u001b[39;00maxis_name\u001b[38;5;132;01m}\u001b[39;00m\u001b[38;5;124m]\u001b[39m\u001b[38;5;124m\"\u001b[39m)\n\u001b[1;32m   6251\u001b[0m not_found \u001b[38;5;241m=\u001b[39m \u001b[38;5;28mlist\u001b[39m(ensure_index(key)[missing_mask\u001b[38;5;241m.\u001b[39mnonzero()[\u001b[38;5;241m0\u001b[39m]]\u001b[38;5;241m.\u001b[39munique())\n\u001b[0;32m-> 6252\u001b[0m \u001b[38;5;28;01mraise\u001b[39;00m \u001b[38;5;167;01mKeyError\u001b[39;00m(\u001b[38;5;124mf\u001b[39m\u001b[38;5;124m\"\u001b[39m\u001b[38;5;132;01m{\u001b[39;00mnot_found\u001b[38;5;132;01m}\u001b[39;00m\u001b[38;5;124m not in index\u001b[39m\u001b[38;5;124m\"\u001b[39m)\n",
      "\u001b[0;31mKeyError\u001b[0m: \"['single_service_ratio'] not in index\""
     ]
    }
   ],
   "source": [
    "# examining one train's service ratio\n",
    "trip_interval_route_freq[trip_interval_route_freq['route_id']=='1'][['route_id', 'Train Time Interval', 'single_service_ratio']]"
   ]
  }
 ],
 "metadata": {
  "kernelspec": {
   "display_name": "Python 3",
   "language": "python",
   "name": "python3"
  },
  "language_info": {
   "codemirror_mode": {
    "name": "ipython",
    "version": 3
   },
   "file_extension": ".py",
   "mimetype": "text/x-python",
   "name": "python",
   "nbconvert_exporter": "python",
   "pygments_lexer": "ipython3",
   "version": "3.12.4"
  },
  "toc": {
   "base_numbering": 1,
   "nav_menu": {},
   "number_sections": true,
   "sideBar": true,
   "skip_h1_title": false,
   "title_cell": "Table of Contents",
   "title_sidebar": "Contents",
   "toc_cell": false,
   "toc_position": {
    "height": "calc(100% - 180px)",
    "left": "10px",
    "top": "150px",
    "width": "224.252716px"
   },
   "toc_section_display": true,
   "toc_window_display": true
  },
  "varInspector": {
   "cols": {
    "lenName": 16,
    "lenType": 16,
    "lenVar": 40
   },
   "kernels_config": {
    "python": {
     "delete_cmd_postfix": "",
     "delete_cmd_prefix": "del ",
     "library": "var_list.py",
     "varRefreshCmd": "print(var_dic_list())"
    },
    "r": {
     "delete_cmd_postfix": ") ",
     "delete_cmd_prefix": "rm(",
     "library": "var_list.r",
     "varRefreshCmd": "cat(var_dic_list()) "
    }
   },
   "position": {
    "height": "916.603271px",
    "left": "1661.391357px",
    "right": "20px",
    "top": "121.000008px",
    "width": "350px"
   },
   "types_to_exclude": [
    "module",
    "function",
    "builtin_function_or_method",
    "instance",
    "_Feature"
   ],
   "window_display": false
  }
 },
 "nbformat": 4,
 "nbformat_minor": 2
}
