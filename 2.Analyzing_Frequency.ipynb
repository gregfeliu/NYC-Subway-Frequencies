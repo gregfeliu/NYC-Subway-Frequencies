{
 "cells": [
  {
   "cell_type": "markdown",
   "metadata": {},
   "source": [
    "import matplotlib.pyplot as plt\n",
    "import seaborn as sns\n",
    "import pandas as pd\n",
    "from sklearn.model_selection import train_test_split\n",
    "# ^^^ pyforest auto-imports - don't write above this line\n",
    "The goal of this notebook is to **explore the possibility of using Google's GTFS Data to find out how many trains are operating in the NYC Subway at any given time**."
   ]
  },
  {
   "cell_type": "markdown",
   "metadata": {},
   "source": [
    "More info about [GTFS Data](https://gtfs.org) in general. There are two types: \n",
    "- schedule data \n",
    "- real time data [extra information about this](https://doodles.patrickweaver.net/working-with-nyc-mta-realtime-subway-data/slides/4/)\n",
    "\n",
    "I don't notice any difference between the two. I'll just use schedule data"
   ]
  },
  {
   "cell_type": "markdown",
   "metadata": {},
   "source": [
    "[MTA Developer Tools](https://new.mta.info/developers). The google data for the mta should be all that we need. There's weekday, saturday, and sunday service so only need to worry about those times. Additionally, there's data on the buses, LIRR and Metro North in there, too.\n",
    "- [mta metrics dashboard](https://metrics.mta.info/?subway/customerjourneytimeperformance)\n",
    "\n",
    "[time frequency](https://en.wikipedia.org/wiki/List_of_New_York_City_Subway_services#Train_frequency_charts) breakdown"
   ]
  },
  {
   "cell_type": "markdown",
   "metadata": {},
   "source": [
    "[The project](https://tyleragreen.com/maps/new_york/) that inspired this one. [General Subway trivia](https://www.nycsubway.org/wiki/Main_Page)"
   ]
  },
  {
   "cell_type": "markdown",
   "metadata": {},
   "source": [
    "Some notes about the results:\n",
    "- the routes change by day of week (for example the M not running its whole route on the weekends)\n",
    "- some routes include service changes (the 7 and 7 express both count as the 7)\n",
    "- this also includes late nights where the routes can change dramatically (e.g.: the 5 train doesn't leave the BX at night)\n",
    "- two routes don't run on the weekends: the B and W"
   ]
  },
  {
   "cell_type": "markdown",
   "metadata": {},
   "source": [
    "# Imports"
   ]
  },
  {
   "cell_type": "code",
   "execution_count": 208,
   "metadata": {
    "ExecuteTime": {
     "end_time": "2024-01-07T00:25:21.281592Z",
     "start_time": "2024-01-07T00:25:21.277466Z"
    }
   },
   "outputs": [],
   "source": [
    "import pandas as pd\n",
    "import numpy as np\n",
    "import geopandas\n",
    "import seaborn as sns\n",
    "import datetime\n",
    "import warnings\n",
    "warnings.filterwarnings(action='once')"
   ]
  },
  {
   "cell_type": "markdown",
   "metadata": {},
   "source": [
    "## Functions "
   ]
  },
  {
   "cell_type": "code",
   "execution_count": 341,
   "metadata": {
    "ExecuteTime": {
     "end_time": "2024-01-07T01:42:41.841681Z",
     "start_time": "2024-01-07T01:42:41.826236Z"
    },
    "code_folding": [
     0,
     17
    ]
   },
   "outputs": [],
   "source": [
    "def determine_train_time_intervals(arrival_time, day_of_week: str):\n",
    "    arrival_time = arrival_time.time()\n",
    "    train_time_interval = None\n",
    "    if datetime.time(0, 0) <= arrival_time < datetime.time(6, 30):\n",
    "        train_time_interval = 'Late Night'\n",
    "    elif day_of_week in ['Saturday', 'Sunday']:\n",
    "        train_time_interval = 'Weekend'\n",
    "    elif datetime.time(6, 30) <= arrival_time < datetime.time(9, 30):\n",
    "        train_time_interval = 'Rush Hour AM'\n",
    "    elif datetime.time(9, 30) <= arrival_time < datetime.time(15, 30):\n",
    "        train_time_interval = 'Midday'\n",
    "    elif datetime.time(15, 30) <= arrival_time < datetime.time(20, 0):\n",
    "        train_time_interval = 'Rush Hour PM'\n",
    "    elif datetime.time(20, 0) <= arrival_time <= datetime.time(23, 59):\n",
    "        train_time_interval = 'Evening'\n",
    "    return train_time_interval\n",
    "\n",
    "def scale_time_intervals_to_hour(df_grouped_at_interval_level: pd.DataFrame):\n",
    "    for idx, row in df_grouped_at_interval_level.iterrows():\n",
    "        if row['train_time_interval'] == 'Late Night':\n",
    "            new_tph = (row['trains_per_hour'] / 3) / 6.5 # multiply by days ratio and hours ratio \n",
    "            df_grouped_at_interval_level.at[idx, 'trains_per_hour'] = new_tph\n",
    "        elif row['train_time_interval'] == 'Weekend':\n",
    "            new_tph = (row['trains_per_hour'] / 2) / 17.5 # multiply by days ratio and hours ratio \n",
    "            df_grouped_at_interval_level.at[idx, 'trains_per_hour'] = new_tph\n",
    "        elif row['train_time_interval'] == 'Rush Hour AM':\n",
    "            new_tph = row['trains_per_hour'] / 3 # multiply by days ratio and hours ratio \n",
    "            df_grouped_at_interval_level.at[idx, 'trains_per_hour'] = new_tph\n",
    "        elif row['train_time_interval'] == 'Midday':\n",
    "            new_tph = row['trains_per_hour'] / 6 # multiply by days ratio and hours ratio \n",
    "            df_grouped_at_interval_level.at[idx, 'trains_per_hour'] = new_tph\n",
    "        elif row['train_time_interval'] == 'Rush Hour PM':\n",
    "            new_tph = row['trains_per_hour'] / 4.5 # multiply by days ratio and hours ratio \n",
    "            df_grouped_at_interval_level.at[idx, 'trains_per_hour'] = new_tph\n",
    "        elif row['train_time_interval'] == 'Evening':\n",
    "            new_tph = row['trains_per_hour'] / 4 # multiply by days ratio and hours ratio \n",
    "            df_grouped_at_interval_level.at[idx, 'trains_per_hour'] = new_tph\n",
    "    return df_grouped_at_interval_level"
   ]
  },
  {
   "cell_type": "markdown",
   "metadata": {},
   "source": [
    "# Real Time Data"
   ]
  },
  {
   "cell_type": "code",
   "execution_count": 3,
   "metadata": {
    "ExecuteTime": {
     "end_time": "2024-01-06T20:17:47.209699Z",
     "start_time": "2024-01-06T20:17:47.093752Z"
    }
   },
   "outputs": [],
   "source": [
    "trips_supplemented_df = pd.read_csv(\"google_transit_supplemented/trips.txt\")\n",
    "trips_supplemented_df.head()"
   ]
  },
  {
   "cell_type": "markdown",
   "metadata": {},
   "source": [
    "## Schedule Data"
   ]
  },
  {
   "cell_type": "code",
   "execution_count": 128,
   "metadata": {
    "ExecuteTime": {
     "end_time": "2024-01-07T15:55:53.419957Z",
     "start_time": "2024-01-07T15:55:52.774576Z"
    }
   },
   "outputs": [
    {
     "data": {
      "application/javascript": [
       "\n",
       "        if (window._pyforest_update_imports_cell) { window._pyforest_update_imports_cell('import matplotlib.pyplot as plt\\nimport seaborn as sns\\nimport pandas as pd\\nfrom sklearn.model_selection import train_test_split'); }\n",
       "    "
      ],
      "text/plain": [
       "<IPython.core.display.Javascript object>"
      ]
     },
     "metadata": {},
     "output_type": "display_data"
    },
    {
     "data": {
      "application/javascript": [
       "\n",
       "        if (window._pyforest_update_imports_cell) { window._pyforest_update_imports_cell('import matplotlib.pyplot as plt\\nimport seaborn as sns\\nimport pandas as pd\\nfrom sklearn.model_selection import train_test_split'); }\n",
       "    "
      ],
      "text/plain": [
       "<IPython.core.display.Javascript object>"
      ]
     },
     "metadata": {},
     "output_type": "display_data"
    },
    {
     "data": {
      "application/javascript": [
       "\n",
       "        if (window._pyforest_update_imports_cell) { window._pyforest_update_imports_cell('import matplotlib.pyplot as plt\\nimport seaborn as sns\\nimport pandas as pd\\nfrom sklearn.model_selection import train_test_split'); }\n",
       "    "
      ],
      "text/plain": [
       "<IPython.core.display.Javascript object>"
      ]
     },
     "metadata": {},
     "output_type": "display_data"
    },
    {
     "data": {
      "application/javascript": [
       "\n",
       "        if (window._pyforest_update_imports_cell) { window._pyforest_update_imports_cell('import matplotlib.pyplot as plt\\nimport seaborn as sns\\nimport pandas as pd\\nfrom sklearn.model_selection import train_test_split'); }\n",
       "    "
      ],
      "text/plain": [
       "<IPython.core.display.Javascript object>"
      ]
     },
     "metadata": {},
     "output_type": "display_data"
    },
    {
     "data": {
      "application/javascript": [
       "\n",
       "        if (window._pyforest_update_imports_cell) { window._pyforest_update_imports_cell('import matplotlib.pyplot as plt\\nimport seaborn as sns\\nimport pandas as pd\\nfrom sklearn.model_selection import train_test_split'); }\n",
       "    "
      ],
      "text/plain": [
       "<IPython.core.display.Javascript object>"
      ]
     },
     "metadata": {},
     "output_type": "display_data"
    },
    {
     "data": {
      "application/javascript": [
       "\n",
       "        if (window._pyforest_update_imports_cell) { window._pyforest_update_imports_cell('import matplotlib.pyplot as plt\\nimport seaborn as sns\\nimport pandas as pd\\nfrom sklearn.model_selection import train_test_split'); }\n",
       "    "
      ],
      "text/plain": [
       "<IPython.core.display.Javascript object>"
      ]
     },
     "metadata": {},
     "output_type": "display_data"
    },
    {
     "data": {
      "application/javascript": [
       "\n",
       "        if (window._pyforest_update_imports_cell) { window._pyforest_update_imports_cell('import matplotlib.pyplot as plt\\nimport seaborn as sns\\nimport pandas as pd\\nfrom sklearn.model_selection import train_test_split'); }\n",
       "    "
      ],
      "text/plain": [
       "<IPython.core.display.Javascript object>"
      ]
     },
     "metadata": {},
     "output_type": "display_data"
    },
    {
     "data": {
      "application/javascript": [
       "\n",
       "        if (window._pyforest_update_imports_cell) { window._pyforest_update_imports_cell('import matplotlib.pyplot as plt\\nimport seaborn as sns\\nimport pandas as pd\\nfrom sklearn.model_selection import train_test_split'); }\n",
       "    "
      ],
      "text/plain": [
       "<IPython.core.display.Javascript object>"
      ]
     },
     "metadata": {},
     "output_type": "display_data"
    }
   ],
   "source": [
    "# holdays and other days when the data would be different than expected\n",
    "calendar_dates_df = pd.read_csv(\"google_transit/calendar_dates.txt\") \n",
    "calendar_df = pd.read_csv(\"google_transit/calendar.txt\")\n",
    "routes_df = pd.read_csv(\"google_transit/routes.txt\")\n",
    "stop_times_df = pd.read_csv(\"google_transit/stop_times.txt\")\n",
    "stops_df = pd.read_csv(\"google_transit/stops.txt\")\n",
    "transfers_df = pd.read_csv(\"google_transit/transfers.txt\")\n",
    "trips_df = pd.read_csv(\"google_transit/trips.txt\")\n",
    "# not useful data \n",
    "# agency_df = pd.read_csv(\"google_transit/agency.txt\")\n",
    "shapes_df = pd.read_csv(\"google_transit/shapes.txt\")"
   ]
  },
  {
   "cell_type": "code",
   "execution_count": 6,
   "metadata": {
    "ExecuteTime": {
     "end_time": "2024-01-06T20:18:08.665430Z",
     "start_time": "2024-01-06T20:18:08.662495Z"
    }
   },
   "outputs": [],
   "source": [
    "all_dfs_list = [calendar_dates_df, calendar_df, routes_df, shapes_df\n",
    "               , stop_times_df, stops_df, transfers_df, trips_df]"
   ]
  },
  {
   "cell_type": "markdown",
   "metadata": {},
   "source": [
    "## Frequency Data \n",
    "(that I made)"
   ]
  },
  {
   "cell_type": "code",
   "execution_count": 142,
   "metadata": {
    "ExecuteTime": {
     "end_time": "2024-01-07T16:01:29.154383Z",
     "start_time": "2024-01-07T16:01:29.083874Z"
    }
   },
   "outputs": [
    {
     "data": {
      "application/javascript": [
       "\n",
       "        if (window._pyforest_update_imports_cell) { window._pyforest_update_imports_cell('import matplotlib.pyplot as plt\\nimport seaborn as sns\\nimport pandas as pd\\nfrom sklearn.model_selection import train_test_split'); }\n",
       "    "
      ],
      "text/plain": [
       "<IPython.core.display.Javascript object>"
      ]
     },
     "metadata": {},
     "output_type": "display_data"
    },
    {
     "data": {
      "application/javascript": [
       "\n",
       "        if (window._pyforest_update_imports_cell) { window._pyforest_update_imports_cell('import matplotlib.pyplot as plt\\nimport seaborn as sns\\nimport pandas as pd\\nfrom sklearn.model_selection import train_test_split'); }\n",
       "    "
      ],
      "text/plain": [
       "<IPython.core.display.Javascript object>"
      ]
     },
     "metadata": {},
     "output_type": "display_data"
    },
    {
     "data": {
      "application/javascript": [
       "\n",
       "        if (window._pyforest_update_imports_cell) { window._pyforest_update_imports_cell('import matplotlib.pyplot as plt\\nimport seaborn as sns\\nimport pandas as pd\\nfrom sklearn.model_selection import train_test_split'); }\n",
       "    "
      ],
      "text/plain": [
       "<IPython.core.display.Javascript object>"
      ]
     },
     "metadata": {},
     "output_type": "display_data"
    },
    {
     "data": {
      "application/javascript": [
       "\n",
       "        if (window._pyforest_update_imports_cell) { window._pyforest_update_imports_cell('import matplotlib.pyplot as plt\\nimport seaborn as sns\\nimport pandas as pd\\nfrom sklearn.model_selection import train_test_split'); }\n",
       "    "
      ],
      "text/plain": [
       "<IPython.core.display.Javascript object>"
      ]
     },
     "metadata": {},
     "output_type": "display_data"
    },
    {
     "data": {
      "application/javascript": [
       "\n",
       "        if (window._pyforest_update_imports_cell) { window._pyforest_update_imports_cell('import matplotlib.pyplot as plt\\nimport seaborn as sns\\nimport pandas as pd\\nfrom sklearn.model_selection import train_test_split'); }\n",
       "    "
      ],
      "text/plain": [
       "<IPython.core.display.Javascript object>"
      ]
     },
     "metadata": {},
     "output_type": "display_data"
    }
   ],
   "source": [
    "first_stop_in_trip = pd.read_csv(\"first_stop_in_trip.csv\", index_col=0)\n",
    "route_trip_freq_by_hour = pd.read_csv(\"route_trip_freq_by_hour.csv\", index_col=0)\n",
    "first_stop_in_trip_per_day = pd.read_csv(\"first_stop_in_trip_per_day.csv\", index_col=0)\n",
    "route_trip_freq_overall_by_day = pd.read_csv(\"route_trip_freq_overall_by_day.csv\", index_col=0).reset_index()\n",
    "first_stop_in_trip_per_interval = pd.read_csv(\"first_stop_in_trip_per_interval.csv\", index_col=0)"
   ]
  },
  {
   "cell_type": "markdown",
   "metadata": {},
   "source": [
    "# Adjustments to the GTFS Dfs"
   ]
  },
  {
   "cell_type": "markdown",
   "metadata": {},
   "source": [
    "## Date Format"
   ]
  },
  {
   "cell_type": "code",
   "execution_count": 125,
   "metadata": {
    "ExecuteTime": {
     "end_time": "2024-01-07T15:55:43.072253Z",
     "start_time": "2024-01-07T15:55:43.069454Z"
    }
   },
   "outputs": [],
   "source": [
    "# calendar_dates_df['date'].astype('datetime')\n",
    "# calendar_dates_df['date'] = pd.to_datetime(calendar_dates_df['date'], format=\"%Y%m%d\")"
   ]
  },
  {
   "cell_type": "code",
   "execution_count": 126,
   "metadata": {
    "ExecuteTime": {
     "end_time": "2024-01-07T15:55:45.566434Z",
     "start_time": "2024-01-07T15:55:45.564079Z"
    }
   },
   "outputs": [],
   "source": [
    "# calendar_df['start_date'] = pd.to_datetime(calendar_df['start_date'], format=\"%Y%m%d\")\n",
    "# calendar_df['end_date'] = pd.to_datetime(calendar_df['end_date'], format=\"%Y%m%d\")"
   ]
  },
  {
   "cell_type": "code",
   "execution_count": 129,
   "metadata": {
    "ExecuteTime": {
     "end_time": "2024-01-07T15:55:53.798841Z",
     "start_time": "2024-01-07T15:55:53.566171Z"
    },
    "scrolled": true
   },
   "outputs": [
    {
     "data": {
      "application/javascript": [
       "\n",
       "        if (window._pyforest_update_imports_cell) { window._pyforest_update_imports_cell('import matplotlib.pyplot as plt\\nimport seaborn as sns\\nimport pandas as pd\\nfrom sklearn.model_selection import train_test_split'); }\n",
       "    "
      ],
      "text/plain": [
       "<IPython.core.display.Javascript object>"
      ]
     },
     "metadata": {},
     "output_type": "display_data"
    },
    {
     "data": {
      "application/javascript": [
       "\n",
       "        if (window._pyforest_update_imports_cell) { window._pyforest_update_imports_cell('import matplotlib.pyplot as plt\\nimport seaborn as sns\\nimport pandas as pd\\nfrom sklearn.model_selection import train_test_split'); }\n",
       "    "
      ],
      "text/plain": [
       "<IPython.core.display.Javascript object>"
      ]
     },
     "metadata": {},
     "output_type": "display_data"
    }
   ],
   "source": [
    "stop_times_df['arrival_time'] = pd.to_datetime(stop_times_df['arrival_time'], format=\"%H:%M:%S\"\n",
    "                                                  , errors='coerce')\n",
    "stop_times_df['departure_time'] = pd.to_datetime(stop_times_df['departure_time'], format=\"%H:%M:%S\"\n",
    "                                                    , errors='coerce')"
   ]
  },
  {
   "cell_type": "markdown",
   "metadata": {},
   "source": [
    "## Removing Some of the data"
   ]
  },
  {
   "cell_type": "code",
   "execution_count": 130,
   "metadata": {
    "ExecuteTime": {
     "end_time": "2024-01-07T15:55:57.130274Z",
     "start_time": "2024-01-07T15:55:57.089336Z"
    }
   },
   "outputs": [],
   "source": [
    "# removing lat lon data\n",
    "# shapes_df.drop(columns=['shape_pt_lat', 'shape_pt_lon'], inplace=True)\n",
    "stops_df.drop(columns=['stop_lat', 'stop_lon'], inplace=True)\n",
    "stop_times_df = stop_times_df[~stop_times_df['arrival_time'].isnull()]"
   ]
  },
  {
   "cell_type": "markdown",
   "metadata": {},
   "source": [
    "# Using the Frequency Data"
   ]
  },
  {
   "cell_type": "markdown",
   "metadata": {},
   "source": [
    "## Adjusting the Data"
   ]
  },
  {
   "cell_type": "code",
   "execution_count": 105,
   "metadata": {
    "ExecuteTime": {
     "end_time": "2024-01-07T15:47:24.375572Z",
     "start_time": "2024-01-07T15:47:24.365575Z"
    }
   },
   "outputs": [],
   "source": [
    "# sorting train_time_interval by time of day\n",
    "time_of_day_sorting = {'Late Night': 0, 'Rush Hour AM': 1, 'Midday': 2\n",
    "                                     , 'Rush Hour PM': 3, 'Evening': 4, 'Weekend': 5}\n",
    "first_stop_in_trip_per_interval = first_stop_in_trip_per_interval.sort_values(by=\n",
    "                                                                              ['route_id', 'train_time_interval']\n",
    "                                            , key=lambda x: x.map(time_of_day_sorting)).reset_index(drop=True)"
   ]
  },
  {
   "cell_type": "markdown",
   "metadata": {},
   "source": [
    "## Previews of the Data"
   ]
  },
  {
   "cell_type": "code",
   "execution_count": 16,
   "metadata": {
    "ExecuteTime": {
     "end_time": "2024-01-07T15:11:41.398931Z",
     "start_time": "2024-01-07T15:11:41.383168Z"
    }
   },
   "outputs": [
    {
     "data": {
      "text/html": [
       "<div>\n",
       "<style scoped>\n",
       "    .dataframe tbody tr th:only-of-type {\n",
       "        vertical-align: middle;\n",
       "    }\n",
       "\n",
       "    .dataframe tbody tr th {\n",
       "        vertical-align: top;\n",
       "    }\n",
       "\n",
       "    .dataframe thead th {\n",
       "        text-align: right;\n",
       "    }\n",
       "</style>\n",
       "<table border=\"1\" class=\"dataframe\">\n",
       "  <thead>\n",
       "    <tr style=\"text-align: right;\">\n",
       "      <th></th>\n",
       "      <th>trip_id</th>\n",
       "      <th>stop_id</th>\n",
       "      <th>arrival_time</th>\n",
       "      <th>departure_time</th>\n",
       "      <th>stop_sequence</th>\n",
       "      <th>departure_hour</th>\n",
       "      <th>route_id</th>\n",
       "      <th>shape_id</th>\n",
       "      <th>day_of_week</th>\n",
       "      <th>train_time_interval</th>\n",
       "      <th>direction</th>\n",
       "    </tr>\n",
       "  </thead>\n",
       "  <tbody>\n",
       "    <tr>\n",
       "      <th>0</th>\n",
       "      <td>AFA23GEN-1038-Sunday-00_000600_1..S03R</td>\n",
       "      <td>101S</td>\n",
       "      <td>1900-01-01 00:06:00</td>\n",
       "      <td>1900-01-01 00:06:00</td>\n",
       "      <td>1</td>\n",
       "      <td>0.0</td>\n",
       "      <td>1</td>\n",
       "      <td>1..S03R</td>\n",
       "      <td>Sunday</td>\n",
       "      <td>Late Night</td>\n",
       "      <td>S</td>\n",
       "    </tr>\n",
       "  </tbody>\n",
       "</table>\n",
       "</div>"
      ],
      "text/plain": [
       "                                  trip_id stop_id         arrival_time  \\\n",
       "0  AFA23GEN-1038-Sunday-00_000600_1..S03R    101S  1900-01-01 00:06:00   \n",
       "\n",
       "        departure_time  stop_sequence  departure_hour route_id shape_id  \\\n",
       "0  1900-01-01 00:06:00              1             0.0        1  1..S03R   \n",
       "\n",
       "  day_of_week train_time_interval direction  \n",
       "0      Sunday          Late Night         S  "
      ]
     },
     "execution_count": 16,
     "metadata": {},
     "output_type": "execute_result"
    }
   ],
   "source": [
    "first_stop_in_trip.head(1)"
   ]
  },
  {
   "cell_type": "code",
   "execution_count": 17,
   "metadata": {
    "ExecuteTime": {
     "end_time": "2024-01-07T15:11:43.848442Z",
     "start_time": "2024-01-07T15:11:43.836964Z"
    }
   },
   "outputs": [
    {
     "data": {
      "text/html": [
       "<div>\n",
       "<style scoped>\n",
       "    .dataframe tbody tr th:only-of-type {\n",
       "        vertical-align: middle;\n",
       "    }\n",
       "\n",
       "    .dataframe tbody tr th {\n",
       "        vertical-align: top;\n",
       "    }\n",
       "\n",
       "    .dataframe thead th {\n",
       "        text-align: right;\n",
       "    }\n",
       "</style>\n",
       "<table border=\"1\" class=\"dataframe\">\n",
       "  <thead>\n",
       "    <tr style=\"text-align: right;\">\n",
       "      <th></th>\n",
       "      <th>day_of_week</th>\n",
       "      <th>departure_hour</th>\n",
       "      <th>trains_per_hour</th>\n",
       "      <th>headway_seconds</th>\n",
       "      <th>headway_minutes</th>\n",
       "    </tr>\n",
       "    <tr>\n",
       "      <th>route_id</th>\n",
       "      <th></th>\n",
       "      <th></th>\n",
       "      <th></th>\n",
       "      <th></th>\n",
       "      <th></th>\n",
       "    </tr>\n",
       "  </thead>\n",
       "  <tbody>\n",
       "    <tr>\n",
       "      <th>1</th>\n",
       "      <td>Saturday</td>\n",
       "      <td>0.0</td>\n",
       "      <td>3</td>\n",
       "      <td>1200.0</td>\n",
       "      <td>20.0</td>\n",
       "    </tr>\n",
       "  </tbody>\n",
       "</table>\n",
       "</div>"
      ],
      "text/plain": [
       "         day_of_week  departure_hour  trains_per_hour  headway_seconds  \\\n",
       "route_id                                                                 \n",
       "1           Saturday             0.0                3           1200.0   \n",
       "\n",
       "          headway_minutes  \n",
       "route_id                   \n",
       "1                    20.0  "
      ]
     },
     "execution_count": 17,
     "metadata": {},
     "output_type": "execute_result"
    }
   ],
   "source": [
    "route_trip_freq_by_hour.head(1)"
   ]
  },
  {
   "cell_type": "code",
   "execution_count": 19,
   "metadata": {
    "ExecuteTime": {
     "end_time": "2024-01-07T15:11:48.306023Z",
     "start_time": "2024-01-07T15:11:48.292920Z"
    }
   },
   "outputs": [
    {
     "data": {
      "text/html": [
       "<div>\n",
       "<style scoped>\n",
       "    .dataframe tbody tr th:only-of-type {\n",
       "        vertical-align: middle;\n",
       "    }\n",
       "\n",
       "    .dataframe tbody tr th {\n",
       "        vertical-align: top;\n",
       "    }\n",
       "\n",
       "    .dataframe thead th {\n",
       "        text-align: right;\n",
       "    }\n",
       "</style>\n",
       "<table border=\"1\" class=\"dataframe\">\n",
       "  <thead>\n",
       "    <tr style=\"text-align: right;\">\n",
       "      <th></th>\n",
       "      <th>Saturday</th>\n",
       "      <th>Sunday</th>\n",
       "      <th>Weekday</th>\n",
       "      <th>Weekday_Adjusted</th>\n",
       "      <th>Total_trains_per_day</th>\n",
       "      <th>Trains_per_Hour_Overall</th>\n",
       "      <th>headway_minutes</th>\n",
       "    </tr>\n",
       "    <tr>\n",
       "      <th>route_id</th>\n",
       "      <th></th>\n",
       "      <th></th>\n",
       "      <th></th>\n",
       "      <th></th>\n",
       "      <th></th>\n",
       "      <th></th>\n",
       "      <th></th>\n",
       "    </tr>\n",
       "  </thead>\n",
       "  <tbody>\n",
       "    <tr>\n",
       "      <th>1</th>\n",
       "      <td>7.75</td>\n",
       "      <td>6.416667</td>\n",
       "      <td>9.625</td>\n",
       "      <td>48.125</td>\n",
       "      <td>62.291667</td>\n",
       "      <td>8.9</td>\n",
       "      <td>6.7</td>\n",
       "    </tr>\n",
       "  </tbody>\n",
       "</table>\n",
       "</div>"
      ],
      "text/plain": [
       "          Saturday    Sunday  Weekday  Weekday_Adjusted  Total_trains_per_day  \\\n",
       "route_id                                                                        \n",
       "1             7.75  6.416667    9.625            48.125             62.291667   \n",
       "\n",
       "          Trains_per_Hour_Overall  headway_minutes  \n",
       "route_id                                            \n",
       "1                             8.9              6.7  "
      ]
     },
     "execution_count": 19,
     "metadata": {},
     "output_type": "execute_result"
    }
   ],
   "source": [
    "route_trip_freq_overall_by_day.head(1)"
   ]
  },
  {
   "cell_type": "code",
   "execution_count": 106,
   "metadata": {
    "ExecuteTime": {
     "end_time": "2024-01-07T15:47:26.461591Z",
     "start_time": "2024-01-07T15:47:26.451797Z"
    }
   },
   "outputs": [
    {
     "data": {
      "text/html": [
       "<div>\n",
       "<style scoped>\n",
       "    .dataframe tbody tr th:only-of-type {\n",
       "        vertical-align: middle;\n",
       "    }\n",
       "\n",
       "    .dataframe tbody tr th {\n",
       "        vertical-align: top;\n",
       "    }\n",
       "\n",
       "    .dataframe thead th {\n",
       "        text-align: right;\n",
       "    }\n",
       "</style>\n",
       "<table border=\"1\" class=\"dataframe\">\n",
       "  <thead>\n",
       "    <tr style=\"text-align: right;\">\n",
       "      <th></th>\n",
       "      <th>route_id</th>\n",
       "      <th>train_time_interval</th>\n",
       "      <th>trains_per_hour</th>\n",
       "      <th>headway_seconds</th>\n",
       "      <th>headway_minutes</th>\n",
       "    </tr>\n",
       "  </thead>\n",
       "  <tbody>\n",
       "    <tr>\n",
       "      <th>0</th>\n",
       "      <td>1</td>\n",
       "      <td>Late Night</td>\n",
       "      <td>3</td>\n",
       "      <td>1200.0</td>\n",
       "      <td>20.0</td>\n",
       "    </tr>\n",
       "    <tr>\n",
       "      <th>1</th>\n",
       "      <td>2</td>\n",
       "      <td>Late Night</td>\n",
       "      <td>3</td>\n",
       "      <td>1200.0</td>\n",
       "      <td>20.0</td>\n",
       "    </tr>\n",
       "  </tbody>\n",
       "</table>\n",
       "</div>"
      ],
      "text/plain": [
       "  route_id train_time_interval  trains_per_hour  headway_seconds  \\\n",
       "0        1          Late Night                3           1200.0   \n",
       "1        2          Late Night                3           1200.0   \n",
       "\n",
       "   headway_minutes  \n",
       "0             20.0  \n",
       "1             20.0  "
      ]
     },
     "execution_count": 106,
     "metadata": {},
     "output_type": "execute_result"
    }
   ],
   "source": [
    "first_stop_in_trip_per_interval.head(2)"
   ]
  },
  {
   "cell_type": "markdown",
   "metadata": {},
   "source": [
    "# Q & A"
   ]
  },
  {
   "cell_type": "code",
   "execution_count": 148,
   "metadata": {
    "ExecuteTime": {
     "end_time": "2024-01-07T16:03:47.497418Z",
     "start_time": "2024-01-07T16:03:47.491019Z"
    }
   },
   "outputs": [],
   "source": [
    "# getting the order of best performers (on weekday performance)\n",
    "sorted_routes = first_stop_in_trip_per_day[first_stop_in_trip_per_day\n",
    "                                 ['day_of_week']=='Weekday'].sort_values(by='trains_per_hour')['route_id'].values"
   ]
  },
  {
   "cell_type": "markdown",
   "metadata": {},
   "source": [
    "## Daily Average Frequency"
   ]
  },
  {
   "cell_type": "code",
   "execution_count": 149,
   "metadata": {
    "ExecuteTime": {
     "end_time": "2024-01-07T16:03:49.703600Z",
     "start_time": "2024-01-07T16:03:49.122160Z"
    },
    "scrolled": false
   },
   "outputs": [
    {
     "data": {
      "application/javascript": [
       "\n",
       "        if (window._pyforest_update_imports_cell) { window._pyforest_update_imports_cell('import matplotlib.pyplot as plt\\nimport seaborn as sns\\nimport pandas as pd\\nfrom sklearn.model_selection import train_test_split'); }\n",
       "    "
      ],
      "text/plain": [
       "<IPython.core.display.Javascript object>"
      ]
     },
     "metadata": {},
     "output_type": "display_data"
    },
    {
     "data": {
      "application/javascript": [
       "\n",
       "        if (window._pyforest_update_imports_cell) { window._pyforest_update_imports_cell('import matplotlib.pyplot as plt\\nimport seaborn as sns\\nimport pandas as pd\\nfrom sklearn.model_selection import train_test_split'); }\n",
       "    "
      ],
      "text/plain": [
       "<IPython.core.display.Javascript object>"
      ]
     },
     "metadata": {},
     "output_type": "display_data"
    },
    {
     "data": {
      "image/png": "[encoded data removed]",
      "text/plain": [
       "<Figure size 432x288 with 1 Axes>"
      ]
     },
     "metadata": {
      "needs_background": "light"
     },
     "output_type": "display_data"
    }
   ],
   "source": [
    "# with error bar \n",
    "ax = sns.barplot(data = first_stop_in_trip_per_day, x = 'route_id', y='headway_minutes', order=sorted_routes)\n",
    "#     ax.title(interval)\n",
    "ax.grid(axis='y')\n",
    "plt.show()"
   ]
  },
  {
   "cell_type": "code",
   "execution_count": 150,
   "metadata": {
    "ExecuteTime": {
     "end_time": "2024-01-07T16:03:51.009561Z",
     "start_time": "2024-01-07T16:03:50.289751Z"
    }
   },
   "outputs": [
    {
     "data": {
      "application/javascript": [
       "\n",
       "        if (window._pyforest_update_imports_cell) { window._pyforest_update_imports_cell('import matplotlib.pyplot as plt\\nimport seaborn as sns\\nimport pandas as pd\\nfrom sklearn.model_selection import train_test_split'); }\n",
       "    "
      ],
      "text/plain": [
       "<IPython.core.display.Javascript object>"
      ]
     },
     "metadata": {},
     "output_type": "display_data"
    },
    {
     "data": {
      "application/javascript": [
       "\n",
       "        if (window._pyforest_update_imports_cell) { window._pyforest_update_imports_cell('import matplotlib.pyplot as plt\\nimport seaborn as sns\\nimport pandas as pd\\nfrom sklearn.model_selection import train_test_split'); }\n",
       "    "
      ],
      "text/plain": [
       "<IPython.core.display.Javascript object>"
      ]
     },
     "metadata": {},
     "output_type": "display_data"
    },
    {
     "data": {
      "image/png": "[encoded data removed]",
      "text/plain": [
       "<Figure size 432x288 with 1 Axes>"
      ]
     },
     "metadata": {
      "needs_background": "light"
     },
     "output_type": "display_data"
    }
   ],
   "source": [
    "# separated by day \n",
    "ax = sns.barplot(data = first_stop_in_trip_per_day, x = 'route_id', y='headway_minutes'\n",
    "                 , hue='day_of_week', order=sorted_routes)\n",
    "#     ax.title(interval)\n",
    "ax.grid(axis='y')\n",
    "plt.show()"
   ]
  },
  {
   "cell_type": "markdown",
   "metadata": {},
   "source": [
    "## Frequency by Interval"
   ]
  },
  {
   "cell_type": "code",
   "execution_count": 152,
   "metadata": {
    "ExecuteTime": {
     "end_time": "2024-01-07T16:07:10.645565Z",
     "start_time": "2024-01-07T16:07:09.008273Z"
    },
    "scrolled": true
   },
   "outputs": [
    {
     "name": "stdout",
     "output_type": "stream",
     "text": [
      "Late Night\n"
     ]
    },
    {
     "data": {
      "application/javascript": [
       "\n",
       "        if (window._pyforest_update_imports_cell) { window._pyforest_update_imports_cell('import matplotlib.pyplot as plt\\nimport seaborn as sns\\nimport pandas as pd\\nfrom sklearn.model_selection import train_test_split'); }\n",
       "    "
      ],
      "text/plain": [
       "<IPython.core.display.Javascript object>"
      ]
     },
     "metadata": {},
     "output_type": "display_data"
    },
    {
     "data": {
      "application/javascript": [
       "\n",
       "        if (window._pyforest_update_imports_cell) { window._pyforest_update_imports_cell('import matplotlib.pyplot as plt\\nimport seaborn as sns\\nimport pandas as pd\\nfrom sklearn.model_selection import train_test_split'); }\n",
       "    "
      ],
      "text/plain": [
       "<IPython.core.display.Javascript object>"
      ]
     },
     "metadata": {},
     "output_type": "display_data"
    },
    {
     "data": {
      "image/png": "[encoded data removed]",
      "text/plain": [
       "<Figure size 432x288 with 1 Axes>"
      ]
     },
     "metadata": {
      "needs_background": "light"
     },
     "output_type": "display_data"
    },
    {
     "name": "stdout",
     "output_type": "stream",
     "text": [
      "Rush Hour AM\n"
     ]
    },
    {
     "data": {
      "application/javascript": [
       "\n",
       "        if (window._pyforest_update_imports_cell) { window._pyforest_update_imports_cell('import matplotlib.pyplot as plt\\nimport seaborn as sns\\nimport pandas as pd\\nfrom sklearn.model_selection import train_test_split'); }\n",
       "    "
      ],
      "text/plain": [
       "<IPython.core.display.Javascript object>"
      ]
     },
     "metadata": {},
     "output_type": "display_data"
    },
    {
     "data": {
      "application/javascript": [
       "\n",
       "        if (window._pyforest_update_imports_cell) { window._pyforest_update_imports_cell('import matplotlib.pyplot as plt\\nimport seaborn as sns\\nimport pandas as pd\\nfrom sklearn.model_selection import train_test_split'); }\n",
       "    "
      ],
      "text/plain": [
       "<IPython.core.display.Javascript object>"
      ]
     },
     "metadata": {},
     "output_type": "display_data"
    },
    {
     "data": {
      "image/png": "[encoded data removed]",
      "text/plain": [
       "<Figure size 432x288 with 1 Axes>"
      ]
     },
     "metadata": {
      "needs_background": "light"
     },
     "output_type": "display_data"
    },
    {
     "name": "stdout",
     "output_type": "stream",
     "text": [
      "Midday\n"
     ]
    },
    {
     "data": {
      "application/javascript": [
       "\n",
       "        if (window._pyforest_update_imports_cell) { window._pyforest_update_imports_cell('import matplotlib.pyplot as plt\\nimport seaborn as sns\\nimport pandas as pd\\nfrom sklearn.model_selection import train_test_split'); }\n",
       "    "
      ],
      "text/plain": [
       "<IPython.core.display.Javascript object>"
      ]
     },
     "metadata": {},
     "output_type": "display_data"
    },
    {
     "data": {
      "application/javascript": [
       "\n",
       "        if (window._pyforest_update_imports_cell) { window._pyforest_update_imports_cell('import matplotlib.pyplot as plt\\nimport seaborn as sns\\nimport pandas as pd\\nfrom sklearn.model_selection import train_test_split'); }\n",
       "    "
      ],
      "text/plain": [
       "<IPython.core.display.Javascript object>"
      ]
     },
     "metadata": {},
     "output_type": "display_data"
    },
    {
     "data": {
      "image/png": "[encoded data removed]",
      "text/plain": [
       "<Figure size 432x288 with 1 Axes>"
      ]
     },
     "metadata": {
      "needs_background": "light"
     },
     "output_type": "display_data"
    },
    {
     "name": "stdout",
     "output_type": "stream",
     "text": [
      "Rush Hour PM\n"
     ]
    },
    {
     "data": {
      "application/javascript": [
       "\n",
       "        if (window._pyforest_update_imports_cell) { window._pyforest_update_imports_cell('import matplotlib.pyplot as plt\\nimport seaborn as sns\\nimport pandas as pd\\nfrom sklearn.model_selection import train_test_split'); }\n",
       "    "
      ],
      "text/plain": [
       "<IPython.core.display.Javascript object>"
      ]
     },
     "metadata": {},
     "output_type": "display_data"
    },
    {
     "data": {
      "application/javascript": [
       "\n",
       "        if (window._pyforest_update_imports_cell) { window._pyforest_update_imports_cell('import matplotlib.pyplot as plt\\nimport seaborn as sns\\nimport pandas as pd\\nfrom sklearn.model_selection import train_test_split'); }\n",
       "    "
      ],
      "text/plain": [
       "<IPython.core.display.Javascript object>"
      ]
     },
     "metadata": {},
     "output_type": "display_data"
    },
    {
     "data": {
      "image/png": "[encoded data removed]",
      "text/plain": [
       "<Figure size 432x288 with 1 Axes>"
      ]
     },
     "metadata": {
      "needs_background": "light"
     },
     "output_type": "display_data"
    },
    {
     "name": "stdout",
     "output_type": "stream",
     "text": [
      "Evening\n"
     ]
    },
    {
     "data": {
      "application/javascript": [
       "\n",
       "        if (window._pyforest_update_imports_cell) { window._pyforest_update_imports_cell('import matplotlib.pyplot as plt\\nimport seaborn as sns\\nimport pandas as pd\\nfrom sklearn.model_selection import train_test_split'); }\n",
       "    "
      ],
      "text/plain": [
       "<IPython.core.display.Javascript object>"
      ]
     },
     "metadata": {},
     "output_type": "display_data"
    },
    {
     "data": {
      "application/javascript": [
       "\n",
       "        if (window._pyforest_update_imports_cell) { window._pyforest_update_imports_cell('import matplotlib.pyplot as plt\\nimport seaborn as sns\\nimport pandas as pd\\nfrom sklearn.model_selection import train_test_split'); }\n",
       "    "
      ],
      "text/plain": [
       "<IPython.core.display.Javascript object>"
      ]
     },
     "metadata": {},
     "output_type": "display_data"
    },
    {
     "data": {
      "image/png": "[encoded data removed]",
      "text/plain": [
       "<Figure size 432x288 with 1 Axes>"
      ]
     },
     "metadata": {
      "needs_background": "light"
     },
     "output_type": "display_data"
    },
    {
     "name": "stdout",
     "output_type": "stream",
     "text": [
      "Weekend\n"
     ]
    },
    {
     "data": {
      "application/javascript": [
       "\n",
       "        if (window._pyforest_update_imports_cell) { window._pyforest_update_imports_cell('import matplotlib.pyplot as plt\\nimport seaborn as sns\\nimport pandas as pd\\nfrom sklearn.model_selection import train_test_split'); }\n",
       "    "
      ],
      "text/plain": [
       "<IPython.core.display.Javascript object>"
      ]
     },
     "metadata": {},
     "output_type": "display_data"
    },
    {
     "data": {
      "application/javascript": [
       "\n",
       "        if (window._pyforest_update_imports_cell) { window._pyforest_update_imports_cell('import matplotlib.pyplot as plt\\nimport seaborn as sns\\nimport pandas as pd\\nfrom sklearn.model_selection import train_test_split'); }\n",
       "    "
      ],
      "text/plain": [
       "<IPython.core.display.Javascript object>"
      ]
     },
     "metadata": {},
     "output_type": "display_data"
    },
    {
     "data": {
      "image/png": "[encoded data removed]",
      "text/plain": [
       "<Figure size 432x288 with 1 Axes>"
      ]
     },
     "metadata": {
      "needs_background": "light"
     },
     "output_type": "display_data"
    }
   ],
   "source": [
    "for interval in time_of_day_sorting.keys():\n",
    "    print(interval)\n",
    "    ax = sns.barplot(data = first_stop_in_trip_per_interval[first_stop_in_trip_per_interval['train_time_interval']\n",
    "                                                   ==interval], x = 'route_id', y='headway_minutes', order=sorted_routes)\n",
    "#     ax.title(interval)\n",
    "    ax.grid(axis='y')\n",
    "    plt.show()"
   ]
  },
  {
   "cell_type": "markdown",
   "metadata": {},
   "source": [
    "### Best and Worst Performers by Time of Day"
   ]
  },
  {
   "cell_type": "code",
   "execution_count": 118,
   "metadata": {
    "ExecuteTime": {
     "end_time": "2024-01-07T15:51:26.524941Z",
     "start_time": "2024-01-07T15:51:26.503786Z"
    }
   },
   "outputs": [
    {
     "data": {
      "text/html": [
       "<div>\n",
       "<style scoped>\n",
       "    .dataframe tbody tr th:only-of-type {\n",
       "        vertical-align: middle;\n",
       "    }\n",
       "\n",
       "    .dataframe tbody tr th {\n",
       "        vertical-align: top;\n",
       "    }\n",
       "\n",
       "    .dataframe thead th {\n",
       "        text-align: right;\n",
       "    }\n",
       "</style>\n",
       "<table border=\"1\" class=\"dataframe\">\n",
       "  <thead>\n",
       "    <tr style=\"text-align: right;\">\n",
       "      <th></th>\n",
       "      <th>train_time_interval</th>\n",
       "      <th>route_id</th>\n",
       "      <th>trains_per_hour</th>\n",
       "      <th>headway_seconds</th>\n",
       "      <th>headway_minutes</th>\n",
       "    </tr>\n",
       "  </thead>\n",
       "  <tbody>\n",
       "    <tr>\n",
       "      <th>78</th>\n",
       "      <td>Rush Hour AM</td>\n",
       "      <td>7</td>\n",
       "      <td>24</td>\n",
       "      <td>150.0</td>\n",
       "      <td>2.5</td>\n",
       "    </tr>\n",
       "    <tr>\n",
       "      <th>102</th>\n",
       "      <td>Rush Hour PM</td>\n",
       "      <td>7</td>\n",
       "      <td>20</td>\n",
       "      <td>180.0</td>\n",
       "      <td>3.0</td>\n",
       "    </tr>\n",
       "    <tr>\n",
       "      <th>53</th>\n",
       "      <td>Midday</td>\n",
       "      <td>6</td>\n",
       "      <td>15</td>\n",
       "      <td>240.0</td>\n",
       "      <td>4.0</td>\n",
       "    </tr>\n",
       "    <tr>\n",
       "      <th>6</th>\n",
       "      <td>Evening</td>\n",
       "      <td>7</td>\n",
       "      <td>12</td>\n",
       "      <td>300.0</td>\n",
       "      <td>5.0</td>\n",
       "    </tr>\n",
       "    <tr>\n",
       "      <th>137</th>\n",
       "      <td>Weekend</td>\n",
       "      <td>L</td>\n",
       "      <td>12</td>\n",
       "      <td>300.0</td>\n",
       "      <td>5.0</td>\n",
       "    </tr>\n",
       "    <tr>\n",
       "      <th>31</th>\n",
       "      <td>Late Night</td>\n",
       "      <td>A</td>\n",
       "      <td>5</td>\n",
       "      <td>720.0</td>\n",
       "      <td>12.0</td>\n",
       "    </tr>\n",
       "  </tbody>\n",
       "</table>\n",
       "</div>"
      ],
      "text/plain": [
       "    train_time_interval route_id  trains_per_hour  headway_seconds  \\\n",
       "78         Rush Hour AM        7               24            150.0   \n",
       "102        Rush Hour PM        7               20            180.0   \n",
       "53               Midday        6               15            240.0   \n",
       "6               Evening        7               12            300.0   \n",
       "137             Weekend        L               12            300.0   \n",
       "31           Late Night        A                5            720.0   \n",
       "\n",
       "     headway_minutes  \n",
       "78               2.5  \n",
       "102              3.0  \n",
       "53               4.0  \n",
       "6                5.0  \n",
       "137              5.0  \n",
       "31              12.0  "
      ]
     },
     "execution_count": 118,
     "metadata": {},
     "output_type": "execute_result"
    }
   ],
   "source": [
    "# top performers\n",
    "first_stop_in_trip_per_interval.groupby(['train_time_interval', 'route_id']).sum() \\\n",
    "        .reset_index().sort_values(by='headway_minutes').drop_duplicates(subset='train_time_interval', keep='first')"
   ]
  },
  {
   "cell_type": "code",
   "execution_count": 124,
   "metadata": {
    "ExecuteTime": {
     "end_time": "2024-01-07T15:53:30.455779Z",
     "start_time": "2024-01-07T15:53:30.440836Z"
    }
   },
   "outputs": [
    {
     "data": {
      "text/html": [
       "<div>\n",
       "<style scoped>\n",
       "    .dataframe tbody tr th:only-of-type {\n",
       "        vertical-align: middle;\n",
       "    }\n",
       "\n",
       "    .dataframe tbody tr th {\n",
       "        vertical-align: top;\n",
       "    }\n",
       "\n",
       "    .dataframe thead th {\n",
       "        text-align: right;\n",
       "    }\n",
       "</style>\n",
       "<table border=\"1\" class=\"dataframe\">\n",
       "  <thead>\n",
       "    <tr style=\"text-align: right;\">\n",
       "      <th></th>\n",
       "      <th>route_id</th>\n",
       "      <th>train_time_interval</th>\n",
       "      <th>trains_per_hour</th>\n",
       "      <th>headway_seconds</th>\n",
       "      <th>headway_minutes</th>\n",
       "    </tr>\n",
       "  </thead>\n",
       "  <tbody>\n",
       "    <tr>\n",
       "      <th>88</th>\n",
       "      <td>H</td>\n",
       "      <td>Rush Hour PM</td>\n",
       "      <td>4</td>\n",
       "      <td>900.0</td>\n",
       "      <td>15.0</td>\n",
       "    </tr>\n",
       "    <tr>\n",
       "      <th>40</th>\n",
       "      <td>H</td>\n",
       "      <td>Rush Hour AM</td>\n",
       "      <td>3</td>\n",
       "      <td>1200.0</td>\n",
       "      <td>20.0</td>\n",
       "    </tr>\n",
       "    <tr>\n",
       "      <th>71</th>\n",
       "      <td>SI</td>\n",
       "      <td>Midday</td>\n",
       "      <td>2</td>\n",
       "      <td>1800.0</td>\n",
       "      <td>30.0</td>\n",
       "    </tr>\n",
       "    <tr>\n",
       "      <th>104</th>\n",
       "      <td>B</td>\n",
       "      <td>Evening</td>\n",
       "      <td>2</td>\n",
       "      <td>1800.0</td>\n",
       "      <td>30.0</td>\n",
       "    </tr>\n",
       "    <tr>\n",
       "      <th>23</th>\n",
       "      <td>SI</td>\n",
       "      <td>Late Night</td>\n",
       "      <td>2</td>\n",
       "      <td>1800.0</td>\n",
       "      <td>30.0</td>\n",
       "    </tr>\n",
       "    <tr>\n",
       "      <th>142</th>\n",
       "      <td>SI</td>\n",
       "      <td>Weekend</td>\n",
       "      <td>2</td>\n",
       "      <td>1800.0</td>\n",
       "      <td>30.0</td>\n",
       "    </tr>\n",
       "  </tbody>\n",
       "</table>\n",
       "</div>"
      ],
      "text/plain": [
       "    route_id train_time_interval  trains_per_hour  headway_seconds  \\\n",
       "88         H        Rush Hour PM                4            900.0   \n",
       "40         H        Rush Hour AM                3           1200.0   \n",
       "71        SI              Midday                2           1800.0   \n",
       "104        B             Evening                2           1800.0   \n",
       "23        SI          Late Night                2           1800.0   \n",
       "142       SI             Weekend                2           1800.0   \n",
       "\n",
       "     headway_minutes  \n",
       "88              15.0  \n",
       "40              20.0  \n",
       "71              30.0  \n",
       "104             30.0  \n",
       "23              30.0  \n",
       "142             30.0  "
      ]
     },
     "execution_count": 124,
     "metadata": {},
     "output_type": "execute_result"
    }
   ],
   "source": [
    "# lowest  -- removing inf values first\n",
    "# it's a tie for worst so let's just make it SIR lol \n",
    "first_stop_in_trip_per_interval[first_stop_in_trip_per_interval['headway_minutes'] < 1000].sort_values(\n",
    "    by='headway_minutes').drop_duplicates(subset='train_time_interval', keep='last')"
   ]
  },
  {
   "cell_type": "markdown",
   "metadata": {},
   "source": [
    "### Ratios between train_time_intervals for each route"
   ]
  },
  {
   "cell_type": "code",
   "execution_count": null,
   "metadata": {},
   "outputs": [],
   "source": [
    "# maybe start with best to worst?"
   ]
  },
  {
   "cell_type": "code",
   "execution_count": null,
   "metadata": {},
   "outputs": [],
   "source": []
  },
  {
   "cell_type": "code",
   "execution_count": null,
   "metadata": {},
   "outputs": [],
   "source": []
  },
  {
   "cell_type": "code",
   "execution_count": null,
   "metadata": {},
   "outputs": [],
   "source": []
  },
  {
   "cell_type": "code",
   "execution_count": null,
   "metadata": {},
   "outputs": [],
   "source": []
  },
  {
   "cell_type": "markdown",
   "metadata": {},
   "source": [
    "# Saving the Transformed Data"
   ]
  },
  {
   "cell_type": "code",
   "execution_count": 433,
   "metadata": {
    "ExecuteTime": {
     "end_time": "2024-01-07T14:42:16.879767Z",
     "start_time": "2024-01-07T14:42:16.852270Z"
    }
   },
   "outputs": [],
   "source": []
  },
  {
   "cell_type": "code",
   "execution_count": null,
   "metadata": {},
   "outputs": [],
   "source": []
  }
 ],
 "metadata": {
  "kernelspec": {
   "display_name": "Python [conda env:learn-env] *",
   "language": "python",
   "name": "conda-env-learn-env-py"
  },
  "language_info": {
   "codemirror_mode": {
    "name": "ipython",
    "version": 3
   },
   "file_extension": ".py",
   "mimetype": "text/x-python",
   "name": "python",
   "nbconvert_exporter": "python",
   "pygments_lexer": "ipython3",
   "version": "3.6.9"
  },
  "toc": {
   "base_numbering": 1,
   "nav_menu": {},
   "number_sections": true,
   "sideBar": true,
   "skip_h1_title": false,
   "title_cell": "Table of Contents",
   "title_sidebar": "Contents",
   "toc_cell": false,
   "toc_position": {
    "height": "calc(100% - 180px)",
    "left": "10px",
    "top": "150px",
    "width": "239.470108px"
   },
   "toc_section_display": true,
   "toc_window_display": true
  },
  "varInspector": {
   "cols": {
    "lenName": 16,
    "lenType": 16,
    "lenVar": 40
   },
   "kernels_config": {
    "python": {
     "delete_cmd_postfix": "",
     "delete_cmd_prefix": "del ",
     "library": "var_list.py",
     "varRefreshCmd": "print(var_dic_list())"
    },
    "r": {
     "delete_cmd_postfix": ") ",
     "delete_cmd_prefix": "rm(",
     "library": "var_list.r",
     "varRefreshCmd": "cat(var_dic_list()) "
    }
   },
   "types_to_exclude": [
    "module",
    "function",
    "builtin_function_or_method",
    "instance",
    "_Feature"
   ],
   "window_display": false
  }
 },
 "nbformat": 4,
 "nbformat_minor": 2
}
