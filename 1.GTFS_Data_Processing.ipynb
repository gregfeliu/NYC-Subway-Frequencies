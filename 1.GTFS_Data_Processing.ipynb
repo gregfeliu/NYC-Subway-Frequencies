{
 "cells": [
  {
   "cell_type": "markdown",
   "metadata": {},
   "source": [
    "The goal of this notebook is to **explore the possibility of using Google's GTFS Data to find out how many trains are operating in the NYC Subway at any given time**. "
   ]
  },
  {
   "cell_type": "markdown",
   "metadata": {},
   "source": [
    "More info about [GTFS Data](https://gtfs.org) in general. There are two types: \n",
    "- schedule data \n",
    "- real time data [extra information about this](https://doodles.patrickweaver.net/working-with-nyc-mta-realtime-subway-data/slides/4/)\n",
    "\n",
    "I don't notice any difference between the two. I'll just use schedule data"
   ]
  },
  {
   "cell_type": "markdown",
   "metadata": {},
   "source": [
    "[MTA Developer Tools](https://new.mta.info/developers). The google data for the mta should be all that we need. There's weekday, saturday, and sunday service so only need to worry about those times. Additionally, there's data on the buses, LIRR and Metro North in there, too.\n",
    "- [mta metrics dashboard](https://metrics.mta.info/?subway/customerjourneytimeperformance)\n",
    "\n",
    "[time frequency](https://en.wikipedia.org/wiki/List_of_New_York_City_Subway_services#Train_frequency_charts) breakdown"
   ]
  },
  {
   "cell_type": "markdown",
   "metadata": {},
   "source": [
    "[The project](https://tyleragreen.com/maps/new_york/) that inspired this one. [General Subway trivia](https://www.nycsubway.org/wiki/Main_Page)"
   ]
  },
  {
   "cell_type": "markdown",
   "metadata": {},
   "source": [
    "Some notes about the results:\n",
    "- the routes change by day of week (for example the M not running its whole route on the weekends)\n",
    "- some routes include service changes (the 7 and 7 express both count as the 7)\n",
    "- this also includes late nights where the routes can change dramatically (e.g.: the 5 train doesn't leave the BX at night)\n",
    "- two routes don't run on the weekends: the B and W"
   ]
  },
  {
   "cell_type": "markdown",
   "metadata": {},
   "source": [
    "# Imports"
   ]
  },
  {
   "cell_type": "code",
   "execution_count": 208,
   "metadata": {
    "ExecuteTime": {
     "end_time": "2024-01-07T00:25:21.281592Z",
     "start_time": "2024-01-07T00:25:21.277466Z"
    }
   },
   "outputs": [],
   "source": [
    "import pandas as pd\n",
    "import numpy as np\n",
    "import geopandas\n",
    "import seaborn as sns\n",
    "import datetime\n",
    "import warnings\n",
    "warnings.filterwarnings(action='once')"
   ]
  },
  {
   "cell_type": "markdown",
   "metadata": {},
   "source": [
    "## Functions "
   ]
  },
  {
   "cell_type": "code",
   "execution_count": 341,
   "metadata": {
    "ExecuteTime": {
     "end_time": "2024-01-07T01:42:41.841681Z",
     "start_time": "2024-01-07T01:42:41.826236Z"
    },
    "code_folding": [
     0,
     17
    ]
   },
   "outputs": [],
   "source": [
    "def determine_train_time_intervals(arrival_time, day_of_week: str):\n",
    "    arrival_time = arrival_time.time()\n",
    "    train_time_interval = None\n",
    "    if datetime.time(0, 0) <= arrival_time < datetime.time(6, 30):\n",
    "        train_time_interval = 'Late Night'\n",
    "    elif day_of_week in ['Saturday', 'Sunday']:\n",
    "        train_time_interval = 'Weekend'\n",
    "    elif datetime.time(6, 30) <= arrival_time < datetime.time(9, 30):\n",
    "        train_time_interval = 'Rush Hour AM'\n",
    "    elif datetime.time(9, 30) <= arrival_time < datetime.time(15, 30):\n",
    "        train_time_interval = 'Midday'\n",
    "    elif datetime.time(15, 30) <= arrival_time < datetime.time(20, 0):\n",
    "        train_time_interval = 'Rush Hour PM'\n",
    "    elif datetime.time(20, 0) <= arrival_time <= datetime.time(23, 59):\n",
    "        train_time_interval = 'Evening'\n",
    "    return train_time_interval\n",
    "\n",
    "def scale_time_intervals_to_hour(df_grouped_at_interval_level: pd.DataFrame):\n",
    "    for idx, row in df_grouped_at_interval_level.iterrows():\n",
    "        if row['train_time_interval'] == 'Late Night':\n",
    "            new_tph = (row['trains_per_hour'] / 3) / 6.5 # multiply by days ratio and hours ratio \n",
    "            df_grouped_at_interval_level.at[idx, 'trains_per_hour'] = new_tph\n",
    "        elif row['train_time_interval'] == 'Weekend':\n",
    "            new_tph = (row['trains_per_hour'] / 2) / 17.5 # multiply by days ratio and hours ratio \n",
    "            df_grouped_at_interval_level.at[idx, 'trains_per_hour'] = new_tph\n",
    "        elif row['train_time_interval'] == 'Rush Hour AM':\n",
    "            new_tph = row['trains_per_hour'] / 3 # multiply by days ratio and hours ratio \n",
    "            df_grouped_at_interval_level.at[idx, 'trains_per_hour'] = new_tph\n",
    "        elif row['train_time_interval'] == 'Midday':\n",
    "            new_tph = row['trains_per_hour'] / 6 # multiply by days ratio and hours ratio \n",
    "            df_grouped_at_interval_level.at[idx, 'trains_per_hour'] = new_tph\n",
    "        elif row['train_time_interval'] == 'Rush Hour PM':\n",
    "            new_tph = row['trains_per_hour'] / 4.5 # multiply by days ratio and hours ratio \n",
    "            df_grouped_at_interval_level.at[idx, 'trains_per_hour'] = new_tph\n",
    "        elif row['train_time_interval'] == 'Evening':\n",
    "            new_tph = row['trains_per_hour'] / 4 # multiply by days ratio and hours ratio \n",
    "            df_grouped_at_interval_level.at[idx, 'trains_per_hour'] = new_tph\n",
    "    return df_grouped_at_interval_level"
   ]
  },
  {
   "cell_type": "markdown",
   "metadata": {},
   "source": [
    "# Real Time Data"
   ]
  },
  {
   "cell_type": "code",
   "execution_count": 3,
   "metadata": {
    "ExecuteTime": {
     "end_time": "2024-01-06T20:17:47.209699Z",
     "start_time": "2024-01-06T20:17:47.093752Z"
    }
   },
   "outputs": [],
   "source": [
    "trips_supplemented_df = pd.read_csv(\"google_transit_supplemented/trips.txt\")\n",
    "trips_supplemented_df.head()"
   ]
  },
  {
   "cell_type": "code",
   "execution_count": 339,
   "metadata": {
    "ExecuteTime": {
     "end_time": "2024-01-07T01:39:53.875732Z",
     "start_time": "2024-01-07T01:39:53.872733Z"
    }
   },
   "outputs": [],
   "source": [
    "# trips_supplemented_df.groupby('service_id').size()"
   ]
  },
  {
   "cell_type": "code",
   "execution_count": 84,
   "metadata": {
    "ExecuteTime": {
     "end_time": "2024-01-03T23:21:54.400316Z",
     "start_time": "2024-01-03T23:21:54.391919Z"
    }
   },
   "outputs": [
    {
     "data": {
      "text/plain": [
       "29"
      ]
     },
     "execution_count": 84,
     "metadata": {},
     "output_type": "execute_result"
    }
   ],
   "source": [
    "trips_supplemented_df.route_id.nunique()"
   ]
  },
  {
   "cell_type": "code",
   "execution_count": 85,
   "metadata": {
    "ExecuteTime": {
     "end_time": "2024-01-03T23:22:07.072049Z",
     "start_time": "2024-01-03T23:22:07.063743Z"
    }
   },
   "outputs": [
    {
     "data": {
      "text/plain": [
       "array(['1', '2', '3', '4', '5', '6', '6X', '7', '7X', 'GS', 'A', 'B', 'C',\n",
       "       'D', 'E', 'F', 'FX', 'FS', 'G', 'H', 'J', 'Z', 'L', 'M', 'N', 'W',\n",
       "       'Q', 'R', 'SI'], dtype=object)"
      ]
     },
     "execution_count": 85,
     "metadata": {},
     "output_type": "execute_result"
    }
   ],
   "source": [
    "trips_supplemented_df.route_id.unique()"
   ]
  },
  {
   "cell_type": "code",
   "execution_count": 176,
   "metadata": {
    "ExecuteTime": {
     "end_time": "2024-01-02T01:04:20.594730Z",
     "start_time": "2024-01-02T01:04:20.565671Z"
    }
   },
   "outputs": [
    {
     "data": {
      "text/plain": [
       "60068"
      ]
     },
     "execution_count": 176,
     "metadata": {},
     "output_type": "execute_result"
    }
   ],
   "source": [
    "trips_supplemented_df.trip_id.nunique()"
   ]
  },
  {
   "cell_type": "markdown",
   "metadata": {},
   "source": [
    "## Schedule Data"
   ]
  },
  {
   "cell_type": "code",
   "execution_count": 5,
   "metadata": {
    "ExecuteTime": {
     "end_time": "2024-01-06T20:18:08.567695Z",
     "start_time": "2024-01-06T20:18:07.961612Z"
    }
   },
   "outputs": [],
   "source": [
    "# holdays and other days when the data would be different than expected\n",
    "calendar_dates_df = pd.read_csv(\"google_transit/calendar_dates.txt\") \n",
    "calendar_df = pd.read_csv(\"google_transit/calendar.txt\")\n",
    "routes_df = pd.read_csv(\"google_transit/routes.txt\")\n",
    "stop_times_df = pd.read_csv(\"google_transit/stop_times.txt\")\n",
    "stops_df = pd.read_csv(\"google_transit/stops.txt\")\n",
    "transfers_df = pd.read_csv(\"google_transit/transfers.txt\")\n",
    "trips_df = pd.read_csv(\"google_transit/trips.txt\")\n",
    "# not useful data \n",
    "# agency_df = pd.read_csv(\"google_transit/agency.txt\")\n",
    "shapes_df = pd.read_csv(\"google_transit/shapes.txt\")"
   ]
  },
  {
   "cell_type": "code",
   "execution_count": 6,
   "metadata": {
    "ExecuteTime": {
     "end_time": "2024-01-06T20:18:08.665430Z",
     "start_time": "2024-01-06T20:18:08.662495Z"
    }
   },
   "outputs": [],
   "source": [
    "all_dfs_list = [calendar_dates_df, calendar_df, routes_df, shapes_df\n",
    "               , stop_times_df, stops_df, transfers_df, trips_df]"
   ]
  },
  {
   "cell_type": "markdown",
   "metadata": {},
   "source": [
    "# Adjustments to the GTFS Dfs"
   ]
  },
  {
   "cell_type": "markdown",
   "metadata": {},
   "source": [
    "## Date Format"
   ]
  },
  {
   "cell_type": "code",
   "execution_count": 8,
   "metadata": {
    "ExecuteTime": {
     "end_time": "2024-01-06T20:18:18.466007Z",
     "start_time": "2024-01-06T20:18:18.455175Z"
    }
   },
   "outputs": [],
   "source": [
    "# calendar_dates_df['date'].astype('datetime')\n",
    "calendar_dates_df['date'] = pd.to_datetime(calendar_dates_df['date'], format=\"%Y%m%d\")"
   ]
  },
  {
   "cell_type": "code",
   "execution_count": 9,
   "metadata": {
    "ExecuteTime": {
     "end_time": "2024-01-06T20:18:18.664887Z",
     "start_time": "2024-01-06T20:18:18.658981Z"
    }
   },
   "outputs": [],
   "source": [
    "calendar_df['start_date'] = pd.to_datetime(calendar_df['start_date'], format=\"%Y%m%d\")\n",
    "calendar_df['end_date'] = pd.to_datetime(calendar_df['end_date'], format=\"%Y%m%d\")"
   ]
  },
  {
   "cell_type": "code",
   "execution_count": 10,
   "metadata": {
    "ExecuteTime": {
     "end_time": "2024-01-06T20:18:18.840214Z",
     "start_time": "2024-01-06T20:18:18.838035Z"
    },
    "scrolled": true
   },
   "outputs": [],
   "source": [
    "# shapes_df[shapes_df['shape_id']=='1..N03R']"
   ]
  },
  {
   "cell_type": "code",
   "execution_count": 11,
   "metadata": {
    "ExecuteTime": {
     "end_time": "2024-01-06T20:18:19.386032Z",
     "start_time": "2024-01-06T20:18:19.165223Z"
    },
    "scrolled": true
   },
   "outputs": [],
   "source": [
    "stop_times_df['arrival_time'] = pd.to_datetime(stop_times_df['arrival_time'], format=\"%H:%M:%S\"\n",
    "                                                  , errors='coerce')\n",
    "stop_times_df['departure_time'] = pd.to_datetime(stop_times_df['departure_time'], format=\"%H:%M:%S\"\n",
    "                                                    , errors='coerce')"
   ]
  },
  {
   "cell_type": "markdown",
   "metadata": {},
   "source": [
    "## Removing Some of the data"
   ]
  },
  {
   "cell_type": "code",
   "execution_count": 12,
   "metadata": {
    "ExecuteTime": {
     "end_time": "2024-01-06T20:18:21.469232Z",
     "start_time": "2024-01-06T20:18:21.463356Z"
    }
   },
   "outputs": [],
   "source": [
    "# removing lat lon data\n",
    "# shapes_df.drop(columns=['shape_pt_lat', 'shape_pt_lon'], inplace=True)\n",
    "stops_df.drop(columns=['stop_lat', 'stop_lon'], inplace=True)\n",
    "stop_times_df = stop_times_df[~stop_times_df['arrival_time'].isnull()]"
   ]
  },
  {
   "cell_type": "markdown",
   "metadata": {},
   "source": [
    "## Exploring the data"
   ]
  },
  {
   "cell_type": "code",
   "execution_count": 13,
   "metadata": {
    "ExecuteTime": {
     "end_time": "2024-01-06T20:19:41.184490Z",
     "start_time": "2024-01-06T20:19:41.181461Z"
    }
   },
   "outputs": [],
   "source": [
    "# calendar_dates_df.head()"
   ]
  },
  {
   "cell_type": "code",
   "execution_count": 14,
   "metadata": {
    "ExecuteTime": {
     "end_time": "2024-01-06T20:19:48.149589Z",
     "start_time": "2024-01-06T20:19:48.146937Z"
    }
   },
   "outputs": [],
   "source": [
    "# calendar_df.head()"
   ]
  },
  {
   "cell_type": "code",
   "execution_count": 367,
   "metadata": {
    "ExecuteTime": {
     "end_time": "2024-01-07T14:26:20.295877Z",
     "start_time": "2024-01-07T14:26:20.292944Z"
    }
   },
   "outputs": [],
   "source": [
    "# routes_df[routes_df['route_short_name']=='W']['route_desc'].values"
   ]
  },
  {
   "cell_type": "code",
   "execution_count": 16,
   "metadata": {
    "ExecuteTime": {
     "end_time": "2024-01-06T20:19:52.717562Z",
     "start_time": "2024-01-06T20:19:52.706742Z"
    }
   },
   "outputs": [
    {
     "data": {
      "text/html": [
       "<div>\n",
       "<style scoped>\n",
       "    .dataframe tbody tr th:only-of-type {\n",
       "        vertical-align: middle;\n",
       "    }\n",
       "\n",
       "    .dataframe tbody tr th {\n",
       "        vertical-align: top;\n",
       "    }\n",
       "\n",
       "    .dataframe thead th {\n",
       "        text-align: right;\n",
       "    }\n",
       "</style>\n",
       "<table border=\"1\" class=\"dataframe\">\n",
       "  <thead>\n",
       "    <tr style=\"text-align: right;\">\n",
       "      <th></th>\n",
       "      <th>trip_id</th>\n",
       "      <th>stop_id</th>\n",
       "      <th>arrival_time</th>\n",
       "      <th>departure_time</th>\n",
       "      <th>stop_sequence</th>\n",
       "    </tr>\n",
       "  </thead>\n",
       "  <tbody>\n",
       "    <tr>\n",
       "      <th>0</th>\n",
       "      <td>AFA23GEN-1038-Sunday-00_000600_1..S03R</td>\n",
       "      <td>101S</td>\n",
       "      <td>1900-01-01 00:06:00</td>\n",
       "      <td>1900-01-01 00:06:00</td>\n",
       "      <td>1</td>\n",
       "    </tr>\n",
       "    <tr>\n",
       "      <th>1</th>\n",
       "      <td>AFA23GEN-1038-Sunday-00_000600_1..S03R</td>\n",
       "      <td>103S</td>\n",
       "      <td>1900-01-01 00:07:30</td>\n",
       "      <td>1900-01-01 00:07:30</td>\n",
       "      <td>2</td>\n",
       "    </tr>\n",
       "  </tbody>\n",
       "</table>\n",
       "</div>"
      ],
      "text/plain": [
       "                                  trip_id stop_id        arrival_time  \\\n",
       "0  AFA23GEN-1038-Sunday-00_000600_1..S03R    101S 1900-01-01 00:06:00   \n",
       "1  AFA23GEN-1038-Sunday-00_000600_1..S03R    103S 1900-01-01 00:07:30   \n",
       "\n",
       "       departure_time  stop_sequence  \n",
       "0 1900-01-01 00:06:00              1  \n",
       "1 1900-01-01 00:07:30              2  "
      ]
     },
     "execution_count": 16,
     "metadata": {},
     "output_type": "execute_result"
    }
   ],
   "source": [
    "# all of the trips\n",
    "stop_times_df.head(2)"
   ]
  },
  {
   "cell_type": "code",
   "execution_count": 17,
   "metadata": {
    "ExecuteTime": {
     "end_time": "2024-01-06T20:19:53.319124Z",
     "start_time": "2024-01-06T20:19:53.306764Z"
    }
   },
   "outputs": [
    {
     "name": "stdout",
     "output_type": "stream",
     "text": [
      "380\n"
     ]
    },
    {
     "data": {
      "text/html": [
       "<div>\n",
       "<style scoped>\n",
       "    .dataframe tbody tr th:only-of-type {\n",
       "        vertical-align: middle;\n",
       "    }\n",
       "\n",
       "    .dataframe tbody tr th {\n",
       "        vertical-align: top;\n",
       "    }\n",
       "\n",
       "    .dataframe thead th {\n",
       "        text-align: right;\n",
       "    }\n",
       "</style>\n",
       "<table border=\"1\" class=\"dataframe\">\n",
       "  <thead>\n",
       "    <tr style=\"text-align: right;\">\n",
       "      <th></th>\n",
       "      <th>stop_id</th>\n",
       "      <th>stop_name</th>\n",
       "      <th>location_type</th>\n",
       "      <th>parent_station</th>\n",
       "    </tr>\n",
       "  </thead>\n",
       "  <tbody>\n",
       "    <tr>\n",
       "      <th>0</th>\n",
       "      <td>101</td>\n",
       "      <td>Van Cortlandt Park-242 St</td>\n",
       "      <td>1.0</td>\n",
       "      <td>NaN</td>\n",
       "    </tr>\n",
       "    <tr>\n",
       "      <th>1</th>\n",
       "      <td>101N</td>\n",
       "      <td>Van Cortlandt Park-242 St</td>\n",
       "      <td>NaN</td>\n",
       "      <td>101</td>\n",
       "    </tr>\n",
       "    <tr>\n",
       "      <th>2</th>\n",
       "      <td>101S</td>\n",
       "      <td>Van Cortlandt Park-242 St</td>\n",
       "      <td>NaN</td>\n",
       "      <td>101</td>\n",
       "    </tr>\n",
       "    <tr>\n",
       "      <th>3</th>\n",
       "      <td>103</td>\n",
       "      <td>238 St</td>\n",
       "      <td>1.0</td>\n",
       "      <td>NaN</td>\n",
       "    </tr>\n",
       "    <tr>\n",
       "      <th>4</th>\n",
       "      <td>103N</td>\n",
       "      <td>238 St</td>\n",
       "      <td>NaN</td>\n",
       "      <td>103</td>\n",
       "    </tr>\n",
       "  </tbody>\n",
       "</table>\n",
       "</div>"
      ],
      "text/plain": [
       "  stop_id                  stop_name  location_type parent_station\n",
       "0     101  Van Cortlandt Park-242 St            1.0            NaN\n",
       "1    101N  Van Cortlandt Park-242 St            NaN            101\n",
       "2    101S  Van Cortlandt Park-242 St            NaN            101\n",
       "3     103                     238 St            1.0            NaN\n",
       "4    103N                     238 St            NaN            103"
      ]
     },
     "execution_count": 17,
     "metadata": {},
     "output_type": "execute_result"
    }
   ],
   "source": [
    "print(stops_df.stop_name.nunique())\n",
    "stops_df.head()"
   ]
  },
  {
   "cell_type": "code",
   "execution_count": 18,
   "metadata": {
    "ExecuteTime": {
     "end_time": "2024-01-06T20:20:04.936113Z",
     "start_time": "2024-01-06T20:20:04.925347Z"
    }
   },
   "outputs": [
    {
     "data": {
      "text/html": [
       "<div>\n",
       "<style scoped>\n",
       "    .dataframe tbody tr th:only-of-type {\n",
       "        vertical-align: middle;\n",
       "    }\n",
       "\n",
       "    .dataframe tbody tr th {\n",
       "        vertical-align: top;\n",
       "    }\n",
       "\n",
       "    .dataframe thead th {\n",
       "        text-align: right;\n",
       "    }\n",
       "</style>\n",
       "<table border=\"1\" class=\"dataframe\">\n",
       "  <thead>\n",
       "    <tr style=\"text-align: right;\">\n",
       "      <th></th>\n",
       "      <th>from_stop_id</th>\n",
       "      <th>to_stop_id</th>\n",
       "      <th>transfer_type</th>\n",
       "      <th>min_transfer_time</th>\n",
       "    </tr>\n",
       "  </thead>\n",
       "  <tbody>\n",
       "    <tr>\n",
       "      <th>0</th>\n",
       "      <td>101</td>\n",
       "      <td>101</td>\n",
       "      <td>2</td>\n",
       "      <td>180</td>\n",
       "    </tr>\n",
       "    <tr>\n",
       "      <th>1</th>\n",
       "      <td>103</td>\n",
       "      <td>103</td>\n",
       "      <td>2</td>\n",
       "      <td>180</td>\n",
       "    </tr>\n",
       "    <tr>\n",
       "      <th>2</th>\n",
       "      <td>104</td>\n",
       "      <td>104</td>\n",
       "      <td>2</td>\n",
       "      <td>180</td>\n",
       "    </tr>\n",
       "    <tr>\n",
       "      <th>3</th>\n",
       "      <td>106</td>\n",
       "      <td>106</td>\n",
       "      <td>2</td>\n",
       "      <td>180</td>\n",
       "    </tr>\n",
       "    <tr>\n",
       "      <th>4</th>\n",
       "      <td>107</td>\n",
       "      <td>107</td>\n",
       "      <td>2</td>\n",
       "      <td>180</td>\n",
       "    </tr>\n",
       "  </tbody>\n",
       "</table>\n",
       "</div>"
      ],
      "text/plain": [
       "  from_stop_id to_stop_id  transfer_type  min_transfer_time\n",
       "0          101        101              2                180\n",
       "1          103        103              2                180\n",
       "2          104        104              2                180\n",
       "3          106        106              2                180\n",
       "4          107        107              2                180"
      ]
     },
     "execution_count": 18,
     "metadata": {},
     "output_type": "execute_result"
    }
   ],
   "source": [
    "transfers_df.head()"
   ]
  },
  {
   "cell_type": "code",
   "execution_count": 20,
   "metadata": {
    "ExecuteTime": {
     "end_time": "2024-01-06T20:20:35.265656Z",
     "start_time": "2024-01-06T20:20:35.254429Z"
    }
   },
   "outputs": [
    {
     "data": {
      "text/html": [
       "<div>\n",
       "<style scoped>\n",
       "    .dataframe tbody tr th:only-of-type {\n",
       "        vertical-align: middle;\n",
       "    }\n",
       "\n",
       "    .dataframe tbody tr th {\n",
       "        vertical-align: top;\n",
       "    }\n",
       "\n",
       "    .dataframe thead th {\n",
       "        text-align: right;\n",
       "    }\n",
       "</style>\n",
       "<table border=\"1\" class=\"dataframe\">\n",
       "  <thead>\n",
       "    <tr style=\"text-align: right;\">\n",
       "      <th></th>\n",
       "      <th>route_id</th>\n",
       "      <th>trip_id</th>\n",
       "      <th>service_id</th>\n",
       "      <th>trip_headsign</th>\n",
       "      <th>direction_id</th>\n",
       "      <th>shape_id</th>\n",
       "    </tr>\n",
       "  </thead>\n",
       "  <tbody>\n",
       "    <tr>\n",
       "      <th>0</th>\n",
       "      <td>1</td>\n",
       "      <td>AFA23GEN-1038-Sunday-00_000600_1..S03R</td>\n",
       "      <td>Sunday</td>\n",
       "      <td>South Ferry</td>\n",
       "      <td>1</td>\n",
       "      <td>1..S03R</td>\n",
       "    </tr>\n",
       "    <tr>\n",
       "      <th>1</th>\n",
       "      <td>1</td>\n",
       "      <td>AFA23GEN-1038-Sunday-00_002600_1..S03R</td>\n",
       "      <td>Sunday</td>\n",
       "      <td>South Ferry</td>\n",
       "      <td>1</td>\n",
       "      <td>1..S03R</td>\n",
       "    </tr>\n",
       "  </tbody>\n",
       "</table>\n",
       "</div>"
      ],
      "text/plain": [
       "  route_id                                 trip_id service_id trip_headsign  \\\n",
       "0        1  AFA23GEN-1038-Sunday-00_000600_1..S03R     Sunday   South Ferry   \n",
       "1        1  AFA23GEN-1038-Sunday-00_002600_1..S03R     Sunday   South Ferry   \n",
       "\n",
       "   direction_id shape_id  \n",
       "0             1  1..S03R  \n",
       "1             1  1..S03R  "
      ]
     },
     "execution_count": 20,
     "metadata": {},
     "output_type": "execute_result"
    }
   ],
   "source": [
    "# route_id is the short_route_name (Z train is lumped together with the J train for trips ids)\n",
    "trips_df.head(2)"
   ]
  },
  {
   "cell_type": "code",
   "execution_count": 21,
   "metadata": {
    "ExecuteTime": {
     "end_time": "2024-01-06T20:20:38.110465Z",
     "start_time": "2024-01-06T20:20:38.104956Z"
    }
   },
   "outputs": [
    {
     "data": {
      "text/plain": [
       "(20365, 6)"
      ]
     },
     "execution_count": 21,
     "metadata": {},
     "output_type": "execute_result"
    }
   ],
   "source": [
    "trips_df.shape"
   ]
  },
  {
   "cell_type": "code",
   "execution_count": 72,
   "metadata": {
    "ExecuteTime": {
     "end_time": "2024-01-06T22:15:18.892407Z",
     "start_time": "2024-01-06T22:15:18.889526Z"
    }
   },
   "outputs": [],
   "source": [
    "# get the memory usage of each table in KB\n",
    "# for df in all_dfs_list:\n",
    "#     print(f\"{df.memory_usage().sum()/1000}\")\n",
    "# shapes_df and stop_times are the larger tables\n",
    "# I halved the memory usage by removing the lat and lon data in 2 tables"
   ]
  },
  {
   "cell_type": "markdown",
   "metadata": {},
   "source": [
    "## Finding Beginning of Each Route\n",
    "Using Stop Times df"
   ]
  },
  {
   "cell_type": "code",
   "execution_count": 361,
   "metadata": {
    "ExecuteTime": {
     "end_time": "2024-01-07T14:15:34.103778Z",
     "start_time": "2024-01-07T14:15:34.096432Z"
    }
   },
   "outputs": [
    {
     "data": {
      "text/plain": [
       "array(['1', '2', '3', '4', '5', '6', 'GS', 'A', 'B', 'C', 'D', 'FS', 'G',\n",
       "       'H', 'J', 'L', 'M', 'N', 'Q', 'R', '7', 'E', 'F', 'SI'],\n",
       "      dtype=object)"
      ]
     },
     "execution_count": 361,
     "metadata": {},
     "output_type": "execute_result"
    }
   ],
   "source": [
    "first_stop_in_trip['route_id'].unique()"
   ]
  },
  {
   "cell_type": "code",
   "execution_count": 267,
   "metadata": {
    "ExecuteTime": {
     "end_time": "2024-01-07T00:49:24.846547Z",
     "start_time": "2024-01-07T00:49:24.769907Z"
    }
   },
   "outputs": [
    {
     "name": "stderr",
     "output_type": "stream",
     "text": [
      "/Users/gregfeliu/opt/anaconda3/envs/learn-env/lib/python3.6/site-packages/ipykernel_launcher.py:3: SettingWithCopyWarning: \n",
      "A value is trying to be set on a copy of a slice from a DataFrame.\n",
      "Try using .loc[row_indexer,col_indexer] = value instead\n",
      "\n",
      "See the caveats in the documentation: https://pandas.pydata.org/pandas-docs/stable/user_guide/indexing.html#returning-a-view-versus-a-copy\n",
      "  This is separate from the ipykernel package so we can avoid doing imports until\n"
     ]
    }
   ],
   "source": [
    "first_stop_in_trip = stop_times_df[stop_times_df['stop_sequence']==1]\n",
    "\n",
    "first_stop_in_trip['departure_hour'] = first_stop_in_trip['departure_time'].dt.hour\n",
    "first_stop_in_trip['route_id'] = [x.split(\"_\")[-1].split('.')[0] \n",
    "                                        for x in first_stop_in_trip['trip_id']]\n",
    "first_stop_in_trip['shape_id'] = [x.split(\"_\")[-1] for x in first_stop_in_trip['trip_id']]\n",
    "first_stop_in_trip = first_stop_in_trip[~first_stop_in_trip.arrival_time.isnull()]"
   ]
  },
  {
   "cell_type": "code",
   "execution_count": 268,
   "metadata": {
    "ExecuteTime": {
     "end_time": "2024-01-07T00:49:25.474590Z",
     "start_time": "2024-01-07T00:49:25.463561Z"
    }
   },
   "outputs": [],
   "source": [
    "day_of_week_list = []\n",
    "for x in first_stop_in_trip['trip_id']:\n",
    "    if 'Weekday' in x or 'L0S1' in x:\n",
    "        day_of_week_list.append('Weekday')\n",
    "    elif 'Saturday' in x or 'L0S2' in x:\n",
    "        day_of_week_list.append('Saturday')\n",
    "    elif 'Sunday' in x or 'L0S3' in x:\n",
    "        day_of_week_list.append('Sunday')\n",
    "first_stop_in_trip['day_of_week'] = day_of_week_list"
   ]
  },
  {
   "cell_type": "code",
   "execution_count": 269,
   "metadata": {
    "ExecuteTime": {
     "end_time": "2024-01-07T00:49:25.872605Z",
     "start_time": "2024-01-07T00:49:25.837274Z"
    }
   },
   "outputs": [],
   "source": [
    "# ~21K trips per day\n",
    "# 870 made per hour\n",
    "first_stop_in_trip_weekdays = first_stop_in_trip[first_stop_in_trip['day_of_week'].str.contains('Weekday')]\n",
    "first_stop_in_trip_saturdays = first_stop_in_trip[first_stop_in_trip['day_of_week'].str.contains('Saturday')]\n",
    "first_stop_in_trip_sundays = first_stop_in_trip[first_stop_in_trip['day_of_week'].str.contains('Sunday')]"
   ]
  },
  {
   "cell_type": "code",
   "execution_count": 386,
   "metadata": {
    "ExecuteTime": {
     "end_time": "2024-01-07T14:31:45.438821Z",
     "start_time": "2024-01-07T14:31:45.423057Z"
    }
   },
   "outputs": [
    {
     "data": {
      "text/html": [
       "<div>\n",
       "<style scoped>\n",
       "    .dataframe tbody tr th:only-of-type {\n",
       "        vertical-align: middle;\n",
       "    }\n",
       "\n",
       "    .dataframe tbody tr th {\n",
       "        vertical-align: top;\n",
       "    }\n",
       "\n",
       "    .dataframe thead th {\n",
       "        text-align: right;\n",
       "    }\n",
       "</style>\n",
       "<table border=\"1\" class=\"dataframe\">\n",
       "  <thead>\n",
       "    <tr style=\"text-align: right;\">\n",
       "      <th></th>\n",
       "      <th>trip_id</th>\n",
       "      <th>stop_id</th>\n",
       "      <th>arrival_time</th>\n",
       "      <th>departure_time</th>\n",
       "      <th>stop_sequence</th>\n",
       "      <th>departure_hour</th>\n",
       "      <th>route_id</th>\n",
       "      <th>shape_id</th>\n",
       "      <th>day_of_week</th>\n",
       "      <th>train_time_interval</th>\n",
       "    </tr>\n",
       "  </thead>\n",
       "  <tbody>\n",
       "    <tr>\n",
       "      <th>0</th>\n",
       "      <td>AFA23GEN-1038-Sunday-00_000600_1..S03R</td>\n",
       "      <td>101S</td>\n",
       "      <td>1900-01-01 00:06:00</td>\n",
       "      <td>1900-01-01 00:06:00</td>\n",
       "      <td>1</td>\n",
       "      <td>0.0</td>\n",
       "      <td>1</td>\n",
       "      <td>1..S03R</td>\n",
       "      <td>Sunday</td>\n",
       "      <td>Late Night</td>\n",
       "    </tr>\n",
       "    <tr>\n",
       "      <th>38</th>\n",
       "      <td>AFA23GEN-1038-Sunday-00_002600_1..S03R</td>\n",
       "      <td>101S</td>\n",
       "      <td>1900-01-01 00:26:00</td>\n",
       "      <td>1900-01-01 00:26:00</td>\n",
       "      <td>1</td>\n",
       "      <td>0.0</td>\n",
       "      <td>1</td>\n",
       "      <td>1..S03R</td>\n",
       "      <td>Sunday</td>\n",
       "      <td>Late Night</td>\n",
       "    </tr>\n",
       "  </tbody>\n",
       "</table>\n",
       "</div>"
      ],
      "text/plain": [
       "                                   trip_id stop_id        arrival_time  \\\n",
       "0   AFA23GEN-1038-Sunday-00_000600_1..S03R    101S 1900-01-01 00:06:00   \n",
       "38  AFA23GEN-1038-Sunday-00_002600_1..S03R    101S 1900-01-01 00:26:00   \n",
       "\n",
       "        departure_time  stop_sequence  departure_hour route_id shape_id  \\\n",
       "0  1900-01-01 00:06:00              1             0.0        1  1..S03R   \n",
       "38 1900-01-01 00:26:00              1             0.0        1  1..S03R   \n",
       "\n",
       "   day_of_week train_time_interval  \n",
       "0       Sunday          Late Night  \n",
       "38      Sunday          Late Night  "
      ]
     },
     "execution_count": 386,
     "metadata": {},
     "output_type": "execute_result"
    }
   ],
   "source": [
    "# first_stop_in_trip[first_stop_in_trip['shape_id'].isnull()]\n",
    "first_stop_in_trip.head(2)"
   ]
  },
  {
   "cell_type": "code",
   "execution_count": 408,
   "metadata": {
    "ExecuteTime": {
     "end_time": "2024-01-07T14:38:32.808951Z",
     "start_time": "2024-01-07T14:38:32.776790Z"
    },
    "scrolled": true
   },
   "outputs": [],
   "source": [
    "# Making the data be \"per direction\" (closer to how an average person would think interpret this)\n",
    "# the shuttles only have 1 \".\" -- very close to 50:50 (50.6 ~ 49.4)\n",
    "directions = []\n",
    "for x in first_stop_in_trip['shape_id']:\n",
    "    direction = x.split(\".\", 1)[1]\n",
    "    if \"S\" in direction:\n",
    "        directions.append(\"S\")\n",
    "    else:\n",
    "        directions.append(\"N\")\n",
    "first_stop_in_trip['direction'] = directions\n",
    "first_stop_in_trip = first_stop_in_trip[first_stop_in_trip['direction'] == 'S']"
   ]
  },
  {
   "cell_type": "markdown",
   "metadata": {},
   "source": [
    "### By Day"
   ]
  },
  {
   "cell_type": "code",
   "execution_count": 409,
   "metadata": {
    "ExecuteTime": {
     "end_time": "2024-01-07T14:38:37.398915Z",
     "start_time": "2024-01-07T14:38:37.386792Z"
    }
   },
   "outputs": [],
   "source": [
    "first_stop_in_trip_per_day = pd.DataFrame(first_stop_in_trip.groupby(\n",
    "                                                ['route_id', 'day_of_week']\n",
    "                                                ).size() / 24).reset_index()\n",
    "first_stop_in_trip_per_day.columns = ['route_id', 'day_of_week', 'trains_per_hour']\n",
    "first_stop_in_trip_per_day['headway_seconds'] = round(3600 / \\\n",
    "                                                            first_stop_in_trip_per_day['trains_per_hour'])\n",
    "first_stop_in_trip_per_day['headway_minutes'] = round(60 / \\\n",
    "                                                            first_stop_in_trip_per_day['trains_per_hour'], 1)"
   ]
  },
  {
   "cell_type": "markdown",
   "metadata": {},
   "source": [
    "### By Hour"
   ]
  },
  {
   "cell_type": "code",
   "execution_count": 411,
   "metadata": {
    "ExecuteTime": {
     "end_time": "2024-01-07T14:38:48.936271Z",
     "start_time": "2024-01-07T14:38:48.918272Z"
    }
   },
   "outputs": [],
   "source": [
    "# freq by hour for all routes and all days on schedule \n",
    "route_trip_freq_by_hour = first_stop_in_trip.groupby(['route_id', 'day_of_week', 'departure_hour']).sum()"
   ]
  },
  {
   "cell_type": "code",
   "execution_count": 412,
   "metadata": {
    "ExecuteTime": {
     "end_time": "2024-01-07T14:38:49.453949Z",
     "start_time": "2024-01-07T14:38:49.446112Z"
    }
   },
   "outputs": [],
   "source": [
    "route_trip_freq_by_hour.columns = ['trains_per_hour']\n",
    "route_trip_freq_by_hour['headway_seconds'] = round(3600 / \\\n",
    "                                                            route_trip_freq_by_hour['trains_per_hour'])\n",
    "route_trip_freq_by_hour['headway_minutes'] = round(60 / \\\n",
    "                                                            route_trip_freq_by_hour['trains_per_hour'], 1)"
   ]
  },
  {
   "cell_type": "code",
   "execution_count": 414,
   "metadata": {
    "ExecuteTime": {
     "end_time": "2024-01-07T14:39:01.822531Z",
     "start_time": "2024-01-07T14:39:01.819815Z"
    }
   },
   "outputs": [],
   "source": [
    "# route_trip_freq_by_hour.sort_values(by=['route_id', 'departure_hour'])[50:75]"
   ]
  },
  {
   "cell_type": "markdown",
   "metadata": {},
   "source": [
    "### Overall"
   ]
  },
  {
   "cell_type": "code",
   "execution_count": 415,
   "metadata": {
    "ExecuteTime": {
     "end_time": "2024-01-07T14:39:03.788530Z",
     "start_time": "2024-01-07T14:39:03.774101Z"
    }
   },
   "outputs": [],
   "source": [
    "# avg daily freq all routes \n",
    "route_trip_freq_overall_by_hour = route_trip_freq_by_hour['trains_per_hour'].unstack(level=1)\n",
    "route_trip_freq_overall_by_hour.fillna(value=0, inplace=True) # needed b/c there's no weekend B trains\n",
    "route_trip_freq_overall_by_hour['Weekday_Adjusted'] = route_trip_freq_overall_by_hour['Weekday'] * 5\n",
    "route_trip_freq_overall_by_hour['Hourly_tph'] = route_trip_freq_overall_by_hour['Weekday_Adjusted'] + \\\n",
    "                                                route_trip_freq_overall_by_hour['Saturday'] + \\\n",
    "                                                route_trip_freq_overall_by_hour['Sunday']"
   ]
  },
  {
   "cell_type": "code",
   "execution_count": 416,
   "metadata": {
    "ExecuteTime": {
     "end_time": "2024-01-07T14:39:04.466554Z",
     "start_time": "2024-01-07T14:39:04.454593Z"
    }
   },
   "outputs": [],
   "source": [
    "route_trip_freq_overall_by_day = route_trip_freq_overall_by_hour.groupby(['route_id']).sum() / 24\n",
    "route_trip_freq_overall_by_day.columns = ['Saturday', 'Sunday', 'Weekday'\n",
    "                                          , 'Weekday_Adjusted', 'Total_trains_per_day']\n",
    "route_trip_freq_overall_by_day['Trains_per_Hour_Overall'] = round(route_trip_freq_overall_by_day \\\n",
    "                                                                  ['Total_trains_per_day'] / 7, 1)\n",
    "# the wait time is half of the mean time between trains\n",
    "route_trip_freq_overall_by_day['headway_minutes'] = round(60 / \\\n",
    "                                                            route_trip_freq_overall_by_day['Trains_per_Hour_Overall']\n",
    "                                                                 , 1)"
   ]
  },
  {
   "cell_type": "code",
   "execution_count": 417,
   "metadata": {
    "ExecuteTime": {
     "end_time": "2024-01-07T14:39:05.090859Z",
     "start_time": "2024-01-07T14:39:05.071788Z"
    },
    "scrolled": true
   },
   "outputs": [
    {
     "data": {
      "text/html": [
       "<div>\n",
       "<style scoped>\n",
       "    .dataframe tbody tr th:only-of-type {\n",
       "        vertical-align: middle;\n",
       "    }\n",
       "\n",
       "    .dataframe tbody tr th {\n",
       "        vertical-align: top;\n",
       "    }\n",
       "\n",
       "    .dataframe thead th {\n",
       "        text-align: right;\n",
       "    }\n",
       "</style>\n",
       "<table border=\"1\" class=\"dataframe\">\n",
       "  <thead>\n",
       "    <tr style=\"text-align: right;\">\n",
       "      <th></th>\n",
       "      <th>Saturday</th>\n",
       "      <th>Sunday</th>\n",
       "      <th>Weekday</th>\n",
       "      <th>Weekday_Adjusted</th>\n",
       "      <th>Total_trains_per_day</th>\n",
       "      <th>Trains_per_Hour_Overall</th>\n",
       "      <th>headway_minutes</th>\n",
       "    </tr>\n",
       "    <tr>\n",
       "      <th>route_id</th>\n",
       "      <th></th>\n",
       "      <th></th>\n",
       "      <th></th>\n",
       "      <th></th>\n",
       "      <th></th>\n",
       "      <th></th>\n",
       "      <th></th>\n",
       "    </tr>\n",
       "  </thead>\n",
       "  <tbody>\n",
       "    <tr>\n",
       "      <th>SI</th>\n",
       "      <td>2.000000</td>\n",
       "      <td>2.000000</td>\n",
       "      <td>3.250000</td>\n",
       "      <td>16.250000</td>\n",
       "      <td>20.250000</td>\n",
       "      <td>2.9</td>\n",
       "      <td>20.7</td>\n",
       "    </tr>\n",
       "    <tr>\n",
       "      <th>B</th>\n",
       "      <td>0.000000</td>\n",
       "      <td>0.000000</td>\n",
       "      <td>4.083333</td>\n",
       "      <td>20.416667</td>\n",
       "      <td>20.416667</td>\n",
       "      <td>2.9</td>\n",
       "      <td>20.7</td>\n",
       "    </tr>\n",
       "    <tr>\n",
       "      <th>H</th>\n",
       "      <td>3.458333</td>\n",
       "      <td>3.041667</td>\n",
       "      <td>3.500000</td>\n",
       "      <td>17.500000</td>\n",
       "      <td>24.000000</td>\n",
       "      <td>3.4</td>\n",
       "      <td>17.6</td>\n",
       "    </tr>\n",
       "    <tr>\n",
       "      <th>C</th>\n",
       "      <td>3.375000</td>\n",
       "      <td>3.125000</td>\n",
       "      <td>4.625000</td>\n",
       "      <td>23.125000</td>\n",
       "      <td>29.625000</td>\n",
       "      <td>4.2</td>\n",
       "      <td>14.3</td>\n",
       "    </tr>\n",
       "    <tr>\n",
       "      <th>FS</th>\n",
       "      <td>4.708333</td>\n",
       "      <td>4.125000</td>\n",
       "      <td>4.916667</td>\n",
       "      <td>24.583333</td>\n",
       "      <td>33.416667</td>\n",
       "      <td>4.8</td>\n",
       "      <td>12.5</td>\n",
       "    </tr>\n",
       "    <tr>\n",
       "      <th>M</th>\n",
       "      <td>5.708333</td>\n",
       "      <td>4.833333</td>\n",
       "      <td>5.250000</td>\n",
       "      <td>26.250000</td>\n",
       "      <td>36.791667</td>\n",
       "      <td>5.3</td>\n",
       "      <td>11.3</td>\n",
       "    </tr>\n",
       "    <tr>\n",
       "      <th>D</th>\n",
       "      <td>4.500000</td>\n",
       "      <td>4.500000</td>\n",
       "      <td>5.708333</td>\n",
       "      <td>28.541667</td>\n",
       "      <td>37.541667</td>\n",
       "      <td>5.4</td>\n",
       "      <td>11.1</td>\n",
       "    </tr>\n",
       "    <tr>\n",
       "      <th>J</th>\n",
       "      <td>5.416667</td>\n",
       "      <td>4.833333</td>\n",
       "      <td>5.750000</td>\n",
       "      <td>28.750000</td>\n",
       "      <td>39.000000</td>\n",
       "      <td>5.6</td>\n",
       "      <td>10.7</td>\n",
       "    </tr>\n",
       "    <tr>\n",
       "      <th>3</th>\n",
       "      <td>4.458333</td>\n",
       "      <td>4.250000</td>\n",
       "      <td>6.333333</td>\n",
       "      <td>31.666667</td>\n",
       "      <td>40.375000</td>\n",
       "      <td>5.8</td>\n",
       "      <td>10.3</td>\n",
       "    </tr>\n",
       "    <tr>\n",
       "      <th>R</th>\n",
       "      <td>4.500000</td>\n",
       "      <td>4.500000</td>\n",
       "      <td>6.375000</td>\n",
       "      <td>31.875000</td>\n",
       "      <td>40.875000</td>\n",
       "      <td>5.8</td>\n",
       "      <td>10.3</td>\n",
       "    </tr>\n",
       "    <tr>\n",
       "      <th>G</th>\n",
       "      <td>5.541667</td>\n",
       "      <td>5.166667</td>\n",
       "      <td>6.208333</td>\n",
       "      <td>31.041667</td>\n",
       "      <td>41.750000</td>\n",
       "      <td>6.0</td>\n",
       "      <td>10.0</td>\n",
       "    </tr>\n",
       "    <tr>\n",
       "      <th>5</th>\n",
       "      <td>4.500000</td>\n",
       "      <td>4.291667</td>\n",
       "      <td>6.875000</td>\n",
       "      <td>34.375000</td>\n",
       "      <td>43.166667</td>\n",
       "      <td>6.2</td>\n",
       "      <td>9.7</td>\n",
       "    </tr>\n",
       "    <tr>\n",
       "      <th>Q</th>\n",
       "      <td>5.833333</td>\n",
       "      <td>5.500000</td>\n",
       "      <td>6.583333</td>\n",
       "      <td>32.916667</td>\n",
       "      <td>44.250000</td>\n",
       "      <td>6.3</td>\n",
       "      <td>9.5</td>\n",
       "    </tr>\n",
       "    <tr>\n",
       "      <th>2</th>\n",
       "      <td>5.791667</td>\n",
       "      <td>5.125000</td>\n",
       "      <td>6.750000</td>\n",
       "      <td>33.750000</td>\n",
       "      <td>44.666667</td>\n",
       "      <td>6.4</td>\n",
       "      <td>9.4</td>\n",
       "    </tr>\n",
       "    <tr>\n",
       "      <th>4</th>\n",
       "      <td>5.875000</td>\n",
       "      <td>5.250000</td>\n",
       "      <td>7.708333</td>\n",
       "      <td>38.541667</td>\n",
       "      <td>49.666667</td>\n",
       "      <td>7.1</td>\n",
       "      <td>8.5</td>\n",
       "    </tr>\n",
       "    <tr>\n",
       "      <th>E</th>\n",
       "      <td>4.500000</td>\n",
       "      <td>4.250000</td>\n",
       "      <td>8.333333</td>\n",
       "      <td>41.666667</td>\n",
       "      <td>50.416667</td>\n",
       "      <td>7.2</td>\n",
       "      <td>8.3</td>\n",
       "    </tr>\n",
       "    <tr>\n",
       "      <th>A</th>\n",
       "      <td>5.958333</td>\n",
       "      <td>5.750000</td>\n",
       "      <td>7.875000</td>\n",
       "      <td>39.375000</td>\n",
       "      <td>51.083333</td>\n",
       "      <td>7.3</td>\n",
       "      <td>8.2</td>\n",
       "    </tr>\n",
       "    <tr>\n",
       "      <th>N</th>\n",
       "      <td>4.500000</td>\n",
       "      <td>4.500000</td>\n",
       "      <td>9.833333</td>\n",
       "      <td>49.166667</td>\n",
       "      <td>58.166667</td>\n",
       "      <td>8.3</td>\n",
       "      <td>7.2</td>\n",
       "    </tr>\n",
       "    <tr>\n",
       "      <th>1</th>\n",
       "      <td>7.750000</td>\n",
       "      <td>6.416667</td>\n",
       "      <td>9.625000</td>\n",
       "      <td>48.125000</td>\n",
       "      <td>62.291667</td>\n",
       "      <td>8.9</td>\n",
       "      <td>6.7</td>\n",
       "    </tr>\n",
       "    <tr>\n",
       "      <th>F</th>\n",
       "      <td>6.583333</td>\n",
       "      <td>6.583333</td>\n",
       "      <td>10.500000</td>\n",
       "      <td>52.500000</td>\n",
       "      <td>65.666667</td>\n",
       "      <td>9.4</td>\n",
       "      <td>6.4</td>\n",
       "    </tr>\n",
       "    <tr>\n",
       "      <th>GS</th>\n",
       "      <td>7.625000</td>\n",
       "      <td>6.500000</td>\n",
       "      <td>10.583333</td>\n",
       "      <td>52.916667</td>\n",
       "      <td>67.041667</td>\n",
       "      <td>9.6</td>\n",
       "      <td>6.2</td>\n",
       "    </tr>\n",
       "    <tr>\n",
       "      <th>6</th>\n",
       "      <td>7.291667</td>\n",
       "      <td>6.416667</td>\n",
       "      <td>11.500000</td>\n",
       "      <td>57.500000</td>\n",
       "      <td>71.208333</td>\n",
       "      <td>10.2</td>\n",
       "      <td>5.9</td>\n",
       "    </tr>\n",
       "    <tr>\n",
       "      <th>L</th>\n",
       "      <td>10.166667</td>\n",
       "      <td>9.083333</td>\n",
       "      <td>11.166667</td>\n",
       "      <td>55.833333</td>\n",
       "      <td>75.083333</td>\n",
       "      <td>10.7</td>\n",
       "      <td>5.6</td>\n",
       "    </tr>\n",
       "    <tr>\n",
       "      <th>7</th>\n",
       "      <td>9.375000</td>\n",
       "      <td>7.541667</td>\n",
       "      <td>13.375000</td>\n",
       "      <td>66.875000</td>\n",
       "      <td>83.791667</td>\n",
       "      <td>12.0</td>\n",
       "      <td>5.0</td>\n",
       "    </tr>\n",
       "  </tbody>\n",
       "</table>\n",
       "</div>"
      ],
      "text/plain": [
       "           Saturday    Sunday    Weekday  Weekday_Adjusted  \\\n",
       "route_id                                                     \n",
       "SI         2.000000  2.000000   3.250000         16.250000   \n",
       "B          0.000000  0.000000   4.083333         20.416667   \n",
       "H          3.458333  3.041667   3.500000         17.500000   \n",
       "C          3.375000  3.125000   4.625000         23.125000   \n",
       "FS         4.708333  4.125000   4.916667         24.583333   \n",
       "M          5.708333  4.833333   5.250000         26.250000   \n",
       "D          4.500000  4.500000   5.708333         28.541667   \n",
       "J          5.416667  4.833333   5.750000         28.750000   \n",
       "3          4.458333  4.250000   6.333333         31.666667   \n",
       "R          4.500000  4.500000   6.375000         31.875000   \n",
       "G          5.541667  5.166667   6.208333         31.041667   \n",
       "5          4.500000  4.291667   6.875000         34.375000   \n",
       "Q          5.833333  5.500000   6.583333         32.916667   \n",
       "2          5.791667  5.125000   6.750000         33.750000   \n",
       "4          5.875000  5.250000   7.708333         38.541667   \n",
       "E          4.500000  4.250000   8.333333         41.666667   \n",
       "A          5.958333  5.750000   7.875000         39.375000   \n",
       "N          4.500000  4.500000   9.833333         49.166667   \n",
       "1          7.750000  6.416667   9.625000         48.125000   \n",
       "F          6.583333  6.583333  10.500000         52.500000   \n",
       "GS         7.625000  6.500000  10.583333         52.916667   \n",
       "6          7.291667  6.416667  11.500000         57.500000   \n",
       "L         10.166667  9.083333  11.166667         55.833333   \n",
       "7          9.375000  7.541667  13.375000         66.875000   \n",
       "\n",
       "          Total_trains_per_day  Trains_per_Hour_Overall  headway_minutes  \n",
       "route_id                                                                  \n",
       "SI                   20.250000                      2.9             20.7  \n",
       "B                    20.416667                      2.9             20.7  \n",
       "H                    24.000000                      3.4             17.6  \n",
       "C                    29.625000                      4.2             14.3  \n",
       "FS                   33.416667                      4.8             12.5  \n",
       "M                    36.791667                      5.3             11.3  \n",
       "D                    37.541667                      5.4             11.1  \n",
       "J                    39.000000                      5.6             10.7  \n",
       "3                    40.375000                      5.8             10.3  \n",
       "R                    40.875000                      5.8             10.3  \n",
       "G                    41.750000                      6.0             10.0  \n",
       "5                    43.166667                      6.2              9.7  \n",
       "Q                    44.250000                      6.3              9.5  \n",
       "2                    44.666667                      6.4              9.4  \n",
       "4                    49.666667                      7.1              8.5  \n",
       "E                    50.416667                      7.2              8.3  \n",
       "A                    51.083333                      7.3              8.2  \n",
       "N                    58.166667                      8.3              7.2  \n",
       "1                    62.291667                      8.9              6.7  \n",
       "F                    65.666667                      9.4              6.4  \n",
       "GS                   67.041667                      9.6              6.2  \n",
       "6                    71.208333                     10.2              5.9  \n",
       "L                    75.083333                     10.7              5.6  \n",
       "7                    83.791667                     12.0              5.0  "
      ]
     },
     "execution_count": 417,
     "metadata": {},
     "output_type": "execute_result"
    }
   ],
   "source": [
    "route_trip_freq_overall_by_day.sort_values(by='Trains_per_Hour_Overall')"
   ]
  },
  {
   "cell_type": "markdown",
   "metadata": {},
   "source": [
    "### By Train Time Interval"
   ]
  },
  {
   "cell_type": "code",
   "execution_count": 418,
   "metadata": {
    "ExecuteTime": {
     "end_time": "2024-01-07T14:39:22.918577Z",
     "start_time": "2024-01-07T14:39:21.906564Z"
    }
   },
   "outputs": [
    {
     "name": "stderr",
     "output_type": "stream",
     "text": [
      "/Users/gregfeliu/opt/anaconda3/envs/learn-env/lib/python3.6/site-packages/ipykernel_launcher.py:5: SettingWithCopyWarning: \n",
      "A value is trying to be set on a copy of a slice from a DataFrame.\n",
      "Try using .loc[row_indexer,col_indexer] = value instead\n",
      "\n",
      "See the caveats in the documentation: https://pandas.pydata.org/pandas-docs/stable/user_guide/indexing.html#returning-a-view-versus-a-copy\n",
      "  \"\"\"\n"
     ]
    }
   ],
   "source": [
    "train_time_interval_list = []\n",
    "for idx, row in first_stop_in_trip.iterrows():\n",
    "    train_time_interval = determine_train_time_intervals(row['arrival_time'], row['day_of_week'])\n",
    "    train_time_interval_list.append(train_time_interval)\n",
    "first_stop_in_trip['train_time_interval'] = train_time_interval_list"
   ]
  },
  {
   "cell_type": "code",
   "execution_count": 419,
   "metadata": {
    "ExecuteTime": {
     "end_time": "2024-01-07T14:39:31.875855Z",
     "start_time": "2024-01-07T14:39:31.840321Z"
    }
   },
   "outputs": [],
   "source": [
    "first_stop_in_trip_per_interval = pd.DataFrame(first_stop_in_trip.groupby(\n",
    "                                                ['route_id', 'train_time_interval']\n",
    "                                                ).size()).reset_index()\n",
    "first_stop_in_trip_per_interval.columns = ['route_id', 'train_time_interval', 'trains_per_hour']\n",
    "first_stop_in_trip_per_interval = scale_time_intervals_to_hour(first_stop_in_trip_per_interval)\n",
    "first_stop_in_trip_per_interval['headway_seconds'] = round(3600 / \\\n",
    "                                                            first_stop_in_trip_per_interval['trains_per_hour'])\n",
    "first_stop_in_trip_per_interval['headway_minutes'] = round(60 / \\\n",
    "                                                            first_stop_in_trip_per_interval['trains_per_hour'], 1)"
   ]
  },
  {
   "cell_type": "code",
   "execution_count": 421,
   "metadata": {
    "ExecuteTime": {
     "end_time": "2024-01-07T14:39:43.367458Z",
     "start_time": "2024-01-07T14:39:43.364674Z"
    }
   },
   "outputs": [],
   "source": [
    "# first_stop_in_trip_per_interval[first_stop_in_trip_per_interval['train_time_interval'].isin(['Late Night'])]"
   ]
  },
  {
   "cell_type": "markdown",
   "metadata": {},
   "source": [
    "### Other Testing"
   ]
  },
  {
   "cell_type": "code",
   "execution_count": 422,
   "metadata": {
    "ExecuteTime": {
     "end_time": "2024-01-07T14:39:57.342812Z",
     "start_time": "2024-01-07T14:39:57.340241Z"
    }
   },
   "outputs": [],
   "source": [
    "# route_trip_freq_by_hour['trains_per_hour'].unstack(level=0)"
   ]
  },
  {
   "cell_type": "code",
   "execution_count": 35,
   "metadata": {
    "ExecuteTime": {
     "end_time": "2024-01-06T20:21:10.956058Z",
     "start_time": "2024-01-06T20:21:10.944375Z"
    }
   },
   "outputs": [
    {
     "data": {
      "text/html": [
       "<div>\n",
       "<style scoped>\n",
       "    .dataframe tbody tr th:only-of-type {\n",
       "        vertical-align: middle;\n",
       "    }\n",
       "\n",
       "    .dataframe tbody tr th {\n",
       "        vertical-align: top;\n",
       "    }\n",
       "\n",
       "    .dataframe thead th {\n",
       "        text-align: right;\n",
       "    }\n",
       "</style>\n",
       "<table border=\"1\" class=\"dataframe\">\n",
       "  <thead>\n",
       "    <tr style=\"text-align: right;\">\n",
       "      <th></th>\n",
       "      <th>route_id</th>\n",
       "      <th>day_of_week</th>\n",
       "      <th>trains_per_hour</th>\n",
       "      <th>mean_wait_time_seconds</th>\n",
       "      <th>mean_wait_time_minutes</th>\n",
       "    </tr>\n",
       "  </thead>\n",
       "  <tbody>\n",
       "    <tr>\n",
       "      <th>15</th>\n",
       "      <td>6</td>\n",
       "      <td>Saturday</td>\n",
       "      <td>14.583333</td>\n",
       "      <td>247.0</td>\n",
       "      <td>4.1</td>\n",
       "    </tr>\n",
       "    <tr>\n",
       "      <th>16</th>\n",
       "      <td>6</td>\n",
       "      <td>Sunday</td>\n",
       "      <td>12.833333</td>\n",
       "      <td>281.0</td>\n",
       "      <td>4.7</td>\n",
       "    </tr>\n",
       "    <tr>\n",
       "      <th>17</th>\n",
       "      <td>6</td>\n",
       "      <td>Weekday</td>\n",
       "      <td>23.000000</td>\n",
       "      <td>157.0</td>\n",
       "      <td>2.6</td>\n",
       "    </tr>\n",
       "    <tr>\n",
       "      <th>18</th>\n",
       "      <td>7</td>\n",
       "      <td>Saturday</td>\n",
       "      <td>18.750000</td>\n",
       "      <td>192.0</td>\n",
       "      <td>3.2</td>\n",
       "    </tr>\n",
       "    <tr>\n",
       "      <th>19</th>\n",
       "      <td>7</td>\n",
       "      <td>Sunday</td>\n",
       "      <td>15.083333</td>\n",
       "      <td>239.0</td>\n",
       "      <td>4.0</td>\n",
       "    </tr>\n",
       "    <tr>\n",
       "      <th>20</th>\n",
       "      <td>7</td>\n",
       "      <td>Weekday</td>\n",
       "      <td>26.750000</td>\n",
       "      <td>135.0</td>\n",
       "      <td>2.2</td>\n",
       "    </tr>\n",
       "    <tr>\n",
       "      <th>52</th>\n",
       "      <td>L</td>\n",
       "      <td>Saturday</td>\n",
       "      <td>20.750000</td>\n",
       "      <td>173.0</td>\n",
       "      <td>2.9</td>\n",
       "    </tr>\n",
       "    <tr>\n",
       "      <th>53</th>\n",
       "      <td>L</td>\n",
       "      <td>Sunday</td>\n",
       "      <td>18.583333</td>\n",
       "      <td>194.0</td>\n",
       "      <td>3.2</td>\n",
       "    </tr>\n",
       "    <tr>\n",
       "      <th>54</th>\n",
       "      <td>L</td>\n",
       "      <td>Weekday</td>\n",
       "      <td>22.750000</td>\n",
       "      <td>158.0</td>\n",
       "      <td>2.6</td>\n",
       "    </tr>\n",
       "  </tbody>\n",
       "</table>\n",
       "</div>"
      ],
      "text/plain": [
       "   route_id day_of_week  trains_per_hour  mean_wait_time_seconds  \\\n",
       "15        6    Saturday        14.583333                   247.0   \n",
       "16        6      Sunday        12.833333                   281.0   \n",
       "17        6     Weekday        23.000000                   157.0   \n",
       "18        7    Saturday        18.750000                   192.0   \n",
       "19        7      Sunday        15.083333                   239.0   \n",
       "20        7     Weekday        26.750000                   135.0   \n",
       "52        L    Saturday        20.750000                   173.0   \n",
       "53        L      Sunday        18.583333                   194.0   \n",
       "54        L     Weekday        22.750000                   158.0   \n",
       "\n",
       "    mean_wait_time_minutes  \n",
       "15                     4.1  \n",
       "16                     4.7  \n",
       "17                     2.6  \n",
       "18                     3.2  \n",
       "19                     4.0  \n",
       "20                     2.2  \n",
       "52                     2.9  \n",
       "53                     3.2  \n",
       "54                     2.6  "
      ]
     },
     "execution_count": 35,
     "metadata": {},
     "output_type": "execute_result"
    }
   ],
   "source": [
    "# I wasn't too far off when I said \"the L on it's worse day is better than the G on it's best day\"\n",
    "# first_stop_in_trip_per_day[first_stop_in_trip_per_day['route_id'].isin(['L', 'G'])]\n",
    "first_stop_in_trip_per_day[first_stop_in_trip_per_day['route_id'].isin(['L', '7', '6'])]"
   ]
  },
  {
   "cell_type": "markdown",
   "metadata": {},
   "source": [
    "What's the ratio between weekday service and sunday service? AKA, how much do the trains vary by day of week?"
   ]
  },
  {
   "cell_type": "markdown",
   "metadata": {},
   "source": [
    "##### Viewing the Data Visually"
   ]
  },
  {
   "cell_type": "code",
   "execution_count": 426,
   "metadata": {
    "ExecuteTime": {
     "end_time": "2024-01-07T14:41:40.778763Z",
     "start_time": "2024-01-07T14:41:40.772878Z"
    }
   },
   "outputs": [],
   "source": [
    "# getting the order of best performers (on weekday performance)\n",
    "sorted_routes = first_stop_in_trip_per_day[first_stop_in_trip_per_day\n",
    "                                 ['day_of_week']=='Weekday'].sort_values(by='trains_per_hour')['route_id'].values"
   ]
  },
  {
   "cell_type": "code",
   "execution_count": 427,
   "metadata": {
    "ExecuteTime": {
     "end_time": "2024-01-07T14:41:42.626429Z",
     "start_time": "2024-01-07T14:41:41.417707Z"
    }
   },
   "outputs": [
    {
     "data": {
      "text/plain": [
       "<AxesSubplot:xlabel='route_id', ylabel='headway_minutes'>"
      ]
     },
     "execution_count": 427,
     "metadata": {},
     "output_type": "execute_result"
    },
    {
     "data": {
      "image/png": "[encoded data removed]",
      "text/plain": [
       "<Figure size 432x288 with 1 Axes>"
      ]
     },
     "metadata": {
      "needs_background": "light"
     },
     "output_type": "display_data"
    }
   ],
   "source": [
    "sns.barplot(data=first_stop_in_trip_per_day, x='route_id'\n",
    "           , y='headway_minutes', hue='day_of_week', order=sorted_routes)"
   ]
  },
  {
   "cell_type": "markdown",
   "metadata": {},
   "source": [
    "### Maniuplating stop_times using shape_id"
   ]
  },
  {
   "cell_type": "code",
   "execution_count": 428,
   "metadata": {
    "ExecuteTime": {
     "end_time": "2024-01-07T14:41:57.352954Z",
     "start_time": "2024-01-07T14:41:57.349255Z"
    }
   },
   "outputs": [],
   "source": [
    "# select the min and max stop number for each route \n",
    "# max stop sequence for each trip \n",
    "# stop_times_df['trip_id'].nunique()"
   ]
  },
  {
   "cell_type": "code",
   "execution_count": 429,
   "metadata": {
    "ExecuteTime": {
     "end_time": "2024-01-07T14:42:04.095811Z",
     "start_time": "2024-01-07T14:42:04.093110Z"
    }
   },
   "outputs": [],
   "source": [
    "# unique_trips_w_stop_seq = pd.DataFrame(stop_times_df.groupby('trip_id').max()['stop_sequence'].reset_index())\n",
    "# unique_trips_w_stop_seq['route_id'] = [x.split(\"_\")[-1].split('.')[0] for x in unique_trips_w_stop_seq['trip_id']]\n",
    "# unique_trips_w_stop_seq['shape_id'] = [x.split(\"_\")[-1] for x in unique_trips_w_stop_seq['trip_id']]\n",
    "# unique_trips_w_stop_seq.head()"
   ]
  },
  {
   "cell_type": "code",
   "execution_count": 430,
   "metadata": {
    "ExecuteTime": {
     "end_time": "2024-01-07T14:42:08.790659Z",
     "start_time": "2024-01-07T14:42:08.787895Z"
    }
   },
   "outputs": [],
   "source": [
    "# route_trip_max_stop = unique_trips_w_stop_seq.groupby(['shape_id']).max().reset_index()"
   ]
  },
  {
   "cell_type": "markdown",
   "metadata": {},
   "source": [
    "### Can I deconstruct the trip_id?"
   ]
  },
  {
   "cell_type": "code",
   "execution_count": 431,
   "metadata": {
    "ExecuteTime": {
     "end_time": "2024-01-07T14:42:12.736669Z",
     "start_time": "2024-01-07T14:42:12.733864Z"
    }
   },
   "outputs": [],
   "source": [
    "# route_trip_max_stop['trip_id'].str.count(\"_\").unique()\n",
    "# route_trip_max_stop['trip_id'].str.count(\"-\").unique() # only SIR has 4 dashes"
   ]
  },
  {
   "cell_type": "code",
   "execution_count": 432,
   "metadata": {
    "ExecuteTime": {
     "end_time": "2024-01-07T14:42:15.470737Z",
     "start_time": "2024-01-07T14:42:15.467799Z"
    },
    "scrolled": true
   },
   "outputs": [],
   "source": [
    "# all_first_values = [] # I think this has to do with the train set (A div or B div)\n",
    "# all_second_values = [] # I think this has something to do with the (long) route id\n",
    "# for trip in route_trip_max_stop['trip_id']:\n",
    "#     values_list = trip.split(\"-\")\n",
    "#     if values_list[0] not in all_first_values:\n",
    "#         all_first_values.append(values_list[0])\n",
    "#     if values_list[1] not in all_second_values:\n",
    "#         all_second_values.append(values_list[1])"
   ]
  },
  {
   "cell_type": "markdown",
   "metadata": {},
   "source": [
    "# Saving the Transformed Data"
   ]
  },
  {
   "cell_type": "code",
   "execution_count": 436,
   "metadata": {
    "ExecuteTime": {
     "end_time": "2024-01-07T16:01:04.462586Z",
     "start_time": "2024-01-07T16:01:04.340534Z"
    }
   },
   "outputs": [],
   "source": [
    "first_stop_in_trip.to_csv(\"first_stop_in_trip.csv\")\n",
    "route_trip_freq_by_hour.to_csv(\"route_trip_freq_by_hour.csv\")\n",
    "first_stop_in_trip_per_day.to_csv(\"first_stop_in_trip_per_day.csv\")\n",
    "route_trip_freq_overall_by_day.to_csv(\"route_trip_freq_overall_by_day.csv\")\n",
    "first_stop_in_trip_per_interval.to_csv(\"first_stop_in_trip_per_interval.csv\")"
   ]
  },
  {
   "cell_type": "code",
   "execution_count": null,
   "metadata": {},
   "outputs": [],
   "source": []
  }
 ],
 "metadata": {
  "kernelspec": {
   "display_name": "Python [conda env:learn-env] *",
   "language": "python",
   "name": "conda-env-learn-env-py"
  },
  "language_info": {
   "codemirror_mode": {
    "name": "ipython",
    "version": 3
   },
   "file_extension": ".py",
   "mimetype": "text/x-python",
   "name": "python",
   "nbconvert_exporter": "python",
   "pygments_lexer": "ipython3",
   "version": "3.6.9"
  },
  "toc": {
   "base_numbering": 1,
   "nav_menu": {},
   "number_sections": true,
   "sideBar": true,
   "skip_h1_title": false,
   "title_cell": "Table of Contents",
   "title_sidebar": "Contents",
   "toc_cell": false,
   "toc_position": {
    "height": "calc(100% - 180px)",
    "left": "10px",
    "top": "150px",
    "width": "239.470108px"
   },
   "toc_section_display": true,
   "toc_window_display": true
  },
  "varInspector": {
   "cols": {
    "lenName": 16,
    "lenType": 16,
    "lenVar": 40
   },
   "kernels_config": {
    "python": {
     "delete_cmd_postfix": "",
     "delete_cmd_prefix": "del ",
     "library": "var_list.py",
     "varRefreshCmd": "print(var_dic_list())"
    },
    "r": {
     "delete_cmd_postfix": ") ",
     "delete_cmd_prefix": "rm(",
     "library": "var_list.r",
     "varRefreshCmd": "cat(var_dic_list()) "
    }
   },
   "types_to_exclude": [
    "module",
    "function",
    "builtin_function_or_method",
    "instance",
    "_Feature"
   ],
   "window_display": false
  }
 },
 "nbformat": 4,
 "nbformat_minor": 2
}
