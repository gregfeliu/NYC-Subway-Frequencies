{
 "cells": [
  {
   "cell_type": "markdown",
   "metadata": {},
   "source": [
    "The goal of this notebook is to **Process Google's GTFS Data in order to simplify further analyses**. I will use this data to:\n",
    "- find out how many trains are operating in the NYC Subway at any given time (284 -- no SIR)\n",
    "- find the most used stations in the network\n",
    "- find the ridership per train of each station in the network\n",
    "- find the trains per hour for each line/station in the network"
   ]
  },
  {
   "cell_type": "markdown",
   "metadata": {},
   "source": [
    "Data for this project:\n",
    "- [GTFS Data](https://gtfs.org)\n",
    "- [Hourly Ridership](https://data.ny.gov/Transportation/MTA-Subway-Hourly-Ridership-Beginning-February-202/wujg-7c2s/about_data)\n",
    "- [MTA Subway Stations and Complexes](https://catalog.data.gov/dataset/mta-subway-stations-and-complexes)"
   ]
  },
  {
   "cell_type": "markdown",
   "metadata": {},
   "source": [
    "Some notes about the data and subsequent conclusions:\n",
    "- the service patterns can change by day of week and time of day (usually late nights) (for example the M only running within Brooklyn during nights and weekends)\n",
    "- some services include express variants (the 7 and 7 express both count as the 7)\n",
    "- two services don't run on the weekends: the B and W"
   ]
  },
  {
   "cell_type": "markdown",
   "metadata": {},
   "source": [
    "# Imports"
   ]
  },
  {
   "cell_type": "code",
   "execution_count": null,
   "metadata": {
    "ExecuteTime": {
     "end_time": "2024-03-25T21:14:07.241375Z",
     "start_time": "2024-03-25T21:14:04.732696Z"
    }
   },
   "outputs": [],
   "source": [
    "import pandas as pd\n",
    "import numpy as np\n",
    "import geopandas\n",
    "import seaborn as sns\n",
    "import datetime\n",
    "import requests\n",
    "import warnings\n",
    "warnings.filterwarnings(action='ignore')"
   ]
  },
  {
   "cell_type": "markdown",
   "metadata": {},
   "source": [
    "## Functions "
   ]
  },
  {
   "cell_type": "code",
   "execution_count": null,
   "metadata": {
    "ExecuteTime": {
     "end_time": "2024-03-25T21:14:07.256319Z",
     "start_time": "2024-03-25T21:14:07.244000Z"
    },
    "code_folding": [
     0,
     17,
     39
    ]
   },
   "outputs": [],
   "source": [
    "def determine_train_time_intervals(arrival_time, day_of_week: str):\n",
    "    arrival_time = arrival_time.time()\n",
    "    train_time_interval = None\n",
    "    if datetime.time(0, 0) <= arrival_time < datetime.time(6, 30):\n",
    "        train_time_interval = 'Late Night'\n",
    "    elif day_of_week in ['Saturday', 'Sunday']:\n",
    "        train_time_interval = 'Weekend'\n",
    "    elif datetime.time(6, 30) <= arrival_time < datetime.time(9, 30):\n",
    "        train_time_interval = 'Rush Hour AM'\n",
    "    elif datetime.time(9, 30) <= arrival_time < datetime.time(15, 30):\n",
    "        train_time_interval = 'Midday'\n",
    "    elif datetime.time(15, 30) <= arrival_time < datetime.time(20, 0):\n",
    "        train_time_interval = 'Rush Hour PM'\n",
    "    elif datetime.time(20, 0) <= arrival_time <= datetime.time(23, 59):\n",
    "        train_time_interval = 'Evening'\n",
    "    return train_time_interval\n",
    "\n",
    "def scale_time_intervals_to_hour(df_grouped_at_interval_level: pd.DataFrame):\n",
    "    for idx, row in df_grouped_at_interval_level.iterrows():\n",
    "        if row['train_time_interval'] == 'Late Night':\n",
    "            new_tph = (row['trains_per_hour'] / 3) / 6.5 # multiply by days ratio and hours ratio \n",
    "            df_grouped_at_interval_level.at[idx, 'trains_per_hour'] = new_tph\n",
    "        elif row['train_time_interval'] == 'Weekend':\n",
    "            new_tph = (row['trains_per_hour'] / 2) / 17.5 # multiply by days ratio and hours ratio \n",
    "            df_grouped_at_interval_level.at[idx, 'trains_per_hour'] = new_tph\n",
    "        elif row['train_time_interval'] == 'Rush Hour AM':\n",
    "            new_tph = row['trains_per_hour'] / 3 # multiply by days ratio and hours ratio \n",
    "            df_grouped_at_interval_level.at[idx, 'trains_per_hour'] = new_tph\n",
    "        elif row['train_time_interval'] == 'Midday':\n",
    "            new_tph = row['trains_per_hour'] / 6 # multiply by days ratio and hours ratio \n",
    "            df_grouped_at_interval_level.at[idx, 'trains_per_hour'] = new_tph\n",
    "        elif row['train_time_interval'] == 'Rush Hour PM':\n",
    "            new_tph = row['trains_per_hour'] / 4.5 # multiply by days ratio and hours ratio \n",
    "            df_grouped_at_interval_level.at[idx, 'trains_per_hour'] = new_tph\n",
    "        elif row['train_time_interval'] == 'Evening':\n",
    "            new_tph = row['trains_per_hour'] / 4 # multiply by days ratio and hours ratio \n",
    "            df_grouped_at_interval_level.at[idx, 'trains_per_hour'] = new_tph\n",
    "    return df_grouped_at_interval_level\n",
    "\n",
    "def group_into_day_type(dataframe: pd.DataFrame, column_name:str):    \n",
    "    day_of_week_list = []\n",
    "    for x in dataframe[column_name]:\n",
    "        if 'Weekday' in x or 'L0S1' in x:\n",
    "            day_of_week_list.append('Weekday')\n",
    "        elif 'Saturday' in x or 'L0S2' in x:\n",
    "            day_of_week_list.append('Saturday')\n",
    "        elif 'Sunday' in x or 'L0S3' in x:\n",
    "            day_of_week_list.append('Sunday')\n",
    "    dataframe['day_of_week'] = day_of_week_list\n",
    "    return dataframe"
   ]
  },
  {
   "cell_type": "markdown",
   "metadata": {},
   "source": [
    "## Schedule Data"
   ]
  },
  {
   "cell_type": "code",
   "execution_count": null,
   "metadata": {
    "ExecuteTime": {
     "end_time": "2024-03-25T21:14:07.933984Z",
     "start_time": "2024-03-25T21:14:07.358518Z"
    }
   },
   "outputs": [],
   "source": [
    "# holdays and other days when the data would be different than expected\n",
    "stop_times_df = pd.read_csv(\"data/google_transit/stop_times.txt\")\n",
    "stops_df = pd.read_csv(\"data/google_transit/stops.txt\")\n",
    "trips_df = pd.read_csv(\"data/google_transit/trips.txt\")\n",
    "# not useful data \n",
    "shapes_df = pd.read_csv(\"data/google_transit/shapes.txt\")"
   ]
  },
  {
   "cell_type": "markdown",
   "metadata": {},
   "source": [
    "## Other Data"
   ]
  },
  {
   "cell_type": "markdown",
   "metadata": {},
   "source": [
    "### Ridership Data\n",
    "Station ridership for every non-SIR station for every hour in a week (feb 26 - mar 3)"
   ]
  },
  {
   "cell_type": "code",
   "execution_count": null,
   "metadata": {
    "ExecuteTime": {
     "end_time": "2024-03-25T21:14:08.011430Z",
     "start_time": "2024-03-25T21:14:07.935833Z"
    }
   },
   "outputs": [],
   "source": [
    "# Only making an api call if we don't already have the hourly station ridership data \n",
    "try:\n",
    "    hourly_station_ridership = pd.read_csv(\"saved_data/hourly_station_ridership.csv\", index_col=0)\n",
    "except Exception as e:\n",
    "    copied_url = \"https://data.ny.gov/resource/wujg-7c2s.json?$limit=1000000&$where=transit_timestamp >= '2024-2-26T00:00:00' AND transit_timestamp <= '2024-03-03T23:59:59' AND transit_mode = 'subway'&$order=transit_timestamp ASC&$group=transit_timestamp, station_complex_id&$select=transit_timestamp, station_complex_id, sum(ridership) as sum_ridership\"\n",
    "    response = requests.get(copied_url)\n",
    "    response_data = response.json()\n",
    "    hourly_station_ridership = pd.DataFrame(response_data)\n",
    "    hourly_station_ridership['time_as_datetime'] = pd.to_datetime(hourly_station_ridership['transit_timestamp']\n",
    "                                                              , errors='coerce')\n",
    "    hourly_station_ridership['station_complex_id'] = hourly_station_ridership['station_complex_id'].astype(float)\n",
    "    hourly_station_ridership['sum_ridership'] = hourly_station_ridership['sum_ridership'].astype(float)\n",
    "    # adding the time data \n",
    "    hourly_station_ridership['departure_hour'] = hourly_station_ridership['time_as_datetime'].dt.hour\n",
    "    hourly_station_ridership['departure_day'] = hourly_station_ridership['time_as_datetime'].dt.weekday"
   ]
  },
  {
   "cell_type": "markdown",
   "metadata": {},
   "source": [
    "### Stations Info"
   ]
  },
  {
   "cell_type": "code",
   "execution_count": null,
   "metadata": {
    "ExecuteTime": {
     "end_time": "2024-03-25T21:14:08.029451Z",
     "start_time": "2024-03-25T21:14:08.013059Z"
    }
   },
   "outputs": [],
   "source": [
    "# https://data.ny.gov/Transportation/MTA-Subway-Stations-Map/p6ps-59h2\n",
    "stations_df = pd.read_csv(\"data/MTA_Subway_Stations_20240325.csv\")\n",
    "stations_df = stations_df.drop(columns=['ADA', 'ADA Northbound', 'ADA Southbound'\n",
    "                                        , 'ADA Notes', 'Georeference'])\n",
    "station_count_df = pd.DataFrame(stations_df.groupby('Complex ID').count()['Station ID']).reset_index()\n",
    "station_count_df.columns = ['Complex ID', 'stations_in_complex_count']\n",
    "stations_df = stations_df.merge(station_count_df, how='left', on='Complex ID')"
   ]
  },
  {
   "cell_type": "markdown",
   "metadata": {},
   "source": [
    "# Adjustments to the GTFS Dfs"
   ]
  },
  {
   "cell_type": "markdown",
   "metadata": {},
   "source": [
    "## Date Format"
   ]
  },
  {
   "cell_type": "code",
   "execution_count": null,
   "metadata": {
    "ExecuteTime": {
     "end_time": "2024-03-25T21:14:08.890502Z",
     "start_time": "2024-03-25T21:14:08.031022Z"
    }
   },
   "outputs": [],
   "source": [
    "#making the times within a 24 hour range -- up to 27 \n",
    "stop_times_df['arrival_time'] = [str(int(x[0:2]) - 24) + x[2:] if int(x[0:2]) >= 24 else x\n",
    "                          for x in stop_times_df['arrival_time']]\n",
    "stop_times_df['departure_time']  = [str(int(x[0:2]) - 24) + x[2:] if int(x[0:2]) >= 24 else x\n",
    "                          for x in stop_times_df['departure_time']]\n",
    "# making to a datetime\n",
    "stop_times_df['arrival_time'] = pd.to_datetime(stop_times_df['arrival_time'], format=\"%H:%M:%S\", errors='coerce')\n",
    "stop_times_df['departure_time'] = pd.to_datetime(stop_times_df['departure_time'], format=\"%H:%M:%S\", errors='coerce')\n",
    "stop_times_df = group_into_day_type(stop_times_df, 'trip_id')"
   ]
  },
  {
   "cell_type": "markdown",
   "metadata": {},
   "source": [
    "## Removing Some of the data"
   ]
  },
  {
   "cell_type": "code",
   "execution_count": null,
   "metadata": {
    "ExecuteTime": {
     "end_time": "2024-03-25T21:14:08.997703Z",
     "start_time": "2024-03-25T21:14:08.894336Z"
    }
   },
   "outputs": [],
   "source": [
    "# removing lat lon data\n",
    "# shapes_df.drop(columns=['shape_pt_lat', 'shape_pt_lon'], inplace=True)\n",
    "stops_df.drop(columns=['stop_lat', 'stop_lon'], inplace=True)\n",
    "stop_times_df = stop_times_df[~stop_times_df['arrival_time'].isnull()]"
   ]
  },
  {
   "cell_type": "markdown",
   "metadata": {},
   "source": [
    "## Finding Beginning of Each Route\n",
    "Using Stop Times df"
   ]
  },
  {
   "cell_type": "code",
   "execution_count": null,
   "metadata": {
    "ExecuteTime": {
     "end_time": "2024-03-25T21:14:09.050156Z",
     "start_time": "2024-03-25T21:14:09.001626Z"
    },
    "scrolled": true
   },
   "outputs": [],
   "source": [
    "first_stop_in_trip = stop_times_df[stop_times_df['stop_sequence']==1]\n",
    "first_stop_in_trip['departure_hour'] = first_stop_in_trip['departure_time'].dt.hour\n",
    "first_stop_in_trip['route_id'] = [x.split(\"_\")[-1].split('.')[0] \n",
    "                                        for x in first_stop_in_trip['trip_id']]\n",
    "first_stop_in_trip['shape_id'] = [x.split(\"_\")[-1] for x in first_stop_in_trip['trip_id']]\n",
    "first_stop_in_trip = first_stop_in_trip[~first_stop_in_trip.arrival_time.isnull()]"
   ]
  },
  {
   "cell_type": "code",
   "execution_count": null,
   "metadata": {
    "ExecuteTime": {
     "end_time": "2024-03-25T21:14:09.080473Z",
     "start_time": "2024-03-25T21:14:09.051926Z"
    },
    "scrolled": true
   },
   "outputs": [],
   "source": [
    "# Making the data be \"per direction\" (closer to how an average person would think interpret this)\n",
    "# the shuttles only have 1 \".\" -- very close to 50:50 (50.6 ~ 49.4)\n",
    "directions = []\n",
    "for x in first_stop_in_trip['shape_id']:\n",
    "    direction = x.split(\".\", 1)[1]\n",
    "    if \"S\" in direction:\n",
    "        directions.append(\"S\")\n",
    "    else:\n",
    "        directions.append(\"N\")\n",
    "first_stop_in_trip['direction'] = directions\n",
    "first_stop_in_trip = first_stop_in_trip[first_stop_in_trip['direction'] == 'S']"
   ]
  },
  {
   "cell_type": "markdown",
   "metadata": {},
   "source": [
    "### By Day"
   ]
  },
  {
   "cell_type": "code",
   "execution_count": null,
   "metadata": {
    "ExecuteTime": {
     "end_time": "2024-03-25T21:14:09.099900Z",
     "start_time": "2024-03-25T21:14:09.082342Z"
    }
   },
   "outputs": [],
   "source": [
    "route_frequency_by_day = pd.DataFrame(first_stop_in_trip.groupby(\n",
    "                                                ['route_id', 'day_of_week']).size() / 24).reset_index()\n",
    "route_frequency_by_day.columns = ['route_id', 'day_of_week', 'trains_per_hour']\n",
    "route_frequency_by_day['headway_seconds'] = 3600 / route_frequency_by_day['trains_per_hour']\n",
    "route_frequency_by_day['headway_minutes'] = 60 / route_frequency_by_day['trains_per_hour']\n",
    "route_frequency_by_day = route_frequency_by_day.round(1)"
   ]
  },
  {
   "cell_type": "markdown",
   "metadata": {},
   "source": [
    "### By Hour"
   ]
  },
  {
   "cell_type": "code",
   "execution_count": null,
   "metadata": {
    "ExecuteTime": {
     "end_time": "2024-03-25T21:14:09.113275Z",
     "start_time": "2024-03-25T21:14:09.102265Z"
    }
   },
   "outputs": [],
   "source": [
    "# freq by hour for all routes and all days on schedule \n",
    "route_trip_freq_by_hour = first_stop_in_trip.groupby(['route_id', 'day_of_week', 'departure_hour']).sum()\n",
    "route_trip_freq_by_hour.columns = ['trains_per_hour']\n",
    "route_trip_freq_by_hour['headway_seconds'] = round(3600 / route_trip_freq_by_hour['trains_per_hour'])\n",
    "route_trip_freq_by_hour['headway_minutes'] = round(60 / route_trip_freq_by_hour['trains_per_hour'], 1)"
   ]
  },
  {
   "cell_type": "markdown",
   "metadata": {},
   "source": [
    "### Overall"
   ]
  },
  {
   "cell_type": "code",
   "execution_count": null,
   "metadata": {
    "ExecuteTime": {
     "end_time": "2024-03-25T21:14:09.128710Z",
     "start_time": "2024-03-25T21:14:09.115089Z"
    }
   },
   "outputs": [],
   "source": [
    "# avg daily freq all routes \n",
    "route_trip_freq_overall_by_hour = route_trip_freq_by_hour['trains_per_hour'].unstack(level=1)\n",
    "route_trip_freq_overall_by_hour.fillna(value=0, inplace=True) # needed b/c there's no weekend B trains\n",
    "route_trip_freq_overall_by_hour['Weekday_Adjusted'] = route_trip_freq_overall_by_hour['Weekday'] * 5\n",
    "route_trip_freq_overall_by_hour['Avg_Hourly_tph'] = (route_trip_freq_overall_by_hour['Weekday_Adjusted'] + \\\n",
    "                                                route_trip_freq_overall_by_hour['Saturday'] + \\\n",
    "                                                route_trip_freq_overall_by_hour['Sunday']) / 7\n",
    "route_trip_freq_overall_by_hour = route_trip_freq_overall_by_hour.round()"
   ]
  },
  {
   "cell_type": "code",
   "execution_count": null,
   "metadata": {
    "ExecuteTime": {
     "end_time": "2024-03-25T21:14:09.138718Z",
     "start_time": "2024-03-25T21:14:09.130340Z"
    }
   },
   "outputs": [],
   "source": [
    "route_trip_freq_overall_by_day = route_trip_freq_overall_by_hour.groupby(['route_id']).sum() / 24\n",
    "route_trip_freq_overall_by_day.columns = ['Saturday', 'Sunday', 'Weekday'\n",
    "                                          , 'Weekday_Adjusted', 'Trains_per_Hour_Overall']\n",
    "# the wait time is half of the mean time between trains\n",
    "route_trip_freq_overall_by_day['Headway_Minutes'] = 60 / \\\n",
    "                                                        route_trip_freq_overall_by_day['Trains_per_Hour_Overall']\n",
    "route_trip_freq_overall_by_day = route_trip_freq_overall_by_day.round(1)"
   ]
  },
  {
   "cell_type": "markdown",
   "metadata": {},
   "source": [
    "### By Train Time Interval"
   ]
  },
  {
   "cell_type": "code",
   "execution_count": null,
   "metadata": {
    "ExecuteTime": {
     "end_time": "2024-03-25T21:14:10.212775Z",
     "start_time": "2024-03-25T21:14:09.140378Z"
    }
   },
   "outputs": [],
   "source": [
    "train_time_interval_list = []\n",
    "for idx, row in first_stop_in_trip.iterrows():\n",
    "    train_time_interval = determine_train_time_intervals(row['arrival_time'], row['day_of_week'])\n",
    "    train_time_interval_list.append(train_time_interval)\n",
    "first_stop_in_trip['train_time_interval'] = train_time_interval_list"
   ]
  },
  {
   "cell_type": "code",
   "execution_count": null,
   "metadata": {
    "ExecuteTime": {
     "end_time": "2024-03-25T21:14:10.242449Z",
     "start_time": "2024-03-25T21:14:10.214617Z"
    }
   },
   "outputs": [],
   "source": [
    "first_stop_in_trip_per_interval = pd.DataFrame(first_stop_in_trip.groupby(\n",
    "                                                ['route_id', 'train_time_interval']\n",
    "                                                ).size()).reset_index()\n",
    "first_stop_in_trip_per_interval.columns = ['route_id', 'train_time_interval', 'trains_per_hour']\n",
    "first_stop_in_trip_per_interval = scale_time_intervals_to_hour(first_stop_in_trip_per_interval)\n",
    "first_stop_in_trip_per_interval['headway_seconds'] = round(3600 / first_stop_in_trip_per_interval['trains_per_hour'])\n",
    "first_stop_in_trip_per_interval['headway_minutes'] = round(60 / first_stop_in_trip_per_interval['trains_per_hour'], 1)"
   ]
  },
  {
   "cell_type": "markdown",
   "metadata": {},
   "source": [
    "### Finding mean trip time by service "
   ]
  },
  {
   "cell_type": "code",
   "execution_count": null,
   "metadata": {
    "ExecuteTime": {
     "end_time": "2024-03-25T21:14:11.724658Z",
     "start_time": "2024-03-25T21:14:10.244378Z"
    }
   },
   "outputs": [],
   "source": [
    "# no trip is longer than 2 hours so I'll drop anything larger than that (the late night trains fuck up the timing)\n",
    "trip_time_diff = stop_times_df.groupby('trip_id')['departure_time'].agg(np.ptp)\n",
    "trip_time_diff.mean()"
   ]
  },
  {
   "cell_type": "code",
   "execution_count": null,
   "metadata": {
    "ExecuteTime": {
     "end_time": "2024-03-25T21:14:11.745126Z",
     "start_time": "2024-03-25T21:14:11.726403Z"
    }
   },
   "outputs": [],
   "source": [
    "# 97.6% of all trips\n",
    "valid_trip_times = pd.DataFrame(trip_time_diff[trip_time_diff.values<pd.Timedelta('0 days 02:00:00')]).reset_index()\n",
    "\n",
    "valid_trip_times['route_id'] = [x.split(\"_\")[-1].split('.')[0] \n",
    "                                        for x in valid_trip_times['trip_id']]"
   ]
  },
  {
   "cell_type": "code",
   "execution_count": null,
   "metadata": {
    "ExecuteTime": {
     "end_time": "2024-03-25T21:14:11.771583Z",
     "start_time": "2024-03-25T21:14:11.746714Z"
    }
   },
   "outputs": [],
   "source": [
    "avg_trip_time = pd.DataFrame(valid_trip_times.groupby('route_id').mean(numeric_only=False)).reset_index()\n",
    "avg_trip_time['route_time_seconds'] = [round(x.total_seconds()) for x in avg_trip_time['departure_time']]\n",
    "avg_trip_time['route_time_minutes'] = [round(x / 60, 1) for x in avg_trip_time['route_time_seconds']]"
   ]
  },
  {
   "cell_type": "code",
   "execution_count": null,
   "metadata": {
    "ExecuteTime": {
     "end_time": "2024-03-25T21:14:11.776727Z",
     "start_time": "2024-03-25T21:14:11.773266Z"
    }
   },
   "outputs": [],
   "source": [
    "# the amount of time it takes to reach one end of the route from the other\n",
    "avg_trip_time_final = avg_trip_time.drop(columns='departure_time')"
   ]
  },
  {
   "cell_type": "markdown",
   "metadata": {},
   "source": [
    "#### Adding to Daily Frequency Table "
   ]
  },
  {
   "cell_type": "code",
   "execution_count": null,
   "metadata": {
    "ExecuteTime": {
     "end_time": "2024-03-25T21:14:11.786900Z",
     "start_time": "2024-03-25T21:14:11.779211Z"
    }
   },
   "outputs": [],
   "source": [
    "daily_route_trip_freq = route_trip_freq_overall_by_day.merge(avg_trip_time_final, on='route_id')\n",
    "# doubling the result so that we have ALL trains not just southbound ones\n",
    "daily_route_trip_freq['Avg_num_trains_running'] = round((daily_route_trip_freq['route_time_minutes'] / 60) * \\\n",
    "                                                        daily_route_trip_freq['Trains_per_Hour_Overall'] * 2, 1)"
   ]
  },
  {
   "cell_type": "markdown",
   "metadata": {},
   "source": [
    "#### Adding to Hourly"
   ]
  },
  {
   "cell_type": "code",
   "execution_count": null,
   "metadata": {
    "ExecuteTime": {
     "end_time": "2024-03-25T21:14:11.804789Z",
     "start_time": "2024-03-25T21:14:11.788968Z"
    }
   },
   "outputs": [],
   "source": [
    "hourly_route_trip_freq = route_trip_freq_by_hour.reset_index().merge(avg_trip_time_final, on='route_id')\n",
    "# doubling the result so that we have ALL trains not just southbound ones\n",
    "hourly_route_trip_freq['Avg_num_trains_running'] = (hourly_route_trip_freq['route_time_minutes'] / 60) * \\\n",
    "                                        hourly_route_trip_freq['trains_per_hour'] * 2\n",
    "hourly_route_trip_freq = hourly_route_trip_freq.round(1)"
   ]
  },
  {
   "cell_type": "markdown",
   "metadata": {},
   "source": [
    "#### Adding to Train Time Interval"
   ]
  },
  {
   "cell_type": "code",
   "execution_count": null,
   "metadata": {
    "ExecuteTime": {
     "end_time": "2024-03-25T21:14:11.822197Z",
     "start_time": "2024-03-25T21:14:11.812394Z"
    }
   },
   "outputs": [],
   "source": [
    "trip_interval_route_freq = first_stop_in_trip_per_interval.merge(avg_trip_time_final, on='route_id')\n",
    "\n",
    "# doubling the result so that we have ALL trains not just southbound ones\n",
    "trip_interval_route_freq['Avg_num_trains_running'] = (trip_interval_route_freq['route_time_minutes'] / 60) * \\\n",
    "                                        trip_interval_route_freq['trains_per_hour'] * 2\n",
    "trip_interval_route_freq = trip_interval_route_freq.round(1)"
   ]
  },
  {
   "cell_type": "markdown",
   "metadata": {},
   "source": [
    "## Creating the Lines"
   ]
  },
  {
   "cell_type": "code",
   "execution_count": null,
   "metadata": {
    "ExecuteTime": {
     "end_time": "2024-03-25T21:14:11.915108Z",
     "start_time": "2024-03-25T21:14:11.827195Z"
    }
   },
   "outputs": [],
   "source": [
    "shapes_df['lat_lon'] = list(zip(round(shapes_df['shape_pt_lat'], 6), round(shapes_df['shape_pt_lon'], 6)))"
   ]
  },
  {
   "cell_type": "code",
   "execution_count": null,
   "metadata": {
    "ExecuteTime": {
     "end_time": "2024-03-25T21:14:12.884211Z",
     "start_time": "2024-03-25T21:14:11.917041Z"
    },
    "scrolled": true
   },
   "outputs": [],
   "source": [
    "# less than half as many rows now\n",
    "shapes_df_unique = shapes_df[shapes_df['shape_id'].str.contains(\".S\")]\n",
    "\n",
    "shape_route_dict = dict(zip(trips_df['shape_id'], trips_df['route_id']))\n",
    "shapes_df_unique['route_id'] = shapes_df_unique['shape_id'].replace(shape_route_dict)\n",
    "\n",
    "shapes_df_unique['route_id_len'] = [len(x) for x in shapes_df_unique['route_id']]\n",
    "# removing shapes that aren't in the current dataset \n",
    "shapes_df_unique = shapes_df_unique[shapes_df_unique['route_id_len'] <= 2]"
   ]
  },
  {
   "cell_type": "markdown",
   "metadata": {},
   "source": [
    "## Length of Cars for Each Line "
   ]
  },
  {
   "cell_type": "code",
   "execution_count": null,
   "metadata": {
    "ExecuteTime": {
     "end_time": "2024-03-25T21:14:12.888781Z",
     "start_time": "2024-03-25T21:14:12.886152Z"
    }
   },
   "outputs": [],
   "source": [
    "# a dictionary showing the length of each car for each line \n",
    "# source: https://en.wikipedia.org/wiki/New_York_City_Subway_rolling_stock\n",
    "typical_length_of_cars = {'A': 15.5, 'B1': 18.4, 'B2':23}\n",
    "typical_width_of_cars = {'A': 2.7, 'B': 3.1}"
   ]
  },
  {
   "cell_type": "code",
   "execution_count": null,
   "metadata": {
    "ExecuteTime": {
     "end_time": "2024-03-25T21:14:12.895285Z",
     "start_time": "2024-03-25T21:14:12.890793Z"
    }
   },
   "outputs": [],
   "source": [
    "unique_lines = list(first_stop_in_trip.route_id.unique())\n",
    "division_split_dict = dict(zip(unique_lines\n",
    "                             , [None for x in range(len(unique_lines))]))\n",
    "for key, value in division_split_dict.items():\n",
    "    try:\n",
    "        if key == 'GS':\n",
    "            division_split_dict[key] = 'A'\n",
    "        elif int(key):\n",
    "            division_split_dict[key] = 'A'\n",
    "    except Exception as e:\n",
    "        division_split_dict[key] = 'B'"
   ]
  },
  {
   "cell_type": "code",
   "execution_count": null,
   "metadata": {
    "ExecuteTime": {
     "end_time": "2024-03-25T21:14:12.902908Z",
     "start_time": "2024-03-25T21:14:12.897064Z"
    }
   },
   "outputs": [],
   "source": [
    "train_area_df = pd.DataFrame.from_dict(division_split_dict, orient='index', columns=['division']).reset_index()\n",
    "train_area_df.columns = ['route_id', 'division']"
   ]
  },
  {
   "cell_type": "code",
   "execution_count": null,
   "metadata": {
    "ExecuteTime": {
     "end_time": "2024-03-25T21:14:12.909753Z",
     "start_time": "2024-03-25T21:14:12.904528Z"
    }
   },
   "outputs": [],
   "source": [
    "# giving all values a car length\n",
    "# we'll multiply their value by the number of cars to get the final length\n",
    "car_length_dict = division_split_dict.copy()\n",
    "for key, value in car_length_dict.items():\n",
    "    if value == 'A':\n",
    "        car_length_dict[key] = typical_length_of_cars[value]\n",
    "    elif key in ['J', 'L', 'M', 'Z']:\n",
    "        car_length_dict[key] = typical_length_of_cars['B1']\n",
    "    else:\n",
    "        car_length_dict[key] = typical_length_of_cars['B2']\n",
    "train_area_df['car_length'] = car_length_dict.values()\n",
    "train_area_df['car_width'] = [typical_width_of_cars[x] for x in train_area_df['division']]"
   ]
  },
  {
   "cell_type": "code",
   "execution_count": null,
   "metadata": {
    "ExecuteTime": {
     "end_time": "2024-03-25T21:14:12.915318Z",
     "start_time": "2024-03-25T21:14:12.911554Z"
    }
   },
   "outputs": [],
   "source": [
    "cars_per_train_dict = dict(zip(unique_lines, [None for x in range(len(unique_lines))]))\n",
    "# B1 division\n",
    "cars_per_train_dict['J'] = 8\n",
    "cars_per_train_dict['M'] = 8\n",
    "cars_per_train_dict['L'] = 8\n",
    "# The C train can have both 75 ft. and 60 ft. trains (both with 8 cars). The 75 ft trains were introduced in 2017\n",
    "# source: https://www.amny.com/transit/c-train-longer-cars-1-15512261/\n",
    "# I can't determine which one is done using the GTFS data\n",
    "# Shuttles\n",
    "cars_per_train_dict['FS'] = 2\n",
    "cars_per_train_dict['H'] = 4\n",
    "cars_per_train_dict['GS'] = 6\n",
    "# Other\n",
    "cars_per_train_dict['SI'] = 4\n",
    "cars_per_train_dict['G'] = 5\n",
    "cars_per_train_dict['7'] = 11"
   ]
  },
  {
   "cell_type": "code",
   "execution_count": null,
   "metadata": {
    "ExecuteTime": {
     "end_time": "2024-03-25T21:14:12.929682Z",
     "start_time": "2024-03-25T21:14:12.917058Z"
    }
   },
   "outputs": [],
   "source": [
    "train_area_df['number_of_cars'] = train_area_df['route_id'].replace(cars_per_train_dict)\n",
    "for idx in range(len(train_area_df)):\n",
    "    value = train_area_df['number_of_cars'][idx]\n",
    "    if np.isnan(value):\n",
    "        if train_area_df['division'][idx] == 'A':\n",
    "            value = 10\n",
    "        elif train_area_df['division'][idx] == 'B':\n",
    "            value = 8\n",
    "    train_area_df['number_of_cars'][idx] = value"
   ]
  },
  {
   "cell_type": "code",
   "execution_count": null,
   "metadata": {
    "ExecuteTime": {
     "end_time": "2024-03-25T21:14:12.938958Z",
     "start_time": "2024-03-25T21:14:12.931296Z"
    }
   },
   "outputs": [],
   "source": [
    "train_area_df['train_length'] = train_area_df['car_length'] * train_area_df['number_of_cars']\n",
    "train_area_df['trainset_area'] = train_area_df['train_length'] * train_area_df['car_width']\n",
    "train_area_dict = dict(zip(train_area_df.route_id, train_area_df['trainset_area']))\n",
    "train_area_df['capacity_per_car'] = [180 if train_area_df['division'][x] == 'A' else 240 \n",
    "                                     for x in range(train_area_df.shape[0])]\n",
    "# B division capacity is around 240 people per car (https://en.wikipedia.org/wiki/R160_(New_York_City_Subway_car)#cite_note-5)\n",
    "# A division capacity is around 180 people per car (https://en.wikipedia.org/wiki/R142_(New_York_City_Subway_car))\n",
    "train_area_df['capacity'] = [int(train_area_df['number_of_cars'][x] * train_area_df['capacity_per_car'][x])\n",
    "                             for x in range(train_area_df.shape[0])]"
   ]
  },
  {
   "cell_type": "markdown",
   "metadata": {},
   "source": [
    "## Station (Complex) Data"
   ]
  },
  {
   "cell_type": "markdown",
   "metadata": {},
   "source": [
    "### Grouping at Station Complex Level"
   ]
  },
  {
   "cell_type": "code",
   "execution_count": null,
   "metadata": {
    "ExecuteTime": {
     "end_time": "2024-03-25T21:14:13.401556Z",
     "start_time": "2024-03-25T21:14:12.940999Z"
    }
   },
   "outputs": [],
   "source": [
    "stop_times_df['route_id'] = [x.split(\"_\")[-1].split('.')[0] \n",
    "                                        for x in stop_times_df['trip_id']]\n",
    "stop_times_df['parent_stop_id'] = [x[0:-1] for x in stop_times_df['stop_id']]"
   ]
  },
  {
   "cell_type": "code",
   "execution_count": null,
   "metadata": {
    "ExecuteTime": {
     "end_time": "2024-03-25T21:15:10.951821Z",
     "start_time": "2024-03-25T21:14:13.403344Z"
    }
   },
   "outputs": [],
   "source": [
    "train_time_interval_list = []\n",
    "for idx, row in stop_times_df.iterrows():\n",
    "    train_time_interval = determine_train_time_intervals(row['arrival_time'], row['day_of_week'])\n",
    "    train_time_interval_list.append(train_time_interval)\n",
    "stop_times_df['train_time_interval'] = train_time_interval_list\n",
    "stop_times_df['trainset_area'] = stop_times_df['route_id'].replace(train_area_dict)"
   ]
  },
  {
   "cell_type": "code",
   "execution_count": null,
   "metadata": {
    "ExecuteTime": {
     "end_time": "2024-03-25T21:15:11.245801Z",
     "start_time": "2024-03-25T21:15:10.953591Z"
    }
   },
   "outputs": [],
   "source": [
    "# trains per hour during weekdays \n",
    "# this includes both directions so I'm dividing by 2 to make it \"per direction\"\n",
    "trains_per_weekday_hour_by_station = round(stop_times_df[stop_times_df['day_of_week'] == 'Weekday'\n",
    "                                                  ].groupby('parent_stop_id').count() / 24 / 2, 2)[['trip_id']]\n",
    "trains_per_weekday_hour_by_station.reset_index(inplace=True)"
   ]
  },
  {
   "cell_type": "code",
   "execution_count": null,
   "metadata": {
    "ExecuteTime": {
     "end_time": "2024-03-25T21:15:11.319631Z",
     "start_time": "2024-03-25T21:15:11.247486Z"
    }
   },
   "outputs": [],
   "source": [
    "# train area per hour during weekdays per direction\n",
    "train_area_per_weekday_hour_by_station = round(stop_times_df[stop_times_df['day_of_week'] == 'Weekday'\n",
    "                                                  ].groupby('parent_stop_id').sum() / 24 / 2, 2)[['trainset_area']]\n",
    "train_area_per_weekday_hour_by_station.reset_index(inplace=True)"
   ]
  },
  {
   "cell_type": "code",
   "execution_count": null,
   "metadata": {
    "ExecuteTime": {
     "end_time": "2024-03-25T21:15:11.327883Z",
     "start_time": "2024-03-25T21:15:11.321272Z"
    },
    "scrolled": true
   },
   "outputs": [],
   "source": [
    "train_info_per_weekday_hour_by_station = pd.merge(trains_per_weekday_hour_by_station\n",
    "                                                  , train_area_per_weekday_hour_by_station)\n",
    "train_info_per_weekday_hour_by_station.columns = ['parent_stop_id', 'trip_id', 'hourly_trainset_area']"
   ]
  },
  {
   "cell_type": "code",
   "execution_count": null,
   "metadata": {
    "ExecuteTime": {
     "end_time": "2024-03-25T21:15:11.341233Z",
     "start_time": "2024-03-25T21:15:11.330126Z"
    }
   },
   "outputs": [],
   "source": [
    "trains_per_weekday_hour_by_complex = train_info_per_weekday_hour_by_station.merge(\n",
    "                                    right=stations_df[['Complex ID', 'GTFS Stop ID']]\n",
    "                                    , how='outer', left_on='parent_stop_id', right_on='GTFS Stop ID')\n",
    "trains_per_weekday_hour_by_complex = trains_per_weekday_hour_by_complex.groupby('Complex ID').sum().reset_index()"
   ]
  },
  {
   "cell_type": "code",
   "execution_count": null,
   "metadata": {
    "ExecuteTime": {
     "end_time": "2024-03-25T21:15:11.353117Z",
     "start_time": "2024-03-25T21:15:11.342806Z"
    }
   },
   "outputs": [],
   "source": [
    "trains_per_weekday_hour_by_complex_all_info = trains_per_weekday_hour_by_complex.merge(\n",
    "                                                    stations_df, how='outer')"
   ]
  },
  {
   "cell_type": "code",
   "execution_count": null,
   "metadata": {
    "ExecuteTime": {
     "end_time": "2024-03-25T21:15:11.357413Z",
     "start_time": "2024-03-25T21:15:11.354538Z"
    }
   },
   "outputs": [],
   "source": [
    "trains_per_weekday_hour_by_complex_all_info.columns = ['Complex ID', 'tph', 'hourly_trainset_area',  'GTFS Stop ID'\n",
    "                                                       , 'Station ID', 'Division', 'Line', 'Stop Name'\n",
    "                                                       , 'Borough', 'Daytime Routes', 'Structure',\n",
    "                                                       'GTFS Latitude', 'GTFS Longitude',\n",
    "                                                       'North Direction Label', 'South Direction Label',\n",
    "                                                       'stations_in_complex_count']"
   ]
  },
  {
   "cell_type": "code",
   "execution_count": null,
   "metadata": {
    "ExecuteTime": {
     "end_time": "2024-03-25T21:15:11.363084Z",
     "start_time": "2024-03-25T21:15:11.359220Z"
    }
   },
   "outputs": [],
   "source": [
    "# mean wait time should be tph / number of stations in complex\n",
    "# (if 80 trains come in an hour the wait time isnt really 45 sec)\n",
    "## -- wait time only makes sense at the station level because of this \n",
    "trains_per_weekday_hour_by_station['mean_wait_time_min'] = round(60 / \\\n",
    "                                                            trains_per_weekday_hour_by_station['trip_id'], 1)"
   ]
  },
  {
   "cell_type": "markdown",
   "metadata": {},
   "source": [
    "### Adding Ridership to each Station/Station Complex "
   ]
  },
  {
   "cell_type": "code",
   "execution_count": null,
   "metadata": {
    "ExecuteTime": {
     "end_time": "2024-03-25T21:15:11.372927Z",
     "start_time": "2024-03-25T21:15:11.365453Z"
    }
   },
   "outputs": [],
   "source": [
    "hourly_station_ridership_weekday = hourly_station_ridership[hourly_station_ridership['departure_day'] < 5]"
   ]
  },
  {
   "cell_type": "code",
   "execution_count": null,
   "metadata": {
    "ExecuteTime": {
     "end_time": "2024-03-25T21:15:11.396478Z",
     "start_time": "2024-03-25T21:15:11.374731Z"
    }
   },
   "outputs": [],
   "source": [
    "# grouping to the weekday avg. hourly ridership by complex\n",
    "hourly_station_ridership_weekday_grouped = hourly_station_ridership_weekday.groupby(\n",
    "                                        ['station_complex_id', 'departure_hour']).sum().reset_index()\n",
    "hourly_station_ridership_weekday_grouped.drop(columns='departure_day', inplace=True)\n",
    "# making it to be the average weekday\n",
    "hourly_station_ridership_weekday_grouped['avg_hourly_ridership'] = \\\n",
    "                                                    hourly_station_ridership_weekday_grouped['sum_ridership'] / 5\n",
    "hourly_station_ridership_weekday_grouped.drop(columns='sum_ridership', inplace=True)"
   ]
  },
  {
   "cell_type": "code",
   "execution_count": null,
   "metadata": {
    "ExecuteTime": {
     "end_time": "2024-03-25T21:15:11.405890Z",
     "start_time": "2024-03-25T21:15:11.398152Z"
    },
    "scrolled": true
   },
   "outputs": [],
   "source": [
    "daily_weekday_ridership = hourly_station_ridership_weekday_grouped.groupby('station_complex_id').sum().reset_index()\n",
    "daily_weekday_ridership.drop(columns='departure_hour', inplace=True)\n",
    "daily_weekday_ridership.columns = ['station_complex_id', 'avg_daily_ridership']"
   ]
  },
  {
   "cell_type": "markdown",
   "metadata": {},
   "source": [
    "### Combining the two"
   ]
  },
  {
   "cell_type": "code",
   "execution_count": null,
   "metadata": {
    "ExecuteTime": {
     "end_time": "2024-03-25T21:15:11.415565Z",
     "start_time": "2024-03-25T21:15:11.408373Z"
    }
   },
   "outputs": [],
   "source": [
    "station_complex_full_info = trains_per_weekday_hour_by_complex_all_info.merge(daily_weekday_ridership\n",
    "                                                , left_on='Complex ID'\n",
    "                                                 , right_on='station_complex_id', how='inner')"
   ]
  },
  {
   "cell_type": "code",
   "execution_count": null,
   "metadata": {
    "ExecuteTime": {
     "end_time": "2024-03-25T21:15:11.422076Z",
     "start_time": "2024-03-25T21:15:11.417220Z"
    }
   },
   "outputs": [],
   "source": [
    "# getting the riders per hour per train\n",
    "station_complex_full_info['avg_hourly_ridership'] = round((station_complex_full_info['avg_daily_ridership']) \n",
    "                                                          / 24, 1)\n",
    "# getting the riders per hour per train direction (tph is only in S direction)\n",
    "station_complex_full_info['hourly_ridership_per_train_direction'] = round((station_complex_full_info['avg_hourly_ridership'])\\\n",
    "                                                    / (station_complex_full_info['tph'] * 2), 1)"
   ]
  },
  {
   "cell_type": "markdown",
   "metadata": {},
   "source": [
    "### Finding Station Frequency by Time Interval\n",
    "how much service does each station get by time interval?"
   ]
  },
  {
   "cell_type": "code",
   "execution_count": null,
   "metadata": {
    "ExecuteTime": {
     "end_time": "2024-03-25T21:15:11.994319Z",
     "start_time": "2024-03-25T21:15:11.423635Z"
    }
   },
   "outputs": [],
   "source": [
    "# sum of stations by train time interval\n",
    "# it also needs to be scaled because late night has 3 days whereas rush hour only covers 1 day (when it covers 5)\n",
    "frequency_by_stop_interval = stop_times_df.groupby(\n",
    "                                ['parent_stop_id', 'train_time_interval']).count()[['arrival_time']]\n",
    "frequency_by_stop_interval.columns = ['trains_per_hour']\n",
    "# standardizing the intervals (weekend covers a much larger time span and late night covers 3 days)\n",
    "frequency_by_stop_interval = scale_time_intervals_to_hour(frequency_by_stop_interval.reset_index())"
   ]
  },
  {
   "cell_type": "markdown",
   "metadata": {},
   "source": [
    "# Saving the Transformed Data"
   ]
  },
  {
   "cell_type": "code",
   "execution_count": null,
   "metadata": {
    "ExecuteTime": {
     "end_time": "2024-03-25T21:15:12.421829Z",
     "start_time": "2024-03-25T21:15:11.996130Z"
    }
   },
   "outputs": [],
   "source": [
    "first_stop_in_trip.to_csv(\"saved_data/first_stop_in_trip.csv\")\n",
    "hourly_route_trip_freq.to_csv(\"saved_data/hourly_route_trip_freq.csv\")\n",
    "frequency_by_stop_interval.to_csv(\"saved_data/frequency_by_stop_interval.csv\")\n",
    "daily_route_trip_freq.to_csv(\"saved_data/daily_route_trip_freq.csv\")\n",
    "route_frequency_by_day.to_csv(\"saved_data/route_frequency_by_day.csv\") # AKA first_stop_in_trip_per_day\n",
    "trip_interval_route_freq.to_csv(\"saved_data/trip_interval_route_freq.csv\")\n",
    "train_area_df.to_csv(\"saved_data/length_of_each_train.csv\")\n",
    "hourly_station_ridership.to_csv(\"saved_data/hourly_station_ridership.csv\")\n",
    "station_complex_full_info.to_csv(\"saved_data/station_complex_full_info.csv\")"
   ]
  },
  {
   "cell_type": "code",
   "execution_count": null,
   "metadata": {},
   "outputs": [],
   "source": []
  }
 ],
 "metadata": {
  "kernelspec": {
   "display_name": "Python [conda env:learn-env] *",
   "language": "python",
   "name": "conda-env-learn-env-py"
  },
  "language_info": {
   "codemirror_mode": {
    "name": "ipython",
    "version": 3
   },
   "file_extension": ".py",
   "mimetype": "text/x-python",
   "name": "python",
   "nbconvert_exporter": "python",
   "pygments_lexer": "ipython3",
   "version": "3.6.9"
  },
  "toc": {
   "base_numbering": 1,
   "nav_menu": {},
   "number_sections": true,
   "sideBar": true,
   "skip_h1_title": false,
   "title_cell": "Table of Contents",
   "title_sidebar": "Contents",
   "toc_cell": false,
   "toc_position": {
    "height": "calc(100% - 180px)",
    "left": "10px",
    "top": "150px",
    "width": "271.997284px"
   },
   "toc_section_display": true,
   "toc_window_display": true
  },
  "varInspector": {
   "cols": {
    "lenName": 16,
    "lenType": 16,
    "lenVar": 40
   },
   "kernels_config": {
    "python": {
     "delete_cmd_postfix": "",
     "delete_cmd_prefix": "del ",
     "library": "var_list.py",
     "varRefreshCmd": "print(var_dic_list())"
    },
    "r": {
     "delete_cmd_postfix": ") ",
     "delete_cmd_prefix": "rm(",
     "library": "var_list.r",
     "varRefreshCmd": "cat(var_dic_list()) "
    }
   },
   "types_to_exclude": [
    "module",
    "function",
    "builtin_function_or_method",
    "instance",
    "_Feature"
   ],
   "window_display": false
  }
 },
 "nbformat": 4,
 "nbformat_minor": 2
}
