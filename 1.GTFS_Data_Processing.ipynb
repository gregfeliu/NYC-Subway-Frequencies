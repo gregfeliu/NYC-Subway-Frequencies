{
 "cells": [
  {
   "cell_type": "markdown",
   "metadata": {},
   "source": [
    "The goal of this notebook is to **Process Google's GTFS Data in order to simplify further analyses**. I will use this data to:\n",
    "- find out how many trains are operating in the NYC Subway at any given time (284 -- no SIR)\n",
    "- find the most used stations in the network\n",
    "- find the ridership per train of each station in the network\n",
    "- find the trains per hour for each line/station in the network"
   ]
  },
  {
   "cell_type": "markdown",
   "metadata": {},
   "source": [
    "Data for this project:\n",
    "- [GTFS Data](https://gtfs.org)\n",
    "- [Hourly Ridership](https://data.ny.gov/Transportation/MTA-Subway-Hourly-Ridership-Beginning-February-202/wujg-7c2s/about_data)\n",
    "- [MTA Subway Stations and Complexes](https://catalog.data.gov/dataset/mta-subway-stations-and-complexes)"
   ]
  },
  {
   "cell_type": "markdown",
   "metadata": {},
   "source": [
    "Some notes about the data and subsequent conclusions:\n",
    "- the service patterns can change by day of week and time of day (usually late nights) (for example the M only running within Brooklyn during nights and weekends)\n",
    "- some services include express variants (the 7 and 7 express both count as the 7)\n",
    "- two services don't run on the weekends: the B and W"
   ]
  },
  {
   "cell_type": "markdown",
   "metadata": {},
   "source": [
    "# Imports"
   ]
  },
  {
   "cell_type": "code",
   "execution_count": 5,
   "metadata": {
    "ExecuteTime": {
     "end_time": "2024-03-22T21:35:12.777568Z",
     "start_time": "2024-03-22T21:35:12.773874Z"
    }
   },
   "outputs": [],
   "source": [
    "import pandas as pd\n",
    "import numpy as np\n",
    "import geopandas\n",
    "import seaborn as sns\n",
    "import datetime\n",
    "import requests\n",
    "import warnings\n",
    "warnings.filterwarnings(action='ignore')"
   ]
  },
  {
   "cell_type": "markdown",
   "metadata": {},
   "source": [
    "## Functions "
   ]
  },
  {
   "cell_type": "code",
   "execution_count": 6,
   "metadata": {
    "ExecuteTime": {
     "end_time": "2024-03-22T21:35:12.797879Z",
     "start_time": "2024-03-22T21:35:12.784509Z"
    },
    "code_folding": [
     0,
     17,
     39
    ]
   },
   "outputs": [],
   "source": [
    "def determine_train_time_intervals(arrival_time, day_of_week: str):\n",
    "    arrival_time = arrival_time.time()\n",
    "    train_time_interval = None\n",
    "    if datetime.time(0, 0) <= arrival_time < datetime.time(6, 30):\n",
    "        train_time_interval = 'Late Night'\n",
    "    elif day_of_week in ['Saturday', 'Sunday']:\n",
    "        train_time_interval = 'Weekend'\n",
    "    elif datetime.time(6, 30) <= arrival_time < datetime.time(9, 30):\n",
    "        train_time_interval = 'Rush Hour AM'\n",
    "    elif datetime.time(9, 30) <= arrival_time < datetime.time(15, 30):\n",
    "        train_time_interval = 'Midday'\n",
    "    elif datetime.time(15, 30) <= arrival_time < datetime.time(20, 0):\n",
    "        train_time_interval = 'Rush Hour PM'\n",
    "    elif datetime.time(20, 0) <= arrival_time <= datetime.time(23, 59):\n",
    "        train_time_interval = 'Evening'\n",
    "    return train_time_interval\n",
    "\n",
    "def scale_time_intervals_to_hour(df_grouped_at_interval_level: pd.DataFrame):\n",
    "    for idx, row in df_grouped_at_interval_level.iterrows():\n",
    "        if row['train_time_interval'] == 'Late Night':\n",
    "            new_tph = (row['trains_per_hour'] / 3) / 6.5 # multiply by days ratio and hours ratio \n",
    "            df_grouped_at_interval_level.at[idx, 'trains_per_hour'] = new_tph\n",
    "        elif row['train_time_interval'] == 'Weekend':\n",
    "            new_tph = (row['trains_per_hour'] / 2) / 17.5 # multiply by days ratio and hours ratio \n",
    "            df_grouped_at_interval_level.at[idx, 'trains_per_hour'] = new_tph\n",
    "        elif row['train_time_interval'] == 'Rush Hour AM':\n",
    "            new_tph = row['trains_per_hour'] / 3 # multiply by days ratio and hours ratio \n",
    "            df_grouped_at_interval_level.at[idx, 'trains_per_hour'] = new_tph\n",
    "        elif row['train_time_interval'] == 'Midday':\n",
    "            new_tph = row['trains_per_hour'] / 6 # multiply by days ratio and hours ratio \n",
    "            df_grouped_at_interval_level.at[idx, 'trains_per_hour'] = new_tph\n",
    "        elif row['train_time_interval'] == 'Rush Hour PM':\n",
    "            new_tph = row['trains_per_hour'] / 4.5 # multiply by days ratio and hours ratio \n",
    "            df_grouped_at_interval_level.at[idx, 'trains_per_hour'] = new_tph\n",
    "        elif row['train_time_interval'] == 'Evening':\n",
    "            new_tph = row['trains_per_hour'] / 4 # multiply by days ratio and hours ratio \n",
    "            df_grouped_at_interval_level.at[idx, 'trains_per_hour'] = new_tph\n",
    "    return df_grouped_at_interval_level\n",
    "\n",
    "def group_into_day_type(dataframe: pd.DataFrame, column_name:str):    \n",
    "    day_of_week_list = []\n",
    "    for x in dataframe[column_name]:\n",
    "        if 'Weekday' in x or 'L0S1' in x:\n",
    "            day_of_week_list.append('Weekday')\n",
    "        elif 'Saturday' in x or 'L0S2' in x:\n",
    "            day_of_week_list.append('Saturday')\n",
    "        elif 'Sunday' in x or 'L0S3' in x:\n",
    "            day_of_week_list.append('Sunday')\n",
    "    dataframe['day_of_week'] = day_of_week_list\n",
    "    return dataframe"
   ]
  },
  {
   "cell_type": "markdown",
   "metadata": {},
   "source": [
    "## Real Time Data"
   ]
  },
  {
   "cell_type": "code",
   "execution_count": 7,
   "metadata": {
    "ExecuteTime": {
     "end_time": "2024-03-22T21:35:12.910565Z",
     "start_time": "2024-03-22T21:35:12.800062Z"
    }
   },
   "outputs": [],
   "source": [
    "trips_supplemented_df = pd.read_csv(\"data/google_transit_supplemented/trips.txt\")\n",
    "stops_df_supplemented = pd.read_csv(\"data/google_transit_supplemented/stops.txt\")"
   ]
  },
  {
   "cell_type": "markdown",
   "metadata": {},
   "source": [
    "## Schedule Data"
   ]
  },
  {
   "cell_type": "code",
   "execution_count": 8,
   "metadata": {
    "ExecuteTime": {
     "end_time": "2024-03-22T21:35:13.523299Z",
     "start_time": "2024-03-22T21:35:12.915699Z"
    }
   },
   "outputs": [],
   "source": [
    "# holdays and other days when the data would be different than expected\n",
    "calendar_dates_df = pd.read_csv(\"data/google_transit/calendar_dates.txt\") \n",
    "calendar_df = pd.read_csv(\"data/google_transit/calendar.txt\")\n",
    "routes_df = pd.read_csv(\"data/google_transit/routes.txt\")\n",
    "stop_times_df = pd.read_csv(\"data/google_transit/stop_times.txt\")\n",
    "stops_df = pd.read_csv(\"data/google_transit/stops.txt\")\n",
    "transfers_df = pd.read_csv(\"data/google_transit/transfers.txt\")\n",
    "trips_df = pd.read_csv(\"data/google_transit/trips.txt\")\n",
    "# not useful data \n",
    "# agency_df = pd.read_csv(\"google_transit/agency.txt\")\n",
    "shapes_df = pd.read_csv(\"data/google_transit/shapes.txt\")"
   ]
  },
  {
   "cell_type": "markdown",
   "metadata": {},
   "source": [
    "## Other Data"
   ]
  },
  {
   "cell_type": "markdown",
   "metadata": {},
   "source": [
    "### Ridership Data\n",
    "Station ridership for every non-SIR station for every hour in a week (feb 26 - mar 3)"
   ]
  },
  {
   "cell_type": "code",
   "execution_count": 9,
   "metadata": {
    "ExecuteTime": {
     "end_time": "2024-03-22T21:35:13.601449Z",
     "start_time": "2024-03-22T21:35:13.526266Z"
    }
   },
   "outputs": [],
   "source": [
    "# Only making an api call if we don't already have the hourly station ridership data \n",
    "try:\n",
    "    hourly_station_ridership = pd.read_csv(\"saved_data/hourly_station_ridership.csv\", index_col=0)\n",
    "except Exception as e:\n",
    "    copied_url = \"https://data.ny.gov/resource/wujg-7c2s.json?$limit=1000000&$where=transit_timestamp >= '2024-2-26T00:00:00' AND transit_timestamp <= '2024-03-03T23:59:59' AND transit_mode = 'subway'&$order=transit_timestamp ASC&$group=transit_timestamp, station_complex_id&$select=transit_timestamp, station_complex_id, sum(ridership) as sum_ridership\"\n",
    "    response = requests.get(copied_url)\n",
    "    response_data = response.json()\n",
    "    hourly_station_ridership = pd.DataFrame(response_data)\n",
    "    hourly_station_ridership['time_as_datetime'] = pd.to_datetime(hourly_station_ridership['transit_timestamp']\n",
    "                                                              , errors='coerce')\n",
    "    hourly_station_ridership['station_complex_id'] = hourly_station_ridership['station_complex_id'].astype(float)\n",
    "    hourly_station_ridership['sum_ridership'] = hourly_station_ridership['sum_ridership'].astype(float)\n",
    "    # adding the time data \n",
    "    hourly_station_ridership['departure_hour'] = hourly_station_ridership['time_as_datetime'].dt.hour\n",
    "    hourly_station_ridership['departure_day'] = hourly_station_ridership['time_as_datetime'].dt.weekday"
   ]
  },
  {
   "cell_type": "markdown",
   "metadata": {},
   "source": [
    "### Stations Info"
   ]
  },
  {
   "cell_type": "code",
   "execution_count": 10,
   "metadata": {
    "ExecuteTime": {
     "end_time": "2024-03-22T21:35:13.617245Z",
     "start_time": "2024-03-22T21:35:13.603199Z"
    }
   },
   "outputs": [],
   "source": [
    "# https://catalog.data.gov/dataset/mta-subway-stations-and-complexes\n",
    "stations_info_df = pd.read_csv(\"data/MTA_Subway_Stations_and_Complexes.csv\")\n",
    "stations_info_df = stations_info_df.drop(columns=['ADA', 'ADA Notes'])\n",
    "# making this easier to explode later\n",
    "stations_info_df['GTFS_Stop_IDs_Listed'] = [x if \";\" not in x else list(x.replace(\" \", \"\").replace(\";\", \",\")\n",
    "                                                                        .split(\",\")) \n",
    "                                            for x in stations_info_df['GTFS Stop IDs']]"
   ]
  },
  {
   "cell_type": "code",
   "execution_count": 11,
   "metadata": {
    "ExecuteTime": {
     "end_time": "2024-03-22T21:35:13.633143Z",
     "start_time": "2024-03-22T21:35:13.618842Z"
    }
   },
   "outputs": [],
   "source": [
    "stations_info_df_exploded = stations_info_df.explode(\"GTFS_Stop_IDs_Listed\")"
   ]
  },
  {
   "cell_type": "markdown",
   "metadata": {},
   "source": [
    "# Adjustments to the GTFS Dfs"
   ]
  },
  {
   "cell_type": "markdown",
   "metadata": {},
   "source": [
    "## Date Format"
   ]
  },
  {
   "cell_type": "code",
   "execution_count": 12,
   "metadata": {
    "ExecuteTime": {
     "end_time": "2024-03-22T21:35:13.644508Z",
     "start_time": "2024-03-22T21:35:13.634853Z"
    }
   },
   "outputs": [],
   "source": [
    "# calendar_dates_df['date'].astype('datetime')\n",
    "calendar_dates_df['date'] = pd.to_datetime(calendar_dates_df['date'], format=\"%Y%m%d\")\n",
    "calendar_df['start_date'] = pd.to_datetime(calendar_df['start_date'], format=\"%Y%m%d\")\n",
    "calendar_df['end_date'] = pd.to_datetime(calendar_df['end_date'], format=\"%Y%m%d\")"
   ]
  },
  {
   "cell_type": "code",
   "execution_count": 13,
   "metadata": {
    "ExecuteTime": {
     "end_time": "2024-03-22T21:35:14.526128Z",
     "start_time": "2024-03-22T21:35:13.646978Z"
    }
   },
   "outputs": [],
   "source": [
    "#making the times within a 24 hour range -- up to 27 \n",
    "stop_times_df['arrival_time'] = [str(int(x[0:2]) - 24) + x[2:] if int(x[0:2]) >= 24 else x\n",
    "                          for x in stop_times_df['arrival_time']]\n",
    "stop_times_df['departure_time']  = [str(int(x[0:2]) - 24) + x[2:] if int(x[0:2]) >= 24 else x\n",
    "                          for x in stop_times_df['departure_time']]\n",
    "# making to a datetime\n",
    "stop_times_df['arrival_time'] = pd.to_datetime(stop_times_df['arrival_time'], format=\"%H:%M:%S\", errors='coerce')\n",
    "stop_times_df['departure_time'] = pd.to_datetime(stop_times_df['departure_time'], format=\"%H:%M:%S\", errors='coerce')\n",
    "stop_times_df = group_into_day_type(stop_times_df, 'trip_id')"
   ]
  },
  {
   "cell_type": "markdown",
   "metadata": {},
   "source": [
    "## Removing Some of the data"
   ]
  },
  {
   "cell_type": "code",
   "execution_count": 14,
   "metadata": {
    "ExecuteTime": {
     "end_time": "2024-03-22T21:35:14.651104Z",
     "start_time": "2024-03-22T21:35:14.530217Z"
    }
   },
   "outputs": [],
   "source": [
    "# removing lat lon data\n",
    "# shapes_df.drop(columns=['shape_pt_lat', 'shape_pt_lon'], inplace=True)\n",
    "stops_df.drop(columns=['stop_lat', 'stop_lon'], inplace=True)\n",
    "stop_times_df = stop_times_df[~stop_times_df['arrival_time'].isnull()]"
   ]
  },
  {
   "cell_type": "markdown",
   "metadata": {},
   "source": [
    "## Finding Beginning of Each Route\n",
    "Using Stop Times df"
   ]
  },
  {
   "cell_type": "code",
   "execution_count": 15,
   "metadata": {
    "ExecuteTime": {
     "end_time": "2024-03-22T21:35:16.236431Z",
     "start_time": "2024-03-22T21:35:16.191516Z"
    },
    "scrolled": true
   },
   "outputs": [],
   "source": [
    "first_stop_in_trip = stop_times_df[stop_times_df['stop_sequence']==1]\n",
    "first_stop_in_trip['departure_hour'] = first_stop_in_trip['departure_time'].dt.hour\n",
    "first_stop_in_trip['route_id'] = [x.split(\"_\")[-1].split('.')[0] \n",
    "                                        for x in first_stop_in_trip['trip_id']]\n",
    "first_stop_in_trip['shape_id'] = [x.split(\"_\")[-1] for x in first_stop_in_trip['trip_id']]\n",
    "first_stop_in_trip = first_stop_in_trip[~first_stop_in_trip.arrival_time.isnull()]"
   ]
  },
  {
   "cell_type": "code",
   "execution_count": 12,
   "metadata": {
    "ExecuteTime": {
     "end_time": "2024-03-19T00:52:04.574547Z",
     "start_time": "2024-03-19T00:52:04.544448Z"
    },
    "scrolled": true
   },
   "outputs": [],
   "source": [
    "# Making the data be \"per direction\" (closer to how an average person would think interpret this)\n",
    "# the shuttles only have 1 \".\" -- very close to 50:50 (50.6 ~ 49.4)\n",
    "directions = []\n",
    "for x in first_stop_in_trip['shape_id']:\n",
    "    direction = x.split(\".\", 1)[1]\n",
    "    if \"S\" in direction:\n",
    "        directions.append(\"S\")\n",
    "    else:\n",
    "        directions.append(\"N\")\n",
    "first_stop_in_trip['direction'] = directions\n",
    "first_stop_in_trip = first_stop_in_trip[first_stop_in_trip['direction'] == 'S']"
   ]
  },
  {
   "cell_type": "markdown",
   "metadata": {},
   "source": [
    "### By Day"
   ]
  },
  {
   "cell_type": "code",
   "execution_count": 13,
   "metadata": {
    "ExecuteTime": {
     "end_time": "2024-03-19T00:52:04.603796Z",
     "start_time": "2024-03-19T00:52:04.576896Z"
    }
   },
   "outputs": [],
   "source": [
    "route_frequency_by_day = pd.DataFrame(first_stop_in_trip.groupby(\n",
    "                                                ['route_id', 'day_of_week']).size() / 24).reset_index()\n",
    "route_frequency_by_day.columns = ['route_id', 'day_of_week', 'trains_per_hour']\n",
    "route_frequency_by_day['headway_seconds'] = 3600 / route_frequency_by_day['trains_per_hour']\n",
    "route_frequency_by_day['headway_minutes'] = 60 / route_frequency_by_day['trains_per_hour']\n",
    "route_frequency_by_day = route_frequency_by_day.round(1)"
   ]
  },
  {
   "cell_type": "markdown",
   "metadata": {},
   "source": [
    "### By Hour"
   ]
  },
  {
   "cell_type": "code",
   "execution_count": 14,
   "metadata": {
    "ExecuteTime": {
     "end_time": "2024-03-19T00:52:04.631767Z",
     "start_time": "2024-03-19T00:52:04.607029Z"
    }
   },
   "outputs": [],
   "source": [
    "# freq by hour for all routes and all days on schedule \n",
    "route_trip_freq_by_hour = first_stop_in_trip.groupby(['route_id', 'day_of_week', 'departure_hour']).sum()\n",
    "route_trip_freq_by_hour.columns = ['trains_per_hour']\n",
    "route_trip_freq_by_hour['headway_seconds'] = round(3600 / route_trip_freq_by_hour['trains_per_hour'])\n",
    "route_trip_freq_by_hour['headway_minutes'] = round(60 / route_trip_freq_by_hour['trains_per_hour'], 1)"
   ]
  },
  {
   "cell_type": "markdown",
   "metadata": {},
   "source": [
    "### Overall"
   ]
  },
  {
   "cell_type": "code",
   "execution_count": 15,
   "metadata": {
    "ExecuteTime": {
     "end_time": "2024-03-19T00:52:04.665703Z",
     "start_time": "2024-03-19T00:52:04.633999Z"
    }
   },
   "outputs": [],
   "source": [
    "# avg daily freq all routes \n",
    "route_trip_freq_overall_by_hour = route_trip_freq_by_hour['trains_per_hour'].unstack(level=1)\n",
    "route_trip_freq_overall_by_hour.fillna(value=0, inplace=True) # needed b/c there's no weekend B trains\n",
    "route_trip_freq_overall_by_hour['Weekday_Adjusted'] = route_trip_freq_overall_by_hour['Weekday'] * 5\n",
    "route_trip_freq_overall_by_hour['Avg_Hourly_tph'] = (route_trip_freq_overall_by_hour['Weekday_Adjusted'] + \\\n",
    "                                                route_trip_freq_overall_by_hour['Saturday'] + \\\n",
    "                                                route_trip_freq_overall_by_hour['Sunday']) / 7\n",
    "route_trip_freq_overall_by_hour = route_trip_freq_overall_by_hour.round()"
   ]
  },
  {
   "cell_type": "code",
   "execution_count": 16,
   "metadata": {
    "ExecuteTime": {
     "end_time": "2024-03-19T00:52:04.684791Z",
     "start_time": "2024-03-19T00:52:04.668314Z"
    }
   },
   "outputs": [],
   "source": [
    "route_trip_freq_overall_by_day = route_trip_freq_overall_by_hour.groupby(['route_id']).sum() / 24\n",
    "route_trip_freq_overall_by_day.columns = ['Saturday', 'Sunday', 'Weekday'\n",
    "                                          , 'Weekday_Adjusted', 'Trains_per_Hour_Overall']\n",
    "# the wait time is half of the mean time between trains\n",
    "route_trip_freq_overall_by_day['Headway_Minutes'] = 60 / \\\n",
    "                                                        route_trip_freq_overall_by_day['Trains_per_Hour_Overall']\n",
    "route_trip_freq_overall_by_day = route_trip_freq_overall_by_day.round(1)"
   ]
  },
  {
   "cell_type": "markdown",
   "metadata": {},
   "source": [
    "### By Train Time Interval"
   ]
  },
  {
   "cell_type": "code",
   "execution_count": 17,
   "metadata": {
    "ExecuteTime": {
     "end_time": "2024-03-19T00:52:06.030957Z",
     "start_time": "2024-03-19T00:52:04.687528Z"
    }
   },
   "outputs": [],
   "source": [
    "train_time_interval_list = []\n",
    "for idx, row in first_stop_in_trip.iterrows():\n",
    "    train_time_interval = determine_train_time_intervals(row['arrival_time'], row['day_of_week'])\n",
    "    train_time_interval_list.append(train_time_interval)\n",
    "first_stop_in_trip['train_time_interval'] = train_time_interval_list"
   ]
  },
  {
   "cell_type": "code",
   "execution_count": 18,
   "metadata": {
    "ExecuteTime": {
     "end_time": "2024-03-19T00:52:06.072663Z",
     "start_time": "2024-03-19T00:52:06.038241Z"
    }
   },
   "outputs": [],
   "source": [
    "first_stop_in_trip_per_interval = pd.DataFrame(first_stop_in_trip.groupby(\n",
    "                                                ['route_id', 'train_time_interval']\n",
    "                                                ).size()).reset_index()\n",
    "first_stop_in_trip_per_interval.columns = ['route_id', 'train_time_interval', 'trains_per_hour']\n",
    "first_stop_in_trip_per_interval = scale_time_intervals_to_hour(first_stop_in_trip_per_interval)\n",
    "first_stop_in_trip_per_interval['headway_seconds'] = round(3600 / first_stop_in_trip_per_interval['trains_per_hour'])\n",
    "first_stop_in_trip_per_interval['headway_minutes'] = round(60 / first_stop_in_trip_per_interval['trains_per_hour'], 1)"
   ]
  },
  {
   "cell_type": "markdown",
   "metadata": {},
   "source": [
    "### Finding mean trip time by service "
   ]
  },
  {
   "cell_type": "code",
   "execution_count": 19,
   "metadata": {
    "ExecuteTime": {
     "end_time": "2024-03-19T00:52:07.809474Z",
     "start_time": "2024-03-19T00:52:06.077559Z"
    }
   },
   "outputs": [
    {
     "data": {
      "text/plain": [
       "Timedelta('0 days 01:25:06.256322121')"
      ]
     },
     "execution_count": 19,
     "metadata": {},
     "output_type": "execute_result"
    }
   ],
   "source": [
    "# no trip is longer than 2 hours so I'll drop anything larger than that (the late night trains fuck up the timing)\n",
    "trip_time_diff = stop_times_df.groupby('trip_id')['departure_time'].agg(np.ptp)\n",
    "trip_time_diff.mean()"
   ]
  },
  {
   "cell_type": "code",
   "execution_count": 20,
   "metadata": {
    "ExecuteTime": {
     "end_time": "2024-03-19T00:52:07.833805Z",
     "start_time": "2024-03-19T00:52:07.811832Z"
    }
   },
   "outputs": [],
   "source": [
    "# 97.6% of all trips\n",
    "valid_trip_times = pd.DataFrame(trip_time_diff[trip_time_diff.values<pd.Timedelta('0 days 02:00:00')]).reset_index()\n",
    "\n",
    "valid_trip_times['route_id'] = [x.split(\"_\")[-1].split('.')[0] \n",
    "                                        for x in valid_trip_times['trip_id']]"
   ]
  },
  {
   "cell_type": "code",
   "execution_count": 21,
   "metadata": {
    "ExecuteTime": {
     "end_time": "2024-03-19T00:52:07.873396Z",
     "start_time": "2024-03-19T00:52:07.836232Z"
    }
   },
   "outputs": [],
   "source": [
    "avg_trip_time = pd.DataFrame(valid_trip_times.groupby('route_id').mean(numeric_only=False)).reset_index()\n",
    "avg_trip_time['route_time_seconds'] = [round(x.total_seconds()) for x in avg_trip_time['departure_time']]\n",
    "avg_trip_time['route_time_minutes'] = [round(x / 60, 1) for x in avg_trip_time['route_time_seconds']]"
   ]
  },
  {
   "cell_type": "code",
   "execution_count": 22,
   "metadata": {
    "ExecuteTime": {
     "end_time": "2024-03-19T00:52:07.884446Z",
     "start_time": "2024-03-19T00:52:07.876631Z"
    }
   },
   "outputs": [],
   "source": [
    "# the amount of time it takes to reach one end of the route from the other\n",
    "avg_trip_time_final = avg_trip_time.drop(columns='departure_time')"
   ]
  },
  {
   "cell_type": "markdown",
   "metadata": {},
   "source": [
    "#### Adding to Daily Frequency Table "
   ]
  },
  {
   "cell_type": "code",
   "execution_count": 23,
   "metadata": {
    "ExecuteTime": {
     "end_time": "2024-03-19T00:52:07.901207Z",
     "start_time": "2024-03-19T00:52:07.888502Z"
    }
   },
   "outputs": [],
   "source": [
    "daily_route_trip_freq = route_trip_freq_overall_by_day.merge(avg_trip_time_final, on='route_id')\n",
    "# doubling the result so that we have ALL trains not just southbound ones\n",
    "daily_route_trip_freq['Avg_num_trains_running'] = round((daily_route_trip_freq['route_time_minutes'] / 60) * \\\n",
    "                                                        daily_route_trip_freq['Trains_per_Hour_Overall'] * 2, 1)"
   ]
  },
  {
   "cell_type": "markdown",
   "metadata": {},
   "source": [
    "#### Adding to Hourly"
   ]
  },
  {
   "cell_type": "code",
   "execution_count": 24,
   "metadata": {
    "ExecuteTime": {
     "end_time": "2024-03-19T00:52:07.925310Z",
     "start_time": "2024-03-19T00:52:07.903714Z"
    }
   },
   "outputs": [],
   "source": [
    "hourly_route_trip_freq = route_trip_freq_by_hour.reset_index().merge(avg_trip_time_final, on='route_id')\n",
    "# doubling the result so that we have ALL trains not just southbound ones\n",
    "hourly_route_trip_freq['Avg_num_trains_running'] = (hourly_route_trip_freq['route_time_minutes'] / 60) * \\\n",
    "                                        hourly_route_trip_freq['trains_per_hour'] * 2\n",
    "hourly_route_trip_freq = hourly_route_trip_freq.round(1)"
   ]
  },
  {
   "cell_type": "markdown",
   "metadata": {},
   "source": [
    "#### Adding to Train Time Interval"
   ]
  },
  {
   "cell_type": "code",
   "execution_count": 25,
   "metadata": {
    "ExecuteTime": {
     "end_time": "2024-03-19T00:52:07.948420Z",
     "start_time": "2024-03-19T00:52:07.928256Z"
    }
   },
   "outputs": [],
   "source": [
    "trip_interval_route_freq = first_stop_in_trip_per_interval.merge(avg_trip_time_final, on='route_id')\n",
    "\n",
    "# doubling the result so that we have ALL trains not just southbound ones\n",
    "trip_interval_route_freq['Avg_num_trains_running'] = (trip_interval_route_freq['route_time_minutes'] / 60) * \\\n",
    "                                        trip_interval_route_freq['trains_per_hour'] * 2\n",
    "trip_interval_route_freq = trip_interval_route_freq.round(1)"
   ]
  },
  {
   "cell_type": "markdown",
   "metadata": {},
   "source": [
    "## Creating the Lines"
   ]
  },
  {
   "cell_type": "code",
   "execution_count": 26,
   "metadata": {
    "ExecuteTime": {
     "end_time": "2024-03-19T00:52:08.083586Z",
     "start_time": "2024-03-19T00:52:07.951363Z"
    }
   },
   "outputs": [],
   "source": [
    "shapes_df['lat_lon'] = list(zip(round(shapes_df['shape_pt_lat'], 6), round(shapes_df['shape_pt_lon'], 6)))"
   ]
  },
  {
   "cell_type": "code",
   "execution_count": 27,
   "metadata": {
    "ExecuteTime": {
     "end_time": "2024-03-19T00:52:09.148634Z",
     "start_time": "2024-03-19T00:52:08.086063Z"
    },
    "scrolled": true
   },
   "outputs": [
    {
     "name": "stderr",
     "output_type": "stream",
     "text": [
      "/Users/gregfeliu/opt/anaconda3/envs/learn-env/lib/python3.6/site-packages/ipykernel_launcher.py:5: SettingWithCopyWarning: \n",
      "A value is trying to be set on a copy of a slice from a DataFrame.\n",
      "Try using .loc[row_indexer,col_indexer] = value instead\n",
      "\n",
      "See the caveats in the documentation: https://pandas.pydata.org/pandas-docs/stable/user_guide/indexing.html#returning-a-view-versus-a-copy\n",
      "  \"\"\"\n"
     ]
    }
   ],
   "source": [
    "# less than half as many rows now\n",
    "shapes_df_unique = shapes_df[shapes_df['shape_id'].str.contains(\".S\")]\n",
    "\n",
    "shape_route_dict = dict(zip(trips_df['shape_id'], trips_df['route_id']))\n",
    "shapes_df_unique['route_id'] = shapes_df_unique['shape_id'].replace(shape_route_dict)\n",
    "\n",
    "shapes_df_unique['route_id_len'] = [len(x) for x in shapes_df_unique['route_id']]\n",
    "# removing shapes that aren't in the current dataset \n",
    "shapes_df_unique = shapes_df_unique[shapes_df_unique['route_id_len'] <= 2]"
   ]
  },
  {
   "cell_type": "code",
   "execution_count": 47,
   "metadata": {
    "ExecuteTime": {
     "end_time": "2024-03-19T00:55:03.503849Z",
     "start_time": "2024-03-19T00:55:03.483584Z"
    },
    "collapsed": true
   },
   "outputs": [
    {
     "data": {
      "text/html": [
       "<div>\n",
       "<style scoped>\n",
       "    .dataframe tbody tr th:only-of-type {\n",
       "        vertical-align: middle;\n",
       "    }\n",
       "\n",
       "    .dataframe tbody tr th {\n",
       "        vertical-align: top;\n",
       "    }\n",
       "\n",
       "    .dataframe thead th {\n",
       "        text-align: right;\n",
       "    }\n",
       "</style>\n",
       "<table border=\"1\" class=\"dataframe\">\n",
       "  <thead>\n",
       "    <tr style=\"text-align: right;\">\n",
       "      <th></th>\n",
       "      <th>shape_id</th>\n",
       "      <th>shape_pt_sequence</th>\n",
       "      <th>shape_pt_lat</th>\n",
       "      <th>shape_pt_lon</th>\n",
       "      <th>lat_lon</th>\n",
       "      <th>route_id</th>\n",
       "      <th>route_id_len</th>\n",
       "    </tr>\n",
       "  </thead>\n",
       "  <tbody>\n",
       "    <tr>\n",
       "      <th>1690</th>\n",
       "      <td>1..S03R</td>\n",
       "      <td>0</td>\n",
       "      <td>40.889248</td>\n",
       "      <td>-73.898583</td>\n",
       "      <td>(40.889248, -73.898583)</td>\n",
       "      <td>1</td>\n",
       "      <td>1</td>\n",
       "    </tr>\n",
       "    <tr>\n",
       "      <th>1691</th>\n",
       "      <td>1..S03R</td>\n",
       "      <td>1</td>\n",
       "      <td>40.887195</td>\n",
       "      <td>-73.899616</td>\n",
       "      <td>(40.887195, -73.899616)</td>\n",
       "      <td>1</td>\n",
       "      <td>1</td>\n",
       "    </tr>\n",
       "    <tr>\n",
       "      <th>1692</th>\n",
       "      <td>1..S03R</td>\n",
       "      <td>2</td>\n",
       "      <td>40.886309</td>\n",
       "      <td>-73.900041</td>\n",
       "      <td>(40.886309, -73.900041)</td>\n",
       "      <td>1</td>\n",
       "      <td>1</td>\n",
       "    </tr>\n",
       "    <tr>\n",
       "      <th>1693</th>\n",
       "      <td>1..S03R</td>\n",
       "      <td>3</td>\n",
       "      <td>40.884928</td>\n",
       "      <td>-73.900730</td>\n",
       "      <td>(40.884928, -73.90073)</td>\n",
       "      <td>1</td>\n",
       "      <td>1</td>\n",
       "    </tr>\n",
       "    <tr>\n",
       "      <th>1694</th>\n",
       "      <td>1..S03R</td>\n",
       "      <td>4</td>\n",
       "      <td>40.884667</td>\n",
       "      <td>-73.900870</td>\n",
       "      <td>(40.884667, -73.90087)</td>\n",
       "      <td>1</td>\n",
       "      <td>1</td>\n",
       "    </tr>\n",
       "    <tr>\n",
       "      <th>...</th>\n",
       "      <td>...</td>\n",
       "      <td>...</td>\n",
       "      <td>...</td>\n",
       "      <td>...</td>\n",
       "      <td>...</td>\n",
       "      <td>...</td>\n",
       "      <td>...</td>\n",
       "    </tr>\n",
       "    <tr>\n",
       "      <th>169563</th>\n",
       "      <td>SI..S07R</td>\n",
       "      <td>685</td>\n",
       "      <td>40.513696</td>\n",
       "      <td>-74.250493</td>\n",
       "      <td>(40.513696, -74.250493)</td>\n",
       "      <td>SI</td>\n",
       "      <td>2</td>\n",
       "    </tr>\n",
       "    <tr>\n",
       "      <th>169564</th>\n",
       "      <td>SI..S07R</td>\n",
       "      <td>686</td>\n",
       "      <td>40.513579</td>\n",
       "      <td>-74.250706</td>\n",
       "      <td>(40.513579, -74.250706)</td>\n",
       "      <td>SI</td>\n",
       "      <td>2</td>\n",
       "    </tr>\n",
       "    <tr>\n",
       "      <th>169565</th>\n",
       "      <td>SI..S07R</td>\n",
       "      <td>687</td>\n",
       "      <td>40.513458</td>\n",
       "      <td>-74.250917</td>\n",
       "      <td>(40.513458, -74.250917)</td>\n",
       "      <td>SI</td>\n",
       "      <td>2</td>\n",
       "    </tr>\n",
       "    <tr>\n",
       "      <th>169566</th>\n",
       "      <td>SI..S07R</td>\n",
       "      <td>688</td>\n",
       "      <td>40.513334</td>\n",
       "      <td>-74.251124</td>\n",
       "      <td>(40.513334, -74.251124)</td>\n",
       "      <td>SI</td>\n",
       "      <td>2</td>\n",
       "    </tr>\n",
       "    <tr>\n",
       "      <th>169567</th>\n",
       "      <td>SI..S07R</td>\n",
       "      <td>689</td>\n",
       "      <td>40.512764</td>\n",
       "      <td>-74.251961</td>\n",
       "      <td>(40.512764, -74.251961)</td>\n",
       "      <td>SI</td>\n",
       "      <td>2</td>\n",
       "    </tr>\n",
       "  </tbody>\n",
       "</table>\n",
       "<p>55811 rows × 7 columns</p>\n",
       "</div>"
      ],
      "text/plain": [
       "        shape_id  shape_pt_sequence  shape_pt_lat  shape_pt_lon  \\\n",
       "1690     1..S03R                  0     40.889248    -73.898583   \n",
       "1691     1..S03R                  1     40.887195    -73.899616   \n",
       "1692     1..S03R                  2     40.886309    -73.900041   \n",
       "1693     1..S03R                  3     40.884928    -73.900730   \n",
       "1694     1..S03R                  4     40.884667    -73.900870   \n",
       "...          ...                ...           ...           ...   \n",
       "169563  SI..S07R                685     40.513696    -74.250493   \n",
       "169564  SI..S07R                686     40.513579    -74.250706   \n",
       "169565  SI..S07R                687     40.513458    -74.250917   \n",
       "169566  SI..S07R                688     40.513334    -74.251124   \n",
       "169567  SI..S07R                689     40.512764    -74.251961   \n",
       "\n",
       "                        lat_lon route_id  route_id_len  \n",
       "1690    (40.889248, -73.898583)        1             1  \n",
       "1691    (40.887195, -73.899616)        1             1  \n",
       "1692    (40.886309, -73.900041)        1             1  \n",
       "1693     (40.884928, -73.90073)        1             1  \n",
       "1694     (40.884667, -73.90087)        1             1  \n",
       "...                         ...      ...           ...  \n",
       "169563  (40.513696, -74.250493)       SI             2  \n",
       "169564  (40.513579, -74.250706)       SI             2  \n",
       "169565  (40.513458, -74.250917)       SI             2  \n",
       "169566  (40.513334, -74.251124)       SI             2  \n",
       "169567  (40.512764, -74.251961)       SI             2  \n",
       "\n",
       "[55811 rows x 7 columns]"
      ]
     },
     "execution_count": 47,
     "metadata": {},
     "output_type": "execute_result"
    }
   ],
   "source": [
    "shapes_df_unique"
   ]
  },
  {
   "cell_type": "markdown",
   "metadata": {},
   "source": [
    "## Length of Cars for Each Line "
   ]
  },
  {
   "cell_type": "code",
   "execution_count": 101,
   "metadata": {
    "ExecuteTime": {
     "end_time": "2024-03-19T02:25:21.340819Z",
     "start_time": "2024-03-19T02:25:21.337066Z"
    }
   },
   "outputs": [],
   "source": [
    "# a dictionary showing the length of each car for each line \n",
    "# source: https://en.wikipedia.org/wiki/New_York_City_Subway_rolling_stock\n",
    "typical_length_of_cars = {'A': 15.5, 'B1': 18.4, 'B2':23}\n",
    "typical_width_of_cars = {'A': 2.7, 'B': 3.1}"
   ]
  },
  {
   "cell_type": "code",
   "execution_count": 102,
   "metadata": {
    "ExecuteTime": {
     "end_time": "2024-03-19T02:25:22.632615Z",
     "start_time": "2024-03-19T02:25:22.629270Z"
    }
   },
   "outputs": [],
   "source": [
    "unique_lines = list(first_stop_in_trip.route_id.unique())\n",
    "division_split_dict = dict(zip(unique_lines\n",
    "                             , [None for x in range(len(unique_lines))]))\n",
    "for key, value in division_split_dict.items():\n",
    "    try:\n",
    "        if key == 'GS':\n",
    "            division_split_dict[key] = 'A'\n",
    "        elif int(key):\n",
    "            division_split_dict[key] = 'A'\n",
    "    except Exception as e:\n",
    "        division_split_dict[key] = 'B'"
   ]
  },
  {
   "cell_type": "code",
   "execution_count": 104,
   "metadata": {
    "ExecuteTime": {
     "end_time": "2024-03-19T02:25:24.850278Z",
     "start_time": "2024-03-19T02:25:24.846208Z"
    }
   },
   "outputs": [],
   "source": [
    "train_area_df = pd.DataFrame.from_dict(division_split_dict, orient='index', columns=['division']).reset_index()\n",
    "train_area_df.columns = ['route_id', 'division']"
   ]
  },
  {
   "cell_type": "code",
   "execution_count": 105,
   "metadata": {
    "ExecuteTime": {
     "end_time": "2024-03-19T02:25:25.972385Z",
     "start_time": "2024-03-19T02:25:25.968153Z"
    }
   },
   "outputs": [],
   "source": [
    "# giving all values a car length\n",
    "# we'll multiply their value by the number of cars to get the final length\n",
    "car_length_dict = division_split_dict.copy()\n",
    "for key, value in car_length_dict.items():\n",
    "    if value == 'A':\n",
    "        car_length_dict[key] = typical_length_of_cars[value]\n",
    "    elif key in ['J', 'L', 'M', 'Z']:\n",
    "        car_length_dict[key] = typical_length_of_cars['B1']\n",
    "    else:\n",
    "        car_length_dict[key] = typical_length_of_cars['B2']\n",
    "train_area_df['car_length'] = car_length_dict.values()\n",
    "train_area_df['car_width'] = [typical_width_of_cars[x] for x in train_area_df['division']]"
   ]
  },
  {
   "cell_type": "code",
   "execution_count": 107,
   "metadata": {
    "ExecuteTime": {
     "end_time": "2024-03-19T02:25:28.175036Z",
     "start_time": "2024-03-19T02:25:28.171067Z"
    }
   },
   "outputs": [],
   "source": [
    "cars_per_train_dict = dict(zip(unique_lines, [None for x in range(len(unique_lines))]))\n",
    "# B1 division\n",
    "cars_per_train_dict['J'] = 8\n",
    "cars_per_train_dict['M'] = 8\n",
    "cars_per_train_dict['L'] = 8\n",
    "# Shuttles\n",
    "cars_per_train_dict['FS'] = 2\n",
    "cars_per_train_dict['H'] = 4\n",
    "cars_per_train_dict['GS'] = 6\n",
    "# Other\n",
    "cars_per_train_dict['SI'] = 4\n",
    "cars_per_train_dict['G'] = 5\n",
    "cars_per_train_dict['7'] = 11"
   ]
  },
  {
   "cell_type": "code",
   "execution_count": 109,
   "metadata": {
    "ExecuteTime": {
     "end_time": "2024-03-19T02:25:30.330222Z",
     "start_time": "2024-03-19T02:25:30.319940Z"
    }
   },
   "outputs": [
    {
     "name": "stderr",
     "output_type": "stream",
     "text": [
      "/Users/gregfeliu/opt/anaconda3/envs/learn-env/lib/python3.6/site-packages/ipykernel_launcher.py:9: SettingWithCopyWarning: \n",
      "A value is trying to be set on a copy of a slice from a DataFrame\n",
      "\n",
      "See the caveats in the documentation: https://pandas.pydata.org/pandas-docs/stable/user_guide/indexing.html#returning-a-view-versus-a-copy\n",
      "  if __name__ == '__main__':\n"
     ]
    }
   ],
   "source": [
    "train_area_df['number_of_cars'] = pd.DataFrame.from_dict(cars_per_train_dict, orient='index')\n",
    "for idx in range(len(train_area_df)):\n",
    "    value = train_area_df['number_of_cars'][idx]\n",
    "    if np.isnan(value):\n",
    "        if train_area_df['division'][idx] == 'A':\n",
    "            value = 10\n",
    "        elif train_area_df['division'][idx] == 'B':\n",
    "            value = 8\n",
    "    train_area_df['number_of_cars'][idx] = value"
   ]
  },
  {
   "cell_type": "code",
   "execution_count": 110,
   "metadata": {
    "ExecuteTime": {
     "end_time": "2024-03-19T02:25:31.483140Z",
     "start_time": "2024-03-19T02:25:31.478741Z"
    }
   },
   "outputs": [],
   "source": [
    "train_area_df['train_length'] = train_area_df['car_length'] * train_area_df['number_of_cars']\n",
    "train_area_df['trainset_area'] = train_area_df['train_length'] * train_area_df['car_width']\n",
    "train_area_dict = dict(zip(train_area_df.index, train_area_df['trainset_area']))\n",
    "train_area_df['capacity_per_car'] = [180 if train_area_df['division'][x] == 'A' else 240 \n",
    "                                     for x in range(train_area_df.shape[0])]\n",
    "# B division capacity is around 240 people per car (https://en.wikipedia.org/wiki/R160_(New_York_City_Subway_car)#cite_note-5)\n",
    "# A division capacity is around 180 people per car (https://en.wikipedia.org/wiki/R142_(New_York_City_Subway_car))\n",
    "train_area_df['capacity'] = [int(train_area_df['number_of_cars'][x] * train_area_df['capacity_per_car'][x])\n",
    "                             for x in range(train_area_df.shape[0])]"
   ]
  },
  {
   "cell_type": "markdown",
   "metadata": {},
   "source": [
    "## Station (Complex) Data"
   ]
  },
  {
   "cell_type": "markdown",
   "metadata": {},
   "source": [
    "### Grouping at Station Complex Level"
   ]
  },
  {
   "cell_type": "code",
   "execution_count": 115,
   "metadata": {
    "ExecuteTime": {
     "end_time": "2024-03-19T02:26:37.552478Z",
     "start_time": "2024-03-19T02:26:37.543685Z"
    },
    "scrolled": true
   },
   "outputs": [
    {
     "name": "stderr",
     "output_type": "stream",
     "text": [
      "/Users/gregfeliu/opt/anaconda3/envs/learn-env/lib/python3.6/site-packages/ipykernel_launcher.py:5: SettingWithCopyWarning: \n",
      "A value is trying to be set on a copy of a slice from a DataFrame.\n",
      "Try using .loc[row_indexer,col_indexer] = value instead\n",
      "\n",
      "See the caveats in the documentation: https://pandas.pydata.org/pandas-docs/stable/user_guide/indexing.html#returning-a-view-versus-a-copy\n",
      "  \"\"\"\n"
     ]
    }
   ],
   "source": [
    "# I can find the lines that connect each station\n",
    "## I would need to further combine them to equal the service pattern\n",
    "parent_stops_df = stops_df_supplemented[stops_df_supplemented['parent_station'].isnull()==True]\n",
    "parent_stops_df['lat_lon'] = list(zip(round(parent_stops_df['stop_lat'], 6)\n",
    "                                      , round(parent_stops_df['stop_lon'], 6)))"
   ]
  },
  {
   "cell_type": "code",
   "execution_count": 116,
   "metadata": {
    "ExecuteTime": {
     "end_time": "2024-03-19T02:26:39.262567Z",
     "start_time": "2024-03-19T02:26:38.729575Z"
    }
   },
   "outputs": [],
   "source": [
    "stop_times_df['route_id'] = [x.split(\"_\")[-1].split('.')[0] \n",
    "                                        for x in stop_times_df['trip_id']]\n",
    "stop_times_df['parent_stop_id'] = [x[0:-1] for x in stop_times_df['stop_id']]"
   ]
  },
  {
   "cell_type": "code",
   "execution_count": 117,
   "metadata": {
    "ExecuteTime": {
     "end_time": "2024-03-19T02:26:40.367734Z",
     "start_time": "2024-03-19T02:26:40.365645Z"
    }
   },
   "outputs": [],
   "source": [
    "# group each segment (between stations)\n",
    "# identify which lines use that segment\n",
    "# add up the number of trains that use that segment \n",
    "# scale the width of that segment to the number of trains per hour "
   ]
  },
  {
   "cell_type": "code",
   "execution_count": 118,
   "metadata": {
    "ExecuteTime": {
     "end_time": "2024-03-19T02:27:35.667394Z",
     "start_time": "2024-03-19T02:26:41.481302Z"
    }
   },
   "outputs": [],
   "source": [
    "train_time_interval_list = []\n",
    "for idx, row in stop_times_df.iterrows():\n",
    "    train_time_interval = determine_train_time_intervals(row['arrival_time'], row['day_of_week'])\n",
    "    train_time_interval_list.append(train_time_interval)\n",
    "stop_times_df['train_time_interval'] = train_time_interval_list"
   ]
  },
  {
   "cell_type": "code",
   "execution_count": 119,
   "metadata": {
    "ExecuteTime": {
     "end_time": "2024-03-19T02:27:37.288944Z",
     "start_time": "2024-03-19T02:27:36.752265Z"
    }
   },
   "outputs": [],
   "source": [
    "stop_times_df['trainset_area'] = stop_times_df['route_id'].replace(train_area_dict)"
   ]
  },
  {
   "cell_type": "code",
   "execution_count": 123,
   "metadata": {
    "ExecuteTime": {
     "end_time": "2024-03-19T02:28:27.417801Z",
     "start_time": "2024-03-19T02:28:27.277517Z"
    }
   },
   "outputs": [],
   "source": [
    "# trains per hour during weekdays \n",
    "# this includes both directions so I'm dividing by 2 to make it \"per direction\"\n",
    "trains_per_weekday_hour_by_station = round(stop_times_df[stop_times_df['day_of_week'] == 'Weekday'\n",
    "                                                  ].groupby('parent_stop_id').count() / 24 / 2, 2)[['trip_id']]\n",
    "trains_per_weekday_hour_by_station.reset_index(inplace=True)"
   ]
  },
  {
   "cell_type": "code",
   "execution_count": 125,
   "metadata": {
    "ExecuteTime": {
     "end_time": "2024-03-19T02:28:34.793667Z",
     "start_time": "2024-03-19T02:28:34.781016Z"
    }
   },
   "outputs": [
    {
     "data": {
      "text/html": [
       "<div>\n",
       "<style scoped>\n",
       "    .dataframe tbody tr th:only-of-type {\n",
       "        vertical-align: middle;\n",
       "    }\n",
       "\n",
       "    .dataframe tbody tr th {\n",
       "        vertical-align: top;\n",
       "    }\n",
       "\n",
       "    .dataframe thead th {\n",
       "        text-align: right;\n",
       "    }\n",
       "</style>\n",
       "<table border=\"1\" class=\"dataframe\">\n",
       "  <thead>\n",
       "    <tr style=\"text-align: right;\">\n",
       "      <th></th>\n",
       "      <th>parent_stop_id</th>\n",
       "      <th>trip_id</th>\n",
       "    </tr>\n",
       "  </thead>\n",
       "  <tbody>\n",
       "    <tr>\n",
       "      <th>0</th>\n",
       "      <td>101</td>\n",
       "      <td>9.00</td>\n",
       "    </tr>\n",
       "    <tr>\n",
       "      <th>1</th>\n",
       "      <td>103</td>\n",
       "      <td>9.33</td>\n",
       "    </tr>\n",
       "    <tr>\n",
       "      <th>2</th>\n",
       "      <td>104</td>\n",
       "      <td>9.33</td>\n",
       "    </tr>\n",
       "    <tr>\n",
       "      <th>3</th>\n",
       "      <td>106</td>\n",
       "      <td>9.33</td>\n",
       "    </tr>\n",
       "    <tr>\n",
       "      <th>4</th>\n",
       "      <td>107</td>\n",
       "      <td>9.42</td>\n",
       "    </tr>\n",
       "    <tr>\n",
       "      <th>...</th>\n",
       "      <td>...</td>\n",
       "      <td>...</td>\n",
       "    </tr>\n",
       "    <tr>\n",
       "      <th>491</th>\n",
       "      <td>S27</td>\n",
       "      <td>2.52</td>\n",
       "    </tr>\n",
       "    <tr>\n",
       "      <th>492</th>\n",
       "      <td>S28</td>\n",
       "      <td>2.52</td>\n",
       "    </tr>\n",
       "    <tr>\n",
       "      <th>493</th>\n",
       "      <td>S29</td>\n",
       "      <td>2.52</td>\n",
       "    </tr>\n",
       "    <tr>\n",
       "      <th>494</th>\n",
       "      <td>S30</td>\n",
       "      <td>2.52</td>\n",
       "    </tr>\n",
       "    <tr>\n",
       "      <th>495</th>\n",
       "      <td>S31</td>\n",
       "      <td>3.10</td>\n",
       "    </tr>\n",
       "  </tbody>\n",
       "</table>\n",
       "<p>496 rows × 2 columns</p>\n",
       "</div>"
      ],
      "text/plain": [
       "    parent_stop_id  trip_id\n",
       "0              101     9.00\n",
       "1              103     9.33\n",
       "2              104     9.33\n",
       "3              106     9.33\n",
       "4              107     9.42\n",
       "..             ...      ...\n",
       "491            S27     2.52\n",
       "492            S28     2.52\n",
       "493            S29     2.52\n",
       "494            S30     2.52\n",
       "495            S31     3.10\n",
       "\n",
       "[496 rows x 2 columns]"
      ]
     },
     "execution_count": 125,
     "metadata": {},
     "output_type": "execute_result"
    }
   ],
   "source": [
    "trains_per_weekday_hour_by_station"
   ]
  },
  {
   "cell_type": "code",
   "execution_count": 126,
   "metadata": {
    "ExecuteTime": {
     "end_time": "2024-03-19T02:29:00.845195Z",
     "start_time": "2024-03-19T02:29:00.824297Z"
    }
   },
   "outputs": [
    {
     "data": {
      "text/html": [
       "<div>\n",
       "<style scoped>\n",
       "    .dataframe tbody tr th:only-of-type {\n",
       "        vertical-align: middle;\n",
       "    }\n",
       "\n",
       "    .dataframe tbody tr th {\n",
       "        vertical-align: top;\n",
       "    }\n",
       "\n",
       "    .dataframe thead th {\n",
       "        text-align: right;\n",
       "    }\n",
       "</style>\n",
       "<table border=\"1\" class=\"dataframe\">\n",
       "  <thead>\n",
       "    <tr style=\"text-align: right;\">\n",
       "      <th></th>\n",
       "      <th>route_id</th>\n",
       "      <th>division</th>\n",
       "      <th>car_length</th>\n",
       "      <th>car_width</th>\n",
       "      <th>number_of_cars</th>\n",
       "      <th>train_length</th>\n",
       "      <th>trainset_area</th>\n",
       "      <th>capacity_per_car</th>\n",
       "      <th>capacity</th>\n",
       "    </tr>\n",
       "  </thead>\n",
       "  <tbody>\n",
       "    <tr>\n",
       "      <th>0</th>\n",
       "      <td>1</td>\n",
       "      <td>A</td>\n",
       "      <td>15.5</td>\n",
       "      <td>2.7</td>\n",
       "      <td>10.0</td>\n",
       "      <td>155.0</td>\n",
       "      <td>418.50</td>\n",
       "      <td>180</td>\n",
       "      <td>1800</td>\n",
       "    </tr>\n",
       "    <tr>\n",
       "      <th>1</th>\n",
       "      <td>2</td>\n",
       "      <td>A</td>\n",
       "      <td>15.5</td>\n",
       "      <td>2.7</td>\n",
       "      <td>10.0</td>\n",
       "      <td>155.0</td>\n",
       "      <td>418.50</td>\n",
       "      <td>180</td>\n",
       "      <td>1800</td>\n",
       "    </tr>\n",
       "    <tr>\n",
       "      <th>2</th>\n",
       "      <td>3</td>\n",
       "      <td>A</td>\n",
       "      <td>15.5</td>\n",
       "      <td>2.7</td>\n",
       "      <td>10.0</td>\n",
       "      <td>155.0</td>\n",
       "      <td>418.50</td>\n",
       "      <td>180</td>\n",
       "      <td>1800</td>\n",
       "    </tr>\n",
       "    <tr>\n",
       "      <th>3</th>\n",
       "      <td>4</td>\n",
       "      <td>A</td>\n",
       "      <td>15.5</td>\n",
       "      <td>2.7</td>\n",
       "      <td>10.0</td>\n",
       "      <td>155.0</td>\n",
       "      <td>418.50</td>\n",
       "      <td>180</td>\n",
       "      <td>1800</td>\n",
       "    </tr>\n",
       "    <tr>\n",
       "      <th>4</th>\n",
       "      <td>5</td>\n",
       "      <td>A</td>\n",
       "      <td>15.5</td>\n",
       "      <td>2.7</td>\n",
       "      <td>10.0</td>\n",
       "      <td>155.0</td>\n",
       "      <td>418.50</td>\n",
       "      <td>180</td>\n",
       "      <td>1800</td>\n",
       "    </tr>\n",
       "    <tr>\n",
       "      <th>5</th>\n",
       "      <td>6</td>\n",
       "      <td>A</td>\n",
       "      <td>15.5</td>\n",
       "      <td>2.7</td>\n",
       "      <td>10.0</td>\n",
       "      <td>155.0</td>\n",
       "      <td>418.50</td>\n",
       "      <td>180</td>\n",
       "      <td>1800</td>\n",
       "    </tr>\n",
       "    <tr>\n",
       "      <th>6</th>\n",
       "      <td>GS</td>\n",
       "      <td>A</td>\n",
       "      <td>15.5</td>\n",
       "      <td>2.7</td>\n",
       "      <td>10.0</td>\n",
       "      <td>155.0</td>\n",
       "      <td>418.50</td>\n",
       "      <td>180</td>\n",
       "      <td>1800</td>\n",
       "    </tr>\n",
       "    <tr>\n",
       "      <th>7</th>\n",
       "      <td>A</td>\n",
       "      <td>B</td>\n",
       "      <td>23.0</td>\n",
       "      <td>3.1</td>\n",
       "      <td>8.0</td>\n",
       "      <td>184.0</td>\n",
       "      <td>570.40</td>\n",
       "      <td>240</td>\n",
       "      <td>1920</td>\n",
       "    </tr>\n",
       "    <tr>\n",
       "      <th>8</th>\n",
       "      <td>B</td>\n",
       "      <td>B</td>\n",
       "      <td>23.0</td>\n",
       "      <td>3.1</td>\n",
       "      <td>8.0</td>\n",
       "      <td>184.0</td>\n",
       "      <td>570.40</td>\n",
       "      <td>240</td>\n",
       "      <td>1920</td>\n",
       "    </tr>\n",
       "    <tr>\n",
       "      <th>9</th>\n",
       "      <td>C</td>\n",
       "      <td>B</td>\n",
       "      <td>23.0</td>\n",
       "      <td>3.1</td>\n",
       "      <td>8.0</td>\n",
       "      <td>184.0</td>\n",
       "      <td>570.40</td>\n",
       "      <td>240</td>\n",
       "      <td>1920</td>\n",
       "    </tr>\n",
       "    <tr>\n",
       "      <th>10</th>\n",
       "      <td>D</td>\n",
       "      <td>B</td>\n",
       "      <td>23.0</td>\n",
       "      <td>3.1</td>\n",
       "      <td>8.0</td>\n",
       "      <td>184.0</td>\n",
       "      <td>570.40</td>\n",
       "      <td>240</td>\n",
       "      <td>1920</td>\n",
       "    </tr>\n",
       "    <tr>\n",
       "      <th>11</th>\n",
       "      <td>FS</td>\n",
       "      <td>B</td>\n",
       "      <td>23.0</td>\n",
       "      <td>3.1</td>\n",
       "      <td>8.0</td>\n",
       "      <td>184.0</td>\n",
       "      <td>570.40</td>\n",
       "      <td>240</td>\n",
       "      <td>1920</td>\n",
       "    </tr>\n",
       "    <tr>\n",
       "      <th>12</th>\n",
       "      <td>G</td>\n",
       "      <td>B</td>\n",
       "      <td>23.0</td>\n",
       "      <td>3.1</td>\n",
       "      <td>8.0</td>\n",
       "      <td>184.0</td>\n",
       "      <td>570.40</td>\n",
       "      <td>240</td>\n",
       "      <td>1920</td>\n",
       "    </tr>\n",
       "    <tr>\n",
       "      <th>13</th>\n",
       "      <td>H</td>\n",
       "      <td>B</td>\n",
       "      <td>23.0</td>\n",
       "      <td>3.1</td>\n",
       "      <td>8.0</td>\n",
       "      <td>184.0</td>\n",
       "      <td>570.40</td>\n",
       "      <td>240</td>\n",
       "      <td>1920</td>\n",
       "    </tr>\n",
       "    <tr>\n",
       "      <th>14</th>\n",
       "      <td>J</td>\n",
       "      <td>B</td>\n",
       "      <td>18.4</td>\n",
       "      <td>3.1</td>\n",
       "      <td>8.0</td>\n",
       "      <td>147.2</td>\n",
       "      <td>456.32</td>\n",
       "      <td>240</td>\n",
       "      <td>1920</td>\n",
       "    </tr>\n",
       "    <tr>\n",
       "      <th>15</th>\n",
       "      <td>L</td>\n",
       "      <td>B</td>\n",
       "      <td>18.4</td>\n",
       "      <td>3.1</td>\n",
       "      <td>8.0</td>\n",
       "      <td>147.2</td>\n",
       "      <td>456.32</td>\n",
       "      <td>240</td>\n",
       "      <td>1920</td>\n",
       "    </tr>\n",
       "    <tr>\n",
       "      <th>16</th>\n",
       "      <td>M</td>\n",
       "      <td>B</td>\n",
       "      <td>18.4</td>\n",
       "      <td>3.1</td>\n",
       "      <td>8.0</td>\n",
       "      <td>147.2</td>\n",
       "      <td>456.32</td>\n",
       "      <td>240</td>\n",
       "      <td>1920</td>\n",
       "    </tr>\n",
       "    <tr>\n",
       "      <th>17</th>\n",
       "      <td>N</td>\n",
       "      <td>B</td>\n",
       "      <td>23.0</td>\n",
       "      <td>3.1</td>\n",
       "      <td>8.0</td>\n",
       "      <td>184.0</td>\n",
       "      <td>570.40</td>\n",
       "      <td>240</td>\n",
       "      <td>1920</td>\n",
       "    </tr>\n",
       "    <tr>\n",
       "      <th>18</th>\n",
       "      <td>Q</td>\n",
       "      <td>B</td>\n",
       "      <td>23.0</td>\n",
       "      <td>3.1</td>\n",
       "      <td>8.0</td>\n",
       "      <td>184.0</td>\n",
       "      <td>570.40</td>\n",
       "      <td>240</td>\n",
       "      <td>1920</td>\n",
       "    </tr>\n",
       "    <tr>\n",
       "      <th>19</th>\n",
       "      <td>R</td>\n",
       "      <td>B</td>\n",
       "      <td>23.0</td>\n",
       "      <td>3.1</td>\n",
       "      <td>8.0</td>\n",
       "      <td>184.0</td>\n",
       "      <td>570.40</td>\n",
       "      <td>240</td>\n",
       "      <td>1920</td>\n",
       "    </tr>\n",
       "    <tr>\n",
       "      <th>20</th>\n",
       "      <td>7</td>\n",
       "      <td>A</td>\n",
       "      <td>15.5</td>\n",
       "      <td>2.7</td>\n",
       "      <td>10.0</td>\n",
       "      <td>155.0</td>\n",
       "      <td>418.50</td>\n",
       "      <td>180</td>\n",
       "      <td>1800</td>\n",
       "    </tr>\n",
       "    <tr>\n",
       "      <th>21</th>\n",
       "      <td>E</td>\n",
       "      <td>B</td>\n",
       "      <td>23.0</td>\n",
       "      <td>3.1</td>\n",
       "      <td>8.0</td>\n",
       "      <td>184.0</td>\n",
       "      <td>570.40</td>\n",
       "      <td>240</td>\n",
       "      <td>1920</td>\n",
       "    </tr>\n",
       "    <tr>\n",
       "      <th>22</th>\n",
       "      <td>F</td>\n",
       "      <td>B</td>\n",
       "      <td>23.0</td>\n",
       "      <td>3.1</td>\n",
       "      <td>8.0</td>\n",
       "      <td>184.0</td>\n",
       "      <td>570.40</td>\n",
       "      <td>240</td>\n",
       "      <td>1920</td>\n",
       "    </tr>\n",
       "    <tr>\n",
       "      <th>23</th>\n",
       "      <td>SI</td>\n",
       "      <td>B</td>\n",
       "      <td>23.0</td>\n",
       "      <td>3.1</td>\n",
       "      <td>8.0</td>\n",
       "      <td>184.0</td>\n",
       "      <td>570.40</td>\n",
       "      <td>240</td>\n",
       "      <td>1920</td>\n",
       "    </tr>\n",
       "  </tbody>\n",
       "</table>\n",
       "</div>"
      ],
      "text/plain": [
       "   route_id division  car_length  car_width  number_of_cars  train_length  \\\n",
       "0         1        A        15.5        2.7            10.0         155.0   \n",
       "1         2        A        15.5        2.7            10.0         155.0   \n",
       "2         3        A        15.5        2.7            10.0         155.0   \n",
       "3         4        A        15.5        2.7            10.0         155.0   \n",
       "4         5        A        15.5        2.7            10.0         155.0   \n",
       "5         6        A        15.5        2.7            10.0         155.0   \n",
       "6        GS        A        15.5        2.7            10.0         155.0   \n",
       "7         A        B        23.0        3.1             8.0         184.0   \n",
       "8         B        B        23.0        3.1             8.0         184.0   \n",
       "9         C        B        23.0        3.1             8.0         184.0   \n",
       "10        D        B        23.0        3.1             8.0         184.0   \n",
       "11       FS        B        23.0        3.1             8.0         184.0   \n",
       "12        G        B        23.0        3.1             8.0         184.0   \n",
       "13        H        B        23.0        3.1             8.0         184.0   \n",
       "14        J        B        18.4        3.1             8.0         147.2   \n",
       "15        L        B        18.4        3.1             8.0         147.2   \n",
       "16        M        B        18.4        3.1             8.0         147.2   \n",
       "17        N        B        23.0        3.1             8.0         184.0   \n",
       "18        Q        B        23.0        3.1             8.0         184.0   \n",
       "19        R        B        23.0        3.1             8.0         184.0   \n",
       "20        7        A        15.5        2.7            10.0         155.0   \n",
       "21        E        B        23.0        3.1             8.0         184.0   \n",
       "22        F        B        23.0        3.1             8.0         184.0   \n",
       "23       SI        B        23.0        3.1             8.0         184.0   \n",
       "\n",
       "    trainset_area  capacity_per_car  capacity  \n",
       "0          418.50               180      1800  \n",
       "1          418.50               180      1800  \n",
       "2          418.50               180      1800  \n",
       "3          418.50               180      1800  \n",
       "4          418.50               180      1800  \n",
       "5          418.50               180      1800  \n",
       "6          418.50               180      1800  \n",
       "7          570.40               240      1920  \n",
       "8          570.40               240      1920  \n",
       "9          570.40               240      1920  \n",
       "10         570.40               240      1920  \n",
       "11         570.40               240      1920  \n",
       "12         570.40               240      1920  \n",
       "13         570.40               240      1920  \n",
       "14         456.32               240      1920  \n",
       "15         456.32               240      1920  \n",
       "16         456.32               240      1920  \n",
       "17         570.40               240      1920  \n",
       "18         570.40               240      1920  \n",
       "19         570.40               240      1920  \n",
       "20         418.50               180      1800  \n",
       "21         570.40               240      1920  \n",
       "22         570.40               240      1920  \n",
       "23         570.40               240      1920  "
      ]
     },
     "execution_count": 126,
     "metadata": {},
     "output_type": "execute_result"
    }
   ],
   "source": [
    "train_area_df"
   ]
  },
  {
   "cell_type": "code",
   "execution_count": 121,
   "metadata": {
    "ExecuteTime": {
     "end_time": "2024-03-19T02:27:39.672399Z",
     "start_time": "2024-03-19T02:27:39.579017Z"
    }
   },
   "outputs": [
    {
     "ename": "KeyError",
     "evalue": "\"None of [Index(['trainset_area'], dtype='object')] are in the [columns]\"",
     "output_type": "error",
     "traceback": [
      "\u001b[0;31m---------------------------------------------------------------------------\u001b[0m",
      "\u001b[0;31mKeyError\u001b[0m                                  Traceback (most recent call last)",
      "\u001b[0;32m<ipython-input-121-70bdb073bf23>\u001b[0m in \u001b[0;36m<module>\u001b[0;34m\u001b[0m\n\u001b[1;32m      1\u001b[0m \u001b[0;31m# train area per hour during weekdays per direction\u001b[0m\u001b[0;34m\u001b[0m\u001b[0;34m\u001b[0m\u001b[0;34m\u001b[0m\u001b[0m\n\u001b[1;32m      2\u001b[0m train_area_per_weekday_hour_by_station = round(stop_times_df[stop_times_df['day_of_week'] == 'Weekday'\n\u001b[0;32m----> 3\u001b[0;31m                                                   ].groupby('parent_stop_id').sum() / 24 / 2, 2)[['trainset_area']]\n\u001b[0m\u001b[1;32m      4\u001b[0m \u001b[0mtrain_area_per_weekday_hour_by_station\u001b[0m\u001b[0;34m.\u001b[0m\u001b[0mreset_index\u001b[0m\u001b[0;34m(\u001b[0m\u001b[0minplace\u001b[0m\u001b[0;34m=\u001b[0m\u001b[0;32mTrue\u001b[0m\u001b[0;34m)\u001b[0m\u001b[0;34m\u001b[0m\u001b[0;34m\u001b[0m\u001b[0m\n",
      "\u001b[0;32m~/opt/anaconda3/envs/learn-env/lib/python3.6/site-packages/pandas/core/frame.py\u001b[0m in \u001b[0;36m__getitem__\u001b[0;34m(self, key)\u001b[0m\n\u001b[1;32m   2910\u001b[0m             \u001b[0;32mif\u001b[0m \u001b[0mis_iterator\u001b[0m\u001b[0;34m(\u001b[0m\u001b[0mkey\u001b[0m\u001b[0;34m)\u001b[0m\u001b[0;34m:\u001b[0m\u001b[0;34m\u001b[0m\u001b[0;34m\u001b[0m\u001b[0m\n\u001b[1;32m   2911\u001b[0m                 \u001b[0mkey\u001b[0m \u001b[0;34m=\u001b[0m \u001b[0mlist\u001b[0m\u001b[0;34m(\u001b[0m\u001b[0mkey\u001b[0m\u001b[0;34m)\u001b[0m\u001b[0;34m\u001b[0m\u001b[0;34m\u001b[0m\u001b[0m\n\u001b[0;32m-> 2912\u001b[0;31m             \u001b[0mindexer\u001b[0m \u001b[0;34m=\u001b[0m \u001b[0mself\u001b[0m\u001b[0;34m.\u001b[0m\u001b[0mloc\u001b[0m\u001b[0;34m.\u001b[0m\u001b[0m_get_listlike_indexer\u001b[0m\u001b[0;34m(\u001b[0m\u001b[0mkey\u001b[0m\u001b[0;34m,\u001b[0m \u001b[0maxis\u001b[0m\u001b[0;34m=\u001b[0m\u001b[0;36m1\u001b[0m\u001b[0;34m,\u001b[0m \u001b[0mraise_missing\u001b[0m\u001b[0;34m=\u001b[0m\u001b[0;32mTrue\u001b[0m\u001b[0;34m)\u001b[0m\u001b[0;34m[\u001b[0m\u001b[0;36m1\u001b[0m\u001b[0;34m]\u001b[0m\u001b[0;34m\u001b[0m\u001b[0;34m\u001b[0m\u001b[0m\n\u001b[0m\u001b[1;32m   2913\u001b[0m \u001b[0;34m\u001b[0m\u001b[0m\n\u001b[1;32m   2914\u001b[0m         \u001b[0;31m# take() does not accept boolean indexers\u001b[0m\u001b[0;34m\u001b[0m\u001b[0;34m\u001b[0m\u001b[0;34m\u001b[0m\u001b[0m\n",
      "\u001b[0;32m~/opt/anaconda3/envs/learn-env/lib/python3.6/site-packages/pandas/core/indexing.py\u001b[0m in \u001b[0;36m_get_listlike_indexer\u001b[0;34m(self, key, axis, raise_missing)\u001b[0m\n\u001b[1;32m   1252\u001b[0m             \u001b[0mkeyarr\u001b[0m\u001b[0;34m,\u001b[0m \u001b[0mindexer\u001b[0m\u001b[0;34m,\u001b[0m \u001b[0mnew_indexer\u001b[0m \u001b[0;34m=\u001b[0m \u001b[0max\u001b[0m\u001b[0;34m.\u001b[0m\u001b[0m_reindex_non_unique\u001b[0m\u001b[0;34m(\u001b[0m\u001b[0mkeyarr\u001b[0m\u001b[0;34m)\u001b[0m\u001b[0;34m\u001b[0m\u001b[0;34m\u001b[0m\u001b[0m\n\u001b[1;32m   1253\u001b[0m \u001b[0;34m\u001b[0m\u001b[0m\n\u001b[0;32m-> 1254\u001b[0;31m         \u001b[0mself\u001b[0m\u001b[0;34m.\u001b[0m\u001b[0m_validate_read_indexer\u001b[0m\u001b[0;34m(\u001b[0m\u001b[0mkeyarr\u001b[0m\u001b[0;34m,\u001b[0m \u001b[0mindexer\u001b[0m\u001b[0;34m,\u001b[0m \u001b[0maxis\u001b[0m\u001b[0;34m,\u001b[0m \u001b[0mraise_missing\u001b[0m\u001b[0;34m=\u001b[0m\u001b[0mraise_missing\u001b[0m\u001b[0;34m)\u001b[0m\u001b[0;34m\u001b[0m\u001b[0;34m\u001b[0m\u001b[0m\n\u001b[0m\u001b[1;32m   1255\u001b[0m         \u001b[0;32mreturn\u001b[0m \u001b[0mkeyarr\u001b[0m\u001b[0;34m,\u001b[0m \u001b[0mindexer\u001b[0m\u001b[0;34m\u001b[0m\u001b[0;34m\u001b[0m\u001b[0m\n\u001b[1;32m   1256\u001b[0m \u001b[0;34m\u001b[0m\u001b[0m\n",
      "\u001b[0;32m~/opt/anaconda3/envs/learn-env/lib/python3.6/site-packages/pandas/core/indexing.py\u001b[0m in \u001b[0;36m_validate_read_indexer\u001b[0;34m(self, key, indexer, axis, raise_missing)\u001b[0m\n\u001b[1;32m   1296\u001b[0m             \u001b[0;32mif\u001b[0m \u001b[0mmissing\u001b[0m \u001b[0;34m==\u001b[0m \u001b[0mlen\u001b[0m\u001b[0;34m(\u001b[0m\u001b[0mindexer\u001b[0m\u001b[0;34m)\u001b[0m\u001b[0;34m:\u001b[0m\u001b[0;34m\u001b[0m\u001b[0;34m\u001b[0m\u001b[0m\n\u001b[1;32m   1297\u001b[0m                 \u001b[0maxis_name\u001b[0m \u001b[0;34m=\u001b[0m \u001b[0mself\u001b[0m\u001b[0;34m.\u001b[0m\u001b[0mobj\u001b[0m\u001b[0;34m.\u001b[0m\u001b[0m_get_axis_name\u001b[0m\u001b[0;34m(\u001b[0m\u001b[0maxis\u001b[0m\u001b[0;34m)\u001b[0m\u001b[0;34m\u001b[0m\u001b[0;34m\u001b[0m\u001b[0m\n\u001b[0;32m-> 1298\u001b[0;31m                 \u001b[0;32mraise\u001b[0m \u001b[0mKeyError\u001b[0m\u001b[0;34m(\u001b[0m\u001b[0;34mf\"None of [{key}] are in the [{axis_name}]\"\u001b[0m\u001b[0;34m)\u001b[0m\u001b[0;34m\u001b[0m\u001b[0;34m\u001b[0m\u001b[0m\n\u001b[0m\u001b[1;32m   1299\u001b[0m \u001b[0;34m\u001b[0m\u001b[0m\n\u001b[1;32m   1300\u001b[0m             \u001b[0;31m# We (temporarily) allow for some missing keys with .loc, except in\u001b[0m\u001b[0;34m\u001b[0m\u001b[0;34m\u001b[0m\u001b[0;34m\u001b[0m\u001b[0m\n",
      "\u001b[0;31mKeyError\u001b[0m: \"None of [Index(['trainset_area'], dtype='object')] are in the [columns]\""
     ]
    }
   ],
   "source": [
    "# train area per hour during weekdays per direction\n",
    "train_area_per_weekday_hour_by_station = round(stop_times_df[stop_times_df['day_of_week'] == 'Weekday'\n",
    "                                                  ].groupby('parent_stop_id').sum() / 24 / 2, 2)[['trainset_area']]\n",
    "train_area_per_weekday_hour_by_station.reset_index(inplace=True)"
   ]
  },
  {
   "cell_type": "code",
   "execution_count": null,
   "metadata": {
    "ExecuteTime": {
     "end_time": "2024-03-19T00:53:12.282335Z",
     "start_time": "2024-03-19T00:51:57.427Z"
    },
    "scrolled": true
   },
   "outputs": [],
   "source": [
    "train_info_per_weekday_hour_by_station = pd.merge(trains_per_weekday_hour_by_station\n",
    "                                                  , train_area_per_weekday_hour_by_station)\n",
    "train_info_per_weekday_hour_by_station.columns = ['parent_stop_id', 'trip_id', 'hourly_trainset_area']"
   ]
  },
  {
   "cell_type": "code",
   "execution_count": null,
   "metadata": {
    "ExecuteTime": {
     "end_time": "2024-03-19T00:53:12.284289Z",
     "start_time": "2024-03-19T00:51:57.429Z"
    }
   },
   "outputs": [],
   "source": [
    "trains_per_weekday_hour_by_complex = train_info_per_weekday_hour_by_station.merge(\n",
    "                                right=stations_info_df_exploded[['Complex ID', 'GTFS_Stop_IDs_Listed', ]]\n",
    "                                , how='outer', left_on='parent_stop_id', right_on='GTFS_Stop_IDs_Listed')\n",
    "trains_per_weekday_hour_by_complex = trains_per_weekday_hour_by_complex.groupby('Complex ID').sum().reset_index()"
   ]
  },
  {
   "cell_type": "code",
   "execution_count": null,
   "metadata": {
    "ExecuteTime": {
     "end_time": "2024-03-19T00:53:12.286184Z",
     "start_time": "2024-03-19T00:51:57.431Z"
    }
   },
   "outputs": [],
   "source": [
    "trains_per_weekday_hour_by_complex_all_info = trains_per_weekday_hour_by_complex.merge(\n",
    "                                                            stations_info_df_exploded.drop(columns=\"Is Complex\")\n",
    "                                                              , how='outer')\n",
    "trains_per_weekday_hour_by_complex_all_info.drop_duplicates(subset='Complex ID', inplace=True)"
   ]
  },
  {
   "cell_type": "code",
   "execution_count": null,
   "metadata": {
    "ExecuteTime": {
     "end_time": "2024-03-19T00:53:12.288010Z",
     "start_time": "2024-03-19T00:51:57.432Z"
    }
   },
   "outputs": [],
   "source": [
    "trains_per_weekday_hour_by_complex_all_info.columns = ['Complex ID', 'tph', 'hourly_trainset_area'\n",
    "                                                       , 'Number Of Stations In Complex', 'Stop Name',\n",
    "                                               'Display Name', 'Constituent Station Names', 'Station IDs',\n",
    "                                               'GTFS Stop IDs', 'Borough', 'Daytime Routes', 'Structure Type',\n",
    "                                               'Latitude', 'Longitude', 'GTFS_Stop_IDs_Listed']"
   ]
  },
  {
   "cell_type": "code",
   "execution_count": null,
   "metadata": {
    "ExecuteTime": {
     "end_time": "2024-03-19T00:53:12.289784Z",
     "start_time": "2024-03-19T00:51:57.434Z"
    }
   },
   "outputs": [],
   "source": [
    "# mean wait time should be tph / number of stations in complex\n",
    "# (if 80 trains come in an hour the wait time isnt really 45 sec)\n",
    "## -- wait time only makes sense at the station level because of this \n",
    "trains_per_weekday_hour_by_station['mean_wait_time_min'] = round(60 / \\\n",
    "                                                            trains_per_weekday_hour_by_station['trip_id'], 1)"
   ]
  },
  {
   "cell_type": "markdown",
   "metadata": {},
   "source": [
    "### Adding Ridership to each Station/Station Complex "
   ]
  },
  {
   "cell_type": "code",
   "execution_count": null,
   "metadata": {
    "ExecuteTime": {
     "end_time": "2024-03-19T00:53:12.291329Z",
     "start_time": "2024-03-19T00:51:57.436Z"
    }
   },
   "outputs": [],
   "source": [
    "hourly_station_ridership_weekday = hourly_station_ridership[hourly_station_ridership['departure_day'] < 5]"
   ]
  },
  {
   "cell_type": "code",
   "execution_count": null,
   "metadata": {
    "ExecuteTime": {
     "end_time": "2024-03-19T00:53:12.293161Z",
     "start_time": "2024-03-19T00:51:57.438Z"
    }
   },
   "outputs": [],
   "source": [
    "# grouping to the weekday avg. hourly ridership by complex\n",
    "hourly_station_ridership_weekday_grouped = hourly_station_ridership_weekday.groupby(\n",
    "                                        ['station_complex_id', 'departure_hour']).sum().reset_index()\n",
    "hourly_station_ridership_weekday_grouped.drop(columns='departure_day', inplace=True)\n",
    "# making it to be the average weekday\n",
    "hourly_station_ridership_weekday_grouped['avg_hourly_ridership'] = \\\n",
    "                                                    hourly_station_ridership_weekday_grouped['sum_ridership'] / 5\n",
    "hourly_station_ridership_weekday_grouped.drop(columns='sum_ridership', inplace=True)"
   ]
  },
  {
   "cell_type": "code",
   "execution_count": null,
   "metadata": {
    "ExecuteTime": {
     "end_time": "2024-03-19T00:53:12.294652Z",
     "start_time": "2024-03-19T00:51:57.440Z"
    },
    "scrolled": true
   },
   "outputs": [],
   "source": [
    "daily_weekday_ridership = hourly_station_ridership_weekday_grouped.groupby('station_complex_id').sum().reset_index()\n",
    "daily_weekday_ridership.drop(columns='departure_hour', inplace=True)\n",
    "daily_weekday_ridership.columns = ['station_complex_id', 'avg_daily_ridership']"
   ]
  },
  {
   "cell_type": "markdown",
   "metadata": {},
   "source": [
    "### Combining the two"
   ]
  },
  {
   "cell_type": "code",
   "execution_count": null,
   "metadata": {
    "ExecuteTime": {
     "end_time": "2024-03-19T00:53:12.296387Z",
     "start_time": "2024-03-19T00:51:57.441Z"
    }
   },
   "outputs": [],
   "source": [
    "station_complex_full_info = trains_per_weekday_hour_by_complex_all_info.merge(daily_weekday_ridership\n",
    "                                                , left_on='Complex ID'\n",
    "                                                 , right_on='station_complex_id', how='inner')"
   ]
  },
  {
   "cell_type": "code",
   "execution_count": null,
   "metadata": {
    "ExecuteTime": {
     "end_time": "2024-03-19T00:53:12.297830Z",
     "start_time": "2024-03-19T00:51:57.443Z"
    }
   },
   "outputs": [],
   "source": [
    "# getting the riders per hour per train\n",
    "station_complex_full_info['avg_hourly_ridership'] = round((station_complex_full_info['avg_daily_ridership']) \n",
    "                                                          / 24, 1)\n",
    "# getting the riders per hour per train direction (tph is only in S direction)\n",
    "station_complex_full_info['hourly_ridership_per_train_direction'] = round((station_complex_full_info['avg_hourly_ridership'])\\\n",
    "                                                    / (station_complex_full_info['tph'] * 2), 1)\n",
    "# station_complex_full_info['hourly_ridership_per_sq_meter'] = round(\n",
    "#                                                     (station_complex_full_info['avg_hourly_ridership'])\\\n",
    "#                                                 / (station_complex_full_info['hourly_trainset_area'] * 2), 3)"
   ]
  },
  {
   "cell_type": "code",
   "execution_count": null,
   "metadata": {
    "ExecuteTime": {
     "end_time": "2024-03-19T00:53:12.299390Z",
     "start_time": "2024-03-19T00:51:57.444Z"
    }
   },
   "outputs": [],
   "source": [
    "station_complex_full_info.columns = ['Complex_ID', 'tph', 'hourly_trainset_area'\n",
    "                                     , 'Number Of Stations In Complex', 'Stop Name', 'Display Name'\n",
    "                                     , 'Constituent Station Names', 'Station IDs','GTFS Stop IDs', 'Borough'\n",
    "                                     , 'Daytime Routes', 'Structure Type', 'Latitude', 'Longitude'\n",
    "                                     , 'GTFS_Stop_IDs_Listed', 'station_complex_id', 'avg_daily_ridership'\n",
    "                                     , 'avg_hourly_ridership', 'hourly_ridership_per_train_direction']"
   ]
  },
  {
   "cell_type": "markdown",
   "metadata": {},
   "source": [
    "### Finding Station Frequency by Time Interval\n",
    "how much service does each station get by time interval?"
   ]
  },
  {
   "cell_type": "code",
   "execution_count": null,
   "metadata": {
    "ExecuteTime": {
     "end_time": "2024-03-19T00:53:12.300822Z",
     "start_time": "2024-03-19T00:51:57.446Z"
    }
   },
   "outputs": [],
   "source": [
    "# sum of stations by train time interval\n",
    "# it also needs to be scaled because late night has 3 days whereas rush hour only covers 1 day (when it covers 5)\n",
    "frequency_by_stop_interval = stop_times_df.groupby(\n",
    "                                ['parent_stop_id', 'train_time_interval']).count()[['arrival_time']]\n",
    "frequency_by_stop_interval.columns = ['trains_per_hour']\n",
    "frequency_by_stop_interval = frequency_by_stop_interval.reset_index()\n",
    "# standardizing the intervals (weekend covers a much larger time span and late night covers 3 days)\n",
    "frequency_by_stop_interval = scale_time_intervals_to_hour(frequency_by_stop_interval)"
   ]
  },
  {
   "cell_type": "markdown",
   "metadata": {},
   "source": [
    "# Saving the Transformed Data"
   ]
  },
  {
   "cell_type": "code",
   "execution_count": null,
   "metadata": {
    "ExecuteTime": {
     "end_time": "2024-03-19T00:53:12.302254Z",
     "start_time": "2024-03-19T00:51:57.448Z"
    }
   },
   "outputs": [],
   "source": [
    "first_stop_in_trip.to_csv(\"saved_data/first_stop_in_trip.csv\")\n",
    "hourly_route_trip_freq.to_csv(\"saved_data/hourly_route_trip_freq.csv\")\n",
    "frequency_by_stop_interval.to_csv(\"saved_data/frequency_by_stop_interval.csv\")\n",
    "daily_route_trip_freq.to_csv(\"saved_data/daily_route_trip_freq.csv\")\n",
    "route_frequency_by_day.to_csv(\"saved_data/route_frequency_by_day.csv\") # AKA first_stop_in_trip_per_day\n",
    "trip_interval_route_freq.to_csv(\"saved_data/trip_interval_route_freq.csv\")\n",
    "train_area_df.to_csv(\"saved_data/length_of_each_train.csv\")\n",
    "hourly_station_ridership.to_csv(\"saved_data/hourly_station_ridership.csv\")\n",
    "station_complex_full_info.to_csv(\"saved_data/station_complex_full_info.csv\")"
   ]
  },
  {
   "cell_type": "code",
   "execution_count": null,
   "metadata": {},
   "outputs": [],
   "source": []
  }
 ],
 "metadata": {
  "kernelspec": {
   "display_name": "Python [conda env:learn-env] *",
   "language": "python",
   "name": "conda-env-learn-env-py"
  },
  "language_info": {
   "codemirror_mode": {
    "name": "ipython",
    "version": 3
   },
   "file_extension": ".py",
   "mimetype": "text/x-python",
   "name": "python",
   "nbconvert_exporter": "python",
   "pygments_lexer": "ipython3",
   "version": "3.6.9"
  },
  "toc": {
   "base_numbering": 1,
   "nav_menu": {},
   "number_sections": true,
   "sideBar": true,
   "skip_h1_title": false,
   "title_cell": "Table of Contents",
   "title_sidebar": "Contents",
   "toc_cell": false,
   "toc_position": {
    "height": "calc(100% - 180px)",
    "left": "10px",
    "top": "150px",
    "width": "271.997284px"
   },
   "toc_section_display": true,
   "toc_window_display": true
  },
  "varInspector": {
   "cols": {
    "lenName": 16,
    "lenType": 16,
    "lenVar": 40
   },
   "kernels_config": {
    "python": {
     "delete_cmd_postfix": "",
     "delete_cmd_prefix": "del ",
     "library": "var_list.py",
     "varRefreshCmd": "print(var_dic_list())"
    },
    "r": {
     "delete_cmd_postfix": ") ",
     "delete_cmd_prefix": "rm(",
     "library": "var_list.r",
     "varRefreshCmd": "cat(var_dic_list()) "
    }
   },
   "types_to_exclude": [
    "module",
    "function",
    "builtin_function_or_method",
    "instance",
    "_Feature"
   ],
   "window_display": false
  }
 },
 "nbformat": 4,
 "nbformat_minor": 2
}
