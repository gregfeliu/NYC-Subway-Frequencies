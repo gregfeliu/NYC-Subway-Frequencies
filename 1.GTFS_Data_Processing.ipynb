{
 "cells": [
  {
   "cell_type": "markdown",
   "metadata": {},
   "source": [
    "import pandas as pd\n",
    "# ^^^ pyforest auto-imports - don't write above this line\n",
    "The goal of this notebook is to **Process Google's GTFS Data.** I will use this data to:\n",
    "- find out how many trains are operating in the NYC Subway at any given time (284 -- no SIR)\n",
    "- find the most used stations in the network\n",
    "- find the ridership per train of each station in the network\n",
    "- find the trains per hour for each line/station in the network"
   ]
  },
  {
   "cell_type": "markdown",
   "metadata": {},
   "source": [
    "More info about [GTFS Data](https://gtfs.org) in general. There are two types: \n",
    "- schedule data \n",
    "- real time data [extra information about this](https://doodles.patrickweaver.net/working-with-nyc-mta-realtime-subway-data/slides/4/)\n",
    "\n",
    "I don't notice any difference between the two. I'll just use schedule data"
   ]
  },
  {
   "cell_type": "markdown",
   "metadata": {},
   "source": [
    "[MTA Developer Tools](https://new.mta.info/developers). The google data for the mta should be all that we need. There's weekday, saturday, and sunday service so only need to worry about those times. Additionally, there's data on the buses, LIRR and Metro North in there, too.\n",
    "- [mta metrics dashboard](https://metrics.mta.info/?subway/customerjourneytimeperformance)\n",
    "\n",
    "- (slightly outdated) [time frequency](https://en.wikipedia.org/wiki/List_of_New_York_City_Subway_services#Train_frequency_charts) breakdown\n",
    "- [service update statistics](https://subwaystats.com). Shows how on-time a train is the in the past 30 days\n",
    "- [an attempt](https://www.quora.com/How-many-trains-are-on-a-New-York-subway-line-at-any-given-time) at answering the question \"How many trains are currently running in the subway\""
   ]
  },
  {
   "cell_type": "markdown",
   "metadata": {},
   "source": [
    "[The project](https://tyleragreen.com/maps/new_york/) that inspired this one. [General Subway trivia](https://www.nycsubway.org/wiki/Main_Page)"
   ]
  },
  {
   "cell_type": "markdown",
   "metadata": {},
   "source": [
    "Some notes about the results:\n",
    "- the routes change by day of week (for example the M not running its whole route on the weekends)\n",
    "- some routes include service changes (the 7 and 7 express both count as the 7)\n",
    "- this also includes late nights where the routes can change dramatically (e.g.: the 5 train doesn't leave the BX at night)\n",
    "- two routes don't run on the weekends: the B and W"
   ]
  },
  {
   "cell_type": "markdown",
   "metadata": {},
   "source": [
    "# Imports"
   ]
  },
  {
   "cell_type": "code",
   "execution_count": 27,
   "metadata": {
    "ExecuteTime": {
     "end_time": "2024-01-30T20:52:06.164524Z",
     "start_time": "2024-01-30T20:52:06.160441Z"
    }
   },
   "outputs": [],
   "source": [
    "import pandas as pd\n",
    "import numpy as np\n",
    "import geopandas\n",
    "import seaborn as sns\n",
    "import datetime\n",
    "import warnings\n",
    "warnings.filterwarnings(action='once')"
   ]
  },
  {
   "cell_type": "markdown",
   "metadata": {},
   "source": [
    "## Functions "
   ]
  },
  {
   "cell_type": "code",
   "execution_count": 28,
   "metadata": {
    "ExecuteTime": {
     "end_time": "2024-01-30T20:52:07.229695Z",
     "start_time": "2024-01-30T20:52:07.215229Z"
    },
    "code_folding": [
     0,
     17,
     39
    ]
   },
   "outputs": [],
   "source": [
    "def determine_train_time_intervals(arrival_time, day_of_week: str):\n",
    "    arrival_time = arrival_time.time()\n",
    "    train_time_interval = None\n",
    "    if datetime.time(0, 0) <= arrival_time < datetime.time(6, 30):\n",
    "        train_time_interval = 'Late Night'\n",
    "    elif day_of_week in ['Saturday', 'Sunday']:\n",
    "        train_time_interval = 'Weekend'\n",
    "    elif datetime.time(6, 30) <= arrival_time < datetime.time(9, 30):\n",
    "        train_time_interval = 'Rush Hour AM'\n",
    "    elif datetime.time(9, 30) <= arrival_time < datetime.time(15, 30):\n",
    "        train_time_interval = 'Midday'\n",
    "    elif datetime.time(15, 30) <= arrival_time < datetime.time(20, 0):\n",
    "        train_time_interval = 'Rush Hour PM'\n",
    "    elif datetime.time(20, 0) <= arrival_time <= datetime.time(23, 59):\n",
    "        train_time_interval = 'Evening'\n",
    "    return train_time_interval\n",
    "\n",
    "def scale_time_intervals_to_hour(df_grouped_at_interval_level: pd.DataFrame):\n",
    "    for idx, row in df_grouped_at_interval_level.iterrows():\n",
    "        if row['train_time_interval'] == 'Late Night':\n",
    "            new_tph = (row['trains_per_hour'] / 3) / 6.5 # multiply by days ratio and hours ratio \n",
    "            df_grouped_at_interval_level.at[idx, 'trains_per_hour'] = new_tph\n",
    "        elif row['train_time_interval'] == 'Weekend':\n",
    "            new_tph = (row['trains_per_hour'] / 2) / 17.5 # multiply by days ratio and hours ratio \n",
    "            df_grouped_at_interval_level.at[idx, 'trains_per_hour'] = new_tph\n",
    "        elif row['train_time_interval'] == 'Rush Hour AM':\n",
    "            new_tph = row['trains_per_hour'] / 3 # multiply by days ratio and hours ratio \n",
    "            df_grouped_at_interval_level.at[idx, 'trains_per_hour'] = new_tph\n",
    "        elif row['train_time_interval'] == 'Midday':\n",
    "            new_tph = row['trains_per_hour'] / 6 # multiply by days ratio and hours ratio \n",
    "            df_grouped_at_interval_level.at[idx, 'trains_per_hour'] = new_tph\n",
    "        elif row['train_time_interval'] == 'Rush Hour PM':\n",
    "            new_tph = row['trains_per_hour'] / 4.5 # multiply by days ratio and hours ratio \n",
    "            df_grouped_at_interval_level.at[idx, 'trains_per_hour'] = new_tph\n",
    "        elif row['train_time_interval'] == 'Evening':\n",
    "            new_tph = row['trains_per_hour'] / 4 # multiply by days ratio and hours ratio \n",
    "            df_grouped_at_interval_level.at[idx, 'trains_per_hour'] = new_tph\n",
    "    return df_grouped_at_interval_level\n",
    "\n",
    "def group_into_day_type(dataframe: pd.DataFrame, column_name:str):    \n",
    "    day_of_week_list = []\n",
    "    for x in dataframe[column_name]:\n",
    "        if 'Weekday' in x or 'L0S1' in x:\n",
    "            day_of_week_list.append('Weekday')\n",
    "        elif 'Saturday' in x or 'L0S2' in x:\n",
    "            day_of_week_list.append('Saturday')\n",
    "        elif 'Sunday' in x or 'L0S3' in x:\n",
    "            day_of_week_list.append('Sunday')\n",
    "    dataframe['day_of_week'] = day_of_week_list\n",
    "    return dataframe"
   ]
  },
  {
   "cell_type": "markdown",
   "metadata": {},
   "source": [
    "## Real Time Data"
   ]
  },
  {
   "cell_type": "code",
   "execution_count": 4,
   "metadata": {
    "ExecuteTime": {
     "end_time": "2024-01-30T18:33:11.201646Z",
     "start_time": "2024-01-30T18:33:11.084124Z"
    }
   },
   "outputs": [],
   "source": [
    "trips_supplemented_df = pd.read_csv(\"data/google_transit_supplemented/trips.txt\")\n",
    "stops_df_supplemented = pd.read_csv(\"data/google_transit_supplemented/stops.txt\")"
   ]
  },
  {
   "cell_type": "markdown",
   "metadata": {},
   "source": [
    "## Schedule Data"
   ]
  },
  {
   "cell_type": "code",
   "execution_count": 80,
   "metadata": {
    "ExecuteTime": {
     "end_time": "2024-01-30T20:58:54.179584Z",
     "start_time": "2024-01-30T20:58:53.574695Z"
    }
   },
   "outputs": [],
   "source": [
    "# holdays and other days when the data would be different than expected\n",
    "calendar_dates_df = pd.read_csv(\"data/google_transit/calendar_dates.txt\") \n",
    "calendar_df = pd.read_csv(\"data/google_transit/calendar.txt\")\n",
    "routes_df = pd.read_csv(\"data/google_transit/routes.txt\")\n",
    "stop_times_df = pd.read_csv(\"data/google_transit/stop_times.txt\")\n",
    "stops_df = pd.read_csv(\"data/google_transit/stops.txt\")\n",
    "transfers_df = pd.read_csv(\"data/google_transit/transfers.txt\")\n",
    "trips_df = pd.read_csv(\"data/google_transit/trips.txt\")\n",
    "# not useful data \n",
    "# agency_df = pd.read_csv(\"google_transit/agency.txt\")\n",
    "shapes_df = pd.read_csv(\"data/google_transit/shapes.txt\")"
   ]
  },
  {
   "cell_type": "code",
   "execution_count": 30,
   "metadata": {
    "ExecuteTime": {
     "end_time": "2024-01-30T20:52:30.732439Z",
     "start_time": "2024-01-30T20:52:30.720955Z"
    }
   },
   "outputs": [],
   "source": [
    "all_dfs_list = [calendar_dates_df, calendar_df, routes_df, shapes_df\n",
    "               , stop_times_df, stops_df, transfers_df, trips_df]"
   ]
  },
  {
   "cell_type": "markdown",
   "metadata": {},
   "source": [
    "## Other Data"
   ]
  },
  {
   "cell_type": "code",
   "execution_count": 31,
   "metadata": {
    "ExecuteTime": {
     "end_time": "2024-01-30T20:52:34.742440Z",
     "start_time": "2024-01-30T20:52:34.331998Z"
    }
   },
   "outputs": [],
   "source": [
    "# hourly ridership from 2024-1-8 -- 2024-1-14\n",
    "# https://data.ny.gov/Transportation/MTA-Subway-Hourly-Ridership-Beginning-February-202/wujg-7c2s/explore/query/SELECT%0A%20%20%60transit_timestamp%60%2C%0A%20%20%60transit_mode%60%2C%0A%20%20%60station_complex_id%60%2C%0A%20%20%60station_complex%60%2C%0A%20%20%60ridership%60%0AWHERE%0A%20%20caseless_one_of%28%60transit_mode%60%2C%20%22staten_island_railway%22%2C%20%22subway%22%29%0A%20%20AND%20%28%60transit_timestamp%60%0A%20%20%20%20%20%20%20%20%20BETWEEN%20%222024-01-08T00%3A00%3A00%22%20%3A%3A%20floating_timestamp%0A%20%20%20%20%20%20%20%20%20AND%20%222024-01-15T00%3A00%3A00%22%20%3A%3A%20floating_timestamp%29%0AORDER%20BY%20%60transit_timestamp%60%20ASC%20NULL%20LAST/page/filter\n",
    "original_hourly_station_ridership = pd.read_csv(\"data/MTA_Subway_Hourly_Ridership__Beginning_February_2022_20240121.csv\")\n",
    "# All Staten Island data is assigned to one station so I need to remove it\n",
    "original_hourly_station_ridership = original_hourly_station_ridership[original_hourly_station_ridership\n",
    "                                                                      ['transit_mode']=='subway']\n",
    "hourly_station_ridership = original_hourly_station_ridership.groupby(\n",
    "                                ['station_complex_id', 'transit_timestamp']).sum().reset_index()"
   ]
  },
  {
   "cell_type": "code",
   "execution_count": 32,
   "metadata": {
    "ExecuteTime": {
     "end_time": "2024-01-30T20:52:35.232294Z",
     "start_time": "2024-01-30T20:52:35.204938Z"
    }
   },
   "outputs": [],
   "source": [
    "hourly_station_ridership['time_as_datetime'] = pd.to_datetime(hourly_station_ridership['transit_timestamp']\n",
    "                                                          , errors='coerce')"
   ]
  },
  {
   "cell_type": "code",
   "execution_count": 81,
   "metadata": {
    "ExecuteTime": {
     "end_time": "2024-01-30T20:58:56.205014Z",
     "start_time": "2024-01-30T20:58:56.189527Z"
    }
   },
   "outputs": [],
   "source": [
    "# https://catalog.data.gov/dataset/mta-subway-stations-and-complexes\n",
    "stations_info_df = pd.read_csv(\"data/MTA_Subway_Stations_and_Complexes.csv\")\n",
    "stations_info_df = stations_info_df.drop(columns=['ADA', 'ADA Notes'])\n",
    "# making this easier to explode later\n",
    "stations_info_df['GTFS_Stop_IDs_Listed'] = [x if \";\" not in x else list(x.replace(\" \", \"\").replace(\";\", \",\")\n",
    "                                                                        .split(\",\")) \n",
    "                                            for x in stations_info_df['GTFS Stop IDs']]"
   ]
  },
  {
   "cell_type": "code",
   "execution_count": 34,
   "metadata": {
    "ExecuteTime": {
     "end_time": "2024-01-30T20:52:36.157859Z",
     "start_time": "2024-01-30T20:52:36.148230Z"
    }
   },
   "outputs": [],
   "source": [
    "stations_info_df_exploded = stations_info_df.explode(\"GTFS_Stop_IDs_Listed\")"
   ]
  },
  {
   "cell_type": "markdown",
   "metadata": {},
   "source": [
    "# Adjustments to the GTFS Dfs"
   ]
  },
  {
   "cell_type": "markdown",
   "metadata": {},
   "source": [
    "## Date Format"
   ]
  },
  {
   "cell_type": "code",
   "execution_count": 35,
   "metadata": {
    "ExecuteTime": {
     "end_time": "2024-01-30T20:52:36.594175Z",
     "start_time": "2024-01-30T20:52:36.590833Z"
    }
   },
   "outputs": [],
   "source": [
    "# calendar_dates_df['date'].astype('datetime')\n",
    "calendar_dates_df['date'] = pd.to_datetime(calendar_dates_df['date'], format=\"%Y%m%d\")"
   ]
  },
  {
   "cell_type": "code",
   "execution_count": 36,
   "metadata": {
    "ExecuteTime": {
     "end_time": "2024-01-30T20:52:37.043188Z",
     "start_time": "2024-01-30T20:52:37.038617Z"
    }
   },
   "outputs": [],
   "source": [
    "calendar_df['start_date'] = pd.to_datetime(calendar_df['start_date'], format=\"%Y%m%d\")\n",
    "calendar_df['end_date'] = pd.to_datetime(calendar_df['end_date'], format=\"%Y%m%d\")"
   ]
  },
  {
   "cell_type": "code",
   "execution_count": 82,
   "metadata": {
    "ExecuteTime": {
     "end_time": "2024-01-30T20:59:02.813652Z",
     "start_time": "2024-01-30T20:59:02.132987Z"
    }
   },
   "outputs": [],
   "source": [
    "#making the times within a 24 hour range -- up to 27 \n",
    "stop_times_df['arrival_time'] = [str(int(x[0:2]) - 24) + x[2:] if int(x[0:2]) >= 24 else x\n",
    "                          for x in stop_times_df['arrival_time']]\n",
    "stop_times_df['departure_time']  = [str(int(x[0:2]) - 24) + x[2:] if int(x[0:2]) >= 24 else x\n",
    "                          for x in stop_times_df['departure_time']]\n",
    "# making to a datetime\n",
    "stop_times_df['arrival_time'] = pd.to_datetime(stop_times_df['arrival_time'], format=\"%H:%M:%S\"\n",
    "                                                  , errors='coerce')\n",
    "stop_times_df['departure_time'] = pd.to_datetime(stop_times_df['departure_time'], format=\"%H:%M:%S\"\n",
    "                                                    , errors='coerce')"
   ]
  },
  {
   "cell_type": "code",
   "execution_count": 83,
   "metadata": {
    "ExecuteTime": {
     "end_time": "2024-01-30T20:59:03.860498Z",
     "start_time": "2024-01-30T20:59:03.700879Z"
    }
   },
   "outputs": [],
   "source": [
    "stop_times_df = group_into_day_type(stop_times_df, 'trip_id')"
   ]
  },
  {
   "cell_type": "markdown",
   "metadata": {},
   "source": [
    "## Removing Some of the data"
   ]
  },
  {
   "cell_type": "code",
   "execution_count": 39,
   "metadata": {
    "ExecuteTime": {
     "end_time": "2024-01-30T20:52:39.355433Z",
     "start_time": "2024-01-30T20:52:39.258046Z"
    }
   },
   "outputs": [],
   "source": [
    "# removing lat lon data\n",
    "# shapes_df.drop(columns=['shape_pt_lat', 'shape_pt_lon'], inplace=True)\n",
    "stops_df.drop(columns=['stop_lat', 'stop_lon'], inplace=True)\n",
    "stop_times_df = stop_times_df[~stop_times_df['arrival_time'].isnull()]"
   ]
  },
  {
   "cell_type": "markdown",
   "metadata": {},
   "source": [
    "## Exploring the data"
   ]
  },
  {
   "cell_type": "code",
   "execution_count": 40,
   "metadata": {
    "ExecuteTime": {
     "end_time": "2024-01-30T20:52:39.826104Z",
     "start_time": "2024-01-30T20:52:39.824285Z"
    }
   },
   "outputs": [],
   "source": [
    "# calendar_dates_df.head()\n",
    "# calendar_df.head()\n",
    "# routes_df[routes_df['route_short_name']=='W']['route_desc'].values"
   ]
  },
  {
   "cell_type": "code",
   "execution_count": 41,
   "metadata": {
    "ExecuteTime": {
     "end_time": "2024-01-30T20:52:40.296240Z",
     "start_time": "2024-01-30T20:52:40.288048Z"
    }
   },
   "outputs": [
    {
     "data": {
      "text/html": [
       "<div>\n",
       "<style scoped>\n",
       "    .dataframe tbody tr th:only-of-type {\n",
       "        vertical-align: middle;\n",
       "    }\n",
       "\n",
       "    .dataframe tbody tr th {\n",
       "        vertical-align: top;\n",
       "    }\n",
       "\n",
       "    .dataframe thead th {\n",
       "        text-align: right;\n",
       "    }\n",
       "</style>\n",
       "<table border=\"1\" class=\"dataframe\">\n",
       "  <thead>\n",
       "    <tr style=\"text-align: right;\">\n",
       "      <th></th>\n",
       "      <th>trip_id</th>\n",
       "      <th>stop_id</th>\n",
       "      <th>arrival_time</th>\n",
       "      <th>departure_time</th>\n",
       "      <th>stop_sequence</th>\n",
       "      <th>day_of_week</th>\n",
       "    </tr>\n",
       "  </thead>\n",
       "  <tbody>\n",
       "    <tr>\n",
       "      <th>0</th>\n",
       "      <td>AFA23GEN-1038-Sunday-00_000600_1..S03R</td>\n",
       "      <td>101S</td>\n",
       "      <td>1900-01-01 00:06:00</td>\n",
       "      <td>1900-01-01 00:06:00</td>\n",
       "      <td>1</td>\n",
       "      <td>Sunday</td>\n",
       "    </tr>\n",
       "    <tr>\n",
       "      <th>1</th>\n",
       "      <td>AFA23GEN-1038-Sunday-00_000600_1..S03R</td>\n",
       "      <td>103S</td>\n",
       "      <td>1900-01-01 00:07:30</td>\n",
       "      <td>1900-01-01 00:07:30</td>\n",
       "      <td>2</td>\n",
       "      <td>Sunday</td>\n",
       "    </tr>\n",
       "  </tbody>\n",
       "</table>\n",
       "</div>"
      ],
      "text/plain": [
       "                                  trip_id stop_id        arrival_time  \\\n",
       "0  AFA23GEN-1038-Sunday-00_000600_1..S03R    101S 1900-01-01 00:06:00   \n",
       "1  AFA23GEN-1038-Sunday-00_000600_1..S03R    103S 1900-01-01 00:07:30   \n",
       "\n",
       "       departure_time  stop_sequence day_of_week  \n",
       "0 1900-01-01 00:06:00              1      Sunday  \n",
       "1 1900-01-01 00:07:30              2      Sunday  "
      ]
     },
     "execution_count": 41,
     "metadata": {},
     "output_type": "execute_result"
    }
   ],
   "source": [
    "# all of the trips\n",
    "stop_times_df.head(2)"
   ]
  },
  {
   "cell_type": "code",
   "execution_count": 42,
   "metadata": {
    "ExecuteTime": {
     "end_time": "2024-01-30T20:52:40.753592Z",
     "start_time": "2024-01-30T20:52:40.746540Z"
    }
   },
   "outputs": [
    {
     "data": {
      "text/html": [
       "<div>\n",
       "<style scoped>\n",
       "    .dataframe tbody tr th:only-of-type {\n",
       "        vertical-align: middle;\n",
       "    }\n",
       "\n",
       "    .dataframe tbody tr th {\n",
       "        vertical-align: top;\n",
       "    }\n",
       "\n",
       "    .dataframe thead th {\n",
       "        text-align: right;\n",
       "    }\n",
       "</style>\n",
       "<table border=\"1\" class=\"dataframe\">\n",
       "  <thead>\n",
       "    <tr style=\"text-align: right;\">\n",
       "      <th></th>\n",
       "      <th>from_stop_id</th>\n",
       "      <th>to_stop_id</th>\n",
       "      <th>transfer_type</th>\n",
       "      <th>min_transfer_time</th>\n",
       "    </tr>\n",
       "  </thead>\n",
       "  <tbody>\n",
       "    <tr>\n",
       "      <th>0</th>\n",
       "      <td>101</td>\n",
       "      <td>101</td>\n",
       "      <td>2</td>\n",
       "      <td>180</td>\n",
       "    </tr>\n",
       "    <tr>\n",
       "      <th>1</th>\n",
       "      <td>103</td>\n",
       "      <td>103</td>\n",
       "      <td>2</td>\n",
       "      <td>180</td>\n",
       "    </tr>\n",
       "  </tbody>\n",
       "</table>\n",
       "</div>"
      ],
      "text/plain": [
       "  from_stop_id to_stop_id  transfer_type  min_transfer_time\n",
       "0          101        101              2                180\n",
       "1          103        103              2                180"
      ]
     },
     "execution_count": 42,
     "metadata": {},
     "output_type": "execute_result"
    }
   ],
   "source": [
    "transfers_df.head(2)"
   ]
  },
  {
   "cell_type": "code",
   "execution_count": 43,
   "metadata": {
    "ExecuteTime": {
     "end_time": "2024-01-30T20:52:41.222937Z",
     "start_time": "2024-01-30T20:52:41.214783Z"
    }
   },
   "outputs": [
    {
     "data": {
      "text/html": [
       "<div>\n",
       "<style scoped>\n",
       "    .dataframe tbody tr th:only-of-type {\n",
       "        vertical-align: middle;\n",
       "    }\n",
       "\n",
       "    .dataframe tbody tr th {\n",
       "        vertical-align: top;\n",
       "    }\n",
       "\n",
       "    .dataframe thead th {\n",
       "        text-align: right;\n",
       "    }\n",
       "</style>\n",
       "<table border=\"1\" class=\"dataframe\">\n",
       "  <thead>\n",
       "    <tr style=\"text-align: right;\">\n",
       "      <th></th>\n",
       "      <th>route_id</th>\n",
       "      <th>trip_id</th>\n",
       "      <th>service_id</th>\n",
       "      <th>trip_headsign</th>\n",
       "      <th>direction_id</th>\n",
       "      <th>shape_id</th>\n",
       "    </tr>\n",
       "  </thead>\n",
       "  <tbody>\n",
       "    <tr>\n",
       "      <th>0</th>\n",
       "      <td>1</td>\n",
       "      <td>AFA23GEN-1038-Sunday-00_000600_1..S03R</td>\n",
       "      <td>Sunday</td>\n",
       "      <td>South Ferry</td>\n",
       "      <td>1</td>\n",
       "      <td>1..S03R</td>\n",
       "    </tr>\n",
       "    <tr>\n",
       "      <th>1</th>\n",
       "      <td>1</td>\n",
       "      <td>AFA23GEN-1038-Sunday-00_002600_1..S03R</td>\n",
       "      <td>Sunday</td>\n",
       "      <td>South Ferry</td>\n",
       "      <td>1</td>\n",
       "      <td>1..S03R</td>\n",
       "    </tr>\n",
       "  </tbody>\n",
       "</table>\n",
       "</div>"
      ],
      "text/plain": [
       "  route_id                                 trip_id service_id trip_headsign  \\\n",
       "0        1  AFA23GEN-1038-Sunday-00_000600_1..S03R     Sunday   South Ferry   \n",
       "1        1  AFA23GEN-1038-Sunday-00_002600_1..S03R     Sunday   South Ferry   \n",
       "\n",
       "   direction_id shape_id  \n",
       "0             1  1..S03R  \n",
       "1             1  1..S03R  "
      ]
     },
     "execution_count": 43,
     "metadata": {},
     "output_type": "execute_result"
    }
   ],
   "source": [
    "# route_id is the short_route_name (Z train is lumped together with the J train for trips ids)\n",
    "trips_df.head(2)"
   ]
  },
  {
   "cell_type": "code",
   "execution_count": 44,
   "metadata": {
    "ExecuteTime": {
     "end_time": "2024-01-30T20:52:41.669340Z",
     "start_time": "2024-01-30T20:52:41.665618Z"
    }
   },
   "outputs": [
    {
     "data": {
      "text/plain": [
       "(20365, 6)"
      ]
     },
     "execution_count": 44,
     "metadata": {},
     "output_type": "execute_result"
    }
   ],
   "source": [
    "trips_df.shape"
   ]
  },
  {
   "cell_type": "code",
   "execution_count": 45,
   "metadata": {
    "ExecuteTime": {
     "end_time": "2024-01-30T20:52:42.122369Z",
     "start_time": "2024-01-30T20:52:42.120603Z"
    }
   },
   "outputs": [],
   "source": [
    "# get the memory usage of each table in KB\n",
    "# for df in all_dfs_list:\n",
    "#     print(f\"{df.memory_usage().sum()/1000}\")\n",
    "# shapes_df and stop_times are the larger tables\n",
    "# I halved the memory usage by removing the lat and lon data in 2 tables"
   ]
  },
  {
   "cell_type": "markdown",
   "metadata": {},
   "source": [
    "## Finding Beginning of Each Route\n",
    "Using Stop Times df"
   ]
  },
  {
   "cell_type": "code",
   "execution_count": 46,
   "metadata": {
    "ExecuteTime": {
     "end_time": "2024-01-30T20:53:10.477283Z",
     "start_time": "2024-01-30T20:53:10.428532Z"
    }
   },
   "outputs": [
    {
     "name": "stderr",
     "output_type": "stream",
     "text": [
      "/Users/gregfeliu/opt/anaconda3/envs/learn-env/lib/python3.6/site-packages/ipykernel_launcher.py:2: SettingWithCopyWarning: \n",
      "A value is trying to be set on a copy of a slice from a DataFrame.\n",
      "Try using .loc[row_indexer,col_indexer] = value instead\n",
      "\n",
      "See the caveats in the documentation: https://pandas.pydata.org/pandas-docs/stable/user_guide/indexing.html#returning-a-view-versus-a-copy\n",
      "  \n"
     ]
    }
   ],
   "source": [
    "first_stop_in_trip = stop_times_df[stop_times_df['stop_sequence']==1]\n",
    "first_stop_in_trip['departure_hour'] = first_stop_in_trip['departure_time'].dt.hour\n",
    "first_stop_in_trip['route_id'] = [x.split(\"_\")[-1].split('.')[0] \n",
    "                                        for x in first_stop_in_trip['trip_id']]\n",
    "first_stop_in_trip['shape_id'] = [x.split(\"_\")[-1] for x in first_stop_in_trip['trip_id']]\n",
    "first_stop_in_trip = first_stop_in_trip[~first_stop_in_trip.arrival_time.isnull()]"
   ]
  },
  {
   "cell_type": "code",
   "execution_count": 47,
   "metadata": {
    "ExecuteTime": {
     "end_time": "2024-01-30T20:53:10.984634Z",
     "start_time": "2024-01-30T20:53:10.973367Z"
    }
   },
   "outputs": [
    {
     "data": {
      "text/html": [
       "<div>\n",
       "<style scoped>\n",
       "    .dataframe tbody tr th:only-of-type {\n",
       "        vertical-align: middle;\n",
       "    }\n",
       "\n",
       "    .dataframe tbody tr th {\n",
       "        vertical-align: top;\n",
       "    }\n",
       "\n",
       "    .dataframe thead th {\n",
       "        text-align: right;\n",
       "    }\n",
       "</style>\n",
       "<table border=\"1\" class=\"dataframe\">\n",
       "  <thead>\n",
       "    <tr style=\"text-align: right;\">\n",
       "      <th></th>\n",
       "      <th>trip_id</th>\n",
       "      <th>stop_id</th>\n",
       "      <th>arrival_time</th>\n",
       "      <th>departure_time</th>\n",
       "      <th>stop_sequence</th>\n",
       "      <th>day_of_week</th>\n",
       "      <th>departure_hour</th>\n",
       "      <th>route_id</th>\n",
       "      <th>shape_id</th>\n",
       "    </tr>\n",
       "  </thead>\n",
       "  <tbody>\n",
       "    <tr>\n",
       "      <th>0</th>\n",
       "      <td>AFA23GEN-1038-Sunday-00_000600_1..S03R</td>\n",
       "      <td>101S</td>\n",
       "      <td>1900-01-01 00:06:00</td>\n",
       "      <td>1900-01-01 00:06:00</td>\n",
       "      <td>1</td>\n",
       "      <td>Sunday</td>\n",
       "      <td>0</td>\n",
       "      <td>1</td>\n",
       "      <td>1..S03R</td>\n",
       "    </tr>\n",
       "    <tr>\n",
       "      <th>38</th>\n",
       "      <td>AFA23GEN-1038-Sunday-00_002600_1..S03R</td>\n",
       "      <td>101S</td>\n",
       "      <td>1900-01-01 00:26:00</td>\n",
       "      <td>1900-01-01 00:26:00</td>\n",
       "      <td>1</td>\n",
       "      <td>Sunday</td>\n",
       "      <td>0</td>\n",
       "      <td>1</td>\n",
       "      <td>1..S03R</td>\n",
       "    </tr>\n",
       "  </tbody>\n",
       "</table>\n",
       "</div>"
      ],
      "text/plain": [
       "                                   trip_id stop_id        arrival_time  \\\n",
       "0   AFA23GEN-1038-Sunday-00_000600_1..S03R    101S 1900-01-01 00:06:00   \n",
       "38  AFA23GEN-1038-Sunday-00_002600_1..S03R    101S 1900-01-01 00:26:00   \n",
       "\n",
       "        departure_time  stop_sequence day_of_week  departure_hour route_id  \\\n",
       "0  1900-01-01 00:06:00              1      Sunday               0        1   \n",
       "38 1900-01-01 00:26:00              1      Sunday               0        1   \n",
       "\n",
       "   shape_id  \n",
       "0   1..S03R  \n",
       "38  1..S03R  "
      ]
     },
     "execution_count": 47,
     "metadata": {},
     "output_type": "execute_result"
    }
   ],
   "source": [
    "# first_stop_in_trip[first_stop_in_trip['shape_id'].isnull()]\n",
    "first_stop_in_trip.head(2)"
   ]
  },
  {
   "cell_type": "code",
   "execution_count": 48,
   "metadata": {
    "ExecuteTime": {
     "end_time": "2024-01-30T20:53:20.557811Z",
     "start_time": "2024-01-30T20:53:20.527956Z"
    },
    "scrolled": true
   },
   "outputs": [],
   "source": [
    "# Making the data be \"per direction\" (closer to how an average person would think interpret this)\n",
    "# the shuttles only have 1 \".\" -- very close to 50:50 (50.6 ~ 49.4)\n",
    "directions = []\n",
    "for x in first_stop_in_trip['shape_id']:\n",
    "    direction = x.split(\".\", 1)[1]\n",
    "    if \"S\" in direction:\n",
    "        directions.append(\"S\")\n",
    "    else:\n",
    "        directions.append(\"N\")\n",
    "first_stop_in_trip['direction'] = directions\n",
    "first_stop_in_trip = first_stop_in_trip[first_stop_in_trip['direction'] == 'S']"
   ]
  },
  {
   "cell_type": "markdown",
   "metadata": {},
   "source": [
    "### By Day"
   ]
  },
  {
   "cell_type": "code",
   "execution_count": 49,
   "metadata": {
    "ExecuteTime": {
     "end_time": "2024-01-30T20:53:34.643777Z",
     "start_time": "2024-01-30T20:53:34.627640Z"
    }
   },
   "outputs": [],
   "source": [
    "first_stop_in_trip_per_day = pd.DataFrame(first_stop_in_trip.groupby(\n",
    "                                                ['route_id', 'day_of_week']\n",
    "                                                ).size() / 24).reset_index()\n",
    "first_stop_in_trip_per_day.columns = ['route_id', 'day_of_week', 'trains_per_hour']\n",
    "first_stop_in_trip_per_day['headway_seconds'] = round(3600 / first_stop_in_trip_per_day['trains_per_hour'])\n",
    "first_stop_in_trip_per_day['headway_minutes'] = round(60 / first_stop_in_trip_per_day['trains_per_hour'], 1)"
   ]
  },
  {
   "cell_type": "markdown",
   "metadata": {},
   "source": [
    "### By Hour"
   ]
  },
  {
   "cell_type": "code",
   "execution_count": 50,
   "metadata": {
    "ExecuteTime": {
     "end_time": "2024-01-30T20:53:36.704060Z",
     "start_time": "2024-01-30T20:53:36.691455Z"
    }
   },
   "outputs": [],
   "source": [
    "# freq by hour for all routes and all days on schedule \n",
    "route_trip_freq_by_hour = first_stop_in_trip.groupby(['route_id', 'day_of_week', 'departure_hour']).sum()"
   ]
  },
  {
   "cell_type": "code",
   "execution_count": 51,
   "metadata": {
    "ExecuteTime": {
     "end_time": "2024-01-30T20:53:37.359410Z",
     "start_time": "2024-01-30T20:53:37.352790Z"
    }
   },
   "outputs": [],
   "source": [
    "route_trip_freq_by_hour.columns = ['trains_per_hour']\n",
    "route_trip_freq_by_hour['headway_seconds'] = round(3600 / route_trip_freq_by_hour['trains_per_hour'])\n",
    "route_trip_freq_by_hour['headway_minutes'] = round(60 / route_trip_freq_by_hour['trains_per_hour'], 1)"
   ]
  },
  {
   "cell_type": "markdown",
   "metadata": {},
   "source": [
    "### Overall"
   ]
  },
  {
   "cell_type": "code",
   "execution_count": 290,
   "metadata": {
    "ExecuteTime": {
     "end_time": "2024-01-30T22:26:27.866361Z",
     "start_time": "2024-01-30T22:26:27.855092Z"
    }
   },
   "outputs": [],
   "source": [
    "# avg daily freq all routes \n",
    "route_trip_freq_overall_by_hour = route_trip_freq_by_hour['trains_per_hour'].unstack(level=1)\n",
    "route_trip_freq_overall_by_hour.fillna(value=0, inplace=True) # needed b/c there's no weekend B trains\n",
    "route_trip_freq_overall_by_hour['Weekday_Adjusted'] = round(route_trip_freq_overall_by_hour['Weekday'] * 5, 2)\n",
    "route_trip_freq_overall_by_hour['Hourly_tph'] = route_trip_freq_overall_by_hour['Weekday_Adjusted'] + \\\n",
    "                                                route_trip_freq_overall_by_hour['Saturday'] + \\\n",
    "                                                route_trip_freq_overall_by_hour['Sunday']"
   ]
  },
  {
   "cell_type": "code",
   "execution_count": 292,
   "metadata": {
    "ExecuteTime": {
     "end_time": "2024-01-30T22:26:37.174975Z",
     "start_time": "2024-01-30T22:26:37.166536Z"
    }
   },
   "outputs": [],
   "source": [
    "route_trip_freq_overall_by_day = round(route_trip_freq_overall_by_hour.groupby(['route_id']).sum() / 24, 2)\n",
    "route_trip_freq_overall_by_day.columns = ['Saturday', 'Sunday', 'Weekday'\n",
    "                                          , 'Weekday_Adjusted', 'Total_trains_per_day']\n",
    "route_trip_freq_overall_by_day['Trains_per_Hour_Overall'] = round(route_trip_freq_overall_by_day \\\n",
    "                                                                  ['Total_trains_per_day'] / 7, 1)\n",
    "# the wait time is half of the mean time between trains\n",
    "route_trip_freq_overall_by_day['headway_minutes'] = round(60 / \\\n",
    "                                                    route_trip_freq_overall_by_day['Trains_per_Hour_Overall'], 1)"
   ]
  },
  {
   "cell_type": "code",
   "execution_count": 294,
   "metadata": {
    "ExecuteTime": {
     "end_time": "2024-01-30T22:26:52.174495Z",
     "start_time": "2024-01-30T22:26:52.171923Z"
    },
    "scrolled": true
   },
   "outputs": [],
   "source": [
    "# route_trip_freq_overall_by_day.sort_values(by='Trains_per_Hour_Overall')"
   ]
  },
  {
   "cell_type": "markdown",
   "metadata": {},
   "source": [
    "### By Train Time Interval"
   ]
  },
  {
   "cell_type": "code",
   "execution_count": 55,
   "metadata": {
    "ExecuteTime": {
     "end_time": "2024-01-30T20:53:57.946364Z",
     "start_time": "2024-01-30T20:53:56.922505Z"
    }
   },
   "outputs": [],
   "source": [
    "train_time_interval_list = []\n",
    "for idx, row in first_stop_in_trip.iterrows():\n",
    "    train_time_interval = determine_train_time_intervals(row['arrival_time'], row['day_of_week'])\n",
    "    train_time_interval_list.append(train_time_interval)\n",
    "first_stop_in_trip['train_time_interval'] = train_time_interval_list"
   ]
  },
  {
   "cell_type": "code",
   "execution_count": 56,
   "metadata": {
    "ExecuteTime": {
     "end_time": "2024-01-30T20:54:09.044241Z",
     "start_time": "2024-01-30T20:54:09.009239Z"
    }
   },
   "outputs": [],
   "source": [
    "first_stop_in_trip_per_interval = pd.DataFrame(first_stop_in_trip.groupby(\n",
    "                                                ['route_id', 'train_time_interval']\n",
    "                                                ).size()).reset_index()\n",
    "first_stop_in_trip_per_interval.columns = ['route_id', 'train_time_interval', 'trains_per_hour']\n",
    "first_stop_in_trip_per_interval = scale_time_intervals_to_hour(first_stop_in_trip_per_interval)\n",
    "first_stop_in_trip_per_interval['headway_seconds'] = round(3600 / first_stop_in_trip_per_interval['trains_per_hour'])\n",
    "first_stop_in_trip_per_interval['headway_minutes'] = round(60 / first_stop_in_trip_per_interval['trains_per_hour'], 1)"
   ]
  },
  {
   "cell_type": "markdown",
   "metadata": {},
   "source": [
    "### Data Viz"
   ]
  },
  {
   "cell_type": "code",
   "execution_count": 59,
   "metadata": {
    "ExecuteTime": {
     "end_time": "2024-01-30T20:54:30.707287Z",
     "start_time": "2024-01-30T20:54:30.692377Z"
    }
   },
   "outputs": [
    {
     "data": {
      "text/html": [
       "<div>\n",
       "<style scoped>\n",
       "    .dataframe tbody tr th:only-of-type {\n",
       "        vertical-align: middle;\n",
       "    }\n",
       "\n",
       "    .dataframe tbody tr th {\n",
       "        vertical-align: top;\n",
       "    }\n",
       "\n",
       "    .dataframe thead th {\n",
       "        text-align: right;\n",
       "    }\n",
       "</style>\n",
       "<table border=\"1\" class=\"dataframe\">\n",
       "  <thead>\n",
       "    <tr style=\"text-align: right;\">\n",
       "      <th></th>\n",
       "      <th>route_id</th>\n",
       "      <th>day_of_week</th>\n",
       "      <th>trains_per_hour</th>\n",
       "      <th>headway_seconds</th>\n",
       "      <th>headway_minutes</th>\n",
       "    </tr>\n",
       "  </thead>\n",
       "  <tbody>\n",
       "    <tr>\n",
       "      <th>15</th>\n",
       "      <td>6</td>\n",
       "      <td>Saturday</td>\n",
       "      <td>7.291667</td>\n",
       "      <td>494.0</td>\n",
       "      <td>8.2</td>\n",
       "    </tr>\n",
       "    <tr>\n",
       "      <th>16</th>\n",
       "      <td>6</td>\n",
       "      <td>Sunday</td>\n",
       "      <td>6.416667</td>\n",
       "      <td>561.0</td>\n",
       "      <td>9.4</td>\n",
       "    </tr>\n",
       "    <tr>\n",
       "      <th>17</th>\n",
       "      <td>6</td>\n",
       "      <td>Weekday</td>\n",
       "      <td>11.500000</td>\n",
       "      <td>313.0</td>\n",
       "      <td>5.2</td>\n",
       "    </tr>\n",
       "    <tr>\n",
       "      <th>18</th>\n",
       "      <td>7</td>\n",
       "      <td>Saturday</td>\n",
       "      <td>9.375000</td>\n",
       "      <td>384.0</td>\n",
       "      <td>6.4</td>\n",
       "    </tr>\n",
       "    <tr>\n",
       "      <th>19</th>\n",
       "      <td>7</td>\n",
       "      <td>Sunday</td>\n",
       "      <td>7.541667</td>\n",
       "      <td>477.0</td>\n",
       "      <td>8.0</td>\n",
       "    </tr>\n",
       "    <tr>\n",
       "      <th>20</th>\n",
       "      <td>7</td>\n",
       "      <td>Weekday</td>\n",
       "      <td>13.375000</td>\n",
       "      <td>269.0</td>\n",
       "      <td>4.5</td>\n",
       "    </tr>\n",
       "    <tr>\n",
       "      <th>52</th>\n",
       "      <td>L</td>\n",
       "      <td>Saturday</td>\n",
       "      <td>10.375000</td>\n",
       "      <td>347.0</td>\n",
       "      <td>5.8</td>\n",
       "    </tr>\n",
       "    <tr>\n",
       "      <th>53</th>\n",
       "      <td>L</td>\n",
       "      <td>Sunday</td>\n",
       "      <td>9.291667</td>\n",
       "      <td>387.0</td>\n",
       "      <td>6.5</td>\n",
       "    </tr>\n",
       "    <tr>\n",
       "      <th>54</th>\n",
       "      <td>L</td>\n",
       "      <td>Weekday</td>\n",
       "      <td>11.375000</td>\n",
       "      <td>316.0</td>\n",
       "      <td>5.3</td>\n",
       "    </tr>\n",
       "  </tbody>\n",
       "</table>\n",
       "</div>"
      ],
      "text/plain": [
       "   route_id day_of_week  trains_per_hour  headway_seconds  headway_minutes\n",
       "15        6    Saturday         7.291667            494.0              8.2\n",
       "16        6      Sunday         6.416667            561.0              9.4\n",
       "17        6     Weekday        11.500000            313.0              5.2\n",
       "18        7    Saturday         9.375000            384.0              6.4\n",
       "19        7      Sunday         7.541667            477.0              8.0\n",
       "20        7     Weekday        13.375000            269.0              4.5\n",
       "52        L    Saturday        10.375000            347.0              5.8\n",
       "53        L      Sunday         9.291667            387.0              6.5\n",
       "54        L     Weekday        11.375000            316.0              5.3"
      ]
     },
     "execution_count": 59,
     "metadata": {},
     "output_type": "execute_result"
    }
   ],
   "source": [
    "# I wasn't too far off when I said \"the L on it's worse day is better than the G on it's best day\"\n",
    "# first_stop_in_trip_per_day[first_stop_in_trip_per_day['route_id'].isin(['L', 'G'])]\n",
    "first_stop_in_trip_per_day[first_stop_in_trip_per_day['route_id'].isin(['L', '7', '6'])]"
   ]
  },
  {
   "cell_type": "markdown",
   "metadata": {},
   "source": [
    "What's the ratio between weekday service and sunday service? AKA, how much do the trains vary by day of week?"
   ]
  },
  {
   "cell_type": "markdown",
   "metadata": {},
   "source": [
    "##### Viewing the Data Visually"
   ]
  },
  {
   "cell_type": "code",
   "execution_count": 62,
   "metadata": {
    "ExecuteTime": {
     "end_time": "2024-01-30T17:40:38.829729Z",
     "start_time": "2024-01-30T17:40:38.823834Z"
    }
   },
   "outputs": [],
   "source": [
    "# getting the order of best performers (on weekday performance)\n",
    "sorted_routes = first_stop_in_trip_per_day[first_stop_in_trip_per_day\n",
    "                                 ['day_of_week']=='Weekday'].sort_values(by='trains_per_hour')['route_id'].values"
   ]
  },
  {
   "cell_type": "code",
   "execution_count": 63,
   "metadata": {
    "ExecuteTime": {
     "end_time": "2024-01-30T17:40:39.996915Z",
     "start_time": "2024-01-30T17:40:39.322689Z"
    }
   },
   "outputs": [
    {
     "data": {
      "text/plain": [
       "<AxesSubplot:xlabel='route_id', ylabel='headway_minutes'>"
      ]
     },
     "execution_count": 63,
     "metadata": {},
     "output_type": "execute_result"
    },
    {
     "data": {
      "image/png": "[encoded data removed]",
      "text/plain": [
       "<Figure size 432x288 with 1 Axes>"
      ]
     },
     "metadata": {
      "needs_background": "light"
     },
     "output_type": "display_data"
    }
   ],
   "source": [
    "sns.barplot(data=first_stop_in_trip_per_day, x='route_id'\n",
    "           , y='headway_minutes', hue='day_of_week', order=sorted_routes)"
   ]
  },
  {
   "cell_type": "markdown",
   "metadata": {
    "heading_collapsed": true
   },
   "source": [
    "### Manipulating stop_times using shape_id"
   ]
  },
  {
   "cell_type": "code",
   "execution_count": 428,
   "metadata": {
    "ExecuteTime": {
     "end_time": "2024-01-07T14:41:57.352954Z",
     "start_time": "2024-01-07T14:41:57.349255Z"
    },
    "hidden": true
   },
   "outputs": [],
   "source": [
    "# select the min and max stop number for each route \n",
    "# max stop sequence for each trip \n",
    "# stop_times_df['trip_id'].nunique()"
   ]
  },
  {
   "cell_type": "code",
   "execution_count": 429,
   "metadata": {
    "ExecuteTime": {
     "end_time": "2024-01-07T14:42:04.095811Z",
     "start_time": "2024-01-07T14:42:04.093110Z"
    },
    "hidden": true
   },
   "outputs": [],
   "source": [
    "# unique_trips_w_stop_seq = pd.DataFrame(stop_times_df.groupby('trip_id').max()['stop_sequence'].reset_index())\n",
    "# unique_trips_w_stop_seq['route_id'] = [x.split(\"_\")[-1].split('.')[0] for x in unique_trips_w_stop_seq['trip_id']]\n",
    "# unique_trips_w_stop_seq['shape_id'] = [x.split(\"_\")[-1] for x in unique_trips_w_stop_seq['trip_id']]\n",
    "# unique_trips_w_stop_seq.head()"
   ]
  },
  {
   "cell_type": "code",
   "execution_count": 430,
   "metadata": {
    "ExecuteTime": {
     "end_time": "2024-01-07T14:42:08.790659Z",
     "start_time": "2024-01-07T14:42:08.787895Z"
    },
    "hidden": true
   },
   "outputs": [],
   "source": [
    "# route_trip_max_stop = unique_trips_w_stop_seq.groupby(['shape_id']).max().reset_index()"
   ]
  },
  {
   "cell_type": "markdown",
   "metadata": {},
   "source": [
    "### Can I deconstruct the trip_id?"
   ]
  },
  {
   "cell_type": "code",
   "execution_count": 431,
   "metadata": {
    "ExecuteTime": {
     "end_time": "2024-01-07T14:42:12.736669Z",
     "start_time": "2024-01-07T14:42:12.733864Z"
    }
   },
   "outputs": [],
   "source": [
    "# route_trip_max_stop['trip_id'].str.count(\"_\").unique()\n",
    "# route_trip_max_stop['trip_id'].str.count(\"-\").unique() # only SIR has 4 dashes"
   ]
  },
  {
   "cell_type": "code",
   "execution_count": 432,
   "metadata": {
    "ExecuteTime": {
     "end_time": "2024-01-07T14:42:15.470737Z",
     "start_time": "2024-01-07T14:42:15.467799Z"
    },
    "scrolled": true
   },
   "outputs": [],
   "source": [
    "# all_first_values = [] # I think this has to do with the train set (A div or B div)\n",
    "# all_second_values = [] # I think this has something to do with the (long) route id\n",
    "# for trip in route_trip_max_stop['trip_id']:\n",
    "#     values_list = trip.split(\"-\")\n",
    "#     if values_list[0] not in all_first_values:\n",
    "#         all_first_values.append(values_list[0])\n",
    "#     if values_list[1] not in all_second_values:\n",
    "#         all_second_values.append(values_list[1])"
   ]
  },
  {
   "cell_type": "markdown",
   "metadata": {},
   "source": [
    "### Finding mean trip time by service "
   ]
  },
  {
   "cell_type": "code",
   "execution_count": 187,
   "metadata": {
    "ExecuteTime": {
     "end_time": "2024-01-30T21:41:44.467477Z",
     "start_time": "2024-01-30T21:41:42.837246Z"
    }
   },
   "outputs": [
    {
     "data": {
      "text/plain": [
       "Timedelta('0 days 01:25:06.256322121')"
      ]
     },
     "execution_count": 187,
     "metadata": {},
     "output_type": "execute_result"
    }
   ],
   "source": [
    "# no trip is longer than 2 hours so I'll drop anything larger than that (the late night trains fuck up the timing)\n",
    "trip_time_diff = stop_times_df.groupby('trip_id')['departure_time'].agg(np.ptp)\n",
    "trip_time_diff.mean()"
   ]
  },
  {
   "cell_type": "code",
   "execution_count": 206,
   "metadata": {
    "ExecuteTime": {
     "end_time": "2024-01-30T21:44:39.514468Z",
     "start_time": "2024-01-30T21:44:39.506964Z"
    }
   },
   "outputs": [],
   "source": [
    "# 97.6% of all trips\n",
    "valid_trip_times = pd.DataFrame(trip_time_diff[trip_time_diff.values<pd.Timedelta('0 days 02:00:00')]).reset_index()\n",
    "\n",
    "valid_trip_times['route_id'] = [x.split(\"_\")[-1].split('.')[0] \n",
    "                                        for x in valid_trip_times['trip_id']]"
   ]
  },
  {
   "cell_type": "code",
   "execution_count": 253,
   "metadata": {
    "ExecuteTime": {
     "end_time": "2024-01-30T22:08:53.298286Z",
     "start_time": "2024-01-30T22:08:53.296013Z"
    }
   },
   "outputs": [],
   "source": [
    "# the F and the A have the longest trip times\n",
    "# valid_trip_times.sort_values(by='departure_time', ascending=False)[0:6]\n",
    "# the longest trip\n",
    "# stop_times_df[stop_times_df['trip_id']=='L0S1-F-1077-S04_065800_F..S53X012']"
   ]
  },
  {
   "cell_type": "code",
   "execution_count": 242,
   "metadata": {
    "ExecuteTime": {
     "end_time": "2024-01-30T21:59:26.963789Z",
     "start_time": "2024-01-30T21:59:26.942517Z"
    }
   },
   "outputs": [],
   "source": [
    "avg_trip_time = pd.DataFrame(valid_trip_times.groupby('route_id').mean(numeric_only=False)).reset_index()\n",
    "avg_trip_time['route_time_seconds'] = [round(x.total_seconds()) for x in avg_trip_time['departure_time']]\n",
    "avg_trip_time['route_time_minutes'] = [round(x / 60, 1) for x in avg_trip_time['route_time_seconds']]"
   ]
  },
  {
   "cell_type": "code",
   "execution_count": 249,
   "metadata": {
    "ExecuteTime": {
     "end_time": "2024-01-30T22:06:29.296582Z",
     "start_time": "2024-01-30T22:06:29.291711Z"
    }
   },
   "outputs": [],
   "source": [
    "avg_trip_time_final = avg_trip_time.drop(columns='departure_time')"
   ]
  },
  {
   "cell_type": "markdown",
   "metadata": {},
   "source": [
    "#### Adding to Daily Frequency Table "
   ]
  },
  {
   "cell_type": "code",
   "execution_count": 271,
   "metadata": {
    "ExecuteTime": {
     "end_time": "2024-01-30T22:17:52.538953Z",
     "start_time": "2024-01-30T22:17:52.531447Z"
    }
   },
   "outputs": [],
   "source": [
    "daily_route_trip_freq = route_trip_freq_overall_by_day.merge(avg_trip_time_final, on='route_id')"
   ]
  },
  {
   "cell_type": "code",
   "execution_count": 277,
   "metadata": {
    "ExecuteTime": {
     "end_time": "2024-01-30T22:23:47.625594Z",
     "start_time": "2024-01-30T22:23:47.621299Z"
    }
   },
   "outputs": [],
   "source": [
    "daily_route_trip_freq['Avg_num_trains_running'] = round((daily_route_trip_freq['route_time_minutes'] / 60) * \\\n",
    "                                        daily_route_trip_freq['Trains_per_Hour_Overall'], 1)"
   ]
  },
  {
   "cell_type": "code",
   "execution_count": 278,
   "metadata": {
    "ExecuteTime": {
     "end_time": "2024-01-30T22:23:49.017673Z",
     "start_time": "2024-01-30T22:23:48.999790Z"
    }
   },
   "outputs": [
    {
     "data": {
      "text/html": [
       "<div>\n",
       "<style scoped>\n",
       "    .dataframe tbody tr th:only-of-type {\n",
       "        vertical-align: middle;\n",
       "    }\n",
       "\n",
       "    .dataframe tbody tr th {\n",
       "        vertical-align: top;\n",
       "    }\n",
       "\n",
       "    .dataframe thead th {\n",
       "        text-align: right;\n",
       "    }\n",
       "</style>\n",
       "<table border=\"1\" class=\"dataframe\">\n",
       "  <thead>\n",
       "    <tr style=\"text-align: right;\">\n",
       "      <th></th>\n",
       "      <th>route_id</th>\n",
       "      <th>Saturday</th>\n",
       "      <th>Sunday</th>\n",
       "      <th>Weekday</th>\n",
       "      <th>Weekday_Adjusted</th>\n",
       "      <th>Total_trains_per_day</th>\n",
       "      <th>Trains_per_Hour_Overall</th>\n",
       "      <th>headway_minutes</th>\n",
       "      <th>route_time_seconds</th>\n",
       "      <th>route_time_minutes</th>\n",
       "      <th>Avg_num_trains_running</th>\n",
       "    </tr>\n",
       "  </thead>\n",
       "  <tbody>\n",
       "    <tr>\n",
       "      <th>0</th>\n",
       "      <td>1</td>\n",
       "      <td>7.750000</td>\n",
       "      <td>6.416667</td>\n",
       "      <td>9.625000</td>\n",
       "      <td>48.125000</td>\n",
       "      <td>62.291667</td>\n",
       "      <td>8.9</td>\n",
       "      <td>6.7</td>\n",
       "      <td>3408</td>\n",
       "      <td>56.8</td>\n",
       "      <td>8.4</td>\n",
       "    </tr>\n",
       "    <tr>\n",
       "      <th>1</th>\n",
       "      <td>2</td>\n",
       "      <td>5.791667</td>\n",
       "      <td>5.125000</td>\n",
       "      <td>6.750000</td>\n",
       "      <td>33.750000</td>\n",
       "      <td>44.666667</td>\n",
       "      <td>6.4</td>\n",
       "      <td>9.4</td>\n",
       "      <td>5744</td>\n",
       "      <td>95.7</td>\n",
       "      <td>10.2</td>\n",
       "    </tr>\n",
       "    <tr>\n",
       "      <th>2</th>\n",
       "      <td>3</td>\n",
       "      <td>4.458333</td>\n",
       "      <td>4.250000</td>\n",
       "      <td>6.333333</td>\n",
       "      <td>31.666667</td>\n",
       "      <td>40.375000</td>\n",
       "      <td>5.8</td>\n",
       "      <td>10.3</td>\n",
       "      <td>3461</td>\n",
       "      <td>57.7</td>\n",
       "      <td>5.6</td>\n",
       "    </tr>\n",
       "    <tr>\n",
       "      <th>3</th>\n",
       "      <td>4</td>\n",
       "      <td>5.875000</td>\n",
       "      <td>5.250000</td>\n",
       "      <td>7.708333</td>\n",
       "      <td>38.541667</td>\n",
       "      <td>49.666667</td>\n",
       "      <td>7.1</td>\n",
       "      <td>8.5</td>\n",
       "      <td>4141</td>\n",
       "      <td>69.0</td>\n",
       "      <td>8.2</td>\n",
       "    </tr>\n",
       "    <tr>\n",
       "      <th>4</th>\n",
       "      <td>5</td>\n",
       "      <td>4.500000</td>\n",
       "      <td>4.291667</td>\n",
       "      <td>6.875000</td>\n",
       "      <td>34.375000</td>\n",
       "      <td>43.166667</td>\n",
       "      <td>6.2</td>\n",
       "      <td>9.7</td>\n",
       "      <td>3317</td>\n",
       "      <td>55.3</td>\n",
       "      <td>5.7</td>\n",
       "    </tr>\n",
       "    <tr>\n",
       "      <th>5</th>\n",
       "      <td>6</td>\n",
       "      <td>7.291667</td>\n",
       "      <td>6.416667</td>\n",
       "      <td>11.500000</td>\n",
       "      <td>57.500000</td>\n",
       "      <td>71.208333</td>\n",
       "      <td>10.2</td>\n",
       "      <td>5.9</td>\n",
       "      <td>3445</td>\n",
       "      <td>57.4</td>\n",
       "      <td>9.8</td>\n",
       "    </tr>\n",
       "    <tr>\n",
       "      <th>6</th>\n",
       "      <td>7</td>\n",
       "      <td>9.375000</td>\n",
       "      <td>7.541667</td>\n",
       "      <td>13.375000</td>\n",
       "      <td>66.875000</td>\n",
       "      <td>83.791667</td>\n",
       "      <td>12.0</td>\n",
       "      <td>5.0</td>\n",
       "      <td>2245</td>\n",
       "      <td>37.4</td>\n",
       "      <td>7.5</td>\n",
       "    </tr>\n",
       "    <tr>\n",
       "      <th>7</th>\n",
       "      <td>A</td>\n",
       "      <td>6.000000</td>\n",
       "      <td>5.791667</td>\n",
       "      <td>7.875000</td>\n",
       "      <td>39.375000</td>\n",
       "      <td>51.166667</td>\n",
       "      <td>7.3</td>\n",
       "      <td>8.2</td>\n",
       "      <td>4850</td>\n",
       "      <td>80.8</td>\n",
       "      <td>9.8</td>\n",
       "    </tr>\n",
       "    <tr>\n",
       "      <th>8</th>\n",
       "      <td>B</td>\n",
       "      <td>0.000000</td>\n",
       "      <td>0.000000</td>\n",
       "      <td>4.083333</td>\n",
       "      <td>20.416667</td>\n",
       "      <td>20.416667</td>\n",
       "      <td>2.9</td>\n",
       "      <td>20.7</td>\n",
       "      <td>4303</td>\n",
       "      <td>71.7</td>\n",
       "      <td>3.5</td>\n",
       "    </tr>\n",
       "    <tr>\n",
       "      <th>9</th>\n",
       "      <td>C</td>\n",
       "      <td>3.375000</td>\n",
       "      <td>3.125000</td>\n",
       "      <td>4.625000</td>\n",
       "      <td>23.125000</td>\n",
       "      <td>29.625000</td>\n",
       "      <td>4.2</td>\n",
       "      <td>14.3</td>\n",
       "      <td>4079</td>\n",
       "      <td>68.0</td>\n",
       "      <td>4.8</td>\n",
       "    </tr>\n",
       "    <tr>\n",
       "      <th>10</th>\n",
       "      <td>D</td>\n",
       "      <td>4.500000</td>\n",
       "      <td>4.500000</td>\n",
       "      <td>5.708333</td>\n",
       "      <td>28.541667</td>\n",
       "      <td>37.541667</td>\n",
       "      <td>5.4</td>\n",
       "      <td>11.1</td>\n",
       "      <td>5598</td>\n",
       "      <td>93.3</td>\n",
       "      <td>8.4</td>\n",
       "    </tr>\n",
       "    <tr>\n",
       "      <th>11</th>\n",
       "      <td>E</td>\n",
       "      <td>4.500000</td>\n",
       "      <td>4.250000</td>\n",
       "      <td>8.333333</td>\n",
       "      <td>41.666667</td>\n",
       "      <td>50.416667</td>\n",
       "      <td>7.2</td>\n",
       "      <td>8.3</td>\n",
       "      <td>3248</td>\n",
       "      <td>54.1</td>\n",
       "      <td>6.5</td>\n",
       "    </tr>\n",
       "    <tr>\n",
       "      <th>12</th>\n",
       "      <td>F</td>\n",
       "      <td>6.583333</td>\n",
       "      <td>6.583333</td>\n",
       "      <td>10.500000</td>\n",
       "      <td>52.500000</td>\n",
       "      <td>65.666667</td>\n",
       "      <td>9.4</td>\n",
       "      <td>6.4</td>\n",
       "      <td>4148</td>\n",
       "      <td>69.1</td>\n",
       "      <td>10.8</td>\n",
       "    </tr>\n",
       "    <tr>\n",
       "      <th>13</th>\n",
       "      <td>FS</td>\n",
       "      <td>4.708333</td>\n",
       "      <td>4.125000</td>\n",
       "      <td>4.916667</td>\n",
       "      <td>24.583333</td>\n",
       "      <td>33.416667</td>\n",
       "      <td>4.8</td>\n",
       "      <td>12.5</td>\n",
       "      <td>405</td>\n",
       "      <td>6.8</td>\n",
       "      <td>0.5</td>\n",
       "    </tr>\n",
       "    <tr>\n",
       "      <th>14</th>\n",
       "      <td>G</td>\n",
       "      <td>5.583333</td>\n",
       "      <td>5.166667</td>\n",
       "      <td>6.208333</td>\n",
       "      <td>31.041667</td>\n",
       "      <td>41.791667</td>\n",
       "      <td>6.0</td>\n",
       "      <td>10.0</td>\n",
       "      <td>2086</td>\n",
       "      <td>34.8</td>\n",
       "      <td>3.5</td>\n",
       "    </tr>\n",
       "    <tr>\n",
       "      <th>15</th>\n",
       "      <td>GS</td>\n",
       "      <td>7.666667</td>\n",
       "      <td>6.541667</td>\n",
       "      <td>10.583333</td>\n",
       "      <td>52.916667</td>\n",
       "      <td>67.125000</td>\n",
       "      <td>9.6</td>\n",
       "      <td>6.2</td>\n",
       "      <td>90</td>\n",
       "      <td>1.5</td>\n",
       "      <td>0.2</td>\n",
       "    </tr>\n",
       "    <tr>\n",
       "      <th>16</th>\n",
       "      <td>H</td>\n",
       "      <td>3.458333</td>\n",
       "      <td>3.041667</td>\n",
       "      <td>3.500000</td>\n",
       "      <td>17.500000</td>\n",
       "      <td>24.000000</td>\n",
       "      <td>3.4</td>\n",
       "      <td>17.6</td>\n",
       "      <td>602</td>\n",
       "      <td>10.0</td>\n",
       "      <td>0.6</td>\n",
       "    </tr>\n",
       "    <tr>\n",
       "      <th>17</th>\n",
       "      <td>J</td>\n",
       "      <td>5.416667</td>\n",
       "      <td>4.833333</td>\n",
       "      <td>5.750000</td>\n",
       "      <td>28.750000</td>\n",
       "      <td>39.000000</td>\n",
       "      <td>5.6</td>\n",
       "      <td>10.7</td>\n",
       "      <td>3195</td>\n",
       "      <td>53.2</td>\n",
       "      <td>5.0</td>\n",
       "    </tr>\n",
       "    <tr>\n",
       "      <th>18</th>\n",
       "      <td>L</td>\n",
       "      <td>10.375000</td>\n",
       "      <td>9.291667</td>\n",
       "      <td>11.375000</td>\n",
       "      <td>56.875000</td>\n",
       "      <td>76.541667</td>\n",
       "      <td>10.9</td>\n",
       "      <td>5.5</td>\n",
       "      <td>2235</td>\n",
       "      <td>37.2</td>\n",
       "      <td>6.8</td>\n",
       "    </tr>\n",
       "    <tr>\n",
       "      <th>19</th>\n",
       "      <td>M</td>\n",
       "      <td>5.708333</td>\n",
       "      <td>4.833333</td>\n",
       "      <td>5.250000</td>\n",
       "      <td>26.250000</td>\n",
       "      <td>36.791667</td>\n",
       "      <td>5.3</td>\n",
       "      <td>11.3</td>\n",
       "      <td>1701</td>\n",
       "      <td>28.4</td>\n",
       "      <td>2.5</td>\n",
       "    </tr>\n",
       "    <tr>\n",
       "      <th>20</th>\n",
       "      <td>N</td>\n",
       "      <td>4.500000</td>\n",
       "      <td>4.500000</td>\n",
       "      <td>9.833333</td>\n",
       "      <td>49.166667</td>\n",
       "      <td>58.166667</td>\n",
       "      <td>8.3</td>\n",
       "      <td>7.2</td>\n",
       "      <td>4186</td>\n",
       "      <td>69.8</td>\n",
       "      <td>9.7</td>\n",
       "    </tr>\n",
       "    <tr>\n",
       "      <th>21</th>\n",
       "      <td>Q</td>\n",
       "      <td>5.833333</td>\n",
       "      <td>5.500000</td>\n",
       "      <td>6.583333</td>\n",
       "      <td>32.916667</td>\n",
       "      <td>44.250000</td>\n",
       "      <td>6.3</td>\n",
       "      <td>9.5</td>\n",
       "      <td>3847</td>\n",
       "      <td>64.1</td>\n",
       "      <td>6.7</td>\n",
       "    </tr>\n",
       "    <tr>\n",
       "      <th>22</th>\n",
       "      <td>R</td>\n",
       "      <td>4.500000</td>\n",
       "      <td>4.500000</td>\n",
       "      <td>6.375000</td>\n",
       "      <td>31.875000</td>\n",
       "      <td>40.875000</td>\n",
       "      <td>5.8</td>\n",
       "      <td>10.3</td>\n",
       "      <td>4727</td>\n",
       "      <td>78.8</td>\n",
       "      <td>7.6</td>\n",
       "    </tr>\n",
       "    <tr>\n",
       "      <th>23</th>\n",
       "      <td>SI</td>\n",
       "      <td>2.000000</td>\n",
       "      <td>2.000000</td>\n",
       "      <td>3.250000</td>\n",
       "      <td>16.250000</td>\n",
       "      <td>20.250000</td>\n",
       "      <td>2.9</td>\n",
       "      <td>20.7</td>\n",
       "      <td>2418</td>\n",
       "      <td>40.3</td>\n",
       "      <td>1.9</td>\n",
       "    </tr>\n",
       "  </tbody>\n",
       "</table>\n",
       "</div>"
      ],
      "text/plain": [
       "   route_id   Saturday    Sunday    Weekday  Weekday_Adjusted  \\\n",
       "0         1   7.750000  6.416667   9.625000         48.125000   \n",
       "1         2   5.791667  5.125000   6.750000         33.750000   \n",
       "2         3   4.458333  4.250000   6.333333         31.666667   \n",
       "3         4   5.875000  5.250000   7.708333         38.541667   \n",
       "4         5   4.500000  4.291667   6.875000         34.375000   \n",
       "5         6   7.291667  6.416667  11.500000         57.500000   \n",
       "6         7   9.375000  7.541667  13.375000         66.875000   \n",
       "7         A   6.000000  5.791667   7.875000         39.375000   \n",
       "8         B   0.000000  0.000000   4.083333         20.416667   \n",
       "9         C   3.375000  3.125000   4.625000         23.125000   \n",
       "10        D   4.500000  4.500000   5.708333         28.541667   \n",
       "11        E   4.500000  4.250000   8.333333         41.666667   \n",
       "12        F   6.583333  6.583333  10.500000         52.500000   \n",
       "13       FS   4.708333  4.125000   4.916667         24.583333   \n",
       "14        G   5.583333  5.166667   6.208333         31.041667   \n",
       "15       GS   7.666667  6.541667  10.583333         52.916667   \n",
       "16        H   3.458333  3.041667   3.500000         17.500000   \n",
       "17        J   5.416667  4.833333   5.750000         28.750000   \n",
       "18        L  10.375000  9.291667  11.375000         56.875000   \n",
       "19        M   5.708333  4.833333   5.250000         26.250000   \n",
       "20        N   4.500000  4.500000   9.833333         49.166667   \n",
       "21        Q   5.833333  5.500000   6.583333         32.916667   \n",
       "22        R   4.500000  4.500000   6.375000         31.875000   \n",
       "23       SI   2.000000  2.000000   3.250000         16.250000   \n",
       "\n",
       "    Total_trains_per_day  Trains_per_Hour_Overall  headway_minutes  \\\n",
       "0              62.291667                      8.9              6.7   \n",
       "1              44.666667                      6.4              9.4   \n",
       "2              40.375000                      5.8             10.3   \n",
       "3              49.666667                      7.1              8.5   \n",
       "4              43.166667                      6.2              9.7   \n",
       "5              71.208333                     10.2              5.9   \n",
       "6              83.791667                     12.0              5.0   \n",
       "7              51.166667                      7.3              8.2   \n",
       "8              20.416667                      2.9             20.7   \n",
       "9              29.625000                      4.2             14.3   \n",
       "10             37.541667                      5.4             11.1   \n",
       "11             50.416667                      7.2              8.3   \n",
       "12             65.666667                      9.4              6.4   \n",
       "13             33.416667                      4.8             12.5   \n",
       "14             41.791667                      6.0             10.0   \n",
       "15             67.125000                      9.6              6.2   \n",
       "16             24.000000                      3.4             17.6   \n",
       "17             39.000000                      5.6             10.7   \n",
       "18             76.541667                     10.9              5.5   \n",
       "19             36.791667                      5.3             11.3   \n",
       "20             58.166667                      8.3              7.2   \n",
       "21             44.250000                      6.3              9.5   \n",
       "22             40.875000                      5.8             10.3   \n",
       "23             20.250000                      2.9             20.7   \n",
       "\n",
       "    route_time_seconds  route_time_minutes  Avg_num_trains_running  \n",
       "0                 3408                56.8                     8.4  \n",
       "1                 5744                95.7                    10.2  \n",
       "2                 3461                57.7                     5.6  \n",
       "3                 4141                69.0                     8.2  \n",
       "4                 3317                55.3                     5.7  \n",
       "5                 3445                57.4                     9.8  \n",
       "6                 2245                37.4                     7.5  \n",
       "7                 4850                80.8                     9.8  \n",
       "8                 4303                71.7                     3.5  \n",
       "9                 4079                68.0                     4.8  \n",
       "10                5598                93.3                     8.4  \n",
       "11                3248                54.1                     6.5  \n",
       "12                4148                69.1                    10.8  \n",
       "13                 405                 6.8                     0.5  \n",
       "14                2086                34.8                     3.5  \n",
       "15                  90                 1.5                     0.2  \n",
       "16                 602                10.0                     0.6  \n",
       "17                3195                53.2                     5.0  \n",
       "18                2235                37.2                     6.8  \n",
       "19                1701                28.4                     2.5  \n",
       "20                4186                69.8                     9.7  \n",
       "21                3847                64.1                     6.7  \n",
       "22                4727                78.8                     7.6  \n",
       "23                2418                40.3                     1.9  "
      ]
     },
     "execution_count": 278,
     "metadata": {},
     "output_type": "execute_result"
    }
   ],
   "source": [
    "daily_route_trip_freq"
   ]
  },
  {
   "cell_type": "markdown",
   "metadata": {},
   "source": [
    "## Creating the Lines"
   ]
  },
  {
   "cell_type": "code",
   "execution_count": null,
   "metadata": {
    "code_folding": []
   },
   "outputs": [],
   "source": [
    "## I just need to connect stations and have accompanying information"
   ]
  },
  {
   "cell_type": "code",
   "execution_count": 66,
   "metadata": {
    "ExecuteTime": {
     "end_time": "2024-01-30T20:57:29.453806Z",
     "start_time": "2024-01-30T20:57:29.360961Z"
    }
   },
   "outputs": [],
   "source": [
    "shapes_df['lat_lon'] = list(zip(round(shapes_df['shape_pt_lat'], 6), round(shapes_df['shape_pt_lon'], 6)))"
   ]
  },
  {
   "cell_type": "code",
   "execution_count": 67,
   "metadata": {
    "ExecuteTime": {
     "end_time": "2024-01-30T20:57:30.988068Z",
     "start_time": "2024-01-30T20:57:30.054617Z"
    }
   },
   "outputs": [
    {
     "name": "stderr",
     "output_type": "stream",
     "text": [
      "/Users/gregfeliu/opt/anaconda3/envs/learn-env/lib/python3.6/site-packages/ipykernel_launcher.py:5: SettingWithCopyWarning: \n",
      "A value is trying to be set on a copy of a slice from a DataFrame.\n",
      "Try using .loc[row_indexer,col_indexer] = value instead\n",
      "\n",
      "See the caveats in the documentation: https://pandas.pydata.org/pandas-docs/stable/user_guide/indexing.html#returning-a-view-versus-a-copy\n",
      "  \"\"\"\n"
     ]
    }
   ],
   "source": [
    "# less than half as many rows now\n",
    "shapes_df_unique = shapes_df[shapes_df['shape_id'].str.contains(\".S\")]\n",
    "\n",
    "shape_route_dict = dict(zip(trips_df['shape_id'], trips_df['route_id']))\n",
    "shapes_df_unique['route_id'] = shapes_df_unique['shape_id'].replace(shape_route_dict)\n",
    "\n",
    "shapes_df_unique['route_id_len'] = [len(x) for x in shapes_df_unique['route_id']]\n",
    "# removing shapes that aren't in the current dataset \n",
    "shapes_df_unique = shapes_df_unique[shapes_df_unique['route_id_len'] <= 2]"
   ]
  },
  {
   "cell_type": "markdown",
   "metadata": {},
   "source": [
    "## Station (Complex) Data"
   ]
  },
  {
   "cell_type": "markdown",
   "metadata": {},
   "source": [
    "### Grouping at Station Complex Level"
   ]
  },
  {
   "cell_type": "code",
   "execution_count": 129,
   "metadata": {
    "ExecuteTime": {
     "end_time": "2024-01-30T21:05:29.337493Z",
     "start_time": "2024-01-30T21:05:29.328892Z"
    }
   },
   "outputs": [
    {
     "name": "stderr",
     "output_type": "stream",
     "text": [
      "/Users/gregfeliu/opt/anaconda3/envs/learn-env/lib/python3.6/site-packages/ipykernel_launcher.py:5: SettingWithCopyWarning: \n",
      "A value is trying to be set on a copy of a slice from a DataFrame.\n",
      "Try using .loc[row_indexer,col_indexer] = value instead\n",
      "\n",
      "See the caveats in the documentation: https://pandas.pydata.org/pandas-docs/stable/user_guide/indexing.html#returning-a-view-versus-a-copy\n",
      "  \"\"\"\n"
     ]
    }
   ],
   "source": [
    "# I can find the lines that connect each station\n",
    "## I would need to further combine them to equal the service pattern\n",
    "parent_stops_df = stops_df_supplemented[stops_df_supplemented['parent_station'].isnull()==True]\n",
    "parent_stops_df['lat_lon'] = list(zip(round(parent_stops_df['stop_lat'], 6)\n",
    "                                      , round(parent_stops_df['stop_lon'], 6)))"
   ]
  },
  {
   "cell_type": "code",
   "execution_count": 130,
   "metadata": {
    "ExecuteTime": {
     "end_time": "2024-01-30T21:05:31.057582Z",
     "start_time": "2024-01-30T21:05:30.589419Z"
    }
   },
   "outputs": [],
   "source": [
    "stop_times_df['route_id'] = [x.split(\"_\")[-1].split('.')[0] \n",
    "                                        for x in stop_times_df['trip_id']]\n",
    "stop_times_df['parent_stop_id'] = [x[0:-1] for x in stop_times_df['stop_id']]"
   ]
  },
  {
   "cell_type": "code",
   "execution_count": 131,
   "metadata": {
    "ExecuteTime": {
     "end_time": "2024-01-30T21:05:32.241261Z",
     "start_time": "2024-01-30T21:05:32.239089Z"
    }
   },
   "outputs": [],
   "source": [
    "# I'll need to group each segment (between stations)\n",
    "# identify which lines use that segment\n",
    "# add up the number of trains that use that segment \n",
    "# scale the width of that segment to the number of trains per hour "
   ]
  },
  {
   "cell_type": "code",
   "execution_count": 132,
   "metadata": {
    "ExecuteTime": {
     "end_time": "2024-01-30T21:06:26.200057Z",
     "start_time": "2024-01-30T21:05:33.418144Z"
    }
   },
   "outputs": [],
   "source": [
    "train_time_interval_list = []\n",
    "for idx, row in stop_times_df.iterrows():\n",
    "    train_time_interval = determine_train_time_intervals(row['arrival_time'], row['day_of_week'])\n",
    "    train_time_interval_list.append(train_time_interval)\n",
    "stop_times_df['train_time_interval'] = train_time_interval_list"
   ]
  },
  {
   "cell_type": "code",
   "execution_count": 133,
   "metadata": {
    "ExecuteTime": {
     "end_time": "2024-01-30T21:06:27.486992Z",
     "start_time": "2024-01-30T21:06:27.363322Z"
    }
   },
   "outputs": [],
   "source": [
    "# trains per hour during weekdays \n",
    "# this includes both directions so I'm dividing by 2 to make it \"per direction\"\n",
    "trains_per_weekday_hour_by_station = round(stop_times_df[stop_times_df['day_of_week'] == 'Weekday'\n",
    "                                                  ].groupby('parent_stop_id').count() / 24 / 2, 2)[['trip_id']]\n",
    "trains_per_weekday_hour_by_station.reset_index(inplace=True)"
   ]
  },
  {
   "cell_type": "code",
   "execution_count": 134,
   "metadata": {
    "ExecuteTime": {
     "end_time": "2024-01-30T21:06:28.652751Z",
     "start_time": "2024-01-30T21:06:28.643340Z"
    }
   },
   "outputs": [],
   "source": [
    "trains_per_weekday_hour_by_complex = trains_per_weekday_hour_by_station.merge(\n",
    "                                right=stations_info_df_exploded[['Complex ID', 'GTFS_Stop_IDs_Listed', ]]\n",
    "                                , how='outer', left_on='parent_stop_id', right_on='GTFS_Stop_IDs_Listed')\n",
    "trains_per_weekday_hour_by_complex = trains_per_weekday_hour_by_complex.groupby('Complex ID').sum().reset_index()"
   ]
  },
  {
   "cell_type": "code",
   "execution_count": 135,
   "metadata": {
    "ExecuteTime": {
     "end_time": "2024-01-30T21:06:29.836213Z",
     "start_time": "2024-01-30T21:06:29.823778Z"
    }
   },
   "outputs": [],
   "source": [
    "trains_per_weekday_hour_by_complex_all_info = trains_per_weekday_hour_by_complex.merge(stations_info_df_exploded.drop(columns=\"Is Complex\")\n",
    "                                                              , how='outer')\n",
    "trains_per_weekday_hour_by_complex_all_info.drop_duplicates(subset='Complex ID', inplace=True)"
   ]
  },
  {
   "cell_type": "code",
   "execution_count": 138,
   "metadata": {
    "ExecuteTime": {
     "end_time": "2024-01-30T21:08:36.793078Z",
     "start_time": "2024-01-30T21:08:36.788469Z"
    }
   },
   "outputs": [],
   "source": [
    "trains_per_weekday_hour_by_complex_all_info.columns = ['Complex ID', 'tph', 'Number Of Stations In Complex'\n",
    "                                                       , 'Stop Name',\n",
    "                                               'Display Name', 'Constituent Station Names', 'Station IDs',\n",
    "                                               'GTFS Stop IDs', 'Borough', 'Daytime Routes', 'Structure Type',\n",
    "                                               'Latitude', 'Longitude', 'GTFS_Stop_IDs_Listed']"
   ]
  },
  {
   "cell_type": "code",
   "execution_count": 139,
   "metadata": {
    "ExecuteTime": {
     "end_time": "2024-01-30T21:08:43.255564Z",
     "start_time": "2024-01-30T21:08:43.237058Z"
    }
   },
   "outputs": [
    {
     "data": {
      "text/html": [
       "<div>\n",
       "<style scoped>\n",
       "    .dataframe tbody tr th:only-of-type {\n",
       "        vertical-align: middle;\n",
       "    }\n",
       "\n",
       "    .dataframe tbody tr th {\n",
       "        vertical-align: top;\n",
       "    }\n",
       "\n",
       "    .dataframe thead th {\n",
       "        text-align: right;\n",
       "    }\n",
       "</style>\n",
       "<table border=\"1\" class=\"dataframe\">\n",
       "  <thead>\n",
       "    <tr style=\"text-align: right;\">\n",
       "      <th></th>\n",
       "      <th>Complex ID</th>\n",
       "      <th>tph</th>\n",
       "      <th>Number Of Stations In Complex</th>\n",
       "      <th>Stop Name</th>\n",
       "      <th>Display Name</th>\n",
       "      <th>Constituent Station Names</th>\n",
       "      <th>Station IDs</th>\n",
       "      <th>GTFS Stop IDs</th>\n",
       "      <th>Borough</th>\n",
       "      <th>Daytime Routes</th>\n",
       "      <th>Structure Type</th>\n",
       "      <th>Latitude</th>\n",
       "      <th>Longitude</th>\n",
       "      <th>GTFS_Stop_IDs_Listed</th>\n",
       "    </tr>\n",
       "  </thead>\n",
       "  <tbody>\n",
       "    <tr>\n",
       "      <th>440</th>\n",
       "      <td>611</td>\n",
       "      <td>88.59</td>\n",
       "      <td>5</td>\n",
       "      <td>Times Sq-42 St/Port Authority Bus Terminal</td>\n",
       "      <td>Times Sq-42 St/Port Authority Bus Terminal (1 ...</td>\n",
       "      <td>42 St-Port Authority Bus Terminal; Times Sq-42 St</td>\n",
       "      <td>11; 163; 317; 467; 468</td>\n",
       "      <td>127; 725; 902; A27; R16</td>\n",
       "      <td>M</td>\n",
       "      <td>1 2 3 7 A C E N Q R W S</td>\n",
       "      <td>Subway</td>\n",
       "      <td>40.755746</td>\n",
       "      <td>-73.987581</td>\n",
       "      <td>127</td>\n",
       "    </tr>\n",
       "    <tr>\n",
       "      <th>419</th>\n",
       "      <td>602</td>\n",
       "      <td>58.22</td>\n",
       "      <td>3</td>\n",
       "      <td>14 St-Union Sq</td>\n",
       "      <td>14 St-Union Sq (4 5 6 L N Q R W)</td>\n",
       "      <td>14 St-Union Sq</td>\n",
       "      <td>15; 117; 406</td>\n",
       "      <td>635; L03; R20</td>\n",
       "      <td>M</td>\n",
       "      <td>4 5 6 L N Q R W</td>\n",
       "      <td>Subway</td>\n",
       "      <td>40.735066</td>\n",
       "      <td>-73.990416</td>\n",
       "      <td>635</td>\n",
       "    </tr>\n",
       "    <tr>\n",
       "      <th>455</th>\n",
       "      <td>617</td>\n",
       "      <td>53.46</td>\n",
       "      <td>3</td>\n",
       "      <td>Atlantic Av-Barclays Ctr</td>\n",
       "      <td>Atlantic Av-Barclays Ctr (2 3 4 5 B D N Q R)</td>\n",
       "      <td>Atlantic Av-Barclays Ctr</td>\n",
       "      <td>27; 40; 338</td>\n",
       "      <td>235; D24; R31</td>\n",
       "      <td>Bk</td>\n",
       "      <td>2 3 4 5 B D N Q R</td>\n",
       "      <td>Subway</td>\n",
       "      <td>40.684162</td>\n",
       "      <td>-73.977789</td>\n",
       "      <td>235</td>\n",
       "    </tr>\n",
       "  </tbody>\n",
       "</table>\n",
       "</div>"
      ],
      "text/plain": [
       "     Complex ID    tph  Number Of Stations In Complex  \\\n",
       "440         611  88.59                              5   \n",
       "419         602  58.22                              3   \n",
       "455         617  53.46                              3   \n",
       "\n",
       "                                      Stop Name  \\\n",
       "440  Times Sq-42 St/Port Authority Bus Terminal   \n",
       "419                              14 St-Union Sq   \n",
       "455                    Atlantic Av-Barclays Ctr   \n",
       "\n",
       "                                          Display Name  \\\n",
       "440  Times Sq-42 St/Port Authority Bus Terminal (1 ...   \n",
       "419                   14 St-Union Sq (4 5 6 L N Q R W)   \n",
       "455       Atlantic Av-Barclays Ctr (2 3 4 5 B D N Q R)   \n",
       "\n",
       "                             Constituent Station Names  \\\n",
       "440  42 St-Port Authority Bus Terminal; Times Sq-42 St   \n",
       "419                                     14 St-Union Sq   \n",
       "455                           Atlantic Av-Barclays Ctr   \n",
       "\n",
       "                Station IDs            GTFS Stop IDs Borough  \\\n",
       "440  11; 163; 317; 467; 468  127; 725; 902; A27; R16       M   \n",
       "419            15; 117; 406            635; L03; R20       M   \n",
       "455             27; 40; 338            235; D24; R31      Bk   \n",
       "\n",
       "              Daytime Routes Structure Type   Latitude  Longitude  \\\n",
       "440  1 2 3 7 A C E N Q R W S         Subway  40.755746 -73.987581   \n",
       "419          4 5 6 L N Q R W         Subway  40.735066 -73.990416   \n",
       "455        2 3 4 5 B D N Q R         Subway  40.684162 -73.977789   \n",
       "\n",
       "    GTFS_Stop_IDs_Listed  \n",
       "440                  127  \n",
       "419                  635  \n",
       "455                  235  "
      ]
     },
     "execution_count": 139,
     "metadata": {},
     "output_type": "execute_result"
    }
   ],
   "source": [
    "trains_per_weekday_hour_by_complex_all_info.sort_values(by='tph', ascending=False)[0:3]"
   ]
  },
  {
   "cell_type": "code",
   "execution_count": 123,
   "metadata": {
    "ExecuteTime": {
     "end_time": "2024-01-30T21:04:12.195693Z",
     "start_time": "2024-01-30T21:04:12.193750Z"
    }
   },
   "outputs": [],
   "source": [
    "# trains_per_weekday_hour_by_complex_all_info['trip_id'].sort_values(ascending=False).plot(kind='bar')"
   ]
  },
  {
   "cell_type": "code",
   "execution_count": 140,
   "metadata": {
    "ExecuteTime": {
     "end_time": "2024-01-30T21:08:53.262539Z",
     "start_time": "2024-01-30T21:08:53.257126Z"
    }
   },
   "outputs": [],
   "source": [
    "# mean wait time should be tph / number of stations in complex\n",
    "# (if 80 trains come in an hour the wait time isnt really 45 sec)\n",
    "## -- wait time only makes sense at the station level because of this \n",
    "trains_per_weekday_hour_by_station['mean_wait_time_min'] = round(60 / \\\n",
    "                                                            trains_per_weekday_hour_by_station['trip_id'], 1)"
   ]
  },
  {
   "cell_type": "markdown",
   "metadata": {},
   "source": [
    "### Adding Ridership to each Station/Station Complex "
   ]
  },
  {
   "cell_type": "code",
   "execution_count": 141,
   "metadata": {
    "ExecuteTime": {
     "end_time": "2024-01-30T21:09:06.995929Z",
     "start_time": "2024-01-30T21:09:06.984169Z"
    },
    "scrolled": true
   },
   "outputs": [
    {
     "data": {
      "text/html": [
       "<div>\n",
       "<style scoped>\n",
       "    .dataframe tbody tr th:only-of-type {\n",
       "        vertical-align: middle;\n",
       "    }\n",
       "\n",
       "    .dataframe tbody tr th {\n",
       "        vertical-align: top;\n",
       "    }\n",
       "\n",
       "    .dataframe thead th {\n",
       "        text-align: right;\n",
       "    }\n",
       "</style>\n",
       "<table border=\"1\" class=\"dataframe\">\n",
       "  <thead>\n",
       "    <tr style=\"text-align: right;\">\n",
       "      <th></th>\n",
       "      <th>station_complex_id</th>\n",
       "      <th>transit_timestamp</th>\n",
       "      <th>ridership</th>\n",
       "      <th>time_as_datetime</th>\n",
       "      <th>departure_hour</th>\n",
       "      <th>departure_day</th>\n",
       "    </tr>\n",
       "  </thead>\n",
       "  <tbody>\n",
       "    <tr>\n",
       "      <th>0</th>\n",
       "      <td>1</td>\n",
       "      <td>01/08/2024 01:00:00 AM</td>\n",
       "      <td>8</td>\n",
       "      <td>2024-01-08 01:00:00</td>\n",
       "      <td>1</td>\n",
       "      <td>0</td>\n",
       "    </tr>\n",
       "    <tr>\n",
       "      <th>1</th>\n",
       "      <td>1</td>\n",
       "      <td>01/08/2024 01:00:00 PM</td>\n",
       "      <td>450</td>\n",
       "      <td>2024-01-08 13:00:00</td>\n",
       "      <td>13</td>\n",
       "      <td>0</td>\n",
       "    </tr>\n",
       "  </tbody>\n",
       "</table>\n",
       "</div>"
      ],
      "text/plain": [
       "   station_complex_id       transit_timestamp  ridership    time_as_datetime  \\\n",
       "0                   1  01/08/2024 01:00:00 AM          8 2024-01-08 01:00:00   \n",
       "1                   1  01/08/2024 01:00:00 PM        450 2024-01-08 13:00:00   \n",
       "\n",
       "   departure_hour  departure_day  \n",
       "0               1              0  \n",
       "1              13              0  "
      ]
     },
     "execution_count": 141,
     "metadata": {},
     "output_type": "execute_result"
    }
   ],
   "source": [
    "# grouping to the weekday avg. hourly ridership by complex\n",
    "hourly_station_ridership.head(2)"
   ]
  },
  {
   "cell_type": "code",
   "execution_count": 142,
   "metadata": {
    "ExecuteTime": {
     "end_time": "2024-01-30T21:09:10.229552Z",
     "start_time": "2024-01-30T21:09:10.216215Z"
    }
   },
   "outputs": [],
   "source": [
    "# adding the time data \n",
    "hourly_station_ridership['departure_hour'] = hourly_station_ridership['time_as_datetime'].dt.hour\n",
    "hourly_station_ridership['departure_day'] = hourly_station_ridership['time_as_datetime'].dt.weekday"
   ]
  },
  {
   "cell_type": "code",
   "execution_count": 143,
   "metadata": {
    "ExecuteTime": {
     "end_time": "2024-01-30T21:09:14.801853Z",
     "start_time": "2024-01-30T21:09:14.789894Z"
    }
   },
   "outputs": [],
   "source": [
    "hourly_station_ridership_weekday = hourly_station_ridership[hourly_station_ridership['departure_day'] < 5]"
   ]
  },
  {
   "cell_type": "code",
   "execution_count": 144,
   "metadata": {
    "ExecuteTime": {
     "end_time": "2024-01-30T21:09:50.613326Z",
     "start_time": "2024-01-30T21:09:50.592015Z"
    }
   },
   "outputs": [],
   "source": [
    "hourly_station_ridership_weekday_grouped = hourly_station_ridership_weekday.groupby(\n",
    "                                        ['station_complex_id', 'departure_hour']).sum().reset_index()\n",
    "hourly_station_ridership_weekday_grouped.drop(columns='departure_day', inplace=True)\n",
    "# making it to be the average weekday\n",
    "hourly_station_ridership_weekday_grouped['ridership'] = hourly_station_ridership_weekday_grouped['ridership'] / 5"
   ]
  },
  {
   "cell_type": "code",
   "execution_count": 145,
   "metadata": {
    "ExecuteTime": {
     "end_time": "2024-01-30T21:09:51.839888Z",
     "start_time": "2024-01-30T21:09:51.832163Z"
    }
   },
   "outputs": [],
   "source": [
    "daily_weekday_ridership = hourly_station_ridership_weekday_grouped.groupby('station_complex_id').sum().reset_index()\n",
    "daily_weekday_ridership.drop(columns='departure_hour', inplace=True)"
   ]
  },
  {
   "cell_type": "markdown",
   "metadata": {},
   "source": [
    "### Combining the two"
   ]
  },
  {
   "cell_type": "code",
   "execution_count": 146,
   "metadata": {
    "ExecuteTime": {
     "end_time": "2024-01-30T21:09:55.490492Z",
     "start_time": "2024-01-30T21:09:55.481346Z"
    }
   },
   "outputs": [],
   "source": [
    "station_complex_full_info = trains_per_weekday_hour_by_complex_all_info.merge(daily_weekday_ridership\n",
    "                                                , left_on='Complex ID'\n",
    "                                                 , right_on='station_complex_id', how='inner')"
   ]
  },
  {
   "cell_type": "code",
   "execution_count": 148,
   "metadata": {
    "ExecuteTime": {
     "end_time": "2024-01-30T21:10:07.597327Z",
     "start_time": "2024-01-30T21:10:07.591970Z"
    }
   },
   "outputs": [],
   "source": [
    "# getting the riders per hour per train\n",
    "station_complex_full_info['ridership_per_train'] = round((station_complex_full_info['ridership'])\\\n",
    "                                                    / station_complex_full_info['tph'])"
   ]
  },
  {
   "cell_type": "code",
   "execution_count": 149,
   "metadata": {
    "ExecuteTime": {
     "end_time": "2024-01-30T21:10:08.856011Z",
     "start_time": "2024-01-30T21:10:08.852887Z"
    }
   },
   "outputs": [],
   "source": [
    "station_complex_full_info.columns = ['Complex_ID', 'tph', 'Number Of Stations In Complex', 'Stop Name',\n",
    "       'Display Name', 'Constituent Station Names', 'Station IDs',\n",
    "       'GTFS Stop IDs', 'Borough', 'Daytime Routes', 'Structure Type',\n",
    "       'Latitude', 'Longitude', 'GTFS_Stop_IDs_Listed', 'station_complex_id',\n",
    "       'ridership', 'ridership_per_train']"
   ]
  },
  {
   "cell_type": "code",
   "execution_count": 154,
   "metadata": {
    "ExecuteTime": {
     "end_time": "2024-01-30T21:11:35.507109Z",
     "start_time": "2024-01-30T21:11:35.483594Z"
    },
    "scrolled": false
   },
   "outputs": [
    {
     "data": {
      "text/html": [
       "<div>\n",
       "<style scoped>\n",
       "    .dataframe tbody tr th:only-of-type {\n",
       "        vertical-align: middle;\n",
       "    }\n",
       "\n",
       "    .dataframe tbody tr th {\n",
       "        vertical-align: top;\n",
       "    }\n",
       "\n",
       "    .dataframe thead th {\n",
       "        text-align: right;\n",
       "    }\n",
       "</style>\n",
       "<table border=\"1\" class=\"dataframe\">\n",
       "  <thead>\n",
       "    <tr style=\"text-align: right;\">\n",
       "      <th></th>\n",
       "      <th>Complex_ID</th>\n",
       "      <th>tph</th>\n",
       "      <th>Number Of Stations In Complex</th>\n",
       "      <th>Stop Name</th>\n",
       "      <th>Display Name</th>\n",
       "      <th>Constituent Station Names</th>\n",
       "      <th>Station IDs</th>\n",
       "      <th>GTFS Stop IDs</th>\n",
       "      <th>Borough</th>\n",
       "      <th>Daytime Routes</th>\n",
       "      <th>Structure Type</th>\n",
       "      <th>Latitude</th>\n",
       "      <th>Longitude</th>\n",
       "      <th>GTFS_Stop_IDs_Listed</th>\n",
       "      <th>station_complex_id</th>\n",
       "      <th>ridership</th>\n",
       "      <th>ridership_per_train</th>\n",
       "    </tr>\n",
       "  </thead>\n",
       "  <tbody>\n",
       "    <tr>\n",
       "      <th>372</th>\n",
       "      <td>447</td>\n",
       "      <td>12.23</td>\n",
       "      <td>1</td>\n",
       "      <td>Flushing-Main St</td>\n",
       "      <td>Flushing-Main St (7)</td>\n",
       "      <td>Flushing-Main St</td>\n",
       "      <td>447</td>\n",
       "      <td>701</td>\n",
       "      <td>Q</td>\n",
       "      <td>7</td>\n",
       "      <td>Subway</td>\n",
       "      <td>40.759600</td>\n",
       "      <td>-73.830030</td>\n",
       "      <td>701</td>\n",
       "      <td>447</td>\n",
       "      <td>42473.6</td>\n",
       "      <td>3473.0</td>\n",
       "    </tr>\n",
       "    <tr>\n",
       "      <th>391</th>\n",
       "      <td>477</td>\n",
       "      <td>6.83</td>\n",
       "      <td>1</td>\n",
       "      <td>72 St</td>\n",
       "      <td>72 St (Q)</td>\n",
       "      <td>72 St</td>\n",
       "      <td>477</td>\n",
       "      <td>Q03</td>\n",
       "      <td>M</td>\n",
       "      <td>Q</td>\n",
       "      <td>Subway</td>\n",
       "      <td>40.768799</td>\n",
       "      <td>-73.958424</td>\n",
       "      <td>Q03</td>\n",
       "      <td>477</td>\n",
       "      <td>21147.2</td>\n",
       "      <td>3096.0</td>\n",
       "    </tr>\n",
       "    <tr>\n",
       "      <th>130</th>\n",
       "      <td>164</td>\n",
       "      <td>20.04</td>\n",
       "      <td>1</td>\n",
       "      <td>34 St-Penn Station</td>\n",
       "      <td>34 St-Penn Station (A C E)</td>\n",
       "      <td>34 St-Penn Station</td>\n",
       "      <td>164</td>\n",
       "      <td>A28</td>\n",
       "      <td>M</td>\n",
       "      <td>A C E</td>\n",
       "      <td>Subway</td>\n",
       "      <td>40.752287</td>\n",
       "      <td>-73.993391</td>\n",
       "      <td>A28</td>\n",
       "      <td>164</td>\n",
       "      <td>53170.4</td>\n",
       "      <td>2653.0</td>\n",
       "    </tr>\n",
       "    <tr>\n",
       "      <th>390</th>\n",
       "      <td>476</td>\n",
       "      <td>6.83</td>\n",
       "      <td>1</td>\n",
       "      <td>86 St</td>\n",
       "      <td>86 St (Q)</td>\n",
       "      <td>86 St</td>\n",
       "      <td>476</td>\n",
       "      <td>Q04</td>\n",
       "      <td>M</td>\n",
       "      <td>Q</td>\n",
       "      <td>Subway</td>\n",
       "      <td>40.777891</td>\n",
       "      <td>-73.951787</td>\n",
       "      <td>Q04</td>\n",
       "      <td>476</td>\n",
       "      <td>15822.2</td>\n",
       "      <td>2317.0</td>\n",
       "    </tr>\n",
       "    <tr>\n",
       "      <th>262</th>\n",
       "      <td>318</td>\n",
       "      <td>21.75</td>\n",
       "      <td>1</td>\n",
       "      <td>34 St-Penn Station</td>\n",
       "      <td>34 St-Penn Station (1 2 3)</td>\n",
       "      <td>34 St-Penn Station</td>\n",
       "      <td>318</td>\n",
       "      <td>128</td>\n",
       "      <td>M</td>\n",
       "      <td>1 2 3</td>\n",
       "      <td>Subway</td>\n",
       "      <td>40.750373</td>\n",
       "      <td>-73.991057</td>\n",
       "      <td>128</td>\n",
       "      <td>318</td>\n",
       "      <td>45506.8</td>\n",
       "      <td>2092.0</td>\n",
       "    </tr>\n",
       "    <tr>\n",
       "      <th>401</th>\n",
       "      <td>610</td>\n",
       "      <td>48.92</td>\n",
       "      <td>3</td>\n",
       "      <td>Grand Central-42 St</td>\n",
       "      <td>Grand Central-42 St (4 5 6 7 S)</td>\n",
       "      <td>Grand Central-42 St</td>\n",
       "      <td>402; 465; 469</td>\n",
       "      <td>631; 723; 901</td>\n",
       "      <td>M</td>\n",
       "      <td>4 5 6 7 S</td>\n",
       "      <td>Subway</td>\n",
       "      <td>40.751992</td>\n",
       "      <td>-73.977359</td>\n",
       "      <td>631</td>\n",
       "      <td>610</td>\n",
       "      <td>102202.8</td>\n",
       "      <td>2089.0</td>\n",
       "    </tr>\n",
       "    <tr>\n",
       "      <th>95</th>\n",
       "      <td>120</td>\n",
       "      <td>11.38</td>\n",
       "      <td>1</td>\n",
       "      <td>Bedford Av</td>\n",
       "      <td>Bedford Av (L)</td>\n",
       "      <td>Bedford Av</td>\n",
       "      <td>120</td>\n",
       "      <td>L08</td>\n",
       "      <td>Bk</td>\n",
       "      <td>L</td>\n",
       "      <td>Subway</td>\n",
       "      <td>40.717304</td>\n",
       "      <td>-73.956872</td>\n",
       "      <td>L08</td>\n",
       "      <td>120</td>\n",
       "      <td>22198.6</td>\n",
       "      <td>1951.0</td>\n",
       "    </tr>\n",
       "    <tr>\n",
       "      <th>375</th>\n",
       "      <td>450</td>\n",
       "      <td>11.15</td>\n",
       "      <td>1</td>\n",
       "      <td>103 St-Corona Plaza</td>\n",
       "      <td>103 St-Corona Plaza (7)</td>\n",
       "      <td>103 St-Corona Plaza</td>\n",
       "      <td>450</td>\n",
       "      <td>706</td>\n",
       "      <td>Q</td>\n",
       "      <td>7</td>\n",
       "      <td>Elevated</td>\n",
       "      <td>40.749865</td>\n",
       "      <td>-73.862700</td>\n",
       "      <td>706</td>\n",
       "      <td>450</td>\n",
       "      <td>20764.2</td>\n",
       "      <td>1862.0</td>\n",
       "    </tr>\n",
       "    <tr>\n",
       "      <th>333</th>\n",
       "      <td>398</td>\n",
       "      <td>12.06</td>\n",
       "      <td>1</td>\n",
       "      <td>77 St</td>\n",
       "      <td>77 St (6)</td>\n",
       "      <td>77 St</td>\n",
       "      <td>398</td>\n",
       "      <td>627</td>\n",
       "      <td>M</td>\n",
       "      <td>6</td>\n",
       "      <td>Subway</td>\n",
       "      <td>40.773620</td>\n",
       "      <td>-73.959874</td>\n",
       "      <td>627</td>\n",
       "      <td>398</td>\n",
       "      <td>21171.8</td>\n",
       "      <td>1756.0</td>\n",
       "    </tr>\n",
       "    <tr>\n",
       "      <th>185</th>\n",
       "      <td>231</td>\n",
       "      <td>9.75</td>\n",
       "      <td>1</td>\n",
       "      <td>Grand St</td>\n",
       "      <td>Grand St (B D)</td>\n",
       "      <td>Grand St</td>\n",
       "      <td>231</td>\n",
       "      <td>D22</td>\n",
       "      <td>M</td>\n",
       "      <td>B D</td>\n",
       "      <td>Subway</td>\n",
       "      <td>40.718267</td>\n",
       "      <td>-73.993753</td>\n",
       "      <td>D22</td>\n",
       "      <td>231</td>\n",
       "      <td>16944.2</td>\n",
       "      <td>1738.0</td>\n",
       "    </tr>\n",
       "  </tbody>\n",
       "</table>\n",
       "</div>"
      ],
      "text/plain": [
       "     Complex_ID    tph  Number Of Stations In Complex            Stop Name  \\\n",
       "372         447  12.23                              1     Flushing-Main St   \n",
       "391         477   6.83                              1                72 St   \n",
       "130         164  20.04                              1   34 St-Penn Station   \n",
       "390         476   6.83                              1                86 St   \n",
       "262         318  21.75                              1   34 St-Penn Station   \n",
       "401         610  48.92                              3  Grand Central-42 St   \n",
       "95          120  11.38                              1           Bedford Av   \n",
       "375         450  11.15                              1  103 St-Corona Plaza   \n",
       "333         398  12.06                              1                77 St   \n",
       "185         231   9.75                              1             Grand St   \n",
       "\n",
       "                        Display Name Constituent Station Names    Station IDs  \\\n",
       "372             Flushing-Main St (7)          Flushing-Main St            447   \n",
       "391                        72 St (Q)                     72 St            477   \n",
       "130       34 St-Penn Station (A C E)        34 St-Penn Station            164   \n",
       "390                        86 St (Q)                     86 St            476   \n",
       "262       34 St-Penn Station (1 2 3)        34 St-Penn Station            318   \n",
       "401  Grand Central-42 St (4 5 6 7 S)       Grand Central-42 St  402; 465; 469   \n",
       "95                    Bedford Av (L)                Bedford Av            120   \n",
       "375          103 St-Corona Plaza (7)       103 St-Corona Plaza            450   \n",
       "333                        77 St (6)                     77 St            398   \n",
       "185                   Grand St (B D)                  Grand St            231   \n",
       "\n",
       "     GTFS Stop IDs Borough Daytime Routes Structure Type   Latitude  \\\n",
       "372            701       Q              7         Subway  40.759600   \n",
       "391            Q03       M              Q         Subway  40.768799   \n",
       "130            A28       M          A C E         Subway  40.752287   \n",
       "390            Q04       M              Q         Subway  40.777891   \n",
       "262            128       M          1 2 3         Subway  40.750373   \n",
       "401  631; 723; 901       M      4 5 6 7 S         Subway  40.751992   \n",
       "95             L08      Bk              L         Subway  40.717304   \n",
       "375            706       Q              7       Elevated  40.749865   \n",
       "333            627       M              6         Subway  40.773620   \n",
       "185            D22       M            B D         Subway  40.718267   \n",
       "\n",
       "     Longitude GTFS_Stop_IDs_Listed  station_complex_id  ridership  \\\n",
       "372 -73.830030                  701                 447    42473.6   \n",
       "391 -73.958424                  Q03                 477    21147.2   \n",
       "130 -73.993391                  A28                 164    53170.4   \n",
       "390 -73.951787                  Q04                 476    15822.2   \n",
       "262 -73.991057                  128                 318    45506.8   \n",
       "401 -73.977359                  631                 610   102202.8   \n",
       "95  -73.956872                  L08                 120    22198.6   \n",
       "375 -73.862700                  706                 450    20764.2   \n",
       "333 -73.959874                  627                 398    21171.8   \n",
       "185 -73.993753                  D22                 231    16944.2   \n",
       "\n",
       "     ridership_per_train  \n",
       "372               3473.0  \n",
       "391               3096.0  \n",
       "130               2653.0  \n",
       "390               2317.0  \n",
       "262               2092.0  \n",
       "401               2089.0  \n",
       "95                1951.0  \n",
       "375               1862.0  \n",
       "333               1756.0  \n",
       "185               1738.0  "
      ]
     },
     "execution_count": 154,
     "metadata": {},
     "output_type": "execute_result"
    }
   ],
   "source": [
    "# station_complex_full_info.sort_values(by='ridership_per_train')[0:10]\n",
    "station_complex_full_info.sort_values(by='ridership_per_train', ascending=False)[0:10]"
   ]
  },
  {
   "cell_type": "markdown",
   "metadata": {},
   "source": [
    "# Saving the Transformed Data"
   ]
  },
  {
   "cell_type": "code",
   "execution_count": 274,
   "metadata": {
    "ExecuteTime": {
     "end_time": "2024-01-30T22:18:29.449061Z",
     "start_time": "2024-01-30T22:18:29.344796Z"
    }
   },
   "outputs": [],
   "source": [
    "first_stop_in_trip.to_csv(\"saved_data/first_stop_in_trip.csv\")\n",
    "route_trip_freq_by_hour.to_csv(\"saved_data/route_trip_freq_by_hour.csv\")\n",
    "first_stop_in_trip_per_day.to_csv(\"saved_data/first_stop_in_trip_per_day.csv\")\n",
    "daily_route_trip_freq.to_csv(\"saved_data/daily_route_trip_freq.csv\")\n",
    "first_stop_in_trip_per_interval.to_csv(\"saved_data/first_stop_in_trip_per_interval.csv\")\n",
    "# avg_trip_time_final.to_csv(\"saved_data/avg_trip_time.csv\")"
   ]
  },
  {
   "cell_type": "code",
   "execution_count": 259,
   "metadata": {
    "ExecuteTime": {
     "end_time": "2024-01-30T22:11:02.723144Z",
     "start_time": "2024-01-30T22:11:02.713444Z"
    }
   },
   "outputs": [],
   "source": [
    "station_complex_full_info.to_csv(\"saved_data/station_complex_full_info.csv\")"
   ]
  },
  {
   "cell_type": "code",
   "execution_count": null,
   "metadata": {},
   "outputs": [],
   "source": []
  }
 ],
 "metadata": {
  "kernelspec": {
   "display_name": "Python [conda env:learn-env] *",
   "language": "python",
   "name": "conda-env-learn-env-py"
  },
  "language_info": {
   "codemirror_mode": {
    "name": "ipython",
    "version": 3
   },
   "file_extension": ".py",
   "mimetype": "text/x-python",
   "name": "python",
   "nbconvert_exporter": "python",
   "pygments_lexer": "ipython3",
   "version": "3.6.9"
  },
  "toc": {
   "base_numbering": 1,
   "nav_menu": {},
   "number_sections": true,
   "sideBar": true,
   "skip_h1_title": false,
   "title_cell": "Table of Contents",
   "title_sidebar": "Contents",
   "toc_cell": false,
   "toc_position": {
    "height": "calc(100% - 180px)",
    "left": "10px",
    "top": "150px",
    "width": "349.728271px"
   },
   "toc_section_display": true,
   "toc_window_display": true
  },
  "varInspector": {
   "cols": {
    "lenName": 16,
    "lenType": 16,
    "lenVar": 40
   },
   "kernels_config": {
    "python": {
     "delete_cmd_postfix": "",
     "delete_cmd_prefix": "del ",
     "library": "var_list.py",
     "varRefreshCmd": "print(var_dic_list())"
    },
    "r": {
     "delete_cmd_postfix": ") ",
     "delete_cmd_prefix": "rm(",
     "library": "var_list.r",
     "varRefreshCmd": "cat(var_dic_list()) "
    }
   },
   "types_to_exclude": [
    "module",
    "function",
    "builtin_function_or_method",
    "instance",
    "_Feature"
   ],
   "window_display": false
  }
 },
 "nbformat": 4,
 "nbformat_minor": 2
}
